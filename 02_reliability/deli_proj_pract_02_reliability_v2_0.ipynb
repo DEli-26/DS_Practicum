{
  "cells": [
    {
      "cell_type": "markdown",
      "metadata": {
        "id": "view-in-github",
        "colab_type": "text"
      },
      "source": [
        "<a href=\"https://colab.research.google.com/github/DEli-26/DS_Practicum/blob/main/02_reliability/deli_proj_pract_02_reliability_v2_0.ipynb\" target=\"_parent\"><img src=\"https://colab.research.google.com/assets/colab-badge.svg\" alt=\"Open In Colab\"/></a>"
      ]
    },
    {
      "cell_type": "markdown",
      "id": "ebcbdfd4",
      "metadata": {
        "id": "ebcbdfd4"
      },
      "source": [
        "<font size=6><b>**Я.Практикум. Проект №2**</b></font>\n",
        "\n",
        "<font size=6><b>**Надежность заемщиков**</b></font>\n",
        "\n",
        "---"
      ]
    },
    {
      "cell_type": "markdown",
      "id": "fa5873aa",
      "metadata": {
        "id": "fa5873aa"
      },
      "source": [
        "# Постановка задачи"
      ]
    },
    {
      "cell_type": "markdown",
      "id": "638862dd",
      "metadata": {
        "id": "638862dd"
      },
      "source": [
        "**Заказчик:** кредитный отдел банка. \n",
        "\n",
        "**Цель:** провести исследования для построения модели кредитного скоринга — специальной системы, которая оценивает способность потенциального заёмщика вернуть кредит банку.\n",
        "\n",
        "**Задачи:** \n",
        "1. определить наличие зависимости между семейным положением и фактом погашения кредита в срок;\n",
        "2. определить наличие зависимости между количеством детей и фактом погашения кредита в срок.\n",
        "\n",
        "**Исходные данные:** статистика о платёжеспособности клиентов."
      ]
    },
    {
      "cell_type": "markdown",
      "id": "21c5838e",
      "metadata": {
        "id": "21c5838e"
      },
      "source": [
        "# Обзор данных"
      ]
    },
    {
      "cell_type": "markdown",
      "id": "ca826894",
      "metadata": {
        "id": "ca826894"
      },
      "source": [
        "Загрузим библиотеки, необходимые для выполнения проекта"
      ]
    },
    {
      "cell_type": "code",
      "execution_count": null,
      "id": "dbc8119c",
      "metadata": {
        "id": "dbc8119c"
      },
      "outputs": [],
      "source": [
        "import pandas as pd\n",
        "import seaborn as sns"
      ]
    },
    {
      "cell_type": "markdown",
      "id": "e5d782d9",
      "metadata": {
        "id": "e5d782d9"
      },
      "source": [
        "Исходные данные находятся в файле `data.csv`. Откроем его и выведем первые 5 строк."
      ]
    },
    {
      "cell_type": "markdown",
      "source": [
        "-- Здесь был код с загрузкой данных --"
      ],
      "metadata": {
        "id": "CeWvgW5ijwxQ"
      },
      "id": "CeWvgW5ijwxQ"
    },
    {
      "cell_type": "markdown",
      "id": "84142f9e",
      "metadata": {
        "id": "84142f9e"
      },
      "source": [
        "Получим общую информацию по изучаемому датасету."
      ]
    },
    {
      "cell_type": "code",
      "execution_count": null,
      "id": "98c8d552",
      "metadata": {
        "scrolled": true,
        "id": "98c8d552",
        "outputId": "28e12514-3226-42f1-95d5-be0372cbed17"
      },
      "outputs": [
        {
          "name": "stdout",
          "output_type": "stream",
          "text": [
            "<class 'pandas.core.frame.DataFrame'>\n",
            "RangeIndex: 21525 entries, 0 to 21524\n",
            "Data columns (total 12 columns):\n",
            " #   Column            Non-Null Count  Dtype  \n",
            "---  ------            --------------  -----  \n",
            " 0   children          21525 non-null  int64  \n",
            " 1   days_employed     19351 non-null  float64\n",
            " 2   dob_years         21525 non-null  int64  \n",
            " 3   education         21525 non-null  object \n",
            " 4   education_id      21525 non-null  int64  \n",
            " 5   family_status     21525 non-null  object \n",
            " 6   family_status_id  21525 non-null  int64  \n",
            " 7   gender            21525 non-null  object \n",
            " 8   income_type       21525 non-null  object \n",
            " 9   debt              21525 non-null  int64  \n",
            " 10  total_income      19351 non-null  float64\n",
            " 11  purpose           21525 non-null  object \n",
            "dtypes: float64(2), int64(5), object(5)\n",
            "memory usage: 2.0+ MB\n"
          ]
        }
      ],
      "source": [
        "df.info()"
      ]
    },
    {
      "cell_type": "markdown",
      "id": "6f0dc6ce",
      "metadata": {
        "id": "6f0dc6ce"
      },
      "source": [
        "Согласно документации, описание столбцов следующее:\n",
        "\n",
        "- `children` — количество детей в семье;\n",
        "- `days_employed` — общий трудовой стаж в днях;\n",
        "- `dob_years` — возраст клиента в годах;\n",
        "- `education` — уровень образования клиента;\n",
        "- `education_id` — идентификатор уровня образования;\n",
        "- `family_status` — семейное положение;\n",
        "- `family_status_id` — идентификатор семейного положения;\n",
        "- `gender` — пол клиента;\n",
        "- `income_type` — тип занятости;\n",
        "- `debt` — имел ли задолженность по возврату кредитов;\n",
        "- `total_income` — ежемесячный доход;\n",
        "- `purpose` — цель получения кредита.\n",
        "\n",
        "Итого в датасете 12 столбцов и 21525 строк. Тип данных вещественный `float64` и текстовый `object`.\n",
        "\n",
        "В датасете проведена категоризация данных по образованию и семейному положению клиентов, что целесообразно использовать при проведении исследования.\n",
        "\n",
        "Размер датасета равен около 2 Мб, что не вызовет вычислительных сложностей с обработкой данных, следовательно, изменение поддтипов данных не требуется.\n",
        "\n",
        "Нарушений стиля в наименовании столбцов нет, их корректировка не требуются. \n",
        "\n",
        "В столбцах `days_employed` и `total_income` содержатся пропуски, а тип данных столбцов `total_income` и `days_employed` не соответствует описанию и для удобства обработки может быть изменен с `float64` на `int64`."
      ]
    },
    {
      "cell_type": "code",
      "execution_count": null,
      "id": "ef660ad6",
      "metadata": {
        "scrolled": true,
        "id": "ef660ad6",
        "outputId": "ca02b089-74ff-4270-aaab-ac0e239d3961"
      },
      "outputs": [
        {
          "name": "stdout",
          "output_type": "stream",
          "text": [
            "Пропусков в столбце 'days_employed': 2174\n",
            "Пропусков в столбце 'total_income': 2174\n"
          ]
        }
      ],
      "source": [
        "cnt_nan_dys_empl = df['days_employed'].isna().sum()\n",
        "cnt_nan_ttl_incm = df['total_income'].isna().sum() \n",
        "print(\"Пропусков в столбце 'days_employed':\", cnt_nan_dys_empl)\n",
        "print(\"Пропусков в столбце 'total_income':\", df['total_income'].isna().sum())"
      ]
    },
    {
      "cell_type": "markdown",
      "id": "92e3c7dc",
      "metadata": {
        "id": "92e3c7dc"
      },
      "source": [
        "Учитывая, что в исходных данных не приведена расшифровка значений в столбце `debt`, определим процентное соотношение значений в нем."
      ]
    },
    {
      "cell_type": "code",
      "execution_count": null,
      "id": "5fb01dab",
      "metadata": {
        "id": "5fb01dab",
        "outputId": "14c1931b-3d7f-4548-b1c2-589ff4e6a354"
      },
      "outputs": [
        {
          "data": {
            "text/plain": [
              "0    0.919117\n",
              "1    0.080883\n",
              "Name: debt, dtype: float64"
            ]
          },
          "execution_count": 5,
          "metadata": {},
          "output_type": "execute_result"
        }
      ],
      "source": [
        "df['debt'].value_counts(normalize=True)"
      ]
    },
    {
      "cell_type": "markdown",
      "id": "c3cd6d8d",
      "metadata": {
        "id": "c3cd6d8d"
      },
      "source": [
        "Так как значений `1` не более 8% от общего количества строк, делаем вывод, что оно означает **наличие** факта задолженности по кредиту."
      ]
    },
    {
      "cell_type": "markdown",
      "id": "91686c83",
      "metadata": {
        "id": "91686c83"
      },
      "source": [
        "**Выводы**\n",
        "\n",
        "В каждой строке таблицы — данные о пользователях банка. Часть колонок описывает сведения о личной жизни пользователя: количество детей, возраст, семейное положение, пол. Остальные данные рассказывают о его карьере и финансовом положении: трудовой стаж, образование, тип занятости,  наличие задолженности по возврату кредитов, доход и цель получения кредита. \n",
        "\n",
        "Предварительно можно утверждать, что, данных достаточно для проверки гипотез. Однако встречаются неправильный тип и пропуски в данных, а также возможно проявление дупликатов и других аномалий. Чтобы двигаться дальше, нужно устранить перечисленные проблемы в данных."
      ]
    },
    {
      "cell_type": "markdown",
      "id": "2e776a03",
      "metadata": {
        "id": "2e776a03"
      },
      "source": [
        "# Предобработка данных"
      ]
    },
    {
      "cell_type": "markdown",
      "id": "005a79c0",
      "metadata": {
        "id": "005a79c0"
      },
      "source": [
        "Проведем предобработку в следующей последовательности:\n",
        "\n",
        "1. аномалии;\n",
        "2. пропуски;\n",
        "3. неявные дупликаты;\n",
        "3. явные дупликаты."
      ]
    },
    {
      "cell_type": "markdown",
      "id": "85e9fe17",
      "metadata": {
        "id": "85e9fe17"
      },
      "source": [
        "## Аномалии"
      ]
    },
    {
      "cell_type": "markdown",
      "id": "52b1911e",
      "metadata": {
        "id": "52b1911e"
      },
      "source": [
        "В датасете содержаться **четыре** аномалии. \n",
        "\n",
        "**Первая** аномалия - это значения в столбце `days_employed`. Ее хорошо видно на диаграмме рассеивания"
      ]
    },
    {
      "cell_type": "code",
      "execution_count": null,
      "id": "650da008",
      "metadata": {
        "id": "650da008",
        "outputId": "35ad4057-1f01-4399-856b-6289d484814d"
      },
      "outputs": [
        {
          "name": "stdout",
          "output_type": "stream",
          "text": [
            "Количество клиентов с отрицательным стажем: 15906 (73.9%)\n",
            "Количество клиентов с положительным стажем: 3445 (16.0%)\n"
          ]
        },
        {
          "data": {
            "text/plain": [
              "<AxesSubplot:xlabel='days_employed', ylabel='dob_years'>"
            ]
          },
          "execution_count": 6,
          "metadata": {},
          "output_type": "execute_result"
        },
        {
          "data": {
            "image/png": "[encoded data removed]",
            "text/plain": [
              "<Figure size 432x288 with 1 Axes>"
            ]
          },
          "metadata": {
            "needs_background": "light"
          },
          "output_type": "display_data"
        }
      ],
      "source": [
        "dys_empl_minus = df.loc[df['days_employed'] <= 0, 'days_employed']\n",
        "dys_empl_plus = df.loc[df['days_employed'] > 0, 'days_employed']\n",
        "print('Количество клиентов с отрицательным стажем:', dys_empl_minus.count(), f'({dys_empl_minus.count()/len(df):.1%})')\n",
        "print('Количество клиентов с положительным стажем:', dys_empl_plus.count(), f'({dys_empl_plus.count()/len(df):.1%})')\n",
        "\n",
        "sns.scatterplot(x=df['days_employed'], y=df['dob_years'])"
      ]
    },
    {
      "cell_type": "markdown",
      "id": "a640328d",
      "metadata": {
        "id": "a640328d"
      },
      "source": [
        "На представленной диаграмме хорошо видно два типа аномальных значений:\n",
        "\n",
        "- отрицательные значения,\n",
        "- большой разрыв в стаже работы клиентов от 0 до примерно 320 000 дней. \n",
        "\n",
        "Первый тип может быть вызван особенностью ввода данных в датасет, согласно которому стаж клиента вычисляется вычитанием из даты начала трудового стажа даты предоставления данных (подачи заявки на кредит).\n",
        "\n",
        "Учитывая, что 320 000 дней соответствует примерно 900 годам, второй тип аномальных значений может свидетельствовать о более серьезном повреждении данных. Для исследования причин последнего, проанализируем, каким категориям по типу дохода (столбец `income_type`) соответствует отрицательный стаж, а каким - положительный. Наиболее наглядный способ такого анализа - построение диаграммы рассеивания."
      ]
    },
    {
      "cell_type": "code",
      "execution_count": null,
      "id": "6848c0bc",
      "metadata": {
        "id": "6848c0bc",
        "outputId": "807d6e0b-7318-4c94-8eab-bb67b26035c7"
      },
      "outputs": [
        {
          "data": {
            "text/plain": [
              "<AxesSubplot:xlabel='days_employed', ylabel='income_type'>"
            ]
          },
          "execution_count": 7,
          "metadata": {},
          "output_type": "execute_result"
        },
        {
          "data": {
            "image/png": "[encoded data removed]",
            "text/plain": [
              "<Figure size 432x288 with 1 Axes>"
            ]
          },
          "metadata": {
            "needs_background": "light"
          },
          "output_type": "display_data"
        }
      ],
      "source": [
        "sns.scatterplot(x=df['days_employed'], y=df['income_type'])"
      ]
    },
    {
      "cell_type": "markdown",
      "id": "648910a4",
      "metadata": {
        "id": "648910a4"
      },
      "source": [
        "Из представленной диаграммы следует, что все клиенты с положительным стажем работы относятся к категории клиентов пенсионеры или безработные, а с отрицательным - к остальным категориям. Согласно полученным результатам можно предположить, что для указанных категорий клиентов может предномеренно завышаться значение стажа работы до нереалистичных значений (320 000 дней соответсвует примерно 900 годам) ввиду их повышенной надежности за счет обеспеченности государственными выплатами. \n",
        "\n",
        "Стоит отметить, что достоверно предположить причину проявления полученных аномалий невозможно, так как для этого следует обратиться к источнику данных за консультацией. \n",
        "\n",
        "Полученные аномалии можно рассматривать, как частный случай пропусков данных. Учитывая, что доход клиентов в большинстве случаев коррелирует с их стажем работы, который, в свою очередь, имеет связь с возрастом, подобные пропуски являются неслучайным явлением (MNAR), следовательно, их исключение существенно повлияет на репрезентативность выборки. Замена аномальных значений стажа средним или медианным значениями всего столбца со стажем изменит статистические свойства датасета и повлияет на точность проводимых исследований. В этой связи, учитывая описанную выше корреляцию, замену пропущенных значений в столбцах `days_employed` проведем на основе имеющихся данных в столбце `dob_years`.  \n",
        "\n",
        "Количество отрицательных стажей примерно в 4,5 раза больше положительных, следовательно, будем считать отрицательные значения стажа реалистичнее положительных. Для обработки данных создадим функцию `repair_exp`, которая:\n",
        "- для каждого клиента с отрицательным стажем возвращает его инвертированное целочисленное значение;\n",
        "- для каждого клиента с положительным стажем возвращает инвертированное медианное целочисленное значение стажа работы для группы клиентов, у которых стаж отрицательный, а возраст лежит в диапазоне [-2, +2] от возраста клиента.\n",
        "\n",
        "Применение целочисленных значений оправдано тем, что учет стажа ведется с точностью до одного дня.\n",
        "Применение медианного значения вместо среднего оправдано тем, что оно менее подвержено выбросам на концах диапазона.\n",
        "Возрастной диапазон выбран исходя из предположения, что в рамках группы людей с различием возраста 5 лет, стаж может быть усреднен."
      ]
    },
    {
      "cell_type": "code",
      "execution_count": null,
      "id": "4a93d49a",
      "metadata": {
        "id": "4a93d49a"
      },
      "outputs": [],
      "source": [
        "def repair_exp(row):\n",
        "    age = row['dob_years']\n",
        "    exp = row['days_employed']\n",
        "    range = 2\n",
        "    if exp < 0:\n",
        "        return int(-1*exp)\n",
        "    return int(df.loc[(df['dob_years']>=(age-range))&(df['dob_years']<=(age+range))&(df['days_employed']<0), 'days_employed'].median()*-1)"
      ]
    },
    {
      "cell_type": "markdown",
      "id": "3d8bbeb1",
      "metadata": {
        "id": "3d8bbeb1"
      },
      "source": [
        "Применим к исследуемому датасету созданную функцию."
      ]
    },
    {
      "cell_type": "code",
      "execution_count": null,
      "id": "b784f60c",
      "metadata": {
        "scrolled": false,
        "id": "b784f60c",
        "outputId": "387e3e3a-8d13-4473-fd53-0ae118715ef8"
      },
      "outputs": [
        {
          "data": {
            "text/plain": [
              "<AxesSubplot:xlabel='days_employed_rep', ylabel='dob_years'>"
            ]
          },
          "execution_count": 9,
          "metadata": {},
          "output_type": "execute_result"
        },
        {
          "data": {
            "image/png": "[encoded data removed]",
            "text/plain": [
              "<Figure size 432x288 with 1 Axes>"
            ]
          },
          "metadata": {
            "needs_background": "light"
          },
          "output_type": "display_data"
        }
      ],
      "source": [
        "df['days_employed_rep'] = df.apply(repair_exp, axis=1)\n",
        "sns.scatterplot(x=df['days_employed_rep'], y=df['dob_years'])"
      ]
    },
    {
      "cell_type": "markdown",
      "id": "51274f35",
      "metadata": {
        "id": "51274f35"
      },
      "source": [
        "Приведенная диаграмма свидетельствует о том, что функция сработала корректно."
      ]
    },
    {
      "cell_type": "markdown",
      "id": "429543be",
      "metadata": {
        "id": "429543be"
      },
      "source": [
        "**Вторая** аномалия в датасете - это нулевые значения в графе `dob_years`, что видно на диаграмме рассеивания, приведенной выше. Учитывая, что возраст клиентов, как правило, является обязательным при составлении кредитной заявки, его нулевые значения можно считать техническим сбоем, произошедшем в ходе подготовки данных. \n",
        "\n",
        "Как уже отмечалось, возраст коррелирует со стажем работы, в связи с чем нулевые значения первого целесообразно обработать с учетом второго. Для этого определим функцию `repair_age`, которая для каждого клиента с нулевым значением возраста возвращает медианное значение возраста для группы клиентов, стаж которых лежит в диапазоне [-150, +150] от стажа клиента.\n",
        "\n",
        "Диапазон стажа выбран исходя из предположения, что в рамках группы людей с различием стажа 1 год, возраст может быть усреднен."
      ]
    },
    {
      "cell_type": "code",
      "execution_count": null,
      "id": "a4ae83ba",
      "metadata": {
        "id": "a4ae83ba"
      },
      "outputs": [],
      "source": [
        "def repair_age(row):\n",
        "    age = row['dob_years']\n",
        "    exp = row['days_employed_rep']\n",
        "    range = 150\n",
        "    if age == 0:\n",
        "        return int(df.loc[(df['days_employed_rep']>=(age-range))&(df['days_employed_rep']<=(age+range)), 'dob_years'].median())\n",
        "    return int(age)"
      ]
    },
    {
      "cell_type": "code",
      "execution_count": null,
      "id": "387b993d",
      "metadata": {
        "scrolled": true,
        "id": "387b993d",
        "outputId": "9a466570-b76f-4072-f424-0ab4a18c00f2"
      },
      "outputs": [
        {
          "data": {
            "text/plain": [
              "<AxesSubplot:xlabel='days_employed_rep', ylabel='dob_years_rep'>"
            ]
          },
          "execution_count": 11,
          "metadata": {},
          "output_type": "execute_result"
        },
        {
          "data": {
            "image/png": "[encoded data removed]",
            "text/plain": [
              "<Figure size 432x288 with 1 Axes>"
            ]
          },
          "metadata": {
            "needs_background": "light"
          },
          "output_type": "display_data"
        }
      ],
      "source": [
        "df['dob_years_rep'] = df.apply(repair_age, axis=1)\n",
        "sns.scatterplot(x=df['days_employed_rep'], y=df['dob_years_rep'])"
      ]
    },
    {
      "cell_type": "markdown",
      "id": "b1e47158",
      "metadata": {
        "id": "b1e47158"
      },
      "source": [
        "**Третья** аномалия - это неожиданное значение `XNA` в столбце `gender`:"
      ]
    },
    {
      "cell_type": "code",
      "execution_count": null,
      "id": "13fbd361",
      "metadata": {
        "id": "13fbd361",
        "outputId": "0c8ca6e3-8af3-47f3-a6d1-da701b602ec7"
      },
      "outputs": [
        {
          "data": {
            "text/plain": [
              "F      14236\n",
              "M       7288\n",
              "XNA        1\n",
              "Name: gender, dtype: int64"
            ]
          },
          "execution_count": 12,
          "metadata": {},
          "output_type": "execute_result"
        }
      ],
      "source": [
        "df['gender'].value_counts()"
      ]
    },
    {
      "cell_type": "markdown",
      "id": "526f53a9",
      "metadata": {
        "id": "526f53a9"
      },
      "source": [
        "Учитывая, что такое значение встречается единожды - его можно считать абсолютно случайным событием (MCAR), а следовательно,  его замена не приведет к снижению точности исследования."
      ]
    },
    {
      "cell_type": "code",
      "execution_count": null,
      "id": "5e97e842",
      "metadata": {
        "id": "5e97e842",
        "outputId": "1653d994-9073-4b04-f19a-9803d6d40616"
      },
      "outputs": [
        {
          "data": {
            "text/plain": [
              "F    14236\n",
              "M     7289\n",
              "Name: gender, dtype: int64"
            ]
          },
          "execution_count": 13,
          "metadata": {},
          "output_type": "execute_result"
        }
      ],
      "source": [
        "df.loc[df['gender'] == 'XNA', 'gender'] = 'M'\n",
        "df['gender'].value_counts()"
      ]
    },
    {
      "cell_type": "markdown",
      "id": "18f9914a",
      "metadata": {
        "id": "18f9914a"
      },
      "source": [
        "**Четвертая** аномалия содержится в столбце `children` в виде значений `-1` и `20`:"
      ]
    },
    {
      "cell_type": "code",
      "execution_count": null,
      "id": "34738831",
      "metadata": {
        "id": "34738831",
        "outputId": "06b21bea-28cd-4bd2-bfd3-3189b13448db"
      },
      "outputs": [
        {
          "data": {
            "text/plain": [
              " 0     14149\n",
              " 1      4818\n",
              " 2      2055\n",
              " 3       330\n",
              " 20       76\n",
              "-1        47\n",
              " 4        41\n",
              " 5         9\n",
              "Name: children, dtype: int64"
            ]
          },
          "execution_count": 14,
          "metadata": {},
          "output_type": "execute_result"
        }
      ],
      "source": [
        "df['children'].value_counts()"
      ]
    },
    {
      "cell_type": "markdown",
      "id": "ff7b1f05",
      "metadata": {
        "id": "ff7b1f05"
      },
      "source": [
        "Учитывая, что количество ложных значений менее 0,6% от общего числа данных в выборке, их появление можно считать абсолютно случайным событием (MCAR). Следовательно, аналогично аномалии в столбце `gender`, их замена не приведет к снижению точности исследования. Обработаем значения в столбце `children` следующим образом:"
      ]
    },
    {
      "cell_type": "code",
      "execution_count": null,
      "id": "01004f4c",
      "metadata": {
        "id": "01004f4c",
        "outputId": "e808fd43-4ec5-4bb6-8af9-1ea80d7a6db3"
      },
      "outputs": [
        {
          "data": {
            "text/plain": [
              "0    14149\n",
              "1     4865\n",
              "2     2131\n",
              "3      330\n",
              "4       41\n",
              "5        9\n",
              "Name: children, dtype: int64"
            ]
          },
          "execution_count": 15,
          "metadata": {},
          "output_type": "execute_result"
        }
      ],
      "source": [
        "df.loc[df['children'] == -1, 'children'] = 1\n",
        "df.loc[df['children'] == 20, 'children'] = 2\n",
        "df['children'].value_counts()"
      ]
    },
    {
      "cell_type": "markdown",
      "id": "a109858f",
      "metadata": {
        "id": "a109858f"
      },
      "source": [
        "## Пропуски"
      ]
    },
    {
      "cell_type": "markdown",
      "id": "de516037",
      "metadata": {
        "id": "de516037"
      },
      "source": [
        "Согласно, общей информации, в столбцах `days_employed` и `total_income` присутсвуют в одинаковом количестве пропущенные данные."
      ]
    },
    {
      "cell_type": "markdown",
      "id": "7bda2094",
      "metadata": {
        "id": "7bda2094"
      },
      "source": [
        "Количество пропусков в каждом столбце в процентном соотношении составляет:"
      ]
    },
    {
      "cell_type": "code",
      "execution_count": null,
      "id": "53797566",
      "metadata": {
        "id": "53797566",
        "outputId": "261b5f18-8bdf-4ded-85ed-14201d877edb"
      },
      "outputs": [
        {
          "data": {
            "text/plain": [
              "10.1"
            ]
          },
          "execution_count": 16,
          "metadata": {},
          "output_type": "execute_result"
        }
      ],
      "source": [
        "round(df['total_income'].isna().sum() / df['total_income'].isna().count() * 100, 1)"
      ]
    },
    {
      "cell_type": "markdown",
      "id": "148d4434",
      "metadata": {
        "id": "148d4434"
      },
      "source": [
        "Полученное значение может оказать существенное влияние на результаты исследования, кроме того, в случае, если пропуски содержаться в разных строках, количество пропусков во всем датасете может быть увеличено до 20%. В этой связи  необходимо проверить гипотезу: *пропуски содержаться в одних и тех же строках*, для чего выполним код: "
      ]
    },
    {
      "cell_type": "code",
      "execution_count": null,
      "id": "47985388",
      "metadata": {
        "scrolled": true,
        "id": "47985388",
        "outputId": "c412b393-18af-4d5f-cc71-ebaae88d2504"
      },
      "outputs": [
        {
          "data": {
            "text/plain": [
              "2174"
            ]
          },
          "execution_count": 17,
          "metadata": {},
          "output_type": "execute_result"
        }
      ],
      "source": [
        "df_nan = pd.DataFrame(data=df['days_employed'], columns=['days_employed'])\n",
        "df_nan['total_income'] = df['total_income']\n",
        "df_nan['days_employed'] = df_nan['days_employed'].fillna('NONE')\n",
        "df_nan['total_income'] = df_nan['total_income'].fillna('NONE')\n",
        "\n",
        "cnt_nan = 0\n",
        "for i in range(len(df_nan)):\n",
        "    if df_nan.loc[i, 'days_employed'] == 'NONE' and df_nan.loc[i, 'total_income'] == 'NONE':\n",
        "        cnt_nan += 1\n",
        "cnt_nan"
      ]
    },
    {
      "cell_type": "markdown",
      "id": "f5403b43",
      "metadata": {
        "id": "f5403b43"
      },
      "source": [
        "Значение переменной `cnt_nan` совпадает со значением пропусков в каждом столбце что подтверждает гипотезу. Таким образом, количество строк с пропусками не превышает 10% от общего количества. \n",
        "\n",
        "Обработку пропусков в столбце `days_employed` проведем аналогично обработке отрицательных и больших значений в нем, описанной выше. Для этого заменим все пропуски нулевым значением и перезапишем столбец `days_employed_rep`, применив функцию `repair_exp`."
      ]
    },
    {
      "cell_type": "code",
      "execution_count": null,
      "id": "a633fe9f",
      "metadata": {
        "id": "a633fe9f",
        "outputId": "1c8667b2-a22d-4704-c37d-57078f5d42bf"
      },
      "outputs": [
        {
          "data": {
            "text/plain": [
              "<AxesSubplot:xlabel='days_employed_rep', ylabel='dob_years_rep'>"
            ]
          },
          "execution_count": 18,
          "metadata": {},
          "output_type": "execute_result"
        },
        {
          "data": {
            "image/png": "[encoded data removed]",
            "text/plain": [
              "<Figure size 432x288 with 1 Axes>"
            ]
          },
          "metadata": {
            "needs_background": "light"
          },
          "output_type": "display_data"
        }
      ],
      "source": [
        "df['days_employed'] = df['days_employed'].fillna(0)\n",
        "df['days_employed_rep'] = df.apply(repair_exp, axis=1)\n",
        "sns.scatterplot(x=df['days_employed_rep'], y=df['dob_years_rep'])"
      ]
    },
    {
      "cell_type": "markdown",
      "id": "99b509a6",
      "metadata": {
        "id": "99b509a6"
      },
      "source": [
        "Обработку пропусков в столбце `total_income` проведем с учетом того, что они являются неслучайным явлением (MNAR), следовательно, их исключение повлияет на репрезентативность выборки. Для этого определим функцию `repair_inc`, которая для каждого клиента с нулевым значением дохода возвращает его целочисленное медианное значение для группы клиентов с тем же типом занятости.\n",
        "\n",
        "Обоснование использование медианных значений аналогично приведенному выше.\n",
        "Применение целочисленных значений оправдано упрощением восприятия обрабатываемой информации о доходе клиентов."
      ]
    },
    {
      "cell_type": "code",
      "execution_count": null,
      "id": "350bd086",
      "metadata": {
        "id": "350bd086"
      },
      "outputs": [],
      "source": [
        "def repair_inc(row):\n",
        "    inc = row['total_income']\n",
        "    job = row['income_type']\n",
        "    if inc == 0:\n",
        "        return int(df.loc[df['income_type']==job, 'total_income'].median())\n",
        "    return int(inc)"
      ]
    },
    {
      "cell_type": "markdown",
      "id": "43ff1e12",
      "metadata": {
        "id": "43ff1e12"
      },
      "source": [
        "Заменим все пропуски нулевым значением и применим функцию `repair_inc` к датасету."
      ]
    },
    {
      "cell_type": "code",
      "execution_count": null,
      "id": "73ea8324",
      "metadata": {
        "id": "73ea8324",
        "outputId": "643dcdc8-b7df-4b6e-a6db-74feba317391"
      },
      "outputs": [
        {
          "data": {
            "text/plain": [
              "<AxesSubplot:xlabel='days_employed_rep', ylabel='total_income_rep'>"
            ]
          },
          "execution_count": 20,
          "metadata": {},
          "output_type": "execute_result"
        },
        {
          "data": {
            "image/png": "[encoded data removed]",
            "text/plain": [
              "<Figure size 432x288 with 1 Axes>"
            ]
          },
          "metadata": {
            "needs_background": "light"
          },
          "output_type": "display_data"
        }
      ],
      "source": [
        "df['total_income'] = df['total_income'].fillna(0)\n",
        "df['total_income_rep'] = df.apply(repair_inc, axis=1)\n",
        "sns.scatterplot(x=df['days_employed_rep'], y=df['total_income_rep'])"
      ]
    },
    {
      "cell_type": "markdown",
      "id": "ee52de80",
      "metadata": {
        "id": "ee52de80"
      },
      "source": [
        "## Неявные дупликаты"
      ]
    },
    {
      "cell_type": "markdown",
      "id": "c18b1a6d",
      "metadata": {
        "id": "c18b1a6d"
      },
      "source": [
        "Неявные дупликаты содержаться в столбцах с категориальными значениями: `education`, `purpose`:"
      ]
    },
    {
      "cell_type": "code",
      "execution_count": null,
      "id": "2250d528",
      "metadata": {
        "id": "2250d528",
        "outputId": "023c648c-75ec-4f8e-b9a1-45dc24fe4205"
      },
      "outputs": [
        {
          "data": {
            "text/plain": [
              "среднее                13750\n",
              "высшее                  4718\n",
              "СРЕДНЕЕ                  772\n",
              "Среднее                  711\n",
              "неоконченное высшее      668\n",
              "ВЫСШЕЕ                   274\n",
              "Высшее                   268\n",
              "начальное                250\n",
              "Неоконченное высшее       47\n",
              "НЕОКОНЧЕННОЕ ВЫСШЕЕ       29\n",
              "НАЧАЛЬНОЕ                 17\n",
              "Начальное                 15\n",
              "ученая степень             4\n",
              "УЧЕНАЯ СТЕПЕНЬ             1\n",
              "Ученая степень             1\n",
              "Name: education, dtype: int64"
            ]
          },
          "execution_count": 21,
          "metadata": {},
          "output_type": "execute_result"
        }
      ],
      "source": [
        "df['education'].value_counts()"
      ]
    },
    {
      "cell_type": "code",
      "execution_count": null,
      "id": "eed384d5",
      "metadata": {
        "id": "eed384d5",
        "outputId": "14eb6fb2-82d9-4265-9c9a-959ef1e6ccaf"
      },
      "outputs": [
        {
          "data": {
            "text/plain": [
              "свадьба                                   797\n",
              "на проведение свадьбы                     777\n",
              "сыграть свадьбу                           774\n",
              "операции с недвижимостью                  676\n",
              "покупка коммерческой недвижимости         664\n",
              "операции с жильем                         653\n",
              "покупка жилья для сдачи                   653\n",
              "операции с коммерческой недвижимостью     651\n",
              "покупка жилья                             647\n",
              "жилье                                     647\n",
              "покупка жилья для семьи                   641\n",
              "строительство собственной недвижимости    635\n",
              "недвижимость                              634\n",
              "операции со своей недвижимостью           630\n",
              "строительство жилой недвижимости          626\n",
              "покупка недвижимости                      624\n",
              "покупка своего жилья                      620\n",
              "строительство недвижимости                620\n",
              "ремонт жилью                              612\n",
              "покупка жилой недвижимости                607\n",
              "на покупку своего автомобиля              505\n",
              "заняться высшим образованием              496\n",
              "автомобиль                                495\n",
              "сделка с подержанным автомобилем          489\n",
              "свой автомобиль                           480\n",
              "на покупку подержанного автомобиля        479\n",
              "автомобили                                478\n",
              "на покупку автомобиля                     472\n",
              "дополнительное образование                462\n",
              "приобретение автомобиля                   462\n",
              "сделка с автомобилем                      455\n",
              "высшее образование                        453\n",
              "получение дополнительного образования     447\n",
              "образование                               447\n",
              "получение образования                     443\n",
              "профильное образование                    436\n",
              "получение высшего образования             426\n",
              "заняться образованием                     412\n",
              "Name: purpose, dtype: int64"
            ]
          },
          "execution_count": 22,
          "metadata": {},
          "output_type": "execute_result"
        }
      ],
      "source": [
        "df['purpose'].value_counts()"
      ]
    },
    {
      "cell_type": "markdown",
      "id": "1fbb962b",
      "metadata": {
        "id": "1fbb962b"
      },
      "source": [
        "Все неявные дупликаты в столбце `education` вызваны различным регистром вводимой информации, следовательно, их исключение обеспечивается при помощи метода `str.lower()`:"
      ]
    },
    {
      "cell_type": "code",
      "execution_count": null,
      "id": "74db13a3",
      "metadata": {
        "id": "74db13a3",
        "outputId": "df32628c-e2f5-4753-d4c1-36f9c66e2633"
      },
      "outputs": [
        {
          "data": {
            "text/plain": [
              "среднее                15233\n",
              "высшее                  5260\n",
              "неоконченное высшее      744\n",
              "начальное                282\n",
              "ученая степень             6\n",
              "Name: education, dtype: int64"
            ]
          },
          "execution_count": 23,
          "metadata": {},
          "output_type": "execute_result"
        }
      ],
      "source": [
        "df['education'] = df['education'].str.lower()\n",
        "df['education'].value_counts()"
      ]
    },
    {
      "cell_type": "markdown",
      "id": "d88669be",
      "metadata": {
        "id": "d88669be"
      },
      "source": [
        "Неявные дупликаты в столбце `purpose` могут быть исключены при помощи метода `replace()` и словаря дупликатов. Однако для этого следует получить консультацию у источника данных, на сколько важно различие близких по смыслу значений. Например, 'операции с коммерческой недвижимостью' и 'операции со своей недвижимостью'.\n",
        "\n",
        "Вместо указанного подхода в решаемой задаче целесообразно использовать категоризацию по значениям. Для этого создадим функцию `purpose_cat`, которая на основании данных из столбца `purpose` сформирует новый столбец `purpose_category`, в который войдут следующие категории:\n",
        "* ‘операции с автомобилем’,\n",
        "* ‘операции с недвижимостью’,\n",
        "* ‘проведение свадьбы’,\n",
        "* ‘получение образования’."
      ]
    },
    {
      "cell_type": "code",
      "execution_count": null,
      "id": "9d20537f",
      "metadata": {
        "id": "9d20537f"
      },
      "outputs": [],
      "source": [
        "def purpose_cat(row):\n",
        "    if 'автомоби' in row['purpose']:\n",
        "        return 'операции с автомобилем'\n",
        "    elif 'недвиж' in row['purpose'] or 'жил' in row['purpose']:\n",
        "        return 'операции с недвижимостью'\n",
        "    elif 'свадьб' in row['purpose']:\n",
        "        return 'проведение свадьбы'\n",
        "    elif 'образов' in row['purpose']:\n",
        "        return 'получение образования'"
      ]
    },
    {
      "cell_type": "code",
      "execution_count": null,
      "id": "3d8a89d0",
      "metadata": {
        "id": "3d8a89d0",
        "outputId": "575e57a2-6e9a-4090-dfe2-e888b30554a4"
      },
      "outputs": [
        {
          "data": {
            "text/plain": [
              "операции с недвижимостью    10840\n",
              "операции с автомобилем       4315\n",
              "получение образования        4022\n",
              "проведение свадьбы           2348\n",
              "Name: purpose_category, dtype: int64"
            ]
          },
          "execution_count": 25,
          "metadata": {},
          "output_type": "execute_result"
        }
      ],
      "source": [
        "df['purpose_category'] = df.apply(purpose_cat, axis=1)\n",
        "df['purpose_category'].value_counts()"
      ]
    },
    {
      "cell_type": "markdown",
      "id": "eb92a9f9",
      "metadata": {
        "id": "eb92a9f9"
      },
      "source": [
        "## Явные дупликаты"
      ]
    },
    {
      "cell_type": "markdown",
      "id": "dfaca2da",
      "metadata": {
        "id": "dfaca2da"
      },
      "source": [
        "После обработки аномалий, пропусков и неявных дупликатов в исследуемом датасете можно преступить к обработке явных. Начнем с определения их количества."
      ]
    },
    {
      "cell_type": "code",
      "execution_count": null,
      "id": "8ca0a11b",
      "metadata": {
        "id": "8ca0a11b",
        "outputId": "2ced7ce2-7284-424a-ee75-aaca7b5d8029"
      },
      "outputs": [
        {
          "data": {
            "text/plain": [
              "71"
            ]
          },
          "execution_count": 26,
          "metadata": {},
          "output_type": "execute_result"
        }
      ],
      "source": [
        "df.duplicated().sum()"
      ]
    },
    {
      "cell_type": "markdown",
      "id": "fb82c090",
      "metadata": {
        "id": "fb82c090"
      },
      "source": [
        "Обработку явных дупликатов проведем при помощи метода `drop_duplicates()` после чего проверим их количество:"
      ]
    },
    {
      "cell_type": "code",
      "execution_count": null,
      "id": "94b5dcc6",
      "metadata": {
        "id": "94b5dcc6",
        "outputId": "b0809666-8cc0-48ef-de3b-dede445dce4f"
      },
      "outputs": [
        {
          "data": {
            "text/plain": [
              "0"
            ]
          },
          "execution_count": 27,
          "metadata": {},
          "output_type": "execute_result"
        }
      ],
      "source": [
        "df = df.drop_duplicates().reset_index(drop=True)\n",
        "df.duplicated().sum()"
      ]
    },
    {
      "cell_type": "markdown",
      "id": "ee03971c",
      "metadata": {
        "id": "ee03971c"
      },
      "source": [
        "Явных дупликатов не осталось."
      ]
    },
    {
      "cell_type": "markdown",
      "id": "293c09fd",
      "metadata": {
        "id": "293c09fd"
      },
      "source": [
        "## Группировка данных"
      ]
    },
    {
      "cell_type": "markdown",
      "id": "36e88798",
      "metadata": {
        "id": "36e88798"
      },
      "source": [
        "После решения обнаруженных проблем с датасетом сгруппируем данные для удобства их анализа. Для этого создадим два новых датафрейма со значениями из столбцов:\n",
        "* `education_id` и `education` — в первом;\n",
        "* `family_status_id` и `family_status` — во втором."
      ]
    },
    {
      "cell_type": "code",
      "execution_count": null,
      "id": "7181f6c8",
      "metadata": {
        "scrolled": true,
        "id": "7181f6c8",
        "outputId": "e667ddb1-221f-4dab-9d36-3db5aa1ef381"
      },
      "outputs": [
        {
          "data": {
            "text/plain": [
              "education_id\n",
              "0                 высшее\n",
              "1                среднее\n",
              "2    неоконченное высшее\n",
              "3              начальное\n",
              "4         ученая степень\n",
              "Name: education, dtype: object"
            ]
          },
          "execution_count": 28,
          "metadata": {},
          "output_type": "execute_result"
        }
      ],
      "source": [
        "df_edu = df.groupby('education_id')['education'].max()\n",
        "df_edu"
      ]
    },
    {
      "cell_type": "code",
      "execution_count": null,
      "id": "06ae3c7e",
      "metadata": {
        "id": "06ae3c7e",
        "outputId": "1430ad9a-9b9b-46c3-e45b-347f49c5ae12"
      },
      "outputs": [
        {
          "data": {
            "text/plain": [
              "family_status_id\n",
              "0          женат / замужем\n",
              "1         гражданский брак\n",
              "2           вдовец / вдова\n",
              "3                в разводе\n",
              "4    Не женат / не замужем\n",
              "Name: family_status, dtype: object"
            ]
          },
          "execution_count": 29,
          "metadata": {},
          "output_type": "execute_result"
        }
      ],
      "source": [
        "df_fam = df.groupby('family_status_id')['family_status'].max()\n",
        "df_fam"
      ]
    },
    {
      "cell_type": "markdown",
      "id": "96aab489",
      "metadata": {
        "id": "96aab489"
      },
      "source": [
        "Удалим из исходного датасета столбцы `education` и `family_status`, оставив только их идентификаторы: `education_id` и `family_status_id`."
      ]
    },
    {
      "cell_type": "code",
      "execution_count": null,
      "id": "237634dc",
      "metadata": {
        "id": "237634dc",
        "outputId": "debd8d92-74b5-492c-e7df-2a0981a24aa0"
      },
      "outputs": [
        {
          "data": {
            "text/html": [
              "<div>\n",
              "<style scoped>\n",
              "    .dataframe tbody tr th:only-of-type {\n",
              "        vertical-align: middle;\n",
              "    }\n",
              "\n",
              "    .dataframe tbody tr th {\n",
              "        vertical-align: top;\n",
              "    }\n",
              "\n",
              "    .dataframe thead th {\n",
              "        text-align: right;\n",
              "    }\n",
              "</style>\n",
              "<table border=\"1\" class=\"dataframe\">\n",
              "  <thead>\n",
              "    <tr style=\"text-align: right;\">\n",
              "      <th></th>\n",
              "      <th>children</th>\n",
              "      <th>days_employed</th>\n",
              "      <th>dob_years</th>\n",
              "      <th>education_id</th>\n",
              "      <th>family_status_id</th>\n",
              "      <th>gender</th>\n",
              "      <th>income_type</th>\n",
              "      <th>debt</th>\n",
              "      <th>total_income</th>\n",
              "      <th>purpose</th>\n",
              "      <th>days_employed_rep</th>\n",
              "      <th>dob_years_rep</th>\n",
              "      <th>total_income_rep</th>\n",
              "      <th>purpose_category</th>\n",
              "    </tr>\n",
              "  </thead>\n",
              "  <tbody>\n",
              "    <tr>\n",
              "      <th>0</th>\n",
              "      <td>1</td>\n",
              "      <td>-8437.673028</td>\n",
              "      <td>42</td>\n",
              "      <td>0</td>\n",
              "      <td>0</td>\n",
              "      <td>F</td>\n",
              "      <td>сотрудник</td>\n",
              "      <td>0</td>\n",
              "      <td>253875.639453</td>\n",
              "      <td>покупка жилья</td>\n",
              "      <td>8437</td>\n",
              "      <td>42</td>\n",
              "      <td>253875</td>\n",
              "      <td>операции с недвижимостью</td>\n",
              "    </tr>\n",
              "    <tr>\n",
              "      <th>1</th>\n",
              "      <td>1</td>\n",
              "      <td>-4024.803754</td>\n",
              "      <td>36</td>\n",
              "      <td>1</td>\n",
              "      <td>0</td>\n",
              "      <td>F</td>\n",
              "      <td>сотрудник</td>\n",
              "      <td>0</td>\n",
              "      <td>112080.014102</td>\n",
              "      <td>приобретение автомобиля</td>\n",
              "      <td>4024</td>\n",
              "      <td>36</td>\n",
              "      <td>112080</td>\n",
              "      <td>операции с автомобилем</td>\n",
              "    </tr>\n",
              "    <tr>\n",
              "      <th>2</th>\n",
              "      <td>0</td>\n",
              "      <td>-5623.422610</td>\n",
              "      <td>33</td>\n",
              "      <td>1</td>\n",
              "      <td>0</td>\n",
              "      <td>M</td>\n",
              "      <td>сотрудник</td>\n",
              "      <td>0</td>\n",
              "      <td>145885.952297</td>\n",
              "      <td>покупка жилья</td>\n",
              "      <td>5623</td>\n",
              "      <td>33</td>\n",
              "      <td>145885</td>\n",
              "      <td>операции с недвижимостью</td>\n",
              "    </tr>\n",
              "    <tr>\n",
              "      <th>3</th>\n",
              "      <td>3</td>\n",
              "      <td>-4124.747207</td>\n",
              "      <td>32</td>\n",
              "      <td>1</td>\n",
              "      <td>0</td>\n",
              "      <td>M</td>\n",
              "      <td>сотрудник</td>\n",
              "      <td>0</td>\n",
              "      <td>267628.550329</td>\n",
              "      <td>дополнительное образование</td>\n",
              "      <td>4124</td>\n",
              "      <td>32</td>\n",
              "      <td>267628</td>\n",
              "      <td>получение образования</td>\n",
              "    </tr>\n",
              "    <tr>\n",
              "      <th>4</th>\n",
              "      <td>0</td>\n",
              "      <td>340266.072047</td>\n",
              "      <td>53</td>\n",
              "      <td>1</td>\n",
              "      <td>1</td>\n",
              "      <td>F</td>\n",
              "      <td>пенсионер</td>\n",
              "      <td>0</td>\n",
              "      <td>158616.077870</td>\n",
              "      <td>сыграть свадьбу</td>\n",
              "      <td>2265</td>\n",
              "      <td>53</td>\n",
              "      <td>158616</td>\n",
              "      <td>проведение свадьбы</td>\n",
              "    </tr>\n",
              "  </tbody>\n",
              "</table>\n",
              "</div>"
            ],
            "text/plain": [
              "   children  days_employed  dob_years  education_id  family_status_id gender  \\\n",
              "0         1   -8437.673028         42             0                 0      F   \n",
              "1         1   -4024.803754         36             1                 0      F   \n",
              "2         0   -5623.422610         33             1                 0      M   \n",
              "3         3   -4124.747207         32             1                 0      M   \n",
              "4         0  340266.072047         53             1                 1      F   \n",
              "\n",
              "  income_type  debt   total_income                     purpose  \\\n",
              "0   сотрудник     0  253875.639453               покупка жилья   \n",
              "1   сотрудник     0  112080.014102     приобретение автомобиля   \n",
              "2   сотрудник     0  145885.952297               покупка жилья   \n",
              "3   сотрудник     0  267628.550329  дополнительное образование   \n",
              "4   пенсионер     0  158616.077870             сыграть свадьбу   \n",
              "\n",
              "   days_employed_rep  dob_years_rep  total_income_rep  \\\n",
              "0               8437             42            253875   \n",
              "1               4024             36            112080   \n",
              "2               5623             33            145885   \n",
              "3               4124             32            267628   \n",
              "4               2265             53            158616   \n",
              "\n",
              "           purpose_category  \n",
              "0  операции с недвижимостью  \n",
              "1    операции с автомобилем  \n",
              "2  операции с недвижимостью  \n",
              "3     получение образования  \n",
              "4        проведение свадьбы  "
            ]
          },
          "execution_count": 30,
          "metadata": {},
          "output_type": "execute_result"
        }
      ],
      "source": [
        "df = df.drop(['education','family_status'], axis=1)\n",
        "df.head(5)"
      ]
    },
    {
      "cell_type": "markdown",
      "id": "f0155fa9",
      "metadata": {
        "id": "f0155fa9"
      },
      "source": [
        "Cоздадим столбец `total_income_category` с категориями по значениям в столбце `total_income_rep`:\n",
        "* 0 – 30 000 — 'E';\n",
        "* 30 001 – 50 000 — 'D';\n",
        "* 50 001 – 200 000 — 'C';\n",
        "* 200 001 – 1 000 000 — 'B';\n",
        "* 1 000 001 и выше — 'A'."
      ]
    },
    {
      "cell_type": "code",
      "execution_count": null,
      "id": "d037d495",
      "metadata": {
        "id": "d037d495"
      },
      "outputs": [],
      "source": [
        "df['total_income_category'] = pd.cut(df['total_income_rep'], [0, 30000, 50000, 200000, 1000000, float('inf')], \n",
        "                                     labels=['E','D','C','B','A'])"
      ]
    },
    {
      "cell_type": "markdown",
      "id": "3435649c",
      "metadata": {
        "id": "3435649c"
      },
      "source": [
        "## Выводы"
      ]
    },
    {
      "cell_type": "markdown",
      "id": "7b3c4f8e",
      "metadata": {
        "id": "7b3c4f8e"
      },
      "source": [
        "В результате предобработки данных выявлены и решены следующие проблемы с датасетом:\n",
        "\n",
        "1. Аномалии в виде отрицательных, нулевых и неожиданных значений в столбцах `days_employed`, `dob_years`, `gender` и `children` соответственно. \n",
        "1. Пропущенные данные в столбцах `days_employed` и `total_income`.\n",
        "1. Неявные дупликаты в столбцах `education` и `purpose`.\n",
        "1. Явные дупликаты.\n",
        "\n",
        "Кроме того, созданы группы клиентов по уровню дохода от 'A' до 'E'.\n",
        "\n",
        "Теперь можно перейти к проверке гипотез."
      ]
    },
    {
      "cell_type": "markdown",
      "id": "f6251223",
      "metadata": {
        "id": "f6251223"
      },
      "source": [
        "# Проверка гипотез"
      ]
    },
    {
      "cell_type": "markdown",
      "id": "ef844149",
      "metadata": {
        "id": "ef844149"
      },
      "source": [
        "Согласно поставленным задачам, необходимо проверить две гипотезы. "
      ]
    },
    {
      "cell_type": "markdown",
      "id": "a0e9814c",
      "metadata": {
        "id": "a0e9814c"
      },
      "source": [
        "## Семейное положение влияет на факт погашения кредита в срок"
      ]
    },
    {
      "cell_type": "markdown",
      "id": "cc858218",
      "metadata": {
        "id": "cc858218"
      },
      "source": [
        "Для нахождения зависимость между семейным положением и возвратом кредита в срок проведем группировку датасета по столбцу `family_status_id` и посчитаем сумму, общее количество и их отношение. Последнее будет наиболее показательным для принятия решения о наличии зависимости."
      ]
    },
    {
      "cell_type": "code",
      "execution_count": null,
      "id": "3f8728fa",
      "metadata": {
        "id": "3f8728fa",
        "outputId": "4d9d3293-0d81-4b97-ef7f-28877429f40f"
      },
      "outputs": [
        {
          "data": {
            "text/html": [
              "<div>\n",
              "<style scoped>\n",
              "    .dataframe tbody tr th:only-of-type {\n",
              "        vertical-align: middle;\n",
              "    }\n",
              "\n",
              "    .dataframe tbody tr th {\n",
              "        vertical-align: top;\n",
              "    }\n",
              "\n",
              "    .dataframe thead th {\n",
              "        text-align: right;\n",
              "    }\n",
              "</style>\n",
              "<table border=\"1\" class=\"dataframe\">\n",
              "  <thead>\n",
              "    <tr style=\"text-align: right;\">\n",
              "      <th></th>\n",
              "      <th>sum</th>\n",
              "      <th>count</th>\n",
              "      <th>%</th>\n",
              "      <th>family_status</th>\n",
              "    </tr>\n",
              "    <tr>\n",
              "      <th>family_status_id</th>\n",
              "      <th></th>\n",
              "      <th></th>\n",
              "      <th></th>\n",
              "      <th></th>\n",
              "    </tr>\n",
              "  </thead>\n",
              "  <tbody>\n",
              "    <tr>\n",
              "      <th>2</th>\n",
              "      <td>63</td>\n",
              "      <td>959</td>\n",
              "      <td>0.065693</td>\n",
              "      <td>вдовец / вдова</td>\n",
              "    </tr>\n",
              "    <tr>\n",
              "      <th>3</th>\n",
              "      <td>85</td>\n",
              "      <td>1195</td>\n",
              "      <td>0.071130</td>\n",
              "      <td>в разводе</td>\n",
              "    </tr>\n",
              "    <tr>\n",
              "      <th>0</th>\n",
              "      <td>931</td>\n",
              "      <td>12339</td>\n",
              "      <td>0.075452</td>\n",
              "      <td>женат / замужем</td>\n",
              "    </tr>\n",
              "    <tr>\n",
              "      <th>1</th>\n",
              "      <td>388</td>\n",
              "      <td>4151</td>\n",
              "      <td>0.093471</td>\n",
              "      <td>гражданский брак</td>\n",
              "    </tr>\n",
              "    <tr>\n",
              "      <th>4</th>\n",
              "      <td>274</td>\n",
              "      <td>2810</td>\n",
              "      <td>0.097509</td>\n",
              "      <td>Не женат / не замужем</td>\n",
              "    </tr>\n",
              "  </tbody>\n",
              "</table>\n",
              "</div>"
            ],
            "text/plain": [
              "                  sum  count         %          family_status\n",
              "family_status_id                                             \n",
              "2                  63    959  0.065693         вдовец / вдова\n",
              "3                  85   1195  0.071130              в разводе\n",
              "0                 931  12339  0.075452        женат / замужем\n",
              "1                 388   4151  0.093471       гражданский брак\n",
              "4                 274   2810  0.097509  Не женат / не замужем"
            ]
          },
          "execution_count": 32,
          "metadata": {},
          "output_type": "execute_result"
        }
      ],
      "source": [
        "impct_fam = df.groupby('family_status_id')['debt'].agg({'count', 'sum'})\n",
        "impct_fam['%'] = impct_fam['sum']/impct_fam['count']\n",
        "impct_fam = impct_fam.merge(df_fam, on='family_status_id')\n",
        "impct_fam.sort_values(by='%')"
      ]
    },
    {
      "cell_type": "markdown",
      "id": "4aedc8ff",
      "metadata": {
        "id": "4aedc8ff"
      },
      "source": [
        "По полученным значениям видно, что **зависимость между семейным положением и возвратом кредита в срок** проявляется в следующем:\n",
        "* больше всего невозвратов у клиентов, не состоящих в браке - 9,7%;\n",
        "* вдовцы/вдовы на 3% более надежные клиенты с точки зрения возврата кредитов."
      ]
    },
    {
      "cell_type": "markdown",
      "id": "999e7bc6",
      "metadata": {
        "id": "999e7bc6"
      },
      "source": [
        "## Количество детей влияет на факт погашения кредита в срок."
      ]
    },
    {
      "cell_type": "markdown",
      "id": "36a88bcf",
      "metadata": {
        "id": "36a88bcf"
      },
      "source": [
        "Аналогично проверке первой гипотезы, проведем группировку данных."
      ]
    },
    {
      "cell_type": "code",
      "execution_count": null,
      "id": "2440fb8a",
      "metadata": {
        "id": "2440fb8a",
        "outputId": "fee2dcbe-83fc-4bb2-e4fe-df8c8815978b"
      },
      "outputs": [
        {
          "data": {
            "text/html": [
              "<div>\n",
              "<style scoped>\n",
              "    .dataframe tbody tr th:only-of-type {\n",
              "        vertical-align: middle;\n",
              "    }\n",
              "\n",
              "    .dataframe tbody tr th {\n",
              "        vertical-align: top;\n",
              "    }\n",
              "\n",
              "    .dataframe thead th {\n",
              "        text-align: right;\n",
              "    }\n",
              "</style>\n",
              "<table border=\"1\" class=\"dataframe\">\n",
              "  <thead>\n",
              "    <tr style=\"text-align: right;\">\n",
              "      <th></th>\n",
              "      <th>sum</th>\n",
              "      <th>count</th>\n",
              "      <th>%</th>\n",
              "    </tr>\n",
              "    <tr>\n",
              "      <th>children</th>\n",
              "      <th></th>\n",
              "      <th></th>\n",
              "      <th></th>\n",
              "    </tr>\n",
              "  </thead>\n",
              "  <tbody>\n",
              "    <tr>\n",
              "      <th>5</th>\n",
              "      <td>0</td>\n",
              "      <td>9</td>\n",
              "      <td>0.000000</td>\n",
              "    </tr>\n",
              "    <tr>\n",
              "      <th>0</th>\n",
              "      <td>1063</td>\n",
              "      <td>14091</td>\n",
              "      <td>0.075438</td>\n",
              "    </tr>\n",
              "    <tr>\n",
              "      <th>3</th>\n",
              "      <td>27</td>\n",
              "      <td>330</td>\n",
              "      <td>0.081818</td>\n",
              "    </tr>\n",
              "    <tr>\n",
              "      <th>1</th>\n",
              "      <td>445</td>\n",
              "      <td>4855</td>\n",
              "      <td>0.091658</td>\n",
              "    </tr>\n",
              "    <tr>\n",
              "      <th>2</th>\n",
              "      <td>202</td>\n",
              "      <td>2128</td>\n",
              "      <td>0.094925</td>\n",
              "    </tr>\n",
              "    <tr>\n",
              "      <th>4</th>\n",
              "      <td>4</td>\n",
              "      <td>41</td>\n",
              "      <td>0.097561</td>\n",
              "    </tr>\n",
              "  </tbody>\n",
              "</table>\n",
              "</div>"
            ],
            "text/plain": [
              "           sum  count         %\n",
              "children                       \n",
              "5            0      9  0.000000\n",
              "0         1063  14091  0.075438\n",
              "3           27    330  0.081818\n",
              "1          445   4855  0.091658\n",
              "2          202   2128  0.094925\n",
              "4            4     41  0.097561"
            ]
          },
          "execution_count": 33,
          "metadata": {},
          "output_type": "execute_result"
        }
      ],
      "source": [
        "impct_kids = df.groupby('children')['debt'].agg({'count', 'sum'})\n",
        "impct_kids['%'] = impct_kids['sum']/impct_kids['count']\n",
        "impct_kids.sort_values(by='%')"
      ]
    },
    {
      "cell_type": "markdown",
      "id": "c60f4f19",
      "metadata": {
        "id": "c60f4f19"
      },
      "source": [
        "По полученным значениям видно, что вывод о клиентах с пятью детьми делать не целесообразно ввиду малого количества данных по ним. При этом, **зависимость между количеством детей и возвратом кредита в срок** проявляется в следующем виде:\n",
        "* больше всего невозвратов у клиентов c четырьмя, двумя или одним ребенком. Различие для этих групп не превосходит 0,6%, может быть обусловлено разным размером выборки для каждой и составляет около 9,5%;\n",
        "* клиенты без детей наиболее надежные с точки зрения возврата кредитов."
      ]
    },
    {
      "cell_type": "markdown",
      "id": "4a4de86e",
      "metadata": {
        "id": "4a4de86e"
      },
      "source": [
        "## Проверка дополнительных гипотез"
      ]
    },
    {
      "cell_type": "markdown",
      "id": "f535ad4f",
      "metadata": {
        "id": "f535ad4f"
      },
      "source": [
        "Проведем дополнительно изучение двух гипотез "
      ]
    },
    {
      "cell_type": "markdown",
      "id": "d7d089c4",
      "metadata": {
        "id": "d7d089c4"
      },
      "source": [
        "### Уровень дохода влияет на факт погашения кредита в срок"
      ]
    },
    {
      "cell_type": "markdown",
      "id": "bb0efcb7",
      "metadata": {
        "id": "bb0efcb7"
      },
      "source": [
        "Аналогично предыдущим проверкам гипотез, проведем группировку данных."
      ]
    },
    {
      "cell_type": "code",
      "execution_count": null,
      "id": "3abfa5ab",
      "metadata": {
        "scrolled": true,
        "id": "3abfa5ab",
        "outputId": "23640d4e-045f-40e0-f601-2f1550811173"
      },
      "outputs": [
        {
          "data": {
            "text/html": [
              "<div>\n",
              "<style scoped>\n",
              "    .dataframe tbody tr th:only-of-type {\n",
              "        vertical-align: middle;\n",
              "    }\n",
              "\n",
              "    .dataframe tbody tr th {\n",
              "        vertical-align: top;\n",
              "    }\n",
              "\n",
              "    .dataframe thead th {\n",
              "        text-align: right;\n",
              "    }\n",
              "</style>\n",
              "<table border=\"1\" class=\"dataframe\">\n",
              "  <thead>\n",
              "    <tr style=\"text-align: right;\">\n",
              "      <th></th>\n",
              "      <th>sum</th>\n",
              "      <th>count</th>\n",
              "      <th>%</th>\n",
              "    </tr>\n",
              "    <tr>\n",
              "      <th>total_income_category</th>\n",
              "      <th></th>\n",
              "      <th></th>\n",
              "      <th></th>\n",
              "    </tr>\n",
              "  </thead>\n",
              "  <tbody>\n",
              "    <tr>\n",
              "      <th>D</th>\n",
              "      <td>21</td>\n",
              "      <td>350</td>\n",
              "      <td>0.060000</td>\n",
              "    </tr>\n",
              "    <tr>\n",
              "      <th>B</th>\n",
              "      <td>356</td>\n",
              "      <td>5042</td>\n",
              "      <td>0.070607</td>\n",
              "    </tr>\n",
              "    <tr>\n",
              "      <th>A</th>\n",
              "      <td>2</td>\n",
              "      <td>25</td>\n",
              "      <td>0.080000</td>\n",
              "    </tr>\n",
              "    <tr>\n",
              "      <th>C</th>\n",
              "      <td>1360</td>\n",
              "      <td>16015</td>\n",
              "      <td>0.084920</td>\n",
              "    </tr>\n",
              "    <tr>\n",
              "      <th>E</th>\n",
              "      <td>2</td>\n",
              "      <td>22</td>\n",
              "      <td>0.090909</td>\n",
              "    </tr>\n",
              "  </tbody>\n",
              "</table>\n",
              "</div>"
            ],
            "text/plain": [
              "                        sum  count         %\n",
              "total_income_category                       \n",
              "D                        21    350  0.060000\n",
              "B                       356   5042  0.070607\n",
              "A                         2     25  0.080000\n",
              "C                      1360  16015  0.084920\n",
              "E                         2     22  0.090909"
            ]
          },
          "execution_count": 34,
          "metadata": {},
          "output_type": "execute_result"
        }
      ],
      "source": [
        "impct_inc = df.groupby('total_income_category')['debt'].agg({'count', 'sum'})\n",
        "impct_inc['%'] = impct_inc['sum']/impct_inc['count']\n",
        "impct_inc.sort_values(by='%')"
      ]
    },
    {
      "cell_type": "markdown",
      "id": "a91c0bf6",
      "metadata": {
        "id": "a91c0bf6"
      },
      "source": [
        "По полученным значениям видно, что определять зависимость между уровнем дохода и возвратом кредита в срок для клиентов с доходом категорий `A (от 1 000 001)` и `E (0 – 30 000)` может быть преждевременным ввиду малой выборки данных. **Зависимость между уровнем дохода и возвратом кредита в срок** для остальных категорий клиентов проявляется в следующем виде:\n",
        "* больше всего невозвратов у клиентов с доходом категории `C (50 001 – 200 000)` - 8,5%;\n",
        "* клиенты с доходом категории `D (30 001 – 50 000)` наиболее надежные с точки зрения возврата кредитов."
      ]
    },
    {
      "cell_type": "markdown",
      "id": "0dba6218",
      "metadata": {
        "id": "0dba6218"
      },
      "source": [
        "### Цели кредита влияют на факт его погашения в срок"
      ]
    },
    {
      "cell_type": "markdown",
      "id": "f24e1d0f",
      "metadata": {
        "id": "f24e1d0f"
      },
      "source": [
        "Аналогично предыдущим проверкам гипотез, проведем группировку данных."
      ]
    },
    {
      "cell_type": "code",
      "execution_count": null,
      "id": "070bbb44",
      "metadata": {
        "id": "070bbb44",
        "outputId": "a562499c-3e7e-499f-f815-d4d6c86a02ab"
      },
      "outputs": [
        {
          "data": {
            "text/html": [
              "<div>\n",
              "<style scoped>\n",
              "    .dataframe tbody tr th:only-of-type {\n",
              "        vertical-align: middle;\n",
              "    }\n",
              "\n",
              "    .dataframe tbody tr th {\n",
              "        vertical-align: top;\n",
              "    }\n",
              "\n",
              "    .dataframe thead th {\n",
              "        text-align: right;\n",
              "    }\n",
              "</style>\n",
              "<table border=\"1\" class=\"dataframe\">\n",
              "  <thead>\n",
              "    <tr style=\"text-align: right;\">\n",
              "      <th></th>\n",
              "      <th>sum</th>\n",
              "      <th>count</th>\n",
              "      <th>%</th>\n",
              "    </tr>\n",
              "    <tr>\n",
              "      <th>purpose_category</th>\n",
              "      <th></th>\n",
              "      <th></th>\n",
              "      <th></th>\n",
              "    </tr>\n",
              "  </thead>\n",
              "  <tbody>\n",
              "    <tr>\n",
              "      <th>операции с недвижимостью</th>\n",
              "      <td>782</td>\n",
              "      <td>10811</td>\n",
              "      <td>0.072334</td>\n",
              "    </tr>\n",
              "    <tr>\n",
              "      <th>проведение свадьбы</th>\n",
              "      <td>186</td>\n",
              "      <td>2324</td>\n",
              "      <td>0.080034</td>\n",
              "    </tr>\n",
              "    <tr>\n",
              "      <th>получение образования</th>\n",
              "      <td>370</td>\n",
              "      <td>4013</td>\n",
              "      <td>0.092200</td>\n",
              "    </tr>\n",
              "    <tr>\n",
              "      <th>операции с автомобилем</th>\n",
              "      <td>403</td>\n",
              "      <td>4306</td>\n",
              "      <td>0.093590</td>\n",
              "    </tr>\n",
              "  </tbody>\n",
              "</table>\n",
              "</div>"
            ],
            "text/plain": [
              "                          sum  count         %\n",
              "purpose_category                              \n",
              "операции с недвижимостью  782  10811  0.072334\n",
              "проведение свадьбы        186   2324  0.080034\n",
              "получение образования     370   4013  0.092200\n",
              "операции с автомобилем    403   4306  0.093590"
            ]
          },
          "execution_count": 35,
          "metadata": {},
          "output_type": "execute_result"
        }
      ],
      "source": [
        "impct_aim = df.groupby('purpose_category')['debt'].agg({'count', 'sum'})\n",
        "impct_aim['%'] = impct_aim['sum']/impct_aim['count']\n",
        "impct_aim.sort_values(by='%')"
      ]
    },
    {
      "cell_type": "markdown",
      "id": "cac5f1b0",
      "metadata": {
        "id": "cac5f1b0"
      },
      "source": [
        "По полученным значениям видно, что **зависимость между целью кредита и возвратом его в срок** проявляется в следующем виде:\n",
        "* больше всего рисков по невозврату кредитов, взятых на операции с автомобилем или получение образования. Различие для этих групп не превосходит 0,1%, может быть обусловлено статистическим разбросом и составляет около 9,2%\n",
        "* наименьший риск по невозврату для кредитов, взятых на операции с недвижимостью."
      ]
    },
    {
      "cell_type": "markdown",
      "id": "c40177a8",
      "metadata": {
        "id": "c40177a8"
      },
      "source": [
        "# Выводы"
      ]
    },
    {
      "cell_type": "markdown",
      "id": "538c6543",
      "metadata": {
        "id": "538c6543"
      },
      "source": [
        "Проведено исследование статистики о платёжеспособности клиентов.\n",
        "\n",
        "В результате предобработки данных выявлены и решены такие проблемы с датасетом, как аномалии данных, пропуски в них, явные и неявные дупликаты, а также созданы группы клиентов по уровню дохода от 'A' (от 1 000 001) до 'E' (0 – 30 000).\n",
        "\n",
        "Проверка основных гипотез показала следующее.\n",
        "\n",
        "1. Наибольший риск по невозврату кредитов у клиентов, не состоящих в браке. Указанные клиенты в 9,7% случаев имеют задолженности. При этом вдовцы/вдовы являются наиболее надежными и имеют задолжности в 6,5% случаев.\n",
        "2. Разница количества задолженностей по кредиту клиентов c четырьмя, двумя или одним ребенком не превосходит 0,6% и изменяется в диапазоне от 9,2% до 9,8%. Полученные значения могут быть обусловлены разным размером выборки для каждой группы клиентов. При этом, клиенты без детей являются наиболее надежными и имеют задолженности в 7,5% случаев.\n",
        "\n",
        "Дополонительно проверены гипотезы влияния на факт погашения кредита в срок уровня дохода и цели кредита. Результаты проверки показали следующее.\n",
        "\n",
        "1. Зависимость между уровнем дохода и возвратом кредита в срок для клиентов с доходом категорий 'A' и 'E' невозможно определить ввиду малой выборки данных. При этом больше всего невозвратов у клиентов с доходом категории 'C' и составляет 8,5%, а у клиентов с доходом категории 'D' - меньше всего и составляет 6%. \n",
        "1. Больше всего рисков по невозврату кредитов, взятых на операции с автомобилем или получение образования. Различие для этих групп не превосходит 0,13%, может быть обусловлено статистическим разбросом и составляет около 9,4%. Наименьший риск по невозврату приходится для кредитов, взятых на операции с недвижимостью, и составляет 7,2%.\n",
        "\n",
        "Таким образом, на возврат кредита в срок влияют все рассмотренные факторы. Тем не менее, для критерия семейного положения получено максимальное значение диапазона значений - 3,2%, что делает его наиболее критичным для построения модели кредитного скоринга. \n",
        "последний критерий влияет в меньшей степени, что видно благодаря меньшему разбросу значений - 2,3% против 3,2% для критерия семейного положения. "
      ]
    }
  ],
  "metadata": {
    "ExecuteTimeLog": [
      {
        "duration": 1553,
        "start_time": "2022-03-30T09:31:19.567Z"
      },
      {
        "duration": 190,
        "start_time": "2022-03-30T09:31:21.123Z"
      },
      {
        "duration": 22,
        "start_time": "2022-03-30T09:31:21.316Z"
      },
      {
        "duration": 8,
        "start_time": "2022-03-30T09:31:21.340Z"
      },
      {
        "duration": 11,
        "start_time": "2022-03-30T09:31:21.377Z"
      },
      {
        "duration": 412,
        "start_time": "2022-03-30T09:31:21.391Z"
      },
      {
        "duration": 404,
        "start_time": "2022-03-30T09:31:21.806Z"
      },
      {
        "duration": 7,
        "start_time": "2022-03-30T09:31:22.212Z"
      },
      {
        "duration": 9671,
        "start_time": "2022-03-30T09:31:22.222Z"
      },
      {
        "duration": 5,
        "start_time": "2022-03-30T09:31:31.895Z"
      },
      {
        "duration": 736,
        "start_time": "2022-03-30T09:31:31.903Z"
      },
      {
        "duration": 9,
        "start_time": "2022-03-30T09:31:32.641Z"
      },
      {
        "duration": 32,
        "start_time": "2022-03-30T09:31:32.652Z"
      },
      {
        "duration": 7,
        "start_time": "2022-03-30T09:31:32.688Z"
      },
      {
        "duration": 20,
        "start_time": "2022-03-30T09:31:32.697Z"
      },
      {
        "duration": 17,
        "start_time": "2022-03-30T09:31:32.720Z"
      },
      {
        "duration": 281,
        "start_time": "2022-03-30T09:31:32.738Z"
      },
      {
        "duration": 10032,
        "start_time": "2022-03-30T09:31:33.022Z"
      },
      {
        "duration": 5,
        "start_time": "2022-03-30T09:31:43.056Z"
      },
      {
        "duration": 3359,
        "start_time": "2022-03-30T09:31:43.074Z"
      },
      {
        "duration": 9,
        "start_time": "2022-03-30T09:31:46.436Z"
      },
      {
        "duration": 29,
        "start_time": "2022-03-30T09:31:46.447Z"
      },
      {
        "duration": 23,
        "start_time": "2022-03-30T09:31:46.478Z"
      },
      {
        "duration": 7,
        "start_time": "2022-03-30T09:31:46.503Z"
      },
      {
        "duration": 649,
        "start_time": "2022-03-30T09:31:46.512Z"
      },
      {
        "duration": 43,
        "start_time": "2022-03-30T09:31:47.163Z"
      },
      {
        "duration": 88,
        "start_time": "2022-03-30T09:31:47.208Z"
      },
      {
        "duration": 13,
        "start_time": "2022-03-30T09:31:47.298Z"
      },
      {
        "duration": 12,
        "start_time": "2022-03-30T09:31:47.313Z"
      },
      {
        "duration": 56,
        "start_time": "2022-03-30T09:31:47.327Z"
      },
      {
        "duration": 9,
        "start_time": "2022-03-30T09:31:47.386Z"
      },
      {
        "duration": 23,
        "start_time": "2022-03-30T09:31:47.398Z"
      },
      {
        "duration": 52,
        "start_time": "2022-03-30T09:31:47.424Z"
      },
      {
        "duration": 17,
        "start_time": "2022-03-30T09:31:47.478Z"
      },
      {
        "duration": 18,
        "start_time": "2022-03-30T09:31:47.497Z"
      },
      {
        "duration": 1476,
        "start_time": "2022-03-30T09:43:20.052Z"
      },
      {
        "duration": 135,
        "start_time": "2022-03-30T09:43:21.531Z"
      },
      {
        "duration": 25,
        "start_time": "2022-03-30T09:43:21.668Z"
      },
      {
        "duration": 9,
        "start_time": "2022-03-30T09:43:21.695Z"
      },
      {
        "duration": 28,
        "start_time": "2022-03-30T09:43:21.708Z"
      },
      {
        "duration": 314,
        "start_time": "2022-03-30T09:43:21.738Z"
      },
      {
        "duration": 279,
        "start_time": "2022-03-30T09:43:22.054Z"
      },
      {
        "duration": 5,
        "start_time": "2022-03-30T09:43:22.336Z"
      },
      {
        "duration": 9619,
        "start_time": "2022-03-30T09:43:22.343Z"
      },
      {
        "duration": 10,
        "start_time": "2022-03-30T09:43:31.965Z"
      },
      {
        "duration": 727,
        "start_time": "2022-03-30T09:43:31.977Z"
      },
      {
        "duration": 9,
        "start_time": "2022-03-30T09:43:32.707Z"
      },
      {
        "duration": 23,
        "start_time": "2022-03-30T09:43:32.718Z"
      },
      {
        "duration": 7,
        "start_time": "2022-03-30T09:43:32.745Z"
      },
      {
        "duration": 10,
        "start_time": "2022-03-30T09:43:32.775Z"
      },
      {
        "duration": 6,
        "start_time": "2022-03-30T09:43:32.787Z"
      },
      {
        "duration": 295,
        "start_time": "2022-03-30T09:43:32.795Z"
      },
      {
        "duration": 10603,
        "start_time": "2022-03-30T09:43:33.093Z"
      },
      {
        "duration": 6,
        "start_time": "2022-03-30T09:43:43.698Z"
      },
      {
        "duration": 3281,
        "start_time": "2022-03-30T09:43:43.706Z"
      },
      {
        "duration": 11,
        "start_time": "2022-03-30T09:43:46.989Z"
      },
      {
        "duration": 11,
        "start_time": "2022-03-30T09:43:47.002Z"
      },
      {
        "duration": 23,
        "start_time": "2022-03-30T09:43:47.015Z"
      },
      {
        "duration": 37,
        "start_time": "2022-03-30T09:43:47.040Z"
      },
      {
        "duration": 416,
        "start_time": "2022-03-30T09:43:47.080Z"
      },
      {
        "duration": 50,
        "start_time": "2022-03-30T09:43:47.499Z"
      },
      {
        "duration": 123,
        "start_time": "2022-03-30T09:43:47.552Z"
      },
      {
        "duration": 29,
        "start_time": "2022-03-30T09:43:47.678Z"
      },
      {
        "duration": 17,
        "start_time": "2022-03-30T09:43:47.710Z"
      },
      {
        "duration": 46,
        "start_time": "2022-03-30T09:43:47.730Z"
      },
      {
        "duration": 16,
        "start_time": "2022-03-30T09:43:47.778Z"
      },
      {
        "duration": 31,
        "start_time": "2022-03-30T09:43:47.796Z"
      },
      {
        "duration": 49,
        "start_time": "2022-03-30T09:43:47.830Z"
      },
      {
        "duration": 21,
        "start_time": "2022-03-30T09:43:47.881Z"
      },
      {
        "duration": 24,
        "start_time": "2022-03-30T09:43:47.905Z"
      },
      {
        "duration": 8,
        "start_time": "2022-03-30T18:48:36.673Z"
      },
      {
        "duration": 1365,
        "start_time": "2022-03-30T18:48:50.776Z"
      },
      {
        "duration": 121,
        "start_time": "2022-03-30T18:48:52.143Z"
      },
      {
        "duration": 16,
        "start_time": "2022-03-30T18:48:52.267Z"
      },
      {
        "duration": 6,
        "start_time": "2022-03-30T18:48:52.284Z"
      },
      {
        "duration": 8,
        "start_time": "2022-03-30T18:48:52.292Z"
      },
      {
        "duration": 202,
        "start_time": "2022-03-30T18:48:52.302Z"
      },
      {
        "duration": 195,
        "start_time": "2022-03-30T18:48:52.505Z"
      },
      {
        "duration": 4,
        "start_time": "2022-03-30T18:48:52.702Z"
      },
      {
        "duration": 6972,
        "start_time": "2022-03-30T18:48:52.707Z"
      },
      {
        "duration": 4,
        "start_time": "2022-03-30T18:48:59.681Z"
      },
      {
        "duration": 499,
        "start_time": "2022-03-30T18:48:59.687Z"
      },
      {
        "duration": 9,
        "start_time": "2022-03-30T18:49:00.188Z"
      },
      {
        "duration": 15,
        "start_time": "2022-03-30T18:49:00.199Z"
      },
      {
        "duration": 7,
        "start_time": "2022-03-30T18:49:00.218Z"
      },
      {
        "duration": 10,
        "start_time": "2022-03-30T18:49:00.227Z"
      },
      {
        "duration": 14,
        "start_time": "2022-03-30T18:49:00.238Z"
      },
      {
        "duration": 146,
        "start_time": "2022-03-30T18:49:00.254Z"
      },
      {
        "duration": 6187,
        "start_time": "2022-03-30T18:49:00.402Z"
      },
      {
        "duration": 3,
        "start_time": "2022-03-30T18:49:06.591Z"
      },
      {
        "duration": 126,
        "start_time": "2022-03-30T18:49:06.596Z"
      },
      {
        "duration": 1,
        "start_time": "2022-03-30T18:49:06.723Z"
      },
      {
        "duration": 0,
        "start_time": "2022-03-30T18:49:06.725Z"
      },
      {
        "duration": 0,
        "start_time": "2022-03-30T18:49:06.726Z"
      },
      {
        "duration": 0,
        "start_time": "2022-03-30T18:49:06.726Z"
      },
      {
        "duration": 0,
        "start_time": "2022-03-30T18:49:06.728Z"
      },
      {
        "duration": 0,
        "start_time": "2022-03-30T18:49:06.737Z"
      },
      {
        "duration": 0,
        "start_time": "2022-03-30T18:49:06.738Z"
      },
      {
        "duration": 0,
        "start_time": "2022-03-30T18:49:06.739Z"
      },
      {
        "duration": 0,
        "start_time": "2022-03-30T18:49:06.740Z"
      },
      {
        "duration": 0,
        "start_time": "2022-03-30T18:49:06.741Z"
      },
      {
        "duration": 0,
        "start_time": "2022-03-30T18:49:06.742Z"
      },
      {
        "duration": 0,
        "start_time": "2022-03-30T18:49:06.743Z"
      },
      {
        "duration": 0,
        "start_time": "2022-03-30T18:49:06.744Z"
      },
      {
        "duration": 0,
        "start_time": "2022-03-30T18:49:06.745Z"
      },
      {
        "duration": 0,
        "start_time": "2022-03-30T18:49:06.746Z"
      },
      {
        "duration": 3,
        "start_time": "2022-03-30T18:49:50.330Z"
      },
      {
        "duration": 4286,
        "start_time": "2022-03-30T18:49:52.830Z"
      },
      {
        "duration": 1220,
        "start_time": "2022-03-30T18:50:14.744Z"
      },
      {
        "duration": 125,
        "start_time": "2022-03-30T18:50:15.965Z"
      },
      {
        "duration": 16,
        "start_time": "2022-03-30T18:50:16.092Z"
      },
      {
        "duration": 6,
        "start_time": "2022-03-30T18:50:16.109Z"
      },
      {
        "duration": 8,
        "start_time": "2022-03-30T18:50:16.137Z"
      },
      {
        "duration": 225,
        "start_time": "2022-03-30T18:50:16.147Z"
      },
      {
        "duration": 200,
        "start_time": "2022-03-30T18:50:16.374Z"
      },
      {
        "duration": 5,
        "start_time": "2022-03-30T18:50:16.576Z"
      },
      {
        "duration": 7084,
        "start_time": "2022-03-30T18:50:16.583Z"
      },
      {
        "duration": 5,
        "start_time": "2022-03-30T18:50:23.669Z"
      },
      {
        "duration": 498,
        "start_time": "2022-03-30T18:50:23.676Z"
      },
      {
        "duration": 8,
        "start_time": "2022-03-30T18:50:24.176Z"
      },
      {
        "duration": 14,
        "start_time": "2022-03-30T18:50:24.185Z"
      },
      {
        "duration": 6,
        "start_time": "2022-03-30T18:50:24.202Z"
      },
      {
        "duration": 10,
        "start_time": "2022-03-30T18:50:24.210Z"
      },
      {
        "duration": 6,
        "start_time": "2022-03-30T18:50:24.222Z"
      },
      {
        "duration": 157,
        "start_time": "2022-03-30T18:50:24.230Z"
      },
      {
        "duration": 6296,
        "start_time": "2022-03-30T18:50:24.389Z"
      },
      {
        "duration": 6,
        "start_time": "2022-03-30T18:50:30.688Z"
      },
      {
        "duration": 4370,
        "start_time": "2022-03-30T18:50:30.696Z"
      },
      {
        "duration": 9,
        "start_time": "2022-03-30T18:50:35.068Z"
      },
      {
        "duration": 19,
        "start_time": "2022-03-30T18:50:35.080Z"
      },
      {
        "duration": 42,
        "start_time": "2022-03-30T18:50:35.102Z"
      },
      {
        "duration": 5,
        "start_time": "2022-03-30T18:50:35.147Z"
      },
      {
        "duration": 249,
        "start_time": "2022-03-30T18:50:35.155Z"
      },
      {
        "duration": 33,
        "start_time": "2022-03-30T18:50:35.406Z"
      },
      {
        "duration": 50,
        "start_time": "2022-03-30T18:50:35.440Z"
      },
      {
        "duration": 11,
        "start_time": "2022-03-30T18:50:35.492Z"
      },
      {
        "duration": 33,
        "start_time": "2022-03-30T18:50:35.505Z"
      },
      {
        "duration": 17,
        "start_time": "2022-03-30T18:50:35.540Z"
      },
      {
        "duration": 29,
        "start_time": "2022-03-30T18:50:35.559Z"
      },
      {
        "duration": 22,
        "start_time": "2022-03-30T18:50:35.590Z"
      },
      {
        "duration": 12,
        "start_time": "2022-03-30T18:50:35.614Z"
      },
      {
        "duration": 17,
        "start_time": "2022-03-30T18:50:35.628Z"
      },
      {
        "duration": 22,
        "start_time": "2022-03-30T18:50:35.647Z"
      }
    ],
    "kernelspec": {
      "display_name": "Python 3 (ipykernel)",
      "language": "python",
      "name": "python3"
    },
    "language_info": {
      "codemirror_mode": {
        "name": "ipython",
        "version": 3
      },
      "file_extension": ".py",
      "mimetype": "text/x-python",
      "name": "python",
      "nbconvert_exporter": "python",
      "pygments_lexer": "ipython3",
      "version": "3.7.8"
    },
    "toc": {
      "base_numbering": 1,
      "nav_menu": {},
      "number_sections": true,
      "sideBar": true,
      "skip_h1_title": false,
      "title_cell": "Table of Contents",
      "title_sidebar": "Contents",
      "toc_cell": false,
      "toc_position": {
        "height": "calc(100% - 180px)",
        "left": "10px",
        "top": "150px",
        "width": "191.475px"
      },
      "toc_section_display": true,
      "toc_window_display": true
    },
    "colab": {
      "name": "deli_pract_proj_02_reliability_v2_0.ipynb",
      "provenance": [],
      "collapsed_sections": [],
      "toc_visible": true,
      "include_colab_link": true
    }
  },
  "nbformat": 4,
  "nbformat_minor": 5
}