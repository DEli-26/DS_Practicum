{
  "cells": [
    {
      "cell_type": "markdown",
      "metadata": {
        "id": "view-in-github",
        "colab_type": "text"
      },
      "source": [
        "<a href=\"https://colab.research.google.com/github/DEli-26/DS_Practicum/blob/main/07_churn/deli_proj_pract_07_churn_v2_0.ipynb\" target=\"_parent\"><img src=\"https://colab.research.google.com/assets/colab-badge.svg\" alt=\"Open In Colab\"/></a>"
      ]
    },
    {
      "cell_type": "markdown",
      "id": "615eeced",
      "metadata": {
        "id": "615eeced"
      },
      "source": [
        "<font size=6><b>**Я.Практикум. Проект №7**</b></font>\n",
        "    \n",
        "<font size=6><b>**Обучение с учителем**</b></font>\n",
        "\n",
        "***\n",
        "\n",
        "# Постановка задачи\n",
        "\n",
        "**Заказчик:** «Бета-Банк».\n",
        "\n",
        "**Цель:** Спрогнозировать, уйдёт клиент из банка в ближайшее время или нет. \n",
        "\n",
        "**Задачи:** \n",
        "1. изучить данные;\n",
        "1. разделить данные на обучающую, валидационную и тестовую выборки;\n",
        "1. обучить модель машинного обучения;\n",
        "1. получить среднее гармоническое значение точности и полноты модели на тестовой выборке - F1, не менее 59%;\n",
        "1. измерить ROC-AUC модели и сравнить ее значение с F1-мерой.\n",
        "\n",
        "**Исходные данные:** исторические данные о поведении клиентов и расторжении договоров с банком. "
      ]
    },
    {
      "cell_type": "markdown",
      "source": [
        "# Обзор данных"
      ],
      "metadata": {
        "id": "f-21QbqYdz3-"
      },
      "id": "f-21QbqYdz3-"
    },
    {
      "cell_type": "markdown",
      "source": [
        "## Подготовка окружения\n",
        "Загрузим библиотеки, необходимые для выполнения проекта, и сами данные."
      ],
      "metadata": {
        "id": "MZ5u6EA6d2Uu"
      },
      "id": "MZ5u6EA6d2Uu"
    },
    {
      "cell_type": "code",
      "execution_count": 2,
      "id": "ebbe3193",
      "metadata": {
        "colab": {
          "base_uri": "https://localhost:8080/"
        },
        "id": "ebbe3193",
        "outputId": "fa9cc4fa-cc92-4a4b-dfe8-2d44900b5c2c"
      },
      "outputs": [
        {
          "output_type": "stream",
          "name": "stdout",
          "text": [
            "Looking in indexes: https://pypi.org/simple, https://us-python.pkg.dev/colab-wheels/public/simple/\n",
            "Collecting phik\n",
            "  Downloading phik-0.12.2-cp37-cp37m-manylinux_2_17_x86_64.manylinux2014_x86_64.whl (690 kB)\n",
            "\u001b[K     |████████████████████████████████| 690 kB 5.1 MB/s \n",
            "\u001b[?25hRequirement already satisfied: joblib>=0.14.1 in /usr/local/lib/python3.7/dist-packages (from phik) (1.1.0)\n",
            "Requirement already satisfied: scipy>=1.5.2 in /usr/local/lib/python3.7/dist-packages (from phik) (1.7.3)\n",
            "Requirement already satisfied: matplotlib>=2.2.3 in /usr/local/lib/python3.7/dist-packages (from phik) (3.2.2)\n",
            "Requirement already satisfied: numpy>=1.18.0 in /usr/local/lib/python3.7/dist-packages (from phik) (1.21.6)\n",
            "Requirement already satisfied: pandas>=0.25.1 in /usr/local/lib/python3.7/dist-packages (from phik) (1.3.5)\n",
            "Requirement already satisfied: cycler>=0.10 in /usr/local/lib/python3.7/dist-packages (from matplotlib>=2.2.3->phik) (0.11.0)\n",
            "Requirement already satisfied: pyparsing!=2.0.4,!=2.1.2,!=2.1.6,>=2.0.1 in /usr/local/lib/python3.7/dist-packages (from matplotlib>=2.2.3->phik) (3.0.9)\n",
            "Requirement already satisfied: kiwisolver>=1.0.1 in /usr/local/lib/python3.7/dist-packages (from matplotlib>=2.2.3->phik) (1.4.4)\n",
            "Requirement already satisfied: python-dateutil>=2.1 in /usr/local/lib/python3.7/dist-packages (from matplotlib>=2.2.3->phik) (2.8.2)\n",
            "Requirement already satisfied: typing-extensions in /usr/local/lib/python3.7/dist-packages (from kiwisolver>=1.0.1->matplotlib>=2.2.3->phik) (4.1.1)\n",
            "Requirement already satisfied: pytz>=2017.3 in /usr/local/lib/python3.7/dist-packages (from pandas>=0.25.1->phik) (2022.2.1)\n",
            "Requirement already satisfied: six>=1.5 in /usr/local/lib/python3.7/dist-packages (from python-dateutil>=2.1->matplotlib>=2.2.3->phik) (1.15.0)\n",
            "Installing collected packages: phik\n",
            "Successfully installed phik-0.12.2\n"
          ]
        }
      ],
      "source": [
        "import pandas as pd\n",
        "import numpy as np\n",
        "import matplotlib.pyplot as plt\n",
        "import seaborn as sns\n",
        "from sklearn.model_selection import train_test_split, GridSearchCV, RandomizedSearchCV, StratifiedKFold\n",
        "from sklearn.metrics import f1_score, roc_auc_score\n",
        "from sklearn.tree import DecisionTreeClassifier\n",
        "from sklearn.ensemble import RandomForestClassifier\n",
        "from sklearn.linear_model import LogisticRegression\n",
        "from sklearn.dummy import DummyClassifier\n",
        "from sklearn.utils import shuffle\n",
        "from sklearn.preprocessing import MinMaxScaler\n",
        "from tqdm.notebook import tqdm\n",
        "\n",
        "try:\n",
        "    import phik\n",
        "except: \n",
        "    ! pip install phik\n",
        "    import phik\n",
        "\n",
        "# Темная тема графиков\n",
        "plt.style.use('dark_background')"
      ]
    },
    {
      "cell_type": "markdown",
      "source": [
        "--Здесь была загрузка данных с Google Drive--"
      ],
      "metadata": {
        "id": "nAqlbfdysllX"
      },
      "id": "nAqlbfdysllX"
    },
    {
      "cell_type": "markdown",
      "id": "eef7243a",
      "metadata": {
        "id": "eef7243a"
      },
      "source": [
        "Вызовем первые 5 строк, общую информацию о таблице, а также количество дубликатов."
      ]
    },
    {
      "cell_type": "code",
      "execution_count": 4,
      "id": "06f94d9a",
      "metadata": {
        "colab": {
          "base_uri": "https://localhost:8080/",
          "height": 206
        },
        "id": "06f94d9a",
        "outputId": "0a044edd-03f5-4f47-f763-81f5e3d530a2"
      },
      "outputs": [
        {
          "output_type": "execute_result",
          "data": {
            "text/plain": [
              "   RowNumber  CustomerId   Surname  CreditScore Geography  Gender  Age  \\\n",
              "0          1    15634602  Hargrave          619    France  Female   42   \n",
              "1          2    15647311      Hill          608     Spain  Female   41   \n",
              "2          3    15619304      Onio          502    France  Female   42   \n",
              "3          4    15701354      Boni          699    France  Female   39   \n",
              "4          5    15737888  Mitchell          850     Spain  Female   43   \n",
              "\n",
              "   Tenure    Balance  NumOfProducts  HasCrCard  IsActiveMember  \\\n",
              "0     2.0       0.00              1          1               1   \n",
              "1     1.0   83807.86              1          0               1   \n",
              "2     8.0  159660.80              3          1               0   \n",
              "3     1.0       0.00              2          0               0   \n",
              "4     2.0  125510.82              1          1               1   \n",
              "\n",
              "   EstimatedSalary  Exited  \n",
              "0        101348.88       1  \n",
              "1        112542.58       0  \n",
              "2        113931.57       1  \n",
              "3         93826.63       0  \n",
              "4         79084.10       0  "
            ],
            "text/html": [
              "\n",
              "  <div id=\"df-22a05c55-03f0-4029-9c2a-af6baf0644b5\">\n",
              "    <div class=\"colab-df-container\">\n",
              "      <div>\n",
              "<style scoped>\n",
              "    .dataframe tbody tr th:only-of-type {\n",
              "        vertical-align: middle;\n",
              "    }\n",
              "\n",
              "    .dataframe tbody tr th {\n",
              "        vertical-align: top;\n",
              "    }\n",
              "\n",
              "    .dataframe thead th {\n",
              "        text-align: right;\n",
              "    }\n",
              "</style>\n",
              "<table border=\"1\" class=\"dataframe\">\n",
              "  <thead>\n",
              "    <tr style=\"text-align: right;\">\n",
              "      <th></th>\n",
              "      <th>RowNumber</th>\n",
              "      <th>CustomerId</th>\n",
              "      <th>Surname</th>\n",
              "      <th>CreditScore</th>\n",
              "      <th>Geography</th>\n",
              "      <th>Gender</th>\n",
              "      <th>Age</th>\n",
              "      <th>Tenure</th>\n",
              "      <th>Balance</th>\n",
              "      <th>NumOfProducts</th>\n",
              "      <th>HasCrCard</th>\n",
              "      <th>IsActiveMember</th>\n",
              "      <th>EstimatedSalary</th>\n",
              "      <th>Exited</th>\n",
              "    </tr>\n",
              "  </thead>\n",
              "  <tbody>\n",
              "    <tr>\n",
              "      <th>0</th>\n",
              "      <td>1</td>\n",
              "      <td>15634602</td>\n",
              "      <td>Hargrave</td>\n",
              "      <td>619</td>\n",
              "      <td>France</td>\n",
              "      <td>Female</td>\n",
              "      <td>42</td>\n",
              "      <td>2.0</td>\n",
              "      <td>0.00</td>\n",
              "      <td>1</td>\n",
              "      <td>1</td>\n",
              "      <td>1</td>\n",
              "      <td>101348.88</td>\n",
              "      <td>1</td>\n",
              "    </tr>\n",
              "    <tr>\n",
              "      <th>1</th>\n",
              "      <td>2</td>\n",
              "      <td>15647311</td>\n",
              "      <td>Hill</td>\n",
              "      <td>608</td>\n",
              "      <td>Spain</td>\n",
              "      <td>Female</td>\n",
              "      <td>41</td>\n",
              "      <td>1.0</td>\n",
              "      <td>83807.86</td>\n",
              "      <td>1</td>\n",
              "      <td>0</td>\n",
              "      <td>1</td>\n",
              "      <td>112542.58</td>\n",
              "      <td>0</td>\n",
              "    </tr>\n",
              "    <tr>\n",
              "      <th>2</th>\n",
              "      <td>3</td>\n",
              "      <td>15619304</td>\n",
              "      <td>Onio</td>\n",
              "      <td>502</td>\n",
              "      <td>France</td>\n",
              "      <td>Female</td>\n",
              "      <td>42</td>\n",
              "      <td>8.0</td>\n",
              "      <td>159660.80</td>\n",
              "      <td>3</td>\n",
              "      <td>1</td>\n",
              "      <td>0</td>\n",
              "      <td>113931.57</td>\n",
              "      <td>1</td>\n",
              "    </tr>\n",
              "    <tr>\n",
              "      <th>3</th>\n",
              "      <td>4</td>\n",
              "      <td>15701354</td>\n",
              "      <td>Boni</td>\n",
              "      <td>699</td>\n",
              "      <td>France</td>\n",
              "      <td>Female</td>\n",
              "      <td>39</td>\n",
              "      <td>1.0</td>\n",
              "      <td>0.00</td>\n",
              "      <td>2</td>\n",
              "      <td>0</td>\n",
              "      <td>0</td>\n",
              "      <td>93826.63</td>\n",
              "      <td>0</td>\n",
              "    </tr>\n",
              "    <tr>\n",
              "      <th>4</th>\n",
              "      <td>5</td>\n",
              "      <td>15737888</td>\n",
              "      <td>Mitchell</td>\n",
              "      <td>850</td>\n",
              "      <td>Spain</td>\n",
              "      <td>Female</td>\n",
              "      <td>43</td>\n",
              "      <td>2.0</td>\n",
              "      <td>125510.82</td>\n",
              "      <td>1</td>\n",
              "      <td>1</td>\n",
              "      <td>1</td>\n",
              "      <td>79084.10</td>\n",
              "      <td>0</td>\n",
              "    </tr>\n",
              "  </tbody>\n",
              "</table>\n",
              "</div>\n",
              "      <button class=\"colab-df-convert\" onclick=\"convertToInteractive('df-22a05c55-03f0-4029-9c2a-af6baf0644b5')\"\n",
              "              title=\"Convert this dataframe to an interactive table.\"\n",
              "              style=\"display:none;\">\n",
              "        \n",
              "  <svg xmlns=\"http://www.w3.org/2000/svg\" height=\"24px\"viewBox=\"0 0 24 24\"\n",
              "       width=\"24px\">\n",
              "    <path d=\"M0 0h24v24H0V0z\" fill=\"none\"/>\n",
              "    <path d=\"M18.56 5.44l.94 2.06.94-2.06 2.06-.94-2.06-.94-.94-2.06-.94 2.06-2.06.94zm-11 1L8.5 8.5l.94-2.06 2.06-.94-2.06-.94L8.5 2.5l-.94 2.06-2.06.94zm10 10l.94 2.06.94-2.06 2.06-.94-2.06-.94-.94-2.06-.94 2.06-2.06.94z\"/><path d=\"M17.41 7.96l-1.37-1.37c-.4-.4-.92-.59-1.43-.59-.52 0-1.04.2-1.43.59L10.3 9.45l-7.72 7.72c-.78.78-.78 2.05 0 2.83L4 21.41c.39.39.9.59 1.41.59.51 0 1.02-.2 1.41-.59l7.78-7.78 2.81-2.81c.8-.78.8-2.07 0-2.86zM5.41 20L4 18.59l7.72-7.72 1.47 1.35L5.41 20z\"/>\n",
              "  </svg>\n",
              "      </button>\n",
              "      \n",
              "  <style>\n",
              "    .colab-df-container {\n",
              "      display:flex;\n",
              "      flex-wrap:wrap;\n",
              "      gap: 12px;\n",
              "    }\n",
              "\n",
              "    .colab-df-convert {\n",
              "      background-color: #E8F0FE;\n",
              "      border: none;\n",
              "      border-radius: 50%;\n",
              "      cursor: pointer;\n",
              "      display: none;\n",
              "      fill: #1967D2;\n",
              "      height: 32px;\n",
              "      padding: 0 0 0 0;\n",
              "      width: 32px;\n",
              "    }\n",
              "\n",
              "    .colab-df-convert:hover {\n",
              "      background-color: #E2EBFA;\n",
              "      box-shadow: 0px 1px 2px rgba(60, 64, 67, 0.3), 0px 1px 3px 1px rgba(60, 64, 67, 0.15);\n",
              "      fill: #174EA6;\n",
              "    }\n",
              "\n",
              "    [theme=dark] .colab-df-convert {\n",
              "      background-color: #3B4455;\n",
              "      fill: #D2E3FC;\n",
              "    }\n",
              "\n",
              "    [theme=dark] .colab-df-convert:hover {\n",
              "      background-color: #434B5C;\n",
              "      box-shadow: 0px 1px 3px 1px rgba(0, 0, 0, 0.15);\n",
              "      filter: drop-shadow(0px 1px 2px rgba(0, 0, 0, 0.3));\n",
              "      fill: #FFFFFF;\n",
              "    }\n",
              "  </style>\n",
              "\n",
              "      <script>\n",
              "        const buttonEl =\n",
              "          document.querySelector('#df-22a05c55-03f0-4029-9c2a-af6baf0644b5 button.colab-df-convert');\n",
              "        buttonEl.style.display =\n",
              "          google.colab.kernel.accessAllowed ? 'block' : 'none';\n",
              "\n",
              "        async function convertToInteractive(key) {\n",
              "          const element = document.querySelector('#df-22a05c55-03f0-4029-9c2a-af6baf0644b5');\n",
              "          const dataTable =\n",
              "            await google.colab.kernel.invokeFunction('convertToInteractive',\n",
              "                                                     [key], {});\n",
              "          if (!dataTable) return;\n",
              "\n",
              "          const docLinkHtml = 'Like what you see? Visit the ' +\n",
              "            '<a target=\"_blank\" href=https://colab.research.google.com/notebooks/data_table.ipynb>data table notebook</a>'\n",
              "            + ' to learn more about interactive tables.';\n",
              "          element.innerHTML = '';\n",
              "          dataTable['output_type'] = 'display_data';\n",
              "          await google.colab.output.renderOutput(dataTable, element);\n",
              "          const docLink = document.createElement('div');\n",
              "          docLink.innerHTML = docLinkHtml;\n",
              "          element.appendChild(docLink);\n",
              "        }\n",
              "      </script>\n",
              "    </div>\n",
              "  </div>\n",
              "  "
            ]
          },
          "metadata": {},
          "execution_count": 4
        }
      ],
      "source": [
        "df.head()"
      ]
    },
    {
      "cell_type": "code",
      "execution_count": 5,
      "id": "c53fda38",
      "metadata": {
        "scrolled": true,
        "colab": {
          "base_uri": "https://localhost:8080/"
        },
        "id": "c53fda38",
        "outputId": "9a8b5850-1ade-455d-e137-83a8adefaf8b"
      },
      "outputs": [
        {
          "output_type": "stream",
          "name": "stdout",
          "text": [
            "<class 'pandas.core.frame.DataFrame'>\n",
            "RangeIndex: 10000 entries, 0 to 9999\n",
            "Data columns (total 14 columns):\n",
            " #   Column           Non-Null Count  Dtype  \n",
            "---  ------           --------------  -----  \n",
            " 0   RowNumber        10000 non-null  int64  \n",
            " 1   CustomerId       10000 non-null  int64  \n",
            " 2   Surname          10000 non-null  object \n",
            " 3   CreditScore      10000 non-null  int64  \n",
            " 4   Geography        10000 non-null  object \n",
            " 5   Gender           10000 non-null  object \n",
            " 6   Age              10000 non-null  int64  \n",
            " 7   Tenure           9091 non-null   float64\n",
            " 8   Balance          10000 non-null  float64\n",
            " 9   NumOfProducts    10000 non-null  int64  \n",
            " 10  HasCrCard        10000 non-null  int64  \n",
            " 11  IsActiveMember   10000 non-null  int64  \n",
            " 12  EstimatedSalary  10000 non-null  float64\n",
            " 13  Exited           10000 non-null  int64  \n",
            "dtypes: float64(3), int64(8), object(3)\n",
            "memory usage: 1.1+ MB\n"
          ]
        }
      ],
      "source": [
        "df.info()"
      ]
    },
    {
      "cell_type": "code",
      "execution_count": 6,
      "id": "b80fb31d",
      "metadata": {
        "colab": {
          "base_uri": "https://localhost:8080/"
        },
        "id": "b80fb31d",
        "outputId": "14b5d101-f4df-40a8-ae66-6aed9f4f893a"
      },
      "outputs": [
        {
          "output_type": "execute_result",
          "data": {
            "text/plain": [
              "0"
            ]
          },
          "metadata": {},
          "execution_count": 6
        }
      ],
      "source": [
        "df.duplicated().sum()"
      ]
    },
    {
      "cell_type": "code",
      "execution_count": 7,
      "id": "c0a074e6",
      "metadata": {
        "colab": {
          "base_uri": "https://localhost:8080/"
        },
        "id": "c0a074e6",
        "outputId": "a9b3bcdb-4dcf-4e81-e5a4-cffe0f88621a"
      },
      "outputs": [
        {
          "output_type": "execute_result",
          "data": {
            "text/plain": [
              "10000"
            ]
          },
          "metadata": {},
          "execution_count": 7
        }
      ],
      "source": [
        "df['RowNumber'].nunique()"
      ]
    },
    {
      "cell_type": "markdown",
      "id": "7ed2cb22",
      "metadata": {
        "id": "7ed2cb22"
      },
      "source": [
        "К признакам относятся следующие столбцы:\n",
        "* `RowNumber` — индекс строки в данных;\n",
        "* `CustomerId` — уникальный идентификатор клиента;\n",
        "* `Surname` — фамилия;\n",
        "* `CreditScore` — кредитный рейтинг;\n",
        "* `Geography` — страна проживания;\n",
        "* `Gender` — пол;\n",
        "* `Age` — возраст;\n",
        "* `Tenure` — сколько лет человек является клиентом банка;\n",
        "* `Balance` — баланс на счёте;\n",
        "* `NumOfProducts` — количество продуктов банка, используемых клиентом;\n",
        "* `HasCrCard` — наличие кредитной карты;\n",
        "* `IsActiveMember` — активность клиента;\n",
        "* `EstimatedSalary` — предполагаемая зарплата.\n",
        "\n",
        "Целевой признак таблицы:\n",
        "* `Exited` — факт ухода клиента.\n",
        "\n",
        "**По полученным данным видно следующее:**\n",
        "\n",
        "* исходная таблица содержит 14 столбцов и 10 000 объектов для исследования;\n",
        "* столбец `RowNumber` дублирует значения индекса, значит его можно исключить из рассмотрения;\n",
        "* в столбце `Tenure` присутствуют пропуски, которые надо обработать перед формированием модели."
      ]
    },
    {
      "cell_type": "markdown",
      "id": "e4ebe252",
      "metadata": {
        "id": "e4ebe252"
      },
      "source": [
        "## Анализ взаимосвязей в данных"
      ]
    },
    {
      "cell_type": "markdown",
      "id": "ec1ef56e",
      "metadata": {
        "id": "ec1ef56e"
      },
      "source": [
        "Определим наличие взаимосвязей между данными в разных столбцах. Для этого используем библиотеку phik, которая определяет нелинейные взаимосвязи, в том числе, категориальных и ординарных переменных."
      ]
    },
    {
      "cell_type": "code",
      "execution_count": 8,
      "id": "a0faf49d",
      "metadata": {
        "scrolled": false,
        "colab": {
          "base_uri": "https://localhost:8080/",
          "height": 399
        },
        "id": "a0faf49d",
        "outputId": "1e871aa0-2f21-4e6f-b1d7-979e6089614d"
      },
      "outputs": [
        {
          "output_type": "stream",
          "name": "stdout",
          "text": [
            "interval columns not set, guessing: ['RowNumber', 'CustomerId', 'CreditScore', 'Age', 'Tenure', 'Balance', 'NumOfProducts', 'HasCrCard', 'IsActiveMember', 'EstimatedSalary', 'Exited']\n"
          ]
        },
        {
          "output_type": "stream",
          "name": "stderr",
          "text": [
            "/usr/local/lib/python3.7/dist-packages/phik/data_quality.py:62: UserWarning: The number of unique values of variable Surname is large: 2932. Are you sure this is not an interval variable? Analysis for pairs of variables including Surname can be slow.\n",
            "  col, df[col].nunique()\n"
          ]
        },
        {
          "output_type": "display_data",
          "data": {
            "text/plain": [
              "<Figure size 360x360 with 2 Axes>"
            ],
            "image/png": "[encoded data removed]"
          },
          "metadata": {}
        }
      ],
      "source": [
        "plt.figure(figsize=(5, 5))\n",
        "sns.heatmap(df.phik_matrix(dropna=False)[['Exited']].sort_values(by='Exited', \n",
        "                                                                 ascending=False), \n",
        "            annot=True)\n",
        "plt.show()"
      ]
    },
    {
      "cell_type": "markdown",
      "id": "b4437a2a",
      "metadata": {
        "id": "b4437a2a"
      },
      "source": [
        "На полученном рисунке видно, что отсутствует корреляция целевого признака `Exited` со следующими признаками: `EstimatedSalary`, `HasCrCard`, `Surname`, `RowNumber`.\n",
        "Кроме того, для признаков `CustomerId` и `Tenure` корреляция менее 5%.\n",
        "Таким образом, перечисленные признаки не должны оказывать существенного вклада в точность модели и могут увеличивать время ее обучения.\n",
        "В этой связи представляется целесообразным их удаление из рассматриваемой таблицы. "
      ]
    },
    {
      "cell_type": "code",
      "execution_count": 9,
      "id": "89ccb724",
      "metadata": {
        "id": "89ccb724"
      },
      "outputs": [],
      "source": [
        "df_cut = df.drop(columns=[\n",
        "    'RowNumber', 'Surname', 'HasCrCard', 'EstimatedSalary', 'CustomerId',\n",
        "    'Tenure'\n",
        "],\n",
        "                 axis=1)"
      ]
    },
    {
      "cell_type": "markdown",
      "id": "b6add167",
      "metadata": {
        "id": "b6add167"
      },
      "source": [
        "## Кодирование данных"
      ]
    },
    {
      "cell_type": "markdown",
      "id": "2b129a99",
      "metadata": {
        "id": "2b129a99"
      },
      "source": [
        "В настоящей работе планируется анализировать модели дерева решений, случайного леса и логистической регрессии.\n",
        "Для перечисленных типов моделей масштабирование и стандартизация данных практически не оказывает влияния на их точность.\n",
        "\n",
        "Значения в категориальных столбцах заменим по принципу прямого кодирования."
      ]
    },
    {
      "cell_type": "code",
      "execution_count": 10,
      "id": "1fc3ed9b",
      "metadata": {
        "colab": {
          "base_uri": "https://localhost:8080/",
          "height": 206
        },
        "id": "1fc3ed9b",
        "outputId": "717f8638-5900-4026-e291-dc1597c61d7c"
      },
      "outputs": [
        {
          "output_type": "execute_result",
          "data": {
            "text/plain": [
              "   CreditScore  Age    Balance  NumOfProducts  IsActiveMember  Exited  \\\n",
              "0          619   42       0.00              1               1       1   \n",
              "1          608   41   83807.86              1               1       0   \n",
              "2          502   42  159660.80              3               0       1   \n",
              "3          699   39       0.00              2               0       0   \n",
              "4          850   43  125510.82              1               1       0   \n",
              "\n",
              "   Geography_Germany  Geography_Spain  Gender_Male  \n",
              "0                  0                0            0  \n",
              "1                  0                1            0  \n",
              "2                  0                0            0  \n",
              "3                  0                0            0  \n",
              "4                  0                1            0  "
            ],
            "text/html": [
              "\n",
              "  <div id=\"df-8eb83bc1-b54a-4468-b820-3984c2102250\">\n",
              "    <div class=\"colab-df-container\">\n",
              "      <div>\n",
              "<style scoped>\n",
              "    .dataframe tbody tr th:only-of-type {\n",
              "        vertical-align: middle;\n",
              "    }\n",
              "\n",
              "    .dataframe tbody tr th {\n",
              "        vertical-align: top;\n",
              "    }\n",
              "\n",
              "    .dataframe thead th {\n",
              "        text-align: right;\n",
              "    }\n",
              "</style>\n",
              "<table border=\"1\" class=\"dataframe\">\n",
              "  <thead>\n",
              "    <tr style=\"text-align: right;\">\n",
              "      <th></th>\n",
              "      <th>CreditScore</th>\n",
              "      <th>Age</th>\n",
              "      <th>Balance</th>\n",
              "      <th>NumOfProducts</th>\n",
              "      <th>IsActiveMember</th>\n",
              "      <th>Exited</th>\n",
              "      <th>Geography_Germany</th>\n",
              "      <th>Geography_Spain</th>\n",
              "      <th>Gender_Male</th>\n",
              "    </tr>\n",
              "  </thead>\n",
              "  <tbody>\n",
              "    <tr>\n",
              "      <th>0</th>\n",
              "      <td>619</td>\n",
              "      <td>42</td>\n",
              "      <td>0.00</td>\n",
              "      <td>1</td>\n",
              "      <td>1</td>\n",
              "      <td>1</td>\n",
              "      <td>0</td>\n",
              "      <td>0</td>\n",
              "      <td>0</td>\n",
              "    </tr>\n",
              "    <tr>\n",
              "      <th>1</th>\n",
              "      <td>608</td>\n",
              "      <td>41</td>\n",
              "      <td>83807.86</td>\n",
              "      <td>1</td>\n",
              "      <td>1</td>\n",
              "      <td>0</td>\n",
              "      <td>0</td>\n",
              "      <td>1</td>\n",
              "      <td>0</td>\n",
              "    </tr>\n",
              "    <tr>\n",
              "      <th>2</th>\n",
              "      <td>502</td>\n",
              "      <td>42</td>\n",
              "      <td>159660.80</td>\n",
              "      <td>3</td>\n",
              "      <td>0</td>\n",
              "      <td>1</td>\n",
              "      <td>0</td>\n",
              "      <td>0</td>\n",
              "      <td>0</td>\n",
              "    </tr>\n",
              "    <tr>\n",
              "      <th>3</th>\n",
              "      <td>699</td>\n",
              "      <td>39</td>\n",
              "      <td>0.00</td>\n",
              "      <td>2</td>\n",
              "      <td>0</td>\n",
              "      <td>0</td>\n",
              "      <td>0</td>\n",
              "      <td>0</td>\n",
              "      <td>0</td>\n",
              "    </tr>\n",
              "    <tr>\n",
              "      <th>4</th>\n",
              "      <td>850</td>\n",
              "      <td>43</td>\n",
              "      <td>125510.82</td>\n",
              "      <td>1</td>\n",
              "      <td>1</td>\n",
              "      <td>0</td>\n",
              "      <td>0</td>\n",
              "      <td>1</td>\n",
              "      <td>0</td>\n",
              "    </tr>\n",
              "  </tbody>\n",
              "</table>\n",
              "</div>\n",
              "      <button class=\"colab-df-convert\" onclick=\"convertToInteractive('df-8eb83bc1-b54a-4468-b820-3984c2102250')\"\n",
              "              title=\"Convert this dataframe to an interactive table.\"\n",
              "              style=\"display:none;\">\n",
              "        \n",
              "  <svg xmlns=\"http://www.w3.org/2000/svg\" height=\"24px\"viewBox=\"0 0 24 24\"\n",
              "       width=\"24px\">\n",
              "    <path d=\"M0 0h24v24H0V0z\" fill=\"none\"/>\n",
              "    <path d=\"M18.56 5.44l.94 2.06.94-2.06 2.06-.94-2.06-.94-.94-2.06-.94 2.06-2.06.94zm-11 1L8.5 8.5l.94-2.06 2.06-.94-2.06-.94L8.5 2.5l-.94 2.06-2.06.94zm10 10l.94 2.06.94-2.06 2.06-.94-2.06-.94-.94-2.06-.94 2.06-2.06.94z\"/><path d=\"M17.41 7.96l-1.37-1.37c-.4-.4-.92-.59-1.43-.59-.52 0-1.04.2-1.43.59L10.3 9.45l-7.72 7.72c-.78.78-.78 2.05 0 2.83L4 21.41c.39.39.9.59 1.41.59.51 0 1.02-.2 1.41-.59l7.78-7.78 2.81-2.81c.8-.78.8-2.07 0-2.86zM5.41 20L4 18.59l7.72-7.72 1.47 1.35L5.41 20z\"/>\n",
              "  </svg>\n",
              "      </button>\n",
              "      \n",
              "  <style>\n",
              "    .colab-df-container {\n",
              "      display:flex;\n",
              "      flex-wrap:wrap;\n",
              "      gap: 12px;\n",
              "    }\n",
              "\n",
              "    .colab-df-convert {\n",
              "      background-color: #E8F0FE;\n",
              "      border: none;\n",
              "      border-radius: 50%;\n",
              "      cursor: pointer;\n",
              "      display: none;\n",
              "      fill: #1967D2;\n",
              "      height: 32px;\n",
              "      padding: 0 0 0 0;\n",
              "      width: 32px;\n",
              "    }\n",
              "\n",
              "    .colab-df-convert:hover {\n",
              "      background-color: #E2EBFA;\n",
              "      box-shadow: 0px 1px 2px rgba(60, 64, 67, 0.3), 0px 1px 3px 1px rgba(60, 64, 67, 0.15);\n",
              "      fill: #174EA6;\n",
              "    }\n",
              "\n",
              "    [theme=dark] .colab-df-convert {\n",
              "      background-color: #3B4455;\n",
              "      fill: #D2E3FC;\n",
              "    }\n",
              "\n",
              "    [theme=dark] .colab-df-convert:hover {\n",
              "      background-color: #434B5C;\n",
              "      box-shadow: 0px 1px 3px 1px rgba(0, 0, 0, 0.15);\n",
              "      filter: drop-shadow(0px 1px 2px rgba(0, 0, 0, 0.3));\n",
              "      fill: #FFFFFF;\n",
              "    }\n",
              "  </style>\n",
              "\n",
              "      <script>\n",
              "        const buttonEl =\n",
              "          document.querySelector('#df-8eb83bc1-b54a-4468-b820-3984c2102250 button.colab-df-convert');\n",
              "        buttonEl.style.display =\n",
              "          google.colab.kernel.accessAllowed ? 'block' : 'none';\n",
              "\n",
              "        async function convertToInteractive(key) {\n",
              "          const element = document.querySelector('#df-8eb83bc1-b54a-4468-b820-3984c2102250');\n",
              "          const dataTable =\n",
              "            await google.colab.kernel.invokeFunction('convertToInteractive',\n",
              "                                                     [key], {});\n",
              "          if (!dataTable) return;\n",
              "\n",
              "          const docLinkHtml = 'Like what you see? Visit the ' +\n",
              "            '<a target=\"_blank\" href=https://colab.research.google.com/notebooks/data_table.ipynb>data table notebook</a>'\n",
              "            + ' to learn more about interactive tables.';\n",
              "          element.innerHTML = '';\n",
              "          dataTable['output_type'] = 'display_data';\n",
              "          await google.colab.output.renderOutput(dataTable, element);\n",
              "          const docLink = document.createElement('div');\n",
              "          docLink.innerHTML = docLinkHtml;\n",
              "          element.appendChild(docLink);\n",
              "        }\n",
              "      </script>\n",
              "    </div>\n",
              "  </div>\n",
              "  "
            ]
          },
          "metadata": {},
          "execution_count": 10
        }
      ],
      "source": [
        "df_cut = pd.get_dummies(df_cut, drop_first=True)\n",
        "df_cut.head()"
      ]
    },
    {
      "cell_type": "markdown",
      "id": "866a9564",
      "metadata": {
        "id": "866a9564"
      },
      "source": [
        "## Анализ баланса целевого признака"
      ]
    },
    {
      "cell_type": "markdown",
      "id": "4a951ae4",
      "metadata": {
        "id": "4a951ae4"
      },
      "source": [
        "Исследуем баланс классов целевого признака."
      ]
    },
    {
      "cell_type": "code",
      "execution_count": 11,
      "id": "9466f047",
      "metadata": {
        "scrolled": true,
        "colab": {
          "base_uri": "https://localhost:8080/"
        },
        "id": "9466f047",
        "outputId": "6c025ba9-3dea-49d3-80a0-ed2b5c917d5c"
      },
      "outputs": [
        {
          "output_type": "execute_result",
          "data": {
            "text/plain": [
              "0    0.7963\n",
              "1    0.2037\n",
              "Name: Exited, dtype: float64"
            ]
          },
          "metadata": {},
          "execution_count": 11
        }
      ],
      "source": [
        "df_cut['Exited'].value_counts(normalize=True)"
      ]
    },
    {
      "cell_type": "markdown",
      "id": "b22779b3",
      "metadata": {
        "id": "b22779b3"
      },
      "source": [
        "Полученные значения показывают, что значение `1` встречается в 4 раза реже чем `0`, что может оказать существенное влияние на точность результатов.\n",
        "В этой связи необходимо рассмотреть возможность компенсации дисбаланса.\n",
        "\n",
        "## Заключение по обзору данных\n",
        "\n",
        "Исследуемая таблица содержит данные о 10 000 клиентах банка.  \n",
        "Однако не для всех признаков установлена взаимосвязь с целевым признаком.\n",
        "В этой связи в таблице сокращено количество признаков с 13 до 7, при этом категориальные признаки закодированы по принципу прямого кодирования.\n",
        "Определен дисбаланс классов для целевого признака, что должно быть исследовано при разработке модели машинного обучения. "
      ]
    },
    {
      "cell_type": "markdown",
      "id": "4557560e",
      "metadata": {
        "id": "4557560e"
      },
      "source": [
        "# Подготовка данных"
      ]
    },
    {
      "cell_type": "markdown",
      "id": "513bbe53",
      "metadata": {
        "id": "513bbe53"
      },
      "source": [
        "## Подготовка выборок"
      ]
    },
    {
      "cell_type": "markdown",
      "id": "5e365724",
      "metadata": {
        "id": "5e365724"
      },
      "source": [
        "Выделим названия признаков и целевого признака в переменные `X` и `y` соответственно."
      ]
    },
    {
      "cell_type": "code",
      "execution_count": 12,
      "id": "87e58470",
      "metadata": {
        "id": "87e58470"
      },
      "outputs": [],
      "source": [
        "X = df_cut.drop('Exited', axis=1).columns\n",
        "y = ['Exited']"
      ]
    },
    {
      "cell_type": "markdown",
      "id": "fb8a4f1b",
      "metadata": {
        "id": "fb8a4f1b"
      },
      "source": [
        "Разделим исходную таблицу на обучающую, валидационную и тестовую выборки в пропорции 3:1:1 соответственно."
      ]
    },
    {
      "cell_type": "code",
      "execution_count": 13,
      "id": "56355fc6",
      "metadata": {
        "id": "56355fc6"
      },
      "outputs": [],
      "source": [
        "df_train, df_valid_test = train_test_split(df_cut,\n",
        "                                           test_size=.4,\n",
        "                                           random_state=26,\n",
        "                                           stratify=df[y])\n",
        "df_valid, df_test = train_test_split(df_valid_test,\n",
        "                                     test_size=.5,\n",
        "                                     random_state=26,\n",
        "                                     stratify=df_valid_test[y])"
      ]
    },
    {
      "cell_type": "markdown",
      "id": "954d93c6",
      "metadata": {
        "id": "954d93c6"
      },
      "source": [
        "Проверим правильность разделения, определив длину каждой выборки."
      ]
    },
    {
      "cell_type": "code",
      "execution_count": 14,
      "id": "ae0abc71",
      "metadata": {
        "colab": {
          "base_uri": "https://localhost:8080/"
        },
        "id": "ae0abc71",
        "outputId": "327cbfd1-5156-4f35-fbb1-90cd5abb619f"
      },
      "outputs": [
        {
          "output_type": "execute_result",
          "data": {
            "text/plain": [
              "6000"
            ]
          },
          "metadata": {},
          "execution_count": 14
        }
      ],
      "source": [
        "len(df_train)"
      ]
    },
    {
      "cell_type": "code",
      "execution_count": 15,
      "id": "d81b48dc",
      "metadata": {
        "colab": {
          "base_uri": "https://localhost:8080/"
        },
        "id": "d81b48dc",
        "outputId": "85b5ee47-5075-4e62-e7df-820c06e98274"
      },
      "outputs": [
        {
          "output_type": "execute_result",
          "data": {
            "text/plain": [
              "2000"
            ]
          },
          "metadata": {},
          "execution_count": 15
        }
      ],
      "source": [
        "len(df_valid)"
      ]
    },
    {
      "cell_type": "code",
      "execution_count": 16,
      "id": "8b027063",
      "metadata": {
        "colab": {
          "base_uri": "https://localhost:8080/"
        },
        "id": "8b027063",
        "outputId": "c04d762e-a608-412d-b70c-d8c397d61471"
      },
      "outputs": [
        {
          "output_type": "execute_result",
          "data": {
            "text/plain": [
              "2000"
            ]
          },
          "metadata": {},
          "execution_count": 16
        }
      ],
      "source": [
        "len(df_test)"
      ]
    },
    {
      "cell_type": "markdown",
      "id": "af5c2fef",
      "metadata": {
        "id": "af5c2fef"
      },
      "source": [
        "## Пороговое значение метрик "
      ]
    },
    {
      "cell_type": "markdown",
      "id": "5c207422",
      "metadata": {
        "id": "5c207422"
      },
      "source": [
        "Определим пороговые значение метрик исходя из условия предсказания всем пользователям в тестовой выборке положительного исхода - значения `1`. Предсказание значения `0` не показательно, так как в этом случае F1-метрика так же принимает нулевое значение."
      ]
    },
    {
      "cell_type": "code",
      "execution_count": 17,
      "id": "009374af",
      "metadata": {
        "scrolled": true,
        "colab": {
          "base_uri": "https://localhost:8080/"
        },
        "id": "009374af",
        "outputId": "8f96cfec-c234-4d86-83c2-a3b5c8efefb4"
      },
      "outputs": [
        {
          "output_type": "execute_result",
          "data": {
            "text/plain": [
              "0.339"
            ]
          },
          "metadata": {},
          "execution_count": 17
        }
      ],
      "source": [
        "round(f1_score(df_test[y], [1] * len(df_test)), 3)"
      ]
    },
    {
      "cell_type": "code",
      "execution_count": 18,
      "id": "d9a7ed82",
      "metadata": {
        "scrolled": false,
        "colab": {
          "base_uri": "https://localhost:8080/"
        },
        "id": "d9a7ed82",
        "outputId": "da5ed7d8-4696-4140-fcd8-6890a85f7de6"
      },
      "outputs": [
        {
          "output_type": "execute_result",
          "data": {
            "text/plain": [
              "0.5"
            ]
          },
          "metadata": {},
          "execution_count": 18
        }
      ],
      "source": [
        "round(roc_auc_score(df_test[y], [0] * len(df_test)), 3)"
      ]
    },
    {
      "cell_type": "markdown",
      "id": "6b8d7628",
      "metadata": {
        "id": "6b8d7628"
      },
      "source": [
        "Полученные значения будем использовать для оценки качества разработанных моделей.\n",
        "\n",
        "## Подготовка моделей\n",
        "\n",
        "Решаемая задача сводится к определению классификационной модели. Рассмотрим следующие типы моделей:\n",
        "* дерево решений;\n",
        "* случайный лес;\n",
        "* логистическая регрессия.\n",
        "\n",
        "Выбор гиперпараметров перечисленных моделей выполним при помощи класса RandomizedSearchCV. \n",
        "Для этого определим пространство их возможных значений и создадим функции обучения каждой модели."
      ]
    },
    {
      "cell_type": "code",
      "execution_count": 45,
      "id": "b4a5342b",
      "metadata": {
        "id": "b4a5342b"
      },
      "outputs": [],
      "source": [
        "#Пространство параметров дерева решений\n",
        "max_depth = [int(x) for x in np.linspace(2, 50, num=49)]\n",
        "max_features = [\n",
        "    int(x) for x in np.linspace(start=2, stop=len(X), num=(len(X) - 1))\n",
        "]\n",
        "max_features.append('log2')\n",
        "max_features.append('sqrt')\n",
        "min_samples_split = [int(x) for x in np.linspace(2, 20, num=19)]\n",
        "min_samples_leaf = [int(x) for x in np.linspace(2, 20, num=19)]\n",
        "max_leaf_nodes = [int(x) for x in np.linspace(2, 50, num=49)]\n",
        "class_weight = ['balanced', None]\n",
        "criterion = ['gini', 'entropy']\n",
        "space_tree = {\n",
        "    'max_features': max_features,\n",
        "    'max_depth': max_depth,\n",
        "    'min_samples_split': min_samples_split,\n",
        "    'min_samples_leaf': min_samples_leaf,\n",
        "    'max_leaf_nodes': max_leaf_nodes,\n",
        "    'class_weight': class_weight,\n",
        "    'criterion': criterion\n",
        "}\n",
        "\n",
        "#Пространство параметров случайного леса\n",
        "n_estimators = [int(x) for x in np.linspace(start=10, stop=100, num=19)]\n",
        "space_rf = {\n",
        "    'n_estimators': n_estimators,\n",
        "    'max_features': max_features,\n",
        "    'max_depth': max_depth,\n",
        "    'min_samples_split': min_samples_split,\n",
        "    'min_samples_leaf': min_samples_leaf,\n",
        "    'max_leaf_nodes': max_leaf_nodes,\n",
        "    'class_weight': class_weight,\n",
        "    'criterion': criterion\n",
        "}\n",
        "\n",
        "#Пространство параметров логистической регрессии\n",
        "solver = ['newton-cg', 'lbfgs', 'liblinear', 'sag', 'saga']\n",
        "max_iter = [int(x) for x in np.linspace(start=10, stop=250, num=15)]\n",
        "space_logreg = {\n",
        "    'solver': solver,\n",
        "    'max_iter': max_iter,\n",
        "    'class_weight': class_weight\n",
        "}\n",
        "\n",
        "# Параметр кросвалидации\n",
        "skf = StratifiedKFold(10, shuffle=True, random_state=26)"
      ]
    },
    {
      "cell_type": "code",
      "execution_count": 46,
      "id": "6b1f08dd",
      "metadata": {
        "id": "6b1f08dd"
      },
      "outputs": [],
      "source": [
        "def decision_tree(data):\n",
        "    model = RandomizedSearchCV(\n",
        "        estimator=DecisionTreeClassifier(random_state=26),\n",
        "        param_distributions=space_tree,\n",
        "        cv=skf,\n",
        "        n_iter=100,\n",
        "        scoring='roc_auc',\n",
        "        random_state=26)\n",
        "    model.fit(data[X], data[y])\n",
        "    return model"
      ]
    },
    {
      "cell_type": "code",
      "execution_count": 47,
      "id": "2ce5cc50",
      "metadata": {
        "id": "2ce5cc50"
      },
      "outputs": [],
      "source": [
        "def random_forest(data):\n",
        "    model = RandomizedSearchCV(estimator=RandomForestClassifier(\n",
        "        random_state=26, n_jobs=-1),\n",
        "                               param_distributions=space_rf,\n",
        "                               n_jobs=-1,\n",
        "                               cv=skf,\n",
        "                               n_iter=100,\n",
        "                               scoring='roc_auc',\n",
        "                               random_state=26)\n",
        "    model.fit(data[X], data[y])\n",
        "    return model"
      ]
    },
    {
      "cell_type": "code",
      "execution_count": 48,
      "id": "05742d46",
      "metadata": {
        "id": "05742d46"
      },
      "outputs": [],
      "source": [
        "def model_logreg(data):\n",
        "    model = RandomizedSearchCV(estimator=LogisticRegression(random_state=26,\n",
        "                                                            n_jobs=-1),\n",
        "                               param_distributions=space_logreg,\n",
        "                               n_jobs=-1,\n",
        "                               cv=skf,\n",
        "                               n_iter=100,\n",
        "                               scoring='roc_auc',\n",
        "                               random_state=26)\n",
        "    model.fit(data[X], data[y])\n",
        "    return model"
      ]
    },
    {
      "cell_type": "markdown",
      "source": [
        "## Заключение по подготовке данных\n",
        "\n",
        "Проведено разделение исходной таблицы на обучающую, валидационную и тестовую выборки в пропорции 3:1:1 соответственно.\n",
        "В случае предсказания всем клиентам в тестовой выборке целевого класса \"1\" - ухода из компании, метрики F1 и AUC ROC составляют 33,9% и 50% соответственно. "
      ],
      "metadata": {
        "id": "skUxMSROpKAP"
      },
      "id": "skUxMSROpKAP"
    },
    {
      "cell_type": "markdown",
      "source": [
        "# Моделирование"
      ],
      "metadata": {
        "id": "6sKA8GJijDQL"
      },
      "id": "6sKA8GJijDQL"
    },
    {
      "cell_type": "markdown",
      "id": "ef7ddaea",
      "metadata": {
        "id": "ef7ddaea"
      },
      "source": [
        "## Обучение моделей на полных данных\n",
        "\n",
        "Учитывая, что искомая метрика F1 зависит от значения порога классификации, для выбора лучшей модели будем использовать метрику ROC-AUC и валидационную подвыборку.\n",
        "Затем для лучшей модели подберем значение порога на той же подвыборке и проверим его на тестовой подвыборке. \n",
        "\n",
        "Вызовем созданные функции, а значения метрики сведем в таблицу. "
      ]
    },
    {
      "cell_type": "code",
      "execution_count": 49,
      "id": "5514b925",
      "metadata": {
        "id": "5514b925"
      },
      "outputs": [],
      "source": [
        "model_dt = decision_tree(df_train)"
      ]
    },
    {
      "cell_type": "code",
      "execution_count": 50,
      "id": "4d9786dc",
      "metadata": {
        "scrolled": false,
        "colab": {
          "base_uri": "https://localhost:8080/"
        },
        "id": "4d9786dc",
        "outputId": "f55ff70a-3a82-4661-fae6-057ed9629729"
      },
      "outputs": [
        {
          "output_type": "stream",
          "name": "stderr",
          "text": [
            "/usr/local/lib/python3.7/dist-packages/sklearn/model_selection/_search.py:926: DataConversionWarning: A column-vector y was passed when a 1d array was expected. Please change the shape of y to (n_samples,), for example using ravel().\n",
            "  self.best_estimator_.fit(X, y, **fit_params)\n"
          ]
        }
      ],
      "source": [
        "model_rf = random_forest(df_train)"
      ]
    },
    {
      "cell_type": "code",
      "execution_count": 51,
      "id": "da1b63f2",
      "metadata": {
        "colab": {
          "base_uri": "https://localhost:8080/"
        },
        "id": "da1b63f2",
        "outputId": "d87c7bfa-4e94-43f5-f71a-54114c494ed9"
      },
      "outputs": [
        {
          "output_type": "stream",
          "name": "stderr",
          "text": [
            "/usr/local/lib/python3.7/dist-packages/sklearn/utils/validation.py:993: DataConversionWarning: A column-vector y was passed when a 1d array was expected. Please change the shape of y to (n_samples, ), for example using ravel().\n",
            "  y = column_or_1d(y, warn=True)\n"
          ]
        }
      ],
      "source": [
        "model_lg = model_logreg(df_train)"
      ]
    },
    {
      "cell_type": "code",
      "source": [
        "def rocauc_tables(models):\n",
        "    names = ['model_dt', 'model_rf', 'model_lg']\n",
        "    metrics = {}\n",
        "    for i in range(len(models)):\n",
        "        metrics[names[i]] = round(roc_auc_score(df_valid[y], models[i].predict(df_valid[X])), 3)\n",
        "    return pd.DataFrame(metrics.values(), metrics.keys())"
      ],
      "metadata": {
        "id": "wB0SVEn4YuWm"
      },
      "execution_count": 52,
      "outputs": [],
      "id": "wB0SVEn4YuWm"
    },
    {
      "cell_type": "code",
      "source": [
        "rocauc_table = rocauc_tables([model_dt, model_rf, model_lg])\n",
        "rocauc_table.columns = ['norm']\n",
        "cm = sns.dark_palette(\"g\", as_cmap=True)\n",
        "rocauc_table.style.background_gradient(cmap=cm)"
      ],
      "metadata": {
        "colab": {
          "base_uri": "https://localhost:8080/",
          "height": 143
        },
        "id": "mYFEVXSriO6g",
        "outputId": "ecf0d531-f59a-4638-e61c-4d8f36c7c407"
      },
      "id": "mYFEVXSriO6g",
      "execution_count": 53,
      "outputs": [
        {
          "output_type": "execute_result",
          "data": {
            "text/plain": [
              "<pandas.io.formats.style.Styler at 0x7eff0c8cc5d0>"
            ],
            "text/html": [
              "<style type=\"text/css\">\n",
              "#T_ad1d8_row0_col0 {\n",
              "  background-color: #1b391b;\n",
              "  color: #f1f1f1;\n",
              "}\n",
              "#T_ad1d8_row1_col0 {\n",
              "  background-color: #008000;\n",
              "  color: #f1f1f1;\n",
              "}\n",
              "#T_ad1d8_row2_col0 {\n",
              "  background-color: #222722;\n",
              "  color: #f1f1f1;\n",
              "}\n",
              "</style>\n",
              "<table id=\"T_ad1d8_\" class=\"dataframe\">\n",
              "  <thead>\n",
              "    <tr>\n",
              "      <th class=\"blank level0\" >&nbsp;</th>\n",
              "      <th class=\"col_heading level0 col0\" >norm</th>\n",
              "    </tr>\n",
              "  </thead>\n",
              "  <tbody>\n",
              "    <tr>\n",
              "      <th id=\"T_ad1d8_level0_row0\" class=\"row_heading level0 row0\" >model_dt</th>\n",
              "      <td id=\"T_ad1d8_row0_col0\" class=\"data row0 col0\" >0.738000</td>\n",
              "    </tr>\n",
              "    <tr>\n",
              "      <th id=\"T_ad1d8_level0_row1\" class=\"row_heading level0 row1\" >model_rf</th>\n",
              "      <td id=\"T_ad1d8_row1_col0\" class=\"data row1 col0\" >0.789000</td>\n",
              "    </tr>\n",
              "    <tr>\n",
              "      <th id=\"T_ad1d8_level0_row2\" class=\"row_heading level0 row2\" >model_lg</th>\n",
              "      <td id=\"T_ad1d8_row2_col0\" class=\"data row2 col0\" >0.725000</td>\n",
              "    </tr>\n",
              "  </tbody>\n",
              "</table>\n"
            ]
          },
          "metadata": {},
          "execution_count": 53
        }
      ]
    },
    {
      "cell_type": "markdown",
      "source": [
        "Различие значений полученных метрик менее 1,5%.\n",
        "Учитывая существующий дебаланс классов целевого признака, представляется целесообразным провести анализ возможности его компенсации.\n",
        "С этой целью применим методики downsampling и upsampling."
      ],
      "metadata": {
        "id": "sm6tSAVhkKoa"
      },
      "id": "sm6tSAVhkKoa"
    },
    {
      "cell_type": "markdown",
      "source": [
        "## Downsampling\n",
        "\n",
        "Разделим обучающую выборку на две, в соответствии со значением целевого признака. \n",
        "А затем объединим в одну, уменьшив количество нулевых значений в 4 раза.\n",
        "Проверим баланс классов, посчитав среднее в столбце с целевым признаком."
      ],
      "metadata": {
        "id": "K6_KYQEndtvu"
      },
      "id": "K6_KYQEndtvu"
    },
    {
      "cell_type": "code",
      "execution_count": 54,
      "id": "3f67fded",
      "metadata": {
        "colab": {
          "base_uri": "https://localhost:8080/"
        },
        "id": "3f67fded",
        "outputId": "82d34d12-8705-47bd-95be-6e2d9c6dd954"
      },
      "outputs": [
        {
          "output_type": "execute_result",
          "data": {
            "text/plain": [
              "Exited    0.505795\n",
              "dtype: float64"
            ]
          },
          "metadata": {},
          "execution_count": 54
        }
      ],
      "source": [
        "zeros = df_train[df_train[y[0]] == 0]\n",
        "ones = df_train[df_train[y[0]] == 1]\n",
        "\n",
        "df_train_down = shuffle(pd.concat([zeros.sample(frac=.25, random_state=26)] +\n",
        "                                  [ones]),\n",
        "                        random_state=26)\n",
        "df_train_down[y].mean()"
      ]
    },
    {
      "cell_type": "markdown",
      "id": "0ffdda24",
      "metadata": {
        "id": "0ffdda24"
      },
      "source": [
        "Доля `1` в столбце составляет 50%."
      ]
    },
    {
      "cell_type": "code",
      "execution_count": 55,
      "id": "24edeafe",
      "metadata": {
        "scrolled": true,
        "colab": {
          "base_uri": "https://localhost:8080/"
        },
        "id": "24edeafe",
        "outputId": "2ea89745-8337-48cf-e1cc-0747cb4a34b0"
      },
      "outputs": [
        {
          "output_type": "execute_result",
          "data": {
            "text/plain": [
              "2.4834437086092715"
            ]
          },
          "metadata": {},
          "execution_count": 55
        }
      ],
      "source": [
        "len(df_train) / len(df_train_down)"
      ]
    },
    {
      "cell_type": "markdown",
      "id": "6dca9ea7",
      "metadata": {
        "id": "6dca9ea7"
      },
      "source": [
        "Размер обучающей выборки уменьшился примерно в 2,5 раза.\n",
        "\n",
        "Обучим модели при помощи определенных ранее функций и сведем их метрики в таблицу."
      ]
    },
    {
      "cell_type": "code",
      "execution_count": 56,
      "id": "5f0a4e44",
      "metadata": {
        "scrolled": true,
        "id": "5f0a4e44"
      },
      "outputs": [],
      "source": [
        "model_dt_down = decision_tree(df_train_down)"
      ]
    },
    {
      "cell_type": "code",
      "execution_count": 57,
      "id": "849d61fb",
      "metadata": {
        "scrolled": true,
        "colab": {
          "base_uri": "https://localhost:8080/"
        },
        "id": "849d61fb",
        "outputId": "3bab3e05-2b12-4292-bee7-b666feb0a91c"
      },
      "outputs": [
        {
          "output_type": "stream",
          "name": "stderr",
          "text": [
            "/usr/local/lib/python3.7/dist-packages/sklearn/model_selection/_search.py:926: DataConversionWarning: A column-vector y was passed when a 1d array was expected. Please change the shape of y to (n_samples,), for example using ravel().\n",
            "  self.best_estimator_.fit(X, y, **fit_params)\n"
          ]
        }
      ],
      "source": [
        "model_rf_down = random_forest(df_train_down)"
      ]
    },
    {
      "cell_type": "code",
      "source": [
        "model_lg_down = model_logreg(df_train_down)"
      ],
      "metadata": {
        "colab": {
          "base_uri": "https://localhost:8080/"
        },
        "id": "3JWDYK-Ikv1D",
        "outputId": "7779f7a3-df07-4ca7-9147-093ba5c57c9d"
      },
      "id": "3JWDYK-Ikv1D",
      "execution_count": 58,
      "outputs": [
        {
          "output_type": "stream",
          "name": "stderr",
          "text": [
            "/usr/local/lib/python3.7/dist-packages/sklearn/utils/validation.py:993: DataConversionWarning: A column-vector y was passed when a 1d array was expected. Please change the shape of y to (n_samples, ), for example using ravel().\n",
            "  y = column_or_1d(y, warn=True)\n"
          ]
        }
      ]
    },
    {
      "cell_type": "markdown",
      "source": [
        "Анализ качества предсказания моеделей с downsampling проведем позднее."
      ],
      "metadata": {
        "id": "jQaNpFmyjfFx"
      },
      "id": "jQaNpFmyjfFx"
    },
    {
      "cell_type": "markdown",
      "source": [
        "## Upsampling\n",
        "\n",
        "Разделим обучающую выборку на две, в соответствии со значением целевого признака. \n",
        "А затем объединим в одну, увеличив количество положительных значений в 4 раза.\n",
        "Проверим баланс классов, посчитав среднее в столбце с целевым признаком."
      ],
      "metadata": {
        "id": "hk5WqHNLmJsp"
      },
      "id": "hk5WqHNLmJsp"
    },
    {
      "cell_type": "code",
      "execution_count": 59,
      "id": "5184c33f",
      "metadata": {
        "colab": {
          "base_uri": "https://localhost:8080/"
        },
        "id": "5184c33f",
        "outputId": "43b240cc-f99c-4b03-8911-504a50e3e306"
      },
      "outputs": [
        {
          "output_type": "execute_result",
          "data": {
            "text/plain": [
              "Exited    0.50569\n",
              "dtype: float64"
            ]
          },
          "metadata": {},
          "execution_count": 59
        }
      ],
      "source": [
        "df_train_up = shuffle(pd.concat([zeros] + [ones] * 4), random_state=26)\n",
        "df_train_up[y].mean()"
      ]
    },
    {
      "cell_type": "code",
      "execution_count": 60,
      "id": "65a2f90e",
      "metadata": {
        "scrolled": true,
        "id": "65a2f90e"
      },
      "outputs": [],
      "source": [
        "model_dt_up = decision_tree(df_train_up)"
      ]
    },
    {
      "cell_type": "code",
      "execution_count": 61,
      "id": "1076f286",
      "metadata": {
        "scrolled": true,
        "colab": {
          "base_uri": "https://localhost:8080/"
        },
        "id": "1076f286",
        "outputId": "72d445d4-ed6f-412b-cfb4-eed669a88f3c"
      },
      "outputs": [
        {
          "output_type": "stream",
          "name": "stderr",
          "text": [
            "/usr/local/lib/python3.7/dist-packages/sklearn/model_selection/_search.py:926: DataConversionWarning: A column-vector y was passed when a 1d array was expected. Please change the shape of y to (n_samples,), for example using ravel().\n",
            "  self.best_estimator_.fit(X, y, **fit_params)\n"
          ]
        }
      ],
      "source": [
        "model_rf_up = random_forest(df_train_up)"
      ]
    },
    {
      "cell_type": "code",
      "source": [
        "model_lg_up = model_logreg(df_train_up)"
      ],
      "metadata": {
        "colab": {
          "base_uri": "https://localhost:8080/"
        },
        "id": "aLJHGEsHmVbo",
        "outputId": "bd0b28d0-00c4-4986-8a1a-909932c054ed"
      },
      "id": "aLJHGEsHmVbo",
      "execution_count": 62,
      "outputs": [
        {
          "output_type": "stream",
          "name": "stderr",
          "text": [
            "/usr/local/lib/python3.7/dist-packages/sklearn/utils/validation.py:993: DataConversionWarning: A column-vector y was passed when a 1d array was expected. Please change the shape of y to (n_samples, ), for example using ravel().\n",
            "  y = column_or_1d(y, warn=True)\n"
          ]
        }
      ]
    },
    {
      "cell_type": "code",
      "source": [
        "rocauc_table['down'] = rocauc_tables([model_dt_down, model_rf_down, model_lg_down])\n",
        "rocauc_table['up'] = rocauc_tables([model_dt_up, model_rf_up, model_lg_up])\n",
        "\n",
        "rocauc_table.style.background_gradient(cmap=cm)"
      ],
      "metadata": {
        "colab": {
          "base_uri": "https://localhost:8080/",
          "height": 143
        },
        "id": "GKE9RvXymnhv",
        "outputId": "8cf8c43a-e2a5-4f89-d776-12daada1611e"
      },
      "id": "GKE9RvXymnhv",
      "execution_count": 63,
      "outputs": [
        {
          "output_type": "execute_result",
          "data": {
            "text/plain": [
              "<pandas.io.formats.style.Styler at 0x7eff0c8f98d0>"
            ],
            "text/html": [
              "<style type=\"text/css\">\n",
              "#T_60af5_row0_col0 {\n",
              "  background-color: #1b391b;\n",
              "  color: #f1f1f1;\n",
              "}\n",
              "#T_60af5_row0_col1 {\n",
              "  background-color: #0f580f;\n",
              "  color: #f1f1f1;\n",
              "}\n",
              "#T_60af5_row0_col2 {\n",
              "  background-color: #0d5f0d;\n",
              "  color: #f1f1f1;\n",
              "}\n",
              "#T_60af5_row1_col0, #T_60af5_row1_col1, #T_60af5_row1_col2 {\n",
              "  background-color: #008000;\n",
              "  color: #f1f1f1;\n",
              "}\n",
              "#T_60af5_row2_col0, #T_60af5_row2_col1, #T_60af5_row2_col2 {\n",
              "  background-color: #222722;\n",
              "  color: #f1f1f1;\n",
              "}\n",
              "</style>\n",
              "<table id=\"T_60af5_\" class=\"dataframe\">\n",
              "  <thead>\n",
              "    <tr>\n",
              "      <th class=\"blank level0\" >&nbsp;</th>\n",
              "      <th class=\"col_heading level0 col0\" >norm</th>\n",
              "      <th class=\"col_heading level0 col1\" >down</th>\n",
              "      <th class=\"col_heading level0 col2\" >up</th>\n",
              "    </tr>\n",
              "  </thead>\n",
              "  <tbody>\n",
              "    <tr>\n",
              "      <th id=\"T_60af5_level0_row0\" class=\"row_heading level0 row0\" >model_dt</th>\n",
              "      <td id=\"T_60af5_row0_col0\" class=\"data row0 col0\" >0.738000</td>\n",
              "      <td id=\"T_60af5_row0_col1\" class=\"data row0 col1\" >0.759000</td>\n",
              "      <td id=\"T_60af5_row0_col2\" class=\"data row0 col2\" >0.767000</td>\n",
              "    </tr>\n",
              "    <tr>\n",
              "      <th id=\"T_60af5_level0_row1\" class=\"row_heading level0 row1\" >model_rf</th>\n",
              "      <td id=\"T_60af5_row1_col0\" class=\"data row1 col0\" >0.789000</td>\n",
              "      <td id=\"T_60af5_row1_col1\" class=\"data row1 col1\" >0.785000</td>\n",
              "      <td id=\"T_60af5_row1_col2\" class=\"data row1 col2\" >0.792000</td>\n",
              "    </tr>\n",
              "    <tr>\n",
              "      <th id=\"T_60af5_level0_row2\" class=\"row_heading level0 row2\" >model_lg</th>\n",
              "      <td id=\"T_60af5_row2_col0\" class=\"data row2 col0\" >0.725000</td>\n",
              "      <td id=\"T_60af5_row2_col1\" class=\"data row2 col1\" >0.727000</td>\n",
              "      <td id=\"T_60af5_row2_col2\" class=\"data row2 col2\" >0.725000</td>\n",
              "    </tr>\n",
              "  </tbody>\n",
              "</table>\n"
            ]
          },
          "metadata": {},
          "execution_count": 63
        }
      ]
    },
    {
      "cell_type": "markdown",
      "id": "e52168ac",
      "metadata": {
        "id": "e52168ac"
      },
      "source": [
        "Согласно представленным в таблице данным видно, что нивелирование дисбаланса классов целевого признака за счет увеличения или уменьшения тренеровочной выборки ведет к увеличению значения метрики ROC-AUC. \n",
        "Однако изменени характеристики не превышает 0,5%, что, по всей видимости, носит случайный характер.\n",
        "\n",
        "В целом, down/up-sampling приводит только к изменению баланса классов, что в конечном итоге скажется исключительно на значении порога для используемой итоговой метрики (в настоящем проекте - F1).\n",
        "Таким образом, учитывая, что сокращение обучающей выборки в 2,5 раза, повлечет за собой недообучение модели, а дублирование данных - переобучение, наиболее целесообразным решением является использовать полную выборку для дальнейшего моделирования."
      ]
    },
    {
      "cell_type": "markdown",
      "source": [
        "## Выбор порога для метрики F1"
      ],
      "metadata": {
        "id": "Cmqd8XGqg-HV"
      },
      "id": "Cmqd8XGqg-HV"
    },
    {
      "cell_type": "markdown",
      "metadata": {
        "id": "fc61e811-5354-44dd-b42a-0d144f077692"
      },
      "source": [
        "Определим значение целевой метрики со стандартным порогом, равным 0,5. "
      ],
      "id": "fc61e811-5354-44dd-b42a-0d144f077692"
    },
    {
      "cell_type": "code",
      "execution_count": 64,
      "metadata": {
        "outputId": "36f5dfbb-5491-4f9e-d811-087a33a2a6b0",
        "colab": {
          "base_uri": "https://localhost:8080/"
        },
        "id": "chvq0Fnyoqwg"
      },
      "outputs": [
        {
          "output_type": "execute_result",
          "data": {
            "text/plain": [
              "0.6256517205422315"
            ]
          },
          "metadata": {},
          "execution_count": 64
        }
      ],
      "source": [
        "f1_score(df_valid[y], model_rf.predict(df_valid[X]))"
      ],
      "id": "chvq0Fnyoqwg"
    },
    {
      "cell_type": "markdown",
      "metadata": {
        "id": "oHsQfBvKoqwi"
      },
      "source": [
        "Полученное значение выше аналогичного для модели baseline почти в два раза. \n",
        "Учитывая, что на тестовой выборке указанная метрика, скорее всего, изменится в худшую сторону, целесообразно провести анализ  возможности ее улучшения за счет изменения порога классификации.\n",
        "Для этого создадим столбец со значениями вероятности определения к тому или иному классу."
      ],
      "id": "oHsQfBvKoqwi"
    },
    {
      "cell_type": "code",
      "execution_count": 65,
      "metadata": {
        "id": "L0JMyq6Zoqwj"
      },
      "outputs": [],
      "source": [
        "df_valid[\"model_rf_proba\"] = np.NaN\n",
        "df_valid[\"model_rf_proba\"] = 1 - model_rf.predict_proba(df_valid[X])"
      ],
      "id": "L0JMyq6Zoqwj"
    },
    {
      "cell_type": "markdown",
      "metadata": {
        "id": "OPg-scvLoqwj"
      },
      "source": [
        "Определим перечень всех существующих значений вероятностей и добавим его к нулевому значению."
      ],
      "id": "OPg-scvLoqwj"
    },
    {
      "cell_type": "code",
      "execution_count": 66,
      "metadata": {
        "id": "s5TUGd8joqwk"
      },
      "outputs": [],
      "source": [
        "thrs = [0] + list(df_valid[\"model_rf_proba\"].unique())"
      ],
      "id": "s5TUGd8joqwk"
    },
    {
      "cell_type": "markdown",
      "metadata": {
        "id": "fCZcliuLoqwk"
      },
      "source": [
        "Переберем в цикле значения метрики F1 при изменении порога по всем значениям вероятности."
      ],
      "id": "fCZcliuLoqwk"
    },
    {
      "cell_type": "code",
      "execution_count": 67,
      "metadata": {
        "colab": {
          "base_uri": "https://localhost:8080/",
          "height": 49,
          "referenced_widgets": [
            "024fbe6cb6064263ab810af0b60ffb86",
            "e9558d31a2f0450cb35141cc75bc5978",
            "93c6564f54ea4318a31a6e0fec76c8e8",
            "d3221fcef7834fe98c00e1dbb33b36c9",
            "c7f20039a12b4a0a825ec14f547e1252",
            "8c71f41ff9d84127b6bfe773ec311196",
            "f09a7d452dd84f46bc1f1f06cb234ea6",
            "9909445ceedc4e1a97f3b133909982a6",
            "d21f7abe479c49d18f25c550bab2f9a4",
            "79522476c6f24c31966fe44a2395c6ca",
            "bd67996010a645269d306fc63d449f09"
          ]
        },
        "outputId": "98d4cd7a-4b06-4dc6-b403-efbcd6050362",
        "id": "f2uS00KQoqwl"
      },
      "outputs": [
        {
          "output_type": "display_data",
          "data": {
            "text/plain": [
              "  0%|          | 0/1781 [00:00<?, ?it/s]"
            ],
            "application/vnd.jupyter.widget-view+json": {
              "version_major": 2,
              "version_minor": 0,
              "model_id": "024fbe6cb6064263ab810af0b60ffb86"
            }
          },
          "metadata": {}
        }
      ],
      "source": [
        "result = []\n",
        "\n",
        "for thr in tqdm(thrs):\n",
        "    df_valid[\"model_rf_best\"] = (df_valid[\"model_rf_proba\"] > thr) * 1\n",
        "    result.append((thr, f1_score(df_valid[y], df_valid[\"model_rf_best\"])))"
      ],
      "id": "f2uS00KQoqwl"
    },
    {
      "cell_type": "markdown",
      "metadata": {
        "id": "QFtyzcbnoqwm"
      },
      "source": [
        "Выведем значение порога, обеспечивающего получение максимальное значение целевой метрики. "
      ],
      "id": "QFtyzcbnoqwm"
    },
    {
      "cell_type": "code",
      "execution_count": 68,
      "metadata": {
        "colab": {
          "base_uri": "https://localhost:8080/",
          "height": 81
        },
        "outputId": "e18f2003-a9cf-4f86-dd7c-89f204845435",
        "id": "UqPw44X_oqwm"
      },
      "outputs": [
        {
          "output_type": "execute_result",
          "data": {
            "text/plain": [
              "           thr        f1\n",
              "1362  0.608304  0.637975"
            ],
            "text/html": [
              "\n",
              "  <div id=\"df-ddab5372-7bac-4929-bc19-dfeadb587182\">\n",
              "    <div class=\"colab-df-container\">\n",
              "      <div>\n",
              "<style scoped>\n",
              "    .dataframe tbody tr th:only-of-type {\n",
              "        vertical-align: middle;\n",
              "    }\n",
              "\n",
              "    .dataframe tbody tr th {\n",
              "        vertical-align: top;\n",
              "    }\n",
              "\n",
              "    .dataframe thead th {\n",
              "        text-align: right;\n",
              "    }\n",
              "</style>\n",
              "<table border=\"1\" class=\"dataframe\">\n",
              "  <thead>\n",
              "    <tr style=\"text-align: right;\">\n",
              "      <th></th>\n",
              "      <th>thr</th>\n",
              "      <th>f1</th>\n",
              "    </tr>\n",
              "  </thead>\n",
              "  <tbody>\n",
              "    <tr>\n",
              "      <th>1362</th>\n",
              "      <td>0.608304</td>\n",
              "      <td>0.637975</td>\n",
              "    </tr>\n",
              "  </tbody>\n",
              "</table>\n",
              "</div>\n",
              "      <button class=\"colab-df-convert\" onclick=\"convertToInteractive('df-ddab5372-7bac-4929-bc19-dfeadb587182')\"\n",
              "              title=\"Convert this dataframe to an interactive table.\"\n",
              "              style=\"display:none;\">\n",
              "        \n",
              "  <svg xmlns=\"http://www.w3.org/2000/svg\" height=\"24px\"viewBox=\"0 0 24 24\"\n",
              "       width=\"24px\">\n",
              "    <path d=\"M0 0h24v24H0V0z\" fill=\"none\"/>\n",
              "    <path d=\"M18.56 5.44l.94 2.06.94-2.06 2.06-.94-2.06-.94-.94-2.06-.94 2.06-2.06.94zm-11 1L8.5 8.5l.94-2.06 2.06-.94-2.06-.94L8.5 2.5l-.94 2.06-2.06.94zm10 10l.94 2.06.94-2.06 2.06-.94-2.06-.94-.94-2.06-.94 2.06-2.06.94z\"/><path d=\"M17.41 7.96l-1.37-1.37c-.4-.4-.92-.59-1.43-.59-.52 0-1.04.2-1.43.59L10.3 9.45l-7.72 7.72c-.78.78-.78 2.05 0 2.83L4 21.41c.39.39.9.59 1.41.59.51 0 1.02-.2 1.41-.59l7.78-7.78 2.81-2.81c.8-.78.8-2.07 0-2.86zM5.41 20L4 18.59l7.72-7.72 1.47 1.35L5.41 20z\"/>\n",
              "  </svg>\n",
              "      </button>\n",
              "      \n",
              "  <style>\n",
              "    .colab-df-container {\n",
              "      display:flex;\n",
              "      flex-wrap:wrap;\n",
              "      gap: 12px;\n",
              "    }\n",
              "\n",
              "    .colab-df-convert {\n",
              "      background-color: #E8F0FE;\n",
              "      border: none;\n",
              "      border-radius: 50%;\n",
              "      cursor: pointer;\n",
              "      display: none;\n",
              "      fill: #1967D2;\n",
              "      height: 32px;\n",
              "      padding: 0 0 0 0;\n",
              "      width: 32px;\n",
              "    }\n",
              "\n",
              "    .colab-df-convert:hover {\n",
              "      background-color: #E2EBFA;\n",
              "      box-shadow: 0px 1px 2px rgba(60, 64, 67, 0.3), 0px 1px 3px 1px rgba(60, 64, 67, 0.15);\n",
              "      fill: #174EA6;\n",
              "    }\n",
              "\n",
              "    [theme=dark] .colab-df-convert {\n",
              "      background-color: #3B4455;\n",
              "      fill: #D2E3FC;\n",
              "    }\n",
              "\n",
              "    [theme=dark] .colab-df-convert:hover {\n",
              "      background-color: #434B5C;\n",
              "      box-shadow: 0px 1px 3px 1px rgba(0, 0, 0, 0.15);\n",
              "      filter: drop-shadow(0px 1px 2px rgba(0, 0, 0, 0.3));\n",
              "      fill: #FFFFFF;\n",
              "    }\n",
              "  </style>\n",
              "\n",
              "      <script>\n",
              "        const buttonEl =\n",
              "          document.querySelector('#df-ddab5372-7bac-4929-bc19-dfeadb587182 button.colab-df-convert');\n",
              "        buttonEl.style.display =\n",
              "          google.colab.kernel.accessAllowed ? 'block' : 'none';\n",
              "\n",
              "        async function convertToInteractive(key) {\n",
              "          const element = document.querySelector('#df-ddab5372-7bac-4929-bc19-dfeadb587182');\n",
              "          const dataTable =\n",
              "            await google.colab.kernel.invokeFunction('convertToInteractive',\n",
              "                                                     [key], {});\n",
              "          if (!dataTable) return;\n",
              "\n",
              "          const docLinkHtml = 'Like what you see? Visit the ' +\n",
              "            '<a target=\"_blank\" href=https://colab.research.google.com/notebooks/data_table.ipynb>data table notebook</a>'\n",
              "            + ' to learn more about interactive tables.';\n",
              "          element.innerHTML = '';\n",
              "          dataTable['output_type'] = 'display_data';\n",
              "          await google.colab.output.renderOutput(dataTable, element);\n",
              "          const docLink = document.createElement('div');\n",
              "          docLink.innerHTML = docLinkHtml;\n",
              "          element.appendChild(docLink);\n",
              "        }\n",
              "      </script>\n",
              "    </div>\n",
              "  </div>\n",
              "  "
            ]
          },
          "metadata": {},
          "execution_count": 68
        }
      ],
      "source": [
        "t = pd.DataFrame(result, columns=[\"thr\", \"f1\"])\n",
        "\n",
        "thr_best = t.loc[t[\"f1\"] == t[\"f1\"].max(), \"thr\"].values[0]\n",
        "\n",
        "t[t[\"f1\"] == t[\"f1\"].max()]"
      ],
      "id": "UqPw44X_oqwm"
    },
    {
      "cell_type": "markdown",
      "metadata": {
        "id": "9vh38ZRvoqwn"
      },
      "source": [
        "Полученное значение лучше \"ненастроенного\" на 1,2%.\n",
        "\n",
        "В дальнейшем будем использовать его для расчета целевой метрики на тестовой подвыборке."
      ],
      "id": "9vh38ZRvoqwn"
    },
    {
      "cell_type": "markdown",
      "source": [
        "## Проверка на тестовой подвыборке"
      ],
      "metadata": {
        "id": "SWSST0D3oqwn"
      },
      "id": "SWSST0D3oqwn"
    },
    {
      "cell_type": "markdown",
      "source": [
        "Проведем проверку выбранной модели и порога классификации на тестовой выборке."
      ],
      "metadata": {
        "id": "WQNJA_u7nbf_"
      },
      "id": "WQNJA_u7nbf_"
    },
    {
      "cell_type": "code",
      "source": [
        "df_test[\"model_rf_proba\"] = np.NaN\n",
        "df_test[\"model_rf_proba\"] = 1 - model_rf.predict_proba(df_test[X])\n",
        "df_test[\"model_rf_best\"] = (df_test[\"model_rf_proba\"] > thr_best) * 1\n",
        "f1_score(df_test[y], df_test[\"model_rf_best\"])"
      ],
      "metadata": {
        "colab": {
          "base_uri": "https://localhost:8080/"
        },
        "outputId": "674be271-b296-49c8-82e5-1eeaf3ac6030",
        "id": "GcVXOvQsoqwo"
      },
      "execution_count": 70,
      "outputs": [
        {
          "output_type": "execute_result",
          "data": {
            "text/plain": [
              "0.6277915632754343"
            ]
          },
          "metadata": {},
          "execution_count": 70
        }
      ],
      "id": "GcVXOvQsoqwo"
    },
    {
      "cell_type": "markdown",
      "source": [
        "Полученное значение удовлетворяет заданному критерию в 0,59 и отличается от аналогичного на валидационной выборке менее, чем на 1%.\n",
        "Это свидетельствует об удачном выборе параметров моделирования и пороге классификации."
      ],
      "metadata": {
        "id": "q8bhbnHmop6J"
      },
      "id": "q8bhbnHmop6J"
    },
    {
      "cell_type": "markdown",
      "id": "50db93b4",
      "metadata": {
        "id": "50db93b4"
      },
      "source": [
        "## Заключение по моделированию\n",
        "\n",
        "Моделирование без учета дисбаланса целевого класса показало, что метрика ROC-AUC для модели случайного леса превосоходит аналогичные для моделей дерева решений и логистической регрессии. \n",
        "Исследование возможности компенсации дисбаланса классов за счет down/up-sampling подтвердило отуствие эффективности рассмотренных методов.\n",
        "В этой связи, модель случайного леса использована, обученная на полной выборке, использована для подбора порога классификации, обеспечивающего лучшее значение метрики F1 на валидационной выборке.\n",
        "Значение порога составило 0,608, что позволило получить значение метрики F1 на тестовой подвыборке 0,627, что удовлетворяет заданному критерию в 0,59.\n"
      ]
    },
    {
      "cell_type": "markdown",
      "source": [
        "# Выводы\n",
        "\n",
        "Проведено исследование по разработке модели машинного обучения для прогнозирования, уйдёт клиент из «Бета-Банка» в ближайшее время или нет.\n",
        "\n",
        "Изучены исторические данные о поведении 10 000 клиентов и расторжении договоров с банком.  \n",
        "Получено, что не все признаки влияют на значение целевого признака.\n",
        "В этой связи в таблице сокращено количество признаков с 13 до 7, а категориальные признаки закодированы по принципу прямого кодирования.\n",
        "Дисбаланс классов для целевого признака составил 1:4. \n",
        "\n",
        "Данные разделены на обучающую, валидационную и тестовую выборки.\n",
        "В случае предсказания всем клиентам в тестовой выборке целевого класса \"1\" - ухода из компании, метрики F1 и AUC ROC составляют 33,9% и 50% соответственно. \n",
        "\n",
        "При помощи класса случайного поиска гиперпараметров определены 3 типа моделей: дерево решений, случайный лес и логистическая регрессия. \n",
        "Моделирование без учета дисбаланса целевого класса показало, что метрика ROC-AUC для модели случайного леса превосоходит аналогичные для моделей дерева решений и логистической регрессии. \n",
        "Исследование возможности компенсации дисбаланса классов за счет down/up-sampling подтвердило отуствие эффективности рассмотренных методов.\n",
        "В этой связи, модель случайного леса использована, обученная на полной выборке, использована для подбора порога классификации, обеспечивающего лучшее значение метрики F1 на валидационной выборке.\n",
        "Значение порога составило 0,608, что позволило получить значение метрики F1 на тестовой подвыборке 0,627, что удовлетворяет заданному критерию в 0,59."
      ],
      "metadata": {
        "id": "4xm_cdZ6hTso"
      },
      "id": "4xm_cdZ6hTso"
    }
  ],
  "metadata": {
    "ExecuteTimeLog": [
      {
        "duration": 59,
        "start_time": "2022-05-25T06:57:00.730Z"
      }
    ],
    "kernelspec": {
      "display_name": "Python 3 (ipykernel)",
      "language": "python",
      "name": "python3"
    },
    "language_info": {
      "codemirror_mode": {
        "name": "ipython",
        "version": 3
      },
      "file_extension": ".py",
      "mimetype": "text/x-python",
      "name": "python",
      "nbconvert_exporter": "python",
      "pygments_lexer": "ipython3",
      "version": "3.7.8"
    },
    "toc": {
      "base_numbering": 1,
      "nav_menu": {},
      "number_sections": true,
      "sideBar": true,
      "skip_h1_title": false,
      "title_cell": "Table of Contents",
      "title_sidebar": "Contents",
      "toc_cell": false,
      "toc_position": {},
      "toc_section_display": true,
      "toc_window_display": true
    },
    "colab": {
      "name": "deli_proj_pract_07_churn_v2_0.ipynb",
      "provenance": [],
      "collapsed_sections": [],
      "toc_visible": true,
      "include_colab_link": true
    },
    "widgets": {
      "application/vnd.jupyter.widget-state+json": {
        "024fbe6cb6064263ab810af0b60ffb86": {
          "model_module": "@jupyter-widgets/controls",
          "model_name": "HBoxModel",
          "model_module_version": "1.5.0",
          "state": {
            "_dom_classes": [],
            "_model_module": "@jupyter-widgets/controls",
            "_model_module_version": "1.5.0",
            "_model_name": "HBoxModel",
            "_view_count": null,
            "_view_module": "@jupyter-widgets/controls",
            "_view_module_version": "1.5.0",
            "_view_name": "HBoxView",
            "box_style": "",
            "children": [
              "IPY_MODEL_e9558d31a2f0450cb35141cc75bc5978",
              "IPY_MODEL_93c6564f54ea4318a31a6e0fec76c8e8",
              "IPY_MODEL_d3221fcef7834fe98c00e1dbb33b36c9"
            ],
            "layout": "IPY_MODEL_c7f20039a12b4a0a825ec14f547e1252"
          }
        },
        "e9558d31a2f0450cb35141cc75bc5978": {
          "model_module": "@jupyter-widgets/controls",
          "model_name": "HTMLModel",
          "model_module_version": "1.5.0",
          "state": {
            "_dom_classes": [],
            "_model_module": "@jupyter-widgets/controls",
            "_model_module_version": "1.5.0",
            "_model_name": "HTMLModel",
            "_view_count": null,
            "_view_module": "@jupyter-widgets/controls",
            "_view_module_version": "1.5.0",
            "_view_name": "HTMLView",
            "description": "",
            "description_tooltip": null,
            "layout": "IPY_MODEL_8c71f41ff9d84127b6bfe773ec311196",
            "placeholder": "​",
            "style": "IPY_MODEL_f09a7d452dd84f46bc1f1f06cb234ea6",
            "value": "100%"
          }
        },
        "93c6564f54ea4318a31a6e0fec76c8e8": {
          "model_module": "@jupyter-widgets/controls",
          "model_name": "FloatProgressModel",
          "model_module_version": "1.5.0",
          "state": {
            "_dom_classes": [],
            "_model_module": "@jupyter-widgets/controls",
            "_model_module_version": "1.5.0",
            "_model_name": "FloatProgressModel",
            "_view_count": null,
            "_view_module": "@jupyter-widgets/controls",
            "_view_module_version": "1.5.0",
            "_view_name": "ProgressView",
            "bar_style": "success",
            "description": "",
            "description_tooltip": null,
            "layout": "IPY_MODEL_9909445ceedc4e1a97f3b133909982a6",
            "max": 1781,
            "min": 0,
            "orientation": "horizontal",
            "style": "IPY_MODEL_d21f7abe479c49d18f25c550bab2f9a4",
            "value": 1781
          }
        },
        "d3221fcef7834fe98c00e1dbb33b36c9": {
          "model_module": "@jupyter-widgets/controls",
          "model_name": "HTMLModel",
          "model_module_version": "1.5.0",
          "state": {
            "_dom_classes": [],
            "_model_module": "@jupyter-widgets/controls",
            "_model_module_version": "1.5.0",
            "_model_name": "HTMLModel",
            "_view_count": null,
            "_view_module": "@jupyter-widgets/controls",
            "_view_module_version": "1.5.0",
            "_view_name": "HTMLView",
            "description": "",
            "description_tooltip": null,
            "layout": "IPY_MODEL_79522476c6f24c31966fe44a2395c6ca",
            "placeholder": "​",
            "style": "IPY_MODEL_bd67996010a645269d306fc63d449f09",
            "value": " 1781/1781 [00:05&lt;00:00, 348.10it/s]"
          }
        },
        "c7f20039a12b4a0a825ec14f547e1252": {
          "model_module": "@jupyter-widgets/base",
          "model_name": "LayoutModel",
          "model_module_version": "1.2.0",
          "state": {
            "_model_module": "@jupyter-widgets/base",
            "_model_module_version": "1.2.0",
            "_model_name": "LayoutModel",
            "_view_count": null,
            "_view_module": "@jupyter-widgets/base",
            "_view_module_version": "1.2.0",
            "_view_name": "LayoutView",
            "align_content": null,
            "align_items": null,
            "align_self": null,
            "border": null,
            "bottom": null,
            "display": null,
            "flex": null,
            "flex_flow": null,
            "grid_area": null,
            "grid_auto_columns": null,
            "grid_auto_flow": null,
            "grid_auto_rows": null,
            "grid_column": null,
            "grid_gap": null,
            "grid_row": null,
            "grid_template_areas": null,
            "grid_template_columns": null,
            "grid_template_rows": null,
            "height": null,
            "justify_content": null,
            "justify_items": null,
            "left": null,
            "margin": null,
            "max_height": null,
            "max_width": null,
            "min_height": null,
            "min_width": null,
            "object_fit": null,
            "object_position": null,
            "order": null,
            "overflow": null,
            "overflow_x": null,
            "overflow_y": null,
            "padding": null,
            "right": null,
            "top": null,
            "visibility": null,
            "width": null
          }
        },
        "8c71f41ff9d84127b6bfe773ec311196": {
          "model_module": "@jupyter-widgets/base",
          "model_name": "LayoutModel",
          "model_module_version": "1.2.0",
          "state": {
            "_model_module": "@jupyter-widgets/base",
            "_model_module_version": "1.2.0",
            "_model_name": "LayoutModel",
            "_view_count": null,
            "_view_module": "@jupyter-widgets/base",
            "_view_module_version": "1.2.0",
            "_view_name": "LayoutView",
            "align_content": null,
            "align_items": null,
            "align_self": null,
            "border": null,
            "bottom": null,
            "display": null,
            "flex": null,
            "flex_flow": null,
            "grid_area": null,
            "grid_auto_columns": null,
            "grid_auto_flow": null,
            "grid_auto_rows": null,
            "grid_column": null,
            "grid_gap": null,
            "grid_row": null,
            "grid_template_areas": null,
            "grid_template_columns": null,
            "grid_template_rows": null,
            "height": null,
            "justify_content": null,
            "justify_items": null,
            "left": null,
            "margin": null,
            "max_height": null,
            "max_width": null,
            "min_height": null,
            "min_width": null,
            "object_fit": null,
            "object_position": null,
            "order": null,
            "overflow": null,
            "overflow_x": null,
            "overflow_y": null,
            "padding": null,
            "right": null,
            "top": null,
            "visibility": null,
            "width": null
          }
        },
        "f09a7d452dd84f46bc1f1f06cb234ea6": {
          "model_module": "@jupyter-widgets/controls",
          "model_name": "DescriptionStyleModel",
          "model_module_version": "1.5.0",
          "state": {
            "_model_module": "@jupyter-widgets/controls",
            "_model_module_version": "1.5.0",
            "_model_name": "DescriptionStyleModel",
            "_view_count": null,
            "_view_module": "@jupyter-widgets/base",
            "_view_module_version": "1.2.0",
            "_view_name": "StyleView",
            "description_width": ""
          }
        },
        "9909445ceedc4e1a97f3b133909982a6": {
          "model_module": "@jupyter-widgets/base",
          "model_name": "LayoutModel",
          "model_module_version": "1.2.0",
          "state": {
            "_model_module": "@jupyter-widgets/base",
            "_model_module_version": "1.2.0",
            "_model_name": "LayoutModel",
            "_view_count": null,
            "_view_module": "@jupyter-widgets/base",
            "_view_module_version": "1.2.0",
            "_view_name": "LayoutView",
            "align_content": null,
            "align_items": null,
            "align_self": null,
            "border": null,
            "bottom": null,
            "display": null,
            "flex": null,
            "flex_flow": null,
            "grid_area": null,
            "grid_auto_columns": null,
            "grid_auto_flow": null,
            "grid_auto_rows": null,
            "grid_column": null,
            "grid_gap": null,
            "grid_row": null,
            "grid_template_areas": null,
            "grid_template_columns": null,
            "grid_template_rows": null,
            "height": null,
            "justify_content": null,
            "justify_items": null,
            "left": null,
            "margin": null,
            "max_height": null,
            "max_width": null,
            "min_height": null,
            "min_width": null,
            "object_fit": null,
            "object_position": null,
            "order": null,
            "overflow": null,
            "overflow_x": null,
            "overflow_y": null,
            "padding": null,
            "right": null,
            "top": null,
            "visibility": null,
            "width": null
          }
        },
        "d21f7abe479c49d18f25c550bab2f9a4": {
          "model_module": "@jupyter-widgets/controls",
          "model_name": "ProgressStyleModel",
          "model_module_version": "1.5.0",
          "state": {
            "_model_module": "@jupyter-widgets/controls",
            "_model_module_version": "1.5.0",
            "_model_name": "ProgressStyleModel",
            "_view_count": null,
            "_view_module": "@jupyter-widgets/base",
            "_view_module_version": "1.2.0",
            "_view_name": "StyleView",
            "bar_color": null,
            "description_width": ""
          }
        },
        "79522476c6f24c31966fe44a2395c6ca": {
          "model_module": "@jupyter-widgets/base",
          "model_name": "LayoutModel",
          "model_module_version": "1.2.0",
          "state": {
            "_model_module": "@jupyter-widgets/base",
            "_model_module_version": "1.2.0",
            "_model_name": "LayoutModel",
            "_view_count": null,
            "_view_module": "@jupyter-widgets/base",
            "_view_module_version": "1.2.0",
            "_view_name": "LayoutView",
            "align_content": null,
            "align_items": null,
            "align_self": null,
            "border": null,
            "bottom": null,
            "display": null,
            "flex": null,
            "flex_flow": null,
            "grid_area": null,
            "grid_auto_columns": null,
            "grid_auto_flow": null,
            "grid_auto_rows": null,
            "grid_column": null,
            "grid_gap": null,
            "grid_row": null,
            "grid_template_areas": null,
            "grid_template_columns": null,
            "grid_template_rows": null,
            "height": null,
            "justify_content": null,
            "justify_items": null,
            "left": null,
            "margin": null,
            "max_height": null,
            "max_width": null,
            "min_height": null,
            "min_width": null,
            "object_fit": null,
            "object_position": null,
            "order": null,
            "overflow": null,
            "overflow_x": null,
            "overflow_y": null,
            "padding": null,
            "right": null,
            "top": null,
            "visibility": null,
            "width": null
          }
        },
        "bd67996010a645269d306fc63d449f09": {
          "model_module": "@jupyter-widgets/controls",
          "model_name": "DescriptionStyleModel",
          "model_module_version": "1.5.0",
          "state": {
            "_model_module": "@jupyter-widgets/controls",
            "_model_module_version": "1.5.0",
            "_model_name": "DescriptionStyleModel",
            "_view_count": null,
            "_view_module": "@jupyter-widgets/base",
            "_view_module_version": "1.2.0",
            "_view_name": "StyleView",
            "description_width": ""
          }
        }
      }
    }
  },
  "nbformat": 4,
  "nbformat_minor": 5
}
