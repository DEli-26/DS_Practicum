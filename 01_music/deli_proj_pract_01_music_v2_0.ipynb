{
  "cells": [
    {
      "cell_type": "markdown",
      "metadata": {
        "id": "view-in-github",
        "colab_type": "text"
      },
      "source": [
        "<a href=\"https://colab.research.google.com/github/DEli-26/DS_Practicum/blob/main/01_music/deli_proj_pract_01_music_v2_0.ipynb\" target=\"_parent\"><img src=\"https://colab.research.google.com/assets/colab-badge.svg\" alt=\"Open In Colab\"/></a>"
      ]
    },
    {
      "cell_type": "markdown",
      "source": [
        "<font size=6><b>**Я.Практикум. Проект №1**</b></font>\n",
        "\n",
        "<font size=6><b>**Яндекс.Музыка**</b></font>\n",
        "\n",
        "---"
      ],
      "metadata": {
        "id": "0AEYVzdHk2rU"
      }
    },
    {
      "cell_type": "markdown",
      "metadata": {
        "id": "E0vqbgi9ay0H"
      },
      "source": [
        "# Постановка задачи"
      ]
    },
    {
      "cell_type": "markdown",
      "metadata": {
        "id": "VUC88oWjTJw2"
      },
      "source": [
        "Сравнение Москвы и Петербурга окружено мифами. Например:\n",
        " * Москва — мегаполис, подчинённый жёсткому ритму рабочей недели;\n",
        " * Петербург — культурная столица, со своими вкусами.\n",
        "\n",
        "На данных Яндекс.Музыки вы сравните поведение пользователей двух столиц.\n",
        "\n",
        "**Цель исследования** — проверьте три гипотезы:\n",
        "1. Активность пользователей зависит от дня недели. Причём в Москве и Петербурге это проявляется по-разному.\n",
        "2. В понедельник утром в Москве преобладают одни жанры, а в Петербурге — другие. Так же и вечером пятницы преобладают разные жанры — в зависимости от города. \n",
        "3. Москва и Петербург предпочитают разные жанры музыки. В Москве чаще слушают поп-музыку, в Петербурге — русский рэп.\n",
        "\n",
        "**Ход исследования**\n",
        "\n",
        "Данные о поведении пользователей вы получите из файла `yandex_music_project.csv`. О качестве данных ничего не известно. Поэтому перед проверкой гипотез понадобится обзор данных. \n",
        "\n",
        "Вы проверите данные на ошибки и оцените их влияние на исследование. Затем, на этапе предобработки вы поищете возможность исправить самые критичные ошибки данных.\n",
        " \n",
        "Таким образом, исследование пройдёт в три этапа:\n",
        " 1. Обзор данных.\n",
        " 2. Предобработка данных.\n",
        " 3. Проверка гипотез.\n",
        "\n"
      ]
    },
    {
      "cell_type": "markdown",
      "metadata": {
        "id": "Ml1hmfXC_Zcs"
      },
      "source": [
        "# Обзор данных\n",
        "\n",
        "Составим первое представление о данных Яндекс.Музыки.\n",
        "\n",
        "\n"
      ]
    },
    {
      "cell_type": "markdown",
      "metadata": {
        "id": "57eAOGIz_Zcs"
      },
      "source": [
        "Импорт библиотеки `pandas`."
      ]
    },
    {
      "cell_type": "code",
      "execution_count": null,
      "metadata": {
        "id": "AXN7PHPN_Zcs"
      },
      "outputs": [],
      "source": [
        "import pandas as pd # импорт библиотеки pandas"
      ]
    },
    {
      "cell_type": "markdown",
      "metadata": {
        "id": "SG23P8tt_Zcs"
      },
      "source": [
        "Прочитаем файл с данными."
      ]
    },
    {
      "cell_type": "markdown",
      "source": [
        "-- Здесь был код с загрузкой данных --"
      ],
      "metadata": {
        "id": "HuyAKmaqoQUW"
      }
    },
    {
      "cell_type": "markdown",
      "metadata": {
        "id": "rDoOMd3uTqnZ"
      },
      "source": [
        "Выведем первые десять строк таблицы."
      ]
    },
    {
      "cell_type": "code",
      "execution_count": null,
      "metadata": {
        "id": "oWTVX3gW_Zct",
        "outputId": "0c85d8f0-0b96-443d-c4fe-67179656a760"
      },
      "outputs": [
        {
          "data": {
            "text/html": [
              "<div>\n",
              "<style scoped>\n",
              "    .dataframe tbody tr th:only-of-type {\n",
              "        vertical-align: middle;\n",
              "    }\n",
              "\n",
              "    .dataframe tbody tr th {\n",
              "        vertical-align: top;\n",
              "    }\n",
              "\n",
              "    .dataframe thead th {\n",
              "        text-align: right;\n",
              "    }\n",
              "</style>\n",
              "<table border=\"1\" class=\"dataframe\">\n",
              "  <thead>\n",
              "    <tr style=\"text-align: right;\">\n",
              "      <th></th>\n",
              "      <th>userID</th>\n",
              "      <th>Track</th>\n",
              "      <th>artist</th>\n",
              "      <th>genre</th>\n",
              "      <th>City</th>\n",
              "      <th>time</th>\n",
              "      <th>Day</th>\n",
              "    </tr>\n",
              "  </thead>\n",
              "  <tbody>\n",
              "    <tr>\n",
              "      <td>0</td>\n",
              "      <td>FFB692EC</td>\n",
              "      <td>Kamigata To Boots</td>\n",
              "      <td>The Mass Missile</td>\n",
              "      <td>rock</td>\n",
              "      <td>Saint-Petersburg</td>\n",
              "      <td>20:28:33</td>\n",
              "      <td>Wednesday</td>\n",
              "    </tr>\n",
              "    <tr>\n",
              "      <td>1</td>\n",
              "      <td>55204538</td>\n",
              "      <td>Delayed Because of Accident</td>\n",
              "      <td>Andreas Rönnberg</td>\n",
              "      <td>rock</td>\n",
              "      <td>Moscow</td>\n",
              "      <td>14:07:09</td>\n",
              "      <td>Friday</td>\n",
              "    </tr>\n",
              "    <tr>\n",
              "      <td>2</td>\n",
              "      <td>20EC38</td>\n",
              "      <td>Funiculì funiculà</td>\n",
              "      <td>Mario Lanza</td>\n",
              "      <td>pop</td>\n",
              "      <td>Saint-Petersburg</td>\n",
              "      <td>20:58:07</td>\n",
              "      <td>Wednesday</td>\n",
              "    </tr>\n",
              "    <tr>\n",
              "      <td>3</td>\n",
              "      <td>A3DD03C9</td>\n",
              "      <td>Dragons in the Sunset</td>\n",
              "      <td>Fire + Ice</td>\n",
              "      <td>folk</td>\n",
              "      <td>Saint-Petersburg</td>\n",
              "      <td>08:37:09</td>\n",
              "      <td>Monday</td>\n",
              "    </tr>\n",
              "    <tr>\n",
              "      <td>4</td>\n",
              "      <td>E2DC1FAE</td>\n",
              "      <td>Soul People</td>\n",
              "      <td>Space Echo</td>\n",
              "      <td>dance</td>\n",
              "      <td>Moscow</td>\n",
              "      <td>08:34:34</td>\n",
              "      <td>Monday</td>\n",
              "    </tr>\n",
              "    <tr>\n",
              "      <td>5</td>\n",
              "      <td>842029A1</td>\n",
              "      <td>Преданная</td>\n",
              "      <td>IMPERVTOR</td>\n",
              "      <td>rusrap</td>\n",
              "      <td>Saint-Petersburg</td>\n",
              "      <td>13:09:41</td>\n",
              "      <td>Friday</td>\n",
              "    </tr>\n",
              "    <tr>\n",
              "      <td>6</td>\n",
              "      <td>4CB90AA5</td>\n",
              "      <td>True</td>\n",
              "      <td>Roman Messer</td>\n",
              "      <td>dance</td>\n",
              "      <td>Moscow</td>\n",
              "      <td>13:00:07</td>\n",
              "      <td>Wednesday</td>\n",
              "    </tr>\n",
              "    <tr>\n",
              "      <td>7</td>\n",
              "      <td>F03E1C1F</td>\n",
              "      <td>Feeling This Way</td>\n",
              "      <td>Polina Griffith</td>\n",
              "      <td>dance</td>\n",
              "      <td>Moscow</td>\n",
              "      <td>20:47:49</td>\n",
              "      <td>Wednesday</td>\n",
              "    </tr>\n",
              "    <tr>\n",
              "      <td>8</td>\n",
              "      <td>8FA1D3BE</td>\n",
              "      <td>И вновь продолжается бой</td>\n",
              "      <td>NaN</td>\n",
              "      <td>ruspop</td>\n",
              "      <td>Moscow</td>\n",
              "      <td>09:17:40</td>\n",
              "      <td>Friday</td>\n",
              "    </tr>\n",
              "    <tr>\n",
              "      <td>9</td>\n",
              "      <td>E772D5C0</td>\n",
              "      <td>Pessimist</td>\n",
              "      <td>NaN</td>\n",
              "      <td>dance</td>\n",
              "      <td>Saint-Petersburg</td>\n",
              "      <td>21:20:49</td>\n",
              "      <td>Wednesday</td>\n",
              "    </tr>\n",
              "  </tbody>\n",
              "</table>\n",
              "</div>"
            ],
            "text/plain": [
              "     userID                        Track            artist   genre  \\\n",
              "0  FFB692EC            Kamigata To Boots  The Mass Missile    rock   \n",
              "1  55204538  Delayed Because of Accident  Andreas Rönnberg    rock   \n",
              "2    20EC38            Funiculì funiculà       Mario Lanza     pop   \n",
              "3  A3DD03C9        Dragons in the Sunset        Fire + Ice    folk   \n",
              "4  E2DC1FAE                  Soul People        Space Echo   dance   \n",
              "5  842029A1                    Преданная         IMPERVTOR  rusrap   \n",
              "6  4CB90AA5                         True      Roman Messer   dance   \n",
              "7  F03E1C1F             Feeling This Way   Polina Griffith   dance   \n",
              "8  8FA1D3BE     И вновь продолжается бой               NaN  ruspop   \n",
              "9  E772D5C0                    Pessimist               NaN   dance   \n",
              "\n",
              "             City        time        Day  \n",
              "0  Saint-Petersburg  20:28:33  Wednesday  \n",
              "1            Moscow  14:07:09     Friday  \n",
              "2  Saint-Petersburg  20:58:07  Wednesday  \n",
              "3  Saint-Petersburg  08:37:09     Monday  \n",
              "4            Moscow  08:34:34     Monday  \n",
              "5  Saint-Petersburg  13:09:41     Friday  \n",
              "6            Moscow  13:00:07  Wednesday  \n",
              "7            Moscow  20:47:49  Wednesday  \n",
              "8            Moscow  09:17:40     Friday  \n",
              "9  Saint-Petersburg  21:20:49  Wednesday  "
            ]
          },
          "execution_count": 3,
          "metadata": {},
          "output_type": "execute_result"
        }
      ],
      "source": [
        "df.head(10) # получение первых 10 строк таблицы df"
      ]
    },
    {
      "cell_type": "markdown",
      "metadata": {
        "id": "EO73Kwic_Zct"
      },
      "source": [
        "Получим общую информацию о таблице."
      ]
    },
    {
      "cell_type": "code",
      "execution_count": null,
      "metadata": {
        "id": "DSf2kIb-_Zct",
        "outputId": "0cbe9281-bba7-468d-8aa1-5bdbb9ca71fd"
      },
      "outputs": [
        {
          "name": "stdout",
          "output_type": "stream",
          "text": [
            "<class 'pandas.core.frame.DataFrame'>\n",
            "RangeIndex: 65079 entries, 0 to 65078\n",
            "Data columns (total 7 columns):\n",
            "  userID    65079 non-null object\n",
            "Track       63848 non-null object\n",
            "artist      57876 non-null object\n",
            "genre       63881 non-null object\n",
            "  City      65079 non-null object\n",
            "time        65079 non-null object\n",
            "Day         65079 non-null object\n",
            "dtypes: object(7)\n",
            "memory usage: 3.5+ MB\n"
          ]
        }
      ],
      "source": [
        "df.info() # получение общей информации о данных в таблице df"
      ]
    },
    {
      "cell_type": "markdown",
      "metadata": {
        "id": "TaQ2Iwbr_Zct"
      },
      "source": [
        "Итак, в таблице семь столбцов. Тип данных во всех столбцах — `object`.\n",
        "\n",
        "Согласно документации к данным:\n",
        "* `userID` — идентификатор пользователя;\n",
        "* `Track` — название трека;  \n",
        "* `artist` — имя исполнителя;\n",
        "* `genre` — название жанра;\n",
        "* `City` — город пользователя;\n",
        "* `time` — время начала прослушивания;\n",
        "* `Day` — день недели.\n",
        "\n",
        "В названиях колонок видны три нарушения стиля:\n",
        "1. Строчные буквы сочетаются с прописными.\n",
        "2. Встречаются пробелы.\n",
        "3. Не указан формат отображения времени.\n",
        "\n",
        "Количество значений в столбцах различается. Значит, в данных есть пропущенные значения.\n"
      ]
    },
    {
      "cell_type": "markdown",
      "metadata": {
        "id": "MCB6-dXG_Zct"
      },
      "source": [
        "**Выводы**\n",
        "\n",
        "В каждой строке таблицы — данные о прослушанном треке. Часть колонок описывает саму композицию: название, исполнителя и жанр. Остальные данные рассказывают о пользователе: из какого он города, когда он слушал музыку. \n",
        "\n",
        "Предварительно можно утверждать, что, данных достаточно для проверки гипотез. Но встречаются пропуски в данных, а в названиях колонок — расхождения с хорошим стилем.\n",
        "\n",
        "Чтобы двигаться дальше, нужно устранить проблемы в данных."
      ]
    },
    {
      "cell_type": "markdown",
      "metadata": {
        "id": "SjYF6Ub9_Zct"
      },
      "source": [
        "## Предобработка данных\n",
        "Исправим стиль в заголовках столбцов и исключим пропуски. Затем проверим данные на дубликаты."
      ]
    },
    {
      "cell_type": "markdown",
      "metadata": {
        "id": "dIaKXr29_Zct"
      },
      "source": [
        "### Стиль заголовков\n",
        "Выведем на экран названия столбцов."
      ]
    },
    {
      "cell_type": "code",
      "execution_count": null,
      "metadata": {
        "id": "oKOTdF_Q_Zct",
        "outputId": "7a47b81a-5504-48bb-ecfb-23c467b30ba3"
      },
      "outputs": [
        {
          "data": {
            "text/plain": [
              "Index(['  userID', 'Track', 'artist', 'genre', '  City  ', 'time', 'Day'], dtype='object')"
            ]
          },
          "execution_count": 5,
          "metadata": {},
          "output_type": "execute_result"
        }
      ],
      "source": [
        "df.columns # перечень названий столбцов таблицы df"
      ]
    },
    {
      "cell_type": "markdown",
      "metadata": {
        "id": "zj5534cv_Zct"
      },
      "source": [
        "Приведем названия в соответствие с хорошим стилем:\n",
        "* несколько слов в названии запишем в «змеином_регистре»,\n",
        "* все символы сделаем строчными,\n",
        "* устраним пробелы."
      ]
    },
    {
      "cell_type": "code",
      "execution_count": null,
      "metadata": {
        "id": "ISlFqs5y_Zct"
      },
      "outputs": [],
      "source": [
        "# переименование столбцов\n",
        "df = df.rename(columns={\n",
        "    '  userID':'user_id',\n",
        "    'Track':'track',\n",
        "    '  City  ':'city',\n",
        "    'Day':'day'\n",
        "})"
      ]
    },
    {
      "cell_type": "markdown",
      "metadata": {
        "id": "1dqbh00J_Zct"
      },
      "source": [
        "Проверим результат. "
      ]
    },
    {
      "cell_type": "code",
      "execution_count": null,
      "metadata": {
        "id": "d4NOAmTW_Zct",
        "outputId": "b26b20f4-f3e2-440f-97b5-eb87cfad791e"
      },
      "outputs": [
        {
          "data": {
            "text/plain": [
              "Index(['user_id', 'track', 'artist', 'genre', 'city', 'time', 'day'], dtype='object')"
            ]
          },
          "execution_count": 7,
          "metadata": {},
          "output_type": "execute_result"
        }
      ],
      "source": [
        "df.columns # проверка результатов - перечень названий столбцов"
      ]
    },
    {
      "cell_type": "markdown",
      "metadata": {
        "id": "5ISfbcfY_Zct"
      },
      "source": [
        "### Пропуски значений\n",
        "Сначала посчитаtv, сколько в таблице пропущенных значений."
      ]
    },
    {
      "cell_type": "code",
      "execution_count": null,
      "metadata": {
        "id": "RskX29qr_Zct",
        "outputId": "20ada143-27db-463e-ebf3-4eb63f5c84b5"
      },
      "outputs": [
        {
          "data": {
            "text/plain": [
              "user_id       0\n",
              "track      1231\n",
              "artist     7203\n",
              "genre      1198\n",
              "city          0\n",
              "time          0\n",
              "day           0\n",
              "dtype: int64"
            ]
          },
          "execution_count": 8,
          "metadata": {},
          "output_type": "execute_result"
        }
      ],
      "source": [
        "df.isna().sum()# подсчёт пропусков"
      ]
    },
    {
      "cell_type": "markdown",
      "metadata": {
        "id": "qubhgnlO_Zct"
      },
      "source": [
        "Не все пропущенные значения влияют на исследование. Так в `track` и `artist` пропуски не важны для вашей работы. Достаточно заменить их явными обозначениями.\n",
        "\n",
        "Но пропуски в `genre` могут помешать сравнению музыкальных вкусов в Москве и Санкт-Петербурге. На практике было бы правильно установить причину пропусков и восстановить данные. Такой возможности нет в учебном проекте. Придётся:\n",
        "* заполнить и эти пропуски явными обозначениями,\n",
        "* оценить, насколько они повредят расчётам. "
      ]
    },
    {
      "cell_type": "markdown",
      "metadata": {
        "id": "fSv2laPA_Zct"
      },
      "source": [
        "Заменим пропущенные значения в столбцах `track`, `artist` и `genre` на строку `'unknown'`. Для этого создадим список `columns_to_replace`, переберем его элементы циклом `for` и для каждого столбца выполним замену пропущенных значений."
      ]
    },
    {
      "cell_type": "code",
      "execution_count": null,
      "metadata": {
        "id": "KplB5qWs_Zct"
      },
      "outputs": [],
      "source": [
        "# перебор названий столбцов в цикле и замена пропущенных значений на 'unknown'\n",
        "columns_to_replace = ['track', 'artist', 'genre']\n",
        "for i in columns_to_replace:\n",
        "    df[i] = df[i].fillna('unknown')"
      ]
    },
    {
      "cell_type": "markdown",
      "metadata": {
        "id": "Ilsm-MZo_Zct"
      },
      "source": [
        "Убедимся, что в таблице не осталось пропусков."
      ]
    },
    {
      "cell_type": "code",
      "execution_count": null,
      "metadata": {
        "id": "Tq4nYRX4_Zct",
        "outputId": "151d505d-63b1-474d-ad70-c63df6f91a5d"
      },
      "outputs": [
        {
          "data": {
            "text/plain": [
              "user_id    0\n",
              "track      0\n",
              "artist     0\n",
              "genre      0\n",
              "city       0\n",
              "time       0\n",
              "day        0\n",
              "dtype: int64"
            ]
          },
          "execution_count": 10,
          "metadata": {},
          "output_type": "execute_result"
        }
      ],
      "source": [
        "df.isna().sum()# подсчёт пропусков"
      ]
    },
    {
      "cell_type": "markdown",
      "metadata": {
        "id": "BWKRtBJ3_Zct"
      },
      "source": [
        "### Дубликаты\n",
        "Посчитаем явные дубликаты в таблице."
      ]
    },
    {
      "cell_type": "code",
      "execution_count": null,
      "metadata": {
        "id": "36eES_S0_Zct",
        "outputId": "0a5eea34-5495-4c6b-9827-98c27204a864"
      },
      "outputs": [
        {
          "data": {
            "text/plain": [
              "3826"
            ]
          },
          "execution_count": 11,
          "metadata": {},
          "output_type": "execute_result"
        }
      ],
      "source": [
        "# подсчёт явных дубликатов\n",
        "df.duplicated().sum()"
      ]
    },
    {
      "cell_type": "markdown",
      "metadata": {
        "id": "Ot25h6XR_Zct"
      },
      "source": [
        "Удалим явные дубликаты."
      ]
    },
    {
      "cell_type": "code",
      "execution_count": null,
      "metadata": {
        "id": "exFHq6tt_Zct"
      },
      "outputs": [],
      "source": [
        "# удаление явных дубликатов (с удалением старых индексов и формированием новых)\n",
        "df = df.drop_duplicates().reset_index(drop=True)"
      ]
    },
    {
      "cell_type": "markdown",
      "metadata": {
        "id": "Im2YwBEG_Zct"
      },
      "source": [
        "Ещё раз посчитайте явные дубликаты в таблице — убедитесь, что полностью от них избавились:"
      ]
    },
    {
      "cell_type": "code",
      "execution_count": null,
      "metadata": {
        "id": "-8PuNWQ0_Zct",
        "outputId": "af97a33f-806e-45ca-f58c-da71aba3ff84"
      },
      "outputs": [
        {
          "data": {
            "text/plain": [
              "0"
            ]
          },
          "execution_count": 13,
          "metadata": {},
          "output_type": "execute_result"
        }
      ],
      "source": [
        "# проверка на отсутствие дубликатов\n",
        "df.duplicated().sum()"
      ]
    },
    {
      "cell_type": "markdown",
      "metadata": {
        "id": "QlFBsxAr_Zct"
      },
      "source": [
        "Теперь избавьтесь от неявных дубликатов в колонке `genre`. Например, название одного и того же жанра может быть записано немного по-разному. Такие ошибки тоже повлияют на результат исследования."
      ]
    },
    {
      "cell_type": "markdown",
      "metadata": {
        "id": "eSjWwsOh_Zct"
      },
      "source": [
        "Выведите на экран список уникальных названий жанров, отсортированный в алфавитном порядке. Для этого:\n",
        "* извлеките нужный столбец датафрейма, \n",
        "* примените к нему метод сортировки,\n",
        "* для отсортированного столбца вызовите метод, который вернёт уникальные значения из столбца."
      ]
    },
    {
      "cell_type": "code",
      "execution_count": null,
      "metadata": {
        "id": "JIUcqzZN_Zct",
        "outputId": "21b45a59-622d-437d-a610-c1a2f96eb91a"
      },
      "outputs": [
        {
          "data": {
            "text/plain": [
              "array(['acid', 'acoustic', 'action', 'adult', 'africa', 'afrikaans',\n",
              "       'alternative', 'alternativepunk', 'ambient', 'americana',\n",
              "       'animated', 'anime', 'arabesk', 'arabic', 'arena',\n",
              "       'argentinetango', 'art', 'audiobook', 'author', 'avantgarde',\n",
              "       'axé', 'baile', 'balkan', 'beats', 'bigroom', 'black', 'bluegrass',\n",
              "       'blues', 'bollywood', 'bossa', 'brazilian', 'breakbeat', 'breaks',\n",
              "       'broadway', 'cantautori', 'cantopop', 'canzone', 'caribbean',\n",
              "       'caucasian', 'celtic', 'chamber', 'chanson', 'children', 'chill',\n",
              "       'chinese', 'choral', 'christian', 'christmas', 'classical',\n",
              "       'classicmetal', 'club', 'colombian', 'comedy', 'conjazz',\n",
              "       'contemporary', 'country', 'cuban', 'dance', 'dancehall',\n",
              "       'dancepop', 'dark', 'death', 'deep', 'deutschrock', 'deutschspr',\n",
              "       'dirty', 'disco', 'dnb', 'documentary', 'downbeat', 'downtempo',\n",
              "       'drum', 'dub', 'dubstep', 'eastern', 'easy', 'electronic',\n",
              "       'electropop', 'emo', 'entehno', 'epicmetal', 'estrada', 'ethnic',\n",
              "       'eurofolk', 'european', 'experimental', 'extrememetal', 'fado',\n",
              "       'fairytail', 'film', 'fitness', 'flamenco', 'folk', 'folklore',\n",
              "       'folkmetal', 'folkrock', 'folktronica', 'forró', 'frankreich',\n",
              "       'französisch', 'french', 'funk', 'future', 'gangsta', 'garage',\n",
              "       'german', 'ghazal', 'gitarre', 'glitch', 'gospel', 'gothic',\n",
              "       'grime', 'grunge', 'gypsy', 'handsup', \"hard'n'heavy\", 'hardcore',\n",
              "       'hardstyle', 'hardtechno', 'hip', 'hip-hop', 'hiphop',\n",
              "       'historisch', 'holiday', 'hop', 'horror', 'house', 'hymn', 'idm',\n",
              "       'independent', 'indian', 'indie', 'indipop', 'industrial',\n",
              "       'inspirational', 'instrumental', 'international', 'irish', 'jam',\n",
              "       'japanese', 'jazz', 'jewish', 'jpop', 'jungle', 'k-pop',\n",
              "       'karadeniz', 'karaoke', 'kayokyoku', 'korean', 'laiko', 'latin',\n",
              "       'latino', 'leftfield', 'local', 'lounge', 'loungeelectronic',\n",
              "       'lovers', 'malaysian', 'mandopop', 'marschmusik', 'meditative',\n",
              "       'mediterranean', 'melodic', 'metal', 'metalcore', 'mexican',\n",
              "       'middle', 'minimal', 'miscellaneous', 'modern', 'mood', 'mpb',\n",
              "       'muslim', 'native', 'neoklassik', 'neue', 'new', 'newage',\n",
              "       'newwave', 'nu', 'nujazz', 'numetal', 'oceania', 'old', 'opera',\n",
              "       'orchestral', 'other', 'piano', 'podcasts', 'pop', 'popdance',\n",
              "       'popelectronic', 'popeurodance', 'poprussian', 'post',\n",
              "       'posthardcore', 'postrock', 'power', 'progmetal', 'progressive',\n",
              "       'psychedelic', 'punjabi', 'punk', 'quebecois', 'ragga', 'ram',\n",
              "       'rancheras', 'rap', 'rave', 'reggae', 'reggaeton', 'regional',\n",
              "       'relax', 'religious', 'retro', 'rhythm', 'rnb', 'rnr', 'rock',\n",
              "       'rockabilly', 'rockalternative', 'rockindie', 'rockother',\n",
              "       'romance', 'roots', 'ruspop', 'rusrap', 'rusrock', 'russian',\n",
              "       'salsa', 'samba', 'scenic', 'schlager', 'self', 'sertanejo',\n",
              "       'shanson', 'shoegazing', 'showtunes', 'singer', 'ska', 'skarock',\n",
              "       'slow', 'smooth', 'soft', 'soul', 'soulful', 'sound', 'soundtrack',\n",
              "       'southern', 'specialty', 'speech', 'spiritual', 'sport',\n",
              "       'stonerrock', 'surf', 'swing', 'synthpop', 'synthrock',\n",
              "       'sängerportrait', 'tango', 'tanzorchester', 'taraftar', 'tatar',\n",
              "       'tech', 'techno', 'teen', 'thrash', 'top', 'traditional',\n",
              "       'tradjazz', 'trance', 'tribal', 'trip', 'triphop', 'tropical',\n",
              "       'türk', 'türkçe', 'ukrrock', 'unknown', 'urban', 'uzbek',\n",
              "       'variété', 'vi', 'videogame', 'vocal', 'western', 'world',\n",
              "       'worldbeat', 'ïîï', 'электроника'], dtype=object)"
            ]
          },
          "execution_count": 14,
          "metadata": {},
          "output_type": "execute_result"
        }
      ],
      "source": [
        "# Просмотр уникальных названий жанров \n",
        "df['genre'].sort_values().unique()"
      ]
    },
    {
      "cell_type": "markdown",
      "metadata": {
        "id": "qej-Qmuo_Zct"
      },
      "source": [
        "Просмотрите список и найдите неявные дубликаты названия `hiphop`. Это могут быть названия с ошибками или альтернативные названия того же жанра.\n",
        "\n",
        "Вы увидите следующие неявные дубликаты:\n",
        "* *hip*,\n",
        "* *hop*,\n",
        "* *hip-hop*.\n",
        "\n",
        "Чтобы очистить от них таблицу, напишите функцию `replace_wrong_genres()` с двумя параметрами: \n",
        "* `wrong_genres` — список дубликатов,\n",
        "* `correct_genre` — строка с правильным значением.\n",
        "\n",
        "Функция должна исправить колонку `genre` в таблице `df`: заменить каждое значение из списка `wrong_genres` на значение из `correct_genre`."
      ]
    },
    {
      "cell_type": "code",
      "execution_count": null,
      "metadata": {
        "id": "ErNDkmns_Zct"
      },
      "outputs": [],
      "source": [
        "# Функция для замены неявных дубликатов (расширенная относительно условий)\n",
        "#data - столбец в dataframe, подлежащий корректировке; wrong - список списков с неявными дубликатами; \n",
        "#correct - список с правильным значением для дубликатов.\n",
        "#def replace_wrong_genres(data, wrong, correct):\n",
        "#    for i in range(len(correct)):\n",
        "#        for j in wrong:\n",
        "#            data = data.replace(j, correct[i])\n",
        "#    return data\n",
        "def replace_wrong_genres(dictionary):\n",
        "    for k, v in dictionary.items():\n",
        "        for i in v:\n",
        "            df['genre'] = df['genre'].replace(i, k)"
      ]
    },
    {
      "cell_type": "markdown",
      "metadata": {
        "id": "aDoBJxbA_Zct"
      },
      "source": [
        "Вызовите `replace_wrong_genres()` и передайте ей такие аргументы, чтобы она устранила неявные дубликаты: вместо `hip`, `hop` и `hip-hop` в таблице должно быть значение `hiphop`:"
      ]
    },
    {
      "cell_type": "code",
      "execution_count": null,
      "metadata": {
        "id": "YN5i2hpmSo09",
        "scrolled": false
      },
      "outputs": [],
      "source": [
        "# Устранение неявных дубликатов\n",
        "\n",
        "corr_wr_genre = {'hiphop':['hip', 'hop', 'hip-hop'],\n",
        "       'afrikaans':['africa'],\n",
        "       'indie':['ïîï', 'independent'],\n",
        "       'anime':['animated'],\n",
        "       'breakbeat':['breaks'],\n",
        "       'downbeat':['downtempo'],\n",
        "       'dnb':['drum'],\n",
        "       'electronic':['электроника'],\n",
        "       'latino':['latin'],\n",
        "       'newage':['new'],\n",
        "       'alternative':['rockalternative'],\n",
        "       'rock':['rockother'],\n",
        "       'ska':['skarock'],\n",
        "       'soul':['soulful'],\n",
        "       'techno':['tech'],\n",
        "       'türkçe':['türk']    \n",
        "}\n",
        "\n",
        "replace_wrong_genres(corr_wr_genre)"
      ]
    },
    {
      "cell_type": "markdown",
      "metadata": {
        "id": "zQKF16_RG15m"
      },
      "source": [
        "Проверьте, что заменили неправильные названия:\n",
        "\n",
        "*   hip\n",
        "*   hop\n",
        "*   hip-hop\n",
        "\n",
        "Выведите отсортированный список уникальных значений столбца `genre`:"
      ]
    },
    {
      "cell_type": "code",
      "execution_count": null,
      "metadata": {
        "id": "wvixALnFG15m",
        "outputId": "2d06cab1-1a03-400a-f531-610329b5d2f7"
      },
      "outputs": [
        {
          "data": {
            "text/plain": [
              "array(['acid', 'acoustic', 'action', 'adult', 'afrikaans', 'alternative',\n",
              "       'alternativepunk', 'ambient', 'americana', 'anime', 'arabesk',\n",
              "       'arabic', 'arena', 'argentinetango', 'art', 'audiobook', 'author',\n",
              "       'avantgarde', 'axé', 'baile', 'balkan', 'beats', 'bigroom',\n",
              "       'black', 'bluegrass', 'blues', 'bollywood', 'bossa', 'brazilian',\n",
              "       'breakbeat', 'broadway', 'cantautori', 'cantopop', 'canzone',\n",
              "       'caribbean', 'caucasian', 'celtic', 'chamber', 'chanson',\n",
              "       'children', 'chill', 'chinese', 'choral', 'christian', 'christmas',\n",
              "       'classical', 'classicmetal', 'club', 'colombian', 'comedy',\n",
              "       'conjazz', 'contemporary', 'country', 'cuban', 'dance',\n",
              "       'dancehall', 'dancepop', 'dark', 'death', 'deep', 'deutschrock',\n",
              "       'deutschspr', 'dirty', 'disco', 'dnb', 'documentary', 'downbeat',\n",
              "       'dub', 'dubstep', 'eastern', 'easy', 'electronic', 'electropop',\n",
              "       'emo', 'entehno', 'epicmetal', 'estrada', 'ethnic', 'eurofolk',\n",
              "       'european', 'experimental', 'extrememetal', 'fado', 'fairytail',\n",
              "       'film', 'fitness', 'flamenco', 'folk', 'folklore', 'folkmetal',\n",
              "       'folkrock', 'folktronica', 'forró', 'frankreich', 'französisch',\n",
              "       'french', 'funk', 'future', 'gangsta', 'garage', 'german',\n",
              "       'ghazal', 'gitarre', 'glitch', 'gospel', 'gothic', 'grime',\n",
              "       'grunge', 'gypsy', 'handsup', \"hard'n'heavy\", 'hardcore',\n",
              "       'hardstyle', 'hardtechno', 'hiphop', 'historisch', 'holiday',\n",
              "       'horror', 'house', 'hymn', 'idm', 'indian', 'indie', 'indipop',\n",
              "       'industrial', 'inspirational', 'instrumental', 'international',\n",
              "       'irish', 'jam', 'japanese', 'jazz', 'jewish', 'jpop', 'jungle',\n",
              "       'k-pop', 'karadeniz', 'karaoke', 'kayokyoku', 'korean', 'laiko',\n",
              "       'latino', 'leftfield', 'local', 'lounge', 'loungeelectronic',\n",
              "       'lovers', 'malaysian', 'mandopop', 'marschmusik', 'meditative',\n",
              "       'mediterranean', 'melodic', 'metal', 'metalcore', 'mexican',\n",
              "       'middle', 'minimal', 'miscellaneous', 'modern', 'mood', 'mpb',\n",
              "       'muslim', 'native', 'neoklassik', 'neue', 'newage', 'newwave',\n",
              "       'nu', 'nujazz', 'numetal', 'oceania', 'old', 'opera', 'orchestral',\n",
              "       'other', 'piano', 'podcasts', 'pop', 'popdance', 'popelectronic',\n",
              "       'popeurodance', 'poprussian', 'post', 'posthardcore', 'postrock',\n",
              "       'power', 'progmetal', 'progressive', 'psychedelic', 'punjabi',\n",
              "       'punk', 'quebecois', 'ragga', 'ram', 'rancheras', 'rap', 'rave',\n",
              "       'reggae', 'reggaeton', 'regional', 'relax', 'religious', 'retro',\n",
              "       'rhythm', 'rnb', 'rnr', 'rock', 'rockabilly', 'rockindie',\n",
              "       'romance', 'roots', 'ruspop', 'rusrap', 'rusrock', 'russian',\n",
              "       'salsa', 'samba', 'scenic', 'schlager', 'self', 'sertanejo',\n",
              "       'shanson', 'shoegazing', 'showtunes', 'singer', 'ska', 'slow',\n",
              "       'smooth', 'soft', 'soul', 'sound', 'soundtrack', 'southern',\n",
              "       'specialty', 'speech', 'spiritual', 'sport', 'stonerrock', 'surf',\n",
              "       'swing', 'synthpop', 'synthrock', 'sängerportrait', 'tango',\n",
              "       'tanzorchester', 'taraftar', 'tatar', 'techno', 'teen', 'thrash',\n",
              "       'top', 'traditional', 'tradjazz', 'trance', 'tribal', 'trip',\n",
              "       'triphop', 'tropical', 'türkçe', 'ukrrock', 'unknown', 'urban',\n",
              "       'uzbek', 'variété', 'vi', 'videogame', 'vocal', 'western', 'world',\n",
              "       'worldbeat'], dtype=object)"
            ]
          },
          "execution_count": 17,
          "metadata": {},
          "output_type": "execute_result"
        }
      ],
      "source": [
        "# Проверка на неявные дубликаты\n",
        "df['genre'].sort_values().unique()"
      ]
    },
    {
      "cell_type": "markdown",
      "metadata": {
        "id": "jz6a9-7HQUDd"
      },
      "source": [
        "**Выводы**\n",
        "\n",
        "Предобработка обнаружила три проблемы в данных:\n",
        "\n",
        "- нарушения в стиле заголовков,\n",
        "- пропущенные значения,\n",
        "- дубликаты — явные и неявные.\n",
        "\n",
        "Вы исправили заголовки, чтобы упростить работу с таблицей. Без дубликатов исследование станет более точным.\n",
        "\n",
        "Пропущенные значения вы заменили на `'unknown'`. Ещё предстоит увидеть, не повредят ли исследованию пропуски в колонке `genre`.\n",
        "\n",
        "Теперь можно перейти к проверке гипотез. "
      ]
    },
    {
      "cell_type": "markdown",
      "metadata": {
        "id": "WttZHXH0SqKk"
      },
      "source": [
        "## Проверка гипотез"
      ]
    },
    {
      "cell_type": "markdown",
      "metadata": {
        "id": "Im936VVi_Zcu"
      },
      "source": [
        "### Сравнение поведения пользователей двух столиц"
      ]
    },
    {
      "cell_type": "markdown",
      "metadata": {
        "id": "nwt_MuaL_Zcu"
      },
      "source": [
        "Первая гипотеза утверждает, что пользователи по-разному слушают музыку в Москве и Санкт-Петербурге. Проверьте это предположение по данным о трёх днях недели — понедельнике, среде и пятнице. Для этого:\n",
        "\n",
        "* Разделите пользователей Москвы и Санкт-Петербурга\n",
        "* Сравните, сколько треков послушала каждая группа пользователей в понедельник, среду и пятницу.\n"
      ]
    },
    {
      "cell_type": "markdown",
      "metadata": {
        "id": "8Dw_YMmT_Zcu"
      },
      "source": [
        "Для тренировки сначала выполните каждый из расчётов по отдельности. \n",
        "\n",
        "Оцените активность пользователей в каждом городе. Сгруппируйте данные по городу и посчитайте прослушивания в каждой группе.\n",
        "\n"
      ]
    },
    {
      "cell_type": "code",
      "execution_count": null,
      "metadata": {
        "id": "0_Qs96oh_Zcu",
        "outputId": "4c138a11-8584-411d-e434-a06a528da5f4"
      },
      "outputs": [
        {
          "name": "stdout",
          "output_type": "stream",
          "text": [
            "city\n",
            "Moscow              42741\n",
            "Saint-Petersburg    18512\n",
            "Name: city, dtype: int64\n"
          ]
        }
      ],
      "source": [
        "# Подсчёт прослушиваний в каждом городе\n",
        "#list_msk_cnt = df[df['city'] == 'Moscow']['city'].count()\n",
        "#list_spb_cnt = df[df['city'] == 'Saint-Petersburg']['city'].count()\n",
        "#print (f'Прослушований в Москве: {list_msk_cnt}, а в Санкт-Петербурге: {list_spb_cnt}')\n",
        "\n",
        "list_city = df.groupby(df['city'])['city'].count()\n",
        "print(list_city)"
      ]
    },
    {
      "cell_type": "markdown",
      "metadata": {
        "id": "dzli3w8o_Zcu"
      },
      "source": [
        "В Москве прослушиваний больше, чем в Петербурге. Из этого не следует, что московские пользователи чаще слушают музыку. Просто самих пользователей в Москве больше.\n",
        "\n",
        "Теперь сгруппируйте данные по дню недели и подсчитайте прослушивания в понедельник, среду и пятницу. Учтите, что в данных есть информация только о прослушиваниях только за эти дни.\n"
      ]
    },
    {
      "cell_type": "code",
      "execution_count": null,
      "metadata": {
        "id": "0TA_tZxckUcv",
        "outputId": "f24fb2d3-c63d-4650-d534-a4e134eac52d"
      },
      "outputs": [
        {
          "data": {
            "text/plain": [
              "array(['Friday', 'Monday', 'Wednesday'], dtype=object)"
            ]
          },
          "execution_count": 19,
          "metadata": {},
          "output_type": "execute_result"
        }
      ],
      "source": [
        "df['day'].sort_values().unique() #Проверим утверждение, что данные есть только за 3 дня"
      ]
    },
    {
      "cell_type": "code",
      "execution_count": null,
      "metadata": {
        "id": "uZMKjiJz_Zcu",
        "outputId": "0165629f-31dd-48e1-c67b-4c31e98bf551"
      },
      "outputs": [
        {
          "name": "stdout",
          "output_type": "stream",
          "text": [
            "day\n",
            "Friday       21840\n",
            "Monday       21354\n",
            "Wednesday    18059\n",
            "Name: day, dtype: int64\n"
          ]
        }
      ],
      "source": [
        "# Подсчёт прослушиваний в каждый из трёх дней\n",
        "#list_mnd = df[df['day'] == 'Monday']['day'].count()\n",
        "#list_wdn = df[df['day'] == 'Wednesday']['day'].count()\n",
        "#list_frd = df[df['day'] == 'Friday']['day'].count()\n",
        "#print (f'Прослушований в понедельник: {list_mnd}, в среду: {list_wdn}, а в пятницу: {list_frd}')\n",
        "\n",
        "list_day = df.groupby(df['day'])['day'].count()\n",
        "print (list_day)"
      ]
    },
    {
      "cell_type": "markdown",
      "metadata": {
        "id": "cC2tNrlL_Zcu"
      },
      "source": [
        "В среднем пользователи из двух городов менее активны по средам. Но картина может измениться, если рассмотреть каждый город в отдельности."
      ]
    },
    {
      "cell_type": "markdown",
      "metadata": {
        "id": "POzs8bGa_Zcu"
      },
      "source": [
        "Вы видели, как работает группировка по городу и по дням недели. Теперь напишите функцию, которая объединит два эти расчёта.\n",
        "\n",
        "Создайте функцию `number_tracks()`, которая посчитает прослушивания для заданного дня и города. Ей понадобятся два параметра:\n",
        "* день недели,\n",
        "* название города.\n",
        "\n",
        "В функции сохраните в переменную строки исходной таблицы, у которых значение:\n",
        "  * в колонке `day` равно параметру `day`,\n",
        "  * в колонке `city` равно параметру `city`.\n",
        "\n",
        "Для этого примените последовательную фильтрацию с логической индексацией.\n",
        "\n",
        "Затем посчитайте значения в столбце `user_id` получившейся таблицы. Результат сохраните в новую переменную. Верните эту переменную из функции."
      ]
    },
    {
      "cell_type": "code",
      "execution_count": null,
      "metadata": {
        "id": "Nz3GdQB1_Zcu"
      },
      "outputs": [],
      "source": [
        "def number_tracks(city, day): \n",
        "    track_list = df[df['city'] == city]\n",
        "    track_list = track_list[track_list['day'] == day]\n",
        "    track_list_count = track_list['user_id'].count()\n",
        "    return track_list_count"
      ]
    },
    {
      "cell_type": "markdown",
      "metadata": {
        "id": "ytf7xFrFJQ2r"
      },
      "source": [
        "Вызовите `number_tracks()` шесть раз, меняя значение параметров — так, чтобы получить данные для каждого города в каждый из трёх дней."
      ]
    },
    {
      "cell_type": "code",
      "execution_count": null,
      "metadata": {
        "id": "rJcRATNQ_Zcu"
      },
      "outputs": [],
      "source": [
        "# количество прослушиваний в Москве по понедельникам\n",
        "list_msk_mnd = number_tracks('Moscow', 'Monday')"
      ]
    },
    {
      "cell_type": "code",
      "execution_count": null,
      "metadata": {
        "id": "hq_ncZ5T_Zcu"
      },
      "outputs": [],
      "source": [
        "# количество прослушиваний в Санкт-Петербурге по понедельникам\n",
        "list_spb_mnd = number_tracks('Saint-Petersburg', 'Monday')"
      ]
    },
    {
      "cell_type": "code",
      "execution_count": null,
      "metadata": {
        "id": "_NTy2VPU_Zcu"
      },
      "outputs": [],
      "source": [
        "# количество прослушиваний в Москве по средам\n",
        "list_msk_wdn = number_tracks('Moscow', 'Wednesday')"
      ]
    },
    {
      "cell_type": "code",
      "execution_count": null,
      "metadata": {
        "id": "j2y3TAwo_Zcu"
      },
      "outputs": [],
      "source": [
        "# количество прослушиваний в Санкт-Петербурге по средам\n",
        "list_spb_wdn = number_tracks('Saint-Petersburg', 'Wednesday')"
      ]
    },
    {
      "cell_type": "code",
      "execution_count": null,
      "metadata": {
        "id": "vYDw5u_K_Zcu"
      },
      "outputs": [],
      "source": [
        "# количество прослушиваний в Москве по пятницам\n",
        "list_msk_frd = number_tracks('Moscow', 'Friday')"
      ]
    },
    {
      "cell_type": "code",
      "execution_count": null,
      "metadata": {
        "id": "8_yzFtW3_Zcu"
      },
      "outputs": [],
      "source": [
        "# количество прослушиваний в Санкт-Петербурге по пятницам\n",
        "list_spb_frd = number_tracks('Saint-Petersburg', 'Friday')"
      ]
    },
    {
      "cell_type": "markdown",
      "metadata": {
        "id": "7QXffbO-_Zcu"
      },
      "source": [
        "Создайте c помощью конструктора `pd.DataFrame` таблицу, где\n",
        "* названия колонок — `['city', 'monday', 'wednesday', 'friday']`;\n",
        "* данные — результаты, которые вы получили с помощью `number_tracks`."
      ]
    },
    {
      "cell_type": "code",
      "execution_count": null,
      "metadata": {
        "id": "APAcLpOr_Zcu",
        "scrolled": false,
        "outputId": "a0298ff0-39df-42f2-9dc3-f99735204299"
      },
      "outputs": [
        {
          "data": {
            "text/html": [
              "<div>\n",
              "<style scoped>\n",
              "    .dataframe tbody tr th:only-of-type {\n",
              "        vertical-align: middle;\n",
              "    }\n",
              "\n",
              "    .dataframe tbody tr th {\n",
              "        vertical-align: top;\n",
              "    }\n",
              "\n",
              "    .dataframe thead th {\n",
              "        text-align: right;\n",
              "    }\n",
              "</style>\n",
              "<table border=\"1\" class=\"dataframe\">\n",
              "  <thead>\n",
              "    <tr style=\"text-align: right;\">\n",
              "      <th></th>\n",
              "      <th>Город</th>\n",
              "      <th>Понедельник</th>\n",
              "      <th>Среда</th>\n",
              "      <th>Пятница</th>\n",
              "    </tr>\n",
              "  </thead>\n",
              "  <tbody>\n",
              "    <tr>\n",
              "      <td>0</td>\n",
              "      <td>Москва</td>\n",
              "      <td>15740</td>\n",
              "      <td>11056</td>\n",
              "      <td>15945</td>\n",
              "    </tr>\n",
              "    <tr>\n",
              "      <td>1</td>\n",
              "      <td>Санкт-Петербург</td>\n",
              "      <td>5614</td>\n",
              "      <td>7003</td>\n",
              "      <td>5895</td>\n",
              "    </tr>\n",
              "  </tbody>\n",
              "</table>\n",
              "</div>"
            ],
            "text/plain": [
              "             Город  Понедельник  Среда  Пятница\n",
              "0           Москва        15740  11056    15945\n",
              "1  Санкт-Петербург         5614   7003     5895"
            ]
          },
          "metadata": {},
          "output_type": "display_data"
        }
      ],
      "source": [
        "# Таблица с результатами\n",
        "listening = [\n",
        "    ['Москва', list_msk_mnd, list_msk_wdn, list_msk_frd],\n",
        "    ['Санкт-Петербург', list_spb_mnd, list_spb_wdn, list_spb_frd]\n",
        "]#Данные для таблицы\n",
        "col_list = ['Город', 'Понедельник', 'Среда', 'Пятница']#Названия колонок\n",
        "\n",
        "df_res = pd.DataFrame(data=listening, columns=col_list)\n",
        "display(df_res)"
      ]
    },
    {
      "cell_type": "code",
      "execution_count": null,
      "metadata": {
        "id": "w51un6iDkUc0",
        "outputId": "c5389145-d617-4eee-83ef-18fdec41f760"
      },
      "outputs": [
        {
          "data": {
            "text/html": [
              "<div>\n",
              "<style scoped>\n",
              "    .dataframe tbody tr th:only-of-type {\n",
              "        vertical-align: middle;\n",
              "    }\n",
              "\n",
              "    .dataframe tbody tr th {\n",
              "        vertical-align: top;\n",
              "    }\n",
              "\n",
              "    .dataframe thead th {\n",
              "        text-align: right;\n",
              "    }\n",
              "</style>\n",
              "<table border=\"1\" class=\"dataframe\">\n",
              "  <thead>\n",
              "    <tr style=\"text-align: right;\">\n",
              "      <th></th>\n",
              "      <th>Город</th>\n",
              "      <th>Понедельник</th>\n",
              "      <th>Среда</th>\n",
              "      <th>Пятница</th>\n",
              "    </tr>\n",
              "  </thead>\n",
              "  <tbody>\n",
              "    <tr>\n",
              "      <td>0</td>\n",
              "      <td>Москва</td>\n",
              "      <td>36.8%</td>\n",
              "      <td>25.9%</td>\n",
              "      <td>37.3%</td>\n",
              "    </tr>\n",
              "    <tr>\n",
              "      <td>1</td>\n",
              "      <td>Санкт-Петербург</td>\n",
              "      <td>30.3%</td>\n",
              "      <td>37.8%</td>\n",
              "      <td>31.8%</td>\n",
              "    </tr>\n",
              "  </tbody>\n",
              "</table>\n",
              "</div>"
            ],
            "text/plain": [
              "             Город Понедельник  Среда Пятница\n",
              "0           Москва       36.8%  25.9%   37.3%\n",
              "1  Санкт-Петербург       30.3%  37.8%   31.8%"
            ]
          },
          "metadata": {},
          "output_type": "display_data"
        }
      ],
      "source": [
        "# Проверим результат в относительном выражении: в процентах от общего количества прослушивающих по городам\n",
        "list_msk_cnt = df[df['city'] == 'Moscow']['city'].count()\n",
        "list_spb_cnt = df[df['city'] == 'Saint-Petersburg']['city'].count()\n",
        "\n",
        "listening_pr = [\n",
        "    ['Москва', f'{list_msk_mnd/list_msk_cnt:.1%}', f'{list_msk_wdn/list_msk_cnt:.1%}', f'{list_msk_frd/list_msk_cnt:.1%}'],\n",
        "    ['Санкт-Петербург', f'{list_spb_mnd/list_spb_cnt:.1%}', f'{list_spb_wdn/list_spb_cnt:.1%}', f'{list_spb_frd/list_spb_cnt:.1%}']\n",
        "]#Данные для таблицы\n",
        "\n",
        "df_res = pd.DataFrame(data=listening_pr, columns=col_list)\n",
        "display(df_res)"
      ]
    },
    {
      "cell_type": "markdown",
      "metadata": {
        "id": "-EgPIHYu_Zcu"
      },
      "source": [
        "**Выводы**\n",
        "\n",
        "Данные показывают разницу поведения пользователей, как в относительном, так и в абсолютном выражении:\n",
        "\n",
        "- В Москве пик прослушиваний приходится на понедельник и пятницу, а в среду заметен спад.\n",
        "- В Петербурге, наоборот, больше слушают музыку по средам. Активность в понедельник и пятницу здесь почти в равной мере уступает среде.\n",
        "\n",
        "Значит, данные говорят в пользу первой гипотезы."
      ]
    },
    {
      "cell_type": "markdown",
      "metadata": {
        "id": "atZAxtq4_Zcu"
      },
      "source": [
        "### Музыка в начале и в конце недели"
      ]
    },
    {
      "cell_type": "markdown",
      "metadata": {
        "id": "eXrQqXFH_Zcu"
      },
      "source": [
        "Согласно второй гипотезе, утром в понедельник в Москве преобладают одни жанры, а в Петербурге — другие. Так же и вечером пятницы преобладают разные жанры — в зависимости от города."
      ]
    },
    {
      "cell_type": "markdown",
      "metadata": {
        "id": "S8UcW6Hw_Zcu"
      },
      "source": [
        "Сохраните таблицы с данными в две переменные:\n",
        "* по Москве — в `moscow_general`;\n",
        "* по Санкт-Петербургу — в `spb_general`."
      ]
    },
    {
      "cell_type": "code",
      "execution_count": null,
      "metadata": {
        "id": "qeaFfM_P_Zcu"
      },
      "outputs": [],
      "source": [
        "# получение таблицы moscow_general из тех строк таблицы df, \n",
        "# для которых значение в столбце 'city' равно 'Moscow'\n",
        "moscow_general = df[df['city'] == 'Moscow']"
      ]
    },
    {
      "cell_type": "code",
      "execution_count": null,
      "metadata": {
        "id": "ORaVRKto_Zcu"
      },
      "outputs": [],
      "source": [
        "# получение таблицы spb_general из тех строк таблицы df,\n",
        "# для которых значение в столбце 'city' равно 'Saint-Petersburg'\n",
        "spb_general = df[df['city'] == 'Saint-Petersburg']"
      ]
    },
    {
      "cell_type": "markdown",
      "metadata": {
        "id": "MEJV-CX2_Zcu"
      },
      "source": [
        "Создайте функцию `genre_weekday()` с четырьмя параметрами:\n",
        "* таблица (датафрейм) с данными,\n",
        "* день недели,\n",
        "* начальная временная метка в формате 'hh:mm', \n",
        "* последняя временная метка в формате 'hh:mm'.\n",
        "\n",
        "Функция должна вернуть информацию о топ-10 жанров тех треков, которые прослушивали в указанный день, в промежутке между двумя отметками времени."
      ]
    },
    {
      "cell_type": "code",
      "execution_count": null,
      "metadata": {
        "id": "laJT9BYl_Zcu"
      },
      "outputs": [],
      "source": [
        "def genre_weekday(table, day, time1, time2):\n",
        "    genre_df = table[table['day'] == day]\n",
        "    genre_df = genre_df[genre_df['time'] > time1]\n",
        "    genre_df = genre_df[genre_df['time'] < time2]\n",
        "    genre_df_count = genre_df.groupby('genre')['genre'].count()\n",
        "    genre_df_sorted = genre_df_count.sort_values(ascending=False)\n",
        "    return genre_df_sorted.head(10)"
      ]
    },
    {
      "cell_type": "markdown",
      "metadata": {
        "id": "la2s2_PF_Zcu"
      },
      "source": [
        "Cравните результаты функции `genre_weekday()` для Москвы и Санкт-Петербурга в понедельник утром (с 7:00 до 11:00) и в пятницу вечером (с 17:00 до 23:00):"
      ]
    },
    {
      "cell_type": "code",
      "execution_count": null,
      "metadata": {
        "id": "yz7itPUQ_Zcu",
        "outputId": "2c7e64ef-d6dc-4ca0-b39e-0f90b0ea72f5"
      },
      "outputs": [
        {
          "data": {
            "text/plain": [
              "genre\n",
              "pop            781\n",
              "dance          549\n",
              "electronic     480\n",
              "rock           475\n",
              "hiphop         286\n",
              "ruspop         186\n",
              "world          181\n",
              "rusrap         175\n",
              "alternative    164\n",
              "unknown        161\n",
              "Name: genre, dtype: int64"
            ]
          },
          "execution_count": 33,
          "metadata": {},
          "output_type": "execute_result"
        }
      ],
      "source": [
        "# вызов функции для утра понедельника в Москве (вместо df — таблица moscow_general)\n",
        "# объекты, хранящие время, являются строками и сравниваются как строки\n",
        "# пример вызова: genre_weekday(moscow_general, 'Monday', '07:00', '11:00')\n",
        "genre_weekday(moscow_general, 'Monday', '07:00', '11:00')"
      ]
    },
    {
      "cell_type": "code",
      "execution_count": null,
      "metadata": {
        "id": "kwUcHPdy_Zcu",
        "outputId": "1d51f148-9c54-4239-df65-28031e14075c"
      },
      "outputs": [
        {
          "data": {
            "text/plain": [
              "genre\n",
              "pop            218\n",
              "dance          182\n",
              "rock           162\n",
              "electronic     147\n",
              "hiphop          80\n",
              "ruspop          64\n",
              "alternative     58\n",
              "rusrap          55\n",
              "jazz            44\n",
              "classical       40\n",
              "Name: genre, dtype: int64"
            ]
          },
          "execution_count": 34,
          "metadata": {},
          "output_type": "execute_result"
        }
      ],
      "source": [
        "# вызов функции для утра понедельника в Петербурге (вместо df — таблица spb_general)\n",
        "genre_weekday(spb_general, 'Monday', '07:00', '11:00')"
      ]
    },
    {
      "cell_type": "code",
      "execution_count": null,
      "metadata": {
        "id": "EzXVRE1o_Zcu",
        "outputId": "c042c9e7-7faf-4340-fcab-247f9301064f"
      },
      "outputs": [
        {
          "data": {
            "text/plain": [
              "genre\n",
              "pop            713\n",
              "rock           517\n",
              "dance          495\n",
              "electronic     482\n",
              "hiphop         273\n",
              "world          208\n",
              "ruspop         170\n",
              "classical      163\n",
              "alternative    163\n",
              "rusrap         142\n",
              "Name: genre, dtype: int64"
            ]
          },
          "execution_count": 35,
          "metadata": {},
          "output_type": "execute_result"
        }
      ],
      "source": [
        "# вызов функции для вечера пятницы в Москве\n",
        "genre_weekday(moscow_general, 'Friday', '17:00', '23:00')"
      ]
    },
    {
      "cell_type": "code",
      "execution_count": null,
      "metadata": {
        "id": "JZaEKu5v_Zcu",
        "outputId": "136e96d2-7291-4567-8823-eaf6b8ec7abd"
      },
      "outputs": [
        {
          "data": {
            "text/plain": [
              "genre\n",
              "pop            256\n",
              "rock           216\n",
              "electronic     216\n",
              "dance          210\n",
              "hiphop          97\n",
              "alternative     63\n",
              "jazz            61\n",
              "classical       60\n",
              "rusrap          59\n",
              "world           54\n",
              "Name: genre, dtype: int64"
            ]
          },
          "execution_count": 36,
          "metadata": {},
          "output_type": "execute_result"
        }
      ],
      "source": [
        "# вызов функции для вечера пятницы в Петербурге\n",
        "genre_weekday(spb_general, 'Friday', '17:00', '23:00')"
      ]
    },
    {
      "cell_type": "markdown",
      "metadata": {
        "id": "wrCe4MNX_Zcu"
      },
      "source": [
        "**Выводы**\n",
        "\n",
        "Если сравнить топ-10 жанров в понедельник утром, можно сделать такие выводы:\n",
        "\n",
        "1. В Москве и Петербурге слушают похожую музыку. Единственное отличие — в московский рейтинг вошёл жанр “world”, а в петербургский — джаз и классика.\n",
        "\n",
        "2. В Москве пропущенных значений оказалось так много, что значение `'unknown'` заняло десятое место среди самых популярных жанров. Значит, пропущенные значения занимают существенную долю в данных и угрожают достоверности исследования.\n",
        "\n",
        "Вечер пятницы не меняет эту картину. Некоторые жанры поднимаются немного выше, другие спускаются, но в целом топ-10 остаётся тем же самым.\n",
        "\n",
        "Таким образом, вторая гипотеза подтвердилась лишь частично:\n",
        "* Пользователи слушают похожую музыку в начале недели и в конце.\n",
        "* Разница между Москвой и Петербургом не слишком выражена. В Москве чаще слушают русскую популярную музыку, в Петербурге — джаз.\n",
        "\n",
        "Однако пропуски в данных ставят под сомнение этот результат. В Москве их так много, что рейтинг топ-10 мог бы выглядеть иначе, если бы не утерянные  данные о жанрах."
      ]
    },
    {
      "cell_type": "markdown",
      "metadata": {
        "id": "JolODAqr_Zcu"
      },
      "source": [
        "### Жанровые предпочтения в Москве и Петербурге\n",
        "\n",
        "Гипотеза: Петербург — столица рэпа, музыку этого жанра там слушают чаще, чем в Москве.  А Москва — город контрастов, в котором, тем не менее, преобладает поп-музыка."
      ]
    },
    {
      "cell_type": "markdown",
      "metadata": {
        "id": "DlegSvaT_Zcu"
      },
      "source": [
        "Сгруппируйте таблицу `moscow_general` по жанру и посчитайте прослушивания треков каждого жанра методом `count()`. Затем отсортируйте результат в порядке убывания и сохраните его в таблице `moscow_genres`."
      ]
    },
    {
      "cell_type": "code",
      "execution_count": null,
      "metadata": {
        "id": "r19lIPke_Zcu"
      },
      "outputs": [],
      "source": [
        "moscow_genres = moscow_general.groupby('genre')['genre'].count().sort_values(ascending=False)"
      ]
    },
    {
      "cell_type": "markdown",
      "metadata": {
        "id": "6kMuomxTiIr8"
      },
      "source": [
        "Выведите на экран первые десять строк `moscow_genres`:"
      ]
    },
    {
      "cell_type": "code",
      "execution_count": null,
      "metadata": {
        "id": "WhCSooF8_Zcv",
        "outputId": "8f0221d1-14aa-4706-ff83-76332fc570d1"
      },
      "outputs": [
        {
          "data": {
            "text/plain": [
              "genre\n",
              "pop            5892\n",
              "dance          4435\n",
              "rock           3966\n",
              "electronic     3786\n",
              "hiphop         2096\n",
              "classical      1616\n",
              "world          1432\n",
              "alternative    1380\n",
              "ruspop         1372\n",
              "rusrap         1161\n",
              "Name: genre, dtype: int64"
            ]
          },
          "execution_count": 38,
          "metadata": {},
          "output_type": "execute_result"
        }
      ],
      "source": [
        "moscow_genres.head(10)"
      ]
    },
    {
      "cell_type": "markdown",
      "metadata": {
        "id": "cnPG2vnN_Zcv"
      },
      "source": [
        "Теперь повторите то же и для Петербурга.\n",
        "\n",
        "Сгруппируйте таблицу `spb_general` по жанру. Посчитайте прослушивания треков каждого жанра. Результат отсортируйте в порядке убывания и сохраните в таблице `spb_genres`:\n"
      ]
    },
    {
      "cell_type": "code",
      "execution_count": null,
      "metadata": {
        "id": "gluLIpE7_Zcv"
      },
      "outputs": [],
      "source": [
        "spb_genres = spb_general.groupby('genre')['genre'].count().sort_values(ascending=False)"
      ]
    },
    {
      "cell_type": "markdown",
      "metadata": {
        "id": "5Doha_ODgyQ8"
      },
      "source": [
        "Выведите на экран первые десять строк `spb_genres`:"
      ]
    },
    {
      "cell_type": "code",
      "execution_count": null,
      "metadata": {
        "id": "uaGJHjVU_Zcv",
        "outputId": "f1fedc5b-ea1c-463e-a609-b04563cd86f3"
      },
      "outputs": [
        {
          "data": {
            "text/plain": [
              "genre\n",
              "pop            2431\n",
              "dance          1932\n",
              "rock           1879\n",
              "electronic     1737\n",
              "hiphop          960\n",
              "alternative     650\n",
              "classical       646\n",
              "rusrap          564\n",
              "ruspop          538\n",
              "world           515\n",
              "Name: genre, dtype: int64"
            ]
          },
          "execution_count": 40,
          "metadata": {},
          "output_type": "execute_result"
        }
      ],
      "source": [
        "spb_genres.head(10)"
      ]
    },
    {
      "cell_type": "markdown",
      "metadata": {
        "id": "RY51YJYu_Zcv"
      },
      "source": [
        "**Выводы**"
      ]
    },
    {
      "cell_type": "markdown",
      "metadata": {
        "id": "nVhnJEm__Zcv"
      },
      "source": [
        "Гипотеза частично подтвердилась:\n",
        "* Поп-музыка — самый популярный жанр в Москве, как и предполагала гипотеза. Более того, в топ-10 жанров встречается близкий жанр — русская популярная музыка.\n",
        "* Вопреки ожиданиям, рэп одинаково популярен в Москве и Петербурге. \n"
      ]
    },
    {
      "cell_type": "markdown",
      "metadata": {
        "id": "ykKQ0N65_Zcv"
      },
      "source": [
        "## Итоги исследования"
      ]
    },
    {
      "cell_type": "markdown",
      "metadata": {
        "id": "tjUwbHb3_Zcv"
      },
      "source": [
        "Вы проверили три гипотезы и установили:\n",
        "\n",
        "1. День недели по-разному влияет на активность пользователей в Москве и Петербурге. \n",
        "\n",
        "Первая гипотеза полностью подтвердилась.\n",
        "\n",
        "2. Музыкальные предпочтения не сильно меняются в течение недели — будь то Москва или Петербург. Небольшие различия заметны в начале недели, по понедельникам:\n",
        "* в Москве слушают музыку жанра “world”,\n",
        "* в Петербурге — джаз и классику.\n",
        "\n",
        "Таким образом, вторая гипотеза подтвердилась лишь отчасти. Этот результат мог оказаться иным, если бы не пропуски в данных.\n",
        "\n",
        "3. Во вкусах пользователей Москвы и Петербурга больше общего чем различий. Вопреки ожиданиям, предпочтения жанров в Петербурге напоминают московские.\n",
        "\n",
        "Третья гипотеза не подтвердилась. Если различия в предпочтениях и существуют, на основной массе пользователей они незаметны.\n",
        "\n",
        "**На практике исследования содержат проверки статистических гипотез.**\n",
        "Из данных одного сервиса не всегда можно сделать вывод о всех жителях города.\n",
        "Проверки статистических гипотез покажут, насколько они достоверны, исходя из имеющихся данных. \n",
        "С методами проверок гипотез вы ещё познакомитесь в следующих темах."
      ]
    }
  ],
  "metadata": {
    "ExecuteTimeLog": [
      {
        "duration": 309,
        "start_time": "2022-02-26T15:36:38.271Z"
      },
      {
        "duration": 227,
        "start_time": "2022-02-26T15:36:50.348Z"
      },
      {
        "duration": 597,
        "start_time": "2022-02-26T15:37:10.099Z"
      },
      {
        "duration": 145,
        "start_time": "2022-02-26T15:37:10.698Z"
      },
      {
        "duration": 17,
        "start_time": "2022-02-26T15:37:13.615Z"
      },
      {
        "duration": 27,
        "start_time": "2022-02-26T15:38:10.125Z"
      },
      {
        "duration": 6,
        "start_time": "2022-02-26T17:04:24.901Z"
      },
      {
        "duration": 4,
        "start_time": "2022-02-26T17:07:42.227Z"
      },
      {
        "duration": 20,
        "start_time": "2022-02-26T17:08:01.040Z"
      },
      {
        "duration": 5,
        "start_time": "2022-02-26T17:08:05.818Z"
      },
      {
        "duration": 25,
        "start_time": "2022-02-26T17:09:21.268Z"
      },
      {
        "duration": 3208,
        "start_time": "2022-02-26T17:12:39.378Z"
      },
      {
        "duration": 2685,
        "start_time": "2022-02-26T17:13:23.511Z"
      },
      {
        "duration": 3075,
        "start_time": "2022-02-26T17:16:21.303Z"
      },
      {
        "duration": 2698,
        "start_time": "2022-02-26T17:16:47.386Z"
      },
      {
        "duration": 2797,
        "start_time": "2022-02-26T17:16:59.918Z"
      },
      {
        "duration": 4,
        "start_time": "2022-02-26T17:17:17.150Z"
      },
      {
        "duration": 4,
        "start_time": "2022-02-26T17:17:51.413Z"
      },
      {
        "duration": 63,
        "start_time": "2022-02-26T17:18:16.189Z"
      },
      {
        "duration": 279,
        "start_time": "2022-02-26T17:18:30.709Z"
      },
      {
        "duration": 2625,
        "start_time": "2022-02-26T17:18:40.610Z"
      },
      {
        "duration": 2901,
        "start_time": "2022-02-26T17:19:29.927Z"
      },
      {
        "duration": 230,
        "start_time": "2022-02-26T17:19:55.872Z"
      },
      {
        "duration": 2900,
        "start_time": "2022-02-26T17:20:02.419Z"
      },
      {
        "duration": 2636,
        "start_time": "2022-02-26T17:20:19.371Z"
      },
      {
        "duration": 2683,
        "start_time": "2022-02-26T17:21:41.291Z"
      },
      {
        "duration": 3,
        "start_time": "2022-02-26T17:22:08.005Z"
      },
      {
        "duration": 159,
        "start_time": "2022-02-26T17:22:08.010Z"
      },
      {
        "duration": 11,
        "start_time": "2022-02-26T17:22:08.171Z"
      },
      {
        "duration": 34,
        "start_time": "2022-02-26T17:22:08.184Z"
      },
      {
        "duration": 5,
        "start_time": "2022-02-26T17:22:08.220Z"
      },
      {
        "duration": 22,
        "start_time": "2022-02-26T17:22:08.227Z"
      },
      {
        "duration": 4,
        "start_time": "2022-02-26T17:22:09.026Z"
      },
      {
        "duration": 27,
        "start_time": "2022-02-26T17:22:09.032Z"
      },
      {
        "duration": 28,
        "start_time": "2022-02-26T17:23:01.742Z"
      },
      {
        "duration": 232,
        "start_time": "2022-02-26T17:24:04.359Z"
      },
      {
        "duration": 6,
        "start_time": "2022-02-26T17:24:11.388Z"
      },
      {
        "duration": 6611,
        "start_time": "2022-02-26T17:24:20.440Z"
      },
      {
        "duration": 6,
        "start_time": "2022-02-26T17:25:03.239Z"
      },
      {
        "duration": 5762,
        "start_time": "2022-02-26T17:25:18.037Z"
      },
      {
        "duration": 26,
        "start_time": "2022-02-26T17:27:21.929Z"
      },
      {
        "duration": 6,
        "start_time": "2022-02-26T17:27:41.499Z"
      },
      {
        "duration": 6,
        "start_time": "2022-02-26T17:27:51.935Z"
      },
      {
        "duration": 6,
        "start_time": "2022-02-26T17:27:59.047Z"
      },
      {
        "duration": 5887,
        "start_time": "2022-02-26T17:28:17.706Z"
      },
      {
        "duration": 5,
        "start_time": "2022-02-26T17:28:29.530Z"
      },
      {
        "duration": 5,
        "start_time": "2022-02-26T17:28:41.385Z"
      },
      {
        "duration": 5,
        "start_time": "2022-02-26T17:28:57.666Z"
      },
      {
        "duration": 4,
        "start_time": "2022-02-26T17:29:15.856Z"
      },
      {
        "duration": 3,
        "start_time": "2022-02-26T17:29:38.581Z"
      },
      {
        "duration": 4,
        "start_time": "2022-02-26T17:29:57.629Z"
      },
      {
        "duration": 3,
        "start_time": "2022-02-26T17:30:00.782Z"
      },
      {
        "duration": 6,
        "start_time": "2022-02-26T17:30:14.674Z"
      },
      {
        "duration": 5,
        "start_time": "2022-02-26T17:30:28.333Z"
      },
      {
        "duration": 17,
        "start_time": "2022-02-26T17:30:58.637Z"
      },
      {
        "duration": 24,
        "start_time": "2022-02-26T17:31:31.416Z"
      },
      {
        "duration": 59,
        "start_time": "2022-02-26T17:32:06.537Z"
      },
      {
        "duration": 66,
        "start_time": "2022-02-26T17:33:32.048Z"
      },
      {
        "duration": 54,
        "start_time": "2022-02-26T17:33:45.133Z"
      },
      {
        "duration": 5,
        "start_time": "2022-02-26T17:41:22.273Z"
      },
      {
        "duration": 8,
        "start_time": "2022-02-26T17:42:12.462Z"
      },
      {
        "duration": 5,
        "start_time": "2022-02-26T17:42:24.644Z"
      },
      {
        "duration": 41,
        "start_time": "2022-02-26T17:43:15.925Z"
      },
      {
        "duration": 64,
        "start_time": "2022-02-26T18:19:53.313Z"
      },
      {
        "duration": 49,
        "start_time": "2022-02-26T18:19:58.048Z"
      },
      {
        "duration": 43,
        "start_time": "2022-02-26T18:20:18.856Z"
      },
      {
        "duration": 44,
        "start_time": "2022-02-26T18:20:25.996Z"
      },
      {
        "duration": 43,
        "start_time": "2022-02-27T06:31:38.801Z"
      },
      {
        "duration": 68,
        "start_time": "2022-02-27T13:03:32.632Z"
      },
      {
        "duration": 61,
        "start_time": "2022-02-27T13:03:44.589Z"
      },
      {
        "duration": 4,
        "start_time": "2022-02-27T13:04:02.673Z"
      },
      {
        "duration": 3,
        "start_time": "2022-02-27T13:04:19.785Z"
      },
      {
        "duration": 369,
        "start_time": "2022-02-27T13:05:38.023Z"
      },
      {
        "duration": 67,
        "start_time": "2022-02-27T13:06:06.466Z"
      },
      {
        "duration": 199,
        "start_time": "2022-02-27T13:06:20.650Z"
      },
      {
        "duration": 197,
        "start_time": "2022-02-27T13:06:39.576Z"
      },
      {
        "duration": 388,
        "start_time": "2022-02-27T13:06:48.507Z"
      },
      {
        "duration": 5,
        "start_time": "2022-02-27T13:09:05.514Z"
      },
      {
        "duration": 363,
        "start_time": "2022-02-27T13:09:07.256Z"
      },
      {
        "duration": 4,
        "start_time": "2022-02-27T13:09:57.022Z"
      },
      {
        "duration": 99,
        "start_time": "2022-02-27T13:09:59.891Z"
      },
      {
        "duration": 44,
        "start_time": "2022-02-27T13:10:42.284Z"
      },
      {
        "duration": 183,
        "start_time": "2022-02-27T13:32:00.008Z"
      },
      {
        "duration": 43,
        "start_time": "2022-02-27T13:32:18.807Z"
      },
      {
        "duration": 292,
        "start_time": "2022-02-27T13:51:32.044Z"
      },
      {
        "duration": 44,
        "start_time": "2022-02-27T13:51:58.897Z"
      },
      {
        "duration": 579,
        "start_time": "2022-02-27T13:52:17.135Z"
      },
      {
        "duration": 42,
        "start_time": "2022-02-27T13:52:24.908Z"
      },
      {
        "duration": 209,
        "start_time": "2022-02-27T13:52:31.112Z"
      },
      {
        "duration": 397,
        "start_time": "2022-02-27T13:52:47.466Z"
      },
      {
        "duration": 400,
        "start_time": "2022-02-27T13:54:20.342Z"
      },
      {
        "duration": 43,
        "start_time": "2022-02-27T13:54:27.384Z"
      },
      {
        "duration": 8,
        "start_time": "2022-02-27T13:59:52.176Z"
      },
      {
        "duration": 16,
        "start_time": "2022-02-27T14:00:23.265Z"
      },
      {
        "duration": 17,
        "start_time": "2022-02-27T14:01:34.956Z"
      },
      {
        "duration": 24,
        "start_time": "2022-02-27T14:02:04.630Z"
      },
      {
        "duration": 44,
        "start_time": "2022-02-27T14:08:43.060Z"
      },
      {
        "duration": 38,
        "start_time": "2022-02-27T14:08:51.332Z"
      },
      {
        "duration": 38,
        "start_time": "2022-02-27T14:09:25.263Z"
      },
      {
        "duration": 24,
        "start_time": "2022-02-27T14:50:24.675Z"
      },
      {
        "duration": 25,
        "start_time": "2022-02-27T14:53:31.710Z"
      },
      {
        "duration": 36,
        "start_time": "2022-02-27T15:05:27.019Z"
      },
      {
        "duration": 32,
        "start_time": "2022-02-27T15:05:51.175Z"
      },
      {
        "duration": 32,
        "start_time": "2022-02-27T15:06:26.558Z"
      },
      {
        "duration": 201,
        "start_time": "2022-02-27T15:23:52.519Z"
      },
      {
        "duration": 4,
        "start_time": "2022-02-27T15:23:59.997Z"
      },
      {
        "duration": 8,
        "start_time": "2022-02-27T15:24:05.165Z"
      },
      {
        "duration": 8,
        "start_time": "2022-02-27T15:25:18.132Z"
      },
      {
        "duration": 3,
        "start_time": "2022-02-27T15:26:47.952Z"
      },
      {
        "duration": 153,
        "start_time": "2022-02-27T15:26:47.958Z"
      },
      {
        "duration": 11,
        "start_time": "2022-02-27T15:26:48.113Z"
      },
      {
        "duration": 30,
        "start_time": "2022-02-27T15:26:48.126Z"
      },
      {
        "duration": 5,
        "start_time": "2022-02-27T15:26:48.158Z"
      },
      {
        "duration": 41,
        "start_time": "2022-02-27T15:26:48.165Z"
      },
      {
        "duration": 4,
        "start_time": "2022-02-27T15:26:48.209Z"
      },
      {
        "duration": 27,
        "start_time": "2022-02-27T15:26:48.215Z"
      },
      {
        "duration": 18,
        "start_time": "2022-02-27T15:26:48.243Z"
      },
      {
        "duration": 44,
        "start_time": "2022-02-27T15:26:48.263Z"
      },
      {
        "duration": 67,
        "start_time": "2022-02-27T15:26:48.309Z"
      },
      {
        "duration": 82,
        "start_time": "2022-02-27T15:26:48.378Z"
      },
      {
        "duration": 70,
        "start_time": "2022-02-27T15:26:48.462Z"
      },
      {
        "duration": 46,
        "start_time": "2022-02-27T15:26:48.534Z"
      },
      {
        "duration": 20,
        "start_time": "2022-02-27T15:26:48.582Z"
      },
      {
        "duration": 427,
        "start_time": "2022-02-27T15:26:48.604Z"
      },
      {
        "duration": 47,
        "start_time": "2022-02-27T15:26:49.033Z"
      },
      {
        "duration": 42,
        "start_time": "2022-02-27T15:26:49.082Z"
      },
      {
        "duration": 38,
        "start_time": "2022-02-27T15:26:49.127Z"
      },
      {
        "duration": 54,
        "start_time": "2022-02-27T15:26:49.166Z"
      },
      {
        "duration": 3,
        "start_time": "2022-02-27T15:26:49.222Z"
      },
      {
        "duration": 15,
        "start_time": "2022-02-27T15:26:49.227Z"
      },
      {
        "duration": 12,
        "start_time": "2022-02-27T15:26:49.244Z"
      },
      {
        "duration": 13,
        "start_time": "2022-02-27T15:26:49.258Z"
      },
      {
        "duration": 13,
        "start_time": "2022-02-27T15:26:49.273Z"
      },
      {
        "duration": 15,
        "start_time": "2022-02-27T15:26:49.288Z"
      },
      {
        "duration": 8,
        "start_time": "2022-02-27T15:27:07.616Z"
      },
      {
        "duration": 204,
        "start_time": "2022-02-27T15:30:37.310Z"
      },
      {
        "duration": 5,
        "start_time": "2022-02-27T15:31:37.684Z"
      },
      {
        "duration": 5,
        "start_time": "2022-02-27T15:31:42.545Z"
      },
      {
        "duration": 10,
        "start_time": "2022-02-27T15:31:52.896Z"
      },
      {
        "duration": 9,
        "start_time": "2022-02-27T15:32:25.210Z"
      },
      {
        "duration": 4,
        "start_time": "2022-02-27T15:32:52.172Z"
      },
      {
        "duration": 21,
        "start_time": "2022-02-27T15:32:54.793Z"
      },
      {
        "duration": 21,
        "start_time": "2022-02-27T15:33:03.018Z"
      },
      {
        "duration": 17,
        "start_time": "2022-02-27T15:33:05.934Z"
      },
      {
        "duration": 21,
        "start_time": "2022-02-27T15:33:07.019Z"
      },
      {
        "duration": 16,
        "start_time": "2022-02-27T15:33:07.753Z"
      },
      {
        "duration": 27,
        "start_time": "2022-02-27T15:33:09.980Z"
      },
      {
        "duration": 16,
        "start_time": "2022-02-27T15:33:10.744Z"
      },
      {
        "duration": 9,
        "start_time": "2022-02-27T15:33:14.015Z"
      },
      {
        "duration": 10,
        "start_time": "2022-02-27T15:37:43.098Z"
      },
      {
        "duration": 195,
        "start_time": "2022-02-27T15:39:24.117Z"
      },
      {
        "duration": 215,
        "start_time": "2022-02-27T15:39:35.983Z"
      },
      {
        "duration": 206,
        "start_time": "2022-02-27T15:40:17.345Z"
      },
      {
        "duration": 10,
        "start_time": "2022-02-27T15:40:39.478Z"
      },
      {
        "duration": 11,
        "start_time": "2022-02-27T15:45:19.886Z"
      },
      {
        "duration": 9,
        "start_time": "2022-02-27T15:45:43.098Z"
      },
      {
        "duration": 9,
        "start_time": "2022-02-27T15:45:55.361Z"
      },
      {
        "duration": 14,
        "start_time": "2022-02-27T15:49:33.372Z"
      },
      {
        "duration": 11,
        "start_time": "2022-02-27T16:24:26.911Z"
      },
      {
        "duration": 15,
        "start_time": "2022-02-27T16:24:42.768Z"
      },
      {
        "duration": 5,
        "start_time": "2022-02-27T16:35:09.830Z"
      },
      {
        "duration": 510,
        "start_time": "2022-02-27T16:35:44.828Z"
      },
      {
        "duration": 4,
        "start_time": "2022-02-27T16:36:17.608Z"
      },
      {
        "duration": 20,
        "start_time": "2022-02-27T16:36:21.204Z"
      },
      {
        "duration": 374,
        "start_time": "2022-02-27T16:37:24.108Z"
      },
      {
        "duration": 12,
        "start_time": "2022-02-27T16:38:16.844Z"
      },
      {
        "duration": 361,
        "start_time": "2022-02-27T16:38:25.627Z"
      },
      {
        "duration": 9,
        "start_time": "2022-02-27T16:38:36.535Z"
      },
      {
        "duration": 11,
        "start_time": "2022-02-27T16:38:44.086Z"
      },
      {
        "duration": 14,
        "start_time": "2022-02-27T16:39:13.498Z"
      },
      {
        "duration": 17,
        "start_time": "2022-02-27T16:39:37.071Z"
      },
      {
        "duration": 13,
        "start_time": "2022-02-27T16:39:48.701Z"
      },
      {
        "duration": 9,
        "start_time": "2022-02-27T16:51:03.680Z"
      },
      {
        "duration": 5,
        "start_time": "2022-02-27T16:51:17.494Z"
      },
      {
        "duration": 8,
        "start_time": "2022-02-27T16:51:58.502Z"
      },
      {
        "duration": 5,
        "start_time": "2022-02-27T16:52:11.679Z"
      },
      {
        "duration": 5,
        "start_time": "2022-02-27T16:55:04.415Z"
      },
      {
        "duration": 5,
        "start_time": "2022-02-27T16:55:11.708Z"
      },
      {
        "duration": 523,
        "start_time": "2022-03-07T08:00:08.548Z"
      },
      {
        "duration": 133,
        "start_time": "2022-03-07T08:00:09.072Z"
      },
      {
        "duration": 14,
        "start_time": "2022-03-07T08:00:09.207Z"
      },
      {
        "duration": 25,
        "start_time": "2022-03-07T08:00:09.223Z"
      },
      {
        "duration": 3,
        "start_time": "2022-03-07T08:00:09.250Z"
      },
      {
        "duration": 18,
        "start_time": "2022-03-07T08:00:09.255Z"
      },
      {
        "duration": 3,
        "start_time": "2022-03-07T08:00:09.274Z"
      },
      {
        "duration": 36,
        "start_time": "2022-03-07T08:00:09.280Z"
      },
      {
        "duration": 14,
        "start_time": "2022-03-07T08:00:09.318Z"
      },
      {
        "duration": 18,
        "start_time": "2022-03-07T08:00:09.334Z"
      },
      {
        "duration": 76,
        "start_time": "2022-03-07T08:00:09.353Z"
      },
      {
        "duration": 60,
        "start_time": "2022-03-07T08:00:09.431Z"
      },
      {
        "duration": 48,
        "start_time": "2022-03-07T08:00:09.493Z"
      },
      {
        "duration": 34,
        "start_time": "2022-03-07T08:00:09.543Z"
      },
      {
        "duration": 3,
        "start_time": "2022-03-07T08:00:09.579Z"
      },
      {
        "duration": 365,
        "start_time": "2022-03-07T08:00:09.583Z"
      },
      {
        "duration": 36,
        "start_time": "2022-03-07T08:00:09.949Z"
      },
      {
        "duration": 364,
        "start_time": "2022-03-07T08:00:09.986Z"
      },
      {
        "duration": -60,
        "start_time": "2022-03-07T08:00:10.412Z"
      },
      {
        "duration": -67,
        "start_time": "2022-03-07T08:00:10.420Z"
      },
      {
        "duration": -76,
        "start_time": "2022-03-07T08:00:10.430Z"
      },
      {
        "duration": -84,
        "start_time": "2022-03-07T08:00:10.438Z"
      },
      {
        "duration": -92,
        "start_time": "2022-03-07T08:00:10.447Z"
      },
      {
        "duration": -98,
        "start_time": "2022-03-07T08:00:10.454Z"
      },
      {
        "duration": -107,
        "start_time": "2022-03-07T08:00:10.463Z"
      },
      {
        "duration": -114,
        "start_time": "2022-03-07T08:00:10.471Z"
      },
      {
        "duration": -122,
        "start_time": "2022-03-07T08:00:10.480Z"
      },
      {
        "duration": -143,
        "start_time": "2022-03-07T08:00:10.501Z"
      },
      {
        "duration": -152,
        "start_time": "2022-03-07T08:00:10.511Z"
      },
      {
        "duration": -159,
        "start_time": "2022-03-07T08:00:10.519Z"
      },
      {
        "duration": -168,
        "start_time": "2022-03-07T08:00:10.528Z"
      },
      {
        "duration": -175,
        "start_time": "2022-03-07T08:00:10.536Z"
      },
      {
        "duration": -183,
        "start_time": "2022-03-07T08:00:10.545Z"
      },
      {
        "duration": -191,
        "start_time": "2022-03-07T08:00:10.553Z"
      },
      {
        "duration": -199,
        "start_time": "2022-03-07T08:00:10.562Z"
      },
      {
        "duration": -206,
        "start_time": "2022-03-07T08:00:10.569Z"
      },
      {
        "duration": -215,
        "start_time": "2022-03-07T08:00:10.579Z"
      },
      {
        "duration": -222,
        "start_time": "2022-03-07T08:00:10.587Z"
      },
      {
        "duration": -229,
        "start_time": "2022-03-07T08:00:10.595Z"
      },
      {
        "duration": -253,
        "start_time": "2022-03-07T08:00:10.619Z"
      },
      {
        "duration": 33,
        "start_time": "2022-03-07T08:01:00.381Z"
      },
      {
        "duration": 25,
        "start_time": "2022-03-07T08:01:07.751Z"
      },
      {
        "duration": 2,
        "start_time": "2022-03-07T08:01:07.778Z"
      },
      {
        "duration": 22,
        "start_time": "2022-03-07T08:01:07.782Z"
      },
      {
        "duration": 10,
        "start_time": "2022-03-07T08:01:07.805Z"
      },
      {
        "duration": 14,
        "start_time": "2022-03-07T08:01:07.817Z"
      },
      {
        "duration": 10,
        "start_time": "2022-03-07T08:01:07.832Z"
      },
      {
        "duration": 15,
        "start_time": "2022-03-07T08:01:07.844Z"
      },
      {
        "duration": 10,
        "start_time": "2022-03-07T08:01:07.860Z"
      },
      {
        "duration": 33,
        "start_time": "2022-03-07T08:01:07.872Z"
      },
      {
        "duration": 288,
        "start_time": "2022-03-07T08:01:07.907Z"
      },
      {
        "duration": -149,
        "start_time": "2022-03-07T08:01:08.346Z"
      },
      {
        "duration": -157,
        "start_time": "2022-03-07T08:01:08.355Z"
      },
      {
        "duration": -167,
        "start_time": "2022-03-07T08:01:08.366Z"
      },
      {
        "duration": -173,
        "start_time": "2022-03-07T08:01:08.374Z"
      },
      {
        "duration": -182,
        "start_time": "2022-03-07T08:01:08.384Z"
      },
      {
        "duration": -189,
        "start_time": "2022-03-07T08:01:08.393Z"
      },
      {
        "duration": -209,
        "start_time": "2022-03-07T08:01:08.414Z"
      },
      {
        "duration": -216,
        "start_time": "2022-03-07T08:01:08.422Z"
      },
      {
        "duration": -226,
        "start_time": "2022-03-07T08:01:08.434Z"
      },
      {
        "duration": -233,
        "start_time": "2022-03-07T08:01:08.442Z"
      },
      {
        "duration": -241,
        "start_time": "2022-03-07T08:01:08.452Z"
      },
      {
        "duration": 10,
        "start_time": "2022-03-07T08:01:35.885Z"
      },
      {
        "duration": 9,
        "start_time": "2022-03-07T08:01:35.896Z"
      },
      {
        "duration": 4,
        "start_time": "2022-03-07T08:01:35.907Z"
      },
      {
        "duration": 19,
        "start_time": "2022-03-07T08:01:35.913Z"
      },
      {
        "duration": 11,
        "start_time": "2022-03-07T08:01:35.934Z"
      },
      {
        "duration": 15,
        "start_time": "2022-03-07T08:01:35.947Z"
      },
      {
        "duration": 11,
        "start_time": "2022-03-07T08:01:35.963Z"
      },
      {
        "duration": 36,
        "start_time": "2022-03-07T08:01:35.976Z"
      },
      {
        "duration": 4,
        "start_time": "2022-03-07T08:01:36.014Z"
      },
      {
        "duration": 7,
        "start_time": "2022-03-07T08:01:36.020Z"
      },
      {
        "duration": 4,
        "start_time": "2022-03-07T08:01:36.028Z"
      },
      {
        "duration": 524,
        "start_time": "2022-03-07T14:36:47.286Z"
      },
      {
        "duration": 220,
        "start_time": "2022-03-07T14:36:47.814Z"
      },
      {
        "duration": 18,
        "start_time": "2022-03-07T14:36:48.036Z"
      },
      {
        "duration": 25,
        "start_time": "2022-03-07T14:36:48.056Z"
      },
      {
        "duration": 4,
        "start_time": "2022-03-07T14:36:48.083Z"
      },
      {
        "duration": 59,
        "start_time": "2022-03-07T14:36:48.089Z"
      },
      {
        "duration": 5,
        "start_time": "2022-03-07T14:36:48.151Z"
      },
      {
        "duration": 23,
        "start_time": "2022-03-07T14:36:48.159Z"
      },
      {
        "duration": 17,
        "start_time": "2022-03-07T14:36:48.183Z"
      },
      {
        "duration": 46,
        "start_time": "2022-03-07T14:36:48.202Z"
      },
      {
        "duration": 56,
        "start_time": "2022-03-07T14:36:48.249Z"
      },
      {
        "duration": 91,
        "start_time": "2022-03-07T14:36:48.306Z"
      },
      {
        "duration": 60,
        "start_time": "2022-03-07T14:36:48.399Z"
      },
      {
        "duration": 39,
        "start_time": "2022-03-07T14:36:48.460Z"
      },
      {
        "duration": 3,
        "start_time": "2022-03-07T14:36:48.500Z"
      },
      {
        "duration": 61,
        "start_time": "2022-03-07T14:36:48.504Z"
      },
      {
        "duration": 39,
        "start_time": "2022-03-07T14:36:48.567Z"
      },
      {
        "duration": 254,
        "start_time": "2022-03-07T14:36:48.608Z"
      },
      {
        "duration": 391,
        "start_time": "2022-03-07T14:36:48.474Z"
      },
      {
        "duration": 388,
        "start_time": "2022-03-07T14:36:48.478Z"
      },
      {
        "duration": 387,
        "start_time": "2022-03-07T14:36:48.481Z"
      },
      {
        "duration": 386,
        "start_time": "2022-03-07T14:36:48.483Z"
      },
      {
        "duration": 385,
        "start_time": "2022-03-07T14:36:48.486Z"
      },
      {
        "duration": 383,
        "start_time": "2022-03-07T14:36:48.489Z"
      },
      {
        "duration": 381,
        "start_time": "2022-03-07T14:36:48.492Z"
      },
      {
        "duration": 380,
        "start_time": "2022-03-07T14:36:48.494Z"
      },
      {
        "duration": 380,
        "start_time": "2022-03-07T14:36:48.496Z"
      },
      {
        "duration": 379,
        "start_time": "2022-03-07T14:36:48.498Z"
      },
      {
        "duration": 377,
        "start_time": "2022-03-07T14:36:48.501Z"
      },
      {
        "duration": 377,
        "start_time": "2022-03-07T14:36:48.503Z"
      },
      {
        "duration": 368,
        "start_time": "2022-03-07T14:36:48.514Z"
      },
      {
        "duration": 367,
        "start_time": "2022-03-07T14:36:48.516Z"
      },
      {
        "duration": 366,
        "start_time": "2022-03-07T14:36:48.518Z"
      },
      {
        "duration": 365,
        "start_time": "2022-03-07T14:36:48.521Z"
      },
      {
        "duration": 364,
        "start_time": "2022-03-07T14:36:48.523Z"
      },
      {
        "duration": 362,
        "start_time": "2022-03-07T14:36:48.526Z"
      },
      {
        "duration": 362,
        "start_time": "2022-03-07T14:36:48.528Z"
      },
      {
        "duration": 361,
        "start_time": "2022-03-07T14:36:48.530Z"
      },
      {
        "duration": 360,
        "start_time": "2022-03-07T14:36:48.532Z"
      },
      {
        "duration": 360,
        "start_time": "2022-03-07T14:36:48.534Z"
      },
      {
        "duration": 689,
        "start_time": "2022-03-08T08:55:30.993Z"
      },
      {
        "duration": 316,
        "start_time": "2022-03-08T08:55:31.684Z"
      },
      {
        "duration": 26,
        "start_time": "2022-03-08T08:55:32.003Z"
      },
      {
        "duration": 45,
        "start_time": "2022-03-08T08:55:32.031Z"
      },
      {
        "duration": 5,
        "start_time": "2022-03-08T08:55:32.079Z"
      },
      {
        "duration": 24,
        "start_time": "2022-03-08T08:55:32.086Z"
      },
      {
        "duration": 40,
        "start_time": "2022-03-08T08:55:32.113Z"
      },
      {
        "duration": 30,
        "start_time": "2022-03-08T08:55:32.156Z"
      },
      {
        "duration": 23,
        "start_time": "2022-03-08T08:55:32.190Z"
      },
      {
        "duration": 53,
        "start_time": "2022-03-08T08:55:32.215Z"
      },
      {
        "duration": 94,
        "start_time": "2022-03-08T08:55:32.271Z"
      },
      {
        "duration": 106,
        "start_time": "2022-03-08T08:55:32.368Z"
      },
      {
        "duration": 78,
        "start_time": "2022-03-08T08:55:32.477Z"
      },
      {
        "duration": 53,
        "start_time": "2022-03-08T08:55:32.558Z"
      },
      {
        "duration": 4,
        "start_time": "2022-03-08T08:55:32.613Z"
      },
      {
        "duration": 86,
        "start_time": "2022-03-08T08:55:32.620Z"
      },
      {
        "duration": 62,
        "start_time": "2022-03-08T08:55:32.708Z"
      },
      {
        "duration": 329,
        "start_time": "2022-03-08T08:55:32.773Z"
      },
      {
        "duration": -332,
        "start_time": "2022-03-08T08:55:33.438Z"
      },
      {
        "duration": -341,
        "start_time": "2022-03-08T08:55:33.449Z"
      },
      {
        "duration": -351,
        "start_time": "2022-03-08T08:55:33.461Z"
      },
      {
        "duration": -361,
        "start_time": "2022-03-08T08:55:33.473Z"
      },
      {
        "duration": -370,
        "start_time": "2022-03-08T08:55:33.484Z"
      },
      {
        "duration": -378,
        "start_time": "2022-03-08T08:55:33.495Z"
      },
      {
        "duration": -386,
        "start_time": "2022-03-08T08:55:33.506Z"
      },
      {
        "duration": -427,
        "start_time": "2022-03-08T08:55:33.549Z"
      },
      {
        "duration": -438,
        "start_time": "2022-03-08T08:55:33.562Z"
      },
      {
        "duration": -448,
        "start_time": "2022-03-08T08:55:33.574Z"
      },
      {
        "duration": -457,
        "start_time": "2022-03-08T08:55:33.585Z"
      },
      {
        "duration": -470,
        "start_time": "2022-03-08T08:55:33.601Z"
      },
      {
        "duration": -478,
        "start_time": "2022-03-08T08:55:33.611Z"
      },
      {
        "duration": -487,
        "start_time": "2022-03-08T08:55:33.622Z"
      },
      {
        "duration": -496,
        "start_time": "2022-03-08T08:55:33.633Z"
      },
      {
        "duration": -517,
        "start_time": "2022-03-08T08:55:33.657Z"
      },
      {
        "duration": -526,
        "start_time": "2022-03-08T08:55:33.668Z"
      },
      {
        "duration": -535,
        "start_time": "2022-03-08T08:55:33.679Z"
      },
      {
        "duration": -544,
        "start_time": "2022-03-08T08:55:33.689Z"
      },
      {
        "duration": -549,
        "start_time": "2022-03-08T08:55:33.700Z"
      },
      {
        "duration": -559,
        "start_time": "2022-03-08T08:55:33.712Z"
      },
      {
        "duration": -568,
        "start_time": "2022-03-08T08:55:33.723Z"
      },
      {
        "duration": 4,
        "start_time": "2022-03-08T08:56:53.676Z"
      },
      {
        "duration": 71,
        "start_time": "2022-03-08T09:19:06.264Z"
      },
      {
        "duration": 5,
        "start_time": "2022-03-08T09:24:16.524Z"
      },
      {
        "duration": 54,
        "start_time": "2022-03-08T09:24:24.973Z"
      },
      {
        "duration": 4,
        "start_time": "2022-03-08T09:25:17.253Z"
      },
      {
        "duration": 57,
        "start_time": "2022-03-08T09:25:24.709Z"
      },
      {
        "duration": 58,
        "start_time": "2022-03-08T09:26:42.253Z"
      },
      {
        "duration": 57,
        "start_time": "2022-03-08T09:27:38.678Z"
      },
      {
        "duration": 57,
        "start_time": "2022-03-08T09:27:44.756Z"
      },
      {
        "duration": 321,
        "start_time": "2022-03-08T09:28:12.693Z"
      },
      {
        "duration": 63,
        "start_time": "2022-03-08T09:28:36.997Z"
      },
      {
        "duration": 45,
        "start_time": "2022-03-08T09:28:53.260Z"
      },
      {
        "duration": 61,
        "start_time": "2022-03-08T09:29:00.007Z"
      },
      {
        "duration": 43,
        "start_time": "2022-03-08T09:29:26.629Z"
      },
      {
        "duration": 57,
        "start_time": "2022-03-08T09:29:39.358Z"
      },
      {
        "duration": 60,
        "start_time": "2022-03-08T09:30:04.552Z"
      },
      {
        "duration": 59,
        "start_time": "2022-03-08T09:30:10.877Z"
      },
      {
        "duration": 91,
        "start_time": "2022-03-08T09:47:17.875Z"
      },
      {
        "duration": 714,
        "start_time": "2022-03-08T09:48:43.001Z"
      },
      {
        "duration": 320,
        "start_time": "2022-03-08T09:48:43.718Z"
      },
      {
        "duration": 26,
        "start_time": "2022-03-08T09:48:44.041Z"
      },
      {
        "duration": 35,
        "start_time": "2022-03-08T09:48:44.070Z"
      },
      {
        "duration": 5,
        "start_time": "2022-03-08T09:48:44.108Z"
      },
      {
        "duration": 54,
        "start_time": "2022-03-08T09:48:44.115Z"
      },
      {
        "duration": 5,
        "start_time": "2022-03-08T09:48:44.172Z"
      },
      {
        "duration": 31,
        "start_time": "2022-03-08T09:48:44.182Z"
      },
      {
        "duration": 48,
        "start_time": "2022-03-08T09:48:44.216Z"
      },
      {
        "duration": 29,
        "start_time": "2022-03-08T09:48:44.266Z"
      },
      {
        "duration": 109,
        "start_time": "2022-03-08T09:48:44.298Z"
      },
      {
        "duration": 101,
        "start_time": "2022-03-08T09:48:44.409Z"
      },
      {
        "duration": 85,
        "start_time": "2022-03-08T09:48:44.512Z"
      },
      {
        "duration": 65,
        "start_time": "2022-03-08T09:48:44.600Z"
      },
      {
        "duration": 4,
        "start_time": "2022-03-08T09:48:44.667Z"
      },
      {
        "duration": 90,
        "start_time": "2022-03-08T09:48:44.673Z"
      },
      {
        "duration": 57,
        "start_time": "2022-03-08T09:48:44.765Z"
      },
      {
        "duration": 354,
        "start_time": "2022-03-08T09:48:44.824Z"
      },
      {
        "duration": -260,
        "start_time": "2022-03-08T09:48:45.442Z"
      },
      {
        "duration": -268,
        "start_time": "2022-03-08T09:48:45.452Z"
      },
      {
        "duration": -279,
        "start_time": "2022-03-08T09:48:45.464Z"
      },
      {
        "duration": -288,
        "start_time": "2022-03-08T09:48:45.475Z"
      },
      {
        "duration": -298,
        "start_time": "2022-03-08T09:48:45.486Z"
      },
      {
        "duration": -308,
        "start_time": "2022-03-08T09:48:45.497Z"
      },
      {
        "duration": -317,
        "start_time": "2022-03-08T09:48:45.508Z"
      },
      {
        "duration": -326,
        "start_time": "2022-03-08T09:48:45.519Z"
      },
      {
        "duration": -369,
        "start_time": "2022-03-08T09:48:45.563Z"
      },
      {
        "duration": -380,
        "start_time": "2022-03-08T09:48:45.575Z"
      },
      {
        "duration": -391,
        "start_time": "2022-03-08T09:48:45.588Z"
      },
      {
        "duration": -399,
        "start_time": "2022-03-08T09:48:45.598Z"
      },
      {
        "duration": -410,
        "start_time": "2022-03-08T09:48:45.610Z"
      },
      {
        "duration": -418,
        "start_time": "2022-03-08T09:48:45.620Z"
      },
      {
        "duration": -429,
        "start_time": "2022-03-08T09:48:45.632Z"
      },
      {
        "duration": -437,
        "start_time": "2022-03-08T09:48:45.642Z"
      },
      {
        "duration": -459,
        "start_time": "2022-03-08T09:48:45.666Z"
      },
      {
        "duration": -469,
        "start_time": "2022-03-08T09:48:45.677Z"
      },
      {
        "duration": -493,
        "start_time": "2022-03-08T09:48:45.702Z"
      },
      {
        "duration": -502,
        "start_time": "2022-03-08T09:48:45.713Z"
      },
      {
        "duration": -512,
        "start_time": "2022-03-08T09:48:45.724Z"
      },
      {
        "duration": -521,
        "start_time": "2022-03-08T09:48:45.735Z"
      },
      {
        "duration": 13,
        "start_time": "2022-03-08T09:53:36.007Z"
      },
      {
        "duration": 5,
        "start_time": "2022-03-08T09:53:44.294Z"
      },
      {
        "duration": 229,
        "start_time": "2022-03-08T09:53:52.670Z"
      },
      {
        "duration": 245,
        "start_time": "2022-03-08T09:55:35.815Z"
      },
      {
        "duration": 5,
        "start_time": "2022-03-08T09:55:54.598Z"
      },
      {
        "duration": 24,
        "start_time": "2022-03-08T09:55:54.611Z"
      },
      {
        "duration": 18,
        "start_time": "2022-03-08T09:55:54.638Z"
      },
      {
        "duration": 23,
        "start_time": "2022-03-08T09:55:54.660Z"
      },
      {
        "duration": 16,
        "start_time": "2022-03-08T09:55:54.686Z"
      },
      {
        "duration": 54,
        "start_time": "2022-03-08T09:55:54.704Z"
      },
      {
        "duration": 15,
        "start_time": "2022-03-08T09:55:54.760Z"
      },
      {
        "duration": 12,
        "start_time": "2022-03-08T09:55:54.778Z"
      },
      {
        "duration": 222,
        "start_time": "2022-03-08T09:55:54.794Z"
      },
      {
        "duration": -88,
        "start_time": "2022-03-08T09:55:55.107Z"
      },
      {
        "duration": -99,
        "start_time": "2022-03-08T09:55:55.119Z"
      },
      {
        "duration": -110,
        "start_time": "2022-03-08T09:55:55.132Z"
      },
      {
        "duration": -125,
        "start_time": "2022-03-08T09:55:55.149Z"
      },
      {
        "duration": -190,
        "start_time": "2022-03-08T09:55:55.215Z"
      },
      {
        "duration": -204,
        "start_time": "2022-03-08T09:55:55.231Z"
      },
      {
        "duration": -220,
        "start_time": "2022-03-08T09:55:55.248Z"
      },
      {
        "duration": -233,
        "start_time": "2022-03-08T09:55:55.262Z"
      },
      {
        "duration": -244,
        "start_time": "2022-03-08T09:55:55.275Z"
      },
      {
        "duration": -259,
        "start_time": "2022-03-08T09:55:55.291Z"
      },
      {
        "duration": -282,
        "start_time": "2022-03-08T09:55:55.315Z"
      },
      {
        "duration": 14,
        "start_time": "2022-03-08T09:56:34.540Z"
      },
      {
        "duration": 18,
        "start_time": "2022-03-08T09:56:34.557Z"
      },
      {
        "duration": 8,
        "start_time": "2022-03-08T09:56:34.578Z"
      },
      {
        "duration": 28,
        "start_time": "2022-03-08T09:56:34.589Z"
      },
      {
        "duration": 20,
        "start_time": "2022-03-08T09:56:34.652Z"
      },
      {
        "duration": 22,
        "start_time": "2022-03-08T09:56:34.676Z"
      },
      {
        "duration": 55,
        "start_time": "2022-03-08T09:56:34.701Z"
      },
      {
        "duration": 13,
        "start_time": "2022-03-08T09:56:34.759Z"
      },
      {
        "duration": 7,
        "start_time": "2022-03-08T09:56:34.774Z"
      },
      {
        "duration": 10,
        "start_time": "2022-03-08T09:56:34.784Z"
      },
      {
        "duration": 7,
        "start_time": "2022-03-08T09:56:34.796Z"
      },
      {
        "duration": 95,
        "start_time": "2022-03-08T11:06:36.008Z"
      },
      {
        "duration": 92,
        "start_time": "2022-03-08T11:06:42.104Z"
      },
      {
        "duration": 287,
        "start_time": "2022-03-08T16:39:42.664Z"
      },
      {
        "duration": 566,
        "start_time": "2022-03-08T16:39:56.569Z"
      },
      {
        "duration": 250,
        "start_time": "2022-03-08T16:39:57.137Z"
      },
      {
        "duration": 17,
        "start_time": "2022-03-08T16:39:57.392Z"
      },
      {
        "duration": 25,
        "start_time": "2022-03-08T16:39:57.411Z"
      },
      {
        "duration": 27,
        "start_time": "2022-03-08T16:39:57.438Z"
      },
      {
        "duration": 24,
        "start_time": "2022-03-08T16:39:57.467Z"
      },
      {
        "duration": 4,
        "start_time": "2022-03-08T16:39:57.493Z"
      },
      {
        "duration": 22,
        "start_time": "2022-03-08T16:39:57.501Z"
      },
      {
        "duration": 42,
        "start_time": "2022-03-08T16:39:57.525Z"
      },
      {
        "duration": 22,
        "start_time": "2022-03-08T16:39:57.569Z"
      },
      {
        "duration": 74,
        "start_time": "2022-03-08T16:39:57.593Z"
      },
      {
        "duration": 66,
        "start_time": "2022-03-08T16:39:57.669Z"
      },
      {
        "duration": 66,
        "start_time": "2022-03-08T16:39:57.737Z"
      },
      {
        "duration": 41,
        "start_time": "2022-03-08T16:39:57.804Z"
      },
      {
        "duration": 3,
        "start_time": "2022-03-08T16:39:57.846Z"
      },
      {
        "duration": 44,
        "start_time": "2022-03-08T16:39:57.851Z"
      },
      {
        "duration": 39,
        "start_time": "2022-03-08T16:39:57.897Z"
      },
      {
        "duration": 295,
        "start_time": "2022-03-08T16:39:57.937Z"
      },
      {
        "duration": 1784,
        "start_time": "2022-03-08T16:39:56.451Z"
      },
      {
        "duration": 1781,
        "start_time": "2022-03-08T16:39:56.455Z"
      },
      {
        "duration": 1779,
        "start_time": "2022-03-08T16:39:56.458Z"
      },
      {
        "duration": 1778,
        "start_time": "2022-03-08T16:39:56.460Z"
      },
      {
        "duration": 1777,
        "start_time": "2022-03-08T16:39:56.462Z"
      },
      {
        "duration": 1776,
        "start_time": "2022-03-08T16:39:56.464Z"
      },
      {
        "duration": 1775,
        "start_time": "2022-03-08T16:39:56.466Z"
      },
      {
        "duration": 1774,
        "start_time": "2022-03-08T16:39:56.468Z"
      },
      {
        "duration": 1772,
        "start_time": "2022-03-08T16:39:56.471Z"
      },
      {
        "duration": 1770,
        "start_time": "2022-03-08T16:39:56.474Z"
      },
      {
        "duration": 1758,
        "start_time": "2022-03-08T16:39:56.487Z"
      },
      {
        "duration": 1752,
        "start_time": "2022-03-08T16:39:56.494Z"
      },
      {
        "duration": 1751,
        "start_time": "2022-03-08T16:39:56.496Z"
      },
      {
        "duration": 1749,
        "start_time": "2022-03-08T16:39:56.499Z"
      },
      {
        "duration": 1748,
        "start_time": "2022-03-08T16:39:56.501Z"
      },
      {
        "duration": 1746,
        "start_time": "2022-03-08T16:39:56.504Z"
      },
      {
        "duration": 1744,
        "start_time": "2022-03-08T16:39:56.507Z"
      },
      {
        "duration": 1743,
        "start_time": "2022-03-08T16:39:56.509Z"
      },
      {
        "duration": 1742,
        "start_time": "2022-03-08T16:39:56.511Z"
      },
      {
        "duration": 1741,
        "start_time": "2022-03-08T16:39:56.513Z"
      },
      {
        "duration": 1740,
        "start_time": "2022-03-08T16:39:56.515Z"
      },
      {
        "duration": 1739,
        "start_time": "2022-03-08T16:39:56.517Z"
      },
      {
        "duration": 629,
        "start_time": "2022-03-08T16:45:11.888Z"
      },
      {
        "duration": 279,
        "start_time": "2022-03-08T16:45:12.519Z"
      },
      {
        "duration": 16,
        "start_time": "2022-03-08T16:45:12.800Z"
      },
      {
        "duration": 29,
        "start_time": "2022-03-08T16:45:12.818Z"
      },
      {
        "duration": 29,
        "start_time": "2022-03-08T16:45:12.849Z"
      },
      {
        "duration": 21,
        "start_time": "2022-03-08T16:45:12.880Z"
      },
      {
        "duration": 8,
        "start_time": "2022-03-08T16:45:12.902Z"
      },
      {
        "duration": 23,
        "start_time": "2022-03-08T16:45:12.913Z"
      },
      {
        "duration": 30,
        "start_time": "2022-03-08T16:45:12.938Z"
      },
      {
        "duration": 24,
        "start_time": "2022-03-08T16:45:12.970Z"
      },
      {
        "duration": 76,
        "start_time": "2022-03-08T16:45:12.996Z"
      },
      {
        "duration": 69,
        "start_time": "2022-03-08T16:45:13.074Z"
      },
      {
        "duration": 61,
        "start_time": "2022-03-08T16:45:13.144Z"
      },
      {
        "duration": 40,
        "start_time": "2022-03-08T16:45:13.206Z"
      },
      {
        "duration": 4,
        "start_time": "2022-03-08T16:45:13.263Z"
      },
      {
        "duration": 43,
        "start_time": "2022-03-08T16:45:13.268Z"
      },
      {
        "duration": 52,
        "start_time": "2022-03-08T16:45:13.312Z"
      },
      {
        "duration": 270,
        "start_time": "2022-03-08T16:45:13.365Z"
      },
      {
        "duration": 1793,
        "start_time": "2022-03-08T16:45:11.845Z"
      },
      {
        "duration": 1787,
        "start_time": "2022-03-08T16:45:11.852Z"
      },
      {
        "duration": 1785,
        "start_time": "2022-03-08T16:45:11.855Z"
      },
      {
        "duration": 1784,
        "start_time": "2022-03-08T16:45:11.857Z"
      },
      {
        "duration": 1783,
        "start_time": "2022-03-08T16:45:11.859Z"
      },
      {
        "duration": 1782,
        "start_time": "2022-03-08T16:45:11.861Z"
      },
      {
        "duration": 1770,
        "start_time": "2022-03-08T16:45:11.874Z"
      },
      {
        "duration": 1767,
        "start_time": "2022-03-08T16:45:11.877Z"
      },
      {
        "duration": 1766,
        "start_time": "2022-03-08T16:45:11.879Z"
      },
      {
        "duration": 1765,
        "start_time": "2022-03-08T16:45:11.881Z"
      },
      {
        "duration": 1762,
        "start_time": "2022-03-08T16:45:11.885Z"
      },
      {
        "duration": 1762,
        "start_time": "2022-03-08T16:45:11.887Z"
      },
      {
        "duration": 1761,
        "start_time": "2022-03-08T16:45:11.889Z"
      },
      {
        "duration": 1759,
        "start_time": "2022-03-08T16:45:11.892Z"
      },
      {
        "duration": 1758,
        "start_time": "2022-03-08T16:45:11.894Z"
      },
      {
        "duration": 1757,
        "start_time": "2022-03-08T16:45:11.896Z"
      },
      {
        "duration": 1755,
        "start_time": "2022-03-08T16:45:11.899Z"
      },
      {
        "duration": 1754,
        "start_time": "2022-03-08T16:45:11.901Z"
      },
      {
        "duration": 1753,
        "start_time": "2022-03-08T16:45:11.903Z"
      },
      {
        "duration": 1752,
        "start_time": "2022-03-08T16:45:11.905Z"
      },
      {
        "duration": 1751,
        "start_time": "2022-03-08T16:45:11.907Z"
      },
      {
        "duration": 1749,
        "start_time": "2022-03-08T16:45:11.910Z"
      },
      {
        "duration": 16,
        "start_time": "2022-03-08T16:49:30.585Z"
      },
      {
        "duration": 1798,
        "start_time": "2022-03-08T16:50:22.389Z"
      },
      {
        "duration": 1790,
        "start_time": "2022-03-08T16:50:22.398Z"
      },
      {
        "duration": 1789,
        "start_time": "2022-03-08T16:50:22.401Z"
      },
      {
        "duration": 1788,
        "start_time": "2022-03-08T16:50:22.403Z"
      },
      {
        "duration": 1786,
        "start_time": "2022-03-08T16:50:22.406Z"
      },
      {
        "duration": 1786,
        "start_time": "2022-03-08T16:50:22.408Z"
      },
      {
        "duration": 1784,
        "start_time": "2022-03-08T16:50:22.411Z"
      },
      {
        "duration": 1784,
        "start_time": "2022-03-08T16:50:22.413Z"
      },
      {
        "duration": 1773,
        "start_time": "2022-03-08T16:50:22.425Z"
      },
      {
        "duration": 1772,
        "start_time": "2022-03-08T16:50:22.428Z"
      },
      {
        "duration": 1771,
        "start_time": "2022-03-08T16:50:22.430Z"
      },
      {
        "duration": 1771,
        "start_time": "2022-03-08T16:50:22.432Z"
      },
      {
        "duration": 1769,
        "start_time": "2022-03-08T16:50:22.435Z"
      },
      {
        "duration": 1751,
        "start_time": "2022-03-08T16:50:22.455Z"
      },
      {
        "duration": 1750,
        "start_time": "2022-03-08T16:50:22.457Z"
      },
      {
        "duration": 1749,
        "start_time": "2022-03-08T16:50:22.460Z"
      },
      {
        "duration": 1800,
        "start_time": "2022-03-08T16:50:22.462Z"
      },
      {
        "duration": 1799,
        "start_time": "2022-03-08T16:50:22.465Z"
      },
      {
        "duration": 1798,
        "start_time": "2022-03-08T16:50:22.467Z"
      },
      {
        "duration": 1796,
        "start_time": "2022-03-08T16:50:22.470Z"
      },
      {
        "duration": 1796,
        "start_time": "2022-03-08T16:50:22.472Z"
      },
      {
        "duration": 1787,
        "start_time": "2022-03-08T16:50:22.482Z"
      },
      {
        "duration": 1786,
        "start_time": "2022-03-08T16:50:22.485Z"
      },
      {
        "duration": 1785,
        "start_time": "2022-03-08T16:50:22.487Z"
      },
      {
        "duration": 1785,
        "start_time": "2022-03-08T16:50:22.489Z"
      },
      {
        "duration": 1784,
        "start_time": "2022-03-08T16:50:22.491Z"
      },
      {
        "duration": 1776,
        "start_time": "2022-03-08T16:50:22.500Z"
      },
      {
        "duration": 1775,
        "start_time": "2022-03-08T16:50:22.503Z"
      },
      {
        "duration": 1774,
        "start_time": "2022-03-08T16:50:22.505Z"
      },
      {
        "duration": 1773,
        "start_time": "2022-03-08T16:50:22.507Z"
      },
      {
        "duration": 1772,
        "start_time": "2022-03-08T16:50:22.509Z"
      },
      {
        "duration": 1772,
        "start_time": "2022-03-08T16:50:22.511Z"
      },
      {
        "duration": 1771,
        "start_time": "2022-03-08T16:50:22.513Z"
      },
      {
        "duration": 1753,
        "start_time": "2022-03-08T16:50:22.533Z"
      },
      {
        "duration": 1752,
        "start_time": "2022-03-08T16:50:22.535Z"
      },
      {
        "duration": 1750,
        "start_time": "2022-03-08T16:50:22.538Z"
      },
      {
        "duration": 1750,
        "start_time": "2022-03-08T16:50:22.540Z"
      },
      {
        "duration": 1727,
        "start_time": "2022-03-08T16:50:22.564Z"
      },
      {
        "duration": 1722,
        "start_time": "2022-03-08T16:50:22.571Z"
      },
      {
        "duration": 1721,
        "start_time": "2022-03-08T16:50:22.573Z"
      },
      {
        "duration": 570,
        "start_time": "2022-03-08T16:54:07.205Z"
      },
      {
        "duration": 307,
        "start_time": "2022-03-08T16:54:07.778Z"
      },
      {
        "duration": 16,
        "start_time": "2022-03-08T16:54:08.087Z"
      },
      {
        "duration": 27,
        "start_time": "2022-03-08T16:54:08.105Z"
      },
      {
        "duration": 4,
        "start_time": "2022-03-08T16:54:08.134Z"
      },
      {
        "duration": 20,
        "start_time": "2022-03-08T16:54:08.163Z"
      },
      {
        "duration": 6,
        "start_time": "2022-03-08T16:54:08.185Z"
      },
      {
        "duration": 23,
        "start_time": "2022-03-08T16:54:08.193Z"
      },
      {
        "duration": 17,
        "start_time": "2022-03-08T16:54:08.219Z"
      },
      {
        "duration": 43,
        "start_time": "2022-03-08T16:54:08.238Z"
      },
      {
        "duration": 59,
        "start_time": "2022-03-08T16:54:08.283Z"
      },
      {
        "duration": 82,
        "start_time": "2022-03-08T16:54:08.344Z"
      },
      {
        "duration": 62,
        "start_time": "2022-03-08T16:54:08.428Z"
      },
      {
        "duration": 38,
        "start_time": "2022-03-08T16:54:08.492Z"
      },
      {
        "duration": 3,
        "start_time": "2022-03-08T16:54:08.532Z"
      },
      {
        "duration": 73,
        "start_time": "2022-03-08T16:54:08.536Z"
      },
      {
        "duration": 38,
        "start_time": "2022-03-08T16:54:08.611Z"
      },
      {
        "duration": 9,
        "start_time": "2022-03-08T16:54:08.650Z"
      },
      {
        "duration": 37,
        "start_time": "2022-03-08T16:54:08.661Z"
      },
      {
        "duration": 8,
        "start_time": "2022-03-08T16:54:08.700Z"
      },
      {
        "duration": 3,
        "start_time": "2022-03-08T16:54:08.710Z"
      },
      {
        "duration": 25,
        "start_time": "2022-03-08T16:54:08.714Z"
      },
      {
        "duration": 26,
        "start_time": "2022-03-08T16:54:08.740Z"
      },
      {
        "duration": 16,
        "start_time": "2022-03-08T16:54:08.767Z"
      },
      {
        "duration": 12,
        "start_time": "2022-03-08T16:54:08.785Z"
      },
      {
        "duration": 17,
        "start_time": "2022-03-08T16:54:08.799Z"
      },
      {
        "duration": 12,
        "start_time": "2022-03-08T16:54:08.820Z"
      },
      {
        "duration": 34,
        "start_time": "2022-03-08T16:54:08.834Z"
      },
      {
        "duration": 293,
        "start_time": "2022-03-08T16:54:08.870Z"
      },
      {
        "duration": 1789,
        "start_time": "2022-03-08T16:54:07.376Z"
      },
      {
        "duration": 1781,
        "start_time": "2022-03-08T16:54:07.385Z"
      },
      {
        "duration": 1780,
        "start_time": "2022-03-08T16:54:07.387Z"
      },
      {
        "duration": 1778,
        "start_time": "2022-03-08T16:54:07.390Z"
      },
      {
        "duration": 1777,
        "start_time": "2022-03-08T16:54:07.392Z"
      },
      {
        "duration": 1776,
        "start_time": "2022-03-08T16:54:07.394Z"
      },
      {
        "duration": 1767,
        "start_time": "2022-03-08T16:54:07.404Z"
      },
      {
        "duration": 1746,
        "start_time": "2022-03-08T16:54:07.426Z"
      },
      {
        "duration": 1745,
        "start_time": "2022-03-08T16:54:07.428Z"
      },
      {
        "duration": 1743,
        "start_time": "2022-03-08T16:54:07.431Z"
      },
      {
        "duration": 1742,
        "start_time": "2022-03-08T16:54:07.433Z"
      },
      {
        "duration": 36,
        "start_time": "2022-03-08T16:59:50.989Z"
      },
      {
        "duration": 770,
        "start_time": "2022-03-08T17:30:13.881Z"
      },
      {
        "duration": 331,
        "start_time": "2022-03-08T17:30:14.654Z"
      },
      {
        "duration": 26,
        "start_time": "2022-03-08T17:30:14.988Z"
      },
      {
        "duration": 36,
        "start_time": "2022-03-08T17:30:15.017Z"
      },
      {
        "duration": 6,
        "start_time": "2022-03-08T17:30:15.083Z"
      },
      {
        "duration": 30,
        "start_time": "2022-03-08T17:30:15.092Z"
      },
      {
        "duration": 9,
        "start_time": "2022-03-08T17:30:15.125Z"
      },
      {
        "duration": 53,
        "start_time": "2022-03-08T17:30:15.138Z"
      },
      {
        "duration": 23,
        "start_time": "2022-03-08T17:30:15.195Z"
      },
      {
        "duration": 29,
        "start_time": "2022-03-08T17:30:15.220Z"
      },
      {
        "duration": 110,
        "start_time": "2022-03-08T17:30:15.251Z"
      },
      {
        "duration": 119,
        "start_time": "2022-03-08T17:30:15.364Z"
      },
      {
        "duration": 74,
        "start_time": "2022-03-08T17:30:15.486Z"
      },
      {
        "duration": 67,
        "start_time": "2022-03-08T17:30:15.562Z"
      },
      {
        "duration": 5,
        "start_time": "2022-03-08T17:30:15.631Z"
      },
      {
        "duration": 83,
        "start_time": "2022-03-08T17:30:15.638Z"
      },
      {
        "duration": 67,
        "start_time": "2022-03-08T17:30:15.724Z"
      },
      {
        "duration": 14,
        "start_time": "2022-03-08T17:30:15.793Z"
      },
      {
        "duration": 72,
        "start_time": "2022-03-08T17:30:15.810Z"
      },
      {
        "duration": 14,
        "start_time": "2022-03-08T17:30:15.884Z"
      },
      {
        "duration": 4,
        "start_time": "2022-03-08T17:30:15.901Z"
      },
      {
        "duration": 40,
        "start_time": "2022-03-08T17:30:15.907Z"
      },
      {
        "duration": 40,
        "start_time": "2022-03-08T17:30:15.953Z"
      },
      {
        "duration": 21,
        "start_time": "2022-03-08T17:30:15.996Z"
      },
      {
        "duration": 15,
        "start_time": "2022-03-08T17:30:16.020Z"
      },
      {
        "duration": 57,
        "start_time": "2022-03-08T17:30:16.038Z"
      },
      {
        "duration": 16,
        "start_time": "2022-03-08T17:30:16.097Z"
      },
      {
        "duration": 13,
        "start_time": "2022-03-08T17:30:16.115Z"
      },
      {
        "duration": 66,
        "start_time": "2022-03-08T17:30:16.130Z"
      },
      {
        "duration": 14,
        "start_time": "2022-03-08T17:30:16.198Z"
      },
      {
        "duration": 10,
        "start_time": "2022-03-08T17:30:16.215Z"
      },
      {
        "duration": 5,
        "start_time": "2022-03-08T17:30:16.228Z"
      },
      {
        "duration": 56,
        "start_time": "2022-03-08T17:30:16.235Z"
      },
      {
        "duration": 16,
        "start_time": "2022-03-08T17:30:16.293Z"
      },
      {
        "duration": 21,
        "start_time": "2022-03-08T17:30:16.312Z"
      },
      {
        "duration": 49,
        "start_time": "2022-03-08T17:30:16.335Z"
      },
      {
        "duration": 9,
        "start_time": "2022-03-08T17:30:16.387Z"
      },
      {
        "duration": 10,
        "start_time": "2022-03-08T17:30:16.398Z"
      },
      {
        "duration": 10,
        "start_time": "2022-03-08T17:30:16.410Z"
      },
      {
        "duration": 8,
        "start_time": "2022-03-08T17:30:16.423Z"
      }
    ],
    "colab": {
      "collapsed_sections": [],
      "name": "deli_proj_pract_01_music_v2_0.ipynb",
      "provenance": [],
      "toc_visible": true,
      "include_colab_link": true
    },
    "kernelspec": {
      "display_name": "Python 3 (ipykernel)",
      "language": "python",
      "name": "python3"
    },
    "language_info": {
      "codemirror_mode": {
        "name": "ipython",
        "version": 3
      },
      "file_extension": ".py",
      "mimetype": "text/x-python",
      "name": "python",
      "nbconvert_exporter": "python",
      "pygments_lexer": "ipython3",
      "version": "3.7.8"
    },
    "toc": {
      "base_numbering": 1,
      "nav_menu": {},
      "number_sections": true,
      "sideBar": true,
      "skip_h1_title": true,
      "title_cell": "Table of Contents",
      "title_sidebar": "Contents",
      "toc_cell": false,
      "toc_position": {
        "height": "calc(100% - 180px)",
        "left": "10px",
        "top": "150px",
        "width": "165px"
      },
      "toc_section_display": true,
      "toc_window_display": true
    }
  },
  "nbformat": 4,
  "nbformat_minor": 0
}