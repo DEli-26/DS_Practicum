{
  "cells": [
    {
      "cell_type": "markdown",
      "metadata": {
        "id": "view-in-github",
        "colab_type": "text"
      },
      "source": [
        "<a href=\"https://colab.research.google.com/github/DEli-26/DS_Practicum/blob/main/11_boosting/deli_proj_pract_11_boosting_v2_0.ipynb\" target=\"_parent\"><img src=\"https://colab.research.google.com/assets/colab-badge.svg\" alt=\"Open In Colab\"/></a>"
      ]
    },
    {
      "cell_type": "markdown",
      "id": "c9c4b0dc-4512-4915-a2e2-845e613b21e3",
      "metadata": {
        "id": "c9c4b0dc-4512-4915-a2e2-845e613b21e3"
      },
      "source": [
        "<font size=6><b>**Я.Практикум. Проект №11**</b></font>\n",
        "    \n",
        "<font size=6><b>**Определение стоимости автомобилей**</b></font>\n",
        "\n",
        "***"
      ]
    },
    {
      "cell_type": "markdown",
      "id": "00979901-c4fe-47e0-b3f0-44a4aca385ea",
      "metadata": {
        "tags": [],
        "id": "00979901-c4fe-47e0-b3f0-44a4aca385ea"
      },
      "source": [
        "# Постановка задачи\n",
        "\n",
        "**Заказчик**  \n",
        "Сервис по продаже автомобилей с пробегом «Не бит, не крашен».\n",
        "\n",
        "**Цель**  \n",
        "Построить модель для определения рыночной стоимости автомобиля, обеспечивающей оптимальное соотношение качества предсказания, его скорости и времени обучения.\n",
        "Для оценки качества моделей должна использоваться метрика RMSE, ее значение должно быть меньше 2500 евро.\n",
        "\n",
        "**Задачи**   \n",
        "1. Загрузить и подготовить данные;\n",
        "1. Провести exploratory data analys;\n",
        "1. Обучить модели градиентного бустинга LighGBM и Catboost, для каждой попробовать различные гиперпараметры;\n",
        "1. Обучить модель линейной регрессии;\n",
        "1. Проанализировать скорость работы и обучения, а также качество моделей.\n",
        "\n",
        "**Исходные данные**  \n",
        "Исторические данные: технические характеристики, комплектации и цены автомобилей."
      ]
    },
    {
      "cell_type": "markdown",
      "id": "a30f8710-b482-418f-ad8e-7392c9d9bd1f",
      "metadata": {
        "id": "a30f8710-b482-418f-ad8e-7392c9d9bd1f"
      },
      "source": [
        "# Подготовка окружения"
      ]
    },
    {
      "cell_type": "markdown",
      "id": "cc4a79ea-da31-42d8-9072-52fcaf882c1c",
      "metadata": {
        "id": "cc4a79ea-da31-42d8-9072-52fcaf882c1c"
      },
      "source": [
        "Загрузим библиотеки, необходимые для выполнения проекта и настройки ноутбука."
      ]
    },
    {
      "cell_type": "code",
      "execution_count": 1,
      "id": "0652bee3-f690-488f-832d-7685cfb62344",
      "metadata": {
        "scrolled": true,
        "colab": {
          "base_uri": "https://localhost:8080/"
        },
        "id": "0652bee3-f690-488f-832d-7685cfb62344",
        "outputId": "dc041e17-00f9-4f81-ca97-6638d1002b9a"
      },
      "outputs": [
        {
          "output_type": "stream",
          "name": "stdout",
          "text": [
            "Looking in indexes: https://pypi.org/simple, https://us-python.pkg.dev/colab-wheels/public/simple/\n",
            "Collecting catboost\n",
            "  Downloading catboost-1.0.6-cp37-none-manylinux1_x86_64.whl (76.6 MB)\n",
            "\u001b[K     |████████████████████████████████| 76.6 MB 1.2 MB/s \n",
            "\u001b[?25hRequirement already satisfied: scipy in /usr/local/lib/python3.7/dist-packages (from catboost) (1.7.3)\n",
            "Requirement already satisfied: matplotlib in /usr/local/lib/python3.7/dist-packages (from catboost) (3.2.2)\n",
            "Requirement already satisfied: plotly in /usr/local/lib/python3.7/dist-packages (from catboost) (5.5.0)\n",
            "Requirement already satisfied: pandas>=0.24.0 in /usr/local/lib/python3.7/dist-packages (from catboost) (1.3.5)\n",
            "Requirement already satisfied: numpy>=1.16.0 in /usr/local/lib/python3.7/dist-packages (from catboost) (1.21.6)\n",
            "Requirement already satisfied: graphviz in /usr/local/lib/python3.7/dist-packages (from catboost) (0.10.1)\n",
            "Requirement already satisfied: six in /usr/local/lib/python3.7/dist-packages (from catboost) (1.15.0)\n",
            "Requirement already satisfied: python-dateutil>=2.7.3 in /usr/local/lib/python3.7/dist-packages (from pandas>=0.24.0->catboost) (2.8.2)\n",
            "Requirement already satisfied: pytz>=2017.3 in /usr/local/lib/python3.7/dist-packages (from pandas>=0.24.0->catboost) (2022.2.1)\n",
            "Requirement already satisfied: cycler>=0.10 in /usr/local/lib/python3.7/dist-packages (from matplotlib->catboost) (0.11.0)\n",
            "Requirement already satisfied: pyparsing!=2.0.4,!=2.1.2,!=2.1.6,>=2.0.1 in /usr/local/lib/python3.7/dist-packages (from matplotlib->catboost) (3.0.9)\n",
            "Requirement already satisfied: kiwisolver>=1.0.1 in /usr/local/lib/python3.7/dist-packages (from matplotlib->catboost) (1.4.4)\n",
            "Requirement already satisfied: typing-extensions in /usr/local/lib/python3.7/dist-packages (from kiwisolver>=1.0.1->matplotlib->catboost) (4.1.1)\n",
            "Requirement already satisfied: tenacity>=6.2.0 in /usr/local/lib/python3.7/dist-packages (from plotly->catboost) (8.0.1)\n",
            "Installing collected packages: catboost\n",
            "Successfully installed catboost-1.0.6\n"
          ]
        }
      ],
      "source": [
        "import matplotlib.pyplot as plt\n",
        "import numpy as np\n",
        "import pandas as pd\n",
        "import seaborn as sns\n",
        "from sklearn.linear_model import LinearRegression\n",
        "from sklearn.metrics import mean_squared_error\n",
        "from sklearn.model_selection import train_test_split, RandomizedSearchCV\n",
        "\n",
        "try:\n",
        "    from lightgbm import LGBMRegressor\n",
        "except:\n",
        "    !pip install lightgbm\n",
        "    from lightgbm import LGBMRegressor\n",
        "\n",
        "try:\n",
        "    from catboost import CatBoostRegressor\n",
        "except:\n",
        "    !pip install catboost\n",
        "    from catboost import CatBoostRegressor\n",
        "\n",
        "# Темная тема графиков\n",
        "plt.style.use(\"dark_background\")\n",
        "\n",
        "# отображение таблиц без ограничения на количество столбцов:\n",
        "pd.set_option(\"display.max_columns\", None)\n",
        "\n",
        "# автоформатирование\n",
        "# %load_ext lab_black"
      ]
    },
    {
      "cell_type": "markdown",
      "id": "87e4990a-6e09-47fe-b358-eced0248ad65",
      "metadata": {
        "id": "87e4990a-6e09-47fe-b358-eced0248ad65"
      },
      "source": [
        "Загрузим сами данные."
      ]
    },
    {
      "cell_type": "code",
      "source": [
        "! gdown 10TDzu7Y28Xjah21AHk7c2gb7jEFzp3e9"
      ],
      "metadata": {
        "colab": {
          "base_uri": "https://localhost:8080/"
        },
        "id": "uYHoB0cLMqA5",
        "outputId": "daccedc8-14f4-4f38-a4ad-3dfcf1fe0d35"
      },
      "id": "uYHoB0cLMqA5",
      "execution_count": 2,
      "outputs": [
        {
          "output_type": "stream",
          "name": "stdout",
          "text": [
            "Downloading...\n",
            "From: https://drive.google.com/uc?id=10TDzu7Y28Xjah21AHk7c2gb7jEFzp3e9\n",
            "To: /content/autos.csv\n",
            "100% 44.4M/44.4M [00:00<00:00, 118MB/s]\n"
          ]
        }
      ]
    },
    {
      "cell_type": "code",
      "execution_count": 3,
      "id": "f21c77d7-59fe-421a-8ced-6e2f6b04667d",
      "metadata": {
        "id": "f21c77d7-59fe-421a-8ced-6e2f6b04667d"
      },
      "outputs": [],
      "source": [
        "df = pd.read_csv(\"/content/autos.csv\")"
      ]
    },
    {
      "cell_type": "markdown",
      "id": "b38ab5cb-3255-4cb2-80cd-f137b6c0899e",
      "metadata": {
        "tags": [],
        "id": "b38ab5cb-3255-4cb2-80cd-f137b6c0899e"
      },
      "source": [
        "# Exploratory Data Analysis"
      ]
    },
    {
      "cell_type": "markdown",
      "id": "ca77a62c-b7fc-466f-a1df-e26d64ae10fd",
      "metadata": {
        "id": "ca77a62c-b7fc-466f-a1df-e26d64ae10fd"
      },
      "source": [
        "## Обзор данных"
      ]
    },
    {
      "cell_type": "markdown",
      "id": "b4a1255a-c5a4-43ad-8cd6-0dab100e1e2a",
      "metadata": {
        "id": "b4a1255a-c5a4-43ad-8cd6-0dab100e1e2a"
      },
      "source": [
        "Вызовем первые 5 строк, общую информацию о таблице, а также количество дубликатов."
      ]
    },
    {
      "cell_type": "code",
      "execution_count": 4,
      "id": "32b416dd-afe5-4ef8-9d0c-31f48f7f5e9d",
      "metadata": {
        "colab": {
          "base_uri": "https://localhost:8080/",
          "height": 444
        },
        "id": "32b416dd-afe5-4ef8-9d0c-31f48f7f5e9d",
        "outputId": "67ea8b70-ec6e-452b-8edc-0fe0cdafa355"
      },
      "outputs": [
        {
          "output_type": "execute_result",
          "data": {
            "text/plain": [
              "           DateCrawled  Price VehicleType  RegistrationYear Gearbox  Power  \\\n",
              "0  2016-03-24 11:52:17    480         NaN              1993  manual      0   \n",
              "1  2016-03-24 10:58:45  18300       coupe              2011  manual    190   \n",
              "2  2016-03-14 12:52:21   9800         suv              2004    auto    163   \n",
              "3  2016-03-17 16:54:04   1500       small              2001  manual     75   \n",
              "4  2016-03-31 17:25:20   3600       small              2008  manual     69   \n",
              "\n",
              "   Model  Kilometer  RegistrationMonth  FuelType       Brand NotRepaired  \\\n",
              "0   golf     150000                  0    petrol  volkswagen         NaN   \n",
              "1    NaN     125000                  5  gasoline        audi         yes   \n",
              "2  grand     125000                  8  gasoline        jeep         NaN   \n",
              "3   golf     150000                  6    petrol  volkswagen          no   \n",
              "4  fabia      90000                  7  gasoline       skoda          no   \n",
              "\n",
              "           DateCreated  NumberOfPictures  PostalCode             LastSeen  \n",
              "0  2016-03-24 00:00:00                 0       70435  2016-04-07 03:16:57  \n",
              "1  2016-03-24 00:00:00                 0       66954  2016-04-07 01:46:50  \n",
              "2  2016-03-14 00:00:00                 0       90480  2016-04-05 12:47:46  \n",
              "3  2016-03-17 00:00:00                 0       91074  2016-03-17 17:40:17  \n",
              "4  2016-03-31 00:00:00                 0       60437  2016-04-06 10:17:21  "
            ],
            "text/html": [
              "\n",
              "  <div id=\"df-23d4888a-bda1-4311-b7b3-420d272ac2b3\">\n",
              "    <div class=\"colab-df-container\">\n",
              "      <div>\n",
              "<style scoped>\n",
              "    .dataframe tbody tr th:only-of-type {\n",
              "        vertical-align: middle;\n",
              "    }\n",
              "\n",
              "    .dataframe tbody tr th {\n",
              "        vertical-align: top;\n",
              "    }\n",
              "\n",
              "    .dataframe thead th {\n",
              "        text-align: right;\n",
              "    }\n",
              "</style>\n",
              "<table border=\"1\" class=\"dataframe\">\n",
              "  <thead>\n",
              "    <tr style=\"text-align: right;\">\n",
              "      <th></th>\n",
              "      <th>DateCrawled</th>\n",
              "      <th>Price</th>\n",
              "      <th>VehicleType</th>\n",
              "      <th>RegistrationYear</th>\n",
              "      <th>Gearbox</th>\n",
              "      <th>Power</th>\n",
              "      <th>Model</th>\n",
              "      <th>Kilometer</th>\n",
              "      <th>RegistrationMonth</th>\n",
              "      <th>FuelType</th>\n",
              "      <th>Brand</th>\n",
              "      <th>NotRepaired</th>\n",
              "      <th>DateCreated</th>\n",
              "      <th>NumberOfPictures</th>\n",
              "      <th>PostalCode</th>\n",
              "      <th>LastSeen</th>\n",
              "    </tr>\n",
              "  </thead>\n",
              "  <tbody>\n",
              "    <tr>\n",
              "      <th>0</th>\n",
              "      <td>2016-03-24 11:52:17</td>\n",
              "      <td>480</td>\n",
              "      <td>NaN</td>\n",
              "      <td>1993</td>\n",
              "      <td>manual</td>\n",
              "      <td>0</td>\n",
              "      <td>golf</td>\n",
              "      <td>150000</td>\n",
              "      <td>0</td>\n",
              "      <td>petrol</td>\n",
              "      <td>volkswagen</td>\n",
              "      <td>NaN</td>\n",
              "      <td>2016-03-24 00:00:00</td>\n",
              "      <td>0</td>\n",
              "      <td>70435</td>\n",
              "      <td>2016-04-07 03:16:57</td>\n",
              "    </tr>\n",
              "    <tr>\n",
              "      <th>1</th>\n",
              "      <td>2016-03-24 10:58:45</td>\n",
              "      <td>18300</td>\n",
              "      <td>coupe</td>\n",
              "      <td>2011</td>\n",
              "      <td>manual</td>\n",
              "      <td>190</td>\n",
              "      <td>NaN</td>\n",
              "      <td>125000</td>\n",
              "      <td>5</td>\n",
              "      <td>gasoline</td>\n",
              "      <td>audi</td>\n",
              "      <td>yes</td>\n",
              "      <td>2016-03-24 00:00:00</td>\n",
              "      <td>0</td>\n",
              "      <td>66954</td>\n",
              "      <td>2016-04-07 01:46:50</td>\n",
              "    </tr>\n",
              "    <tr>\n",
              "      <th>2</th>\n",
              "      <td>2016-03-14 12:52:21</td>\n",
              "      <td>9800</td>\n",
              "      <td>suv</td>\n",
              "      <td>2004</td>\n",
              "      <td>auto</td>\n",
              "      <td>163</td>\n",
              "      <td>grand</td>\n",
              "      <td>125000</td>\n",
              "      <td>8</td>\n",
              "      <td>gasoline</td>\n",
              "      <td>jeep</td>\n",
              "      <td>NaN</td>\n",
              "      <td>2016-03-14 00:00:00</td>\n",
              "      <td>0</td>\n",
              "      <td>90480</td>\n",
              "      <td>2016-04-05 12:47:46</td>\n",
              "    </tr>\n",
              "    <tr>\n",
              "      <th>3</th>\n",
              "      <td>2016-03-17 16:54:04</td>\n",
              "      <td>1500</td>\n",
              "      <td>small</td>\n",
              "      <td>2001</td>\n",
              "      <td>manual</td>\n",
              "      <td>75</td>\n",
              "      <td>golf</td>\n",
              "      <td>150000</td>\n",
              "      <td>6</td>\n",
              "      <td>petrol</td>\n",
              "      <td>volkswagen</td>\n",
              "      <td>no</td>\n",
              "      <td>2016-03-17 00:00:00</td>\n",
              "      <td>0</td>\n",
              "      <td>91074</td>\n",
              "      <td>2016-03-17 17:40:17</td>\n",
              "    </tr>\n",
              "    <tr>\n",
              "      <th>4</th>\n",
              "      <td>2016-03-31 17:25:20</td>\n",
              "      <td>3600</td>\n",
              "      <td>small</td>\n",
              "      <td>2008</td>\n",
              "      <td>manual</td>\n",
              "      <td>69</td>\n",
              "      <td>fabia</td>\n",
              "      <td>90000</td>\n",
              "      <td>7</td>\n",
              "      <td>gasoline</td>\n",
              "      <td>skoda</td>\n",
              "      <td>no</td>\n",
              "      <td>2016-03-31 00:00:00</td>\n",
              "      <td>0</td>\n",
              "      <td>60437</td>\n",
              "      <td>2016-04-06 10:17:21</td>\n",
              "    </tr>\n",
              "  </tbody>\n",
              "</table>\n",
              "</div>\n",
              "      <button class=\"colab-df-convert\" onclick=\"convertToInteractive('df-23d4888a-bda1-4311-b7b3-420d272ac2b3')\"\n",
              "              title=\"Convert this dataframe to an interactive table.\"\n",
              "              style=\"display:none;\">\n",
              "        \n",
              "  <svg xmlns=\"http://www.w3.org/2000/svg\" height=\"24px\"viewBox=\"0 0 24 24\"\n",
              "       width=\"24px\">\n",
              "    <path d=\"M0 0h24v24H0V0z\" fill=\"none\"/>\n",
              "    <path d=\"M18.56 5.44l.94 2.06.94-2.06 2.06-.94-2.06-.94-.94-2.06-.94 2.06-2.06.94zm-11 1L8.5 8.5l.94-2.06 2.06-.94-2.06-.94L8.5 2.5l-.94 2.06-2.06.94zm10 10l.94 2.06.94-2.06 2.06-.94-2.06-.94-.94-2.06-.94 2.06-2.06.94z\"/><path d=\"M17.41 7.96l-1.37-1.37c-.4-.4-.92-.59-1.43-.59-.52 0-1.04.2-1.43.59L10.3 9.45l-7.72 7.72c-.78.78-.78 2.05 0 2.83L4 21.41c.39.39.9.59 1.41.59.51 0 1.02-.2 1.41-.59l7.78-7.78 2.81-2.81c.8-.78.8-2.07 0-2.86zM5.41 20L4 18.59l7.72-7.72 1.47 1.35L5.41 20z\"/>\n",
              "  </svg>\n",
              "      </button>\n",
              "      \n",
              "  <style>\n",
              "    .colab-df-container {\n",
              "      display:flex;\n",
              "      flex-wrap:wrap;\n",
              "      gap: 12px;\n",
              "    }\n",
              "\n",
              "    .colab-df-convert {\n",
              "      background-color: #E8F0FE;\n",
              "      border: none;\n",
              "      border-radius: 50%;\n",
              "      cursor: pointer;\n",
              "      display: none;\n",
              "      fill: #1967D2;\n",
              "      height: 32px;\n",
              "      padding: 0 0 0 0;\n",
              "      width: 32px;\n",
              "    }\n",
              "\n",
              "    .colab-df-convert:hover {\n",
              "      background-color: #E2EBFA;\n",
              "      box-shadow: 0px 1px 2px rgba(60, 64, 67, 0.3), 0px 1px 3px 1px rgba(60, 64, 67, 0.15);\n",
              "      fill: #174EA6;\n",
              "    }\n",
              "\n",
              "    [theme=dark] .colab-df-convert {\n",
              "      background-color: #3B4455;\n",
              "      fill: #D2E3FC;\n",
              "    }\n",
              "\n",
              "    [theme=dark] .colab-df-convert:hover {\n",
              "      background-color: #434B5C;\n",
              "      box-shadow: 0px 1px 3px 1px rgba(0, 0, 0, 0.15);\n",
              "      filter: drop-shadow(0px 1px 2px rgba(0, 0, 0, 0.3));\n",
              "      fill: #FFFFFF;\n",
              "    }\n",
              "  </style>\n",
              "\n",
              "      <script>\n",
              "        const buttonEl =\n",
              "          document.querySelector('#df-23d4888a-bda1-4311-b7b3-420d272ac2b3 button.colab-df-convert');\n",
              "        buttonEl.style.display =\n",
              "          google.colab.kernel.accessAllowed ? 'block' : 'none';\n",
              "\n",
              "        async function convertToInteractive(key) {\n",
              "          const element = document.querySelector('#df-23d4888a-bda1-4311-b7b3-420d272ac2b3');\n",
              "          const dataTable =\n",
              "            await google.colab.kernel.invokeFunction('convertToInteractive',\n",
              "                                                     [key], {});\n",
              "          if (!dataTable) return;\n",
              "\n",
              "          const docLinkHtml = 'Like what you see? Visit the ' +\n",
              "            '<a target=\"_blank\" href=https://colab.research.google.com/notebooks/data_table.ipynb>data table notebook</a>'\n",
              "            + ' to learn more about interactive tables.';\n",
              "          element.innerHTML = '';\n",
              "          dataTable['output_type'] = 'display_data';\n",
              "          await google.colab.output.renderOutput(dataTable, element);\n",
              "          const docLink = document.createElement('div');\n",
              "          docLink.innerHTML = docLinkHtml;\n",
              "          element.appendChild(docLink);\n",
              "        }\n",
              "      </script>\n",
              "    </div>\n",
              "  </div>\n",
              "  "
            ]
          },
          "metadata": {},
          "execution_count": 4
        }
      ],
      "source": [
        "df.head()"
      ]
    },
    {
      "cell_type": "code",
      "execution_count": 5,
      "id": "aa0509e5-a444-4641-9a85-20a67d59b208",
      "metadata": {
        "colab": {
          "base_uri": "https://localhost:8080/"
        },
        "id": "aa0509e5-a444-4641-9a85-20a67d59b208",
        "outputId": "33f62ae6-e38b-4a27-a695-5d213f6c34c5"
      },
      "outputs": [
        {
          "output_type": "stream",
          "name": "stdout",
          "text": [
            "<class 'pandas.core.frame.DataFrame'>\n",
            "RangeIndex: 354369 entries, 0 to 354368\n",
            "Data columns (total 16 columns):\n",
            " #   Column             Non-Null Count   Dtype \n",
            "---  ------             --------------   ----- \n",
            " 0   DateCrawled        354369 non-null  object\n",
            " 1   Price              354369 non-null  int64 \n",
            " 2   VehicleType        316879 non-null  object\n",
            " 3   RegistrationYear   354369 non-null  int64 \n",
            " 4   Gearbox            334536 non-null  object\n",
            " 5   Power              354369 non-null  int64 \n",
            " 6   Model              334664 non-null  object\n",
            " 7   Kilometer          354369 non-null  int64 \n",
            " 8   RegistrationMonth  354369 non-null  int64 \n",
            " 9   FuelType           321474 non-null  object\n",
            " 10  Brand              354369 non-null  object\n",
            " 11  NotRepaired        283215 non-null  object\n",
            " 12  DateCreated        354369 non-null  object\n",
            " 13  NumberOfPictures   354369 non-null  int64 \n",
            " 14  PostalCode         354369 non-null  int64 \n",
            " 15  LastSeen           354369 non-null  object\n",
            "dtypes: int64(7), object(9)\n",
            "memory usage: 43.3+ MB\n"
          ]
        }
      ],
      "source": [
        "df.info()"
      ]
    },
    {
      "cell_type": "code",
      "execution_count": 6,
      "id": "f7292b8d-edc5-4637-9585-9d9d452926de",
      "metadata": {
        "colab": {
          "base_uri": "https://localhost:8080/"
        },
        "id": "f7292b8d-edc5-4637-9585-9d9d452926de",
        "outputId": "900deb3d-14ec-48e6-e938-248730d3058e"
      },
      "outputs": [
        {
          "output_type": "execute_result",
          "data": {
            "text/plain": [
              "4"
            ]
          },
          "metadata": {},
          "execution_count": 6
        }
      ],
      "source": [
        "df.duplicated().sum()"
      ]
    },
    {
      "cell_type": "markdown",
      "id": "ecb381bb-0585-4d83-8eac-7719dd53fd26",
      "metadata": {
        "id": "ecb381bb-0585-4d83-8eac-7719dd53fd26"
      },
      "source": [
        "В датафрейме содержатся 354 369 объекта и 4 явных дубликата. \n",
        "В различных столбцах датафрейма содержаться пропуски, которые требуют обработки до разработки моделей.\n",
        "\n",
        "Признаки объектов следующие:\n",
        "- DateCrawled — дата скачивания анкеты из базы;\n",
        "- VehicleType — тип автомобильного кузова;\n",
        "- RegistrationYear — год регистрации автомобиля;\n",
        "- Gearbox — тип коробки передач;\n",
        "- Power — мощность (л. с.);\n",
        "- Model — модель автомобиля;\n",
        "- Kilometer — пробег (км);\n",
        "- RegistrationMonth — месяц регистрации автомобиля;\n",
        "- FuelType — тип топлива;\n",
        "- Brand — марка автомобиля;\n",
        "- NotRepaired — была машина в ремонте или нет;\n",
        "- DateCreated — дата создания анкеты;\n",
        "- NumberOfPictures — количество фотографий автомобиля;\n",
        "- PostalCode — почтовый индекс владельца анкеты (пользователя);\n",
        "- LastSeen — дата последней активности пользователя;\n",
        "- Price — цена (евро).\n",
        "\n",
        "Последний признак является целевым в настоящей задаче.  \n",
        "\n",
        "Названия признаков не соответствуют принятому форматированию, в связи с чем для удобства работы переформатируем их в snake_case. \n",
        "Также cоздадим списки признаков, принимая во внимание особенности моделей линейной регрессии и LIghtGBM, согласно котором они не могут обрабатывать признаки дат."
      ]
    },
    {
      "cell_type": "code",
      "execution_count": 7,
      "id": "f1291894-b0fe-445d-ab81-692e39b06f46",
      "metadata": {
        "id": "f1291894-b0fe-445d-ab81-692e39b06f46"
      },
      "outputs": [],
      "source": [
        "df.columns = [\n",
        "    \"date_crawled\",\n",
        "    \"price\",\n",
        "    \"vehicle_type\",\n",
        "    \"registration_year\",\n",
        "    \"gearbox\",\n",
        "    \"power\",\n",
        "    \"model\",\n",
        "    \"kilometer\",\n",
        "    \"registration_month\",\n",
        "    \"fuel_type\",\n",
        "    \"brand\",\n",
        "    \"not_repaired\",\n",
        "    \"date_created\",\n",
        "    \"number_of_pictures\",\n",
        "    \"postal_code\",\n",
        "    \"last_seen\",\n",
        "]\n",
        "\n",
        "X_date = [\"date_crawled\", \"date_created\", \"last_seen\"]\n",
        "y = [\"price\"]\n",
        "X = list(df.drop(X_date + y, axis=1).columns)"
      ]
    },
    {
      "cell_type": "markdown",
      "id": "98f82cd9-70f1-4b72-8a4d-49cee59842ee",
      "metadata": {
        "tags": [],
        "id": "98f82cd9-70f1-4b72-8a4d-49cee59842ee"
      },
      "source": [
        "## Числовые признаки"
      ]
    },
    {
      "cell_type": "markdown",
      "id": "f5b14928-34b0-4937-9efb-85f8ae714d6a",
      "metadata": {
        "id": "f5b14928-34b0-4937-9efb-85f8ae714d6a"
      },
      "source": [
        "Первичный анализ распределения числовых признаков наглядно провести при помощи построения соответствующих гистограммы.\n",
        "При этом полезно построить и распределение переменных с датами несмотря на то, что они не будут использоваться при построении моделей. \n",
        "Для выполнения последней операции требуется преобразование типов данных в соответствующих столбцах."
      ]
    },
    {
      "cell_type": "code",
      "execution_count": 8,
      "id": "683dceb8-f83d-4e76-aa5f-d1bd728363bb",
      "metadata": {
        "colab": {
          "base_uri": "https://localhost:8080/",
          "height": 907
        },
        "id": "683dceb8-f83d-4e76-aa5f-d1bd728363bb",
        "outputId": "2dce64ef-ca46-4c5f-bb31-5cef2895320b"
      },
      "outputs": [
        {
          "output_type": "display_data",
          "data": {
            "text/plain": [
              "<Figure size 1440x1080 with 12 Axes>"
            ],
            "image/png": "[encoded data removed]"
          },
          "metadata": {}
        }
      ],
      "source": [
        "df[\"date_crawled\"] = pd.to_datetime(df[\"date_crawled\"]).round(\"d\")\n",
        "df[\"date_created\"] = pd.to_datetime(df[\"date_created\"])\n",
        "df[\"last_seen\"] = pd.to_datetime(df[\"last_seen\"]).round(\"d\")\n",
        "\n",
        "df.hist(layout=(3, 4), figsize=(20, 15), bins=10, xrot=30)\n",
        "plt.show()"
      ]
    },
    {
      "cell_type": "markdown",
      "id": "6b4d1f32-c54a-4cfb-9ea0-5bbfbaf8ef78",
      "metadata": {
        "id": "6b4d1f32-c54a-4cfb-9ea0-5bbfbaf8ef78"
      },
      "source": [
        "По полученным графикам хорошо видно, что практически для всех признаков характерно скопление значение у определенных значений.\n",
        "Это объясняется наличием в данных выбросов и аномалий. \n",
        "Кроме того, значения признака `registration_month` выходят за диапазон признака `date_crawled`, что будет учтено при его обработке на следующих шагах. \n",
        "\n",
        "Рассмотрим аномалии каждого признака детально. "
      ]
    },
    {
      "cell_type": "markdown",
      "id": "c0285d92-a4bb-4ae5-8b0d-9cfc222b3097",
      "metadata": {
        "id": "c0285d92-a4bb-4ae5-8b0d-9cfc222b3097"
      },
      "source": [
        "### Признак `price` "
      ]
    },
    {
      "cell_type": "markdown",
      "id": "548002c0-6be2-4d95-928f-5748fe443b4a",
      "metadata": {
        "id": "548002c0-6be2-4d95-928f-5748fe443b4a"
      },
      "source": [
        "Выведем общую информацию по столбцу и построим более детальную гистограмму, ограниченную 75-ым перцентилем."
      ]
    },
    {
      "cell_type": "code",
      "execution_count": 9,
      "id": "383163f0-a5d7-4da0-a4a7-93215a50b941",
      "metadata": {
        "colab": {
          "base_uri": "https://localhost:8080/"
        },
        "id": "383163f0-a5d7-4da0-a4a7-93215a50b941",
        "outputId": "69f08ba2-aa2b-42b1-de1e-9abdfc45fe0f"
      },
      "outputs": [
        {
          "output_type": "execute_result",
          "data": {
            "text/plain": [
              "count    354369.000000\n",
              "mean       4416.656776\n",
              "std        4514.158514\n",
              "min           0.000000\n",
              "25%        1050.000000\n",
              "50%        2700.000000\n",
              "75%        6400.000000\n",
              "max       20000.000000\n",
              "Name: price, dtype: float64"
            ]
          },
          "metadata": {},
          "execution_count": 9
        }
      ],
      "source": [
        "df[\"price\"].describe()"
      ]
    },
    {
      "cell_type": "code",
      "execution_count": 10,
      "id": "819015cb-01de-47ea-8f7a-a46f9c340225",
      "metadata": {
        "colab": {
          "base_uri": "https://localhost:8080/",
          "height": 265
        },
        "id": "819015cb-01de-47ea-8f7a-a46f9c340225",
        "outputId": "4c40101b-d1d2-4218-b5a4-435a33775f15"
      },
      "outputs": [
        {
          "output_type": "display_data",
          "data": {
            "text/plain": [
              "<Figure size 432x288 with 1 Axes>"
            ],
            "image/png": "[encoded data removed]"
          },
          "metadata": {}
        }
      ],
      "source": [
        "df[\"price\"].hist(range=(0, 6400), bins=30)\n",
        "plt.show()"
      ]
    },
    {
      "cell_type": "markdown",
      "id": "1ca9b5bd-9faf-4d88-b0c0-fd5d7e7dacd3",
      "metadata": {
        "id": "1ca9b5bd-9faf-4d88-b0c0-fd5d7e7dacd3"
      },
      "source": [
        "В столбце содержится большое количество нулевых значений, которые, скорее всего, связаны с желанием пользователей поднять свои объявления в поисковой выдаче.\n",
        "Подобные объекты могут повредить обучению моделей и их целесообразно исключить из рассмотрения.\n",
        "Для это выберем порог по 5-му перцентилю."
      ]
    },
    {
      "cell_type": "code",
      "execution_count": 11,
      "id": "9ee78260-f11a-4202-abbb-f05c1f8f01cc",
      "metadata": {
        "colab": {
          "base_uri": "https://localhost:8080/",
          "height": 265
        },
        "id": "9ee78260-f11a-4202-abbb-f05c1f8f01cc",
        "outputId": "5321ded6-aff7-47fb-fa93-255d305adb6b"
      },
      "outputs": [
        {
          "output_type": "display_data",
          "data": {
            "text/plain": [
              "<Figure size 432x288 with 1 Axes>"
            ],
            "image/png": "[encoded data removed]"
          },
          "metadata": {}
        }
      ],
      "source": [
        "df = df.drop(df[df[\"price\"] <= df[\"price\"].quantile(0.05)].index)\n",
        "df[\"price\"].hist(range=(0, 6400), bins=30)\n",
        "plt.show()"
      ]
    },
    {
      "cell_type": "markdown",
      "id": "096f9bc7-1e81-46a9-9978-262217affb80",
      "metadata": {
        "id": "096f9bc7-1e81-46a9-9978-262217affb80"
      },
      "source": [
        "Полученное распределение соответствует распределению Пуассона с шумовой составляющей после пика характеристики."
      ]
    },
    {
      "cell_type": "markdown",
      "id": "04146a34-8f7d-477f-9207-1944b1e132a9",
      "metadata": {
        "tags": [],
        "id": "04146a34-8f7d-477f-9207-1944b1e132a9"
      },
      "source": [
        "### Признак `registration_year`"
      ]
    },
    {
      "cell_type": "markdown",
      "id": "98c84da3-805b-4ba8-a49a-f951b055fe27",
      "metadata": {
        "id": "98c84da3-805b-4ba8-a49a-f951b055fe27"
      },
      "source": [
        "Для анализа распределения значений разделим года на категории и соберем сводную таблицу по ним."
      ]
    },
    {
      "cell_type": "code",
      "execution_count": 12,
      "id": "e78f0a6b-ae41-4d2e-beaa-f4a8b74da222",
      "metadata": {
        "id": "e78f0a6b-ae41-4d2e-beaa-f4a8b74da222"
      },
      "outputs": [],
      "source": [
        "def grouped_feature(feature, start, stop, num):\n",
        "    steps = [-float(\"inf\")]\n",
        "    for x in np.linspace(start=start, stop=stop, num=num):\n",
        "        steps.append(int(x))\n",
        "    steps.append(float(\"inf\"))\n",
        "    grouped_feature = feature + \"_group\"\n",
        "    df[grouped_feature] = pd.cut(df[feature], steps)\n",
        "\n",
        "    return df.groupby(grouped_feature)[\"price\"].agg([\"count\", \"median\", \"mean\"])"
      ]
    },
    {
      "cell_type": "code",
      "execution_count": 13,
      "id": "b62f55ff-39ed-4fae-9085-3b146eec0b51",
      "metadata": {
        "colab": {
          "base_uri": "https://localhost:8080/",
          "height": 300
        },
        "id": "b62f55ff-39ed-4fae-9085-3b146eec0b51",
        "outputId": "484d0b3b-0909-40e6-8cc5-1477fd3991eb"
      },
      "outputs": [
        {
          "output_type": "execute_result",
          "data": {
            "text/plain": [
              "                          count   median          mean\n",
              "registration_year_group                               \n",
              "(-inf, 1940.0]              110   2700.0   5392.690909\n",
              "(1940.0, 1955.0]             87  10000.0  10180.402299\n",
              "(1955.0, 1970.0]           1141   6890.0   7988.452235\n",
              "(1970.0, 1985.0]           4080   4800.0   6049.400735\n",
              "(1985.0, 2000.0]         108161   1199.0   1780.382633\n",
              "(2000.0, 2016.0]         207765   4899.0   6211.075104\n",
              "(2016.0, inf]             13577   2000.0   3372.025042"
            ],
            "text/html": [
              "\n",
              "  <div id=\"df-96467ee9-b140-4ba9-a01c-5e5ca15ac9b6\">\n",
              "    <div class=\"colab-df-container\">\n",
              "      <div>\n",
              "<style scoped>\n",
              "    .dataframe tbody tr th:only-of-type {\n",
              "        vertical-align: middle;\n",
              "    }\n",
              "\n",
              "    .dataframe tbody tr th {\n",
              "        vertical-align: top;\n",
              "    }\n",
              "\n",
              "    .dataframe thead th {\n",
              "        text-align: right;\n",
              "    }\n",
              "</style>\n",
              "<table border=\"1\" class=\"dataframe\">\n",
              "  <thead>\n",
              "    <tr style=\"text-align: right;\">\n",
              "      <th></th>\n",
              "      <th>count</th>\n",
              "      <th>median</th>\n",
              "      <th>mean</th>\n",
              "    </tr>\n",
              "    <tr>\n",
              "      <th>registration_year_group</th>\n",
              "      <th></th>\n",
              "      <th></th>\n",
              "      <th></th>\n",
              "    </tr>\n",
              "  </thead>\n",
              "  <tbody>\n",
              "    <tr>\n",
              "      <th>(-inf, 1940.0]</th>\n",
              "      <td>110</td>\n",
              "      <td>2700.0</td>\n",
              "      <td>5392.690909</td>\n",
              "    </tr>\n",
              "    <tr>\n",
              "      <th>(1940.0, 1955.0]</th>\n",
              "      <td>87</td>\n",
              "      <td>10000.0</td>\n",
              "      <td>10180.402299</td>\n",
              "    </tr>\n",
              "    <tr>\n",
              "      <th>(1955.0, 1970.0]</th>\n",
              "      <td>1141</td>\n",
              "      <td>6890.0</td>\n",
              "      <td>7988.452235</td>\n",
              "    </tr>\n",
              "    <tr>\n",
              "      <th>(1970.0, 1985.0]</th>\n",
              "      <td>4080</td>\n",
              "      <td>4800.0</td>\n",
              "      <td>6049.400735</td>\n",
              "    </tr>\n",
              "    <tr>\n",
              "      <th>(1985.0, 2000.0]</th>\n",
              "      <td>108161</td>\n",
              "      <td>1199.0</td>\n",
              "      <td>1780.382633</td>\n",
              "    </tr>\n",
              "    <tr>\n",
              "      <th>(2000.0, 2016.0]</th>\n",
              "      <td>207765</td>\n",
              "      <td>4899.0</td>\n",
              "      <td>6211.075104</td>\n",
              "    </tr>\n",
              "    <tr>\n",
              "      <th>(2016.0, inf]</th>\n",
              "      <td>13577</td>\n",
              "      <td>2000.0</td>\n",
              "      <td>3372.025042</td>\n",
              "    </tr>\n",
              "  </tbody>\n",
              "</table>\n",
              "</div>\n",
              "      <button class=\"colab-df-convert\" onclick=\"convertToInteractive('df-96467ee9-b140-4ba9-a01c-5e5ca15ac9b6')\"\n",
              "              title=\"Convert this dataframe to an interactive table.\"\n",
              "              style=\"display:none;\">\n",
              "        \n",
              "  <svg xmlns=\"http://www.w3.org/2000/svg\" height=\"24px\"viewBox=\"0 0 24 24\"\n",
              "       width=\"24px\">\n",
              "    <path d=\"M0 0h24v24H0V0z\" fill=\"none\"/>\n",
              "    <path d=\"M18.56 5.44l.94 2.06.94-2.06 2.06-.94-2.06-.94-.94-2.06-.94 2.06-2.06.94zm-11 1L8.5 8.5l.94-2.06 2.06-.94-2.06-.94L8.5 2.5l-.94 2.06-2.06.94zm10 10l.94 2.06.94-2.06 2.06-.94-2.06-.94-.94-2.06-.94 2.06-2.06.94z\"/><path d=\"M17.41 7.96l-1.37-1.37c-.4-.4-.92-.59-1.43-.59-.52 0-1.04.2-1.43.59L10.3 9.45l-7.72 7.72c-.78.78-.78 2.05 0 2.83L4 21.41c.39.39.9.59 1.41.59.51 0 1.02-.2 1.41-.59l7.78-7.78 2.81-2.81c.8-.78.8-2.07 0-2.86zM5.41 20L4 18.59l7.72-7.72 1.47 1.35L5.41 20z\"/>\n",
              "  </svg>\n",
              "      </button>\n",
              "      \n",
              "  <style>\n",
              "    .colab-df-container {\n",
              "      display:flex;\n",
              "      flex-wrap:wrap;\n",
              "      gap: 12px;\n",
              "    }\n",
              "\n",
              "    .colab-df-convert {\n",
              "      background-color: #E8F0FE;\n",
              "      border: none;\n",
              "      border-radius: 50%;\n",
              "      cursor: pointer;\n",
              "      display: none;\n",
              "      fill: #1967D2;\n",
              "      height: 32px;\n",
              "      padding: 0 0 0 0;\n",
              "      width: 32px;\n",
              "    }\n",
              "\n",
              "    .colab-df-convert:hover {\n",
              "      background-color: #E2EBFA;\n",
              "      box-shadow: 0px 1px 2px rgba(60, 64, 67, 0.3), 0px 1px 3px 1px rgba(60, 64, 67, 0.15);\n",
              "      fill: #174EA6;\n",
              "    }\n",
              "\n",
              "    [theme=dark] .colab-df-convert {\n",
              "      background-color: #3B4455;\n",
              "      fill: #D2E3FC;\n",
              "    }\n",
              "\n",
              "    [theme=dark] .colab-df-convert:hover {\n",
              "      background-color: #434B5C;\n",
              "      box-shadow: 0px 1px 3px 1px rgba(0, 0, 0, 0.15);\n",
              "      filter: drop-shadow(0px 1px 2px rgba(0, 0, 0, 0.3));\n",
              "      fill: #FFFFFF;\n",
              "    }\n",
              "  </style>\n",
              "\n",
              "      <script>\n",
              "        const buttonEl =\n",
              "          document.querySelector('#df-96467ee9-b140-4ba9-a01c-5e5ca15ac9b6 button.colab-df-convert');\n",
              "        buttonEl.style.display =\n",
              "          google.colab.kernel.accessAllowed ? 'block' : 'none';\n",
              "\n",
              "        async function convertToInteractive(key) {\n",
              "          const element = document.querySelector('#df-96467ee9-b140-4ba9-a01c-5e5ca15ac9b6');\n",
              "          const dataTable =\n",
              "            await google.colab.kernel.invokeFunction('convertToInteractive',\n",
              "                                                     [key], {});\n",
              "          if (!dataTable) return;\n",
              "\n",
              "          const docLinkHtml = 'Like what you see? Visit the ' +\n",
              "            '<a target=\"_blank\" href=https://colab.research.google.com/notebooks/data_table.ipynb>data table notebook</a>'\n",
              "            + ' to learn more about interactive tables.';\n",
              "          element.innerHTML = '';\n",
              "          dataTable['output_type'] = 'display_data';\n",
              "          await google.colab.output.renderOutput(dataTable, element);\n",
              "          const docLink = document.createElement('div');\n",
              "          docLink.innerHTML = docLinkHtml;\n",
              "          element.appendChild(docLink);\n",
              "        }\n",
              "      </script>\n",
              "    </div>\n",
              "  </div>\n",
              "  "
            ]
          },
          "metadata": {},
          "execution_count": 13
        }
      ],
      "source": [
        "grouped_feature(\"registration_year\", 1940, 2016, 6)"
      ]
    },
    {
      "cell_type": "markdown",
      "id": "48cde9a5-88cf-40d1-8cb3-73d4825b743b",
      "metadata": {
        "id": "48cde9a5-88cf-40d1-8cb3-73d4825b743b"
      },
      "source": [
        "Из полученной таблицы следует, что основная часть объектов находится в диапазоне от 1970 года и старше.\n",
        "При этом их средняя стоимость изменяется по нелинейному закону: наибольшее значение характерно для группы раритетных автомобилей, выпущенных в период (1940, 1955] годов; объекты старше стоят в разы меньше, а стоимость более молодых объектов снижается до периода (1985, 2000], после чего опять растет.\n",
        "Современные автомобили в среднем стоят примерно в два раза дешевле раритетных.\n",
        "\n",
        "Для построения более робастной модели целесообразно признак года заменить на возраст. \n",
        "В этом случае модель можно будет применять и в будущем без доработок.\n",
        "\n",
        "Примечательно, что в таблице присутствуют объекты из будущего - дата регистрации которых старше даты выгрузки из базы.\n",
        "Такие значения наряду с очень старыими (старше 100 лет) будем считать выбросами и обработаем их, заменив на значение `-1`."
      ]
    },
    {
      "cell_type": "code",
      "execution_count": 14,
      "id": "14acf677-085f-4606-aadd-833952af2950",
      "metadata": {
        "colab": {
          "base_uri": "https://localhost:8080/",
          "height": 265
        },
        "id": "14acf677-085f-4606-aadd-833952af2950",
        "outputId": "98f0303f-0f2c-4153-912c-5be832dda953"
      },
      "outputs": [
        {
          "output_type": "display_data",
          "data": {
            "text/plain": [
              "<Figure size 432x288 with 1 Axes>"
            ],
            "image/png": "[encoded data removed]"
          },
          "metadata": {}
        }
      ],
      "source": [
        "df[\"age\"] = 2016 - df[\"registration_year\"].values\n",
        "df.loc[(df[\"age\"] < 0) | (df[\"age\"] > 100), \"age\"] = -1\n",
        "\n",
        "X.remove(\"registration_year\")\n",
        "X.append(\"age\")\n",
        "\n",
        "df[\"age\"].hist(range=(0, 100), bins=30)\n",
        "plt.show()"
      ]
    },
    {
      "cell_type": "markdown",
      "id": "5ff284d3-ed4b-4cd3-ac8d-1ddad3672272",
      "metadata": {
        "id": "5ff284d3-ed4b-4cd3-ac8d-1ddad3672272"
      },
      "source": [
        "После проведенной обработки данные в столбце `age` имеют распределение Пуассона."
      ]
    },
    {
      "cell_type": "markdown",
      "id": "dfc07140-ff69-4794-affe-591ac0bd1357",
      "metadata": {
        "id": "dfc07140-ff69-4794-affe-591ac0bd1357"
      },
      "source": [
        "### Признак `power`"
      ]
    },
    {
      "cell_type": "markdown",
      "id": "abf4f651-c554-49ad-a9de-bf213c6eb998",
      "metadata": {
        "id": "abf4f651-c554-49ad-a9de-bf213c6eb998"
      },
      "source": [
        "Выведем общую информацию по столбцу и, аналогично признаку `registration_year`, разделим данные на группы в диапазоне от 50 л.с. (чуть менее 25го перцентиля) до 250 л.с. (современный уровень большинства автомобилей) и построим сводную таблицу."
      ]
    },
    {
      "cell_type": "code",
      "execution_count": 15,
      "id": "9a041ee3-726f-4c51-81ec-0a6381ebd08d",
      "metadata": {
        "colab": {
          "base_uri": "https://localhost:8080/"
        },
        "id": "9a041ee3-726f-4c51-81ec-0a6381ebd08d",
        "outputId": "c1a1430b-3de4-46c6-ff3e-a9a88a8eda1f"
      },
      "outputs": [
        {
          "output_type": "execute_result",
          "data": {
            "text/plain": [
              "count    334921.000000\n",
              "mean        112.413721\n",
              "std         187.203968\n",
              "min           0.000000\n",
              "25%          72.000000\n",
              "50%         105.000000\n",
              "75%         143.000000\n",
              "max       20000.000000\n",
              "Name: power, dtype: float64"
            ]
          },
          "metadata": {},
          "execution_count": 15
        }
      ],
      "source": [
        "df[\"power\"].describe()"
      ]
    },
    {
      "cell_type": "code",
      "execution_count": 16,
      "id": "794e2bdb-bac4-4036-8935-51dbc6686f3a",
      "metadata": {
        "colab": {
          "base_uri": "https://localhost:8080/",
          "height": 269
        },
        "id": "794e2bdb-bac4-4036-8935-51dbc6686f3a",
        "outputId": "92a50afc-90ac-480c-9502-a8442356dfbc"
      },
      "outputs": [
        {
          "output_type": "execute_result",
          "data": {
            "text/plain": [
              "                 count   median          mean\n",
              "power_group                                  \n",
              "(-inf, 50.0]     42357   1300.0   2456.297495\n",
              "(50.0, 125.0]   175590   2200.0   3415.303599\n",
              "(125.0, 200.0]   94675   5500.0   6674.323295\n",
              "(200.0, 275.0]   17263   9900.0  10175.484389\n",
              "(275.0, 350.0]    3905  10499.0  10550.526504\n",
              "(350.0, inf]      1131  10999.0  10242.206897"
            ],
            "text/html": [
              "\n",
              "  <div id=\"df-731a732b-f6a4-49ff-a9b3-ba883f49eee0\">\n",
              "    <div class=\"colab-df-container\">\n",
              "      <div>\n",
              "<style scoped>\n",
              "    .dataframe tbody tr th:only-of-type {\n",
              "        vertical-align: middle;\n",
              "    }\n",
              "\n",
              "    .dataframe tbody tr th {\n",
              "        vertical-align: top;\n",
              "    }\n",
              "\n",
              "    .dataframe thead th {\n",
              "        text-align: right;\n",
              "    }\n",
              "</style>\n",
              "<table border=\"1\" class=\"dataframe\">\n",
              "  <thead>\n",
              "    <tr style=\"text-align: right;\">\n",
              "      <th></th>\n",
              "      <th>count</th>\n",
              "      <th>median</th>\n",
              "      <th>mean</th>\n",
              "    </tr>\n",
              "    <tr>\n",
              "      <th>power_group</th>\n",
              "      <th></th>\n",
              "      <th></th>\n",
              "      <th></th>\n",
              "    </tr>\n",
              "  </thead>\n",
              "  <tbody>\n",
              "    <tr>\n",
              "      <th>(-inf, 50.0]</th>\n",
              "      <td>42357</td>\n",
              "      <td>1300.0</td>\n",
              "      <td>2456.297495</td>\n",
              "    </tr>\n",
              "    <tr>\n",
              "      <th>(50.0, 125.0]</th>\n",
              "      <td>175590</td>\n",
              "      <td>2200.0</td>\n",
              "      <td>3415.303599</td>\n",
              "    </tr>\n",
              "    <tr>\n",
              "      <th>(125.0, 200.0]</th>\n",
              "      <td>94675</td>\n",
              "      <td>5500.0</td>\n",
              "      <td>6674.323295</td>\n",
              "    </tr>\n",
              "    <tr>\n",
              "      <th>(200.0, 275.0]</th>\n",
              "      <td>17263</td>\n",
              "      <td>9900.0</td>\n",
              "      <td>10175.484389</td>\n",
              "    </tr>\n",
              "    <tr>\n",
              "      <th>(275.0, 350.0]</th>\n",
              "      <td>3905</td>\n",
              "      <td>10499.0</td>\n",
              "      <td>10550.526504</td>\n",
              "    </tr>\n",
              "    <tr>\n",
              "      <th>(350.0, inf]</th>\n",
              "      <td>1131</td>\n",
              "      <td>10999.0</td>\n",
              "      <td>10242.206897</td>\n",
              "    </tr>\n",
              "  </tbody>\n",
              "</table>\n",
              "</div>\n",
              "      <button class=\"colab-df-convert\" onclick=\"convertToInteractive('df-731a732b-f6a4-49ff-a9b3-ba883f49eee0')\"\n",
              "              title=\"Convert this dataframe to an interactive table.\"\n",
              "              style=\"display:none;\">\n",
              "        \n",
              "  <svg xmlns=\"http://www.w3.org/2000/svg\" height=\"24px\"viewBox=\"0 0 24 24\"\n",
              "       width=\"24px\">\n",
              "    <path d=\"M0 0h24v24H0V0z\" fill=\"none\"/>\n",
              "    <path d=\"M18.56 5.44l.94 2.06.94-2.06 2.06-.94-2.06-.94-.94-2.06-.94 2.06-2.06.94zm-11 1L8.5 8.5l.94-2.06 2.06-.94-2.06-.94L8.5 2.5l-.94 2.06-2.06.94zm10 10l.94 2.06.94-2.06 2.06-.94-2.06-.94-.94-2.06-.94 2.06-2.06.94z\"/><path d=\"M17.41 7.96l-1.37-1.37c-.4-.4-.92-.59-1.43-.59-.52 0-1.04.2-1.43.59L10.3 9.45l-7.72 7.72c-.78.78-.78 2.05 0 2.83L4 21.41c.39.39.9.59 1.41.59.51 0 1.02-.2 1.41-.59l7.78-7.78 2.81-2.81c.8-.78.8-2.07 0-2.86zM5.41 20L4 18.59l7.72-7.72 1.47 1.35L5.41 20z\"/>\n",
              "  </svg>\n",
              "      </button>\n",
              "      \n",
              "  <style>\n",
              "    .colab-df-container {\n",
              "      display:flex;\n",
              "      flex-wrap:wrap;\n",
              "      gap: 12px;\n",
              "    }\n",
              "\n",
              "    .colab-df-convert {\n",
              "      background-color: #E8F0FE;\n",
              "      border: none;\n",
              "      border-radius: 50%;\n",
              "      cursor: pointer;\n",
              "      display: none;\n",
              "      fill: #1967D2;\n",
              "      height: 32px;\n",
              "      padding: 0 0 0 0;\n",
              "      width: 32px;\n",
              "    }\n",
              "\n",
              "    .colab-df-convert:hover {\n",
              "      background-color: #E2EBFA;\n",
              "      box-shadow: 0px 1px 2px rgba(60, 64, 67, 0.3), 0px 1px 3px 1px rgba(60, 64, 67, 0.15);\n",
              "      fill: #174EA6;\n",
              "    }\n",
              "\n",
              "    [theme=dark] .colab-df-convert {\n",
              "      background-color: #3B4455;\n",
              "      fill: #D2E3FC;\n",
              "    }\n",
              "\n",
              "    [theme=dark] .colab-df-convert:hover {\n",
              "      background-color: #434B5C;\n",
              "      box-shadow: 0px 1px 3px 1px rgba(0, 0, 0, 0.15);\n",
              "      filter: drop-shadow(0px 1px 2px rgba(0, 0, 0, 0.3));\n",
              "      fill: #FFFFFF;\n",
              "    }\n",
              "  </style>\n",
              "\n",
              "      <script>\n",
              "        const buttonEl =\n",
              "          document.querySelector('#df-731a732b-f6a4-49ff-a9b3-ba883f49eee0 button.colab-df-convert');\n",
              "        buttonEl.style.display =\n",
              "          google.colab.kernel.accessAllowed ? 'block' : 'none';\n",
              "\n",
              "        async function convertToInteractive(key) {\n",
              "          const element = document.querySelector('#df-731a732b-f6a4-49ff-a9b3-ba883f49eee0');\n",
              "          const dataTable =\n",
              "            await google.colab.kernel.invokeFunction('convertToInteractive',\n",
              "                                                     [key], {});\n",
              "          if (!dataTable) return;\n",
              "\n",
              "          const docLinkHtml = 'Like what you see? Visit the ' +\n",
              "            '<a target=\"_blank\" href=https://colab.research.google.com/notebooks/data_table.ipynb>data table notebook</a>'\n",
              "            + ' to learn more about interactive tables.';\n",
              "          element.innerHTML = '';\n",
              "          dataTable['output_type'] = 'display_data';\n",
              "          await google.colab.output.renderOutput(dataTable, element);\n",
              "          const docLink = document.createElement('div');\n",
              "          docLink.innerHTML = docLinkHtml;\n",
              "          element.appendChild(docLink);\n",
              "        }\n",
              "      </script>\n",
              "    </div>\n",
              "  </div>\n",
              "  "
            ]
          },
          "metadata": {},
          "execution_count": 16
        }
      ],
      "source": [
        "grouped_feature(\"power\", 50, 350, 5)"
      ]
    },
    {
      "cell_type": "markdown",
      "id": "7b2377cf-2254-4f07-8c99-d123a96cbfc5",
      "metadata": {
        "id": "7b2377cf-2254-4f07-8c99-d123a96cbfc5"
      },
      "source": [
        "Из полученных таблиц видно, что средняя цена автомобиля увеличивается с увеличением мощности его двигателя - что логично. \n",
        "При этом в данных присутствуют выбросы, которые могут быть связаны с неправильной интерпретацией единиц измерения (кВт или Вт вместо л.с.), опечатками при заполнении соответствующих полей пользователями или техническим сбоем при выгрузке данных из базы.\n",
        "Выбивающиеся за рамки разумного значения приравняем к `-1`."
      ]
    },
    {
      "cell_type": "code",
      "execution_count": 17,
      "id": "31568127-f366-402e-825d-3242295e9bff",
      "metadata": {
        "colab": {
          "base_uri": "https://localhost:8080/",
          "height": 265
        },
        "id": "31568127-f366-402e-825d-3242295e9bff",
        "outputId": "9f37166e-223d-41a3-c8a0-49c660e1e617"
      },
      "outputs": [
        {
          "output_type": "display_data",
          "data": {
            "text/plain": [
              "<Figure size 432x288 with 1 Axes>"
            ],
            "image/png": "[encoded data removed]"
          },
          "metadata": {}
        }
      ],
      "source": [
        "df.loc[(df[\"power\"] < 50) | (df[\"power\"] > 350), \"power\"] = -1\n",
        "df[\"power\"].hist(range=(50, 350), bins=15)\n",
        "plt.show()"
      ]
    },
    {
      "cell_type": "markdown",
      "id": "d0fcef95-a6ba-4cf3-aa9c-c7de349b9f7a",
      "metadata": {
        "id": "d0fcef95-a6ba-4cf3-aa9c-c7de349b9f7a"
      },
      "source": [
        "Полученное распределение соответствует Пуассоновому с шумовой составляющей, которая объясняется дискретностью характеристики мощности для разных моделей."
      ]
    },
    {
      "cell_type": "markdown",
      "id": "38740641-2016-432c-a6ac-bafa0a124798",
      "metadata": {
        "id": "38740641-2016-432c-a6ac-bafa0a124798"
      },
      "source": [
        "### Признак `registration_month`"
      ]
    },
    {
      "cell_type": "markdown",
      "id": "7a6650c3-84e9-4372-bd96-4d8878d5f795",
      "metadata": {
        "id": "7a6650c3-84e9-4372-bd96-4d8878d5f795"
      },
      "source": [
        "Построим графики количества автомобилей и средней стоимости в зависимости от месяца их регистрации."
      ]
    },
    {
      "cell_type": "code",
      "execution_count": 18,
      "id": "c5ef86e1-cb34-41ee-82ad-a18558a1a25b",
      "metadata": {
        "colab": {
          "base_uri": "https://localhost:8080/",
          "height": 335
        },
        "id": "c5ef86e1-cb34-41ee-82ad-a18558a1a25b",
        "outputId": "192700cd-347a-4259-efa0-e18754454314"
      },
      "outputs": [
        {
          "output_type": "display_data",
          "data": {
            "text/plain": [
              "<Figure size 1296x360 with 2 Axes>"
            ],
            "image/png": "[encoded data removed]"
          },
          "metadata": {}
        }
      ],
      "source": [
        "_, axs = plt.subplots(1, 2, figsize=(18, 5))\n",
        "\n",
        "df.groupby(\"registration_month\")[\"price\"].count().plot(ax=axs[0])\n",
        "axs[0].set_ylabel(\"Количество объектов, шт.\")\n",
        "df.groupby(\"registration_month\")[\"price\"].mean().plot(ax=axs[1])\n",
        "axs[1].set_ylabel(\"Средняя стоимость, евро\")\n",
        "\n",
        "plt.show()"
      ]
    },
    {
      "cell_type": "markdown",
      "id": "4709f8c3-56f5-4dfa-bc14-19077de7a87e",
      "metadata": {
        "id": "4709f8c3-56f5-4dfa-bc14-19077de7a87e"
      },
      "source": [
        "По графикам хорошо видно, что в данных есть нулевой месяц.\n",
        "При этом количество объявлений для него не сильно отличается от остальных месяцев, в то время как средняя стоимость автомобелей с таким признаком примерно в 2 раза ниже остальных.\n",
        "Несмотря на то, что такое значение является аномальным, оставим его без изменений, так как оно явно выделяется на фоне остальных значений и равносильно любой другой отметке об его аномальности. \n",
        "\n",
        "По остальным месяцам можно сделать вывод, что большее количество автомобилей продается в весенние и летние месяцы, однако это не влияет на их стоимость."
      ]
    },
    {
      "cell_type": "markdown",
      "id": "7f5624a8-1281-4dcb-add1-8de987e480d0",
      "metadata": {
        "id": "7f5624a8-1281-4dcb-add1-8de987e480d0"
      },
      "source": [
        "### Признак `number_of_pictures`"
      ]
    },
    {
      "cell_type": "markdown",
      "id": "4eb7f167-c3c8-40db-be9d-ebe2fd416bd3",
      "metadata": {
        "id": "4eb7f167-c3c8-40db-be9d-ebe2fd416bd3"
      },
      "source": [
        "Выведем количество уникальных значений для признака."
      ]
    },
    {
      "cell_type": "code",
      "execution_count": 19,
      "id": "e593d0ae-5ec2-4415-a0ed-ebea6b115007",
      "metadata": {
        "colab": {
          "base_uri": "https://localhost:8080/"
        },
        "id": "e593d0ae-5ec2-4415-a0ed-ebea6b115007",
        "outputId": "bdc0f8d6-fc0e-4224-fa6b-ef0c417d2296"
      },
      "outputs": [
        {
          "output_type": "execute_result",
          "data": {
            "text/plain": [
              "1"
            ]
          },
          "metadata": {},
          "execution_count": 19
        }
      ],
      "source": [
        "df[\"number_of_pictures\"].nunique()"
      ]
    },
    {
      "cell_type": "markdown",
      "id": "79710985-d02c-42be-a373-de4404667e78",
      "metadata": {
        "id": "79710985-d02c-42be-a373-de4404667e78"
      },
      "source": [
        "Очевидно, что рассматриваемый признак неинформативный.\n",
        "В этой связи, его можно исключить из списка признаков."
      ]
    },
    {
      "cell_type": "code",
      "execution_count": 20,
      "id": "27adf421-c5a1-48a9-a96f-3b762028618f",
      "metadata": {
        "id": "27adf421-c5a1-48a9-a96f-3b762028618f"
      },
      "outputs": [],
      "source": [
        "X.remove(\"number_of_pictures\")"
      ]
    },
    {
      "cell_type": "markdown",
      "id": "e32161d1-5716-4b14-a04a-71d1c9c12d18",
      "metadata": {
        "id": "e32161d1-5716-4b14-a04a-71d1c9c12d18"
      },
      "source": [
        "### Признак `postal_code`"
      ]
    },
    {
      "cell_type": "markdown",
      "id": "49d2ffba-25c7-44cf-9287-2e05398b5baf",
      "metadata": {
        "id": "49d2ffba-25c7-44cf-9287-2e05398b5baf"
      },
      "source": [
        "Выведем количество уникальных значений для признака."
      ]
    },
    {
      "cell_type": "code",
      "execution_count": 21,
      "id": "cf684c1b-b07f-4654-aef7-c44f0f2f1110",
      "metadata": {
        "colab": {
          "base_uri": "https://localhost:8080/"
        },
        "id": "cf684c1b-b07f-4654-aef7-c44f0f2f1110",
        "outputId": "c2e43e40-4b00-4855-c007-2068944d4747"
      },
      "outputs": [
        {
          "output_type": "execute_result",
          "data": {
            "text/plain": [
              "8132"
            ]
          },
          "metadata": {},
          "execution_count": 21
        }
      ],
      "source": [
        "df[\"postal_code\"].nunique() "
      ]
    },
    {
      "cell_type": "markdown",
      "id": "42cdf51e-0aaf-485f-a6e7-559e896dafaf",
      "metadata": {
        "id": "42cdf51e-0aaf-485f-a6e7-559e896dafaf"
      },
      "source": [
        "Значений достаточно большое количество.\n",
        "Для их анализа построим графики зависимости цены средней цены объекта от почтового индекса и аналогичной зависимости с осреднением по 1000 значениям (получено имперически)."
      ]
    },
    {
      "cell_type": "code",
      "execution_count": 22,
      "id": "f23a62ee-8011-4df5-a1ad-461958c44e3f",
      "metadata": {
        "colab": {
          "base_uri": "https://localhost:8080/",
          "height": 335
        },
        "id": "f23a62ee-8011-4df5-a1ad-461958c44e3f",
        "outputId": "609e4bf4-9a33-4084-9ea3-fff84ea51a1c"
      },
      "outputs": [
        {
          "output_type": "display_data",
          "data": {
            "text/plain": [
              "<Figure size 1296x360 with 2 Axes>"
            ],
            "image/png": "[encoded data removed]"
          },
          "metadata": {}
        }
      ],
      "source": [
        "_, axs = plt.subplots(1, 2, figsize=(18, 5))\n",
        "df.groupby('postal_code')[\"price\"].agg(['mean']).plot(ax=axs[0])\n",
        "df.groupby('postal_code')[\"price\"].agg(['mean']).rolling(1000).mean().plot(ax=axs[1])\n",
        "plt.show()"
      ]
    },
    {
      "cell_type": "markdown",
      "id": "867cc8bf-1bcb-4d8b-ba77-33449677e7f0",
      "metadata": {
        "tags": [],
        "id": "867cc8bf-1bcb-4d8b-ba77-33449677e7f0"
      },
      "source": [
        "По графикам видно, что есть зависимость цены от почтового индекса или, что то же самое, региона продажи.\n",
        "При этом эта зависимость проявляется только при осреднении 1000 значений. \n",
        "Меньшее осреднение не позволяет выделить тренд от шумамов, а большее становится не информативным.\n",
        "В этой связи, для повышения качества моделирования, округлим значение признака до 1000.\n",
        "Учитывая, что данный признак не подлежит количественному измерению, его следует отнести к категориальным при выполнении непосредственного моделирования."
      ]
    },
    {
      "cell_type": "code",
      "execution_count": 23,
      "id": "bb8ba573-3409-4447-bc00-d6449123b7d3",
      "metadata": {
        "tags": [],
        "id": "bb8ba573-3409-4447-bc00-d6449123b7d3"
      },
      "outputs": [],
      "source": [
        "df['postal_code'] = round(df['postal_code'] // 1000, 0)"
      ]
    },
    {
      "cell_type": "markdown",
      "id": "5abd0d5d-6c94-4a39-bbf3-cd1ad6ceba9f",
      "metadata": {
        "id": "5abd0d5d-6c94-4a39-bbf3-cd1ad6ceba9f"
      },
      "source": [
        "Проверим количество уникальных значений признака."
      ]
    },
    {
      "cell_type": "code",
      "execution_count": 24,
      "id": "945690a5-90f8-4a6c-928d-04cb2bc72039",
      "metadata": {
        "colab": {
          "base_uri": "https://localhost:8080/"
        },
        "id": "945690a5-90f8-4a6c-928d-04cb2bc72039",
        "outputId": "4a930e8e-a32e-4a43-96be-8ed0661441c9"
      },
      "outputs": [
        {
          "output_type": "execute_result",
          "data": {
            "text/plain": [
              "95"
            ]
          },
          "metadata": {},
          "execution_count": 24
        }
      ],
      "source": [
        "df[\"postal_code\"].nunique() "
      ]
    },
    {
      "cell_type": "markdown",
      "id": "b967d499-63ff-4ea1-93b9-59ebd0aa3872",
      "metadata": {
        "id": "b967d499-63ff-4ea1-93b9-59ebd0aa3872"
      },
      "source": [
        "Значение сократилось примерно в 90 раз."
      ]
    },
    {
      "cell_type": "markdown",
      "id": "6674767b-7642-4fc5-91ce-5c329d3c69b1",
      "metadata": {
        "tags": [],
        "id": "6674767b-7642-4fc5-91ce-5c329d3c69b1"
      },
      "source": [
        "## Категориальные признаки"
      ]
    },
    {
      "cell_type": "markdown",
      "id": "073f7b2f-adef-4a7f-ba56-c8cea428db7e",
      "metadata": {
        "id": "073f7b2f-adef-4a7f-ba56-c8cea428db7e"
      },
      "source": [
        "### Признак `vehicle_type`"
      ]
    },
    {
      "cell_type": "markdown",
      "id": "856e4c7c-399f-4d56-9ae7-a06dc525a289",
      "metadata": {
        "id": "856e4c7c-399f-4d56-9ae7-a06dc525a289"
      },
      "source": [
        "Построим сводную таблицу по признаку."
      ]
    },
    {
      "cell_type": "code",
      "execution_count": 25,
      "id": "39c84d31-ba51-45e4-b5c1-7741a6007d96",
      "metadata": {
        "colab": {
          "base_uri": "https://localhost:8080/",
          "height": 363
        },
        "id": "39c84d31-ba51-45e4-b5c1-7741a6007d96",
        "outputId": "3e72daa9-64e1-4059-b276-de29a37c3770"
      },
      "outputs": [
        {
          "output_type": "execute_result",
          "data": {
            "text/plain": [
              "              count  median         mean\n",
              "vehicle_type                            \n",
              "bus           28183  4350.0  5601.830217\n",
              "convertible   19763  5500.0  6958.124627\n",
              "coupe         15376  4250.0  6316.529917\n",
              "other          2981  2500.0  3926.923516\n",
              "sedan         88275  3199.0  4891.310700\n",
              "small         74808  1699.0  2851.434432\n",
              "suv           11751  8650.0  9196.874309\n",
              "wagon         62914  3400.0  5053.519535\n",
              "NaN           30870  1550.0  2874.964723"
            ],
            "text/html": [
              "\n",
              "  <div id=\"df-766e0ff6-3fab-435e-8857-e624d10aac1b\">\n",
              "    <div class=\"colab-df-container\">\n",
              "      <div>\n",
              "<style scoped>\n",
              "    .dataframe tbody tr th:only-of-type {\n",
              "        vertical-align: middle;\n",
              "    }\n",
              "\n",
              "    .dataframe tbody tr th {\n",
              "        vertical-align: top;\n",
              "    }\n",
              "\n",
              "    .dataframe thead th {\n",
              "        text-align: right;\n",
              "    }\n",
              "</style>\n",
              "<table border=\"1\" class=\"dataframe\">\n",
              "  <thead>\n",
              "    <tr style=\"text-align: right;\">\n",
              "      <th></th>\n",
              "      <th>count</th>\n",
              "      <th>median</th>\n",
              "      <th>mean</th>\n",
              "    </tr>\n",
              "    <tr>\n",
              "      <th>vehicle_type</th>\n",
              "      <th></th>\n",
              "      <th></th>\n",
              "      <th></th>\n",
              "    </tr>\n",
              "  </thead>\n",
              "  <tbody>\n",
              "    <tr>\n",
              "      <th>bus</th>\n",
              "      <td>28183</td>\n",
              "      <td>4350.0</td>\n",
              "      <td>5601.830217</td>\n",
              "    </tr>\n",
              "    <tr>\n",
              "      <th>convertible</th>\n",
              "      <td>19763</td>\n",
              "      <td>5500.0</td>\n",
              "      <td>6958.124627</td>\n",
              "    </tr>\n",
              "    <tr>\n",
              "      <th>coupe</th>\n",
              "      <td>15376</td>\n",
              "      <td>4250.0</td>\n",
              "      <td>6316.529917</td>\n",
              "    </tr>\n",
              "    <tr>\n",
              "      <th>other</th>\n",
              "      <td>2981</td>\n",
              "      <td>2500.0</td>\n",
              "      <td>3926.923516</td>\n",
              "    </tr>\n",
              "    <tr>\n",
              "      <th>sedan</th>\n",
              "      <td>88275</td>\n",
              "      <td>3199.0</td>\n",
              "      <td>4891.310700</td>\n",
              "    </tr>\n",
              "    <tr>\n",
              "      <th>small</th>\n",
              "      <td>74808</td>\n",
              "      <td>1699.0</td>\n",
              "      <td>2851.434432</td>\n",
              "    </tr>\n",
              "    <tr>\n",
              "      <th>suv</th>\n",
              "      <td>11751</td>\n",
              "      <td>8650.0</td>\n",
              "      <td>9196.874309</td>\n",
              "    </tr>\n",
              "    <tr>\n",
              "      <th>wagon</th>\n",
              "      <td>62914</td>\n",
              "      <td>3400.0</td>\n",
              "      <td>5053.519535</td>\n",
              "    </tr>\n",
              "    <tr>\n",
              "      <th>NaN</th>\n",
              "      <td>30870</td>\n",
              "      <td>1550.0</td>\n",
              "      <td>2874.964723</td>\n",
              "    </tr>\n",
              "  </tbody>\n",
              "</table>\n",
              "</div>\n",
              "      <button class=\"colab-df-convert\" onclick=\"convertToInteractive('df-766e0ff6-3fab-435e-8857-e624d10aac1b')\"\n",
              "              title=\"Convert this dataframe to an interactive table.\"\n",
              "              style=\"display:none;\">\n",
              "        \n",
              "  <svg xmlns=\"http://www.w3.org/2000/svg\" height=\"24px\"viewBox=\"0 0 24 24\"\n",
              "       width=\"24px\">\n",
              "    <path d=\"M0 0h24v24H0V0z\" fill=\"none\"/>\n",
              "    <path d=\"M18.56 5.44l.94 2.06.94-2.06 2.06-.94-2.06-.94-.94-2.06-.94 2.06-2.06.94zm-11 1L8.5 8.5l.94-2.06 2.06-.94-2.06-.94L8.5 2.5l-.94 2.06-2.06.94zm10 10l.94 2.06.94-2.06 2.06-.94-2.06-.94-.94-2.06-.94 2.06-2.06.94z\"/><path d=\"M17.41 7.96l-1.37-1.37c-.4-.4-.92-.59-1.43-.59-.52 0-1.04.2-1.43.59L10.3 9.45l-7.72 7.72c-.78.78-.78 2.05 0 2.83L4 21.41c.39.39.9.59 1.41.59.51 0 1.02-.2 1.41-.59l7.78-7.78 2.81-2.81c.8-.78.8-2.07 0-2.86zM5.41 20L4 18.59l7.72-7.72 1.47 1.35L5.41 20z\"/>\n",
              "  </svg>\n",
              "      </button>\n",
              "      \n",
              "  <style>\n",
              "    .colab-df-container {\n",
              "      display:flex;\n",
              "      flex-wrap:wrap;\n",
              "      gap: 12px;\n",
              "    }\n",
              "\n",
              "    .colab-df-convert {\n",
              "      background-color: #E8F0FE;\n",
              "      border: none;\n",
              "      border-radius: 50%;\n",
              "      cursor: pointer;\n",
              "      display: none;\n",
              "      fill: #1967D2;\n",
              "      height: 32px;\n",
              "      padding: 0 0 0 0;\n",
              "      width: 32px;\n",
              "    }\n",
              "\n",
              "    .colab-df-convert:hover {\n",
              "      background-color: #E2EBFA;\n",
              "      box-shadow: 0px 1px 2px rgba(60, 64, 67, 0.3), 0px 1px 3px 1px rgba(60, 64, 67, 0.15);\n",
              "      fill: #174EA6;\n",
              "    }\n",
              "\n",
              "    [theme=dark] .colab-df-convert {\n",
              "      background-color: #3B4455;\n",
              "      fill: #D2E3FC;\n",
              "    }\n",
              "\n",
              "    [theme=dark] .colab-df-convert:hover {\n",
              "      background-color: #434B5C;\n",
              "      box-shadow: 0px 1px 3px 1px rgba(0, 0, 0, 0.15);\n",
              "      filter: drop-shadow(0px 1px 2px rgba(0, 0, 0, 0.3));\n",
              "      fill: #FFFFFF;\n",
              "    }\n",
              "  </style>\n",
              "\n",
              "      <script>\n",
              "        const buttonEl =\n",
              "          document.querySelector('#df-766e0ff6-3fab-435e-8857-e624d10aac1b button.colab-df-convert');\n",
              "        buttonEl.style.display =\n",
              "          google.colab.kernel.accessAllowed ? 'block' : 'none';\n",
              "\n",
              "        async function convertToInteractive(key) {\n",
              "          const element = document.querySelector('#df-766e0ff6-3fab-435e-8857-e624d10aac1b');\n",
              "          const dataTable =\n",
              "            await google.colab.kernel.invokeFunction('convertToInteractive',\n",
              "                                                     [key], {});\n",
              "          if (!dataTable) return;\n",
              "\n",
              "          const docLinkHtml = 'Like what you see? Visit the ' +\n",
              "            '<a target=\"_blank\" href=https://colab.research.google.com/notebooks/data_table.ipynb>data table notebook</a>'\n",
              "            + ' to learn more about interactive tables.';\n",
              "          element.innerHTML = '';\n",
              "          dataTable['output_type'] = 'display_data';\n",
              "          await google.colab.output.renderOutput(dataTable, element);\n",
              "          const docLink = document.createElement('div');\n",
              "          docLink.innerHTML = docLinkHtml;\n",
              "          element.appendChild(docLink);\n",
              "        }\n",
              "      </script>\n",
              "    </div>\n",
              "  </div>\n",
              "  "
            ]
          },
          "metadata": {},
          "execution_count": 25
        }
      ],
      "source": [
        "df.groupby([\"vehicle_type\"], dropna=False)[\"price\"].agg([\"count\", \"median\", \"mean\"])"
      ]
    },
    {
      "cell_type": "markdown",
      "id": "fd4529c6-4140-4897-9445-fd2c221dd414",
      "metadata": {
        "id": "fd4529c6-4140-4897-9445-fd2c221dd414"
      },
      "source": [
        "Из таблицы видно, что в целом, данные соответствуют действительности.\n",
        "Во-первых, больше всего продаются седаны и малолитражки.\n",
        "Во-вторых, наиболее дорогие автомобили - это кроссоверы и кабриолеты.\n",
        "Примечательно, что медиана и среднее значение стоимости отличаются от 5% до 20%, что говорит о больших разбросах по цене разных типов авто.  \n",
        "\n",
        "В датафрейме около 10% объектов не содержат данных о типе автомобиля. \n",
        "Для успешной обработки таких значений различными типами моделей заменим их на строку `other`."
      ]
    },
    {
      "cell_type": "code",
      "execution_count": 26,
      "id": "89c41079-dc27-498d-8ae8-5a21f634d738",
      "metadata": {
        "colab": {
          "base_uri": "https://localhost:8080/"
        },
        "id": "89c41079-dc27-498d-8ae8-5a21f634d738",
        "outputId": "af7d8400-4140-4d0d-a8c6-5ec19f25e215"
      },
      "outputs": [
        {
          "output_type": "execute_result",
          "data": {
            "text/plain": [
              "0"
            ]
          },
          "metadata": {},
          "execution_count": 26
        }
      ],
      "source": [
        "df[\"vehicle_type\"] = df[\"vehicle_type\"].fillna(\"other\")\n",
        "df[\"vehicle_type\"].isna().sum()"
      ]
    },
    {
      "cell_type": "markdown",
      "id": "008774b0-8675-40ec-abc5-5c4bb052edfb",
      "metadata": {
        "id": "008774b0-8675-40ec-abc5-5c4bb052edfb"
      },
      "source": [
        "### Признак `gearbox`"
      ]
    },
    {
      "cell_type": "markdown",
      "id": "0f941be8-2d9b-4191-84d9-eb29dc114209",
      "metadata": {
        "id": "0f941be8-2d9b-4191-84d9-eb29dc114209"
      },
      "source": [
        "Построим сводную таблицу по признаку."
      ]
    },
    {
      "cell_type": "code",
      "execution_count": 27,
      "id": "b5d7610b-4600-44f4-a7ed-3325392ef7c4",
      "metadata": {
        "colab": {
          "base_uri": "https://localhost:8080/",
          "height": 175
        },
        "id": "b5d7610b-4600-44f4-a7ed-3325392ef7c4",
        "outputId": "60bee281-b159-4372-d8ca-a1f9026557fa"
      },
      "outputs": [
        {
          "output_type": "execute_result",
          "data": {
            "text/plain": [
              "          count  median         mean\n",
              "gearbox                             \n",
              "auto      64377  5750.0  7044.076145\n",
              "manual   255270  2600.0  4179.988338\n",
              "NaN       15274  1700.0  2852.371743"
            ],
            "text/html": [
              "\n",
              "  <div id=\"df-44ec2fa2-9fdf-46b0-8f10-07848c334d20\">\n",
              "    <div class=\"colab-df-container\">\n",
              "      <div>\n",
              "<style scoped>\n",
              "    .dataframe tbody tr th:only-of-type {\n",
              "        vertical-align: middle;\n",
              "    }\n",
              "\n",
              "    .dataframe tbody tr th {\n",
              "        vertical-align: top;\n",
              "    }\n",
              "\n",
              "    .dataframe thead th {\n",
              "        text-align: right;\n",
              "    }\n",
              "</style>\n",
              "<table border=\"1\" class=\"dataframe\">\n",
              "  <thead>\n",
              "    <tr style=\"text-align: right;\">\n",
              "      <th></th>\n",
              "      <th>count</th>\n",
              "      <th>median</th>\n",
              "      <th>mean</th>\n",
              "    </tr>\n",
              "    <tr>\n",
              "      <th>gearbox</th>\n",
              "      <th></th>\n",
              "      <th></th>\n",
              "      <th></th>\n",
              "    </tr>\n",
              "  </thead>\n",
              "  <tbody>\n",
              "    <tr>\n",
              "      <th>auto</th>\n",
              "      <td>64377</td>\n",
              "      <td>5750.0</td>\n",
              "      <td>7044.076145</td>\n",
              "    </tr>\n",
              "    <tr>\n",
              "      <th>manual</th>\n",
              "      <td>255270</td>\n",
              "      <td>2600.0</td>\n",
              "      <td>4179.988338</td>\n",
              "    </tr>\n",
              "    <tr>\n",
              "      <th>NaN</th>\n",
              "      <td>15274</td>\n",
              "      <td>1700.0</td>\n",
              "      <td>2852.371743</td>\n",
              "    </tr>\n",
              "  </tbody>\n",
              "</table>\n",
              "</div>\n",
              "      <button class=\"colab-df-convert\" onclick=\"convertToInteractive('df-44ec2fa2-9fdf-46b0-8f10-07848c334d20')\"\n",
              "              title=\"Convert this dataframe to an interactive table.\"\n",
              "              style=\"display:none;\">\n",
              "        \n",
              "  <svg xmlns=\"http://www.w3.org/2000/svg\" height=\"24px\"viewBox=\"0 0 24 24\"\n",
              "       width=\"24px\">\n",
              "    <path d=\"M0 0h24v24H0V0z\" fill=\"none\"/>\n",
              "    <path d=\"M18.56 5.44l.94 2.06.94-2.06 2.06-.94-2.06-.94-.94-2.06-.94 2.06-2.06.94zm-11 1L8.5 8.5l.94-2.06 2.06-.94-2.06-.94L8.5 2.5l-.94 2.06-2.06.94zm10 10l.94 2.06.94-2.06 2.06-.94-2.06-.94-.94-2.06-.94 2.06-2.06.94z\"/><path d=\"M17.41 7.96l-1.37-1.37c-.4-.4-.92-.59-1.43-.59-.52 0-1.04.2-1.43.59L10.3 9.45l-7.72 7.72c-.78.78-.78 2.05 0 2.83L4 21.41c.39.39.9.59 1.41.59.51 0 1.02-.2 1.41-.59l7.78-7.78 2.81-2.81c.8-.78.8-2.07 0-2.86zM5.41 20L4 18.59l7.72-7.72 1.47 1.35L5.41 20z\"/>\n",
              "  </svg>\n",
              "      </button>\n",
              "      \n",
              "  <style>\n",
              "    .colab-df-container {\n",
              "      display:flex;\n",
              "      flex-wrap:wrap;\n",
              "      gap: 12px;\n",
              "    }\n",
              "\n",
              "    .colab-df-convert {\n",
              "      background-color: #E8F0FE;\n",
              "      border: none;\n",
              "      border-radius: 50%;\n",
              "      cursor: pointer;\n",
              "      display: none;\n",
              "      fill: #1967D2;\n",
              "      height: 32px;\n",
              "      padding: 0 0 0 0;\n",
              "      width: 32px;\n",
              "    }\n",
              "\n",
              "    .colab-df-convert:hover {\n",
              "      background-color: #E2EBFA;\n",
              "      box-shadow: 0px 1px 2px rgba(60, 64, 67, 0.3), 0px 1px 3px 1px rgba(60, 64, 67, 0.15);\n",
              "      fill: #174EA6;\n",
              "    }\n",
              "\n",
              "    [theme=dark] .colab-df-convert {\n",
              "      background-color: #3B4455;\n",
              "      fill: #D2E3FC;\n",
              "    }\n",
              "\n",
              "    [theme=dark] .colab-df-convert:hover {\n",
              "      background-color: #434B5C;\n",
              "      box-shadow: 0px 1px 3px 1px rgba(0, 0, 0, 0.15);\n",
              "      filter: drop-shadow(0px 1px 2px rgba(0, 0, 0, 0.3));\n",
              "      fill: #FFFFFF;\n",
              "    }\n",
              "  </style>\n",
              "\n",
              "      <script>\n",
              "        const buttonEl =\n",
              "          document.querySelector('#df-44ec2fa2-9fdf-46b0-8f10-07848c334d20 button.colab-df-convert');\n",
              "        buttonEl.style.display =\n",
              "          google.colab.kernel.accessAllowed ? 'block' : 'none';\n",
              "\n",
              "        async function convertToInteractive(key) {\n",
              "          const element = document.querySelector('#df-44ec2fa2-9fdf-46b0-8f10-07848c334d20');\n",
              "          const dataTable =\n",
              "            await google.colab.kernel.invokeFunction('convertToInteractive',\n",
              "                                                     [key], {});\n",
              "          if (!dataTable) return;\n",
              "\n",
              "          const docLinkHtml = 'Like what you see? Visit the ' +\n",
              "            '<a target=\"_blank\" href=https://colab.research.google.com/notebooks/data_table.ipynb>data table notebook</a>'\n",
              "            + ' to learn more about interactive tables.';\n",
              "          element.innerHTML = '';\n",
              "          dataTable['output_type'] = 'display_data';\n",
              "          await google.colab.output.renderOutput(dataTable, element);\n",
              "          const docLink = document.createElement('div');\n",
              "          docLink.innerHTML = docLinkHtml;\n",
              "          element.appendChild(docLink);\n",
              "        }\n",
              "      </script>\n",
              "    </div>\n",
              "  </div>\n",
              "  "
            ]
          },
          "metadata": {},
          "execution_count": 27
        }
      ],
      "source": [
        "df.groupby([\"gearbox\"], dropna=False)[\"price\"].agg([\"count\", \"median\", \"mean\"])"
      ]
    },
    {
      "cell_type": "markdown",
      "id": "39d0bf49-2fcb-475c-b8ce-6d43da9cc4d6",
      "metadata": {
        "id": "39d0bf49-2fcb-475c-b8ce-6d43da9cc4d6"
      },
      "source": [
        "Из таблицы следует, что объявлений авто с ручной коробкой в 4,5 раза больше, но их стоимость в 1,5 меньше.\n",
        "Такой результат так же соответствует действительности.\n",
        "\n",
        "Около 5% объектов с пропусками в рассмотренном признаке. Обработаем их аналогичным образом."
      ]
    },
    {
      "cell_type": "code",
      "execution_count": 28,
      "id": "89da3ea1-971c-4bcd-b197-9617494a1138",
      "metadata": {
        "colab": {
          "base_uri": "https://localhost:8080/"
        },
        "id": "89da3ea1-971c-4bcd-b197-9617494a1138",
        "outputId": "e4261c01-8f4c-4968-eb3a-073a47c22cfb"
      },
      "outputs": [
        {
          "output_type": "execute_result",
          "data": {
            "text/plain": [
              "0"
            ]
          },
          "metadata": {},
          "execution_count": 28
        }
      ],
      "source": [
        "df[\"gearbox\"] = df[\"gearbox\"].fillna(\"other\")\n",
        "df[\"gearbox\"].isna().sum()"
      ]
    },
    {
      "cell_type": "markdown",
      "id": "a6e0d1da-bbd0-4fb3-8f30-59c1dece5c7c",
      "metadata": {
        "id": "a6e0d1da-bbd0-4fb3-8f30-59c1dece5c7c"
      },
      "source": [
        "### Признак `model`"
      ]
    },
    {
      "cell_type": "markdown",
      "id": "0626e074-caf2-4c7c-b411-f1970cc44655",
      "metadata": {
        "id": "0626e074-caf2-4c7c-b411-f1970cc44655"
      },
      "source": [
        "Определим количество уникальных моделей и выведем их полный список, а также количество пропусков в столбце."
      ]
    },
    {
      "cell_type": "code",
      "execution_count": 29,
      "id": "307e6e96-c1ae-41cf-948b-2e17d92fd269",
      "metadata": {
        "colab": {
          "base_uri": "https://localhost:8080/"
        },
        "id": "307e6e96-c1ae-41cf-948b-2e17d92fd269",
        "outputId": "7dd2c136-ca99-441a-fd5f-ffbf1b04a55f"
      },
      "outputs": [
        {
          "output_type": "execute_result",
          "data": {
            "text/plain": [
              "250"
            ]
          },
          "metadata": {},
          "execution_count": 29
        }
      ],
      "source": [
        "df[\"model\"].nunique()"
      ]
    },
    {
      "cell_type": "code",
      "execution_count": 30,
      "id": "98b1b428-96bb-4597-8e34-817f44bd49d7",
      "metadata": {
        "colab": {
          "base_uri": "https://localhost:8080/"
        },
        "id": "98b1b428-96bb-4597-8e34-817f44bd49d7",
        "outputId": "0007c52d-cd85-4fc0-ff26-2407662a01c7"
      },
      "outputs": [
        {
          "output_type": "execute_result",
          "data": {
            "text/plain": [
              "array(['golf', nan, 'grand', 'fabia', '3er', '2_reihe', 'c_max',\n",
              "       '3_reihe', 'passat', 'navara', 'ka', 'polo', 'twingo', 'a_klasse',\n",
              "       'scirocco', '5er', 'meriva', 'arosa', 'other', 'c4', 'civic',\n",
              "       'transporter', 'punto', 'e_klasse', 'clio', 'kadett', 'kangoo',\n",
              "       'one', 'fortwo', '1er', 'b_klasse', 'signum', 'astra', 'a8',\n",
              "       'jetta', 'fiesta', 'c_klasse', 'micra', 'vito', 'sprinter', '156',\n",
              "       'escort', 'forester', 'xc_reihe', 'scenic', 'a4', 'a1', 'insignia',\n",
              "       'combo', 'focus', 'tt', 'corsa', 'a6', 'jazz', 'omega', 'slk',\n",
              "       '7er', '80', '147', 'z_reihe', 'sportage', 'sorento', 'v40',\n",
              "       'ibiza', 'mustang', 'eos', 'touran', 'getz', 'a3', 'almera',\n",
              "       'megane', 'lupo', 'r19', 'zafira', 'caddy', 'mondeo', 'cordoba',\n",
              "       'colt', 'impreza', 'vectra', 'berlingo', 'tiguan', 'i_reihe',\n",
              "       'espace', 'sharan', '6_reihe', 'panda', 'up', 'seicento', 'ceed',\n",
              "       '5_reihe', 'yeti', 'octavia', 'mii', 'rx_reihe', '6er', 'modus',\n",
              "       'fox', 'matiz', 'beetle', 'c1', 'rio', 'touareg', 'logan',\n",
              "       'spider', 'cuore', 's_max', 'a2', 'galaxy', 'c3', 'viano',\n",
              "       's_klasse', '1_reihe', 'avensis', 'roomster', 'sl', 'kaefer',\n",
              "       'santa', 'cooper', 'leon', '4_reihe', 'a5', '500', 'laguna',\n",
              "       'ptcruiser', 'clk', 'primera', 'x_reihe', 'exeo', '159', 'transit',\n",
              "       'juke', 'qashqai', 'carisma', 'accord', 'corolla', 'lanos',\n",
              "       'phaeton', 'verso', 'swift', 'rav', 'picanto', 'boxster', 'kalos',\n",
              "       'superb', 'stilo', 'alhambra', 'roadster', 'ypsilon', 'galant',\n",
              "       'justy', '90', 'sirion', 'crossfire', 'agila', 'duster',\n",
              "       'cr_reihe', 'v50', 'mx_reihe', 'c_reihe', 'v_klasse', 'm_klasse',\n",
              "       'yaris', 'c5', 'aygo', 'cc', 'carnival', 'fusion', '911', 'bora',\n",
              "       'forfour', '100', 'cl', 'tigra', '300c', 'spark', 'v70', 'kuga',\n",
              "       'x_type', 'ducato', 's_type', 'x_trail', 'toledo', 'altea',\n",
              "       'voyager', 'bravo', 'antara', 'tucson', 'citigo', 'jimny',\n",
              "       'cayenne', 'wrangler', 'lybra', 'q7', 'lancer', 'captiva', 'c2',\n",
              "       'discovery', 'freelander', 'sandero', 'note', '900', 'cherokee',\n",
              "       'clubman', 'defender', '601', 'cx_reihe', 'legacy', 'pajero',\n",
              "       'auris', 'niva', 's60', 'm_reihe', 'nubira', 'vivaro', 'g_klasse',\n",
              "       'lodgy', '850', 'range_rover', 'q3', 'serie_2', 'calibra', 'glk',\n",
              "       'charade', 'croma', 'outlander', 'doblo', 'musa', 'move', '9000',\n",
              "       'v60', 'aveo', '200', '145', 'b_max', 'range_rover_sport',\n",
              "       'terios', 'rangerover', 'q5', 'range_rover_evoque', 'materia',\n",
              "       'delta', 'gl', 'kalina', 'samara', 'amarok', 'elefantino', 'i3',\n",
              "       'kappa', 'serie_3', 'serie_1'], dtype=object)"
            ]
          },
          "metadata": {},
          "execution_count": 30
        }
      ],
      "source": [
        "df[\"model\"].unique()"
      ]
    },
    {
      "cell_type": "code",
      "execution_count": 31,
      "id": "3e7da02e-eda2-4cd8-857b-bb4187671034",
      "metadata": {
        "colab": {
          "base_uri": "https://localhost:8080/"
        },
        "id": "3e7da02e-eda2-4cd8-857b-bb4187671034",
        "outputId": "3511c424-9684-4d95-c86f-8069e648d165"
      },
      "outputs": [
        {
          "output_type": "execute_result",
          "data": {
            "text/plain": [
              "16364"
            ]
          },
          "metadata": {},
          "execution_count": 31
        }
      ],
      "source": [
        "df[\"model\"].isna().sum()"
      ]
    },
    {
      "cell_type": "markdown",
      "id": "76b3f4f3-10ae-416b-9517-15ae179ca5b2",
      "metadata": {
        "id": "76b3f4f3-10ae-416b-9517-15ae179ca5b2"
      },
      "source": [
        "Из всех 250 различных моделей видны со схожими названиями и их можно оптимизировать, объединив.\n",
        "Однако это весьма трудозатратно и вряд ли принесет значительный выигрыш при моделировании.\n",
        "В этой связи, проведем группировку редких моделей, число которых менее 500 во всем датафрейме и присвоим им значение `other`.\n",
        "Это же значение присвоим и объектам с пропуском."
      ]
    },
    {
      "cell_type": "code",
      "execution_count": 32,
      "id": "ab2f332c-1015-43c9-9693-bc0969325816",
      "metadata": {
        "id": "ab2f332c-1015-43c9-9693-bc0969325816"
      },
      "outputs": [],
      "source": [
        "df[\"model\"] = df[\"model\"].fillna(\"other\")"
      ]
    },
    {
      "cell_type": "code",
      "execution_count": 33,
      "id": "ab693193-c494-4876-8eee-c24b46687b2a",
      "metadata": {
        "id": "ab693193-c494-4876-8eee-c24b46687b2a"
      },
      "outputs": [],
      "source": [
        "t = df.groupby([\"model\"])[\"model\"].agg([\"count\"])\n",
        "rare_models = list(t.loc[t[\"count\"] < 500].index)"
      ]
    },
    {
      "cell_type": "code",
      "execution_count": 34,
      "id": "849417ea-80bb-4bf0-a22c-486a4cfa0f20",
      "metadata": {
        "id": "849417ea-80bb-4bf0-a22c-486a4cfa0f20"
      },
      "outputs": [],
      "source": [
        "def model_grouped(raw):\n",
        "    if raw[\"model\"] in rare_models:\n",
        "        return \"other\"\n",
        "    return raw[\"model\"]"
      ]
    },
    {
      "cell_type": "code",
      "execution_count": 35,
      "id": "f7b34841-e0b3-4baf-8046-18384be773a6",
      "metadata": {
        "colab": {
          "base_uri": "https://localhost:8080/"
        },
        "id": "f7b34841-e0b3-4baf-8046-18384be773a6",
        "outputId": "5bc2bf7d-dc7e-43be-aa7e-0909d6afce19"
      },
      "outputs": [
        {
          "output_type": "execute_result",
          "data": {
            "text/plain": [
              "99"
            ]
          },
          "metadata": {},
          "execution_count": 35
        }
      ],
      "source": [
        "df[\"model\"] = df.apply(model_grouped, axis=1)\n",
        "df[\"model\"].nunique()"
      ]
    },
    {
      "cell_type": "markdown",
      "id": "b3a18801-b21a-4464-a617-34a51c0e2aeb",
      "metadata": {
        "id": "b3a18801-b21a-4464-a617-34a51c0e2aeb"
      },
      "source": [
        "В столбце осталось только 99 уникальных значений, что упростит их категоризацию."
      ]
    },
    {
      "cell_type": "markdown",
      "id": "45fad1df-dbc9-4312-ab69-36e8e8426672",
      "metadata": {
        "tags": [],
        "id": "45fad1df-dbc9-4312-ab69-36e8e8426672"
      },
      "source": [
        "### Признак `fuel_type`"
      ]
    },
    {
      "cell_type": "markdown",
      "id": "6d601cfd-86db-4e35-bb9c-a35bfec64ca6",
      "metadata": {
        "id": "6d601cfd-86db-4e35-bb9c-a35bfec64ca6"
      },
      "source": [
        "Построим сводную таблицу по признаку."
      ]
    },
    {
      "cell_type": "code",
      "execution_count": 36,
      "id": "82dc8c31-4ab3-4ea6-8b12-5cbc4e971ddd",
      "metadata": {
        "colab": {
          "base_uri": "https://localhost:8080/",
          "height": 331
        },
        "id": "82dc8c31-4ab3-4ea6-8b12-5cbc4e971ddd",
        "outputId": "e90f4e8d-a69d-4e6d-ac3d-ce0902353112"
      },
      "outputs": [
        {
          "output_type": "execute_result",
          "data": {
            "text/plain": [
              "            count   median         mean\n",
              "fuel_type                              \n",
              "cng           547   3900.0  4610.681901\n",
              "electric       85   5890.0  7046.152941\n",
              "gasoline    96787   5400.0  6710.891432\n",
              "hybrid        225  10500.0  9801.324444\n",
              "lpg          5133   3000.0  4178.641340\n",
              "other         144   1700.0  3261.256944\n",
              "petrol     205239   2299.0  3949.444014\n",
              "NaN         26761   1500.0  2866.761294"
            ],
            "text/html": [
              "\n",
              "  <div id=\"df-441a6715-d150-4f8f-9a3a-d1addc895499\">\n",
              "    <div class=\"colab-df-container\">\n",
              "      <div>\n",
              "<style scoped>\n",
              "    .dataframe tbody tr th:only-of-type {\n",
              "        vertical-align: middle;\n",
              "    }\n",
              "\n",
              "    .dataframe tbody tr th {\n",
              "        vertical-align: top;\n",
              "    }\n",
              "\n",
              "    .dataframe thead th {\n",
              "        text-align: right;\n",
              "    }\n",
              "</style>\n",
              "<table border=\"1\" class=\"dataframe\">\n",
              "  <thead>\n",
              "    <tr style=\"text-align: right;\">\n",
              "      <th></th>\n",
              "      <th>count</th>\n",
              "      <th>median</th>\n",
              "      <th>mean</th>\n",
              "    </tr>\n",
              "    <tr>\n",
              "      <th>fuel_type</th>\n",
              "      <th></th>\n",
              "      <th></th>\n",
              "      <th></th>\n",
              "    </tr>\n",
              "  </thead>\n",
              "  <tbody>\n",
              "    <tr>\n",
              "      <th>cng</th>\n",
              "      <td>547</td>\n",
              "      <td>3900.0</td>\n",
              "      <td>4610.681901</td>\n",
              "    </tr>\n",
              "    <tr>\n",
              "      <th>electric</th>\n",
              "      <td>85</td>\n",
              "      <td>5890.0</td>\n",
              "      <td>7046.152941</td>\n",
              "    </tr>\n",
              "    <tr>\n",
              "      <th>gasoline</th>\n",
              "      <td>96787</td>\n",
              "      <td>5400.0</td>\n",
              "      <td>6710.891432</td>\n",
              "    </tr>\n",
              "    <tr>\n",
              "      <th>hybrid</th>\n",
              "      <td>225</td>\n",
              "      <td>10500.0</td>\n",
              "      <td>9801.324444</td>\n",
              "    </tr>\n",
              "    <tr>\n",
              "      <th>lpg</th>\n",
              "      <td>5133</td>\n",
              "      <td>3000.0</td>\n",
              "      <td>4178.641340</td>\n",
              "    </tr>\n",
              "    <tr>\n",
              "      <th>other</th>\n",
              "      <td>144</td>\n",
              "      <td>1700.0</td>\n",
              "      <td>3261.256944</td>\n",
              "    </tr>\n",
              "    <tr>\n",
              "      <th>petrol</th>\n",
              "      <td>205239</td>\n",
              "      <td>2299.0</td>\n",
              "      <td>3949.444014</td>\n",
              "    </tr>\n",
              "    <tr>\n",
              "      <th>NaN</th>\n",
              "      <td>26761</td>\n",
              "      <td>1500.0</td>\n",
              "      <td>2866.761294</td>\n",
              "    </tr>\n",
              "  </tbody>\n",
              "</table>\n",
              "</div>\n",
              "      <button class=\"colab-df-convert\" onclick=\"convertToInteractive('df-441a6715-d150-4f8f-9a3a-d1addc895499')\"\n",
              "              title=\"Convert this dataframe to an interactive table.\"\n",
              "              style=\"display:none;\">\n",
              "        \n",
              "  <svg xmlns=\"http://www.w3.org/2000/svg\" height=\"24px\"viewBox=\"0 0 24 24\"\n",
              "       width=\"24px\">\n",
              "    <path d=\"M0 0h24v24H0V0z\" fill=\"none\"/>\n",
              "    <path d=\"M18.56 5.44l.94 2.06.94-2.06 2.06-.94-2.06-.94-.94-2.06-.94 2.06-2.06.94zm-11 1L8.5 8.5l.94-2.06 2.06-.94-2.06-.94L8.5 2.5l-.94 2.06-2.06.94zm10 10l.94 2.06.94-2.06 2.06-.94-2.06-.94-.94-2.06-.94 2.06-2.06.94z\"/><path d=\"M17.41 7.96l-1.37-1.37c-.4-.4-.92-.59-1.43-.59-.52 0-1.04.2-1.43.59L10.3 9.45l-7.72 7.72c-.78.78-.78 2.05 0 2.83L4 21.41c.39.39.9.59 1.41.59.51 0 1.02-.2 1.41-.59l7.78-7.78 2.81-2.81c.8-.78.8-2.07 0-2.86zM5.41 20L4 18.59l7.72-7.72 1.47 1.35L5.41 20z\"/>\n",
              "  </svg>\n",
              "      </button>\n",
              "      \n",
              "  <style>\n",
              "    .colab-df-container {\n",
              "      display:flex;\n",
              "      flex-wrap:wrap;\n",
              "      gap: 12px;\n",
              "    }\n",
              "\n",
              "    .colab-df-convert {\n",
              "      background-color: #E8F0FE;\n",
              "      border: none;\n",
              "      border-radius: 50%;\n",
              "      cursor: pointer;\n",
              "      display: none;\n",
              "      fill: #1967D2;\n",
              "      height: 32px;\n",
              "      padding: 0 0 0 0;\n",
              "      width: 32px;\n",
              "    }\n",
              "\n",
              "    .colab-df-convert:hover {\n",
              "      background-color: #E2EBFA;\n",
              "      box-shadow: 0px 1px 2px rgba(60, 64, 67, 0.3), 0px 1px 3px 1px rgba(60, 64, 67, 0.15);\n",
              "      fill: #174EA6;\n",
              "    }\n",
              "\n",
              "    [theme=dark] .colab-df-convert {\n",
              "      background-color: #3B4455;\n",
              "      fill: #D2E3FC;\n",
              "    }\n",
              "\n",
              "    [theme=dark] .colab-df-convert:hover {\n",
              "      background-color: #434B5C;\n",
              "      box-shadow: 0px 1px 3px 1px rgba(0, 0, 0, 0.15);\n",
              "      filter: drop-shadow(0px 1px 2px rgba(0, 0, 0, 0.3));\n",
              "      fill: #FFFFFF;\n",
              "    }\n",
              "  </style>\n",
              "\n",
              "      <script>\n",
              "        const buttonEl =\n",
              "          document.querySelector('#df-441a6715-d150-4f8f-9a3a-d1addc895499 button.colab-df-convert');\n",
              "        buttonEl.style.display =\n",
              "          google.colab.kernel.accessAllowed ? 'block' : 'none';\n",
              "\n",
              "        async function convertToInteractive(key) {\n",
              "          const element = document.querySelector('#df-441a6715-d150-4f8f-9a3a-d1addc895499');\n",
              "          const dataTable =\n",
              "            await google.colab.kernel.invokeFunction('convertToInteractive',\n",
              "                                                     [key], {});\n",
              "          if (!dataTable) return;\n",
              "\n",
              "          const docLinkHtml = 'Like what you see? Visit the ' +\n",
              "            '<a target=\"_blank\" href=https://colab.research.google.com/notebooks/data_table.ipynb>data table notebook</a>'\n",
              "            + ' to learn more about interactive tables.';\n",
              "          element.innerHTML = '';\n",
              "          dataTable['output_type'] = 'display_data';\n",
              "          await google.colab.output.renderOutput(dataTable, element);\n",
              "          const docLink = document.createElement('div');\n",
              "          docLink.innerHTML = docLinkHtml;\n",
              "          element.appendChild(docLink);\n",
              "        }\n",
              "      </script>\n",
              "    </div>\n",
              "  </div>\n",
              "  "
            ]
          },
          "metadata": {},
          "execution_count": 36
        }
      ],
      "source": [
        "df.groupby([\"fuel_type\"], dropna=False)[\"price\"].agg([\"count\", \"median\", \"mean\"])"
      ]
    },
    {
      "cell_type": "markdown",
      "id": "36a9fa7f-03c3-4807-a9de-011f70dd4257",
      "metadata": {
        "id": "36a9fa7f-03c3-4807-a9de-011f70dd4257"
      },
      "source": [
        "Тип топлива `gasoline` и `petrol` являются синонимами и переводятся как бензин.  \n",
        "в то же время, среди значений в рассматриваемом признаке отсутствует дизельное топливо (diesel), в связи с чем можно считать, что под одним из перечисленных значений подразумевалось как раз дизельное топливо.\n",
        "По всей видимости, это gasoline, что подтверждается меньшим количеством объектов и их большей средней ценой.  \n",
        "\n",
        "Пропуски в столбце заменим на имеющееся значение `other`."
      ]
    },
    {
      "cell_type": "code",
      "execution_count": 37,
      "id": "6f31f357-bb61-4b91-9a21-fc2e656f9d4f",
      "metadata": {
        "id": "6f31f357-bb61-4b91-9a21-fc2e656f9d4f"
      },
      "outputs": [],
      "source": [
        "df[\"fuel_type\"] = df[\"fuel_type\"].fillna(\"other\")"
      ]
    },
    {
      "cell_type": "markdown",
      "id": "c85d912e-d580-4910-a14f-e869ee1ebde6",
      "metadata": {
        "id": "c85d912e-d580-4910-a14f-e869ee1ebde6"
      },
      "source": [
        "### Признак `brand`"
      ]
    },
    {
      "cell_type": "markdown",
      "id": "d8399c8f-d99b-4545-94f5-0f3651008df6",
      "metadata": {
        "id": "d8399c8f-d99b-4545-94f5-0f3651008df6"
      },
      "source": [
        "Анализ распределения значений признака не дал каких-либо новых результатов.\n",
        "Количество уникальных значений составляет 40.\n",
        "Дальнейшая группировка их представляется не целесообразной."
      ]
    },
    {
      "cell_type": "code",
      "execution_count": 38,
      "id": "85d01cc1-932e-4787-a170-465d46889c69",
      "metadata": {
        "colab": {
          "base_uri": "https://localhost:8080/"
        },
        "id": "85d01cc1-932e-4787-a170-465d46889c69",
        "outputId": "9a27f44e-0945-42b1-91fc-27788a427420"
      },
      "outputs": [
        {
          "output_type": "execute_result",
          "data": {
            "text/plain": [
              "40"
            ]
          },
          "metadata": {},
          "execution_count": 38
        }
      ],
      "source": [
        "df[\"brand\"].nunique()"
      ]
    },
    {
      "cell_type": "markdown",
      "id": "d3adf648-8c06-40a7-b670-acd901c292eb",
      "metadata": {
        "id": "d3adf648-8c06-40a7-b670-acd901c292eb"
      },
      "source": [
        "### Признак `not_repaired`"
      ]
    },
    {
      "cell_type": "markdown",
      "id": "352c4db5-cf43-471f-b329-b54dad74af6d",
      "metadata": {
        "id": "352c4db5-cf43-471f-b329-b54dad74af6d"
      },
      "source": [
        "Построим сводную таблицу по признаку."
      ]
    },
    {
      "cell_type": "code",
      "execution_count": 39,
      "id": "8b06e899-84cb-4504-9ca5-91dca530d3a0",
      "metadata": {
        "colab": {
          "base_uri": "https://localhost:8080/",
          "height": 175
        },
        "id": "8b06e899-84cb-4504-9ca5-91dca530d3a0",
        "outputId": "f07fd94e-8796-4f3a-85d2-4a1d2904f785"
      },
      "outputs": [
        {
          "output_type": "execute_result",
          "data": {
            "text/plain": [
              "               count  median         mean\n",
              "not_repaired                             \n",
              "no            242040  3800.0  5408.038399\n",
              "yes            31276  1100.0  2196.797480\n",
              "NaN            61605  1700.0  3025.737960"
            ],
            "text/html": [
              "\n",
              "  <div id=\"df-1b2642b5-4d29-4295-9dc5-d1eb4a7150d0\">\n",
              "    <div class=\"colab-df-container\">\n",
              "      <div>\n",
              "<style scoped>\n",
              "    .dataframe tbody tr th:only-of-type {\n",
              "        vertical-align: middle;\n",
              "    }\n",
              "\n",
              "    .dataframe tbody tr th {\n",
              "        vertical-align: top;\n",
              "    }\n",
              "\n",
              "    .dataframe thead th {\n",
              "        text-align: right;\n",
              "    }\n",
              "</style>\n",
              "<table border=\"1\" class=\"dataframe\">\n",
              "  <thead>\n",
              "    <tr style=\"text-align: right;\">\n",
              "      <th></th>\n",
              "      <th>count</th>\n",
              "      <th>median</th>\n",
              "      <th>mean</th>\n",
              "    </tr>\n",
              "    <tr>\n",
              "      <th>not_repaired</th>\n",
              "      <th></th>\n",
              "      <th></th>\n",
              "      <th></th>\n",
              "    </tr>\n",
              "  </thead>\n",
              "  <tbody>\n",
              "    <tr>\n",
              "      <th>no</th>\n",
              "      <td>242040</td>\n",
              "      <td>3800.0</td>\n",
              "      <td>5408.038399</td>\n",
              "    </tr>\n",
              "    <tr>\n",
              "      <th>yes</th>\n",
              "      <td>31276</td>\n",
              "      <td>1100.0</td>\n",
              "      <td>2196.797480</td>\n",
              "    </tr>\n",
              "    <tr>\n",
              "      <th>NaN</th>\n",
              "      <td>61605</td>\n",
              "      <td>1700.0</td>\n",
              "      <td>3025.737960</td>\n",
              "    </tr>\n",
              "  </tbody>\n",
              "</table>\n",
              "</div>\n",
              "      <button class=\"colab-df-convert\" onclick=\"convertToInteractive('df-1b2642b5-4d29-4295-9dc5-d1eb4a7150d0')\"\n",
              "              title=\"Convert this dataframe to an interactive table.\"\n",
              "              style=\"display:none;\">\n",
              "        \n",
              "  <svg xmlns=\"http://www.w3.org/2000/svg\" height=\"24px\"viewBox=\"0 0 24 24\"\n",
              "       width=\"24px\">\n",
              "    <path d=\"M0 0h24v24H0V0z\" fill=\"none\"/>\n",
              "    <path d=\"M18.56 5.44l.94 2.06.94-2.06 2.06-.94-2.06-.94-.94-2.06-.94 2.06-2.06.94zm-11 1L8.5 8.5l.94-2.06 2.06-.94-2.06-.94L8.5 2.5l-.94 2.06-2.06.94zm10 10l.94 2.06.94-2.06 2.06-.94-2.06-.94-.94-2.06-.94 2.06-2.06.94z\"/><path d=\"M17.41 7.96l-1.37-1.37c-.4-.4-.92-.59-1.43-.59-.52 0-1.04.2-1.43.59L10.3 9.45l-7.72 7.72c-.78.78-.78 2.05 0 2.83L4 21.41c.39.39.9.59 1.41.59.51 0 1.02-.2 1.41-.59l7.78-7.78 2.81-2.81c.8-.78.8-2.07 0-2.86zM5.41 20L4 18.59l7.72-7.72 1.47 1.35L5.41 20z\"/>\n",
              "  </svg>\n",
              "      </button>\n",
              "      \n",
              "  <style>\n",
              "    .colab-df-container {\n",
              "      display:flex;\n",
              "      flex-wrap:wrap;\n",
              "      gap: 12px;\n",
              "    }\n",
              "\n",
              "    .colab-df-convert {\n",
              "      background-color: #E8F0FE;\n",
              "      border: none;\n",
              "      border-radius: 50%;\n",
              "      cursor: pointer;\n",
              "      display: none;\n",
              "      fill: #1967D2;\n",
              "      height: 32px;\n",
              "      padding: 0 0 0 0;\n",
              "      width: 32px;\n",
              "    }\n",
              "\n",
              "    .colab-df-convert:hover {\n",
              "      background-color: #E2EBFA;\n",
              "      box-shadow: 0px 1px 2px rgba(60, 64, 67, 0.3), 0px 1px 3px 1px rgba(60, 64, 67, 0.15);\n",
              "      fill: #174EA6;\n",
              "    }\n",
              "\n",
              "    [theme=dark] .colab-df-convert {\n",
              "      background-color: #3B4455;\n",
              "      fill: #D2E3FC;\n",
              "    }\n",
              "\n",
              "    [theme=dark] .colab-df-convert:hover {\n",
              "      background-color: #434B5C;\n",
              "      box-shadow: 0px 1px 3px 1px rgba(0, 0, 0, 0.15);\n",
              "      filter: drop-shadow(0px 1px 2px rgba(0, 0, 0, 0.3));\n",
              "      fill: #FFFFFF;\n",
              "    }\n",
              "  </style>\n",
              "\n",
              "      <script>\n",
              "        const buttonEl =\n",
              "          document.querySelector('#df-1b2642b5-4d29-4295-9dc5-d1eb4a7150d0 button.colab-df-convert');\n",
              "        buttonEl.style.display =\n",
              "          google.colab.kernel.accessAllowed ? 'block' : 'none';\n",
              "\n",
              "        async function convertToInteractive(key) {\n",
              "          const element = document.querySelector('#df-1b2642b5-4d29-4295-9dc5-d1eb4a7150d0');\n",
              "          const dataTable =\n",
              "            await google.colab.kernel.invokeFunction('convertToInteractive',\n",
              "                                                     [key], {});\n",
              "          if (!dataTable) return;\n",
              "\n",
              "          const docLinkHtml = 'Like what you see? Visit the ' +\n",
              "            '<a target=\"_blank\" href=https://colab.research.google.com/notebooks/data_table.ipynb>data table notebook</a>'\n",
              "            + ' to learn more about interactive tables.';\n",
              "          element.innerHTML = '';\n",
              "          dataTable['output_type'] = 'display_data';\n",
              "          await google.colab.output.renderOutput(dataTable, element);\n",
              "          const docLink = document.createElement('div');\n",
              "          docLink.innerHTML = docLinkHtml;\n",
              "          element.appendChild(docLink);\n",
              "        }\n",
              "      </script>\n",
              "    </div>\n",
              "  </div>\n",
              "  "
            ]
          },
          "metadata": {},
          "execution_count": 39
        }
      ],
      "source": [
        "df.groupby([\"not_repaired\"], dropna=False)[\"price\"].agg([\"count\", \"median\", \"mean\"])"
      ]
    },
    {
      "cell_type": "markdown",
      "id": "b53105ab-7164-4f35-8afd-c7850c102bce",
      "metadata": {
        "id": "b53105ab-7164-4f35-8afd-c7850c102bce"
      },
      "source": [
        "В принципе сложно однозначно сказать, что подразумевает признак. \n",
        "Например, значение `yes` читается как: \"Да, не ремонтировалась\", что должно говорить о более высокой цене объекта.\n",
        "Однако таких машин меньше во всем датафрейме и их средняя стоимость ниже.\n",
        "\n",
        "Пропуски в столбце заменим на `other`."
      ]
    },
    {
      "cell_type": "code",
      "execution_count": 40,
      "id": "e34ca599-0541-43b9-a082-8905d80a5376",
      "metadata": {
        "id": "e34ca599-0541-43b9-a082-8905d80a5376"
      },
      "outputs": [],
      "source": [
        "df[\"not_repaired\"] = df[\"not_repaired\"].fillna(\"other\")"
      ]
    },
    {
      "cell_type": "markdown",
      "id": "8132b433-23ba-4965-9b26-49af0b802ef3",
      "metadata": {
        "id": "8132b433-23ba-4965-9b26-49af0b802ef3"
      },
      "source": [
        "## Обработка дубликатов"
      ]
    },
    {
      "cell_type": "markdown",
      "id": "ec5889b5-ed92-4d52-81ef-58aef4ec94e8",
      "metadata": {
        "id": "ec5889b5-ed92-4d52-81ef-58aef4ec94e8"
      },
      "source": [
        "Проверим количество дубликатов после обработки всех признаков."
      ]
    },
    {
      "cell_type": "code",
      "execution_count": 41,
      "id": "0810efbe-96d8-43b3-a51a-eb1b32e88bfb",
      "metadata": {
        "colab": {
          "base_uri": "https://localhost:8080/"
        },
        "id": "0810efbe-96d8-43b3-a51a-eb1b32e88bfb",
        "outputId": "481d5b24-4a2e-46b1-cb3a-969fbe1c8d8d"
      },
      "outputs": [
        {
          "output_type": "execute_result",
          "data": {
            "text/plain": [
              "sum     6922.000000\n",
              "mean       0.020668\n",
              "dtype: float64"
            ]
          },
          "metadata": {},
          "execution_count": 41
        }
      ],
      "source": [
        "df.duplicated().agg([\"sum\", \"mean\"])"
      ]
    },
    {
      "cell_type": "markdown",
      "id": "db1c38ed-d69b-4d7a-9731-ffbbec94eab7",
      "metadata": {
        "id": "db1c38ed-d69b-4d7a-9731-ffbbec94eab7"
      },
      "source": [
        "Количество дубликатов увеличилось в разы по сравнению с начальным значением.\n",
        "Однако их общее число не превосходит 2%, что позволяет их беспрепятственно удалить."
      ]
    },
    {
      "cell_type": "code",
      "execution_count": 42,
      "id": "ebd88609-baeb-478e-8a22-aee5fced0ad4",
      "metadata": {
        "id": "ebd88609-baeb-478e-8a22-aee5fced0ad4"
      },
      "outputs": [],
      "source": [
        "df = df.drop_duplicates()"
      ]
    },
    {
      "cell_type": "markdown",
      "id": "4a54344b-9f17-439a-8494-756950c3765d",
      "metadata": {
        "tags": [],
        "id": "4a54344b-9f17-439a-8494-756950c3765d"
      },
      "source": [
        "## Заключение по EDA"
      ]
    },
    {
      "cell_type": "markdown",
      "id": "b46bbf32-eea1-472e-a25c-4bc848f46fc1",
      "metadata": {
        "id": "b46bbf32-eea1-472e-a25c-4bc848f46fc1"
      },
      "source": [
        "Проведен анализ данных, согласно которому получено, что в датафрейме в большом количестве содержатся аномальные значения и пропуски. \n",
        "Такие значения для целевого признака исключены, для числовых признаков заменены на значения `-1`, а для категориальных на `other`.\n",
        "\n",
        "Рекомендуется обратиться к их источнику для оценки возможности их исправления."
      ]
    },
    {
      "cell_type": "markdown",
      "id": "357cf589-a780-47ca-a881-5175559bc834",
      "metadata": {
        "tags": [],
        "id": "357cf589-a780-47ca-a881-5175559bc834"
      },
      "source": [
        "# Машинное обучение"
      ]
    },
    {
      "cell_type": "markdown",
      "id": "61e61cba-2850-467a-923d-c9b9a3bc9aa5",
      "metadata": {
        "tags": [],
        "id": "61e61cba-2850-467a-923d-c9b9a3bc9aa5"
      },
      "source": [
        "## Подготовка данных"
      ]
    },
    {
      "cell_type": "markdown",
      "id": "0ed93bbb-30aa-4cfb-9de7-77b9ad7fd9ba",
      "metadata": {
        "id": "0ed93bbb-30aa-4cfb-9de7-77b9ad7fd9ba"
      },
      "source": [
        "При использовании моделей линейной регрессии и LightGBM необходимо кодирование категориальных признаков.\n",
        "С этой целью определим список с категориальными признаками и применим соответствующий модуль библиотеки Pandas.\n",
        "Полученные новые признаки сохраним в соответствующий список."
      ]
    },
    {
      "cell_type": "code",
      "execution_count": 43,
      "id": "27e4b614-c29b-4b1a-a229-6ebbbb6027c5",
      "metadata": {
        "id": "27e4b614-c29b-4b1a-a229-6ebbbb6027c5"
      },
      "outputs": [],
      "source": [
        "X_cat = [\n",
        "    \"vehicle_type\",\n",
        "    \"gearbox\",\n",
        "    \"model\",\n",
        "    \"fuel_type\",\n",
        "    \"brand\",\n",
        "    \"not_repaired\"\n",
        "]\n",
        "\n",
        "t = pd.get_dummies(df[X_cat])\n",
        "df = pd.concat([df, t], axis=1)\n",
        "\n",
        "X_cat_ohe = list(t.columns)\n",
        "X_ohe = X + X_cat_ohe\n",
        "for feature in X_cat:\n",
        "    X_ohe.remove(feature)\n",
        "    \n",
        "X_cat_ohe.append('postal_code')"
      ]
    },
    {
      "cell_type": "markdown",
      "id": "ee3a7421-75a5-45c6-8527-19336936d2e4",
      "metadata": {
        "id": "ee3a7421-75a5-45c6-8527-19336936d2e4"
      },
      "source": [
        "Разделим данные на обучающую и тестовую выборки."
      ]
    },
    {
      "cell_type": "code",
      "execution_count": 44,
      "id": "f42d273d-07ef-4191-a06d-842fc28e13ba",
      "metadata": {
        "id": "f42d273d-07ef-4191-a06d-842fc28e13ba"
      },
      "outputs": [],
      "source": [
        "df_train, df_val_test = train_test_split(df, test_size=0.4, random_state=26)\n",
        "df_val, df_test = train_test_split(df_val_test, test_size=0.5, random_state=26)"
      ]
    },
    {
      "cell_type": "code",
      "execution_count": 45,
      "id": "dc0602f2-1e8e-4136-bca7-b171d02ed523",
      "metadata": {
        "colab": {
          "base_uri": "https://localhost:8080/"
        },
        "id": "dc0602f2-1e8e-4136-bca7-b171d02ed523",
        "outputId": "df92d423-7b1e-474f-bfb8-95205f964be3"
      },
      "outputs": [
        {
          "output_type": "execute_result",
          "data": {
            "text/plain": [
              "(196799, 65600, 65600)"
            ]
          },
          "metadata": {},
          "execution_count": 45
        }
      ],
      "source": [
        "len(df_train), len(df_val), len(df_test)"
      ]
    },
    {
      "cell_type": "markdown",
      "id": "968f3d94-e9af-43c3-9965-d3c39da7f1d5",
      "metadata": {
        "id": "968f3d94-e9af-43c3-9965-d3c39da7f1d5"
      },
      "source": [
        "Обучение нейронными сетями не предполагается, в связи с чем стандартизация числовых признаков не требуется."
      ]
    },
    {
      "cell_type": "markdown",
      "id": "e64c0171-874a-4891-be0a-116ec269d87f",
      "metadata": {
        "tags": [],
        "id": "e64c0171-874a-4891-be0a-116ec269d87f"
      },
      "source": [
        "## Baseline"
      ]
    },
    {
      "cell_type": "markdown",
      "id": "aa11b168-5094-47a5-8429-a970558cc895",
      "metadata": {
        "id": "aa11b168-5094-47a5-8429-a970558cc895"
      },
      "source": [
        "Для определения качества разрабатываемых моделей создадим baseline в виде столбца с предсказаниями по среднему значению."
      ]
    },
    {
      "cell_type": "code",
      "execution_count": 46,
      "id": "e53f30d2-55ec-47ba-96fc-5464c9ca8d8e",
      "metadata": {
        "colab": {
          "base_uri": "https://localhost:8080/"
        },
        "id": "e53f30d2-55ec-47ba-96fc-5464c9ca8d8e",
        "outputId": "38300b1b-efcc-4593-a401-077ccbbbc418"
      },
      "outputs": [
        {
          "output_type": "stream",
          "name": "stdout",
          "text": [
            "CPU times: user 2.38 ms, sys: 17 µs, total: 2.39 ms\n",
            "Wall time: 1.92 ms\n",
            "CPU times: user 4.36 ms, sys: 16 µs, total: 4.38 ms\n",
            "Wall time: 4.15 ms\n"
          ]
        },
        {
          "output_type": "execute_result",
          "data": {
            "text/plain": [
              "4503.367713187254"
            ]
          },
          "metadata": {},
          "execution_count": 46
        }
      ],
      "source": [
        "%time dummy_fit = df_train[y].values.mean()\n",
        "%time df_val[\"dummy\"] = df_train[y].values.mean()\n",
        "mse_baseline = mean_squared_error(df_val[y], df_val[\"dummy\"], squared=False)\n",
        "mse_baseline"
      ]
    },
    {
      "cell_type": "markdown",
      "id": "ecaeac8c-ea1c-41e1-92e2-3af07f540067",
      "metadata": {
        "id": "ecaeac8c-ea1c-41e1-92e2-3af07f540067"
      },
      "source": [
        "Время обучения и предсказания такой упрощенной модели не превосходит 2-5 мс.\n",
        "Однако точность почти в 2 раза выше установленного порога."
      ]
    },
    {
      "cell_type": "markdown",
      "id": "1a8793b7-b954-4c98-9e37-52652dc7fc03",
      "metadata": {
        "tags": [],
        "id": "1a8793b7-b954-4c98-9e37-52652dc7fc03"
      },
      "source": [
        "## LightGBM"
      ]
    },
    {
      "cell_type": "markdown",
      "id": "29d0bcf5-e46d-48e7-b675-f64d0e30bd6b",
      "metadata": {
        "id": "29d0bcf5-e46d-48e7-b675-f64d0e30bd6b"
      },
      "source": [
        "Определим скорость обучения и предсказания, а также качество предсказания \"чистой\" модели LightGBM с ненастроенными гиперпараметрами."
      ]
    },
    {
      "cell_type": "code",
      "execution_count": 47,
      "id": "8751a581-f871-49b9-8f41-e862b2361fea",
      "metadata": {
        "colab": {
          "base_uri": "https://localhost:8080/"
        },
        "id": "8751a581-f871-49b9-8f41-e862b2361fea",
        "outputId": "1bcf8294-6b0a-4d17-a9de-1c7653c3fe4e"
      },
      "outputs": [
        {
          "output_type": "stream",
          "name": "stdout",
          "text": [
            "CPU times: user 5.57 s, sys: 182 ms, total: 5.75 s\n",
            "Wall time: 3.25 s\n",
            "CPU times: user 731 ms, sys: 2.82 ms, total: 734 ms\n",
            "Wall time: 408 ms\n"
          ]
        },
        {
          "output_type": "execute_result",
          "data": {
            "text/plain": [
              "(1761.7008148969612, 0.6088036937916137)"
            ]
          },
          "metadata": {},
          "execution_count": 47
        }
      ],
      "source": [
        "model_lgbm_pure = LGBMRegressor(random_state=26, objective=\"rmse\", n_jobs=-1)\n",
        "%time model_lgbm_pure.fit(df_train[X_ohe], df_train[y], eval_set=(df_val[X_ohe],df_val[y]), verbose=False)\n",
        "\n",
        "%time df_val['predict_lgbm_pure'] = model_lgbm_pure.predict(df_val[X_ohe])\n",
        "\n",
        "mse_lgbm_pure = mean_squared_error(\n",
        "    df_val[y], df_val[\"predict_lgbm_pure\"], squared=False\n",
        ")\n",
        "mse_lgbm_pure, (mse_baseline - mse_lgbm_pure) / mse_baseline"
      ]
    },
    {
      "cell_type": "markdown",
      "id": "6355de3c-1e3e-470c-8773-eb1e21eab389",
      "metadata": {
        "id": "6355de3c-1e3e-470c-8773-eb1e21eab389"
      },
      "source": [
        "По полученным значениям видно, что время обучения увеличилось на три порядка по сравнению с базовой моделью, а время предсказания увеличилось на два порядка.\n",
        "При этом значение метрики на 61% лучше той же модели и удовлетворяет заданному порогу в 2500 евро.\n",
        "\n",
        "Анализ достижимых значений метрики качества требует проведения подбора оптимальных значений гиперпараметров модели.\n",
        "С этой целью используем функцию RandomizedSearchCV, на вход которой зададим три гиперпараметра: `num_leaves`, `n_estimators`, `learning_rate`."
      ]
    },
    {
      "cell_type": "code",
      "execution_count": 48,
      "id": "f7b5cb32-d66d-482c-b200-68d61e893e99",
      "metadata": {
        "id": "f7b5cb32-d66d-482c-b200-68d61e893e99"
      },
      "outputs": [],
      "source": [
        "# Пространство параметров LGBM\n",
        "\n",
        "space_lgbm = {\n",
        "    \"num_leaves\": [int(x) for x in np.linspace(100, 1000, num=20)],\n",
        "    \"n_estimators\": [int(x) for x in np.linspace(100, 1000, num=20)],\n",
        "    \"learning_rate\": [round(x / 10, 2) for x in np.linspace(1, 10, num=20)],\n",
        "}"
      ]
    },
    {
      "cell_type": "code",
      "execution_count": 49,
      "id": "7192873c-e38f-416a-b793-0b1359d1bddb",
      "metadata": {
        "colab": {
          "base_uri": "https://localhost:8080/"
        },
        "id": "7192873c-e38f-416a-b793-0b1359d1bddb",
        "outputId": "b82032cc-d74b-48dd-b832-2a526ba3a950"
      },
      "outputs": [
        {
          "output_type": "stream",
          "name": "stdout",
          "text": [
            "CPU times: user 1min 17s, sys: 5.14 s, total: 1min 22s\n",
            "Wall time: 1h 26min 17s\n"
          ]
        },
        {
          "output_type": "execute_result",
          "data": {
            "text/plain": [
              "(1637.8027975597927, 0.07032863712696592)"
            ]
          },
          "metadata": {},
          "execution_count": 49
        }
      ],
      "source": [
        "%%time\n",
        "model_lgbm = RandomizedSearchCV(\n",
        "    estimator=model_lgbm_pure,\n",
        "    param_distributions=space_lgbm,\n",
        "    n_jobs=-1,\n",
        "    cv=10,\n",
        "    n_iter=30,\n",
        "    random_state=26,\n",
        ")\n",
        "\n",
        "model_lgbm.fit(df_train[X_ohe], df_train[y])\n",
        "df_val[\"predict_lgbm\"] = model_lgbm.predict(df_val[X_ohe])\n",
        "mse_lgbm = mean_squared_error(df_val[y], df_val[\"predict_lgbm\"], squared=False)\n",
        "mse_lgbm, (mse_lgbm_pure - mse_lgbm) / mse_lgbm_pure"
      ]
    },
    {
      "cell_type": "markdown",
      "id": "87ab3b2d-291a-4795-ad7b-e0d682563b3b",
      "metadata": {
        "id": "87ab3b2d-291a-4795-ad7b-e0d682563b3b"
      },
      "source": [
        "Значение метрики качества уменьшилось на 7%.\n",
        "Для оценки времени обучения и предсказания модели проведем повторное обучение с гиперпараметрами, полученными в ходе их оптимизации."
      ]
    },
    {
      "cell_type": "code",
      "execution_count": 50,
      "id": "f9dc8c8f-c100-49ea-933b-44f19e0a5bdd",
      "metadata": {
        "colab": {
          "base_uri": "https://localhost:8080/"
        },
        "id": "f9dc8c8f-c100-49ea-933b-44f19e0a5bdd",
        "outputId": "8bd70ffc-0d42-4deb-a11a-8708c87b66f4"
      },
      "outputs": [
        {
          "output_type": "execute_result",
          "data": {
            "text/plain": [
              "{'num_leaves': 194, 'n_estimators': 1000, 'learning_rate': 0.19}"
            ]
          },
          "metadata": {},
          "execution_count": 50
        }
      ],
      "source": [
        "model_lgbm.best_params_"
      ]
    },
    {
      "cell_type": "code",
      "execution_count": 51,
      "id": "89d5df7f-1b17-4983-9068-cd77dedcc8e5",
      "metadata": {
        "colab": {
          "base_uri": "https://localhost:8080/"
        },
        "id": "89d5df7f-1b17-4983-9068-cd77dedcc8e5",
        "outputId": "1b95fe62-9fd6-4c41-e883-c5e3d2fa2ed4"
      },
      "outputs": [
        {
          "output_type": "stream",
          "name": "stdout",
          "text": [
            "CPU times: user 31.8 s, sys: 691 ms, total: 32.5 s\n",
            "Wall time: 16.8 s\n",
            "CPU times: user 10.5 s, sys: 27.5 ms, total: 10.5 s\n",
            "Wall time: 5.43 s\n"
          ]
        }
      ],
      "source": [
        "model_lgbm_fin = LGBMRegressor(**model_lgbm.best_params_)\n",
        "%time model_lgbm_fin.fit(df_train[X_ohe], df_train[y])\n",
        "%time df_val['predict_lgbm_fin'] = model_lgbm_fin.predict(df_val[X_ohe])"
      ]
    },
    {
      "cell_type": "markdown",
      "id": "ec56fae4-67eb-41f0-92bd-6d4933c76b3b",
      "metadata": {
        "id": "ec56fae4-67eb-41f0-92bd-6d4933c76b3b"
      },
      "source": [
        "Видно, что время обучения выросло в 5 раз, а время предсказания - в 10 раза.\n",
        "Учитывая, что требование к качеству предсказания выполняется и на \"чистой\" модели, улучшение модели LightGBM за счет выбора оптимальных гиперпараметров представляется нецелесообразным."
      ]
    },
    {
      "cell_type": "markdown",
      "id": "9c0775c4-8d03-4716-8ec8-f0f612ef2188",
      "metadata": {
        "tags": [],
        "id": "9c0775c4-8d03-4716-8ec8-f0f612ef2188"
      },
      "source": [
        "## Catboost"
      ]
    },
    {
      "cell_type": "markdown",
      "id": "c7acf981-e528-40bc-b99d-2125d1140bbb",
      "metadata": {
        "id": "c7acf981-e528-40bc-b99d-2125d1140bbb"
      },
      "source": [
        "Проверим скорость и качество предсказания на модели Catboost, у которой из гиперпараметров настроена только скорость обучения для достижения номера лучшей около 900.\n",
        "Такое условие рекомендовано разработчиками модели Catboost."
      ]
    },
    {
      "cell_type": "code",
      "execution_count": 52,
      "id": "9b5ef302-4ead-41ae-ba62-59d40219d0ab",
      "metadata": {
        "colab": {
          "base_uri": "https://localhost:8080/"
        },
        "id": "9b5ef302-4ead-41ae-ba62-59d40219d0ab",
        "outputId": "86e51c7d-41de-4256-b2ad-8bf25392c477"
      },
      "outputs": [
        {
          "output_type": "stream",
          "name": "stdout",
          "text": [
            "0:\tlearn: 3293.5813338\ttest: 3294.7989485\tbest: 3294.7989485 (0)\ttotal: 175ms\tremaining: 2m 54s\n",
            "100:\tlearn: 1692.8764622\ttest: 1744.6919046\tbest: 1744.6919046 (100)\ttotal: 9.03s\tremaining: 1m 20s\n",
            "200:\tlearn: 1604.8756571\ttest: 1698.4281843\tbest: 1698.1996539 (199)\ttotal: 17.2s\tremaining: 1m 8s\n",
            "300:\tlearn: 1553.7149288\ttest: 1681.0258270\tbest: 1681.0258270 (300)\ttotal: 25.3s\tremaining: 58.9s\n",
            "400:\tlearn: 1516.6318391\ttest: 1671.9311710\tbest: 1671.5644989 (385)\ttotal: 33.2s\tremaining: 49.7s\n",
            "500:\tlearn: 1484.6728988\ttest: 1665.3195915\tbest: 1665.3195915 (500)\ttotal: 41s\tremaining: 40.8s\n",
            "600:\tlearn: 1459.8524866\ttest: 1663.0503473\tbest: 1662.7984893 (594)\ttotal: 48.6s\tremaining: 32.3s\n",
            "700:\tlearn: 1437.7287060\ttest: 1661.0388208\tbest: 1660.8394132 (681)\ttotal: 56.9s\tremaining: 24.3s\n",
            "800:\tlearn: 1417.1827401\ttest: 1658.5020186\tbest: 1657.4739061 (768)\ttotal: 1m 4s\tremaining: 16.1s\n",
            "900:\tlearn: 1398.5975936\ttest: 1656.2734150\tbest: 1656.1228810 (893)\ttotal: 1m 12s\tremaining: 7.95s\n",
            "999:\tlearn: 1383.1133294\ttest: 1655.8618157\tbest: 1654.9633985 (969)\ttotal: 1m 19s\tremaining: 0us\n",
            "\n",
            "bestTest = 1654.963398\n",
            "bestIteration = 969\n",
            "\n",
            "Shrink model to first 970 iterations.\n",
            "CPU times: user 2min 31s, sys: 4.13 s, total: 2min 35s\n",
            "Wall time: 1min 29s\n",
            "CPU times: user 2.61 s, sys: 59.7 ms, total: 2.67 s\n",
            "Wall time: 2.23 s\n"
          ]
        },
        {
          "output_type": "execute_result",
          "data": {
            "text/plain": [
              "(1654.9633984817847, 0.06058770905513796)"
            ]
          },
          "metadata": {},
          "execution_count": 52
        }
      ],
      "source": [
        "meow_pure = CatBoostRegressor(\n",
        "    random_state=26,\n",
        "    verbose=100,\n",
        "    cat_features=X_cat_ohe,\n",
        "    eval_metric=\"RMSE\",\n",
        "    learning_rate=0.5,\n",
        ")\n",
        "%time meow_pure.fit(df_train[X_ohe], df_train[y], eval_set=(df_val[X_ohe],df_val[y]))\n",
        "\n",
        "%time df_val['predict_meow_pure'] = meow_pure.predict(df_val[X_ohe])\n",
        "\n",
        "mse_meow_pure = mean_squared_error(\n",
        "    df_val[y], df_val[\"predict_meow_pure\"], squared=False\n",
        ")\n",
        "mse_meow_pure, (mse_lgbm_pure - mse_meow_pure) / mse_lgbm_pure"
      ]
    },
    {
      "cell_type": "markdown",
      "id": "e8712aa2-7d14-4cd9-a894-df17dde9376e",
      "metadata": {
        "id": "e8712aa2-7d14-4cd9-a894-df17dde9376e"
      },
      "source": [
        "Значение метрики улучшилось на 6% по сравнению с \"сырой\" моделью LGBM, однако время обучения выросло примерно в 20 раз.\n",
        "Таким образом, для решения поставленной задачи модель Catboost непригодна."
      ]
    },
    {
      "cell_type": "markdown",
      "id": "c6526ecc-1fc1-42ed-8710-596cda3ca0fa",
      "metadata": {
        "tags": [],
        "id": "c6526ecc-1fc1-42ed-8710-596cda3ca0fa"
      },
      "source": [
        "## Линейная регрессия"
      ]
    },
    {
      "cell_type": "markdown",
      "id": "ccd056b1-d327-456a-b8a8-61cc3e1b4389",
      "metadata": {
        "id": "ccd056b1-d327-456a-b8a8-61cc3e1b4389"
      },
      "source": [
        "Одним из самых быстрых методов машинного обучения является линейная регрессия.\n",
        "Определим значение метрики качества такой модели для настоящей задачи."
      ]
    },
    {
      "cell_type": "code",
      "execution_count": 53,
      "id": "3eb8c728-e85d-4117-8565-01d03fda8130",
      "metadata": {
        "colab": {
          "base_uri": "https://localhost:8080/"
        },
        "id": "3eb8c728-e85d-4117-8565-01d03fda8130",
        "outputId": "6aede75e-485d-4dea-e5cf-838c9627a32a"
      },
      "outputs": [
        {
          "output_type": "stream",
          "name": "stdout",
          "text": [
            "CPU times: user 5.31 s, sys: 258 ms, total: 5.57 s\n",
            "Wall time: 3.14 s\n",
            "CPU times: user 110 ms, sys: 79.5 ms, total: 190 ms\n",
            "Wall time: 103 ms\n"
          ]
        },
        {
          "output_type": "execute_result",
          "data": {
            "text/plain": [
              "(2804.8658740368187, -0.5921351970316653)"
            ]
          },
          "metadata": {},
          "execution_count": 53
        }
      ],
      "source": [
        "model_lr = LinearRegression()\n",
        "\n",
        "%time model_lr.fit(df_train[X_ohe], df_train[y])\n",
        "\n",
        "%time df_val['predict_lr'] = model_lr.predict(df_val[X_ohe])\n",
        "\n",
        "mse_lr = mean_squared_error(df_val[y], df_val[\"predict_lr\"], squared=False)\n",
        "mse_lr, (mse_lgbm_pure - mse_lr) / mse_lgbm_pure"
      ]
    },
    {
      "cell_type": "markdown",
      "id": "f74a18f6-02a3-4cb1-8eb8-cd779a77ac04",
      "metadata": {
        "id": "f74a18f6-02a3-4cb1-8eb8-cd779a77ac04"
      },
      "source": [
        "Время обучения модели линейной регрессии практически не отличается от модели LGBM.\n",
        "В то же время, значение метрики качества ухудшилось на 60%.\n",
        "\n",
        "Таким образом, модель линейной регрессии непригодна для решения поставленной задачи."
      ]
    },
    {
      "cell_type": "markdown",
      "id": "63b1a4b3-582e-4c14-9af5-12ba0e8383b0",
      "metadata": {
        "id": "63b1a4b3-582e-4c14-9af5-12ba0e8383b0"
      },
      "source": [
        "## Проверка на тестовой выборке"
      ]
    },
    {
      "cell_type": "markdown",
      "id": "ca980343-ea79-4e4d-aaff-df56c646aad9",
      "metadata": {
        "id": "ca980343-ea79-4e4d-aaff-df56c646aad9"
      },
      "source": [
        "В ходе проведенного исследования моделей LightGBM, Catboost и линейной регрессии получено, что на валидационной выборке по совокупности параметров скорости обучения и предсказания, а также его качества лучший результат показала модель LightGBM с гиперпараметрами по умолчанию.\n",
        "Проведем проверку указанной модели на тестовой выборке. "
      ]
    },
    {
      "cell_type": "code",
      "execution_count": 54,
      "id": "3a154335-8d8b-4c9f-883c-3b75ec5c9978",
      "metadata": {
        "colab": {
          "base_uri": "https://localhost:8080/"
        },
        "id": "3a154335-8d8b-4c9f-883c-3b75ec5c9978",
        "outputId": "ac4c322e-be59-417a-90d4-0c03c6c397ea"
      },
      "outputs": [
        {
          "output_type": "execute_result",
          "data": {
            "text/plain": [
              "(1762.2533819769212, -0.00031365546027309864)"
            ]
          },
          "metadata": {},
          "execution_count": 54
        }
      ],
      "source": [
        "df_test['predict_lgbm_pure_test'] = model_lgbm_pure.predict(df_test[X_ohe])\n",
        "\n",
        "mse_lgbm_pure_test = mean_squared_error(\n",
        "    df_test[y], df_test[\"predict_lgbm_pure_test\"], squared=False\n",
        ")\n",
        "mse_lgbm_pure_test, (mse_lgbm_pure - mse_lgbm_pure_test) / mse_lgbm_pure"
      ]
    },
    {
      "cell_type": "markdown",
      "id": "82008a93-22dc-4238-9cf4-c57752235669",
      "metadata": {
        "id": "82008a93-22dc-4238-9cf4-c57752235669"
      },
      "source": [
        "Метрика качества изменилась менее, чем на 1%."
      ]
    },
    {
      "cell_type": "markdown",
      "id": "1e7d8481-de25-4c7b-8750-8de7f49ca2f5",
      "metadata": {
        "tags": [],
        "id": "1e7d8481-de25-4c7b-8750-8de7f49ca2f5"
      },
      "source": [
        "# Выводы"
      ]
    },
    {
      "cell_type": "markdown",
      "id": "04f25fba-7d5c-433c-a788-e4a442b3c7b0",
      "metadata": {
        "tags": [],
        "id": "04f25fba-7d5c-433c-a788-e4a442b3c7b0"
      },
      "source": [
        "Построена модель для определения рыночной стоимости автомобиля, обеспечивающей оптимальное соотношение качества предсказания, его скорости и времени обучения.\n",
        "Для оценки качества моделей использовалана метрика RMSE, пороговое значение которой установлено в 2500 евро.\n",
        "\n",
        "Результаты анализа на валидационной выборке приведены в таблице. \n",
        "Учитывая, что время выполнения операции зависит от параметров аппартной части вычислсительного средства, соответствующие характеристики прведены в относительных единицах, где за единицу принято минимальной значение для всех моделей.\n",
        "\n",
        "|Характеристика|Требование задания|LightGBM (настройки по умолчанию)|LightGBM (настроенные гиперпараметры)|Catboost|LinearRegression|\n",
        "|:-:|:-:|:-:|:-:|:-:|:-:|\n",
        "|Время обучения, о.е.|Минимальное    |1,04    |5,4                                 |28,4     |1|\n",
        "|Время предсказания, о.е.|Минимальное|4|54|22|1|\n",
        "|Метрика RMSE, евро|2500             |1761 |1637                                 |1654    |2804|\n",
        "\n",
        "Из таблицы хорошо видно, что модель LightGBM с настройками по умолчанию обладает наилучшими характеристиками по скорости обучения и предсказания по сравнению с остальными моделями.\n",
        "Учитывая, что эта модель удовлетворяет требованиям по значению метрики качества, она является оптимальной для решения поставленной задачи.\n",
        "\n",
        "Проверка модели LIghtGBM на тестовой выборке показала, что качество предсказания снижается менее чем на 1% и составляет 1762 евро."
      ]
    },
    {
      "cell_type": "code",
      "source": [],
      "metadata": {
        "id": "LviiRj3PELhB"
      },
      "id": "LviiRj3PELhB",
      "execution_count": null,
      "outputs": []
    }
  ],
  "metadata": {
    "ExecuteTimeLog": [
      {
        "duration": 2606,
        "start_time": "2022-07-24T13:10:01.679Z"
      },
      {
        "duration": 0,
        "start_time": "2022-07-24T13:10:04.287Z"
      },
      {
        "duration": 7,
        "start_time": "2022-07-24T13:10:28.364Z"
      },
      {
        "duration": 7,
        "start_time": "2022-07-24T13:10:29.615Z"
      },
      {
        "duration": 2678,
        "start_time": "2022-07-24T13:10:30.346Z"
      },
      {
        "duration": 18,
        "start_time": "2022-07-24T13:10:35.695Z"
      },
      {
        "duration": 175,
        "start_time": "2022-07-24T13:10:36.442Z"
      },
      {
        "duration": 530,
        "start_time": "2022-07-24T13:10:39.912Z"
      },
      {
        "duration": 34,
        "start_time": "2022-07-24T14:17:15.239Z"
      },
      {
        "duration": 2327,
        "start_time": "2022-07-24T14:17:24.742Z"
      },
      {
        "duration": 21,
        "start_time": "2022-07-24T14:18:40.225Z"
      },
      {
        "duration": 186,
        "start_time": "2022-07-24T14:18:40.683Z"
      },
      {
        "duration": 225,
        "start_time": "2022-07-24T14:19:39.939Z"
      },
      {
        "duration": 4,
        "start_time": "2022-07-24T14:20:48.304Z"
      },
      {
        "duration": 42,
        "start_time": "2022-07-24T14:20:50.445Z"
      },
      {
        "duration": 179,
        "start_time": "2022-07-24T14:23:11.853Z"
      },
      {
        "duration": 33,
        "start_time": "2022-07-24T14:25:05.809Z"
      },
      {
        "duration": 153,
        "start_time": "2022-07-24T14:25:52.929Z"
      },
      {
        "duration": 286,
        "start_time": "2022-07-24T14:27:01.785Z"
      },
      {
        "duration": 2078,
        "start_time": "2022-07-25T01:50:39.017Z"
      },
      {
        "duration": 2155,
        "start_time": "2022-07-25T01:50:41.098Z"
      },
      {
        "duration": 18,
        "start_time": "2022-07-25T01:50:43.255Z"
      },
      {
        "duration": 163,
        "start_time": "2022-07-25T01:50:43.275Z"
      },
      {
        "duration": 545,
        "start_time": "2022-07-25T01:50:43.440Z"
      },
      {
        "duration": 36,
        "start_time": "2022-07-25T01:50:43.987Z"
      },
      {
        "duration": 2353,
        "start_time": "2022-07-25T01:50:44.025Z"
      },
      {
        "duration": 21,
        "start_time": "2022-07-25T01:50:46.380Z"
      },
      {
        "duration": 187,
        "start_time": "2022-07-25T01:50:46.403Z"
      },
      {
        "duration": 244,
        "start_time": "2022-07-25T01:50:46.592Z"
      },
      {
        "duration": 5,
        "start_time": "2022-07-25T01:50:46.838Z"
      },
      {
        "duration": 123,
        "start_time": "2022-07-25T01:50:46.845Z"
      },
      {
        "duration": 181,
        "start_time": "2022-07-25T01:50:46.970Z"
      },
      {
        "duration": 18,
        "start_time": "2022-07-25T01:50:47.153Z"
      },
      {
        "duration": 52,
        "start_time": "2022-07-25T01:50:47.173Z"
      },
      {
        "duration": 160,
        "start_time": "2022-07-25T01:50:47.227Z"
      },
      {
        "duration": 2,
        "start_time": "2022-07-25T01:51:44.961Z"
      },
      {
        "duration": 36,
        "start_time": "2022-07-25T02:02:29.938Z"
      },
      {
        "duration": 36,
        "start_time": "2022-07-25T02:02:37.103Z"
      },
      {
        "duration": 20,
        "start_time": "2022-07-25T02:02:45.393Z"
      },
      {
        "duration": 53,
        "start_time": "2022-07-25T02:03:18.599Z"
      },
      {
        "duration": 6,
        "start_time": "2022-07-25T02:03:41.532Z"
      },
      {
        "duration": 9,
        "start_time": "2022-07-25T02:03:54.857Z"
      },
      {
        "duration": 38,
        "start_time": "2022-07-25T02:04:07.712Z"
      },
      {
        "duration": 12,
        "start_time": "2022-07-25T02:04:13.013Z"
      },
      {
        "duration": 3,
        "start_time": "2022-07-25T02:06:20.486Z"
      },
      {
        "duration": 7621,
        "start_time": "2022-07-25T02:06:21.003Z"
      },
      {
        "duration": 21,
        "start_time": "2022-07-25T02:07:06.499Z"
      },
      {
        "duration": 22,
        "start_time": "2022-07-25T02:08:21.270Z"
      },
      {
        "duration": 234,
        "start_time": "2022-07-25T02:08:49.150Z"
      },
      {
        "duration": 240,
        "start_time": "2022-07-25T02:08:56.345Z"
      },
      {
        "duration": 530,
        "start_time": "2022-07-25T02:10:17.000Z"
      },
      {
        "duration": 384,
        "start_time": "2022-07-25T02:11:21.735Z"
      },
      {
        "duration": 5,
        "start_time": "2022-07-25T02:11:22.311Z"
      },
      {
        "duration": 89,
        "start_time": "2022-07-25T02:12:50.790Z"
      },
      {
        "duration": 1833,
        "start_time": "2022-07-25T02:13:11.981Z"
      },
      {
        "duration": 1630,
        "start_time": "2022-07-25T03:26:33.851Z"
      },
      {
        "duration": 2772,
        "start_time": "2022-07-25T03:26:35.483Z"
      },
      {
        "duration": 18,
        "start_time": "2022-07-25T03:26:38.256Z"
      },
      {
        "duration": 178,
        "start_time": "2022-07-25T03:26:38.276Z"
      },
      {
        "duration": 551,
        "start_time": "2022-07-25T03:26:38.455Z"
      },
      {
        "duration": 38,
        "start_time": "2022-07-25T03:26:39.009Z"
      },
      {
        "duration": 2310,
        "start_time": "2022-07-25T03:26:39.048Z"
      },
      {
        "duration": 20,
        "start_time": "2022-07-25T03:26:41.359Z"
      },
      {
        "duration": 191,
        "start_time": "2022-07-25T03:26:41.381Z"
      },
      {
        "duration": 269,
        "start_time": "2022-07-25T03:26:41.576Z"
      },
      {
        "duration": 5,
        "start_time": "2022-07-25T03:26:41.847Z"
      },
      {
        "duration": 64,
        "start_time": "2022-07-25T03:26:41.855Z"
      },
      {
        "duration": 196,
        "start_time": "2022-07-25T03:26:41.921Z"
      },
      {
        "duration": 18,
        "start_time": "2022-07-25T03:26:42.119Z"
      },
      {
        "duration": 35,
        "start_time": "2022-07-25T03:26:42.139Z"
      },
      {
        "duration": 244,
        "start_time": "2022-07-25T03:26:42.175Z"
      },
      {
        "duration": 305,
        "start_time": "2022-07-25T03:26:42.421Z"
      },
      {
        "duration": 6,
        "start_time": "2022-07-25T03:26:42.728Z"
      },
      {
        "duration": 19,
        "start_time": "2022-07-25T03:26:42.736Z"
      },
      {
        "duration": 57,
        "start_time": "2022-07-25T03:26:42.757Z"
      },
      {
        "duration": 37,
        "start_time": "2022-07-25T03:26:42.815Z"
      },
      {
        "duration": 59,
        "start_time": "2022-07-25T03:26:42.853Z"
      },
      {
        "duration": 48,
        "start_time": "2022-07-25T03:26:42.914Z"
      },
      {
        "duration": 57,
        "start_time": "2022-07-25T03:26:42.964Z"
      },
      {
        "duration": 22,
        "start_time": "2022-07-25T03:26:43.023Z"
      },
      {
        "duration": 21,
        "start_time": "2022-07-25T03:26:43.047Z"
      },
      {
        "duration": 24,
        "start_time": "2022-07-25T03:26:43.070Z"
      },
      {
        "duration": 45,
        "start_time": "2022-07-25T03:26:43.114Z"
      },
      {
        "duration": 3,
        "start_time": "2022-07-25T03:26:43.161Z"
      },
      {
        "duration": 7729,
        "start_time": "2022-07-25T03:26:43.166Z"
      },
      {
        "duration": 49,
        "start_time": "2022-07-25T03:26:50.897Z"
      },
      {
        "duration": 22,
        "start_time": "2022-07-25T03:26:50.948Z"
      },
      {
        "duration": 58,
        "start_time": "2022-07-25T03:26:50.972Z"
      },
      {
        "duration": 46,
        "start_time": "2022-07-25T03:26:51.032Z"
      },
      {
        "duration": 40,
        "start_time": "2022-07-25T03:26:51.080Z"
      },
      {
        "duration": 232,
        "start_time": "2022-07-25T03:26:51.122Z"
      },
      {
        "duration": 236,
        "start_time": "2022-07-25T03:26:51.356Z"
      },
      {
        "duration": 507,
        "start_time": "2022-07-25T03:26:51.594Z"
      },
      {
        "duration": 4,
        "start_time": "2022-07-25T03:27:36.724Z"
      },
      {
        "duration": 7,
        "start_time": "2022-07-25T03:28:09.356Z"
      },
      {
        "duration": 77,
        "start_time": "2022-07-25T09:17:01.087Z"
      }
    ],
    "kernelspec": {
      "display_name": "Python 3 (ipykernel)",
      "language": "python",
      "name": "python3"
    },
    "language_info": {
      "codemirror_mode": {
        "name": "ipython",
        "version": 3
      },
      "file_extension": ".py",
      "mimetype": "text/x-python",
      "name": "python",
      "nbconvert_exporter": "python",
      "pygments_lexer": "ipython3",
      "version": "3.7.8"
    },
    "toc": {
      "base_numbering": 1,
      "nav_menu": {},
      "number_sections": true,
      "sideBar": true,
      "skip_h1_title": false,
      "title_cell": "Table of Contents",
      "title_sidebar": "Contents",
      "toc_cell": false,
      "toc_position": {},
      "toc_section_display": true,
      "toc_window_display": true
    },
    "toc-autonumbering": true,
    "toc-showcode": false,
    "toc-showmarkdowntxt": false,
    "toc-showtags": true,
    "colab": {
      "name": "deli_proj_pract_11_boosting_v2_0.ipynb",
      "provenance": [],
      "collapsed_sections": [],
      "toc_visible": true,
      "include_colab_link": true
    }
  },
  "nbformat": 4,
  "nbformat_minor": 5
}