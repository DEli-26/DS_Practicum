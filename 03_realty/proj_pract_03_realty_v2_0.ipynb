{
  "cells": [
    {
      "cell_type": "markdown",
      "metadata": {
        "id": "view-in-github",
        "colab_type": "text"
      },
      "source": [
        "<a href=\"https://colab.research.google.com/github/DEli-26/DS_Practicum/blob/main/03_realty/proj_pract_03_realty_v2_0.ipynb\" target=\"_parent\"><img src=\"https://colab.research.google.com/assets/colab-badge.svg\" alt=\"Open In Colab\"/></a>"
      ]
    },
    {
      "cell_type": "markdown",
      "id": "22a7a659",
      "metadata": {
        "id": "22a7a659"
      },
      "source": [
        "<font size=6><b>**Проект Я.Практикум №3**</b></font>\n",
        "\n",
        "<font size=6><b>**Яндекс.Недвижимость**</b></font>\n",
        "\n",
        "***"
      ]
    },
    {
      "cell_type": "markdown",
      "id": "fbafe446",
      "metadata": {
        "id": "fbafe446"
      },
      "source": [
        "# Постановка задачи"
      ]
    },
    {
      "cell_type": "markdown",
      "id": "95e72e4a",
      "metadata": {
        "id": "95e72e4a"
      },
      "source": [
        "**Заказчик:** Яндекс.Недвижимость. \n",
        "\n",
        "**Цель:** провести исследования для построения автоматизированной системы, отслеживающей аномалии и мошенническую деятельность.\n",
        "\n",
        "**Задачи:** \n",
        "1. установить параметры для определения рыночной стоимости объектов недвижимости.\n",
        "\n",
        "**Исходные данные:** архив объявлений о продаже квартир в Санкт-Петербурге и соседних населенных пунктах за несколько лет. По каждой квартире на продажу доступны два вида данных. Первые вписаны пользователем, вторые — получены автоматически на основе картографических данных. Например, расстояние до центра, аэропорта, ближайшего парка и водоёма."
      ]
    },
    {
      "cell_type": "markdown",
      "id": "ae88e88a",
      "metadata": {
        "id": "ae88e88a"
      },
      "source": [
        "# Обзор данных"
      ]
    },
    {
      "cell_type": "markdown",
      "id": "18b3329e",
      "metadata": {
        "id": "18b3329e"
      },
      "source": [
        "Загрузим библиотеки, необходимые для выполнения проекта"
      ]
    },
    {
      "cell_type": "code",
      "execution_count": null,
      "id": "38869b07",
      "metadata": {
        "scrolled": true,
        "id": "38869b07",
        "outputId": "bc6983ae-728e-4ec1-eeb4-47e2da5a93dc"
      },
      "outputs": [
        {
          "name": "stderr",
          "output_type": "stream",
          "text": [
            "WARNING: Ignoring invalid distribution -cipy (c:\\programdata\\anaconda3\\envs\\praktikum_env_win_new\\lib\\site-packages)\n",
            "WARNING: Ignoring invalid distribution -cipy (c:\\programdata\\anaconda3\\envs\\praktikum_env_win_new\\lib\\site-packages)\n",
            "WARNING: Ignoring invalid distribution -cipy (c:\\programdata\\anaconda3\\envs\\praktikum_env_win_new\\lib\\site-packages)\n",
            "WARNING: Ignoring invalid distribution -cipy (c:\\programdata\\anaconda3\\envs\\praktikum_env_win_new\\lib\\site-packages)\n",
            "WARNING: Ignoring invalid distribution -cipy (c:\\programdata\\anaconda3\\envs\\praktikum_env_win_new\\lib\\site-packages)\n",
            "WARNING: Ignoring invalid distribution -cipy (c:\\programdata\\anaconda3\\envs\\praktikum_env_win_new\\lib\\site-packages)\n"
          ]
        },
        {
          "name": "stdout",
          "output_type": "stream",
          "text": [
            "Requirement already satisfied: nb_black in c:\\programdata\\anaconda3\\envs\\praktikum_env_win_new\\lib\\site-packages (1.0.7)\n",
            "Requirement already satisfied: ipython in c:\\programdata\\anaconda3\\envs\\praktikum_env_win_new\\lib\\site-packages (from nb_black) (7.32.0)\n",
            "Requirement already satisfied: black>='19.3' in c:\\programdata\\anaconda3\\envs\\praktikum_env_win_new\\lib\\site-packages (from nb_black) (22.1.0)\n",
            "Requirement already satisfied: tomli>=1.1.0 in c:\\programdata\\anaconda3\\envs\\praktikum_env_win_new\\lib\\site-packages (from black>='19.3'->nb_black) (2.0.1)\n",
            "Requirement already satisfied: typing-extensions>=3.10.0.0 in c:\\programdata\\anaconda3\\envs\\praktikum_env_win_new\\lib\\site-packages (from black>='19.3'->nb_black) (4.1.1)\n",
            "Requirement already satisfied: typed-ast>=1.4.2 in c:\\programdata\\anaconda3\\envs\\praktikum_env_win_new\\lib\\site-packages (from black>='19.3'->nb_black) (1.5.2)\n",
            "Requirement already satisfied: platformdirs>=2 in c:\\programdata\\anaconda3\\envs\\praktikum_env_win_new\\lib\\site-packages (from black>='19.3'->nb_black) (2.5.1)\n",
            "Requirement already satisfied: mypy-extensions>=0.4.3 in c:\\programdata\\anaconda3\\envs\\praktikum_env_win_new\\lib\\site-packages (from black>='19.3'->nb_black) (0.4.3)\n",
            "Requirement already satisfied: pathspec>=0.9.0 in c:\\programdata\\anaconda3\\envs\\praktikum_env_win_new\\lib\\site-packages (from black>='19.3'->nb_black) (0.9.0)\n",
            "Requirement already satisfied: click>=8.0.0 in c:\\programdata\\anaconda3\\envs\\praktikum_env_win_new\\lib\\site-packages (from black>='19.3'->nb_black) (8.1.0)\n",
            "Requirement already satisfied: pygments in c:\\programdata\\anaconda3\\envs\\praktikum_env_win_new\\lib\\site-packages (from ipython->nb_black) (2.11.2)\n",
            "Requirement already satisfied: prompt-toolkit!=3.0.0,!=3.0.1,<3.1.0,>=2.0.0 in c:\\programdata\\anaconda3\\envs\\praktikum_env_win_new\\lib\\site-packages (from ipython->nb_black) (3.0.27)\n",
            "Requirement already satisfied: backcall in c:\\programdata\\anaconda3\\envs\\praktikum_env_win_new\\lib\\site-packages (from ipython->nb_black) (0.2.0)\n",
            "Requirement already satisfied: setuptools>=18.5 in c:\\programdata\\anaconda3\\envs\\praktikum_env_win_new\\lib\\site-packages (from ipython->nb_black) (60.9.3)\n",
            "Requirement already satisfied: colorama in c:\\programdata\\anaconda3\\envs\\praktikum_env_win_new\\lib\\site-packages (from ipython->nb_black) (0.4.4)\n",
            "Requirement already satisfied: jedi>=0.16 in c:\\programdata\\anaconda3\\envs\\praktikum_env_win_new\\lib\\site-packages (from ipython->nb_black) (0.18.1)\n",
            "Requirement already satisfied: matplotlib-inline in c:\\programdata\\anaconda3\\envs\\praktikum_env_win_new\\lib\\site-packages (from ipython->nb_black) (0.1.3)\n",
            "Requirement already satisfied: decorator in c:\\programdata\\anaconda3\\envs\\praktikum_env_win_new\\lib\\site-packages (from ipython->nb_black) (5.1.1)\n",
            "Requirement already satisfied: pickleshare in c:\\programdata\\anaconda3\\envs\\praktikum_env_win_new\\lib\\site-packages (from ipython->nb_black) (0.7.5)\n",
            "Requirement already satisfied: traitlets>=4.2 in c:\\programdata\\anaconda3\\envs\\praktikum_env_win_new\\lib\\site-packages (from ipython->nb_black) (5.1.1)\n",
            "Requirement already satisfied: importlib-metadata in c:\\programdata\\anaconda3\\envs\\praktikum_env_win_new\\lib\\site-packages (from click>=8.0.0->black>='19.3'->nb_black) (4.11.2)\n",
            "Requirement already satisfied: parso<0.9.0,>=0.8.0 in c:\\programdata\\anaconda3\\envs\\praktikum_env_win_new\\lib\\site-packages (from jedi>=0.16->ipython->nb_black) (0.8.3)\n",
            "Requirement already satisfied: wcwidth in c:\\programdata\\anaconda3\\envs\\praktikum_env_win_new\\lib\\site-packages (from prompt-toolkit!=3.0.0,!=3.0.1,<3.1.0,>=2.0.0->ipython->nb_black) (0.2.5)\n",
            "Requirement already satisfied: zipp>=0.5 in c:\\programdata\\anaconda3\\envs\\praktikum_env_win_new\\lib\\site-packages (from importlib-metadata->click>=8.0.0->black>='19.3'->nb_black) (3.7.0)\n"
          ]
        },
        {
          "data": {
            "application/javascript": [
              "\n",
              "            setTimeout(function() {\n",
              "                var nbb_cell_id = 1;\n",
              "                var nbb_unformatted_code = \"!pip install nb_black\\n%load_ext nb_black\\nimport pandas as pd\\nimport seaborn as sns\\nimport matplotlib.pyplot as plt\\n\\n# \\u043e\\u0442\\u043e\\u0431\\u0440\\u0430\\u0436\\u0435\\u043d\\u0438\\u0435 \\u0442\\u0430\\u0431\\u043b\\u0438\\u0446 \\u0431\\u0435\\u0437 \\u043e\\u0433\\u0440\\u0430\\u043d\\u0438\\u0447\\u0435\\u043d\\u0438\\u044f \\u043d\\u0430 \\u043a\\u043e\\u043b\\u0438\\u0447\\u0435\\u0441\\u0442\\u0432\\u043e \\u0441\\u0442\\u043e\\u043b\\u0431\\u0446\\u043e\\u0432:\\npd.set_option(\\\"display.max_columns\\\", None)\";\n",
              "                var nbb_formatted_code = \"!pip install nb_black\\n%load_ext nb_black\\nimport pandas as pd\\nimport seaborn as sns\\nimport matplotlib.pyplot as plt\\n\\n# \\u043e\\u0442\\u043e\\u0431\\u0440\\u0430\\u0436\\u0435\\u043d\\u0438\\u0435 \\u0442\\u0430\\u0431\\u043b\\u0438\\u0446 \\u0431\\u0435\\u0437 \\u043e\\u0433\\u0440\\u0430\\u043d\\u0438\\u0447\\u0435\\u043d\\u0438\\u044f \\u043d\\u0430 \\u043a\\u043e\\u043b\\u0438\\u0447\\u0435\\u0441\\u0442\\u0432\\u043e \\u0441\\u0442\\u043e\\u043b\\u0431\\u0446\\u043e\\u0432:\\npd.set_option(\\\"display.max_columns\\\", None)\";\n",
              "                var nbb_cells = Jupyter.notebook.get_cells();\n",
              "                for (var i = 0; i < nbb_cells.length; ++i) {\n",
              "                    if (nbb_cells[i].input_prompt_number == nbb_cell_id) {\n",
              "                        if (nbb_cells[i].get_text() == nbb_unformatted_code) {\n",
              "                             nbb_cells[i].set_text(nbb_formatted_code);\n",
              "                        }\n",
              "                        break;\n",
              "                    }\n",
              "                }\n",
              "            }, 500);\n",
              "            "
            ],
            "text/plain": [
              "<IPython.core.display.Javascript object>"
            ]
          },
          "metadata": {},
          "output_type": "display_data"
        }
      ],
      "source": [
        "!pip install nb_black\n",
        "%load_ext nb_black\n",
        "import pandas as pd\n",
        "import seaborn as sns\n",
        "import matplotlib.pyplot as plt\n",
        "\n",
        "# отображение таблиц без ограничения на количество столбцов:\n",
        "pd.set_option(\"display.max_columns\", None)"
      ]
    },
    {
      "cell_type": "markdown",
      "id": "b7c624e0",
      "metadata": {
        "id": "b7c624e0"
      },
      "source": [
        "Исходные данные находятся в файле `real_estate_data.csv`. Предварительный ананлиз файла показал, что данные разделены символом `\\t`. Откроем файл и выведем первые 5 строк датафрейма."
      ]
    },
    {
      "cell_type": "markdown",
      "source": [
        "-- Здесь был код для загрузки данных --"
      ],
      "metadata": {
        "id": "N-acfGDKh-uA"
      },
      "id": "N-acfGDKh-uA"
    },
    {
      "cell_type": "markdown",
      "id": "ffb272e6",
      "metadata": {
        "id": "ffb272e6"
      },
      "source": [
        "Получим общую информацию по датафрейму."
      ]
    },
    {
      "cell_type": "code",
      "execution_count": null,
      "id": "049df10d",
      "metadata": {
        "scrolled": true,
        "id": "049df10d",
        "outputId": "6b8d2c92-9532-420f-be7e-de147281e6a1"
      },
      "outputs": [
        {
          "name": "stdout",
          "output_type": "stream",
          "text": [
            "<class 'pandas.core.frame.DataFrame'>\n",
            "RangeIndex: 23699 entries, 0 to 23698\n",
            "Data columns (total 22 columns):\n",
            " #   Column                Non-Null Count  Dtype  \n",
            "---  ------                --------------  -----  \n",
            " 0   total_images          23699 non-null  int64  \n",
            " 1   last_price            23699 non-null  float64\n",
            " 2   total_area            23699 non-null  float64\n",
            " 3   first_day_exposition  23699 non-null  object \n",
            " 4   rooms                 23699 non-null  int64  \n",
            " 5   ceiling_height        14504 non-null  float64\n",
            " 6   floors_total          23613 non-null  float64\n",
            " 7   living_area           21796 non-null  float64\n",
            " 8   floor                 23699 non-null  int64  \n",
            " 9   is_apartment          2775 non-null   object \n",
            " 10  studio                23699 non-null  bool   \n",
            " 11  open_plan             23699 non-null  bool   \n",
            " 12  kitchen_area          21421 non-null  float64\n",
            " 13  balcony               12180 non-null  float64\n",
            " 14  locality_name         23650 non-null  object \n",
            " 15  airports_nearest      18157 non-null  float64\n",
            " 16  cityCenters_nearest   18180 non-null  float64\n",
            " 17  parks_around3000      18181 non-null  float64\n",
            " 18  parks_nearest         8079 non-null   float64\n",
            " 19  ponds_around3000      18181 non-null  float64\n",
            " 20  ponds_nearest         9110 non-null   float64\n",
            " 21  days_exposition       20518 non-null  float64\n",
            "dtypes: bool(2), float64(14), int64(3), object(3)\n",
            "memory usage: 3.7+ MB\n"
          ]
        },
        {
          "data": {
            "application/javascript": [
              "\n",
              "            setTimeout(function() {\n",
              "                var nbb_cell_id = 3;\n",
              "                var nbb_unformatted_code = \"df.info()\";\n",
              "                var nbb_formatted_code = \"df.info()\";\n",
              "                var nbb_cells = Jupyter.notebook.get_cells();\n",
              "                for (var i = 0; i < nbb_cells.length; ++i) {\n",
              "                    if (nbb_cells[i].input_prompt_number == nbb_cell_id) {\n",
              "                        if (nbb_cells[i].get_text() == nbb_unformatted_code) {\n",
              "                             nbb_cells[i].set_text(nbb_formatted_code);\n",
              "                        }\n",
              "                        break;\n",
              "                    }\n",
              "                }\n",
              "            }, 500);\n",
              "            "
            ],
            "text/plain": [
              "<IPython.core.display.Javascript object>"
            ]
          },
          "metadata": {},
          "output_type": "display_data"
        }
      ],
      "source": [
        "df.info()"
      ]
    },
    {
      "cell_type": "markdown",
      "id": "297d8c02",
      "metadata": {
        "id": "297d8c02"
      },
      "source": [
        "Всего в датафрейме 21 столбец и 23699 строка, при этом используются следующие типы данных: логический `bool`, целочисленный `int64`, вещественный `float64` и текстовый `object`. \n",
        "\n",
        "Согласно условиям задания, часть столбцов заполняется пользователями, а часть автоматически. К **первой** группе будем относить столбцы:\n",
        "\n",
        "* `total_images` — число фотографий квартиры в объявлении, \n",
        "* `last_price` — цена на момент снятия с публикации, \n",
        "* `total_area` — площадь квартиры в квадратных метрах (м²), \n",
        "* `first_day_exposition` — дата публикации, \n",
        "* `rooms` — число комнат, \n",
        "* `ceiling_height` — высота потолков (м), \n",
        "* `floors_total`— всего этажей в доме, \n",
        "* `living_area` — жилая площадь в квадратных метрах (м²), \n",
        "* `floor` — этаж, \n",
        "* `is_apartment` — апартаменты (булев тип), \n",
        "* `studio` studio — квартира-студия (булев тип), \n",
        "* `open_plan` — свободная планировка (булев тип), \n",
        "* `kitchen_area` — площадь кухни в квадратных метрах (м²), \n",
        "* `balcony` — число балконов, \n",
        "\n",
        "а ко **второй**:\n",
        "\n",
        "* `locality_name` — название населённого пункта, \n",
        "* `airports_nearest` — расстояние до ближайшего аэропорта в метрах (м), \n",
        "* `cityCenters_nearest` — расстояние до центра города (м), \n",
        "* `parks_around3000` — число парков в радиусе 3 км, \n",
        "* `parks_nearest` — расстояние до ближайшего парка (м), \n",
        "* `ponds_around3000` — число водоёмов в радиусе 3 км, \n",
        "* `ponds_nearest` — расстояние до ближайшего водоёма (м), \n",
        "* `days_exposition` — сколько дней было размещено объявление (от публикации до снятия).\n",
        "\n",
        "Во многих столбцах присутствуют пропуски, а такое разделение поможет при определении причин пропусков и анализа аномалий в указанных столбцах.\n",
        "\n",
        "В наименованиях второй группы столбцов встречаются нарушения стиля - верблюжий стиль и отсутствие разделителей между словами и цифрами.\n",
        "\n",
        "Для следующих столбцов целесообразно изменить тип на `int`:\n",
        "`floors_total`, `balcony`, `airports_nearest`, `cityCenters_nearest`, `parks_around3000`, `parks_nearest`, `ponds_around3000`, `ponds_nearest`, `days_exposition`. Для первых двух из перечисленных столбцов такое решение обосновывается отсутствием дробных значений в принципе, для последнего - удобством анализа данных, а для остальных - отсутствием дробных значений в самом датафрейме. \n",
        "\n",
        "Для столбца `first_day_exposition` целесообразно изменить тип на `datetime`, что позволит производить дальнейшие расчеты с ним.\n",
        "\n",
        "Тип данных в столбце `is_apartment` следует привести в соответствие с описанием содержимого и заменить на `bool`."
      ]
    },
    {
      "cell_type": "markdown",
      "id": "8f5ca996",
      "metadata": {
        "id": "8f5ca996"
      },
      "source": [
        "**Выводы**\n",
        "\n",
        "В каждой строке таблицы — данные об объявлениях о продаже квартир. Часть колонок описывает сведения о самом объекте: площадь, количество комнат, этажей, высота потолка и др. Часть - описывает территориальное расположение объекта - удаление от аэропорта, центра города, парков, прудов и их количество. Остальные данные рассказывают об объявлении - цена, количество фотографий, дата первого размещения и общее количество дней.\n",
        "\n",
        "Предварительно можно утверждать, что, данных достаточно для проверки гипотез. Однако встречаются неправильные наименования столбцов, неправильный тип и пропуски в данных, а также возможно проявление дубликатов и других аномалий. Чтобы двигаться дальше, нужно устранить перечисленные проблемы в данных."
      ]
    },
    {
      "cell_type": "markdown",
      "id": "fd0139c3",
      "metadata": {
        "id": "fd0139c3"
      },
      "source": [
        "# Предобработка данных"
      ]
    },
    {
      "cell_type": "markdown",
      "id": "d38c58b6",
      "metadata": {
        "id": "d38c58b6"
      },
      "source": [
        "Проведем предобработку в следующей последовательности:\n",
        "\n",
        "1. Исправление наименований столбцов; \n",
        "3. Исключение дубликатов;\n",
        "2. Обработка пропусков;\n",
        "1. Исправление типов данных;\n",
        "1. Добавление данных."
      ]
    },
    {
      "cell_type": "markdown",
      "id": "04aff5a2",
      "metadata": {
        "id": "04aff5a2"
      },
      "source": [
        "## Исправление наименований столбцов"
      ]
    },
    {
      "cell_type": "markdown",
      "id": "d18f82c6",
      "metadata": {
        "id": "d18f82c6"
      },
      "source": [
        "Исправление наименований столбцов выполним при помощи метода `rename()`."
      ]
    },
    {
      "cell_type": "code",
      "execution_count": null,
      "id": "abf1d182",
      "metadata": {
        "id": "abf1d182",
        "outputId": "b7dabb1b-d6e0-43b8-ac1e-e51ace104394"
      },
      "outputs": [
        {
          "data": {
            "text/plain": [
              "Index(['total_images', 'last_price', 'total_area', 'first_day_exposition',\n",
              "       'rooms', 'ceiling_height', 'floors_total', 'living_area', 'floor',\n",
              "       'is_apartment', 'studio', 'open_plan', 'kitchen_area', 'balcony',\n",
              "       'locality_name', 'airports_nearest', 'city_centers_nearest',\n",
              "       'parks_around_3000', 'parks_nearest', 'ponds_around_3000',\n",
              "       'ponds_nearest', 'days_exposition'],\n",
              "      dtype='object')"
            ]
          },
          "execution_count": 4,
          "metadata": {},
          "output_type": "execute_result"
        },
        {
          "data": {
            "application/javascript": [
              "\n",
              "            setTimeout(function() {\n",
              "                var nbb_cell_id = 4;\n",
              "                var nbb_unformatted_code = \"df = df.rename(\\n    columns={\\n        \\\"cityCenters_nearest\\\": \\\"city_centers_nearest\\\",\\n        \\\"parks_around3000\\\": \\\"parks_around_3000\\\",\\n        \\\"ponds_around3000\\\": \\\"ponds_around_3000\\\",\\n    }\\n)\\ndf.columns\";\n",
              "                var nbb_formatted_code = \"df = df.rename(\\n    columns={\\n        \\\"cityCenters_nearest\\\": \\\"city_centers_nearest\\\",\\n        \\\"parks_around3000\\\": \\\"parks_around_3000\\\",\\n        \\\"ponds_around3000\\\": \\\"ponds_around_3000\\\",\\n    }\\n)\\ndf.columns\";\n",
              "                var nbb_cells = Jupyter.notebook.get_cells();\n",
              "                for (var i = 0; i < nbb_cells.length; ++i) {\n",
              "                    if (nbb_cells[i].input_prompt_number == nbb_cell_id) {\n",
              "                        if (nbb_cells[i].get_text() == nbb_unformatted_code) {\n",
              "                             nbb_cells[i].set_text(nbb_formatted_code);\n",
              "                        }\n",
              "                        break;\n",
              "                    }\n",
              "                }\n",
              "            }, 500);\n",
              "            "
            ],
            "text/plain": [
              "<IPython.core.display.Javascript object>"
            ]
          },
          "metadata": {},
          "output_type": "display_data"
        }
      ],
      "source": [
        "df = df.rename(\n",
        "    columns={\n",
        "        \"cityCenters_nearest\": \"city_centers_nearest\",\n",
        "        \"parks_around3000\": \"parks_around_3000\",\n",
        "        \"ponds_around3000\": \"ponds_around_3000\",\n",
        "    }\n",
        ")\n",
        "df.columns"
      ]
    },
    {
      "cell_type": "markdown",
      "id": "77818661",
      "metadata": {
        "id": "77818661"
      },
      "source": [
        "Переименование прошло успешно."
      ]
    },
    {
      "cell_type": "markdown",
      "id": "7a8e89f1",
      "metadata": {
        "id": "7a8e89f1"
      },
      "source": [
        "## Исключение дубликатов"
      ]
    },
    {
      "cell_type": "markdown",
      "id": "e6d1285c",
      "metadata": {
        "id": "e6d1285c"
      },
      "source": [
        "Количество явных дубликатов равно:"
      ]
    },
    {
      "cell_type": "code",
      "execution_count": null,
      "id": "da36a596",
      "metadata": {
        "id": "da36a596",
        "outputId": "931e0cd8-d1d0-439e-b9d0-51c2e7c5a4d6"
      },
      "outputs": [
        {
          "data": {
            "text/plain": [
              "0"
            ]
          },
          "execution_count": 5,
          "metadata": {},
          "output_type": "execute_result"
        },
        {
          "data": {
            "application/javascript": [
              "\n",
              "            setTimeout(function() {\n",
              "                var nbb_cell_id = 5;\n",
              "                var nbb_unformatted_code = \"df.duplicated().sum()\";\n",
              "                var nbb_formatted_code = \"df.duplicated().sum()\";\n",
              "                var nbb_cells = Jupyter.notebook.get_cells();\n",
              "                for (var i = 0; i < nbb_cells.length; ++i) {\n",
              "                    if (nbb_cells[i].input_prompt_number == nbb_cell_id) {\n",
              "                        if (nbb_cells[i].get_text() == nbb_unformatted_code) {\n",
              "                             nbb_cells[i].set_text(nbb_formatted_code);\n",
              "                        }\n",
              "                        break;\n",
              "                    }\n",
              "                }\n",
              "            }, 500);\n",
              "            "
            ],
            "text/plain": [
              "<IPython.core.display.Javascript object>"
            ]
          },
          "metadata": {},
          "output_type": "display_data"
        }
      ],
      "source": [
        "df.duplicated().sum()"
      ]
    },
    {
      "cell_type": "markdown",
      "id": "86a01293",
      "metadata": {
        "id": "86a01293"
      },
      "source": [
        "Полученное значение говорит об отсутствии явных дубликатов. \n",
        "\n",
        "Единственный столбец во всем датафрейме, в котором могут содержаться неявные дубликаты - это `locality_name`. Выведем список значений в нем"
      ]
    },
    {
      "cell_type": "code",
      "execution_count": null,
      "id": "088f1009",
      "metadata": {
        "scrolled": true,
        "id": "088f1009",
        "outputId": "def66d37-d92e-42a7-abd4-39dbb176ec88"
      },
      "outputs": [
        {
          "data": {
            "text/plain": [
              "Санкт-Петербург                    15721\n",
              "посёлок Мурино                       522\n",
              "посёлок Шушары                       440\n",
              "Всеволожск                           398\n",
              "Пушкин                               369\n",
              "                                   ...  \n",
              "поселок Каложицы                       1\n",
              "посёлок Платформа 69-й километр        1\n",
              "поселок Почап                          1\n",
              "поселок Гончарово                      1\n",
              "посёлок Дзержинского                   1\n",
              "Name: locality_name, Length: 364, dtype: int64"
            ]
          },
          "execution_count": 6,
          "metadata": {},
          "output_type": "execute_result"
        },
        {
          "data": {
            "application/javascript": [
              "\n",
              "            setTimeout(function() {\n",
              "                var nbb_cell_id = 6;\n",
              "                var nbb_unformatted_code = \"df.locality_name.value_counts()\";\n",
              "                var nbb_formatted_code = \"df.locality_name.value_counts()\";\n",
              "                var nbb_cells = Jupyter.notebook.get_cells();\n",
              "                for (var i = 0; i < nbb_cells.length; ++i) {\n",
              "                    if (nbb_cells[i].input_prompt_number == nbb_cell_id) {\n",
              "                        if (nbb_cells[i].get_text() == nbb_unformatted_code) {\n",
              "                             nbb_cells[i].set_text(nbb_formatted_code);\n",
              "                        }\n",
              "                        break;\n",
              "                    }\n",
              "                }\n",
              "            }, 500);\n",
              "            "
            ],
            "text/plain": [
              "<IPython.core.display.Javascript object>"
            ]
          },
          "metadata": {},
          "output_type": "display_data"
        }
      ],
      "source": [
        "df.locality_name.value_counts()"
      ]
    },
    {
      "cell_type": "markdown",
      "id": "7262c3ff",
      "metadata": {
        "id": "7262c3ff"
      },
      "source": [
        "Общее количество значений составляет 353, что затруднительно анализировать \"вручную\" на наличие неявных дублиактов. В то же время, из полученного списка очевидны потенциальные причины проявления таких дубликатов - это чередование строчных и заглавных букв, а также \"ё\" и \"е\". Для исключения указанных \"слабых мест\" приведем все значения в столбце к нижнему регистру и произведем замену \"ё\" на \"е\"."
      ]
    },
    {
      "cell_type": "code",
      "execution_count": null,
      "id": "8fd53b64",
      "metadata": {
        "scrolled": true,
        "id": "8fd53b64",
        "outputId": "504c6130-ad7c-4bc7-ce0b-84215e76f7df"
      },
      "outputs": [
        {
          "data": {
            "text/plain": [
              "330"
            ]
          },
          "execution_count": 7,
          "metadata": {},
          "output_type": "execute_result"
        },
        {
          "data": {
            "application/javascript": [
              "\n",
              "            setTimeout(function() {\n",
              "                var nbb_cell_id = 7;\n",
              "                var nbb_unformatted_code = \"df.locality_name = df.locality_name.str.lower()\\ndf.locality_name = df.locality_name.str.replace(\\\"\\u0451\\\", \\\"\\u0435\\\")\\n\\ndf.locality_name.nunique()\";\n",
              "                var nbb_formatted_code = \"df.locality_name = df.locality_name.str.lower()\\ndf.locality_name = df.locality_name.str.replace(\\\"\\u0451\\\", \\\"\\u0435\\\")\\n\\ndf.locality_name.nunique()\";\n",
              "                var nbb_cells = Jupyter.notebook.get_cells();\n",
              "                for (var i = 0; i < nbb_cells.length; ++i) {\n",
              "                    if (nbb_cells[i].input_prompt_number == nbb_cell_id) {\n",
              "                        if (nbb_cells[i].get_text() == nbb_unformatted_code) {\n",
              "                             nbb_cells[i].set_text(nbb_formatted_code);\n",
              "                        }\n",
              "                        break;\n",
              "                    }\n",
              "                }\n",
              "            }, 500);\n",
              "            "
            ],
            "text/plain": [
              "<IPython.core.display.Javascript object>"
            ]
          },
          "metadata": {},
          "output_type": "display_data"
        }
      ],
      "source": [
        "df.locality_name = df.locality_name.str.lower()\n",
        "df.locality_name = df.locality_name.str.replace(\"ё\", \"е\")\n",
        "\n",
        "df.locality_name.nunique()"
      ]
    },
    {
      "cell_type": "markdown",
      "id": "1df5eab0",
      "metadata": {
        "id": "1df5eab0"
      },
      "source": [
        "Проведенная обработка позволила исключить 34 неявных дубликата в столбце `locality_name`."
      ]
    },
    {
      "cell_type": "markdown",
      "id": "abb16d36",
      "metadata": {
        "id": "abb16d36"
      },
      "source": [
        "## Обработка пропусков"
      ]
    },
    {
      "cell_type": "markdown",
      "id": "d7697511",
      "metadata": {
        "id": "d7697511"
      },
      "source": [
        "Пропуски присутствуют в следующих столбцах: `ceiling_height`, `floors_total`, `living_area`, `is_apartment`, `kitchen_area`, `balcony`, `locality_name`, `airports_nearest`, `city_centers_nearest`, `parks_around_3000`, `parks_nearest`, `ponds_around_3000`, `ponds_nearest`, `days_exposition`. "
      ]
    },
    {
      "cell_type": "markdown",
      "id": "7004368f",
      "metadata": {
        "id": "7004368f"
      },
      "source": [
        "### Пропуски в столбцах из **первой** группы"
      ]
    },
    {
      "cell_type": "markdown",
      "id": "38a23dc9",
      "metadata": {
        "id": "38a23dc9"
      },
      "source": [
        "<div class=\"alert-info\">\n",
        "<b>Комментарий студента V2</b>\n",
        "\n",
        "Ниже дано пояснение по пропускам в ceiling_height.</div>"
      ]
    },
    {
      "cell_type": "markdown",
      "id": "e3a9df3d",
      "metadata": {
        "id": "e3a9df3d"
      },
      "source": [
        "Пропуски в столбцах из **первой** группы, по всей видимости, вызваны человеческим фактором - отсутствием информации у пользователя или нежеланием ее предоставлять. Например, в столбце `ceiling_height` пропуски вызваны, именно отсутствием информации - далеко не каждый помнит высоту своих потолков. При этом, количество пропусков составляет около 40%, а следовательно их исключение из датафрейма приведет к существенному искажению результатов. Кроме того, учитывая, что такая информация может влиять на стоимость объекта, заменять пропуски на какое-либо значение может так же привести к искажению результатов. \n",
        "\n",
        "Пропуски в столбцах `living_area` и `kitchen_area`, аналогично пропускам в столбце `ceiling_height`, могут быть обусловлены отсутствием информации у пользователя. Тем не менее они обладают высокой корреляцией со значениями в столбце `total_area`:"
      ]
    },
    {
      "cell_type": "code",
      "execution_count": null,
      "id": "2e02a207",
      "metadata": {
        "scrolled": true,
        "id": "2e02a207",
        "outputId": "b607d15f-0b5f-4e52-cce5-0fe7ffc2fb1f"
      },
      "outputs": [
        {
          "data": {
            "text/plain": [
              "0.6091211711198316"
            ]
          },
          "execution_count": 8,
          "metadata": {},
          "output_type": "execute_result"
        },
        {
          "data": {
            "application/javascript": [
              "\n",
              "            setTimeout(function() {\n",
              "                var nbb_cell_id = 8;\n",
              "                var nbb_unformatted_code = \"df[\\\"total_area\\\"].corr(df[\\\"kitchen_area\\\"])\";\n",
              "                var nbb_formatted_code = \"df[\\\"total_area\\\"].corr(df[\\\"kitchen_area\\\"])\";\n",
              "                var nbb_cells = Jupyter.notebook.get_cells();\n",
              "                for (var i = 0; i < nbb_cells.length; ++i) {\n",
              "                    if (nbb_cells[i].input_prompt_number == nbb_cell_id) {\n",
              "                        if (nbb_cells[i].get_text() == nbb_unformatted_code) {\n",
              "                             nbb_cells[i].set_text(nbb_formatted_code);\n",
              "                        }\n",
              "                        break;\n",
              "                    }\n",
              "                }\n",
              "            }, 500);\n",
              "            "
            ],
            "text/plain": [
              "<IPython.core.display.Javascript object>"
            ]
          },
          "metadata": {},
          "output_type": "display_data"
        }
      ],
      "source": [
        "df[\"total_area\"].corr(df[\"kitchen_area\"])"
      ]
    },
    {
      "cell_type": "code",
      "execution_count": null,
      "id": "bcf7bd51",
      "metadata": {
        "scrolled": true,
        "id": "bcf7bd51",
        "outputId": "af3b581e-5c80-447a-8ca9-b47e4c6f4579"
      },
      "outputs": [
        {
          "data": {
            "text/plain": [
              "0.9395373338721494"
            ]
          },
          "execution_count": 9,
          "metadata": {},
          "output_type": "execute_result"
        },
        {
          "data": {
            "application/javascript": [
              "\n",
              "            setTimeout(function() {\n",
              "                var nbb_cell_id = 9;\n",
              "                var nbb_unformatted_code = \"df[\\\"total_area\\\"].corr(df[\\\"living_area\\\"])\";\n",
              "                var nbb_formatted_code = \"df[\\\"total_area\\\"].corr(df[\\\"living_area\\\"])\";\n",
              "                var nbb_cells = Jupyter.notebook.get_cells();\n",
              "                for (var i = 0; i < nbb_cells.length; ++i) {\n",
              "                    if (nbb_cells[i].input_prompt_number == nbb_cell_id) {\n",
              "                        if (nbb_cells[i].get_text() == nbb_unformatted_code) {\n",
              "                             nbb_cells[i].set_text(nbb_formatted_code);\n",
              "                        }\n",
              "                        break;\n",
              "                    }\n",
              "                }\n",
              "            }, 500);\n",
              "            "
            ],
            "text/plain": [
              "<IPython.core.display.Javascript object>"
            ]
          },
          "metadata": {},
          "output_type": "display_data"
        }
      ],
      "source": [
        "df[\"total_area\"].corr(df[\"living_area\"])"
      ]
    },
    {
      "cell_type": "markdown",
      "id": "4f60f277",
      "metadata": {
        "id": "4f60f277"
      },
      "source": [
        "Таким образом, пропуски в столбцах `living_area` и `kitchen_area` можно восстановить аппроксимацией. Для этого заменим их на значение `-1` и обработаем при помощи функциЙ `rep_liv_area` и `rep_ktch_area`, которая находит все значения `-1` и восстанавливает вместо них значение общей площади, умноженное на коэффициент взаимосвязи. Последний рассчитаем, как отношение медианных значений жилой площади к общей. \n",
        "\n",
        "Применение медианного значения вместо среднего оправдано тем, что оно менее подвержено выбросам на концах диапазона."
      ]
    },
    {
      "cell_type": "code",
      "execution_count": null,
      "id": "6643c304",
      "metadata": {
        "id": "6643c304",
        "outputId": "86a55e32-48f8-487f-d2ce-55210a49f885"
      },
      "outputs": [
        {
          "data": {
            "application/javascript": [
              "\n",
              "            setTimeout(function() {\n",
              "                var nbb_cell_id = 10;\n",
              "                var nbb_unformatted_code = \"k_rel_liv_ttl = df.living_area.median() / df.total_area.median()\\nk_rel_ktch_ttl = df.kitchen_area.median() / df.total_area.median()\\n\\n\\ndef rep_liv_area(row):\\n    liv = row[\\\"living_area\\\"]\\n    ttl = row[\\\"total_area\\\"]\\n    if liv == -1:\\n        return ttl * k_rel_liv_ttl\\n    return liv\\n\\n\\ndef rep_ktch_area(row):\\n    ktch = row[\\\"kitchen_area\\\"]\\n    ttl = row[\\\"total_area\\\"]\\n    if ktch == -1:\\n        return ttl * k_rel_ktch_ttl\\n    return ktch\";\n",
              "                var nbb_formatted_code = \"k_rel_liv_ttl = df.living_area.median() / df.total_area.median()\\nk_rel_ktch_ttl = df.kitchen_area.median() / df.total_area.median()\\n\\n\\ndef rep_liv_area(row):\\n    liv = row[\\\"living_area\\\"]\\n    ttl = row[\\\"total_area\\\"]\\n    if liv == -1:\\n        return ttl * k_rel_liv_ttl\\n    return liv\\n\\n\\ndef rep_ktch_area(row):\\n    ktch = row[\\\"kitchen_area\\\"]\\n    ttl = row[\\\"total_area\\\"]\\n    if ktch == -1:\\n        return ttl * k_rel_ktch_ttl\\n    return ktch\";\n",
              "                var nbb_cells = Jupyter.notebook.get_cells();\n",
              "                for (var i = 0; i < nbb_cells.length; ++i) {\n",
              "                    if (nbb_cells[i].input_prompt_number == nbb_cell_id) {\n",
              "                        if (nbb_cells[i].get_text() == nbb_unformatted_code) {\n",
              "                             nbb_cells[i].set_text(nbb_formatted_code);\n",
              "                        }\n",
              "                        break;\n",
              "                    }\n",
              "                }\n",
              "            }, 500);\n",
              "            "
            ],
            "text/plain": [
              "<IPython.core.display.Javascript object>"
            ]
          },
          "metadata": {},
          "output_type": "display_data"
        }
      ],
      "source": [
        "k_rel_liv_ttl = df.living_area.median() / df.total_area.median()\n",
        "k_rel_ktch_ttl = df.kitchen_area.median() / df.total_area.median()\n",
        "\n",
        "\n",
        "def rep_liv_area(row):\n",
        "    liv = row[\"living_area\"]\n",
        "    ttl = row[\"total_area\"]\n",
        "    if liv == -1:\n",
        "        return ttl * k_rel_liv_ttl\n",
        "    return liv\n",
        "\n",
        "\n",
        "def rep_ktch_area(row):\n",
        "    ktch = row[\"kitchen_area\"]\n",
        "    ttl = row[\"total_area\"]\n",
        "    if ktch == -1:\n",
        "        return ttl * k_rel_ktch_ttl\n",
        "    return ktch"
      ]
    },
    {
      "cell_type": "code",
      "execution_count": null,
      "id": "480e674c",
      "metadata": {
        "scrolled": true,
        "id": "480e674c",
        "outputId": "aed93664-0a6a-4650-ca1a-7b3e9c2470e9"
      },
      "outputs": [
        {
          "data": {
            "application/javascript": [
              "\n",
              "            setTimeout(function() {\n",
              "                var nbb_cell_id = 11;\n",
              "                var nbb_unformatted_code = \"df[\\\"living_area\\\"] = df[\\\"living_area\\\"].fillna(-1)\\ndf[\\\"kitchen_area\\\"] = df[\\\"kitchen_area\\\"].fillna(-1)\\n\\ndf[\\\"living_area\\\"] = df.apply(rep_liv_area, axis=1)\\ndf[\\\"kitchen_area\\\"] = df.apply(rep_ktch_area, axis=1)\";\n",
              "                var nbb_formatted_code = \"df[\\\"living_area\\\"] = df[\\\"living_area\\\"].fillna(-1)\\ndf[\\\"kitchen_area\\\"] = df[\\\"kitchen_area\\\"].fillna(-1)\\n\\ndf[\\\"living_area\\\"] = df.apply(rep_liv_area, axis=1)\\ndf[\\\"kitchen_area\\\"] = df.apply(rep_ktch_area, axis=1)\";\n",
              "                var nbb_cells = Jupyter.notebook.get_cells();\n",
              "                for (var i = 0; i < nbb_cells.length; ++i) {\n",
              "                    if (nbb_cells[i].input_prompt_number == nbb_cell_id) {\n",
              "                        if (nbb_cells[i].get_text() == nbb_unformatted_code) {\n",
              "                             nbb_cells[i].set_text(nbb_formatted_code);\n",
              "                        }\n",
              "                        break;\n",
              "                    }\n",
              "                }\n",
              "            }, 500);\n",
              "            "
            ],
            "text/plain": [
              "<IPython.core.display.Javascript object>"
            ]
          },
          "metadata": {},
          "output_type": "display_data"
        }
      ],
      "source": [
        "df[\"living_area\"] = df[\"living_area\"].fillna(-1)\n",
        "df[\"kitchen_area\"] = df[\"kitchen_area\"].fillna(-1)\n",
        "\n",
        "df[\"living_area\"] = df.apply(rep_liv_area, axis=1)\n",
        "df[\"kitchen_area\"] = df.apply(rep_ktch_area, axis=1)"
      ]
    },
    {
      "cell_type": "markdown",
      "id": "3dfd96fc",
      "metadata": {
        "id": "3dfd96fc"
      },
      "source": [
        "Пропуски в столбце `floors_total` остались незаполненными, скорее всего, по невнимательности пользователя. Общая доля таких пропусков менее 1% от всего датафрейма, следовательно, их исключение не приведет к искажению результатов."
      ]
    },
    {
      "cell_type": "code",
      "execution_count": null,
      "id": "2abc4e6c",
      "metadata": {
        "scrolled": true,
        "id": "2abc4e6c",
        "outputId": "0aee4e1a-97d3-4aad-c7dd-9a125ebe1e93"
      },
      "outputs": [
        {
          "data": {
            "application/javascript": [
              "\n",
              "            setTimeout(function() {\n",
              "                var nbb_cell_id = 12;\n",
              "                var nbb_unformatted_code = \"df = df.dropna(subset=[\\\"floors_total\\\"])\";\n",
              "                var nbb_formatted_code = \"df = df.dropna(subset=[\\\"floors_total\\\"])\";\n",
              "                var nbb_cells = Jupyter.notebook.get_cells();\n",
              "                for (var i = 0; i < nbb_cells.length; ++i) {\n",
              "                    if (nbb_cells[i].input_prompt_number == nbb_cell_id) {\n",
              "                        if (nbb_cells[i].get_text() == nbb_unformatted_code) {\n",
              "                             nbb_cells[i].set_text(nbb_formatted_code);\n",
              "                        }\n",
              "                        break;\n",
              "                    }\n",
              "                }\n",
              "            }, 500);\n",
              "            "
            ],
            "text/plain": [
              "<IPython.core.display.Javascript object>"
            ]
          },
          "metadata": {},
          "output_type": "display_data"
        }
      ],
      "source": [
        "df = df.dropna(subset=[\"floors_total\"])"
      ]
    },
    {
      "cell_type": "markdown",
      "id": "193bd9e3",
      "metadata": {
        "id": "193bd9e3"
      },
      "source": [
        "Пропуски в колонках `is_apartment` и `balcony` скорее всего вызваны тем, что пользователь не заполнял их нулями в случае соответственно, если помещение не является апартаментом или отсутствует балкон. В этой связи, исправление пропусков можно выполнить методом `fillna()` на соответствующее значение без потери репрезентативности данных."
      ]
    },
    {
      "cell_type": "code",
      "execution_count": null,
      "id": "261e046b",
      "metadata": {
        "scrolled": true,
        "id": "261e046b",
        "outputId": "c7d291e7-addf-47e7-c116-ad4490cf844e"
      },
      "outputs": [
        {
          "data": {
            "application/javascript": [
              "\n",
              "            setTimeout(function() {\n",
              "                var nbb_cell_id = 13;\n",
              "                var nbb_unformatted_code = \"df[\\\"balcony\\\"] = df[\\\"balcony\\\"].fillna(0)\\ndf[\\\"is_apartment\\\"] = df[\\\"is_apartment\\\"].fillna(False)\";\n",
              "                var nbb_formatted_code = \"df[\\\"balcony\\\"] = df[\\\"balcony\\\"].fillna(0)\\ndf[\\\"is_apartment\\\"] = df[\\\"is_apartment\\\"].fillna(False)\";\n",
              "                var nbb_cells = Jupyter.notebook.get_cells();\n",
              "                for (var i = 0; i < nbb_cells.length; ++i) {\n",
              "                    if (nbb_cells[i].input_prompt_number == nbb_cell_id) {\n",
              "                        if (nbb_cells[i].get_text() == nbb_unformatted_code) {\n",
              "                             nbb_cells[i].set_text(nbb_formatted_code);\n",
              "                        }\n",
              "                        break;\n",
              "                    }\n",
              "                }\n",
              "            }, 500);\n",
              "            "
            ],
            "text/plain": [
              "<IPython.core.display.Javascript object>"
            ]
          },
          "metadata": {},
          "output_type": "display_data"
        }
      ],
      "source": [
        "df[\"balcony\"] = df[\"balcony\"].fillna(0)\n",
        "df[\"is_apartment\"] = df[\"is_apartment\"].fillna(False)"
      ]
    },
    {
      "cell_type": "markdown",
      "id": "5d055ccf",
      "metadata": {
        "id": "5d055ccf"
      },
      "source": [
        "Выведем информацию по датафрейму для анализа результатов выполненной обработки."
      ]
    },
    {
      "cell_type": "code",
      "execution_count": null,
      "id": "57fac440",
      "metadata": {
        "scrolled": true,
        "id": "57fac440",
        "outputId": "8dffff34-462c-4459-9072-57591371288c"
      },
      "outputs": [
        {
          "name": "stdout",
          "output_type": "stream",
          "text": [
            "<class 'pandas.core.frame.DataFrame'>\n",
            "Int64Index: 23613 entries, 0 to 23698\n",
            "Data columns (total 22 columns):\n",
            " #   Column                Non-Null Count  Dtype  \n",
            "---  ------                --------------  -----  \n",
            " 0   total_images          23613 non-null  int64  \n",
            " 1   last_price            23613 non-null  float64\n",
            " 2   total_area            23613 non-null  float64\n",
            " 3   first_day_exposition  23613 non-null  object \n",
            " 4   rooms                 23613 non-null  int64  \n",
            " 5   ceiling_height        14495 non-null  float64\n",
            " 6   floors_total          23613 non-null  float64\n",
            " 7   living_area           23613 non-null  float64\n",
            " 8   floor                 23613 non-null  int64  \n",
            " 9   is_apartment          23613 non-null  bool   \n",
            " 10  studio                23613 non-null  bool   \n",
            " 11  open_plan             23613 non-null  bool   \n",
            " 12  kitchen_area          23613 non-null  float64\n",
            " 13  balcony               23613 non-null  float64\n",
            " 14  locality_name         23565 non-null  object \n",
            " 15  airports_nearest      18081 non-null  float64\n",
            " 16  city_centers_nearest  18104 non-null  float64\n",
            " 17  parks_around_3000     18105 non-null  float64\n",
            " 18  parks_nearest         8045 non-null   float64\n",
            " 19  ponds_around_3000     18105 non-null  float64\n",
            " 20  ponds_nearest         9061 non-null   float64\n",
            " 21  days_exposition       20441 non-null  float64\n",
            "dtypes: bool(3), float64(14), int64(3), object(2)\n",
            "memory usage: 3.7+ MB\n"
          ]
        },
        {
          "data": {
            "application/javascript": [
              "\n",
              "            setTimeout(function() {\n",
              "                var nbb_cell_id = 14;\n",
              "                var nbb_unformatted_code = \"df.info()\";\n",
              "                var nbb_formatted_code = \"df.info()\";\n",
              "                var nbb_cells = Jupyter.notebook.get_cells();\n",
              "                for (var i = 0; i < nbb_cells.length; ++i) {\n",
              "                    if (nbb_cells[i].input_prompt_number == nbb_cell_id) {\n",
              "                        if (nbb_cells[i].get_text() == nbb_unformatted_code) {\n",
              "                             nbb_cells[i].set_text(nbb_formatted_code);\n",
              "                        }\n",
              "                        break;\n",
              "                    }\n",
              "                }\n",
              "            }, 500);\n",
              "            "
            ],
            "text/plain": [
              "<IPython.core.display.Javascript object>"
            ]
          },
          "metadata": {},
          "output_type": "display_data"
        }
      ],
      "source": [
        "df.info()"
      ]
    },
    {
      "cell_type": "markdown",
      "id": "6d6fcc21",
      "metadata": {
        "id": "6d6fcc21"
      },
      "source": [
        "В результате обработки пропусков в столбцах из **первой** группы, объем данных уменьшился 4%. При этом тип данных в столбце `is_apartment` автоматически изменился на `bool`."
      ]
    },
    {
      "cell_type": "markdown",
      "id": "f4f54841",
      "metadata": {
        "id": "f4f54841"
      },
      "source": [
        "### Пропуски в столбцах из **второй** группы"
      ]
    },
    {
      "cell_type": "markdown",
      "id": "240eb0c9",
      "metadata": {
        "id": "240eb0c9"
      },
      "source": [
        "Для анализа пропусков в столбцах из **второй** группы сравним количество строк с пропусками в столбце `airports_nearest` с количество пропусков в том же столбце с условием, что название населенного пункта **не** Санкт-Петербург. "
      ]
    },
    {
      "cell_type": "code",
      "execution_count": null,
      "id": "875dccbf",
      "metadata": {
        "id": "875dccbf",
        "outputId": "244c700c-2e66-4b5d-8feb-58925d1c3254"
      },
      "outputs": [
        {
          "data": {
            "text/plain": [
              "5524"
            ]
          },
          "execution_count": 15,
          "metadata": {},
          "output_type": "execute_result"
        },
        {
          "data": {
            "application/javascript": [
              "\n",
              "            setTimeout(function() {\n",
              "                var nbb_cell_id = 15;\n",
              "                var nbb_unformatted_code = \"df.loc[(df.airports_nearest.isna()), \\\"locality_name\\\"].count()\";\n",
              "                var nbb_formatted_code = \"df.loc[(df.airports_nearest.isna()), \\\"locality_name\\\"].count()\";\n",
              "                var nbb_cells = Jupyter.notebook.get_cells();\n",
              "                for (var i = 0; i < nbb_cells.length; ++i) {\n",
              "                    if (nbb_cells[i].input_prompt_number == nbb_cell_id) {\n",
              "                        if (nbb_cells[i].get_text() == nbb_unformatted_code) {\n",
              "                             nbb_cells[i].set_text(nbb_formatted_code);\n",
              "                        }\n",
              "                        break;\n",
              "                    }\n",
              "                }\n",
              "            }, 500);\n",
              "            "
            ],
            "text/plain": [
              "<IPython.core.display.Javascript object>"
            ]
          },
          "metadata": {},
          "output_type": "display_data"
        }
      ],
      "source": [
        "df.loc[(df.airports_nearest.isna()), \"locality_name\"].count()"
      ]
    },
    {
      "cell_type": "code",
      "execution_count": null,
      "id": "839eb68b",
      "metadata": {
        "scrolled": true,
        "id": "839eb68b",
        "outputId": "3b8f7c18-3197-4194-a282-607300addf4f"
      },
      "outputs": [
        {
          "data": {
            "text/html": [
              "<div>\n",
              "<style scoped>\n",
              "    .dataframe tbody tr th:only-of-type {\n",
              "        vertical-align: middle;\n",
              "    }\n",
              "\n",
              "    .dataframe tbody tr th {\n",
              "        vertical-align: top;\n",
              "    }\n",
              "\n",
              "    .dataframe thead th {\n",
              "        text-align: right;\n",
              "    }\n",
              "</style>\n",
              "<table border=\"1\" class=\"dataframe\">\n",
              "  <thead>\n",
              "    <tr style=\"text-align: right;\">\n",
              "      <th></th>\n",
              "      <th>total_images</th>\n",
              "      <th>last_price</th>\n",
              "      <th>total_area</th>\n",
              "      <th>first_day_exposition</th>\n",
              "      <th>rooms</th>\n",
              "      <th>ceiling_height</th>\n",
              "      <th>floors_total</th>\n",
              "      <th>living_area</th>\n",
              "      <th>floor</th>\n",
              "      <th>is_apartment</th>\n",
              "      <th>studio</th>\n",
              "      <th>open_plan</th>\n",
              "      <th>kitchen_area</th>\n",
              "      <th>balcony</th>\n",
              "      <th>locality_name</th>\n",
              "      <th>airports_nearest</th>\n",
              "      <th>city_centers_nearest</th>\n",
              "      <th>parks_around_3000</th>\n",
              "      <th>parks_nearest</th>\n",
              "      <th>ponds_around_3000</th>\n",
              "      <th>ponds_nearest</th>\n",
              "      <th>days_exposition</th>\n",
              "    </tr>\n",
              "  </thead>\n",
              "  <tbody>\n",
              "    <tr>\n",
              "      <th>5</th>\n",
              "      <td>10</td>\n",
              "      <td>2890000.0</td>\n",
              "      <td>30.40</td>\n",
              "      <td>2018-09-10T00:00:00</td>\n",
              "      <td>1</td>\n",
              "      <td>NaN</td>\n",
              "      <td>12.0</td>\n",
              "      <td>14.400000</td>\n",
              "      <td>5</td>\n",
              "      <td>False</td>\n",
              "      <td>False</td>\n",
              "      <td>False</td>\n",
              "      <td>9.1000</td>\n",
              "      <td>0.0</td>\n",
              "      <td>городской поселок янино-1</td>\n",
              "      <td>NaN</td>\n",
              "      <td>NaN</td>\n",
              "      <td>NaN</td>\n",
              "      <td>NaN</td>\n",
              "      <td>NaN</td>\n",
              "      <td>NaN</td>\n",
              "      <td>55.0</td>\n",
              "    </tr>\n",
              "    <tr>\n",
              "      <th>8</th>\n",
              "      <td>20</td>\n",
              "      <td>2900000.0</td>\n",
              "      <td>33.16</td>\n",
              "      <td>2018-05-23T00:00:00</td>\n",
              "      <td>1</td>\n",
              "      <td>NaN</td>\n",
              "      <td>27.0</td>\n",
              "      <td>15.430000</td>\n",
              "      <td>26</td>\n",
              "      <td>False</td>\n",
              "      <td>False</td>\n",
              "      <td>False</td>\n",
              "      <td>8.8100</td>\n",
              "      <td>0.0</td>\n",
              "      <td>поселок мурино</td>\n",
              "      <td>NaN</td>\n",
              "      <td>NaN</td>\n",
              "      <td>NaN</td>\n",
              "      <td>NaN</td>\n",
              "      <td>NaN</td>\n",
              "      <td>NaN</td>\n",
              "      <td>189.0</td>\n",
              "    </tr>\n",
              "    <tr>\n",
              "      <th>12</th>\n",
              "      <td>10</td>\n",
              "      <td>3890000.0</td>\n",
              "      <td>54.00</td>\n",
              "      <td>2016-06-30T00:00:00</td>\n",
              "      <td>2</td>\n",
              "      <td>NaN</td>\n",
              "      <td>5.0</td>\n",
              "      <td>30.000000</td>\n",
              "      <td>5</td>\n",
              "      <td>False</td>\n",
              "      <td>False</td>\n",
              "      <td>False</td>\n",
              "      <td>9.0000</td>\n",
              "      <td>0.0</td>\n",
              "      <td>сертолово</td>\n",
              "      <td>NaN</td>\n",
              "      <td>NaN</td>\n",
              "      <td>NaN</td>\n",
              "      <td>NaN</td>\n",
              "      <td>NaN</td>\n",
              "      <td>NaN</td>\n",
              "      <td>90.0</td>\n",
              "    </tr>\n",
              "    <tr>\n",
              "      <th>22</th>\n",
              "      <td>20</td>\n",
              "      <td>5000000.0</td>\n",
              "      <td>58.00</td>\n",
              "      <td>2017-04-24T00:00:00</td>\n",
              "      <td>2</td>\n",
              "      <td>2.75</td>\n",
              "      <td>25.0</td>\n",
              "      <td>30.000000</td>\n",
              "      <td>15</td>\n",
              "      <td>False</td>\n",
              "      <td>False</td>\n",
              "      <td>False</td>\n",
              "      <td>11.0000</td>\n",
              "      <td>2.0</td>\n",
              "      <td>деревня кудрово</td>\n",
              "      <td>NaN</td>\n",
              "      <td>NaN</td>\n",
              "      <td>NaN</td>\n",
              "      <td>NaN</td>\n",
              "      <td>NaN</td>\n",
              "      <td>NaN</td>\n",
              "      <td>60.0</td>\n",
              "    </tr>\n",
              "    <tr>\n",
              "      <th>30</th>\n",
              "      <td>12</td>\n",
              "      <td>2200000.0</td>\n",
              "      <td>32.80</td>\n",
              "      <td>2018-02-19T00:00:00</td>\n",
              "      <td>1</td>\n",
              "      <td>NaN</td>\n",
              "      <td>9.0</td>\n",
              "      <td>18.923077</td>\n",
              "      <td>2</td>\n",
              "      <td>False</td>\n",
              "      <td>False</td>\n",
              "      <td>False</td>\n",
              "      <td>5.7400</td>\n",
              "      <td>0.0</td>\n",
              "      <td>коммунар</td>\n",
              "      <td>NaN</td>\n",
              "      <td>NaN</td>\n",
              "      <td>NaN</td>\n",
              "      <td>NaN</td>\n",
              "      <td>NaN</td>\n",
              "      <td>NaN</td>\n",
              "      <td>63.0</td>\n",
              "    </tr>\n",
              "    <tr>\n",
              "      <th>...</th>\n",
              "      <td>...</td>\n",
              "      <td>...</td>\n",
              "      <td>...</td>\n",
              "      <td>...</td>\n",
              "      <td>...</td>\n",
              "      <td>...</td>\n",
              "      <td>...</td>\n",
              "      <td>...</td>\n",
              "      <td>...</td>\n",
              "      <td>...</td>\n",
              "      <td>...</td>\n",
              "      <td>...</td>\n",
              "      <td>...</td>\n",
              "      <td>...</td>\n",
              "      <td>...</td>\n",
              "      <td>...</td>\n",
              "      <td>...</td>\n",
              "      <td>...</td>\n",
              "      <td>...</td>\n",
              "      <td>...</td>\n",
              "      <td>...</td>\n",
              "      <td>...</td>\n",
              "    </tr>\n",
              "    <tr>\n",
              "      <th>23683</th>\n",
              "      <td>16</td>\n",
              "      <td>2100000.0</td>\n",
              "      <td>62.80</td>\n",
              "      <td>2018-09-18T00:00:00</td>\n",
              "      <td>4</td>\n",
              "      <td>2.50</td>\n",
              "      <td>5.0</td>\n",
              "      <td>45.500000</td>\n",
              "      <td>3</td>\n",
              "      <td>False</td>\n",
              "      <td>False</td>\n",
              "      <td>False</td>\n",
              "      <td>5.5000</td>\n",
              "      <td>0.0</td>\n",
              "      <td>поселок дзержинского</td>\n",
              "      <td>NaN</td>\n",
              "      <td>NaN</td>\n",
              "      <td>NaN</td>\n",
              "      <td>NaN</td>\n",
              "      <td>NaN</td>\n",
              "      <td>NaN</td>\n",
              "      <td>NaN</td>\n",
              "    </tr>\n",
              "    <tr>\n",
              "      <th>23692</th>\n",
              "      <td>2</td>\n",
              "      <td>1350000.0</td>\n",
              "      <td>30.00</td>\n",
              "      <td>2017-07-07T00:00:00</td>\n",
              "      <td>1</td>\n",
              "      <td>NaN</td>\n",
              "      <td>5.0</td>\n",
              "      <td>17.500000</td>\n",
              "      <td>4</td>\n",
              "      <td>False</td>\n",
              "      <td>False</td>\n",
              "      <td>False</td>\n",
              "      <td>6.0000</td>\n",
              "      <td>0.0</td>\n",
              "      <td>тихвин</td>\n",
              "      <td>NaN</td>\n",
              "      <td>NaN</td>\n",
              "      <td>NaN</td>\n",
              "      <td>NaN</td>\n",
              "      <td>NaN</td>\n",
              "      <td>NaN</td>\n",
              "      <td>413.0</td>\n",
              "    </tr>\n",
              "    <tr>\n",
              "      <th>23695</th>\n",
              "      <td>14</td>\n",
              "      <td>3100000.0</td>\n",
              "      <td>59.00</td>\n",
              "      <td>2018-01-15T00:00:00</td>\n",
              "      <td>3</td>\n",
              "      <td>NaN</td>\n",
              "      <td>5.0</td>\n",
              "      <td>38.000000</td>\n",
              "      <td>4</td>\n",
              "      <td>False</td>\n",
              "      <td>False</td>\n",
              "      <td>False</td>\n",
              "      <td>8.5000</td>\n",
              "      <td>0.0</td>\n",
              "      <td>тосно</td>\n",
              "      <td>NaN</td>\n",
              "      <td>NaN</td>\n",
              "      <td>NaN</td>\n",
              "      <td>NaN</td>\n",
              "      <td>NaN</td>\n",
              "      <td>NaN</td>\n",
              "      <td>45.0</td>\n",
              "    </tr>\n",
              "    <tr>\n",
              "      <th>23696</th>\n",
              "      <td>18</td>\n",
              "      <td>2500000.0</td>\n",
              "      <td>56.70</td>\n",
              "      <td>2018-02-11T00:00:00</td>\n",
              "      <td>2</td>\n",
              "      <td>NaN</td>\n",
              "      <td>3.0</td>\n",
              "      <td>29.700000</td>\n",
              "      <td>1</td>\n",
              "      <td>False</td>\n",
              "      <td>False</td>\n",
              "      <td>False</td>\n",
              "      <td>9.9225</td>\n",
              "      <td>0.0</td>\n",
              "      <td>село рождествено</td>\n",
              "      <td>NaN</td>\n",
              "      <td>NaN</td>\n",
              "      <td>NaN</td>\n",
              "      <td>NaN</td>\n",
              "      <td>NaN</td>\n",
              "      <td>NaN</td>\n",
              "      <td>NaN</td>\n",
              "    </tr>\n",
              "    <tr>\n",
              "      <th>23698</th>\n",
              "      <td>4</td>\n",
              "      <td>1350000.0</td>\n",
              "      <td>32.30</td>\n",
              "      <td>2017-07-21T00:00:00</td>\n",
              "      <td>1</td>\n",
              "      <td>2.50</td>\n",
              "      <td>5.0</td>\n",
              "      <td>12.300000</td>\n",
              "      <td>1</td>\n",
              "      <td>False</td>\n",
              "      <td>False</td>\n",
              "      <td>False</td>\n",
              "      <td>9.0000</td>\n",
              "      <td>0.0</td>\n",
              "      <td>поселок новый учхоз</td>\n",
              "      <td>NaN</td>\n",
              "      <td>NaN</td>\n",
              "      <td>NaN</td>\n",
              "      <td>NaN</td>\n",
              "      <td>NaN</td>\n",
              "      <td>NaN</td>\n",
              "      <td>NaN</td>\n",
              "    </tr>\n",
              "  </tbody>\n",
              "</table>\n",
              "<p>5448 rows × 22 columns</p>\n",
              "</div>"
            ],
            "text/plain": [
              "       total_images  last_price  total_area first_day_exposition  rooms  \\\n",
              "5                10   2890000.0       30.40  2018-09-10T00:00:00      1   \n",
              "8                20   2900000.0       33.16  2018-05-23T00:00:00      1   \n",
              "12               10   3890000.0       54.00  2016-06-30T00:00:00      2   \n",
              "22               20   5000000.0       58.00  2017-04-24T00:00:00      2   \n",
              "30               12   2200000.0       32.80  2018-02-19T00:00:00      1   \n",
              "...             ...         ...         ...                  ...    ...   \n",
              "23683            16   2100000.0       62.80  2018-09-18T00:00:00      4   \n",
              "23692             2   1350000.0       30.00  2017-07-07T00:00:00      1   \n",
              "23695            14   3100000.0       59.00  2018-01-15T00:00:00      3   \n",
              "23696            18   2500000.0       56.70  2018-02-11T00:00:00      2   \n",
              "23698             4   1350000.0       32.30  2017-07-21T00:00:00      1   \n",
              "\n",
              "       ceiling_height  floors_total  living_area  floor  is_apartment  studio  \\\n",
              "5                 NaN          12.0    14.400000      5         False   False   \n",
              "8                 NaN          27.0    15.430000     26         False   False   \n",
              "12                NaN           5.0    30.000000      5         False   False   \n",
              "22               2.75          25.0    30.000000     15         False   False   \n",
              "30                NaN           9.0    18.923077      2         False   False   \n",
              "...               ...           ...          ...    ...           ...     ...   \n",
              "23683            2.50           5.0    45.500000      3         False   False   \n",
              "23692             NaN           5.0    17.500000      4         False   False   \n",
              "23695             NaN           5.0    38.000000      4         False   False   \n",
              "23696             NaN           3.0    29.700000      1         False   False   \n",
              "23698            2.50           5.0    12.300000      1         False   False   \n",
              "\n",
              "       open_plan  kitchen_area  balcony              locality_name  \\\n",
              "5          False        9.1000      0.0  городской поселок янино-1   \n",
              "8          False        8.8100      0.0             поселок мурино   \n",
              "12         False        9.0000      0.0                  сертолово   \n",
              "22         False       11.0000      2.0            деревня кудрово   \n",
              "30         False        5.7400      0.0                   коммунар   \n",
              "...          ...           ...      ...                        ...   \n",
              "23683      False        5.5000      0.0       поселок дзержинского   \n",
              "23692      False        6.0000      0.0                     тихвин   \n",
              "23695      False        8.5000      0.0                      тосно   \n",
              "23696      False        9.9225      0.0           село рождествено   \n",
              "23698      False        9.0000      0.0        поселок новый учхоз   \n",
              "\n",
              "       airports_nearest  city_centers_nearest  parks_around_3000  \\\n",
              "5                   NaN                   NaN                NaN   \n",
              "8                   NaN                   NaN                NaN   \n",
              "12                  NaN                   NaN                NaN   \n",
              "22                  NaN                   NaN                NaN   \n",
              "30                  NaN                   NaN                NaN   \n",
              "...                 ...                   ...                ...   \n",
              "23683               NaN                   NaN                NaN   \n",
              "23692               NaN                   NaN                NaN   \n",
              "23695               NaN                   NaN                NaN   \n",
              "23696               NaN                   NaN                NaN   \n",
              "23698               NaN                   NaN                NaN   \n",
              "\n",
              "       parks_nearest  ponds_around_3000  ponds_nearest  days_exposition  \n",
              "5                NaN                NaN            NaN             55.0  \n",
              "8                NaN                NaN            NaN            189.0  \n",
              "12               NaN                NaN            NaN             90.0  \n",
              "22               NaN                NaN            NaN             60.0  \n",
              "30               NaN                NaN            NaN             63.0  \n",
              "...              ...                ...            ...              ...  \n",
              "23683            NaN                NaN            NaN              NaN  \n",
              "23692            NaN                NaN            NaN            413.0  \n",
              "23695            NaN                NaN            NaN             45.0  \n",
              "23696            NaN                NaN            NaN              NaN  \n",
              "23698            NaN                NaN            NaN              NaN  \n",
              "\n",
              "[5448 rows x 22 columns]"
            ]
          },
          "execution_count": 16,
          "metadata": {},
          "output_type": "execute_result"
        },
        {
          "data": {
            "application/javascript": [
              "\n",
              "            setTimeout(function() {\n",
              "                var nbb_cell_id = 16;\n",
              "                var nbb_unformatted_code = \"df.loc[(df.airports_nearest.isna()) & (df.locality_name != \\\"\\u0441\\u0430\\u043d\\u043a\\u0442-\\u043f\\u0435\\u0442\\u0435\\u0440\\u0431\\u0443\\u0440\\u0433\\\")]\";\n",
              "                var nbb_formatted_code = \"df.loc[(df.airports_nearest.isna()) & (df.locality_name != \\\"\\u0441\\u0430\\u043d\\u043a\\u0442-\\u043f\\u0435\\u0442\\u0435\\u0440\\u0431\\u0443\\u0440\\u0433\\\")]\";\n",
              "                var nbb_cells = Jupyter.notebook.get_cells();\n",
              "                for (var i = 0; i < nbb_cells.length; ++i) {\n",
              "                    if (nbb_cells[i].input_prompt_number == nbb_cell_id) {\n",
              "                        if (nbb_cells[i].get_text() == nbb_unformatted_code) {\n",
              "                             nbb_cells[i].set_text(nbb_formatted_code);\n",
              "                        }\n",
              "                        break;\n",
              "                    }\n",
              "                }\n",
              "            }, 500);\n",
              "            "
            ],
            "text/plain": [
              "<IPython.core.display.Javascript object>"
            ]
          },
          "metadata": {},
          "output_type": "display_data"
        }
      ],
      "source": [
        "df.loc[(df.airports_nearest.isna()) & (df.locality_name != \"санкт-петербург\")]"
      ]
    },
    {
      "cell_type": "markdown",
      "id": "388191c4",
      "metadata": {
        "id": "388191c4"
      },
      "source": [
        "Из представленных данных хорошо видно, что только 64 объекта недвижимости с пропусками в столбце `airports_nearest` находятся в Санкт-Петербурге. Выясним количество объектов недвижимости за пределами Санкт-Петербурга с одновременными пропусками в столбцах `airports_nearest`, `city_centers_nearest`, `parks_around_3000`, `parks_nearest`, `ponds_around_3000`, `ponds_nearest`."
      ]
    },
    {
      "cell_type": "code",
      "execution_count": null,
      "id": "5552c72e",
      "metadata": {
        "id": "5552c72e",
        "outputId": "ec3efca3-5dde-4785-8821-0b442965be1d"
      },
      "outputs": [
        {
          "data": {
            "text/plain": [
              "5448"
            ]
          },
          "execution_count": 17,
          "metadata": {},
          "output_type": "execute_result"
        },
        {
          "data": {
            "application/javascript": [
              "\n",
              "            setTimeout(function() {\n",
              "                var nbb_cell_id = 17;\n",
              "                var nbb_unformatted_code = \"df.loc[\\n    (df.locality_name != \\\"\\u0441\\u0430\\u043d\\u043a\\u0442-\\u043f\\u0435\\u0442\\u0435\\u0440\\u0431\\u0443\\u0440\\u0433\\\")\\n    & (df.airports_nearest.isna())\\n    & (df.city_centers_nearest.isna())\\n    & (df.parks_around_3000.isna())\\n    & (df.parks_nearest.isna())\\n    & (df.ponds_around_3000.isna())\\n    & (df.ponds_nearest.isna()),\\n    \\\"total_images\\\",\\n].count()\";\n",
              "                var nbb_formatted_code = \"df.loc[\\n    (df.locality_name != \\\"\\u0441\\u0430\\u043d\\u043a\\u0442-\\u043f\\u0435\\u0442\\u0435\\u0440\\u0431\\u0443\\u0440\\u0433\\\")\\n    & (df.airports_nearest.isna())\\n    & (df.city_centers_nearest.isna())\\n    & (df.parks_around_3000.isna())\\n    & (df.parks_nearest.isna())\\n    & (df.ponds_around_3000.isna())\\n    & (df.ponds_nearest.isna()),\\n    \\\"total_images\\\",\\n].count()\";\n",
              "                var nbb_cells = Jupyter.notebook.get_cells();\n",
              "                for (var i = 0; i < nbb_cells.length; ++i) {\n",
              "                    if (nbb_cells[i].input_prompt_number == nbb_cell_id) {\n",
              "                        if (nbb_cells[i].get_text() == nbb_unformatted_code) {\n",
              "                             nbb_cells[i].set_text(nbb_formatted_code);\n",
              "                        }\n",
              "                        break;\n",
              "                    }\n",
              "                }\n",
              "            }, 500);\n",
              "            "
            ],
            "text/plain": [
              "<IPython.core.display.Javascript object>"
            ]
          },
          "metadata": {},
          "output_type": "display_data"
        }
      ],
      "source": [
        "df.loc[\n",
        "    (df.locality_name != \"санкт-петербург\")\n",
        "    & (df.airports_nearest.isna())\n",
        "    & (df.city_centers_nearest.isna())\n",
        "    & (df.parks_around_3000.isna())\n",
        "    & (df.parks_nearest.isna())\n",
        "    & (df.ponds_around_3000.isna())\n",
        "    & (df.ponds_nearest.isna()),\n",
        "    \"total_images\",\n",
        "].count()"
      ]
    },
    {
      "cell_type": "markdown",
      "id": "22b1007a",
      "metadata": {
        "id": "22b1007a"
      },
      "source": [
        "Число строк не изменилось. \n",
        "\n",
        "Выведем населенные пункты, для которых существуют значения в столбце `airports_nearest`"
      ]
    },
    {
      "cell_type": "code",
      "execution_count": null,
      "id": "b820a57b",
      "metadata": {
        "id": "b820a57b",
        "outputId": "998edc62-7cc1-4a14-d82c-36359d16c847"
      },
      "outputs": [
        {
          "data": {
            "text/plain": [
              "санкт-петербург            15567\n",
              "поселок шушары               436\n",
              "пушкин                       369\n",
              "колпино                      337\n",
              "поселок парголово            327\n",
              "петергоф                     201\n",
              "сестрорецк                   183\n",
              "красное село                 174\n",
              "ломоносов                    132\n",
              "кронштадт                     95\n",
              "поселок металлострой          66\n",
              "поселок стрельна              43\n",
              "павловск                      38\n",
              "зеленогорск                   24\n",
              "поселок понтонный             20\n",
              "поселок саперный               6\n",
              "поселок молодежное             5\n",
              "поселок песочный               4\n",
              "поселок репино                 4\n",
              "поселок лисий нос              3\n",
              "поселок александровская        2\n",
              "поселок усть-ижора             2\n",
              "поселок петро-славянка         1\n",
              "поселок левашово               1\n",
              "поселок белоостров             1\n",
              "Name: locality_name, dtype: int64"
            ]
          },
          "execution_count": 18,
          "metadata": {},
          "output_type": "execute_result"
        },
        {
          "data": {
            "application/javascript": [
              "\n",
              "            setTimeout(function() {\n",
              "                var nbb_cell_id = 18;\n",
              "                var nbb_unformatted_code = \"df.loc[(df.airports_nearest.notna()), \\\"locality_name\\\"].value_counts()\";\n",
              "                var nbb_formatted_code = \"df.loc[(df.airports_nearest.notna()), \\\"locality_name\\\"].value_counts()\";\n",
              "                var nbb_cells = Jupyter.notebook.get_cells();\n",
              "                for (var i = 0; i < nbb_cells.length; ++i) {\n",
              "                    if (nbb_cells[i].input_prompt_number == nbb_cell_id) {\n",
              "                        if (nbb_cells[i].get_text() == nbb_unformatted_code) {\n",
              "                             nbb_cells[i].set_text(nbb_formatted_code);\n",
              "                        }\n",
              "                        break;\n",
              "                    }\n",
              "                }\n",
              "            }, 500);\n",
              "            "
            ],
            "text/plain": [
              "<IPython.core.display.Javascript object>"
            ]
          },
          "metadata": {},
          "output_type": "display_data"
        }
      ],
      "source": [
        "df.loc[(df.airports_nearest.notna()), \"locality_name\"].value_counts()"
      ]
    },
    {
      "cell_type": "markdown",
      "id": "30362069",
      "metadata": {
        "id": "30362069"
      },
      "source": [
        "Значения в столбце `airports_nearest` присутствуют только для Санкт-Петербурга и населенных пунктов, включенных в его состав. Для остальных населенных пунктов данные отсутствуют. По всей видимости, это может объясняться тем, что в картографической базе данных не рассчитывается дистанция до аэропорта Пулково для объектов недвижимости за пределами Санкт-Петербурга, а также для них отсутсвует база данных о прудах и парках. Заполнение пропусков в столбцах `airports_nearest`, `city_centers_nearest`, `parks_around_3000`, `parks_nearest`, `ponds_around_3000`, `ponds_nearest` для объектов недвижимости за пределами Санкт-Петербурга можно осуществить в виде замены на текстовое или булево значение, но это может повредить наглядности результатов исследования при их визуализации. В этой связи, заполнение пропусков представляется нецелесообразным.\n",
        "\n",
        "Учитывая сделанные выводы об отсутствии базы данных за пределами Санкт-Петербурга, пропуски в столбце `locality_name` для объектов недвижимости, имеющих данные в одном из столбце о ближайших \"точках интереса\" можно заменить на значение `санкт-петербург`. "
      ]
    },
    {
      "cell_type": "code",
      "execution_count": null,
      "id": "943d85df",
      "metadata": {
        "scrolled": false,
        "id": "943d85df",
        "outputId": "a4749e4a-6434-4e33-9eb5-272f73a85f96"
      },
      "outputs": [
        {
          "data": {
            "application/javascript": [
              "\n",
              "            setTimeout(function() {\n",
              "                var nbb_cell_id = 19;\n",
              "                var nbb_unformatted_code = \"df.loc[\\n    (df.locality_name.isna())\\n    & (\\n        (df.airports_nearest.notna())\\n        | (df.city_centers_nearest.notna())\\n        | (df.parks_around_3000.notna())\\n        | (df.parks_nearest.notna())\\n        | (df.ponds_around_3000.notna())\\n        | (df.ponds_nearest.notna())\\n    ),\\n    \\\"locality_name\\\",\\n] = df.loc[\\n    (df.locality_name.isna())\\n    & (\\n        (df.airports_nearest.notna())\\n        | (df.city_centers_nearest.notna())\\n        | (df.parks_around_3000.notna())\\n        | (df.parks_nearest.notna())\\n        | (df.ponds_around_3000.notna())\\n        | (df.ponds_nearest.notna())\\n    ),\\n    \\\"locality_name\\\",\\n].fillna(\\n    \\\"\\u0441\\u0430\\u043d\\u043a\\u0442-\\u043f\\u0435\\u0442\\u0435\\u0440\\u0431\\u0443\\u0440\\u0433\\\"\\n)\";\n",
              "                var nbb_formatted_code = \"df.loc[\\n    (df.locality_name.isna())\\n    & (\\n        (df.airports_nearest.notna())\\n        | (df.city_centers_nearest.notna())\\n        | (df.parks_around_3000.notna())\\n        | (df.parks_nearest.notna())\\n        | (df.ponds_around_3000.notna())\\n        | (df.ponds_nearest.notna())\\n    ),\\n    \\\"locality_name\\\",\\n] = df.loc[\\n    (df.locality_name.isna())\\n    & (\\n        (df.airports_nearest.notna())\\n        | (df.city_centers_nearest.notna())\\n        | (df.parks_around_3000.notna())\\n        | (df.parks_nearest.notna())\\n        | (df.ponds_around_3000.notna())\\n        | (df.ponds_nearest.notna())\\n    ),\\n    \\\"locality_name\\\",\\n].fillna(\\n    \\\"\\u0441\\u0430\\u043d\\u043a\\u0442-\\u043f\\u0435\\u0442\\u0435\\u0440\\u0431\\u0443\\u0440\\u0433\\\"\\n)\";\n",
              "                var nbb_cells = Jupyter.notebook.get_cells();\n",
              "                for (var i = 0; i < nbb_cells.length; ++i) {\n",
              "                    if (nbb_cells[i].input_prompt_number == nbb_cell_id) {\n",
              "                        if (nbb_cells[i].get_text() == nbb_unformatted_code) {\n",
              "                             nbb_cells[i].set_text(nbb_formatted_code);\n",
              "                        }\n",
              "                        break;\n",
              "                    }\n",
              "                }\n",
              "            }, 500);\n",
              "            "
            ],
            "text/plain": [
              "<IPython.core.display.Javascript object>"
            ]
          },
          "metadata": {},
          "output_type": "display_data"
        }
      ],
      "source": [
        "df.loc[\n",
        "    (df.locality_name.isna())\n",
        "    & (\n",
        "        (df.airports_nearest.notna())\n",
        "        | (df.city_centers_nearest.notna())\n",
        "        | (df.parks_around_3000.notna())\n",
        "        | (df.parks_nearest.notna())\n",
        "        | (df.ponds_around_3000.notna())\n",
        "        | (df.ponds_nearest.notna())\n",
        "    ),\n",
        "    \"locality_name\",\n",
        "] = df.loc[\n",
        "    (df.locality_name.isna())\n",
        "    & (\n",
        "        (df.airports_nearest.notna())\n",
        "        | (df.city_centers_nearest.notna())\n",
        "        | (df.parks_around_3000.notna())\n",
        "        | (df.parks_nearest.notna())\n",
        "        | (df.ponds_around_3000.notna())\n",
        "        | (df.ponds_nearest.notna())\n",
        "    ),\n",
        "    \"locality_name\",\n",
        "].fillna(\n",
        "    \"санкт-петербург\"\n",
        ")"
      ]
    },
    {
      "cell_type": "markdown",
      "id": "d3dfe625",
      "metadata": {
        "id": "d3dfe625"
      },
      "source": [
        "Количество оставшихся пропусков в столбце `locality_name` равно:"
      ]
    },
    {
      "cell_type": "code",
      "execution_count": null,
      "id": "1ae0c266",
      "metadata": {
        "id": "1ae0c266",
        "outputId": "3b52208b-aca6-484c-b594-8777c3fe1e91"
      },
      "outputs": [
        {
          "data": {
            "text/plain": [
              "8"
            ]
          },
          "execution_count": 20,
          "metadata": {},
          "output_type": "execute_result"
        },
        {
          "data": {
            "application/javascript": [
              "\n",
              "            setTimeout(function() {\n",
              "                var nbb_cell_id = 20;\n",
              "                var nbb_unformatted_code = \"df[\\\"locality_name\\\"].isna().sum()\";\n",
              "                var nbb_formatted_code = \"df[\\\"locality_name\\\"].isna().sum()\";\n",
              "                var nbb_cells = Jupyter.notebook.get_cells();\n",
              "                for (var i = 0; i < nbb_cells.length; ++i) {\n",
              "                    if (nbb_cells[i].input_prompt_number == nbb_cell_id) {\n",
              "                        if (nbb_cells[i].get_text() == nbb_unformatted_code) {\n",
              "                             nbb_cells[i].set_text(nbb_formatted_code);\n",
              "                        }\n",
              "                        break;\n",
              "                    }\n",
              "                }\n",
              "            }, 500);\n",
              "            "
            ],
            "text/plain": [
              "<IPython.core.display.Javascript object>"
            ]
          },
          "metadata": {},
          "output_type": "display_data"
        }
      ],
      "source": [
        "df[\"locality_name\"].isna().sum()"
      ]
    },
    {
      "cell_type": "markdown",
      "id": "5514c769",
      "metadata": {
        "id": "5514c769"
      },
      "source": [
        "Общая доля таких пропусков менее 1% от всего датафрейма, следовательно, их исключение не приведет к искажению результатов."
      ]
    },
    {
      "cell_type": "code",
      "execution_count": null,
      "id": "ed65a8c8",
      "metadata": {
        "scrolled": true,
        "id": "ed65a8c8",
        "outputId": "fb51bf4c-7bc9-44de-f3f7-fb1f1b46ab5f"
      },
      "outputs": [
        {
          "data": {
            "application/javascript": [
              "\n",
              "            setTimeout(function() {\n",
              "                var nbb_cell_id = 21;\n",
              "                var nbb_unformatted_code = \"df = df.dropna(subset=[\\\"locality_name\\\"])\";\n",
              "                var nbb_formatted_code = \"df = df.dropna(subset=[\\\"locality_name\\\"])\";\n",
              "                var nbb_cells = Jupyter.notebook.get_cells();\n",
              "                for (var i = 0; i < nbb_cells.length; ++i) {\n",
              "                    if (nbb_cells[i].input_prompt_number == nbb_cell_id) {\n",
              "                        if (nbb_cells[i].get_text() == nbb_unformatted_code) {\n",
              "                             nbb_cells[i].set_text(nbb_formatted_code);\n",
              "                        }\n",
              "                        break;\n",
              "                    }\n",
              "                }\n",
              "            }, 500);\n",
              "            "
            ],
            "text/plain": [
              "<IPython.core.display.Javascript object>"
            ]
          },
          "metadata": {},
          "output_type": "display_data"
        }
      ],
      "source": [
        "df = df.dropna(subset=[\"locality_name\"])"
      ]
    },
    {
      "cell_type": "markdown",
      "id": "c4504fce",
      "metadata": {
        "id": "c4504fce"
      },
      "source": [
        "Количество пропусков в столбце `days_exposition` равно:"
      ]
    },
    {
      "cell_type": "code",
      "execution_count": null,
      "id": "81b8e2d2",
      "metadata": {
        "id": "81b8e2d2",
        "outputId": "77c93379-c875-44a7-b873-4b6e52c29cd7"
      },
      "outputs": [
        {
          "data": {
            "text/plain": [
              "3171"
            ]
          },
          "execution_count": 22,
          "metadata": {},
          "output_type": "execute_result"
        },
        {
          "data": {
            "application/javascript": [
              "\n",
              "            setTimeout(function() {\n",
              "                var nbb_cell_id = 22;\n",
              "                var nbb_unformatted_code = \"df.days_exposition.isna().sum()\";\n",
              "                var nbb_formatted_code = \"df.days_exposition.isna().sum()\";\n",
              "                var nbb_cells = Jupyter.notebook.get_cells();\n",
              "                for (var i = 0; i < nbb_cells.length; ++i) {\n",
              "                    if (nbb_cells[i].input_prompt_number == nbb_cell_id) {\n",
              "                        if (nbb_cells[i].get_text() == nbb_unformatted_code) {\n",
              "                             nbb_cells[i].set_text(nbb_formatted_code);\n",
              "                        }\n",
              "                        break;\n",
              "                    }\n",
              "                }\n",
              "            }, 500);\n",
              "            "
            ],
            "text/plain": [
              "<IPython.core.display.Javascript object>"
            ]
          },
          "metadata": {},
          "output_type": "display_data"
        }
      ],
      "source": [
        "df.days_exposition.isna().sum()"
      ]
    },
    {
      "cell_type": "markdown",
      "id": "60e0d027",
      "metadata": {
        "id": "60e0d027"
      },
      "source": [
        "Связь пропусков в этом столбце с другими данными в датафрейме не установлена. Следовательно, их можно считать абсолютно случайным событием (MCAR) и игнорирование или исключение таких пропусков не ведет к значительному искажению результатов. В то же время, исключение 13,7% данных в других столбцах не окажет положительного эффекта на качество исследования. Таким образом, пропуски в столбце `days_exposition` целесообразно заменить на медианное значение по всему столбцу, но это приводит к искажению результатов исследования при их визуализации."
      ]
    },
    {
      "cell_type": "markdown",
      "id": "7131442a",
      "metadata": {
        "id": "7131442a"
      },
      "source": [
        "Выведем информацию по датафрейму для анализа результатов выполненной обработки."
      ]
    },
    {
      "cell_type": "code",
      "execution_count": null,
      "id": "c0e9edaa",
      "metadata": {
        "scrolled": true,
        "id": "c0e9edaa",
        "outputId": "f2d573e2-d220-4d93-bcea-640d24c8c7d3"
      },
      "outputs": [
        {
          "name": "stdout",
          "output_type": "stream",
          "text": [
            "<class 'pandas.core.frame.DataFrame'>\n",
            "Int64Index: 23605 entries, 0 to 23698\n",
            "Data columns (total 22 columns):\n",
            " #   Column                Non-Null Count  Dtype  \n",
            "---  ------                --------------  -----  \n",
            " 0   total_images          23605 non-null  int64  \n",
            " 1   last_price            23605 non-null  float64\n",
            " 2   total_area            23605 non-null  float64\n",
            " 3   first_day_exposition  23605 non-null  object \n",
            " 4   rooms                 23605 non-null  int64  \n",
            " 5   ceiling_height        14493 non-null  float64\n",
            " 6   floors_total          23605 non-null  float64\n",
            " 7   living_area           23605 non-null  float64\n",
            " 8   floor                 23605 non-null  int64  \n",
            " 9   is_apartment          23605 non-null  bool   \n",
            " 10  studio                23605 non-null  bool   \n",
            " 11  open_plan             23605 non-null  bool   \n",
            " 12  kitchen_area          23605 non-null  float64\n",
            " 13  balcony               23605 non-null  float64\n",
            " 14  locality_name         23605 non-null  object \n",
            " 15  airports_nearest      18081 non-null  float64\n",
            " 16  city_centers_nearest  18104 non-null  float64\n",
            " 17  parks_around_3000     18105 non-null  float64\n",
            " 18  parks_nearest         8045 non-null   float64\n",
            " 19  ponds_around_3000     18105 non-null  float64\n",
            " 20  ponds_nearest         9061 non-null   float64\n",
            " 21  days_exposition       20434 non-null  float64\n",
            "dtypes: bool(3), float64(14), int64(3), object(2)\n",
            "memory usage: 3.7+ MB\n"
          ]
        },
        {
          "data": {
            "application/javascript": [
              "\n",
              "            setTimeout(function() {\n",
              "                var nbb_cell_id = 23;\n",
              "                var nbb_unformatted_code = \"df.info()\";\n",
              "                var nbb_formatted_code = \"df.info()\";\n",
              "                var nbb_cells = Jupyter.notebook.get_cells();\n",
              "                for (var i = 0; i < nbb_cells.length; ++i) {\n",
              "                    if (nbb_cells[i].input_prompt_number == nbb_cell_id) {\n",
              "                        if (nbb_cells[i].get_text() == nbb_unformatted_code) {\n",
              "                             nbb_cells[i].set_text(nbb_formatted_code);\n",
              "                        }\n",
              "                        break;\n",
              "                    }\n",
              "                }\n",
              "            }, 500);\n",
              "            "
            ],
            "text/plain": [
              "<IPython.core.display.Javascript object>"
            ]
          },
          "metadata": {},
          "output_type": "display_data"
        }
      ],
      "source": [
        "df.info()"
      ]
    },
    {
      "cell_type": "markdown",
      "id": "e0ab6de0",
      "metadata": {
        "id": "e0ab6de0"
      },
      "source": [
        "В результате обработки пропусков в столбцах из **второй** группы, объем данных уменьшился на 8 строк, что меньше 0,01%. В датафрейме остались пропуски, которые не должны оказывать значительного влияния на точность и наглядность исследования."
      ]
    },
    {
      "cell_type": "markdown",
      "id": "a61d5526",
      "metadata": {
        "id": "a61d5526"
      },
      "source": [
        "## Исправление типов данных"
      ]
    },
    {
      "cell_type": "markdown",
      "id": "1274d517",
      "metadata": {
        "id": "1274d517"
      },
      "source": [
        "Учитывая, что в столбцах из **второй** группы остались пропуски, изменение типа данных в них не целесообразно. Исправление типов данных в столбцах `floors_total`, `balcony` на `int` выполним при помощи метода `astype()`. "
      ]
    },
    {
      "cell_type": "code",
      "execution_count": null,
      "id": "2e80282b",
      "metadata": {
        "scrolled": true,
        "id": "2e80282b",
        "outputId": "8766726a-bd2d-4b73-a194-476ea35a911a"
      },
      "outputs": [
        {
          "data": {
            "application/javascript": [
              "\n",
              "            setTimeout(function() {\n",
              "                var nbb_cell_id = 24;\n",
              "                var nbb_unformatted_code = \"df.floors_total = df.floors_total.astype(int)\\ndf.balcony = df.balcony.astype(int)\";\n",
              "                var nbb_formatted_code = \"df.floors_total = df.floors_total.astype(int)\\ndf.balcony = df.balcony.astype(int)\";\n",
              "                var nbb_cells = Jupyter.notebook.get_cells();\n",
              "                for (var i = 0; i < nbb_cells.length; ++i) {\n",
              "                    if (nbb_cells[i].input_prompt_number == nbb_cell_id) {\n",
              "                        if (nbb_cells[i].get_text() == nbb_unformatted_code) {\n",
              "                             nbb_cells[i].set_text(nbb_formatted_code);\n",
              "                        }\n",
              "                        break;\n",
              "                    }\n",
              "                }\n",
              "            }, 500);\n",
              "            "
            ],
            "text/plain": [
              "<IPython.core.display.Javascript object>"
            ]
          },
          "metadata": {},
          "output_type": "display_data"
        }
      ],
      "source": [
        "df.floors_total = df.floors_total.astype(int)\n",
        "df.balcony = df.balcony.astype(int)"
      ]
    },
    {
      "cell_type": "markdown",
      "id": "ebfbd0c7",
      "metadata": {
        "id": "ebfbd0c7"
      },
      "source": [
        "Тип данных в столбце `first_day_exposition` изменим на `datetime` при помощи соответствующего метода."
      ]
    },
    {
      "cell_type": "code",
      "execution_count": null,
      "id": "32820dfe",
      "metadata": {
        "id": "32820dfe",
        "outputId": "8cffa929-89cc-4283-d662-7eb4fc7b5590"
      },
      "outputs": [
        {
          "data": {
            "application/javascript": [
              "\n",
              "            setTimeout(function() {\n",
              "                var nbb_cell_id = 25;\n",
              "                var nbb_unformatted_code = \"df.first_day_exposition = pd.to_datetime(\\n    df.first_day_exposition, format=\\\"%Y-%m-%dT%H:%M:%S\\\"\\n)\";\n",
              "                var nbb_formatted_code = \"df.first_day_exposition = pd.to_datetime(\\n    df.first_day_exposition, format=\\\"%Y-%m-%dT%H:%M:%S\\\"\\n)\";\n",
              "                var nbb_cells = Jupyter.notebook.get_cells();\n",
              "                for (var i = 0; i < nbb_cells.length; ++i) {\n",
              "                    if (nbb_cells[i].input_prompt_number == nbb_cell_id) {\n",
              "                        if (nbb_cells[i].get_text() == nbb_unformatted_code) {\n",
              "                             nbb_cells[i].set_text(nbb_formatted_code);\n",
              "                        }\n",
              "                        break;\n",
              "                    }\n",
              "                }\n",
              "            }, 500);\n",
              "            "
            ],
            "text/plain": [
              "<IPython.core.display.Javascript object>"
            ]
          },
          "metadata": {},
          "output_type": "display_data"
        }
      ],
      "source": [
        "df.first_day_exposition = pd.to_datetime(\n",
        "    df.first_day_exposition, format=\"%Y-%m-%dT%H:%M:%S\"\n",
        ")"
      ]
    },
    {
      "cell_type": "markdown",
      "id": "974568cc",
      "metadata": {
        "id": "974568cc"
      },
      "source": [
        "С целью упрощения восприятия данных приведем стоимость объектов к тысячам условных единиц в целочисленном выражении. Для этого разделим значения в столбце `last_price` на 1000 и применим соответствующий метод."
      ]
    },
    {
      "cell_type": "code",
      "execution_count": null,
      "id": "611be242",
      "metadata": {
        "id": "611be242",
        "outputId": "cc4bc8eb-e2fa-48bc-ebc3-5256b7436c60"
      },
      "outputs": [
        {
          "data": {
            "application/javascript": [
              "\n",
              "            setTimeout(function() {\n",
              "                var nbb_cell_id = 26;\n",
              "                var nbb_unformatted_code = \"df.last_price = (df.last_price / 1000).astype(int)\";\n",
              "                var nbb_formatted_code = \"df.last_price = (df.last_price / 1000).astype(int)\";\n",
              "                var nbb_cells = Jupyter.notebook.get_cells();\n",
              "                for (var i = 0; i < nbb_cells.length; ++i) {\n",
              "                    if (nbb_cells[i].input_prompt_number == nbb_cell_id) {\n",
              "                        if (nbb_cells[i].get_text() == nbb_unformatted_code) {\n",
              "                             nbb_cells[i].set_text(nbb_formatted_code);\n",
              "                        }\n",
              "                        break;\n",
              "                    }\n",
              "                }\n",
              "            }, 500);\n",
              "            "
            ],
            "text/plain": [
              "<IPython.core.display.Javascript object>"
            ]
          },
          "metadata": {},
          "output_type": "display_data"
        }
      ],
      "source": [
        "df.last_price = (df.last_price / 1000).astype(int)"
      ]
    },
    {
      "cell_type": "markdown",
      "id": "393350bd",
      "metadata": {
        "id": "393350bd"
      },
      "source": [
        "Проверим результат выполнения."
      ]
    },
    {
      "cell_type": "code",
      "execution_count": null,
      "id": "7b9e4e36",
      "metadata": {
        "id": "7b9e4e36",
        "outputId": "fb39387c-32bd-4825-f890-e7d9d1736020"
      },
      "outputs": [
        {
          "data": {
            "text/html": [
              "<div>\n",
              "<style scoped>\n",
              "    .dataframe tbody tr th:only-of-type {\n",
              "        vertical-align: middle;\n",
              "    }\n",
              "\n",
              "    .dataframe tbody tr th {\n",
              "        vertical-align: top;\n",
              "    }\n",
              "\n",
              "    .dataframe thead th {\n",
              "        text-align: right;\n",
              "    }\n",
              "</style>\n",
              "<table border=\"1\" class=\"dataframe\">\n",
              "  <thead>\n",
              "    <tr style=\"text-align: right;\">\n",
              "      <th></th>\n",
              "      <th>total_images</th>\n",
              "      <th>last_price</th>\n",
              "      <th>total_area</th>\n",
              "      <th>first_day_exposition</th>\n",
              "      <th>rooms</th>\n",
              "      <th>ceiling_height</th>\n",
              "      <th>floors_total</th>\n",
              "      <th>living_area</th>\n",
              "      <th>floor</th>\n",
              "      <th>is_apartment</th>\n",
              "      <th>studio</th>\n",
              "      <th>open_plan</th>\n",
              "      <th>kitchen_area</th>\n",
              "      <th>balcony</th>\n",
              "      <th>locality_name</th>\n",
              "      <th>airports_nearest</th>\n",
              "      <th>city_centers_nearest</th>\n",
              "      <th>parks_around_3000</th>\n",
              "      <th>parks_nearest</th>\n",
              "      <th>ponds_around_3000</th>\n",
              "      <th>ponds_nearest</th>\n",
              "      <th>days_exposition</th>\n",
              "    </tr>\n",
              "  </thead>\n",
              "  <tbody>\n",
              "    <tr>\n",
              "      <th>0</th>\n",
              "      <td>20</td>\n",
              "      <td>13000</td>\n",
              "      <td>108.0</td>\n",
              "      <td>2019-03-07</td>\n",
              "      <td>3</td>\n",
              "      <td>2.70</td>\n",
              "      <td>16</td>\n",
              "      <td>51.000000</td>\n",
              "      <td>8</td>\n",
              "      <td>False</td>\n",
              "      <td>False</td>\n",
              "      <td>False</td>\n",
              "      <td>25.000</td>\n",
              "      <td>0</td>\n",
              "      <td>санкт-петербург</td>\n",
              "      <td>18863.0</td>\n",
              "      <td>16028.0</td>\n",
              "      <td>1.0</td>\n",
              "      <td>482.0</td>\n",
              "      <td>2.0</td>\n",
              "      <td>755.0</td>\n",
              "      <td>NaN</td>\n",
              "    </tr>\n",
              "    <tr>\n",
              "      <th>1</th>\n",
              "      <td>7</td>\n",
              "      <td>3350</td>\n",
              "      <td>40.4</td>\n",
              "      <td>2018-12-04</td>\n",
              "      <td>1</td>\n",
              "      <td>NaN</td>\n",
              "      <td>11</td>\n",
              "      <td>18.600000</td>\n",
              "      <td>1</td>\n",
              "      <td>False</td>\n",
              "      <td>False</td>\n",
              "      <td>False</td>\n",
              "      <td>11.000</td>\n",
              "      <td>2</td>\n",
              "      <td>поселок шушары</td>\n",
              "      <td>12817.0</td>\n",
              "      <td>18603.0</td>\n",
              "      <td>0.0</td>\n",
              "      <td>NaN</td>\n",
              "      <td>0.0</td>\n",
              "      <td>NaN</td>\n",
              "      <td>81.0</td>\n",
              "    </tr>\n",
              "    <tr>\n",
              "      <th>2</th>\n",
              "      <td>10</td>\n",
              "      <td>5196</td>\n",
              "      <td>56.0</td>\n",
              "      <td>2015-08-20</td>\n",
              "      <td>2</td>\n",
              "      <td>NaN</td>\n",
              "      <td>5</td>\n",
              "      <td>34.300000</td>\n",
              "      <td>4</td>\n",
              "      <td>False</td>\n",
              "      <td>False</td>\n",
              "      <td>False</td>\n",
              "      <td>8.300</td>\n",
              "      <td>0</td>\n",
              "      <td>санкт-петербург</td>\n",
              "      <td>21741.0</td>\n",
              "      <td>13933.0</td>\n",
              "      <td>1.0</td>\n",
              "      <td>90.0</td>\n",
              "      <td>2.0</td>\n",
              "      <td>574.0</td>\n",
              "      <td>558.0</td>\n",
              "    </tr>\n",
              "    <tr>\n",
              "      <th>3</th>\n",
              "      <td>0</td>\n",
              "      <td>64900</td>\n",
              "      <td>159.0</td>\n",
              "      <td>2015-07-24</td>\n",
              "      <td>3</td>\n",
              "      <td>NaN</td>\n",
              "      <td>14</td>\n",
              "      <td>91.730769</td>\n",
              "      <td>9</td>\n",
              "      <td>False</td>\n",
              "      <td>False</td>\n",
              "      <td>False</td>\n",
              "      <td>27.825</td>\n",
              "      <td>0</td>\n",
              "      <td>санкт-петербург</td>\n",
              "      <td>28098.0</td>\n",
              "      <td>6800.0</td>\n",
              "      <td>2.0</td>\n",
              "      <td>84.0</td>\n",
              "      <td>3.0</td>\n",
              "      <td>234.0</td>\n",
              "      <td>424.0</td>\n",
              "    </tr>\n",
              "    <tr>\n",
              "      <th>4</th>\n",
              "      <td>2</td>\n",
              "      <td>10000</td>\n",
              "      <td>100.0</td>\n",
              "      <td>2018-06-19</td>\n",
              "      <td>2</td>\n",
              "      <td>3.03</td>\n",
              "      <td>14</td>\n",
              "      <td>32.000000</td>\n",
              "      <td>13</td>\n",
              "      <td>False</td>\n",
              "      <td>False</td>\n",
              "      <td>False</td>\n",
              "      <td>41.000</td>\n",
              "      <td>0</td>\n",
              "      <td>санкт-петербург</td>\n",
              "      <td>31856.0</td>\n",
              "      <td>8098.0</td>\n",
              "      <td>2.0</td>\n",
              "      <td>112.0</td>\n",
              "      <td>1.0</td>\n",
              "      <td>48.0</td>\n",
              "      <td>121.0</td>\n",
              "    </tr>\n",
              "  </tbody>\n",
              "</table>\n",
              "</div>"
            ],
            "text/plain": [
              "   total_images  last_price  total_area first_day_exposition  rooms  \\\n",
              "0            20       13000       108.0           2019-03-07      3   \n",
              "1             7        3350        40.4           2018-12-04      1   \n",
              "2            10        5196        56.0           2015-08-20      2   \n",
              "3             0       64900       159.0           2015-07-24      3   \n",
              "4             2       10000       100.0           2018-06-19      2   \n",
              "\n",
              "   ceiling_height  floors_total  living_area  floor  is_apartment  studio  \\\n",
              "0            2.70            16    51.000000      8         False   False   \n",
              "1             NaN            11    18.600000      1         False   False   \n",
              "2             NaN             5    34.300000      4         False   False   \n",
              "3             NaN            14    91.730769      9         False   False   \n",
              "4            3.03            14    32.000000     13         False   False   \n",
              "\n",
              "   open_plan  kitchen_area  balcony    locality_name  airports_nearest  \\\n",
              "0      False        25.000        0  санкт-петербург           18863.0   \n",
              "1      False        11.000        2   поселок шушары           12817.0   \n",
              "2      False         8.300        0  санкт-петербург           21741.0   \n",
              "3      False        27.825        0  санкт-петербург           28098.0   \n",
              "4      False        41.000        0  санкт-петербург           31856.0   \n",
              "\n",
              "   city_centers_nearest  parks_around_3000  parks_nearest  ponds_around_3000  \\\n",
              "0               16028.0                1.0          482.0                2.0   \n",
              "1               18603.0                0.0            NaN                0.0   \n",
              "2               13933.0                1.0           90.0                2.0   \n",
              "3                6800.0                2.0           84.0                3.0   \n",
              "4                8098.0                2.0          112.0                1.0   \n",
              "\n",
              "   ponds_nearest  days_exposition  \n",
              "0          755.0              NaN  \n",
              "1            NaN             81.0  \n",
              "2          574.0            558.0  \n",
              "3          234.0            424.0  \n",
              "4           48.0            121.0  "
            ]
          },
          "execution_count": 27,
          "metadata": {},
          "output_type": "execute_result"
        },
        {
          "data": {
            "application/javascript": [
              "\n",
              "            setTimeout(function() {\n",
              "                var nbb_cell_id = 27;\n",
              "                var nbb_unformatted_code = \"df.head()\";\n",
              "                var nbb_formatted_code = \"df.head()\";\n",
              "                var nbb_cells = Jupyter.notebook.get_cells();\n",
              "                for (var i = 0; i < nbb_cells.length; ++i) {\n",
              "                    if (nbb_cells[i].input_prompt_number == nbb_cell_id) {\n",
              "                        if (nbb_cells[i].get_text() == nbb_unformatted_code) {\n",
              "                             nbb_cells[i].set_text(nbb_formatted_code);\n",
              "                        }\n",
              "                        break;\n",
              "                    }\n",
              "                }\n",
              "            }, 500);\n",
              "            "
            ],
            "text/plain": [
              "<IPython.core.display.Javascript object>"
            ]
          },
          "metadata": {},
          "output_type": "display_data"
        }
      ],
      "source": [
        "df.head()"
      ]
    },
    {
      "cell_type": "markdown",
      "id": "ad3eeea2",
      "metadata": {
        "id": "ad3eeea2"
      },
      "source": [
        "## Добавление данных"
      ]
    },
    {
      "cell_type": "markdown",
      "id": "c44d4ebc",
      "metadata": {
        "id": "c44d4ebc"
      },
      "source": [
        "Для проведения исследования целесообразно добавить в датафрейм следующие параметры:\n",
        "\n",
        "* цена квадратного метра;\n",
        "* день недели, месяц и год публикации объявления;\n",
        "* отношение жилой площади к общей, и кухни к общей;\n",
        "* категория этажа квартиры (первый, последний, другой);\n",
        "* категория населенного пункта (СПб, крупный пригород, средний пригород, мелкий пригород).\n",
        "\n",
        "Для создания последних столбцов создадим функции `det_floor_cat` и `det_sity_cat`. Категории городов будем определять по количеству объявлений в них. "
      ]
    },
    {
      "cell_type": "code",
      "execution_count": null,
      "id": "f9d1e67f",
      "metadata": {
        "id": "f9d1e67f",
        "outputId": "e3da932b-ad0a-425a-9192-c89b8c182884"
      },
      "outputs": [
        {
          "data": {
            "application/javascript": [
              "\n",
              "            setTimeout(function() {\n",
              "                var nbb_cell_id = 28;\n",
              "                var nbb_unformatted_code = \"def det_floor_cat(row):\\n    flr = row[\\\"floor\\\"]\\n    flr_ttl = row[\\\"floors_total\\\"]\\n    if flr == 1:\\n        return \\\"\\u043f\\u0435\\u0440\\u0432\\u044b\\u0439\\\"\\n    if flr == flr_ttl:\\n        return \\\"\\u043f\\u043e\\u0441\\u043b\\u0435\\u0434\\u043d\\u0438\\u0439\\\"\\n    return \\\"\\u0434\\u0440\\u0443\\u0433\\u043e\\u0439\\\"\";\n",
              "                var nbb_formatted_code = \"def det_floor_cat(row):\\n    flr = row[\\\"floor\\\"]\\n    flr_ttl = row[\\\"floors_total\\\"]\\n    if flr == 1:\\n        return \\\"\\u043f\\u0435\\u0440\\u0432\\u044b\\u0439\\\"\\n    if flr == flr_ttl:\\n        return \\\"\\u043f\\u043e\\u0441\\u043b\\u0435\\u0434\\u043d\\u0438\\u0439\\\"\\n    return \\\"\\u0434\\u0440\\u0443\\u0433\\u043e\\u0439\\\"\";\n",
              "                var nbb_cells = Jupyter.notebook.get_cells();\n",
              "                for (var i = 0; i < nbb_cells.length; ++i) {\n",
              "                    if (nbb_cells[i].input_prompt_number == nbb_cell_id) {\n",
              "                        if (nbb_cells[i].get_text() == nbb_unformatted_code) {\n",
              "                             nbb_cells[i].set_text(nbb_formatted_code);\n",
              "                        }\n",
              "                        break;\n",
              "                    }\n",
              "                }\n",
              "            }, 500);\n",
              "            "
            ],
            "text/plain": [
              "<IPython.core.display.Javascript object>"
            ]
          },
          "metadata": {},
          "output_type": "display_data"
        }
      ],
      "source": [
        "def det_floor_cat(row):\n",
        "    flr = row[\"floor\"]\n",
        "    flr_ttl = row[\"floors_total\"]\n",
        "    if flr == 1:\n",
        "        return \"первый\"\n",
        "    if flr == flr_ttl:\n",
        "        return \"последний\"\n",
        "    return \"другой\""
      ]
    },
    {
      "cell_type": "code",
      "execution_count": null,
      "id": "fcdc20a2",
      "metadata": {
        "id": "fcdc20a2",
        "outputId": "814d655c-45ad-49d2-f6fa-d400a5983529"
      },
      "outputs": [
        {
          "data": {
            "application/javascript": [
              "\n",
              "            setTimeout(function() {\n",
              "                var nbb_cell_id = 29;\n",
              "                var nbb_unformatted_code = \"sity_top = df.locality_name.value_counts()\\nsity_top_10 = sity_top.loc[(500 >= sity_top)].head(10)\\nsity_top_30 = sity_top.loc[(100 > sity_top)].head(30)\\n\\n\\ndef det_sity_cat(row):\\n    sity = row[\\\"locality_name\\\"]\\n    if sity == \\\"\\u0441\\u0430\\u043d\\u043a\\u0442-\\u043f\\u0435\\u0442\\u0435\\u0440\\u0431\\u0443\\u0440\\u0433\\\":\\n        return \\\"c\\u043f\\u0431\\\"\\n    if sity in sity_top_10:\\n        return \\\"\\u043f\\u0440\\u0438\\u0433\\u043e\\u0440\\u043e\\u0434 \\u0442\\u043e\\u043f-10\\\"\\n    if sity in sity_top_30:\\n        return \\\"\\u043f\\u0440\\u0438\\u0433\\u043e\\u0440\\u043e\\u0434 \\u0442\\u043e\\u043f-30\\\"\\n    return \\\"\\u043e\\u0431\\u044b\\u0447\\u043d\\u044b\\u0439 \\u043f\\u0440\\u0438\\u0433\\u043e\\u0440\\u043e\\u0434\\\"\";\n",
              "                var nbb_formatted_code = \"sity_top = df.locality_name.value_counts()\\nsity_top_10 = sity_top.loc[(500 >= sity_top)].head(10)\\nsity_top_30 = sity_top.loc[(100 > sity_top)].head(30)\\n\\n\\ndef det_sity_cat(row):\\n    sity = row[\\\"locality_name\\\"]\\n    if sity == \\\"\\u0441\\u0430\\u043d\\u043a\\u0442-\\u043f\\u0435\\u0442\\u0435\\u0440\\u0431\\u0443\\u0440\\u0433\\\":\\n        return \\\"c\\u043f\\u0431\\\"\\n    if sity in sity_top_10:\\n        return \\\"\\u043f\\u0440\\u0438\\u0433\\u043e\\u0440\\u043e\\u0434 \\u0442\\u043e\\u043f-10\\\"\\n    if sity in sity_top_30:\\n        return \\\"\\u043f\\u0440\\u0438\\u0433\\u043e\\u0440\\u043e\\u0434 \\u0442\\u043e\\u043f-30\\\"\\n    return \\\"\\u043e\\u0431\\u044b\\u0447\\u043d\\u044b\\u0439 \\u043f\\u0440\\u0438\\u0433\\u043e\\u0440\\u043e\\u0434\\\"\";\n",
              "                var nbb_cells = Jupyter.notebook.get_cells();\n",
              "                for (var i = 0; i < nbb_cells.length; ++i) {\n",
              "                    if (nbb_cells[i].input_prompt_number == nbb_cell_id) {\n",
              "                        if (nbb_cells[i].get_text() == nbb_unformatted_code) {\n",
              "                             nbb_cells[i].set_text(nbb_formatted_code);\n",
              "                        }\n",
              "                        break;\n",
              "                    }\n",
              "                }\n",
              "            }, 500);\n",
              "            "
            ],
            "text/plain": [
              "<IPython.core.display.Javascript object>"
            ]
          },
          "metadata": {},
          "output_type": "display_data"
        }
      ],
      "source": [
        "sity_top = df.locality_name.value_counts()\n",
        "sity_top_10 = sity_top.loc[(500 >= sity_top)].head(10)\n",
        "sity_top_30 = sity_top.loc[(100 > sity_top)].head(30)\n",
        "\n",
        "\n",
        "def det_sity_cat(row):\n",
        "    sity = row[\"locality_name\"]\n",
        "    if sity == \"санкт-петербург\":\n",
        "        return \"cпб\"\n",
        "    if sity in sity_top_10:\n",
        "        return \"пригород топ-10\"\n",
        "    if sity in sity_top_30:\n",
        "        return \"пригород топ-30\"\n",
        "    return \"обычный пригород\""
      ]
    },
    {
      "cell_type": "code",
      "execution_count": null,
      "id": "2e018a0e",
      "metadata": {
        "id": "2e018a0e",
        "outputId": "8d2824dd-3017-45bf-9229-c512bf6162d7"
      },
      "outputs": [
        {
          "data": {
            "application/javascript": [
              "\n",
              "            setTimeout(function() {\n",
              "                var nbb_cell_id = 30;\n",
              "                var nbb_unformatted_code = \"df[\\\"sq_m_cst\\\"] = (df.last_price / df.total_area).astype(int)\\ndf[\\\"exposition_weekday\\\"] = df.first_day_exposition.dt.weekday\\ndf[\\\"exposition_mnth\\\"] = df.first_day_exposition.dt.month\\ndf[\\\"exposition_year\\\"] = df.first_day_exposition.dt.year\\ndf[\\\"area_ratio_lvn_to_ttl\\\"] = (df.living_area / df.total_area).round(2)\\ndf[\\\"area_ratio_ktchn_to_ttl\\\"] = (df.kitchen_area / df.total_area).round(2)\\ndf[\\\"floor_cat\\\"] = df.apply(det_floor_cat, axis=1)\\ndf[\\\"sity_cat\\\"] = df.apply(det_sity_cat, axis=1)\";\n",
              "                var nbb_formatted_code = \"df[\\\"sq_m_cst\\\"] = (df.last_price / df.total_area).astype(int)\\ndf[\\\"exposition_weekday\\\"] = df.first_day_exposition.dt.weekday\\ndf[\\\"exposition_mnth\\\"] = df.first_day_exposition.dt.month\\ndf[\\\"exposition_year\\\"] = df.first_day_exposition.dt.year\\ndf[\\\"area_ratio_lvn_to_ttl\\\"] = (df.living_area / df.total_area).round(2)\\ndf[\\\"area_ratio_ktchn_to_ttl\\\"] = (df.kitchen_area / df.total_area).round(2)\\ndf[\\\"floor_cat\\\"] = df.apply(det_floor_cat, axis=1)\\ndf[\\\"sity_cat\\\"] = df.apply(det_sity_cat, axis=1)\";\n",
              "                var nbb_cells = Jupyter.notebook.get_cells();\n",
              "                for (var i = 0; i < nbb_cells.length; ++i) {\n",
              "                    if (nbb_cells[i].input_prompt_number == nbb_cell_id) {\n",
              "                        if (nbb_cells[i].get_text() == nbb_unformatted_code) {\n",
              "                             nbb_cells[i].set_text(nbb_formatted_code);\n",
              "                        }\n",
              "                        break;\n",
              "                    }\n",
              "                }\n",
              "            }, 500);\n",
              "            "
            ],
            "text/plain": [
              "<IPython.core.display.Javascript object>"
            ]
          },
          "metadata": {},
          "output_type": "display_data"
        }
      ],
      "source": [
        "df[\"sq_m_cst\"] = (df.last_price / df.total_area).astype(int)\n",
        "df[\"exposition_weekday\"] = df.first_day_exposition.dt.weekday\n",
        "df[\"exposition_mnth\"] = df.first_day_exposition.dt.month\n",
        "df[\"exposition_year\"] = df.first_day_exposition.dt.year\n",
        "df[\"area_ratio_lvn_to_ttl\"] = (df.living_area / df.total_area).round(2)\n",
        "df[\"area_ratio_ktchn_to_ttl\"] = (df.kitchen_area / df.total_area).round(2)\n",
        "df[\"floor_cat\"] = df.apply(det_floor_cat, axis=1)\n",
        "df[\"sity_cat\"] = df.apply(det_sity_cat, axis=1)"
      ]
    },
    {
      "cell_type": "markdown",
      "id": "af46a924",
      "metadata": {
        "id": "af46a924"
      },
      "source": [
        "Проверим результат, выведя первые 5 строк датафрейма."
      ]
    },
    {
      "cell_type": "code",
      "execution_count": null,
      "id": "a34857cf",
      "metadata": {
        "id": "a34857cf",
        "outputId": "5b3c6752-d3b9-4f3b-d722-47d5cc7affdf"
      },
      "outputs": [
        {
          "data": {
            "text/html": [
              "<div>\n",
              "<style scoped>\n",
              "    .dataframe tbody tr th:only-of-type {\n",
              "        vertical-align: middle;\n",
              "    }\n",
              "\n",
              "    .dataframe tbody tr th {\n",
              "        vertical-align: top;\n",
              "    }\n",
              "\n",
              "    .dataframe thead th {\n",
              "        text-align: right;\n",
              "    }\n",
              "</style>\n",
              "<table border=\"1\" class=\"dataframe\">\n",
              "  <thead>\n",
              "    <tr style=\"text-align: right;\">\n",
              "      <th></th>\n",
              "      <th>total_images</th>\n",
              "      <th>last_price</th>\n",
              "      <th>total_area</th>\n",
              "      <th>first_day_exposition</th>\n",
              "      <th>rooms</th>\n",
              "      <th>ceiling_height</th>\n",
              "      <th>floors_total</th>\n",
              "      <th>living_area</th>\n",
              "      <th>floor</th>\n",
              "      <th>is_apartment</th>\n",
              "      <th>studio</th>\n",
              "      <th>open_plan</th>\n",
              "      <th>kitchen_area</th>\n",
              "      <th>balcony</th>\n",
              "      <th>locality_name</th>\n",
              "      <th>airports_nearest</th>\n",
              "      <th>city_centers_nearest</th>\n",
              "      <th>parks_around_3000</th>\n",
              "      <th>parks_nearest</th>\n",
              "      <th>ponds_around_3000</th>\n",
              "      <th>ponds_nearest</th>\n",
              "      <th>days_exposition</th>\n",
              "      <th>sq_m_cst</th>\n",
              "      <th>exposition_weekday</th>\n",
              "      <th>exposition_mnth</th>\n",
              "      <th>exposition_year</th>\n",
              "      <th>area_ratio_lvn_to_ttl</th>\n",
              "      <th>area_ratio_ktchn_to_ttl</th>\n",
              "      <th>floor_cat</th>\n",
              "      <th>sity_cat</th>\n",
              "    </tr>\n",
              "  </thead>\n",
              "  <tbody>\n",
              "    <tr>\n",
              "      <th>0</th>\n",
              "      <td>20</td>\n",
              "      <td>13000</td>\n",
              "      <td>108.0</td>\n",
              "      <td>2019-03-07</td>\n",
              "      <td>3</td>\n",
              "      <td>2.70</td>\n",
              "      <td>16</td>\n",
              "      <td>51.000000</td>\n",
              "      <td>8</td>\n",
              "      <td>False</td>\n",
              "      <td>False</td>\n",
              "      <td>False</td>\n",
              "      <td>25.000</td>\n",
              "      <td>0</td>\n",
              "      <td>санкт-петербург</td>\n",
              "      <td>18863.0</td>\n",
              "      <td>16028.0</td>\n",
              "      <td>1.0</td>\n",
              "      <td>482.0</td>\n",
              "      <td>2.0</td>\n",
              "      <td>755.0</td>\n",
              "      <td>NaN</td>\n",
              "      <td>120</td>\n",
              "      <td>3</td>\n",
              "      <td>3</td>\n",
              "      <td>2019</td>\n",
              "      <td>0.47</td>\n",
              "      <td>0.23</td>\n",
              "      <td>другой</td>\n",
              "      <td>cпб</td>\n",
              "    </tr>\n",
              "    <tr>\n",
              "      <th>1</th>\n",
              "      <td>7</td>\n",
              "      <td>3350</td>\n",
              "      <td>40.4</td>\n",
              "      <td>2018-12-04</td>\n",
              "      <td>1</td>\n",
              "      <td>NaN</td>\n",
              "      <td>11</td>\n",
              "      <td>18.600000</td>\n",
              "      <td>1</td>\n",
              "      <td>False</td>\n",
              "      <td>False</td>\n",
              "      <td>False</td>\n",
              "      <td>11.000</td>\n",
              "      <td>2</td>\n",
              "      <td>поселок шушары</td>\n",
              "      <td>12817.0</td>\n",
              "      <td>18603.0</td>\n",
              "      <td>0.0</td>\n",
              "      <td>NaN</td>\n",
              "      <td>0.0</td>\n",
              "      <td>NaN</td>\n",
              "      <td>81.0</td>\n",
              "      <td>82</td>\n",
              "      <td>1</td>\n",
              "      <td>12</td>\n",
              "      <td>2018</td>\n",
              "      <td>0.46</td>\n",
              "      <td>0.27</td>\n",
              "      <td>первый</td>\n",
              "      <td>пригород топ-10</td>\n",
              "    </tr>\n",
              "    <tr>\n",
              "      <th>2</th>\n",
              "      <td>10</td>\n",
              "      <td>5196</td>\n",
              "      <td>56.0</td>\n",
              "      <td>2015-08-20</td>\n",
              "      <td>2</td>\n",
              "      <td>NaN</td>\n",
              "      <td>5</td>\n",
              "      <td>34.300000</td>\n",
              "      <td>4</td>\n",
              "      <td>False</td>\n",
              "      <td>False</td>\n",
              "      <td>False</td>\n",
              "      <td>8.300</td>\n",
              "      <td>0</td>\n",
              "      <td>санкт-петербург</td>\n",
              "      <td>21741.0</td>\n",
              "      <td>13933.0</td>\n",
              "      <td>1.0</td>\n",
              "      <td>90.0</td>\n",
              "      <td>2.0</td>\n",
              "      <td>574.0</td>\n",
              "      <td>558.0</td>\n",
              "      <td>92</td>\n",
              "      <td>3</td>\n",
              "      <td>8</td>\n",
              "      <td>2015</td>\n",
              "      <td>0.61</td>\n",
              "      <td>0.15</td>\n",
              "      <td>другой</td>\n",
              "      <td>cпб</td>\n",
              "    </tr>\n",
              "    <tr>\n",
              "      <th>3</th>\n",
              "      <td>0</td>\n",
              "      <td>64900</td>\n",
              "      <td>159.0</td>\n",
              "      <td>2015-07-24</td>\n",
              "      <td>3</td>\n",
              "      <td>NaN</td>\n",
              "      <td>14</td>\n",
              "      <td>91.730769</td>\n",
              "      <td>9</td>\n",
              "      <td>False</td>\n",
              "      <td>False</td>\n",
              "      <td>False</td>\n",
              "      <td>27.825</td>\n",
              "      <td>0</td>\n",
              "      <td>санкт-петербург</td>\n",
              "      <td>28098.0</td>\n",
              "      <td>6800.0</td>\n",
              "      <td>2.0</td>\n",
              "      <td>84.0</td>\n",
              "      <td>3.0</td>\n",
              "      <td>234.0</td>\n",
              "      <td>424.0</td>\n",
              "      <td>408</td>\n",
              "      <td>4</td>\n",
              "      <td>7</td>\n",
              "      <td>2015</td>\n",
              "      <td>0.58</td>\n",
              "      <td>0.18</td>\n",
              "      <td>другой</td>\n",
              "      <td>cпб</td>\n",
              "    </tr>\n",
              "    <tr>\n",
              "      <th>4</th>\n",
              "      <td>2</td>\n",
              "      <td>10000</td>\n",
              "      <td>100.0</td>\n",
              "      <td>2018-06-19</td>\n",
              "      <td>2</td>\n",
              "      <td>3.03</td>\n",
              "      <td>14</td>\n",
              "      <td>32.000000</td>\n",
              "      <td>13</td>\n",
              "      <td>False</td>\n",
              "      <td>False</td>\n",
              "      <td>False</td>\n",
              "      <td>41.000</td>\n",
              "      <td>0</td>\n",
              "      <td>санкт-петербург</td>\n",
              "      <td>31856.0</td>\n",
              "      <td>8098.0</td>\n",
              "      <td>2.0</td>\n",
              "      <td>112.0</td>\n",
              "      <td>1.0</td>\n",
              "      <td>48.0</td>\n",
              "      <td>121.0</td>\n",
              "      <td>100</td>\n",
              "      <td>1</td>\n",
              "      <td>6</td>\n",
              "      <td>2018</td>\n",
              "      <td>0.32</td>\n",
              "      <td>0.41</td>\n",
              "      <td>другой</td>\n",
              "      <td>cпб</td>\n",
              "    </tr>\n",
              "  </tbody>\n",
              "</table>\n",
              "</div>"
            ],
            "text/plain": [
              "   total_images  last_price  total_area first_day_exposition  rooms  \\\n",
              "0            20       13000       108.0           2019-03-07      3   \n",
              "1             7        3350        40.4           2018-12-04      1   \n",
              "2            10        5196        56.0           2015-08-20      2   \n",
              "3             0       64900       159.0           2015-07-24      3   \n",
              "4             2       10000       100.0           2018-06-19      2   \n",
              "\n",
              "   ceiling_height  floors_total  living_area  floor  is_apartment  studio  \\\n",
              "0            2.70            16    51.000000      8         False   False   \n",
              "1             NaN            11    18.600000      1         False   False   \n",
              "2             NaN             5    34.300000      4         False   False   \n",
              "3             NaN            14    91.730769      9         False   False   \n",
              "4            3.03            14    32.000000     13         False   False   \n",
              "\n",
              "   open_plan  kitchen_area  balcony    locality_name  airports_nearest  \\\n",
              "0      False        25.000        0  санкт-петербург           18863.0   \n",
              "1      False        11.000        2   поселок шушары           12817.0   \n",
              "2      False         8.300        0  санкт-петербург           21741.0   \n",
              "3      False        27.825        0  санкт-петербург           28098.0   \n",
              "4      False        41.000        0  санкт-петербург           31856.0   \n",
              "\n",
              "   city_centers_nearest  parks_around_3000  parks_nearest  ponds_around_3000  \\\n",
              "0               16028.0                1.0          482.0                2.0   \n",
              "1               18603.0                0.0            NaN                0.0   \n",
              "2               13933.0                1.0           90.0                2.0   \n",
              "3                6800.0                2.0           84.0                3.0   \n",
              "4                8098.0                2.0          112.0                1.0   \n",
              "\n",
              "   ponds_nearest  days_exposition  sq_m_cst  exposition_weekday  \\\n",
              "0          755.0              NaN       120                   3   \n",
              "1            NaN             81.0        82                   1   \n",
              "2          574.0            558.0        92                   3   \n",
              "3          234.0            424.0       408                   4   \n",
              "4           48.0            121.0       100                   1   \n",
              "\n",
              "   exposition_mnth  exposition_year  area_ratio_lvn_to_ttl  \\\n",
              "0                3             2019                   0.47   \n",
              "1               12             2018                   0.46   \n",
              "2                8             2015                   0.61   \n",
              "3                7             2015                   0.58   \n",
              "4                6             2018                   0.32   \n",
              "\n",
              "   area_ratio_ktchn_to_ttl floor_cat         sity_cat  \n",
              "0                     0.23    другой              cпб  \n",
              "1                     0.27    первый  пригород топ-10  \n",
              "2                     0.15    другой              cпб  \n",
              "3                     0.18    другой              cпб  \n",
              "4                     0.41    другой              cпб  "
            ]
          },
          "execution_count": 31,
          "metadata": {},
          "output_type": "execute_result"
        },
        {
          "data": {
            "application/javascript": [
              "\n",
              "            setTimeout(function() {\n",
              "                var nbb_cell_id = 31;\n",
              "                var nbb_unformatted_code = \"df.head()\";\n",
              "                var nbb_formatted_code = \"df.head()\";\n",
              "                var nbb_cells = Jupyter.notebook.get_cells();\n",
              "                for (var i = 0; i < nbb_cells.length; ++i) {\n",
              "                    if (nbb_cells[i].input_prompt_number == nbb_cell_id) {\n",
              "                        if (nbb_cells[i].get_text() == nbb_unformatted_code) {\n",
              "                             nbb_cells[i].set_text(nbb_formatted_code);\n",
              "                        }\n",
              "                        break;\n",
              "                    }\n",
              "                }\n",
              "            }, 500);\n",
              "            "
            ],
            "text/plain": [
              "<IPython.core.display.Javascript object>"
            ]
          },
          "metadata": {},
          "output_type": "display_data"
        }
      ],
      "source": [
        "df.head()"
      ]
    },
    {
      "cell_type": "markdown",
      "id": "859d1917",
      "metadata": {
        "id": "859d1917"
      },
      "source": [
        "## Результат предобработки"
      ]
    },
    {
      "cell_type": "markdown",
      "id": "8c684caa",
      "metadata": {
        "id": "8c684caa"
      },
      "source": [
        "Предобработка данных позволила выявить и решить следующие проблемы с датафреймом:\n",
        "\n",
        "1. исправлены наименований столбцов; \n",
        "3. исключены дубликаты;\n",
        "2. обработаны пропуски;\n",
        "1. исправлены типы данных.\n",
        "\n",
        "Не смотря на то, что в результате предобработки количество строк уменьшилось на 4%, в таблице сохранены пропуски, которые не должны оказывать значительного влияния на точность и наглядность исследования.\n",
        "\n",
        "Кроме того, в датафрейм добавлены столбцы, анализ которых поможет в проведении дальнейшего исследования."
      ]
    },
    {
      "cell_type": "markdown",
      "id": "fbb0b4cd",
      "metadata": {
        "id": "fbb0b4cd"
      },
      "source": [
        "# Исследовательский анализ"
      ]
    },
    {
      "cell_type": "markdown",
      "id": "887efa46",
      "metadata": {
        "id": "887efa46"
      },
      "source": [
        "## Исследование площади, цены, числа комнат, высоты потолков и количества балконов объектов"
      ]
    },
    {
      "cell_type": "markdown",
      "id": "644beef9",
      "metadata": {
        "id": "644beef9"
      },
      "source": [
        "При помощи метода `describe` изучим следующие параметры датафрейма: площадь, цена, число комнат, высота потолков и количество балконов."
      ]
    },
    {
      "cell_type": "code",
      "execution_count": null,
      "id": "14cdf6ee",
      "metadata": {
        "id": "14cdf6ee",
        "outputId": "84ea0188-94cb-4288-f9f9-42aa253695de"
      },
      "outputs": [
        {
          "data": {
            "text/html": [
              "<div>\n",
              "<style scoped>\n",
              "    .dataframe tbody tr th:only-of-type {\n",
              "        vertical-align: middle;\n",
              "    }\n",
              "\n",
              "    .dataframe tbody tr th {\n",
              "        vertical-align: top;\n",
              "    }\n",
              "\n",
              "    .dataframe thead th {\n",
              "        text-align: right;\n",
              "    }\n",
              "</style>\n",
              "<table border=\"1\" class=\"dataframe\">\n",
              "  <thead>\n",
              "    <tr style=\"text-align: right;\">\n",
              "      <th></th>\n",
              "      <th>last_price</th>\n",
              "      <th>sq_m_cst</th>\n",
              "      <th>total_area</th>\n",
              "      <th>living_area</th>\n",
              "      <th>kitchen_area</th>\n",
              "      <th>area_ratio_lvn_to_ttl</th>\n",
              "      <th>area_ratio_ktchn_to_ttl</th>\n",
              "      <th>rooms</th>\n",
              "      <th>ceiling_height</th>\n",
              "      <th>balcony</th>\n",
              "    </tr>\n",
              "  </thead>\n",
              "  <tbody>\n",
              "    <tr>\n",
              "      <th>count</th>\n",
              "      <td>23605.000000</td>\n",
              "      <td>23605.000000</td>\n",
              "      <td>23605.000000</td>\n",
              "      <td>23605.000000</td>\n",
              "      <td>23605.000000</td>\n",
              "      <td>23605.000000</td>\n",
              "      <td>23605.000000</td>\n",
              "      <td>23605.000000</td>\n",
              "      <td>14493.000000</td>\n",
              "      <td>23605.000000</td>\n",
              "    </tr>\n",
              "    <tr>\n",
              "      <th>mean</th>\n",
              "      <td>6541.271510</td>\n",
              "      <td>98.931370</td>\n",
              "      <td>60.338218</td>\n",
              "      <td>34.631697</td>\n",
              "      <td>10.500757</td>\n",
              "      <td>0.566141</td>\n",
              "      <td>0.186544</td>\n",
              "      <td>2.071129</td>\n",
              "      <td>2.771512</td>\n",
              "      <td>0.593137</td>\n",
              "    </tr>\n",
              "    <tr>\n",
              "      <th>std</th>\n",
              "      <td>10903.455644</td>\n",
              "      <td>50.362185</td>\n",
              "      <td>35.653509</td>\n",
              "      <td>22.397372</td>\n",
              "      <td>6.038218</td>\n",
              "      <td>0.101181</td>\n",
              "      <td>0.069570</td>\n",
              "      <td>1.078466</td>\n",
              "      <td>1.261531</td>\n",
              "      <td>0.960420</td>\n",
              "    </tr>\n",
              "    <tr>\n",
              "      <th>min</th>\n",
              "      <td>12.000000</td>\n",
              "      <td>0.000000</td>\n",
              "      <td>12.000000</td>\n",
              "      <td>2.000000</td>\n",
              "      <td>1.300000</td>\n",
              "      <td>0.020000</td>\n",
              "      <td>0.030000</td>\n",
              "      <td>0.000000</td>\n",
              "      <td>1.000000</td>\n",
              "      <td>0.000000</td>\n",
              "    </tr>\n",
              "    <tr>\n",
              "      <th>25%</th>\n",
              "      <td>3400.000000</td>\n",
              "      <td>76.000000</td>\n",
              "      <td>40.000000</td>\n",
              "      <td>19.000000</td>\n",
              "      <td>7.000000</td>\n",
              "      <td>0.500000</td>\n",
              "      <td>0.140000</td>\n",
              "      <td>1.000000</td>\n",
              "      <td>2.520000</td>\n",
              "      <td>0.000000</td>\n",
              "    </tr>\n",
              "    <tr>\n",
              "      <th>50%</th>\n",
              "      <td>4650.000000</td>\n",
              "      <td>95.000000</td>\n",
              "      <td>52.000000</td>\n",
              "      <td>30.000000</td>\n",
              "      <td>9.000000</td>\n",
              "      <td>0.580000</td>\n",
              "      <td>0.180000</td>\n",
              "      <td>2.000000</td>\n",
              "      <td>2.650000</td>\n",
              "      <td>0.000000</td>\n",
              "    </tr>\n",
              "    <tr>\n",
              "      <th>75%</th>\n",
              "      <td>6799.000000</td>\n",
              "      <td>114.000000</td>\n",
              "      <td>69.750000</td>\n",
              "      <td>42.170000</td>\n",
              "      <td>12.000000</td>\n",
              "      <td>0.630000</td>\n",
              "      <td>0.220000</td>\n",
              "      <td>3.000000</td>\n",
              "      <td>2.800000</td>\n",
              "      <td>1.000000</td>\n",
              "    </tr>\n",
              "    <tr>\n",
              "      <th>max</th>\n",
              "      <td>763000.000000</td>\n",
              "      <td>1907.000000</td>\n",
              "      <td>900.000000</td>\n",
              "      <td>409.700000</td>\n",
              "      <td>112.000000</td>\n",
              "      <td>1.000000</td>\n",
              "      <td>0.790000</td>\n",
              "      <td>19.000000</td>\n",
              "      <td>100.000000</td>\n",
              "      <td>5.000000</td>\n",
              "    </tr>\n",
              "  </tbody>\n",
              "</table>\n",
              "</div>"
            ],
            "text/plain": [
              "          last_price      sq_m_cst    total_area   living_area  kitchen_area  \\\n",
              "count   23605.000000  23605.000000  23605.000000  23605.000000  23605.000000   \n",
              "mean     6541.271510     98.931370     60.338218     34.631697     10.500757   \n",
              "std     10903.455644     50.362185     35.653509     22.397372      6.038218   \n",
              "min        12.000000      0.000000     12.000000      2.000000      1.300000   \n",
              "25%      3400.000000     76.000000     40.000000     19.000000      7.000000   \n",
              "50%      4650.000000     95.000000     52.000000     30.000000      9.000000   \n",
              "75%      6799.000000    114.000000     69.750000     42.170000     12.000000   \n",
              "max    763000.000000   1907.000000    900.000000    409.700000    112.000000   \n",
              "\n",
              "       area_ratio_lvn_to_ttl  area_ratio_ktchn_to_ttl         rooms  \\\n",
              "count           23605.000000             23605.000000  23605.000000   \n",
              "mean                0.566141                 0.186544      2.071129   \n",
              "std                 0.101181                 0.069570      1.078466   \n",
              "min                 0.020000                 0.030000      0.000000   \n",
              "25%                 0.500000                 0.140000      1.000000   \n",
              "50%                 0.580000                 0.180000      2.000000   \n",
              "75%                 0.630000                 0.220000      3.000000   \n",
              "max                 1.000000                 0.790000     19.000000   \n",
              "\n",
              "       ceiling_height       balcony  \n",
              "count    14493.000000  23605.000000  \n",
              "mean         2.771512      0.593137  \n",
              "std          1.261531      0.960420  \n",
              "min          1.000000      0.000000  \n",
              "25%          2.520000      0.000000  \n",
              "50%          2.650000      0.000000  \n",
              "75%          2.800000      1.000000  \n",
              "max        100.000000      5.000000  "
            ]
          },
          "execution_count": 32,
          "metadata": {},
          "output_type": "execute_result"
        },
        {
          "data": {
            "application/javascript": [
              "\n",
              "            setTimeout(function() {\n",
              "                var nbb_cell_id = 32;\n",
              "                var nbb_unformatted_code = \"df[\\n    [\\n        \\\"last_price\\\",\\n        \\\"sq_m_cst\\\",\\n        \\\"total_area\\\",\\n        \\\"living_area\\\",\\n        \\\"kitchen_area\\\",\\n        \\\"area_ratio_lvn_to_ttl\\\",\\n        \\\"area_ratio_ktchn_to_ttl\\\",\\n        \\\"rooms\\\",\\n        \\\"ceiling_height\\\",\\n        \\\"balcony\\\",\\n    ]\\n].describe()\";\n",
              "                var nbb_formatted_code = \"df[\\n    [\\n        \\\"last_price\\\",\\n        \\\"sq_m_cst\\\",\\n        \\\"total_area\\\",\\n        \\\"living_area\\\",\\n        \\\"kitchen_area\\\",\\n        \\\"area_ratio_lvn_to_ttl\\\",\\n        \\\"area_ratio_ktchn_to_ttl\\\",\\n        \\\"rooms\\\",\\n        \\\"ceiling_height\\\",\\n        \\\"balcony\\\",\\n    ]\\n].describe()\";\n",
              "                var nbb_cells = Jupyter.notebook.get_cells();\n",
              "                for (var i = 0; i < nbb_cells.length; ++i) {\n",
              "                    if (nbb_cells[i].input_prompt_number == nbb_cell_id) {\n",
              "                        if (nbb_cells[i].get_text() == nbb_unformatted_code) {\n",
              "                             nbb_cells[i].set_text(nbb_formatted_code);\n",
              "                        }\n",
              "                        break;\n",
              "                    }\n",
              "                }\n",
              "            }, 500);\n",
              "            "
            ],
            "text/plain": [
              "<IPython.core.display.Javascript object>"
            ]
          },
          "metadata": {},
          "output_type": "display_data"
        }
      ],
      "source": [
        "df[\n",
        "    [\n",
        "        \"last_price\",\n",
        "        \"sq_m_cst\",\n",
        "        \"total_area\",\n",
        "        \"living_area\",\n",
        "        \"kitchen_area\",\n",
        "        \"area_ratio_lvn_to_ttl\",\n",
        "        \"area_ratio_ktchn_to_ttl\",\n",
        "        \"rooms\",\n",
        "        \"ceiling_height\",\n",
        "        \"balcony\",\n",
        "    ]\n",
        "].describe()"
      ]
    },
    {
      "cell_type": "markdown",
      "id": "848fa905",
      "metadata": {
        "id": "848fa905"
      },
      "source": [
        "Из полученных значений можно сделать следующие выводы:\n",
        "\n",
        "1. В столбце `last_price` большой разброс значений данных, что выражается в разнице СКО и среднего почти в 2 раза. В то же время, в результате обработки данных в столбце `sq_m_cst` существенно уменьшен разброс данных - значение СКО в 2 раза меньше среднего.\n",
        "2. В столбцах `last_price`, `total_area`, `living_area`, `kitchen_area` присутствуют выбросы, которые смещают среднее значение по сравнению с медианным на 29%, 13%, 12% и 14% соответственно. Введение относительных единиц в столбцах `sq_m_cst` `area_ratio_lvn_to_ttl`, `area_ratio_ktchn_to_ttl` позволяет существенно снизить влияние выбросов, уменьшая указанное выше смещение до уровня не более 5%.\n",
        "3. Выбросы в столбце `area_ratio_lvn_to_ttl` (близкие к 0 или 1) соответствую значениями или очень маленьким значениям в столбце `living_area`, или близким к значениям в столбце `total_area`. По всей видимости, такие значения связаны с человеческим фактором и неправильным заполнением пользователем соответствующих значений. \n",
        "4. Выбросы в столбце `ceiling_height` (меньше 2 и больше 20) могут быть вызваны ошибкой на порядок при заполнением пользователем соответствующих значений. \n",
        "5. В столбце `balcony` распределение значений не вывевает сомнений в качестве данных.\n",
        "3. В столбце `rooms` присутствуют нулевые значения, что, на первый взгляд, кажется неправдоподобным. Однако эти значения соответствуют  только апартаментам или помещениям с открытой планировкой."
      ]
    },
    {
      "cell_type": "code",
      "execution_count": null,
      "id": "3429467d",
      "metadata": {
        "scrolled": true,
        "id": "3429467d",
        "outputId": "bd030cd7-d2e1-4086-899e-1cdf266090aa"
      },
      "outputs": [
        {
          "data": {
            "text/plain": [
              "0"
            ]
          },
          "execution_count": 33,
          "metadata": {},
          "output_type": "execute_result"
        },
        {
          "data": {
            "application/javascript": [
              "\n",
              "            setTimeout(function() {\n",
              "                var nbb_cell_id = 33;\n",
              "                var nbb_unformatted_code = \"df.query(\\\"rooms == 0 and studio == False and open_plan == False\\\")[\\\"rooms\\\"].count()\";\n",
              "                var nbb_formatted_code = \"df.query(\\\"rooms == 0 and studio == False and open_plan == False\\\")[\\\"rooms\\\"].count()\";\n",
              "                var nbb_cells = Jupyter.notebook.get_cells();\n",
              "                for (var i = 0; i < nbb_cells.length; ++i) {\n",
              "                    if (nbb_cells[i].input_prompt_number == nbb_cell_id) {\n",
              "                        if (nbb_cells[i].get_text() == nbb_unformatted_code) {\n",
              "                             nbb_cells[i].set_text(nbb_formatted_code);\n",
              "                        }\n",
              "                        break;\n",
              "                    }\n",
              "                }\n",
              "            }, 500);\n",
              "            "
            ],
            "text/plain": [
              "<IPython.core.display.Javascript object>"
            ]
          },
          "metadata": {},
          "output_type": "display_data"
        }
      ],
      "source": [
        "df.query(\"rooms == 0 and studio == False and open_plan == False\")[\"rooms\"].count()"
      ]
    },
    {
      "cell_type": "markdown",
      "id": "d48cfba0",
      "metadata": {
        "id": "d48cfba0"
      },
      "source": [
        "Построим гистограммы для стоимостных параметров, ограничив вывод только значений в диапазоне 2 сигм (два СКО от среднего), что соответствует 95% всех значений."
      ]
    },
    {
      "cell_type": "code",
      "execution_count": null,
      "id": "e15637c0",
      "metadata": {
        "id": "e15637c0",
        "outputId": "2e18db78-a28c-478c-a2cc-ed6021b54e2c"
      },
      "outputs": [
        {
          "data": {
            "text/plain": [
              "Text(0.5, 0.98, 'Стоимостные параметры')"
            ]
          },
          "execution_count": 34,
          "metadata": {},
          "output_type": "execute_result"
        },
        {
          "data": {
            "image/png": "[encoded data removed]",
            "text/plain": [
              "<Figure size 864x288 with 2 Axes>"
            ]
          },
          "metadata": {
            "needs_background": "light"
          },
          "output_type": "display_data"
        },
        {
          "data": {
            "application/javascript": [
              "\n",
              "            setTimeout(function() {\n",
              "                var nbb_cell_id = 34;\n",
              "                var nbb_unformatted_code = \"_, axs = plt.subplots(1, 2, figsize=(12, 4))\\n\\nhists_1 = {\\n    0: [\\\"last_price\\\", \\\"\\u0421\\u0442\\u043e\\u0438\\u043c\\u043e\\u0441\\u0442\\u044c \\u043e\\u0431\\u044a\\u0435\\u043a\\u0442\\u0430\\\", 29000],\\n    1: [\\\"sq_m_cst\\\", \\\"\\u0421\\u0442\\u043e\\u0438\\u043c\\u043e\\u0441\\u0442\\u044c \\u043a\\u0432\\u0430\\u0434\\u0440\\u0430\\u0442\\u043d\\u043e\\u0433\\u043e \\u043c\\u0435\\u0442\\u0440\\u0430\\\", 200],\\n}\\n\\nfor i in range(2):\\n    axs[i].hist(df[hists_1[i][0]], bins=20, range=(0, hists_1[i][2]))\\n    axs[i].set_title(hists_1[i][1])\\n    axs[i].set_xlabel(\\\"\\u0421\\u0442\\u043e\\u0438\\u043c\\u043e\\u0441\\u0442\\u044c, \\u0442.\\u0443.\\u0435.\\\")\\n    axs[i].set_ylabel(\\\"\\u041a\\u043e\\u043b\\u0438\\u0447\\u0435\\u0441\\u0442\\u0432\\u043e \\u043e\\u0431\\u044a\\u044f\\u0432\\u043b\\u0435\\u043d\\u0438\\u0439\\\")\\n\\nplt.suptitle(\\\"\\u0421\\u0442\\u043e\\u0438\\u043c\\u043e\\u0441\\u0442\\u043d\\u044b\\u0435 \\u043f\\u0430\\u0440\\u0430\\u043c\\u0435\\u0442\\u0440\\u044b\\\")\";\n",
              "                var nbb_formatted_code = \"_, axs = plt.subplots(1, 2, figsize=(12, 4))\\n\\nhists_1 = {\\n    0: [\\\"last_price\\\", \\\"\\u0421\\u0442\\u043e\\u0438\\u043c\\u043e\\u0441\\u0442\\u044c \\u043e\\u0431\\u044a\\u0435\\u043a\\u0442\\u0430\\\", 29000],\\n    1: [\\\"sq_m_cst\\\", \\\"\\u0421\\u0442\\u043e\\u0438\\u043c\\u043e\\u0441\\u0442\\u044c \\u043a\\u0432\\u0430\\u0434\\u0440\\u0430\\u0442\\u043d\\u043e\\u0433\\u043e \\u043c\\u0435\\u0442\\u0440\\u0430\\\", 200],\\n}\\n\\nfor i in range(2):\\n    axs[i].hist(df[hists_1[i][0]], bins=20, range=(0, hists_1[i][2]))\\n    axs[i].set_title(hists_1[i][1])\\n    axs[i].set_xlabel(\\\"\\u0421\\u0442\\u043e\\u0438\\u043c\\u043e\\u0441\\u0442\\u044c, \\u0442.\\u0443.\\u0435.\\\")\\n    axs[i].set_ylabel(\\\"\\u041a\\u043e\\u043b\\u0438\\u0447\\u0435\\u0441\\u0442\\u0432\\u043e \\u043e\\u0431\\u044a\\u044f\\u0432\\u043b\\u0435\\u043d\\u0438\\u0439\\\")\\n\\nplt.suptitle(\\\"\\u0421\\u0442\\u043e\\u0438\\u043c\\u043e\\u0441\\u0442\\u043d\\u044b\\u0435 \\u043f\\u0430\\u0440\\u0430\\u043c\\u0435\\u0442\\u0440\\u044b\\\")\";\n",
              "                var nbb_cells = Jupyter.notebook.get_cells();\n",
              "                for (var i = 0; i < nbb_cells.length; ++i) {\n",
              "                    if (nbb_cells[i].input_prompt_number == nbb_cell_id) {\n",
              "                        if (nbb_cells[i].get_text() == nbb_unformatted_code) {\n",
              "                             nbb_cells[i].set_text(nbb_formatted_code);\n",
              "                        }\n",
              "                        break;\n",
              "                    }\n",
              "                }\n",
              "            }, 500);\n",
              "            "
            ],
            "text/plain": [
              "<IPython.core.display.Javascript object>"
            ]
          },
          "metadata": {},
          "output_type": "display_data"
        }
      ],
      "source": [
        "_, axs = plt.subplots(1, 2, figsize=(12, 4))\n",
        "\n",
        "hists_1 = {\n",
        "    0: [\"last_price\", \"Стоимость объекта\", 29000],\n",
        "    1: [\"sq_m_cst\", \"Стоимость квадратного метра\", 200],\n",
        "}\n",
        "\n",
        "for i in range(2):\n",
        "    axs[i].hist(df[hists_1[i][0]], bins=20, range=(0, hists_1[i][2]))\n",
        "    axs[i].set_title(hists_1[i][1])\n",
        "    axs[i].set_xlabel(\"Стоимость, т.у.е.\")\n",
        "    axs[i].set_ylabel(\"Количество объявлений\")\n",
        "\n",
        "plt.suptitle(\"Стоимостные параметры\")"
      ]
    },
    {
      "cell_type": "markdown",
      "id": "f4e3b1a8",
      "metadata": {
        "id": "f4e3b1a8"
      },
      "source": [
        "По полученным графикам хорошо видно, что яркие выбросы в рассмотренном диапазоне значений отсутствуют, при этом обе величины имеют распределение Пуассона. Однако в рассмотренном диапазоне распределение cтоимости квадратного метра близко к нормальному. "
      ]
    },
    {
      "cell_type": "markdown",
      "id": "0e83fb5a",
      "metadata": {
        "id": "0e83fb5a"
      },
      "source": [
        "Построим гистограммы для параметров площади, ограничив вывод только значений в диапазоне 2 сигм, что соответствует 95% всех значений."
      ]
    },
    {
      "cell_type": "code",
      "execution_count": null,
      "id": "3eefb6c5",
      "metadata": {
        "id": "3eefb6c5",
        "outputId": "2d287bbd-a538-4aea-a0d3-cbdcbca7b07e"
      },
      "outputs": [
        {
          "name": "stderr",
          "output_type": "stream",
          "text": [
            "C:\\ProgramData\\Anaconda3\\envs\\praktikum_env_win_new\\lib\\site-packages\\numpy\\lib\\histograms.py:839: RuntimeWarning: invalid value encountered in greater_equal\n",
            "  keep = (tmp_a >= first_edge)\n",
            "C:\\ProgramData\\Anaconda3\\envs\\praktikum_env_win_new\\lib\\site-packages\\numpy\\lib\\histograms.py:840: RuntimeWarning: invalid value encountered in less_equal\n",
            "  keep &= (tmp_a <= last_edge)\n"
          ]
        },
        {
          "data": {
            "image/png": "[encoded data removed]",
            "text/plain": [
              "<Figure size 1296x720 with 6 Axes>"
            ]
          },
          "metadata": {
            "needs_background": "light"
          },
          "output_type": "display_data"
        },
        {
          "data": {
            "application/javascript": [
              "\n",
              "            setTimeout(function() {\n",
              "                var nbb_cell_id = 35;\n",
              "                var nbb_unformatted_code = \"_, axs = plt.subplots(2, 3, figsize=(18, 10))\\n\\nplt.suptitle(\\\"\\u041f\\u0430\\u0440\\u0430\\u043c\\u0435\\u0442\\u0440\\u044b \\u043f\\u043b\\u043e\\u0449\\u0430\\u0434\\u0438\\\")\\nhists_2 = {\\n    0: {\\n        0: [\\\"total_area\\\", \\\"\\u041f\\u043b\\u043e\\u0449\\u0430\\u0434\\u044c \\u043e\\u0431\\u044a\\u0435\\u043a\\u0442\\u0430\\\", 130, \\\"\\u041f\\u043b\\u043e\\u0449\\u0430\\u0434\\u044c, \\u043c\\u00b2\\\"],\\n        1: [\\\"living_area\\\", \\\"\\u0416\\u0438\\u043b\\u0430\\u044f \\u043f\\u043b\\u043e\\u0449\\u0430\\u0434\\u044c\\\", 80, \\\"\\u041f\\u043b\\u043e\\u0449\\u0430\\u0434\\u044c, \\u043c\\u00b2\\\"],\\n        2: [\\\"kitchen_area\\\", \\\"\\u041f\\u043b\\u043e\\u0449\\u0430\\u0434\\u044c \\u043a\\u0443\\u0445\\u043d\\u0438\\\", 22, \\\"\\u041f\\u043b\\u043e\\u0449\\u0430\\u0434\\u044c, \\u043c\\u00b2\\\"],\\n    },\\n    1: {\\n        0: [\\\"area_ratio_lvn_to_ttl\\\", \\\"\\u041e\\u0442\\u043d\\u043e\\u0448\\u0435\\u043d\\u0438\\u0435 \\u0436\\u0438\\u043b\\u043e\\u0439 \\u043f\\u043b\\u043e\\u0449\\u0430\\u0434\\u0438 \\u043a \\u043e\\u0431\\u0449\\u0435\\u0439\\\", 0.76,\\\"\\u041e\\u0442\\u043d\\u043e\\u0448\\u0435\\u043d\\u0438\\u0435\\\"],\\n        1: [\\\"area_ratio_ktchn_to_ttl\\\", \\\"\\u041e\\u0442\\u043d\\u043e\\u0448\\u0435\\u043d\\u0438\\u0435 \\u043f\\u043b\\u043e\\u0449\\u0430\\u0434\\u0438 \\u043a\\u0443\\u0445\\u043d\\u0438 \\u043a \\u043e\\u0431\\u0449\\u0435\\u0439\\\", 0.32,\\\"\\u041e\\u0442\\u043d\\u043e\\u0448\\u0435\\u043d\\u0438\\u0435\\\"],\\n        2: [\\\"ceiling_height\\\", \\\"\\u0412\\u044b\\u0441\\u043e\\u0442\\u0430 \\u043f\\u043e\\u0442\\u043e\\u043b\\u043a\\u043e\\u0432\\\", 5.3,\\\"\\u0412\\u044b\\u0441\\u043e\\u0442\\u0430, \\u043c\\\"],\\n    },\\n}\\n\\nfor i in range(2):\\n    for j in range(3):\\n        axs[i,j].hist(df[hists_2[i][j][0]], bins=15, range=(0, hists_2[i][j][2]))\\n        axs[i,j].set_title(hists_2[i][j][1])\\n        axs[i,j].set_xlabel(hists_2[i][j][3])\\n        axs[i,j].set_ylabel(\\\"\\u041a\\u043e\\u043b\\u0438\\u0447\\u0435\\u0441\\u0442\\u0432\\u043e \\u043e\\u0431\\u044a\\u044f\\u0432\\u043b\\u0435\\u043d\\u0438\\u0439\\\")\";\n",
              "                var nbb_formatted_code = \"_, axs = plt.subplots(2, 3, figsize=(18, 10))\\n\\nplt.suptitle(\\\"\\u041f\\u0430\\u0440\\u0430\\u043c\\u0435\\u0442\\u0440\\u044b \\u043f\\u043b\\u043e\\u0449\\u0430\\u0434\\u0438\\\")\\nhists_2 = {\\n    0: {\\n        0: [\\\"total_area\\\", \\\"\\u041f\\u043b\\u043e\\u0449\\u0430\\u0434\\u044c \\u043e\\u0431\\u044a\\u0435\\u043a\\u0442\\u0430\\\", 130, \\\"\\u041f\\u043b\\u043e\\u0449\\u0430\\u0434\\u044c, \\u043c\\u00b2\\\"],\\n        1: [\\\"living_area\\\", \\\"\\u0416\\u0438\\u043b\\u0430\\u044f \\u043f\\u043b\\u043e\\u0449\\u0430\\u0434\\u044c\\\", 80, \\\"\\u041f\\u043b\\u043e\\u0449\\u0430\\u0434\\u044c, \\u043c\\u00b2\\\"],\\n        2: [\\\"kitchen_area\\\", \\\"\\u041f\\u043b\\u043e\\u0449\\u0430\\u0434\\u044c \\u043a\\u0443\\u0445\\u043d\\u0438\\\", 22, \\\"\\u041f\\u043b\\u043e\\u0449\\u0430\\u0434\\u044c, \\u043c\\u00b2\\\"],\\n    },\\n    1: {\\n        0: [\\n            \\\"area_ratio_lvn_to_ttl\\\",\\n            \\\"\\u041e\\u0442\\u043d\\u043e\\u0448\\u0435\\u043d\\u0438\\u0435 \\u0436\\u0438\\u043b\\u043e\\u0439 \\u043f\\u043b\\u043e\\u0449\\u0430\\u0434\\u0438 \\u043a \\u043e\\u0431\\u0449\\u0435\\u0439\\\",\\n            0.76,\\n            \\\"\\u041e\\u0442\\u043d\\u043e\\u0448\\u0435\\u043d\\u0438\\u0435\\\",\\n        ],\\n        1: [\\n            \\\"area_ratio_ktchn_to_ttl\\\",\\n            \\\"\\u041e\\u0442\\u043d\\u043e\\u0448\\u0435\\u043d\\u0438\\u0435 \\u043f\\u043b\\u043e\\u0449\\u0430\\u0434\\u0438 \\u043a\\u0443\\u0445\\u043d\\u0438 \\u043a \\u043e\\u0431\\u0449\\u0435\\u0439\\\",\\n            0.32,\\n            \\\"\\u041e\\u0442\\u043d\\u043e\\u0448\\u0435\\u043d\\u0438\\u0435\\\",\\n        ],\\n        2: [\\\"ceiling_height\\\", \\\"\\u0412\\u044b\\u0441\\u043e\\u0442\\u0430 \\u043f\\u043e\\u0442\\u043e\\u043b\\u043a\\u043e\\u0432\\\", 5.3, \\\"\\u0412\\u044b\\u0441\\u043e\\u0442\\u0430, \\u043c\\\"],\\n    },\\n}\\n\\nfor i in range(2):\\n    for j in range(3):\\n        axs[i, j].hist(df[hists_2[i][j][0]], bins=15, range=(0, hists_2[i][j][2]))\\n        axs[i, j].set_title(hists_2[i][j][1])\\n        axs[i, j].set_xlabel(hists_2[i][j][3])\\n        axs[i, j].set_ylabel(\\\"\\u041a\\u043e\\u043b\\u0438\\u0447\\u0435\\u0441\\u0442\\u0432\\u043e \\u043e\\u0431\\u044a\\u044f\\u0432\\u043b\\u0435\\u043d\\u0438\\u0439\\\")\";\n",
              "                var nbb_cells = Jupyter.notebook.get_cells();\n",
              "                for (var i = 0; i < nbb_cells.length; ++i) {\n",
              "                    if (nbb_cells[i].input_prompt_number == nbb_cell_id) {\n",
              "                        if (nbb_cells[i].get_text() == nbb_unformatted_code) {\n",
              "                             nbb_cells[i].set_text(nbb_formatted_code);\n",
              "                        }\n",
              "                        break;\n",
              "                    }\n",
              "                }\n",
              "            }, 500);\n",
              "            "
            ],
            "text/plain": [
              "<IPython.core.display.Javascript object>"
            ]
          },
          "metadata": {},
          "output_type": "display_data"
        }
      ],
      "source": [
        "_, axs = plt.subplots(2, 3, figsize=(18, 10))\n",
        "\n",
        "plt.suptitle(\"Параметры площади\")\n",
        "hists_2 = {\n",
        "    0: {\n",
        "        0: [\"total_area\", \"Площадь объекта\", 130, \"Площадь, м²\"],\n",
        "        1: [\"living_area\", \"Жилая площадь\", 80, \"Площадь, м²\"],\n",
        "        2: [\"kitchen_area\", \"Площадь кухни\", 22, \"Площадь, м²\"],\n",
        "    },\n",
        "    1: {\n",
        "        0: [\"area_ratio_lvn_to_ttl\", \"Отношение жилой площади к общей\", 0.76,\"Отношение\"],\n",
        "        1: [\"area_ratio_ktchn_to_ttl\", \"Отношение площади кухни к общей\", 0.32,\"Отношение\"],\n",
        "        2: [\"ceiling_height\", \"Высота потолков\", 5.3,\"Высота, м\"],\n",
        "    },\n",
        "}\n",
        "\n",
        "for i in range(2):\n",
        "    for j in range(3):\n",
        "        axs[i,j].hist(df[hists_2[i][j][0]], bins=15, range=(0, hists_2[i][j][2]))\n",
        "        axs[i,j].set_title(hists_2[i][j][1])\n",
        "        axs[i,j].set_xlabel(hists_2[i][j][3])\n",
        "        axs[i,j].set_ylabel(\"Количество объявлений\")\n"
      ]
    },
    {
      "cell_type": "markdown",
      "id": "051b0983",
      "metadata": {
        "id": "051b0983"
      },
      "source": [
        "По полученным гистограммам видно, что распределения абсолютных площадей близко к Пуассоновскому, однако наблюдаются выбросы, которые требуется исследовать.\n",
        "\n",
        "Распределение относительных площадей близко к нормальному со смещением, но и отношении площади кухни к общей наблюдается неравномерность.\n",
        "\n",
        "Гистограмма высоты потолков имеет очень узкий пик, соответствующий полученному выше описанию столбца. Большая часть значений лежит в диапазоне от 2,5 до 3 м. \n",
        "\n",
        "Исследуем неравномерность распределения значений площади, выведя гистограммы с разделением данных на количество комнат: \n",
        "* одна и менее (вместе со студиями и объектами с открытой планировкой), \n",
        "* две комнаты, \n",
        "* три и более."
      ]
    },
    {
      "cell_type": "code",
      "execution_count": null,
      "id": "039cecc7",
      "metadata": {
        "scrolled": false,
        "id": "039cecc7",
        "outputId": "15398bcc-53ac-4e40-e804-2222a05a723e"
      },
      "outputs": [
        {
          "data": {
            "image/png": "[encoded data removed]",
            "text/plain": [
              "<Figure size 1152x720 with 6 Axes>"
            ]
          },
          "metadata": {
            "needs_background": "light"
          },
          "output_type": "display_data"
        },
        {
          "data": {
            "application/javascript": [
              "\n",
              "            setTimeout(function() {\n",
              "                var nbb_cell_id = 36;\n",
              "                var nbb_unformatted_code = \"_, axs = plt.subplots(2, 3, figsize=(16, 10))\\n\\nplt.suptitle(\\\"\\u041f\\u0430\\u0440\\u0430\\u043c\\u0435\\u0442\\u0440\\u044b \\u043f\\u043b\\u043e\\u0449\\u0430\\u0434\\u0438\\\")\\n\\nfor i in range(2):\\n    for j in range(3):\\n        axs[i, j].hist(\\n            df.query(\\\"rooms <= 1\\\")[hists_2[i][j][0]],\\n            bins=15,\\n            range=(0, hists_2[i][j][2]),\\n            label=(\\\"\\u041e\\u0434\\u043d\\u0430 \\u0438 \\u043c\\u0435\\u043d\\u0435\\u0435 \\u043a\\u043e\\u043c\\u043d\\u0430\\u0442\\\"),\\n            alpha=0.5,\\n        )\\n        axs[i, j].set_title(hists_2[i][j][1])\\n        axs[i, j].set_xlabel(hists_2[i][j][3])\\n        axs[i, j].set_ylabel(\\\"\\u041a\\u043e\\u043b\\u0438\\u0447\\u0435\\u0441\\u0442\\u0432\\u043e \\u043e\\u0431\\u044a\\u044f\\u0432\\u043b\\u0435\\u043d\\u0438\\u0439\\\")\\nfor i in range(2):\\n    for j in range(3):\\n        axs[i, j].hist(\\n            df.query(\\\"rooms == 2\\\")[hists_2[i][j][0]],\\n            bins=15,\\n            range=(0, hists_2[i][j][2]),\\n            label=(\\\"\\u0414\\u0432\\u0435 \\u043a\\u043e\\u043c\\u043d\\u0430\\u0442\\u044b\\\"),\\n            alpha=0.5,\\n        )\\n        axs[i, j].set_title(hists_2[i][j][1])\\n        axs[i, j].set_xlabel(hists_2[i][j][3])\\n        axs[i, j].set_ylabel(\\\"\\u041a\\u043e\\u043b\\u0438\\u0447\\u0435\\u0441\\u0442\\u0432\\u043e \\u043e\\u0431\\u044a\\u044f\\u0432\\u043b\\u0435\\u043d\\u0438\\u0439\\\")\\nfor i in range(2):\\n    for j in range(3):\\n        axs[i, j].hist(\\n            df.query(\\\"rooms >= 3\\\")[hists_2[i][j][0]],\\n            bins=15,\\n            range=(0, hists_2[i][j][2]),\\n            label=(\\\"\\u0422\\u0440\\u0438 \\u0438 \\u0431\\u043e\\u043b\\u0435\\u0435 \\u043a\\u043e\\u043c\\u043d\\u0430\\u0442\\\"),\\n            alpha=0.5,\\n        )\\n        axs[i, j].set_title(hists_2[i][j][1])\\n        axs[i, j].set_xlabel(hists_2[i][j][3])\\n        axs[i, j].set_ylabel(\\\"\\u041a\\u043e\\u043b\\u0438\\u0447\\u0435\\u0441\\u0442\\u0432\\u043e \\u043e\\u0431\\u044a\\u044f\\u0432\\u043b\\u0435\\u043d\\u0438\\u0439\\\")\\n        axs[i, j].legend()\";\n",
              "                var nbb_formatted_code = \"_, axs = plt.subplots(2, 3, figsize=(16, 10))\\n\\nplt.suptitle(\\\"\\u041f\\u0430\\u0440\\u0430\\u043c\\u0435\\u0442\\u0440\\u044b \\u043f\\u043b\\u043e\\u0449\\u0430\\u0434\\u0438\\\")\\n\\nfor i in range(2):\\n    for j in range(3):\\n        axs[i, j].hist(\\n            df.query(\\\"rooms <= 1\\\")[hists_2[i][j][0]],\\n            bins=15,\\n            range=(0, hists_2[i][j][2]),\\n            label=(\\\"\\u041e\\u0434\\u043d\\u0430 \\u0438 \\u043c\\u0435\\u043d\\u0435\\u0435 \\u043a\\u043e\\u043c\\u043d\\u0430\\u0442\\\"),\\n            alpha=0.5,\\n        )\\n        axs[i, j].set_title(hists_2[i][j][1])\\n        axs[i, j].set_xlabel(hists_2[i][j][3])\\n        axs[i, j].set_ylabel(\\\"\\u041a\\u043e\\u043b\\u0438\\u0447\\u0435\\u0441\\u0442\\u0432\\u043e \\u043e\\u0431\\u044a\\u044f\\u0432\\u043b\\u0435\\u043d\\u0438\\u0439\\\")\\nfor i in range(2):\\n    for j in range(3):\\n        axs[i, j].hist(\\n            df.query(\\\"rooms == 2\\\")[hists_2[i][j][0]],\\n            bins=15,\\n            range=(0, hists_2[i][j][2]),\\n            label=(\\\"\\u0414\\u0432\\u0435 \\u043a\\u043e\\u043c\\u043d\\u0430\\u0442\\u044b\\\"),\\n            alpha=0.5,\\n        )\\n        axs[i, j].set_title(hists_2[i][j][1])\\n        axs[i, j].set_xlabel(hists_2[i][j][3])\\n        axs[i, j].set_ylabel(\\\"\\u041a\\u043e\\u043b\\u0438\\u0447\\u0435\\u0441\\u0442\\u0432\\u043e \\u043e\\u0431\\u044a\\u044f\\u0432\\u043b\\u0435\\u043d\\u0438\\u0439\\\")\\nfor i in range(2):\\n    for j in range(3):\\n        axs[i, j].hist(\\n            df.query(\\\"rooms >= 3\\\")[hists_2[i][j][0]],\\n            bins=15,\\n            range=(0, hists_2[i][j][2]),\\n            label=(\\\"\\u0422\\u0440\\u0438 \\u0438 \\u0431\\u043e\\u043b\\u0435\\u0435 \\u043a\\u043e\\u043c\\u043d\\u0430\\u0442\\\"),\\n            alpha=0.5,\\n        )\\n        axs[i, j].set_title(hists_2[i][j][1])\\n        axs[i, j].set_xlabel(hists_2[i][j][3])\\n        axs[i, j].set_ylabel(\\\"\\u041a\\u043e\\u043b\\u0438\\u0447\\u0435\\u0441\\u0442\\u0432\\u043e \\u043e\\u0431\\u044a\\u044f\\u0432\\u043b\\u0435\\u043d\\u0438\\u0439\\\")\\n        axs[i, j].legend()\";\n",
              "                var nbb_cells = Jupyter.notebook.get_cells();\n",
              "                for (var i = 0; i < nbb_cells.length; ++i) {\n",
              "                    if (nbb_cells[i].input_prompt_number == nbb_cell_id) {\n",
              "                        if (nbb_cells[i].get_text() == nbb_unformatted_code) {\n",
              "                             nbb_cells[i].set_text(nbb_formatted_code);\n",
              "                        }\n",
              "                        break;\n",
              "                    }\n",
              "                }\n",
              "            }, 500);\n",
              "            "
            ],
            "text/plain": [
              "<IPython.core.display.Javascript object>"
            ]
          },
          "metadata": {},
          "output_type": "display_data"
        }
      ],
      "source": [
        "_, axs = plt.subplots(2, 3, figsize=(16, 10))\n",
        "\n",
        "plt.suptitle(\"Параметры площади\")\n",
        "\n",
        "for i in range(2):\n",
        "    for j in range(3):\n",
        "        axs[i, j].hist(\n",
        "            df.query(\"rooms <= 1\")[hists_2[i][j][0]],\n",
        "            bins=15,\n",
        "            range=(0, hists_2[i][j][2]),\n",
        "            label=(\"Одна и менее комнат\"),\n",
        "            alpha=0.5,\n",
        "        )\n",
        "        axs[i, j].set_title(hists_2[i][j][1])\n",
        "        axs[i, j].set_xlabel(hists_2[i][j][3])\n",
        "        axs[i, j].set_ylabel(\"Количество объявлений\")\n",
        "for i in range(2):\n",
        "    for j in range(3):\n",
        "        axs[i, j].hist(\n",
        "            df.query(\"rooms == 2\")[hists_2[i][j][0]],\n",
        "            bins=15,\n",
        "            range=(0, hists_2[i][j][2]),\n",
        "            label=(\"Две комнаты\"),\n",
        "            alpha=0.5,\n",
        "        )\n",
        "        axs[i, j].set_title(hists_2[i][j][1])\n",
        "        axs[i, j].set_xlabel(hists_2[i][j][3])\n",
        "        axs[i, j].set_ylabel(\"Количество объявлений\")\n",
        "for i in range(2):\n",
        "    for j in range(3):\n",
        "        axs[i, j].hist(\n",
        "            df.query(\"rooms >= 3\")[hists_2[i][j][0]],\n",
        "            bins=15,\n",
        "            range=(0, hists_2[i][j][2]),\n",
        "            label=(\"Три и более комнат\"),\n",
        "            alpha=0.5,\n",
        "        )\n",
        "        axs[i, j].set_title(hists_2[i][j][1])\n",
        "        axs[i, j].set_xlabel(hists_2[i][j][3])\n",
        "        axs[i, j].set_ylabel(\"Количество объявлений\")\n",
        "        axs[i, j].legend()"
      ]
    },
    {
      "cell_type": "markdown",
      "id": "8716a6a4",
      "metadata": {
        "id": "8716a6a4"
      },
      "source": [
        "По полученным гистограммам хорошо видно, что для каждой категории распределение близко к теоретической форме. При этом пики характеристик абсолютной площади соответствуют пикам, которые ранее казались выбросами аномалиями. Таким образом, проведенная категоризация помогла объяснить неравномерность распределения значений в общем."
      ]
    },
    {
      "cell_type": "markdown",
      "id": "d066403e",
      "metadata": {
        "id": "d066403e"
      },
      "source": [
        "**Промежуточный вывод**\n",
        "\n",
        "Исследование площади, цены, числа комнат, высоты потолков и количества балконов показало, что для оценки стоимости объекта наиболее репрезентативными параметрами являются относительные параметры - стоимость квадратного метра, а также отношения жилой площади и площади кухни к общей площади. \n",
        "\n",
        "Также получено, что для уточнения результатов целесообразно вводить категоризацию объектов недвижимости по числу комнат: не более одной, две и не менее трех."
      ]
    },
    {
      "cell_type": "markdown",
      "id": "adcac3ee",
      "metadata": {
        "id": "adcac3ee"
      },
      "source": [
        "## Исследование времени размещения объявлений"
      ]
    },
    {
      "cell_type": "markdown",
      "id": "70185e08",
      "metadata": {
        "id": "70185e08"
      },
      "source": [
        "Изучим время продажи объектов."
      ]
    },
    {
      "cell_type": "code",
      "execution_count": null,
      "id": "b366f260",
      "metadata": {
        "id": "b366f260",
        "outputId": "81192c39-1988-4b51-c570-3cf99f5e3831"
      },
      "outputs": [
        {
          "data": {
            "text/plain": [
              "count    20434.000000\n",
              "mean       180.905843\n",
              "std        219.717326\n",
              "min          1.000000\n",
              "25%         45.000000\n",
              "50%         95.000000\n",
              "75%        232.000000\n",
              "max       1580.000000\n",
              "Name: days_exposition, dtype: float64"
            ]
          },
          "execution_count": 37,
          "metadata": {},
          "output_type": "execute_result"
        },
        {
          "data": {
            "application/javascript": [
              "\n",
              "            setTimeout(function() {\n",
              "                var nbb_cell_id = 37;\n",
              "                var nbb_unformatted_code = \"df.days_exposition.describe()\";\n",
              "                var nbb_formatted_code = \"df.days_exposition.describe()\";\n",
              "                var nbb_cells = Jupyter.notebook.get_cells();\n",
              "                for (var i = 0; i < nbb_cells.length; ++i) {\n",
              "                    if (nbb_cells[i].input_prompt_number == nbb_cell_id) {\n",
              "                        if (nbb_cells[i].get_text() == nbb_unformatted_code) {\n",
              "                             nbb_cells[i].set_text(nbb_formatted_code);\n",
              "                        }\n",
              "                        break;\n",
              "                    }\n",
              "                }\n",
              "            }, 500);\n",
              "            "
            ],
            "text/plain": [
              "<IPython.core.display.Javascript object>"
            ]
          },
          "metadata": {},
          "output_type": "display_data"
        }
      ],
      "source": [
        "df.days_exposition.describe()"
      ]
    },
    {
      "cell_type": "markdown",
      "id": "e2896c47",
      "metadata": {
        "id": "e2896c47"
      },
      "source": [
        "Полученные значения свидетельствуют о большом разбросе данных, с большим СКО и большой разницей между средним и медианой.\n",
        "\n",
        "Согласно полученным значениям, можно считать очень быстрые продажи - продажи, совершенные менее, чем за 45 дней, а необычно долгие - дольше 236 дней.\n",
        "\n",
        "Построим гистограмму по 95% данных."
      ]
    },
    {
      "cell_type": "code",
      "execution_count": null,
      "id": "dbab203a",
      "metadata": {
        "scrolled": true,
        "id": "dbab203a",
        "outputId": "d6934394-aea0-4261-9103-b23bf86c3ba8"
      },
      "outputs": [
        {
          "data": {
            "text/plain": [
              "<AxesSubplot:>"
            ]
          },
          "execution_count": 38,
          "metadata": {},
          "output_type": "execute_result"
        },
        {
          "data": {
            "image/png": "[encoded data removed]",
            "text/plain": [
              "<Figure size 432x288 with 1 Axes>"
            ]
          },
          "metadata": {
            "needs_background": "light"
          },
          "output_type": "display_data"
        },
        {
          "data": {
            "application/javascript": [
              "\n",
              "            setTimeout(function() {\n",
              "                var nbb_cell_id = 38;\n",
              "                var nbb_unformatted_code = \"df.days_exposition.hist(bins=30, range=(0, 580))\";\n",
              "                var nbb_formatted_code = \"df.days_exposition.hist(bins=30, range=(0, 580))\";\n",
              "                var nbb_cells = Jupyter.notebook.get_cells();\n",
              "                for (var i = 0; i < nbb_cells.length; ++i) {\n",
              "                    if (nbb_cells[i].input_prompt_number == nbb_cell_id) {\n",
              "                        if (nbb_cells[i].get_text() == nbb_unformatted_code) {\n",
              "                             nbb_cells[i].set_text(nbb_formatted_code);\n",
              "                        }\n",
              "                        break;\n",
              "                    }\n",
              "                }\n",
              "            }, 500);\n",
              "            "
            ],
            "text/plain": [
              "<IPython.core.display.Javascript object>"
            ]
          },
          "metadata": {},
          "output_type": "display_data"
        }
      ],
      "source": [
        "df.days_exposition.hist(bins=30, range=(0, 580))"
      ]
    },
    {
      "cell_type": "markdown",
      "id": "627e6808",
      "metadata": {
        "id": "627e6808"
      },
      "source": [
        "По полученному графику видно, что распределение близко к Пуассоновскому. "
      ]
    },
    {
      "cell_type": "markdown",
      "id": "854c6d68",
      "metadata": {
        "id": "854c6d68"
      },
      "source": [
        "Добавим категоризацию объявление по сроку размещения."
      ]
    },
    {
      "cell_type": "code",
      "execution_count": null,
      "id": "cb98edb2",
      "metadata": {
        "id": "cb98edb2",
        "outputId": "e863c324-523a-4811-b12c-fc8b407811df"
      },
      "outputs": [
        {
          "data": {
            "application/javascript": [
              "\n",
              "            setTimeout(function() {\n",
              "                var nbb_cell_id = 39;\n",
              "                var nbb_unformatted_code = \"def det_sale_period(row):\\n    days_exposition = row[\\\"days_exposition\\\"]\\n    if days_exposition <= 40:\\n        return \\\"\\u0431\\u044b\\u0441\\u0442\\u0440\\u044b\\u0435\\\"\\n    if days_exposition >= 200:\\n        return \\\"\\u0434\\u043e\\u043b\\u0433\\u0438\\u0435\\\"\\n    return \\\"\\u043d\\u043e\\u0440\\u043c\\u0430\\u043b\\u044c\\u043d\\u044b\\u0435\\\"\";\n",
              "                var nbb_formatted_code = \"def det_sale_period(row):\\n    days_exposition = row[\\\"days_exposition\\\"]\\n    if days_exposition <= 40:\\n        return \\\"\\u0431\\u044b\\u0441\\u0442\\u0440\\u044b\\u0435\\\"\\n    if days_exposition >= 200:\\n        return \\\"\\u0434\\u043e\\u043b\\u0433\\u0438\\u0435\\\"\\n    return \\\"\\u043d\\u043e\\u0440\\u043c\\u0430\\u043b\\u044c\\u043d\\u044b\\u0435\\\"\";\n",
              "                var nbb_cells = Jupyter.notebook.get_cells();\n",
              "                for (var i = 0; i < nbb_cells.length; ++i) {\n",
              "                    if (nbb_cells[i].input_prompt_number == nbb_cell_id) {\n",
              "                        if (nbb_cells[i].get_text() == nbb_unformatted_code) {\n",
              "                             nbb_cells[i].set_text(nbb_formatted_code);\n",
              "                        }\n",
              "                        break;\n",
              "                    }\n",
              "                }\n",
              "            }, 500);\n",
              "            "
            ],
            "text/plain": [
              "<IPython.core.display.Javascript object>"
            ]
          },
          "metadata": {},
          "output_type": "display_data"
        }
      ],
      "source": [
        "def det_sale_period(row):\n",
        "    days_exposition = row[\"days_exposition\"]\n",
        "    if days_exposition <= 40:\n",
        "        return \"быстрые\"\n",
        "    if days_exposition >= 200:\n",
        "        return \"долгие\"\n",
        "    return \"нормальные\""
      ]
    },
    {
      "cell_type": "code",
      "execution_count": null,
      "id": "35a1810a",
      "metadata": {
        "id": "35a1810a",
        "outputId": "9e03fc1f-2040-4d28-bfc1-510c24ecb009"
      },
      "outputs": [
        {
          "data": {
            "text/html": [
              "<div>\n",
              "<style scoped>\n",
              "    .dataframe tbody tr th:only-of-type {\n",
              "        vertical-align: middle;\n",
              "    }\n",
              "\n",
              "    .dataframe tbody tr th {\n",
              "        vertical-align: top;\n",
              "    }\n",
              "\n",
              "    .dataframe thead th {\n",
              "        text-align: right;\n",
              "    }\n",
              "</style>\n",
              "<table border=\"1\" class=\"dataframe\">\n",
              "  <thead>\n",
              "    <tr style=\"text-align: right;\">\n",
              "      <th></th>\n",
              "      <th>total_images</th>\n",
              "      <th>last_price</th>\n",
              "      <th>total_area</th>\n",
              "      <th>first_day_exposition</th>\n",
              "      <th>rooms</th>\n",
              "      <th>ceiling_height</th>\n",
              "      <th>floors_total</th>\n",
              "      <th>living_area</th>\n",
              "      <th>floor</th>\n",
              "      <th>is_apartment</th>\n",
              "      <th>studio</th>\n",
              "      <th>open_plan</th>\n",
              "      <th>kitchen_area</th>\n",
              "      <th>balcony</th>\n",
              "      <th>locality_name</th>\n",
              "      <th>airports_nearest</th>\n",
              "      <th>city_centers_nearest</th>\n",
              "      <th>parks_around_3000</th>\n",
              "      <th>parks_nearest</th>\n",
              "      <th>ponds_around_3000</th>\n",
              "      <th>ponds_nearest</th>\n",
              "      <th>days_exposition</th>\n",
              "      <th>sq_m_cst</th>\n",
              "      <th>exposition_weekday</th>\n",
              "      <th>exposition_mnth</th>\n",
              "      <th>exposition_year</th>\n",
              "      <th>area_ratio_lvn_to_ttl</th>\n",
              "      <th>area_ratio_ktchn_to_ttl</th>\n",
              "      <th>floor_cat</th>\n",
              "      <th>sity_cat</th>\n",
              "      <th>sale_per_cat</th>\n",
              "    </tr>\n",
              "  </thead>\n",
              "  <tbody>\n",
              "    <tr>\n",
              "      <th>0</th>\n",
              "      <td>20</td>\n",
              "      <td>13000</td>\n",
              "      <td>108.0</td>\n",
              "      <td>2019-03-07</td>\n",
              "      <td>3</td>\n",
              "      <td>2.70</td>\n",
              "      <td>16</td>\n",
              "      <td>51.000000</td>\n",
              "      <td>8</td>\n",
              "      <td>False</td>\n",
              "      <td>False</td>\n",
              "      <td>False</td>\n",
              "      <td>25.000</td>\n",
              "      <td>0</td>\n",
              "      <td>санкт-петербург</td>\n",
              "      <td>18863.0</td>\n",
              "      <td>16028.0</td>\n",
              "      <td>1.0</td>\n",
              "      <td>482.0</td>\n",
              "      <td>2.0</td>\n",
              "      <td>755.0</td>\n",
              "      <td>NaN</td>\n",
              "      <td>120</td>\n",
              "      <td>3</td>\n",
              "      <td>3</td>\n",
              "      <td>2019</td>\n",
              "      <td>0.47</td>\n",
              "      <td>0.23</td>\n",
              "      <td>другой</td>\n",
              "      <td>cпб</td>\n",
              "      <td>нормальные</td>\n",
              "    </tr>\n",
              "    <tr>\n",
              "      <th>1</th>\n",
              "      <td>7</td>\n",
              "      <td>3350</td>\n",
              "      <td>40.4</td>\n",
              "      <td>2018-12-04</td>\n",
              "      <td>1</td>\n",
              "      <td>NaN</td>\n",
              "      <td>11</td>\n",
              "      <td>18.600000</td>\n",
              "      <td>1</td>\n",
              "      <td>False</td>\n",
              "      <td>False</td>\n",
              "      <td>False</td>\n",
              "      <td>11.000</td>\n",
              "      <td>2</td>\n",
              "      <td>поселок шушары</td>\n",
              "      <td>12817.0</td>\n",
              "      <td>18603.0</td>\n",
              "      <td>0.0</td>\n",
              "      <td>NaN</td>\n",
              "      <td>0.0</td>\n",
              "      <td>NaN</td>\n",
              "      <td>81.0</td>\n",
              "      <td>82</td>\n",
              "      <td>1</td>\n",
              "      <td>12</td>\n",
              "      <td>2018</td>\n",
              "      <td>0.46</td>\n",
              "      <td>0.27</td>\n",
              "      <td>первый</td>\n",
              "      <td>пригород топ-10</td>\n",
              "      <td>нормальные</td>\n",
              "    </tr>\n",
              "    <tr>\n",
              "      <th>2</th>\n",
              "      <td>10</td>\n",
              "      <td>5196</td>\n",
              "      <td>56.0</td>\n",
              "      <td>2015-08-20</td>\n",
              "      <td>2</td>\n",
              "      <td>NaN</td>\n",
              "      <td>5</td>\n",
              "      <td>34.300000</td>\n",
              "      <td>4</td>\n",
              "      <td>False</td>\n",
              "      <td>False</td>\n",
              "      <td>False</td>\n",
              "      <td>8.300</td>\n",
              "      <td>0</td>\n",
              "      <td>санкт-петербург</td>\n",
              "      <td>21741.0</td>\n",
              "      <td>13933.0</td>\n",
              "      <td>1.0</td>\n",
              "      <td>90.0</td>\n",
              "      <td>2.0</td>\n",
              "      <td>574.0</td>\n",
              "      <td>558.0</td>\n",
              "      <td>92</td>\n",
              "      <td>3</td>\n",
              "      <td>8</td>\n",
              "      <td>2015</td>\n",
              "      <td>0.61</td>\n",
              "      <td>0.15</td>\n",
              "      <td>другой</td>\n",
              "      <td>cпб</td>\n",
              "      <td>долгие</td>\n",
              "    </tr>\n",
              "    <tr>\n",
              "      <th>3</th>\n",
              "      <td>0</td>\n",
              "      <td>64900</td>\n",
              "      <td>159.0</td>\n",
              "      <td>2015-07-24</td>\n",
              "      <td>3</td>\n",
              "      <td>NaN</td>\n",
              "      <td>14</td>\n",
              "      <td>91.730769</td>\n",
              "      <td>9</td>\n",
              "      <td>False</td>\n",
              "      <td>False</td>\n",
              "      <td>False</td>\n",
              "      <td>27.825</td>\n",
              "      <td>0</td>\n",
              "      <td>санкт-петербург</td>\n",
              "      <td>28098.0</td>\n",
              "      <td>6800.0</td>\n",
              "      <td>2.0</td>\n",
              "      <td>84.0</td>\n",
              "      <td>3.0</td>\n",
              "      <td>234.0</td>\n",
              "      <td>424.0</td>\n",
              "      <td>408</td>\n",
              "      <td>4</td>\n",
              "      <td>7</td>\n",
              "      <td>2015</td>\n",
              "      <td>0.58</td>\n",
              "      <td>0.18</td>\n",
              "      <td>другой</td>\n",
              "      <td>cпб</td>\n",
              "      <td>долгие</td>\n",
              "    </tr>\n",
              "    <tr>\n",
              "      <th>4</th>\n",
              "      <td>2</td>\n",
              "      <td>10000</td>\n",
              "      <td>100.0</td>\n",
              "      <td>2018-06-19</td>\n",
              "      <td>2</td>\n",
              "      <td>3.03</td>\n",
              "      <td>14</td>\n",
              "      <td>32.000000</td>\n",
              "      <td>13</td>\n",
              "      <td>False</td>\n",
              "      <td>False</td>\n",
              "      <td>False</td>\n",
              "      <td>41.000</td>\n",
              "      <td>0</td>\n",
              "      <td>санкт-петербург</td>\n",
              "      <td>31856.0</td>\n",
              "      <td>8098.0</td>\n",
              "      <td>2.0</td>\n",
              "      <td>112.0</td>\n",
              "      <td>1.0</td>\n",
              "      <td>48.0</td>\n",
              "      <td>121.0</td>\n",
              "      <td>100</td>\n",
              "      <td>1</td>\n",
              "      <td>6</td>\n",
              "      <td>2018</td>\n",
              "      <td>0.32</td>\n",
              "      <td>0.41</td>\n",
              "      <td>другой</td>\n",
              "      <td>cпб</td>\n",
              "      <td>нормальные</td>\n",
              "    </tr>\n",
              "  </tbody>\n",
              "</table>\n",
              "</div>"
            ],
            "text/plain": [
              "   total_images  last_price  total_area first_day_exposition  rooms  \\\n",
              "0            20       13000       108.0           2019-03-07      3   \n",
              "1             7        3350        40.4           2018-12-04      1   \n",
              "2            10        5196        56.0           2015-08-20      2   \n",
              "3             0       64900       159.0           2015-07-24      3   \n",
              "4             2       10000       100.0           2018-06-19      2   \n",
              "\n",
              "   ceiling_height  floors_total  living_area  floor  is_apartment  studio  \\\n",
              "0            2.70            16    51.000000      8         False   False   \n",
              "1             NaN            11    18.600000      1         False   False   \n",
              "2             NaN             5    34.300000      4         False   False   \n",
              "3             NaN            14    91.730769      9         False   False   \n",
              "4            3.03            14    32.000000     13         False   False   \n",
              "\n",
              "   open_plan  kitchen_area  balcony    locality_name  airports_nearest  \\\n",
              "0      False        25.000        0  санкт-петербург           18863.0   \n",
              "1      False        11.000        2   поселок шушары           12817.0   \n",
              "2      False         8.300        0  санкт-петербург           21741.0   \n",
              "3      False        27.825        0  санкт-петербург           28098.0   \n",
              "4      False        41.000        0  санкт-петербург           31856.0   \n",
              "\n",
              "   city_centers_nearest  parks_around_3000  parks_nearest  ponds_around_3000  \\\n",
              "0               16028.0                1.0          482.0                2.0   \n",
              "1               18603.0                0.0            NaN                0.0   \n",
              "2               13933.0                1.0           90.0                2.0   \n",
              "3                6800.0                2.0           84.0                3.0   \n",
              "4                8098.0                2.0          112.0                1.0   \n",
              "\n",
              "   ponds_nearest  days_exposition  sq_m_cst  exposition_weekday  \\\n",
              "0          755.0              NaN       120                   3   \n",
              "1            NaN             81.0        82                   1   \n",
              "2          574.0            558.0        92                   3   \n",
              "3          234.0            424.0       408                   4   \n",
              "4           48.0            121.0       100                   1   \n",
              "\n",
              "   exposition_mnth  exposition_year  area_ratio_lvn_to_ttl  \\\n",
              "0                3             2019                   0.47   \n",
              "1               12             2018                   0.46   \n",
              "2                8             2015                   0.61   \n",
              "3                7             2015                   0.58   \n",
              "4                6             2018                   0.32   \n",
              "\n",
              "   area_ratio_ktchn_to_ttl floor_cat         sity_cat sale_per_cat  \n",
              "0                     0.23    другой              cпб   нормальные  \n",
              "1                     0.27    первый  пригород топ-10   нормальные  \n",
              "2                     0.15    другой              cпб       долгие  \n",
              "3                     0.18    другой              cпб       долгие  \n",
              "4                     0.41    другой              cпб   нормальные  "
            ]
          },
          "execution_count": 40,
          "metadata": {},
          "output_type": "execute_result"
        },
        {
          "data": {
            "application/javascript": [
              "\n",
              "            setTimeout(function() {\n",
              "                var nbb_cell_id = 40;\n",
              "                var nbb_unformatted_code = \"df[\\\"sale_per_cat\\\"] = df.apply(det_sale_period, axis=1)\\ndf.head()\";\n",
              "                var nbb_formatted_code = \"df[\\\"sale_per_cat\\\"] = df.apply(det_sale_period, axis=1)\\ndf.head()\";\n",
              "                var nbb_cells = Jupyter.notebook.get_cells();\n",
              "                for (var i = 0; i < nbb_cells.length; ++i) {\n",
              "                    if (nbb_cells[i].input_prompt_number == nbb_cell_id) {\n",
              "                        if (nbb_cells[i].get_text() == nbb_unformatted_code) {\n",
              "                             nbb_cells[i].set_text(nbb_formatted_code);\n",
              "                        }\n",
              "                        break;\n",
              "                    }\n",
              "                }\n",
              "            }, 500);\n",
              "            "
            ],
            "text/plain": [
              "<IPython.core.display.Javascript object>"
            ]
          },
          "metadata": {},
          "output_type": "display_data"
        }
      ],
      "source": [
        "df[\"sale_per_cat\"] = df.apply(det_sale_period, axis=1)\n",
        "df.head()"
      ]
    },
    {
      "cell_type": "markdown",
      "id": "b7947f49",
      "metadata": {
        "id": "b7947f49"
      },
      "source": [
        "Проанализируем влияние стоимости квадратного метра и отношения жилой площади к общей на длительность размещения."
      ]
    },
    {
      "cell_type": "code",
      "execution_count": null,
      "id": "47807779",
      "metadata": {
        "id": "47807779",
        "outputId": "6965372e-ae10-48c2-82d9-81f11285208d"
      },
      "outputs": [
        {
          "data": {
            "image/png": "[encoded data removed]",
            "text/plain": [
              "<Figure size 1152x288 with 2 Axes>"
            ]
          },
          "metadata": {
            "needs_background": "light"
          },
          "output_type": "display_data"
        },
        {
          "data": {
            "application/javascript": [
              "\n",
              "            setTimeout(function() {\n",
              "                var nbb_cell_id = 41;\n",
              "                var nbb_unformatted_code = \"hists_3 = [\\\"\\u043d\\u043e\\u0440\\u043c\\u0430\\u043b\\u044c\\u043d\\u044b\\u0435\\\", \\\"\\u0434\\u043e\\u043b\\u0433\\u0438\\u0435\\\", \\\"\\u0431\\u044b\\u0441\\u0442\\u0440\\u044b\\u0435\\\"]\\nhists_3_data = {\\n    0: [\\\"sq_m_cst\\\", \\\"\\u0421\\u0442\\u043e\\u0438\\u043c\\u043e\\u0441\\u0442\\u044c, \\u0442.\\u0443.\\u0435.\\\", \\\"C\\u0442\\u043e\\u0438\\u043c\\u043e\\u0441\\u0442\\u044c \\u043a\\u0432\\u0430\\u0434\\u0440\\u0430\\u0442\\u043d\\u043e\\u0433\\u043e \\u043c\\u0435\\u0442\\u0440\\u0430 \\u043e\\u0431\\u044a\\u0435\\u043a\\u0442\\u0430\\\", 300],\\n    1: [\\\"area_ratio_lvn_to_ttl\\\", \\\"\\u041e\\u0442\\u043d\\u043e\\u0448\\u0435\\u043d\\u0438\\u0435\\\", \\\"\\u041e\\u0442\\u043d\\u043e\\u0448\\u0435\\u043d\\u0438\\u0435 \\u0436\\u0438\\u043b\\u043e\\u0439 \\u043f\\u043b\\u043e\\u0449\\u0430\\u0434\\u0438 \\u043a \\u043e\\u0431\\u0449\\u0435\\u0439\\\", 1],\\n}\\n\\n\\n_, axs = plt.subplots(1, 2, figsize=(16, 4))\\n\\nfor j in range(2):\\n    for i in range(3):\\n        axs[j].hist(\\n            df.loc[df[\\\"sale_per_cat\\\"] == hists_3[i], hists_3_data[j][0]],\\n            range=(0, hists_3_data[j][3]),\\n            bins=20,\\n            label=hists_3[i].capitalize(),\\n            alpha=0.5,\\n        )\\n        axs[j].set_xlabel(hists_3_data[j][1])\\n        axs[j].set_ylabel(\\\"\\u041a\\u043e\\u043b\\u0438\\u0447\\u0435\\u0441\\u0442\\u0432\\u043e \\u043e\\u0431\\u044a\\u044f\\u0432\\u043b\\u0435\\u043d\\u0438\\u0439\\\")\\n    axs[j].set_title(hists_3_data[j][2])\\n    axs[j].legend()\";\n",
              "                var nbb_formatted_code = \"hists_3 = [\\\"\\u043d\\u043e\\u0440\\u043c\\u0430\\u043b\\u044c\\u043d\\u044b\\u0435\\\", \\\"\\u0434\\u043e\\u043b\\u0433\\u0438\\u0435\\\", \\\"\\u0431\\u044b\\u0441\\u0442\\u0440\\u044b\\u0435\\\"]\\nhists_3_data = {\\n    0: [\\\"sq_m_cst\\\", \\\"\\u0421\\u0442\\u043e\\u0438\\u043c\\u043e\\u0441\\u0442\\u044c, \\u0442.\\u0443.\\u0435.\\\", \\\"C\\u0442\\u043e\\u0438\\u043c\\u043e\\u0441\\u0442\\u044c \\u043a\\u0432\\u0430\\u0434\\u0440\\u0430\\u0442\\u043d\\u043e\\u0433\\u043e \\u043c\\u0435\\u0442\\u0440\\u0430 \\u043e\\u0431\\u044a\\u0435\\u043a\\u0442\\u0430\\\", 300],\\n    1: [\\\"area_ratio_lvn_to_ttl\\\", \\\"\\u041e\\u0442\\u043d\\u043e\\u0448\\u0435\\u043d\\u0438\\u0435\\\", \\\"\\u041e\\u0442\\u043d\\u043e\\u0448\\u0435\\u043d\\u0438\\u0435 \\u0436\\u0438\\u043b\\u043e\\u0439 \\u043f\\u043b\\u043e\\u0449\\u0430\\u0434\\u0438 \\u043a \\u043e\\u0431\\u0449\\u0435\\u0439\\\", 1],\\n}\\n\\n\\n_, axs = plt.subplots(1, 2, figsize=(16, 4))\\n\\nfor j in range(2):\\n    for i in range(3):\\n        axs[j].hist(\\n            df.loc[df[\\\"sale_per_cat\\\"] == hists_3[i], hists_3_data[j][0]],\\n            range=(0, hists_3_data[j][3]),\\n            bins=20,\\n            label=hists_3[i].capitalize(),\\n            alpha=0.5,\\n        )\\n        axs[j].set_xlabel(hists_3_data[j][1])\\n        axs[j].set_ylabel(\\\"\\u041a\\u043e\\u043b\\u0438\\u0447\\u0435\\u0441\\u0442\\u0432\\u043e \\u043e\\u0431\\u044a\\u044f\\u0432\\u043b\\u0435\\u043d\\u0438\\u0439\\\")\\n    axs[j].set_title(hists_3_data[j][2])\\n    axs[j].legend()\";\n",
              "                var nbb_cells = Jupyter.notebook.get_cells();\n",
              "                for (var i = 0; i < nbb_cells.length; ++i) {\n",
              "                    if (nbb_cells[i].input_prompt_number == nbb_cell_id) {\n",
              "                        if (nbb_cells[i].get_text() == nbb_unformatted_code) {\n",
              "                             nbb_cells[i].set_text(nbb_formatted_code);\n",
              "                        }\n",
              "                        break;\n",
              "                    }\n",
              "                }\n",
              "            }, 500);\n",
              "            "
            ],
            "text/plain": [
              "<IPython.core.display.Javascript object>"
            ]
          },
          "metadata": {},
          "output_type": "display_data"
        }
      ],
      "source": [
        "hists_3 = [\"нормальные\", \"долгие\", \"быстрые\"]\n",
        "hists_3_data = {\n",
        "    0: [\"sq_m_cst\", \"Стоимость, т.у.е.\", \"Cтоимость квадратного метра объекта\", 300],\n",
        "    1: [\"area_ratio_lvn_to_ttl\", \"Отношение\", \"Отношение жилой площади к общей\", 1],\n",
        "}\n",
        "\n",
        "\n",
        "_, axs = plt.subplots(1, 2, figsize=(16, 4))\n",
        "\n",
        "for j in range(2):\n",
        "    for i in range(3):\n",
        "        axs[j].hist(\n",
        "            df.loc[df[\"sale_per_cat\"] == hists_3[i], hists_3_data[j][0]],\n",
        "            range=(0, hists_3_data[j][3]),\n",
        "            bins=20,\n",
        "            label=hists_3[i].capitalize(),\n",
        "            alpha=0.5,\n",
        "        )\n",
        "        axs[j].set_xlabel(hists_3_data[j][1])\n",
        "        axs[j].set_ylabel(\"Количество объявлений\")\n",
        "    axs[j].set_title(hists_3_data[j][2])\n",
        "    axs[j].legend()"
      ]
    },
    {
      "cell_type": "markdown",
      "id": "27f71841",
      "metadata": {
        "id": "27f71841"
      },
      "source": [
        "Из полученных данных видно, что характер распределения не изменяется, а значит, на длительность размещений не влияет ни стоимость квадратного метра объекта, ни отношение его жилой площади к общей.\n",
        "\n",
        "Проанализируем влияние на длительность размещения удаленность от аэропорта и от центра города."
      ]
    },
    {
      "cell_type": "code",
      "execution_count": null,
      "id": "0e0f6340",
      "metadata": {
        "scrolled": true,
        "id": "0e0f6340",
        "outputId": "3d99f5d6-5207-4ab2-9e55-ed85261648c5"
      },
      "outputs": [
        {
          "name": "stderr",
          "output_type": "stream",
          "text": [
            "C:\\ProgramData\\Anaconda3\\envs\\praktikum_env_win_new\\lib\\site-packages\\numpy\\lib\\histograms.py:839: RuntimeWarning: invalid value encountered in greater_equal\n",
            "  keep = (tmp_a >= first_edge)\n",
            "C:\\ProgramData\\Anaconda3\\envs\\praktikum_env_win_new\\lib\\site-packages\\numpy\\lib\\histograms.py:840: RuntimeWarning: invalid value encountered in less_equal\n",
            "  keep &= (tmp_a <= last_edge)\n"
          ]
        },
        {
          "data": {
            "image/png": "[encoded data removed]",
            "text/plain": [
              "<Figure size 1152x288 with 2 Axes>"
            ]
          },
          "metadata": {
            "needs_background": "light"
          },
          "output_type": "display_data"
        },
        {
          "data": {
            "application/javascript": [
              "\n",
              "            setTimeout(function() {\n",
              "                var nbb_cell_id = 42;\n",
              "                var nbb_unformatted_code = \"hists_4_data = {\\n    0: [\\\"airports_nearest\\\", \\\"\\u0420\\u0430\\u0441\\u0441\\u0442\\u043e\\u044f\\u043d\\u0438\\u0435 \\u0434\\u043e \\u0430\\u044d\\u0440\\u043e\\u043f\\u043e\\u0440\\u0442\\u0430\\\"],\\n    1: [\\\"city_centers_nearest\\\", \\\"\\u0420\\u0430\\u0441\\u0441\\u0442\\u043e\\u044f\\u043d\\u0438\\u0435 \\u0434\\u043e \\u0446\\u0435\\u043d\\u0442\\u0440\\u0430 \\u0433\\u043e\\u0440\\u043e\\u0434\\u0430\\\"],\\n}\\n\\n\\n_, axs = plt.subplots(1, 2, figsize=(16, 4))\\n\\nfor j in range(2):\\n    for i in range(3):\\n        axs[j].hist(\\n            df.loc[df[\\\"sale_per_cat\\\"] == hists_3[i], hists_4_data[j][0]],\\n            bins=20,\\n            label=hists_3[i].capitalize(),\\n            alpha=0.5,\\n        )\\n        axs[j].set_xlabel(\\\"\\u0420\\u0430\\u0441\\u0441\\u0442\\u043e\\u044f\\u043d\\u0438\\u0435, \\u043c\\\")\\n        axs[j].set_ylabel(\\\"\\u041a\\u043e\\u043b\\u0438\\u0447\\u0435\\u0441\\u0442\\u0432\\u043e \\u043e\\u0431\\u044a\\u044f\\u0432\\u043b\\u0435\\u043d\\u0438\\u0439\\\")\\n    axs[j].set_title(hists_4_data[j][1])\\n    axs[j].legend()\";\n",
              "                var nbb_formatted_code = \"hists_4_data = {\\n    0: [\\\"airports_nearest\\\", \\\"\\u0420\\u0430\\u0441\\u0441\\u0442\\u043e\\u044f\\u043d\\u0438\\u0435 \\u0434\\u043e \\u0430\\u044d\\u0440\\u043e\\u043f\\u043e\\u0440\\u0442\\u0430\\\"],\\n    1: [\\\"city_centers_nearest\\\", \\\"\\u0420\\u0430\\u0441\\u0441\\u0442\\u043e\\u044f\\u043d\\u0438\\u0435 \\u0434\\u043e \\u0446\\u0435\\u043d\\u0442\\u0440\\u0430 \\u0433\\u043e\\u0440\\u043e\\u0434\\u0430\\\"],\\n}\\n\\n\\n_, axs = plt.subplots(1, 2, figsize=(16, 4))\\n\\nfor j in range(2):\\n    for i in range(3):\\n        axs[j].hist(\\n            df.loc[df[\\\"sale_per_cat\\\"] == hists_3[i], hists_4_data[j][0]],\\n            bins=20,\\n            label=hists_3[i].capitalize(),\\n            alpha=0.5,\\n        )\\n        axs[j].set_xlabel(\\\"\\u0420\\u0430\\u0441\\u0441\\u0442\\u043e\\u044f\\u043d\\u0438\\u0435, \\u043c\\\")\\n        axs[j].set_ylabel(\\\"\\u041a\\u043e\\u043b\\u0438\\u0447\\u0435\\u0441\\u0442\\u0432\\u043e \\u043e\\u0431\\u044a\\u044f\\u0432\\u043b\\u0435\\u043d\\u0438\\u0439\\\")\\n    axs[j].set_title(hists_4_data[j][1])\\n    axs[j].legend()\";\n",
              "                var nbb_cells = Jupyter.notebook.get_cells();\n",
              "                for (var i = 0; i < nbb_cells.length; ++i) {\n",
              "                    if (nbb_cells[i].input_prompt_number == nbb_cell_id) {\n",
              "                        if (nbb_cells[i].get_text() == nbb_unformatted_code) {\n",
              "                             nbb_cells[i].set_text(nbb_formatted_code);\n",
              "                        }\n",
              "                        break;\n",
              "                    }\n",
              "                }\n",
              "            }, 500);\n",
              "            "
            ],
            "text/plain": [
              "<IPython.core.display.Javascript object>"
            ]
          },
          "metadata": {},
          "output_type": "display_data"
        }
      ],
      "source": [
        "hists_4_data = {\n",
        "    0: [\"airports_nearest\", \"Расстояние до аэропорта\"],\n",
        "    1: [\"city_centers_nearest\", \"Расстояние до центра города\"],\n",
        "}\n",
        "\n",
        "\n",
        "_, axs = plt.subplots(1, 2, figsize=(16, 4))\n",
        "\n",
        "for j in range(2):\n",
        "    for i in range(3):\n",
        "        axs[j].hist(\n",
        "            df.loc[df[\"sale_per_cat\"] == hists_3[i], hists_4_data[j][0]],\n",
        "            bins=20,\n",
        "            label=hists_3[i].capitalize(),\n",
        "            alpha=0.5,\n",
        "        )\n",
        "        axs[j].set_xlabel(\"Расстояние, м\")\n",
        "        axs[j].set_ylabel(\"Количество объявлений\")\n",
        "    axs[j].set_title(hists_4_data[j][1])\n",
        "    axs[j].legend()"
      ]
    },
    {
      "cell_type": "markdown",
      "id": "4b702ccb",
      "metadata": {
        "id": "4b702ccb"
      },
      "source": [
        "По полученным гистограммам видно, что есть определенные районы города, для которых характерно более длительное время продажи - около 25 км от аэропорта и 5 км от центра. При этом, быстрые продажи чаще осуществляется ближе к аэропорту, нежели к центру города."
      ]
    },
    {
      "cell_type": "markdown",
      "id": "8c45f190",
      "metadata": {
        "id": "8c45f190"
      },
      "source": [
        "**Промежуточный вывод**\n",
        "\n",
        "Время размещения объявления - параметр с очень большим разбросом значений, который в большей степени зависит от расположения объекта, нежели от его стоимости."
      ]
    },
    {
      "cell_type": "markdown",
      "id": "c0acc5d1",
      "metadata": {
        "id": "c0acc5d1"
      },
      "source": [
        "## Влияние параметров объекта на его стоимость"
      ]
    },
    {
      "cell_type": "markdown",
      "id": "4aadf7b7",
      "metadata": {
        "id": "4aadf7b7"
      },
      "source": [
        "Анализ влияния на стоимость различных параметров будем проводить при помощи функции, упрощающей построение гистограмм."
      ]
    },
    {
      "cell_type": "code",
      "execution_count": null,
      "id": "3db561d2",
      "metadata": {
        "scrolled": true,
        "id": "3db561d2",
        "outputId": "3701152d-d174-4911-8211-e90e319a5005"
      },
      "outputs": [
        {
          "data": {
            "application/javascript": [
              "\n",
              "            setTimeout(function() {\n",
              "                var nbb_cell_id = 43;\n",
              "                var nbb_unformatted_code = \"def hist_costs_in_range(column_det, min, max, df=df):\\n    _, axs = plt.subplots(1, 2, figsize=(16, 4))\\n\\n    for i in range(2):\\n        axs[i].hist(\\n            df.loc[df[column_det] <= min, hists_1[i][0]],\\n            bins=20,\\n            range=(0, hists_1[i][2]),\\n            label=(f\\\"\\u041c\\u0435\\u043d\\u0435\\u0435 {min}\\\"),\\n            alpha=0.5,\\n        )\\n        axs[i].set_title(hists_1[i][1])\\n        axs[i].set_xlabel(\\\"\\u0421\\u0442\\u043e\\u0438\\u043c\\u043e\\u0441\\u0442\\u044c, \\u0442.\\u0443.\\u0435.\\\")\\n        axs[i].set_ylabel(\\\"\\u041a\\u043e\\u043b\\u0438\\u0447\\u0435\\u0441\\u0442\\u0432\\u043e \\u043e\\u0431\\u044a\\u044f\\u0432\\u043b\\u0435\\u043d\\u0438\\u0439\\\")\\n        axs[i].axvline(\\n            df.loc[df[column_det] <= min, hists_1[i][0]].mean(),\\n            color=\\\"b\\\",\\n            linestyle=\\\"dashed\\\",\\n            linewidth=1,\\n        )\\n\\n    for i in range(2):\\n        axs[i].hist(\\n            df.loc[(df[column_det] > min) & (df[column_det] <= max), hists_1[i][0]],\\n            bins=20,\\n            range=(0, hists_1[i][2]),\\n            label=(f\\\"\\u0411\\u043e\\u043b\\u0435\\u0435 {min}, \\u043d\\u043e \\u043c\\u0435\\u043d\\u0435\\u0435 {max}\\\"),\\n            alpha=0.5,\\n        )\\n        axs[i].set_title(hists_1[i][1])\\n        axs[i].set_xlabel(\\\"\\u0421\\u0442\\u043e\\u0438\\u043c\\u043e\\u0441\\u0442\\u044c, \\u0442.\\u0443.\\u0435.\\\")\\n        axs[i].set_ylabel(\\\"\\u041a\\u043e\\u043b\\u0438\\u0447\\u0435\\u0441\\u0442\\u0432\\u043e \\u043e\\u0431\\u044a\\u044f\\u0432\\u043b\\u0435\\u043d\\u0438\\u0439\\\")\\n        axs[i].axvline(\\n            df.loc[\\n                (df[column_det] > min) & (df[column_det] <= max), hists_1[i][0]\\n            ].mean(),\\n            color=\\\"r\\\",\\n            linestyle=\\\"dashed\\\",\\n            linewidth=1,\\n        )\\n\\n    for i in range(2):\\n        axs[i].hist(\\n            df.loc[df[column_det] > max, hists_1[i][0]],\\n            bins=20,\\n            range=(0, hists_1[i][2]),\\n            label=(f\\\"\\u0411\\u043e\\u043b\\u0435\\u0435 {max}\\\"),\\n            alpha=0.5,\\n        )\\n        axs[i].set_title(hists_1[i][1])\\n        axs[i].set_xlabel(\\\"\\u0421\\u0442\\u043e\\u0438\\u043c\\u043e\\u0441\\u0442\\u044c, \\u0442.\\u0443.\\u0435.\\\")\\n        axs[i].set_ylabel(\\\"\\u041a\\u043e\\u043b\\u0438\\u0447\\u0435\\u0441\\u0442\\u0432\\u043e \\u043e\\u0431\\u044a\\u044f\\u0432\\u043b\\u0435\\u043d\\u0438\\u0439\\\")\\n        axs[i].axvline(\\n            df.loc[df[column_det] > max, hists_1[i][0]].mean(),\\n            color=\\\"g\\\",\\n            linestyle=\\\"dashed\\\",\\n            linewidth=1,\\n        )\\n        axs[i].legend()\";\n",
              "                var nbb_formatted_code = \"def hist_costs_in_range(column_det, min, max, df=df):\\n    _, axs = plt.subplots(1, 2, figsize=(16, 4))\\n\\n    for i in range(2):\\n        axs[i].hist(\\n            df.loc[df[column_det] <= min, hists_1[i][0]],\\n            bins=20,\\n            range=(0, hists_1[i][2]),\\n            label=(f\\\"\\u041c\\u0435\\u043d\\u0435\\u0435 {min}\\\"),\\n            alpha=0.5,\\n        )\\n        axs[i].set_title(hists_1[i][1])\\n        axs[i].set_xlabel(\\\"\\u0421\\u0442\\u043e\\u0438\\u043c\\u043e\\u0441\\u0442\\u044c, \\u0442.\\u0443.\\u0435.\\\")\\n        axs[i].set_ylabel(\\\"\\u041a\\u043e\\u043b\\u0438\\u0447\\u0435\\u0441\\u0442\\u0432\\u043e \\u043e\\u0431\\u044a\\u044f\\u0432\\u043b\\u0435\\u043d\\u0438\\u0439\\\")\\n        axs[i].axvline(\\n            df.loc[df[column_det] <= min, hists_1[i][0]].mean(),\\n            color=\\\"b\\\",\\n            linestyle=\\\"dashed\\\",\\n            linewidth=1,\\n        )\\n\\n    for i in range(2):\\n        axs[i].hist(\\n            df.loc[(df[column_det] > min) & (df[column_det] <= max), hists_1[i][0]],\\n            bins=20,\\n            range=(0, hists_1[i][2]),\\n            label=(f\\\"\\u0411\\u043e\\u043b\\u0435\\u0435 {min}, \\u043d\\u043e \\u043c\\u0435\\u043d\\u0435\\u0435 {max}\\\"),\\n            alpha=0.5,\\n        )\\n        axs[i].set_title(hists_1[i][1])\\n        axs[i].set_xlabel(\\\"\\u0421\\u0442\\u043e\\u0438\\u043c\\u043e\\u0441\\u0442\\u044c, \\u0442.\\u0443.\\u0435.\\\")\\n        axs[i].set_ylabel(\\\"\\u041a\\u043e\\u043b\\u0438\\u0447\\u0435\\u0441\\u0442\\u0432\\u043e \\u043e\\u0431\\u044a\\u044f\\u0432\\u043b\\u0435\\u043d\\u0438\\u0439\\\")\\n        axs[i].axvline(\\n            df.loc[\\n                (df[column_det] > min) & (df[column_det] <= max), hists_1[i][0]\\n            ].mean(),\\n            color=\\\"r\\\",\\n            linestyle=\\\"dashed\\\",\\n            linewidth=1,\\n        )\\n\\n    for i in range(2):\\n        axs[i].hist(\\n            df.loc[df[column_det] > max, hists_1[i][0]],\\n            bins=20,\\n            range=(0, hists_1[i][2]),\\n            label=(f\\\"\\u0411\\u043e\\u043b\\u0435\\u0435 {max}\\\"),\\n            alpha=0.5,\\n        )\\n        axs[i].set_title(hists_1[i][1])\\n        axs[i].set_xlabel(\\\"\\u0421\\u0442\\u043e\\u0438\\u043c\\u043e\\u0441\\u0442\\u044c, \\u0442.\\u0443.\\u0435.\\\")\\n        axs[i].set_ylabel(\\\"\\u041a\\u043e\\u043b\\u0438\\u0447\\u0435\\u0441\\u0442\\u0432\\u043e \\u043e\\u0431\\u044a\\u044f\\u0432\\u043b\\u0435\\u043d\\u0438\\u0439\\\")\\n        axs[i].axvline(\\n            df.loc[df[column_det] > max, hists_1[i][0]].mean(),\\n            color=\\\"g\\\",\\n            linestyle=\\\"dashed\\\",\\n            linewidth=1,\\n        )\\n        axs[i].legend()\";\n",
              "                var nbb_cells = Jupyter.notebook.get_cells();\n",
              "                for (var i = 0; i < nbb_cells.length; ++i) {\n",
              "                    if (nbb_cells[i].input_prompt_number == nbb_cell_id) {\n",
              "                        if (nbb_cells[i].get_text() == nbb_unformatted_code) {\n",
              "                             nbb_cells[i].set_text(nbb_formatted_code);\n",
              "                        }\n",
              "                        break;\n",
              "                    }\n",
              "                }\n",
              "            }, 500);\n",
              "            "
            ],
            "text/plain": [
              "<IPython.core.display.Javascript object>"
            ]
          },
          "metadata": {},
          "output_type": "display_data"
        }
      ],
      "source": [
        "def hist_costs_in_range(column_det, min, max, df=df):\n",
        "    _, axs = plt.subplots(1, 2, figsize=(16, 4))\n",
        "\n",
        "    for i in range(2):\n",
        "        axs[i].hist(\n",
        "            df.loc[df[column_det] <= min, hists_1[i][0]],\n",
        "            bins=20,\n",
        "            range=(0, hists_1[i][2]),\n",
        "            label=(f\"Менее {min}\"),\n",
        "            alpha=0.5,\n",
        "        )\n",
        "        axs[i].set_title(hists_1[i][1])\n",
        "        axs[i].set_xlabel(\"Стоимость, т.у.е.\")\n",
        "        axs[i].set_ylabel(\"Количество объявлений\")\n",
        "        axs[i].axvline(\n",
        "            df.loc[df[column_det] <= min, hists_1[i][0]].mean(),\n",
        "            color=\"b\",\n",
        "            linestyle=\"dashed\",\n",
        "            linewidth=1,\n",
        "        )\n",
        "\n",
        "    for i in range(2):\n",
        "        axs[i].hist(\n",
        "            df.loc[(df[column_det] > min) & (df[column_det] <= max), hists_1[i][0]],\n",
        "            bins=20,\n",
        "            range=(0, hists_1[i][2]),\n",
        "            label=(f\"Более {min}, но менее {max}\"),\n",
        "            alpha=0.5,\n",
        "        )\n",
        "        axs[i].set_title(hists_1[i][1])\n",
        "        axs[i].set_xlabel(\"Стоимость, т.у.е.\")\n",
        "        axs[i].set_ylabel(\"Количество объявлений\")\n",
        "        axs[i].axvline(\n",
        "            df.loc[\n",
        "                (df[column_det] > min) & (df[column_det] <= max), hists_1[i][0]\n",
        "            ].mean(),\n",
        "            color=\"r\",\n",
        "            linestyle=\"dashed\",\n",
        "            linewidth=1,\n",
        "        )\n",
        "\n",
        "    for i in range(2):\n",
        "        axs[i].hist(\n",
        "            df.loc[df[column_det] > max, hists_1[i][0]],\n",
        "            bins=20,\n",
        "            range=(0, hists_1[i][2]),\n",
        "            label=(f\"Более {max}\"),\n",
        "            alpha=0.5,\n",
        "        )\n",
        "        axs[i].set_title(hists_1[i][1])\n",
        "        axs[i].set_xlabel(\"Стоимость, т.у.е.\")\n",
        "        axs[i].set_ylabel(\"Количество объявлений\")\n",
        "        axs[i].axvline(\n",
        "            df.loc[df[column_det] > max, hists_1[i][0]].mean(),\n",
        "            color=\"g\",\n",
        "            linestyle=\"dashed\",\n",
        "            linewidth=1,\n",
        "        )\n",
        "        axs[i].legend()"
      ]
    },
    {
      "cell_type": "markdown",
      "id": "548a9e0e",
      "metadata": {
        "id": "548a9e0e"
      },
      "source": [
        "Оценим влияние количества комнат на стоимость."
      ]
    },
    {
      "cell_type": "code",
      "execution_count": null,
      "id": "6945e041",
      "metadata": {
        "scrolled": true,
        "id": "6945e041",
        "outputId": "64053b5c-461f-4d3c-8cd3-97a3ba5a911f"
      },
      "outputs": [
        {
          "data": {
            "text/plain": [
              "Text(0.5, 0.98, 'Влияние количества комнат на стоимость')"
            ]
          },
          "execution_count": 44,
          "metadata": {},
          "output_type": "execute_result"
        },
        {
          "data": {
            "image/png": "[encoded data removed]",
            "text/plain": [
              "<Figure size 1152x288 with 2 Axes>"
            ]
          },
          "metadata": {
            "needs_background": "light"
          },
          "output_type": "display_data"
        },
        {
          "data": {
            "application/javascript": [
              "\n",
              "            setTimeout(function() {\n",
              "                var nbb_cell_id = 44;\n",
              "                var nbb_unformatted_code = \"hist_costs_in_range(\\\"rooms\\\", min=1, max=2)\\nplt.suptitle(\\\"\\u0412\\u043b\\u0438\\u044f\\u043d\\u0438\\u0435 \\u043a\\u043e\\u043b\\u0438\\u0447\\u0435\\u0441\\u0442\\u0432\\u0430 \\u043a\\u043e\\u043c\\u043d\\u0430\\u0442 \\u043d\\u0430 \\u0441\\u0442\\u043e\\u0438\\u043c\\u043e\\u0441\\u0442\\u044c\\\")\";\n",
              "                var nbb_formatted_code = \"hist_costs_in_range(\\\"rooms\\\", min=1, max=2)\\nplt.suptitle(\\\"\\u0412\\u043b\\u0438\\u044f\\u043d\\u0438\\u0435 \\u043a\\u043e\\u043b\\u0438\\u0447\\u0435\\u0441\\u0442\\u0432\\u0430 \\u043a\\u043e\\u043c\\u043d\\u0430\\u0442 \\u043d\\u0430 \\u0441\\u0442\\u043e\\u0438\\u043c\\u043e\\u0441\\u0442\\u044c\\\")\";\n",
              "                var nbb_cells = Jupyter.notebook.get_cells();\n",
              "                for (var i = 0; i < nbb_cells.length; ++i) {\n",
              "                    if (nbb_cells[i].input_prompt_number == nbb_cell_id) {\n",
              "                        if (nbb_cells[i].get_text() == nbb_unformatted_code) {\n",
              "                             nbb_cells[i].set_text(nbb_formatted_code);\n",
              "                        }\n",
              "                        break;\n",
              "                    }\n",
              "                }\n",
              "            }, 500);\n",
              "            "
            ],
            "text/plain": [
              "<IPython.core.display.Javascript object>"
            ]
          },
          "metadata": {},
          "output_type": "display_data"
        }
      ],
      "source": [
        "hist_costs_in_range(\"rooms\", min=1, max=2)\n",
        "plt.suptitle(\"Влияние количества комнат на стоимость\")"
      ]
    },
    {
      "cell_type": "markdown",
      "id": "acd3e9a5",
      "metadata": {
        "id": "acd3e9a5"
      },
      "source": [
        "Штриховые вертикальные линии на графике соответствуют медианному значению соответствующего среза.\n",
        "\n",
        "По полученным графикам хорошо видно изменение характера распределения стоимости от количества комнат. Чем их меньше - тем меньше общая стоимость объекта и тем больше стоимость квадратного метра. И наоборот.\n",
        "\n",
        "Оценим влияние площади на стоимость. Диапазоны выберем в соответствии с квартилями."
      ]
    },
    {
      "cell_type": "code",
      "execution_count": null,
      "id": "8d9b379b",
      "metadata": {
        "id": "8d9b379b",
        "outputId": "3b359000-e967-4435-9e62-b55adde13bf0"
      },
      "outputs": [
        {
          "data": {
            "text/plain": [
              "Text(0.5, 0.98, 'Влияние общей площади объекта на стоимость')"
            ]
          },
          "execution_count": 45,
          "metadata": {},
          "output_type": "execute_result"
        },
        {
          "data": {
            "image/png": "[encoded data removed]",
            "text/plain": [
              "<Figure size 1152x288 with 2 Axes>"
            ]
          },
          "metadata": {
            "needs_background": "light"
          },
          "output_type": "display_data"
        },
        {
          "data": {
            "application/javascript": [
              "\n",
              "            setTimeout(function() {\n",
              "                var nbb_cell_id = 45;\n",
              "                var nbb_unformatted_code = \"hist_costs_in_range(\\\"total_area\\\", 40, 70)\\nplt.suptitle(\\\"\\u0412\\u043b\\u0438\\u044f\\u043d\\u0438\\u0435 \\u043e\\u0431\\u0449\\u0435\\u0439 \\u043f\\u043b\\u043e\\u0449\\u0430\\u0434\\u0438 \\u043e\\u0431\\u044a\\u0435\\u043a\\u0442\\u0430 \\u043d\\u0430 \\u0441\\u0442\\u043e\\u0438\\u043c\\u043e\\u0441\\u0442\\u044c\\\")\";\n",
              "                var nbb_formatted_code = \"hist_costs_in_range(\\\"total_area\\\", 40, 70)\\nplt.suptitle(\\\"\\u0412\\u043b\\u0438\\u044f\\u043d\\u0438\\u0435 \\u043e\\u0431\\u0449\\u0435\\u0439 \\u043f\\u043b\\u043e\\u0449\\u0430\\u0434\\u0438 \\u043e\\u0431\\u044a\\u0435\\u043a\\u0442\\u0430 \\u043d\\u0430 \\u0441\\u0442\\u043e\\u0438\\u043c\\u043e\\u0441\\u0442\\u044c\\\")\";\n",
              "                var nbb_cells = Jupyter.notebook.get_cells();\n",
              "                for (var i = 0; i < nbb_cells.length; ++i) {\n",
              "                    if (nbb_cells[i].input_prompt_number == nbb_cell_id) {\n",
              "                        if (nbb_cells[i].get_text() == nbb_unformatted_code) {\n",
              "                             nbb_cells[i].set_text(nbb_formatted_code);\n",
              "                        }\n",
              "                        break;\n",
              "                    }\n",
              "                }\n",
              "            }, 500);\n",
              "            "
            ],
            "text/plain": [
              "<IPython.core.display.Javascript object>"
            ]
          },
          "metadata": {},
          "output_type": "display_data"
        }
      ],
      "source": [
        "hist_costs_in_range(\"total_area\", 40, 70)\n",
        "plt.suptitle(\"Влияние общей площади объекта на стоимость\")"
      ]
    },
    {
      "cell_type": "markdown",
      "id": "fdf11260",
      "metadata": {
        "id": "fdf11260"
      },
      "source": [
        "Полученные результаты соответствуют результатам анализа влияния на стоимость количества комнат, так как последние связаны с общей площадью объектов. Примечательно, что не смотря на высокую медианную стоимость больших объектов в абсолютном отношении, медианная стоимость квадратного метра для них очень близка к соответствующей стоимости маленьких объектов.\n",
        "\n",
        "Оценим влияние удаленности объекта от центра города. Диапазон выберем, основываясь на квартилях."
      ]
    },
    {
      "cell_type": "code",
      "execution_count": null,
      "id": "c5ef06a3",
      "metadata": {
        "id": "c5ef06a3",
        "outputId": "06bd644f-f9b4-4522-cb63-70af063eecb2"
      },
      "outputs": [
        {
          "data": {
            "text/plain": [
              "count    18104.000000\n",
              "mean     14185.084015\n",
              "std       8614.132292\n",
              "min        181.000000\n",
              "25%       9233.750000\n",
              "50%      13093.000000\n",
              "75%      16287.000000\n",
              "max      65968.000000\n",
              "Name: city_centers_nearest, dtype: float64"
            ]
          },
          "execution_count": 46,
          "metadata": {},
          "output_type": "execute_result"
        },
        {
          "data": {
            "application/javascript": [
              "\n",
              "            setTimeout(function() {\n",
              "                var nbb_cell_id = 46;\n",
              "                var nbb_unformatted_code = \"df.city_centers_nearest.describe()\";\n",
              "                var nbb_formatted_code = \"df.city_centers_nearest.describe()\";\n",
              "                var nbb_cells = Jupyter.notebook.get_cells();\n",
              "                for (var i = 0; i < nbb_cells.length; ++i) {\n",
              "                    if (nbb_cells[i].input_prompt_number == nbb_cell_id) {\n",
              "                        if (nbb_cells[i].get_text() == nbb_unformatted_code) {\n",
              "                             nbb_cells[i].set_text(nbb_formatted_code);\n",
              "                        }\n",
              "                        break;\n",
              "                    }\n",
              "                }\n",
              "            }, 500);\n",
              "            "
            ],
            "text/plain": [
              "<IPython.core.display.Javascript object>"
            ]
          },
          "metadata": {},
          "output_type": "display_data"
        }
      ],
      "source": [
        "df.city_centers_nearest.describe()"
      ]
    },
    {
      "cell_type": "code",
      "execution_count": null,
      "id": "ec95b679",
      "metadata": {
        "id": "ec95b679",
        "outputId": "57ed37f9-591b-4921-8308-8afc1e9feef7"
      },
      "outputs": [
        {
          "data": {
            "text/plain": [
              "Text(0.5, 0.98, 'Влияние удаленности объекта от центра на стоимость')"
            ]
          },
          "execution_count": 47,
          "metadata": {},
          "output_type": "execute_result"
        },
        {
          "data": {
            "image/png": "[encoded data removed]",
            "text/plain": [
              "<Figure size 1152x288 with 2 Axes>"
            ]
          },
          "metadata": {
            "needs_background": "light"
          },
          "output_type": "display_data"
        },
        {
          "data": {
            "application/javascript": [
              "\n",
              "            setTimeout(function() {\n",
              "                var nbb_cell_id = 47;\n",
              "                var nbb_unformatted_code = \"hist_costs_in_range(\\\"city_centers_nearest\\\", 10000, 16000)\\nplt.suptitle(\\\"\\u0412\\u043b\\u0438\\u044f\\u043d\\u0438\\u0435 \\u0443\\u0434\\u0430\\u043b\\u0435\\u043d\\u043d\\u043e\\u0441\\u0442\\u0438 \\u043e\\u0431\\u044a\\u0435\\u043a\\u0442\\u0430 \\u043e\\u0442 \\u0446\\u0435\\u043d\\u0442\\u0440\\u0430 \\u043d\\u0430 \\u0441\\u0442\\u043e\\u0438\\u043c\\u043e\\u0441\\u0442\\u044c\\\")\";\n",
              "                var nbb_formatted_code = \"hist_costs_in_range(\\\"city_centers_nearest\\\", 10000, 16000)\\nplt.suptitle(\\\"\\u0412\\u043b\\u0438\\u044f\\u043d\\u0438\\u0435 \\u0443\\u0434\\u0430\\u043b\\u0435\\u043d\\u043d\\u043e\\u0441\\u0442\\u0438 \\u043e\\u0431\\u044a\\u0435\\u043a\\u0442\\u0430 \\u043e\\u0442 \\u0446\\u0435\\u043d\\u0442\\u0440\\u0430 \\u043d\\u0430 \\u0441\\u0442\\u043e\\u0438\\u043c\\u043e\\u0441\\u0442\\u044c\\\")\";\n",
              "                var nbb_cells = Jupyter.notebook.get_cells();\n",
              "                for (var i = 0; i < nbb_cells.length; ++i) {\n",
              "                    if (nbb_cells[i].input_prompt_number == nbb_cell_id) {\n",
              "                        if (nbb_cells[i].get_text() == nbb_unformatted_code) {\n",
              "                             nbb_cells[i].set_text(nbb_formatted_code);\n",
              "                        }\n",
              "                        break;\n",
              "                    }\n",
              "                }\n",
              "            }, 500);\n",
              "            "
            ],
            "text/plain": [
              "<IPython.core.display.Javascript object>"
            ]
          },
          "metadata": {},
          "output_type": "display_data"
        }
      ],
      "source": [
        "hist_costs_in_range(\"city_centers_nearest\", 10000, 16000)\n",
        "plt.suptitle(\"Влияние удаленности объекта от центра на стоимость\")"
      ]
    },
    {
      "cell_type": "markdown",
      "id": "ffd3be11",
      "metadata": {
        "id": "ffd3be11"
      },
      "source": [
        "По гистограммам видно, что стоимость как абсолютная, так и относительная тем выше, чем ближе объект находится к центру города.\n",
        "\n",
        "Изучим зависимость цены от того, на каком этаже расположена квартира: первом, последнем или другом."
      ]
    },
    {
      "cell_type": "code",
      "execution_count": null,
      "id": "b7f0436f",
      "metadata": {
        "id": "b7f0436f",
        "outputId": "fc7c9f73-f7ce-4919-f746-a7077674baaa"
      },
      "outputs": [
        {
          "data": {
            "application/javascript": [
              "\n",
              "            setTimeout(function() {\n",
              "                var nbb_cell_id = 48;\n",
              "                var nbb_unformatted_code = \"def hist_cost_floor(df=df):\\n    _, axs = plt.subplots(1, 2, figsize=(16, 4))\\n\\n    for i in range(2):\\n        axs[i].hist(\\n            df.loc[df[\\\"floor_cat\\\"] == \\\"\\u043f\\u0435\\u0440\\u0432\\u044b\\u0439\\\", hists_1[i][0]],\\n            bins=20,\\n            range=(0, hists_1[i][2]),\\n            label=(\\\"\\u041f\\u0435\\u0440\\u0432\\u044b\\u0439\\\"),\\n            alpha=0.5,\\n        )\\n        axs[i].set_title(hists_1[i][1])\\n        axs[i].set_xlabel(\\\"\\u0421\\u0442\\u043e\\u0438\\u043c\\u043e\\u0441\\u0442\\u044c, \\u0442.\\u0443.\\u0435.\\\")\\n        axs[i].set_ylabel(\\\"\\u041a\\u043e\\u043b\\u0438\\u0447\\u0435\\u0441\\u0442\\u0432\\u043e \\u043e\\u0431\\u044a\\u044f\\u0432\\u043b\\u0435\\u043d\\u0438\\u0439\\\")\\n        axs[i].axvline(\\n            df.loc[df[\\\"floor_cat\\\"] == \\\"\\u043f\\u0435\\u0440\\u0432\\u044b\\u0439\\\", hists_1[i][0]].median(),\\n            color=\\\"b\\\",\\n            linestyle=\\\"dashed\\\",\\n            linewidth=1,\\n        )\\n\\n    for i in range(2):\\n        axs[i].hist(\\n            df.loc[df[\\\"floor_cat\\\"] == \\\"\\u043f\\u043e\\u0441\\u043b\\u0435\\u0434\\u043d\\u0438\\u0439\\\", hists_1[i][0]],\\n            bins=20,\\n            range=(0, hists_1[i][2]),\\n            label=(\\\"\\u041f\\u043e\\u0441\\u043b\\u0435\\u0434\\u043d\\u0438\\u0439\\\"),\\n            alpha=0.5,\\n        )\\n        axs[i].set_title(hists_1[i][1])\\n        axs[i].set_xlabel(\\\"\\u0421\\u0442\\u043e\\u0438\\u043c\\u043e\\u0441\\u0442\\u044c, \\u0442.\\u0443.\\u0435.\\\")\\n        axs[i].set_ylabel(\\\"\\u041a\\u043e\\u043b\\u0438\\u0447\\u0435\\u0441\\u0442\\u0432\\u043e \\u043e\\u0431\\u044a\\u044f\\u0432\\u043b\\u0435\\u043d\\u0438\\u0439\\\")\\n        axs[i].axvline(\\n            df.loc[df[\\\"floor_cat\\\"] == \\\"\\u043f\\u043e\\u0441\\u043b\\u0435\\u0434\\u043d\\u0438\\u0439\\\", hists_1[i][0]].median(),\\n            color=\\\"r\\\",\\n            linestyle=\\\"dashed\\\",\\n            linewidth=1,\\n        )\\n\\n    for i in range(2):\\n        axs[i].hist(\\n            df.loc[df[\\\"floor_cat\\\"] == \\\"\\u0434\\u0440\\u0443\\u0433\\u043e\\u0439\\\", hists_1[i][0]],\\n            bins=20,\\n            range=(0, hists_1[i][2]),\\n            label=(\\\"\\u0414\\u0440\\u0443\\u0433\\u043e\\u0439\\\"),\\n            alpha=0.5,\\n        )\\n        axs[i].set_title(hists_1[i][1])\\n        axs[i].set_xlabel(\\\"\\u0421\\u0442\\u043e\\u0438\\u043c\\u043e\\u0441\\u0442\\u044c, \\u0442.\\u0443.\\u0435.\\\")\\n        axs[i].set_ylabel(\\\"\\u041a\\u043e\\u043b\\u0438\\u0447\\u0435\\u0441\\u0442\\u0432\\u043e \\u043e\\u0431\\u044a\\u044f\\u0432\\u043b\\u0435\\u043d\\u0438\\u0439\\\")\\n        axs[i].axvline(\\n            df.loc[df[\\\"floor_cat\\\"] == \\\"\\u0434\\u0440\\u0443\\u0433\\u043e\\u0439\\\", hists_1[i][0]].median(),\\n            color=\\\"g\\\",\\n            linestyle=\\\"dashed\\\",\\n            linewidth=1,\\n        )\\n        axs[i].legend()\\n    plt.suptitle(\\\"\\u0412\\u043b\\u0438\\u044f\\u043d\\u0438\\u0435 \\u044d\\u0442\\u0430\\u0436\\u0430 \\u043e\\u0431\\u044a\\u0435\\u043a\\u0442\\u0430 \\u043d\\u0430 \\u0441\\u0442\\u043e\\u0438\\u043c\\u043e\\u0441\\u0442\\u044c\\\")\";\n",
              "                var nbb_formatted_code = \"def hist_cost_floor(df=df):\\n    _, axs = plt.subplots(1, 2, figsize=(16, 4))\\n\\n    for i in range(2):\\n        axs[i].hist(\\n            df.loc[df[\\\"floor_cat\\\"] == \\\"\\u043f\\u0435\\u0440\\u0432\\u044b\\u0439\\\", hists_1[i][0]],\\n            bins=20,\\n            range=(0, hists_1[i][2]),\\n            label=(\\\"\\u041f\\u0435\\u0440\\u0432\\u044b\\u0439\\\"),\\n            alpha=0.5,\\n        )\\n        axs[i].set_title(hists_1[i][1])\\n        axs[i].set_xlabel(\\\"\\u0421\\u0442\\u043e\\u0438\\u043c\\u043e\\u0441\\u0442\\u044c, \\u0442.\\u0443.\\u0435.\\\")\\n        axs[i].set_ylabel(\\\"\\u041a\\u043e\\u043b\\u0438\\u0447\\u0435\\u0441\\u0442\\u0432\\u043e \\u043e\\u0431\\u044a\\u044f\\u0432\\u043b\\u0435\\u043d\\u0438\\u0439\\\")\\n        axs[i].axvline(\\n            df.loc[df[\\\"floor_cat\\\"] == \\\"\\u043f\\u0435\\u0440\\u0432\\u044b\\u0439\\\", hists_1[i][0]].median(),\\n            color=\\\"b\\\",\\n            linestyle=\\\"dashed\\\",\\n            linewidth=1,\\n        )\\n\\n    for i in range(2):\\n        axs[i].hist(\\n            df.loc[df[\\\"floor_cat\\\"] == \\\"\\u043f\\u043e\\u0441\\u043b\\u0435\\u0434\\u043d\\u0438\\u0439\\\", hists_1[i][0]],\\n            bins=20,\\n            range=(0, hists_1[i][2]),\\n            label=(\\\"\\u041f\\u043e\\u0441\\u043b\\u0435\\u0434\\u043d\\u0438\\u0439\\\"),\\n            alpha=0.5,\\n        )\\n        axs[i].set_title(hists_1[i][1])\\n        axs[i].set_xlabel(\\\"\\u0421\\u0442\\u043e\\u0438\\u043c\\u043e\\u0441\\u0442\\u044c, \\u0442.\\u0443.\\u0435.\\\")\\n        axs[i].set_ylabel(\\\"\\u041a\\u043e\\u043b\\u0438\\u0447\\u0435\\u0441\\u0442\\u0432\\u043e \\u043e\\u0431\\u044a\\u044f\\u0432\\u043b\\u0435\\u043d\\u0438\\u0439\\\")\\n        axs[i].axvline(\\n            df.loc[df[\\\"floor_cat\\\"] == \\\"\\u043f\\u043e\\u0441\\u043b\\u0435\\u0434\\u043d\\u0438\\u0439\\\", hists_1[i][0]].median(),\\n            color=\\\"r\\\",\\n            linestyle=\\\"dashed\\\",\\n            linewidth=1,\\n        )\\n\\n    for i in range(2):\\n        axs[i].hist(\\n            df.loc[df[\\\"floor_cat\\\"] == \\\"\\u0434\\u0440\\u0443\\u0433\\u043e\\u0439\\\", hists_1[i][0]],\\n            bins=20,\\n            range=(0, hists_1[i][2]),\\n            label=(\\\"\\u0414\\u0440\\u0443\\u0433\\u043e\\u0439\\\"),\\n            alpha=0.5,\\n        )\\n        axs[i].set_title(hists_1[i][1])\\n        axs[i].set_xlabel(\\\"\\u0421\\u0442\\u043e\\u0438\\u043c\\u043e\\u0441\\u0442\\u044c, \\u0442.\\u0443.\\u0435.\\\")\\n        axs[i].set_ylabel(\\\"\\u041a\\u043e\\u043b\\u0438\\u0447\\u0435\\u0441\\u0442\\u0432\\u043e \\u043e\\u0431\\u044a\\u044f\\u0432\\u043b\\u0435\\u043d\\u0438\\u0439\\\")\\n        axs[i].axvline(\\n            df.loc[df[\\\"floor_cat\\\"] == \\\"\\u0434\\u0440\\u0443\\u0433\\u043e\\u0439\\\", hists_1[i][0]].median(),\\n            color=\\\"g\\\",\\n            linestyle=\\\"dashed\\\",\\n            linewidth=1,\\n        )\\n        axs[i].legend()\\n    plt.suptitle(\\\"\\u0412\\u043b\\u0438\\u044f\\u043d\\u0438\\u0435 \\u044d\\u0442\\u0430\\u0436\\u0430 \\u043e\\u0431\\u044a\\u0435\\u043a\\u0442\\u0430 \\u043d\\u0430 \\u0441\\u0442\\u043e\\u0438\\u043c\\u043e\\u0441\\u0442\\u044c\\\")\";\n",
              "                var nbb_cells = Jupyter.notebook.get_cells();\n",
              "                for (var i = 0; i < nbb_cells.length; ++i) {\n",
              "                    if (nbb_cells[i].input_prompt_number == nbb_cell_id) {\n",
              "                        if (nbb_cells[i].get_text() == nbb_unformatted_code) {\n",
              "                             nbb_cells[i].set_text(nbb_formatted_code);\n",
              "                        }\n",
              "                        break;\n",
              "                    }\n",
              "                }\n",
              "            }, 500);\n",
              "            "
            ],
            "text/plain": [
              "<IPython.core.display.Javascript object>"
            ]
          },
          "metadata": {},
          "output_type": "display_data"
        }
      ],
      "source": [
        "def hist_cost_floor(df=df):\n",
        "    _, axs = plt.subplots(1, 2, figsize=(16, 4))\n",
        "\n",
        "    for i in range(2):\n",
        "        axs[i].hist(\n",
        "            df.loc[df[\"floor_cat\"] == \"первый\", hists_1[i][0]],\n",
        "            bins=20,\n",
        "            range=(0, hists_1[i][2]),\n",
        "            label=(\"Первый\"),\n",
        "            alpha=0.5,\n",
        "        )\n",
        "        axs[i].set_title(hists_1[i][1])\n",
        "        axs[i].set_xlabel(\"Стоимость, т.у.е.\")\n",
        "        axs[i].set_ylabel(\"Количество объявлений\")\n",
        "        axs[i].axvline(\n",
        "            df.loc[df[\"floor_cat\"] == \"первый\", hists_1[i][0]].median(),\n",
        "            color=\"b\",\n",
        "            linestyle=\"dashed\",\n",
        "            linewidth=1,\n",
        "        )\n",
        "\n",
        "    for i in range(2):\n",
        "        axs[i].hist(\n",
        "            df.loc[df[\"floor_cat\"] == \"последний\", hists_1[i][0]],\n",
        "            bins=20,\n",
        "            range=(0, hists_1[i][2]),\n",
        "            label=(\"Последний\"),\n",
        "            alpha=0.5,\n",
        "        )\n",
        "        axs[i].set_title(hists_1[i][1])\n",
        "        axs[i].set_xlabel(\"Стоимость, т.у.е.\")\n",
        "        axs[i].set_ylabel(\"Количество объявлений\")\n",
        "        axs[i].axvline(\n",
        "            df.loc[df[\"floor_cat\"] == \"последний\", hists_1[i][0]].median(),\n",
        "            color=\"r\",\n",
        "            linestyle=\"dashed\",\n",
        "            linewidth=1,\n",
        "        )\n",
        "\n",
        "    for i in range(2):\n",
        "        axs[i].hist(\n",
        "            df.loc[df[\"floor_cat\"] == \"другой\", hists_1[i][0]],\n",
        "            bins=20,\n",
        "            range=(0, hists_1[i][2]),\n",
        "            label=(\"Другой\"),\n",
        "            alpha=0.5,\n",
        "        )\n",
        "        axs[i].set_title(hists_1[i][1])\n",
        "        axs[i].set_xlabel(\"Стоимость, т.у.е.\")\n",
        "        axs[i].set_ylabel(\"Количество объявлений\")\n",
        "        axs[i].axvline(\n",
        "            df.loc[df[\"floor_cat\"] == \"другой\", hists_1[i][0]].median(),\n",
        "            color=\"g\",\n",
        "            linestyle=\"dashed\",\n",
        "            linewidth=1,\n",
        "        )\n",
        "        axs[i].legend()\n",
        "    plt.suptitle(\"Влияние этажа объекта на стоимость\")"
      ]
    },
    {
      "cell_type": "code",
      "execution_count": null,
      "id": "8d13faf7",
      "metadata": {
        "id": "8d13faf7",
        "outputId": "9c82a5cb-a97a-4715-94da-b9301558ab31"
      },
      "outputs": [
        {
          "data": {
            "image/png": "[encoded data removed]",
            "text/plain": [
              "<Figure size 1152x288 with 2 Axes>"
            ]
          },
          "metadata": {
            "needs_background": "light"
          },
          "output_type": "display_data"
        },
        {
          "data": {
            "application/javascript": [
              "\n",
              "            setTimeout(function() {\n",
              "                var nbb_cell_id = 49;\n",
              "                var nbb_unformatted_code = \"hist_cost_floor()\";\n",
              "                var nbb_formatted_code = \"hist_cost_floor()\";\n",
              "                var nbb_cells = Jupyter.notebook.get_cells();\n",
              "                for (var i = 0; i < nbb_cells.length; ++i) {\n",
              "                    if (nbb_cells[i].input_prompt_number == nbb_cell_id) {\n",
              "                        if (nbb_cells[i].get_text() == nbb_unformatted_code) {\n",
              "                             nbb_cells[i].set_text(nbb_formatted_code);\n",
              "                        }\n",
              "                        break;\n",
              "                    }\n",
              "                }\n",
              "            }, 500);\n",
              "            "
            ],
            "text/plain": [
              "<IPython.core.display.Javascript object>"
            ]
          },
          "metadata": {},
          "output_type": "display_data"
        }
      ],
      "source": [
        "hist_cost_floor()"
      ]
    },
    {
      "cell_type": "markdown",
      "id": "22d43953",
      "metadata": {
        "id": "22d43953"
      },
      "source": [
        "По гистограммам видно, что объявление объектов на \"других\" этажах существенно больше, чем на первом или последнем. Однако их медианная стоимость меньше, как в относительном, так и в абсолютном выражении. \n",
        "\n",
        "Изучим влияние времени размещения (день недели, месяц, год) на стоимость объекта."
      ]
    },
    {
      "cell_type": "code",
      "execution_count": null,
      "id": "0cb90f5b",
      "metadata": {
        "id": "0cb90f5b",
        "outputId": "908f1d27-fbb7-4c8a-d6a4-cb813f34060f"
      },
      "outputs": [
        {
          "data": {
            "text/html": [
              "<div>\n",
              "<style scoped>\n",
              "    .dataframe tbody tr th:only-of-type {\n",
              "        vertical-align: middle;\n",
              "    }\n",
              "\n",
              "    .dataframe tbody tr th {\n",
              "        vertical-align: top;\n",
              "    }\n",
              "\n",
              "    .dataframe thead tr th {\n",
              "        text-align: left;\n",
              "    }\n",
              "\n",
              "    .dataframe thead tr:last-of-type th {\n",
              "        text-align: right;\n",
              "    }\n",
              "</style>\n",
              "<table border=\"1\" class=\"dataframe\">\n",
              "  <thead>\n",
              "    <tr>\n",
              "      <th></th>\n",
              "      <th colspan=\"2\" halign=\"left\">median</th>\n",
              "      <th colspan=\"2\" halign=\"left\">mean</th>\n",
              "      <th colspan=\"2\" halign=\"left\">count</th>\n",
              "    </tr>\n",
              "    <tr>\n",
              "      <th></th>\n",
              "      <th>last_price</th>\n",
              "      <th>sq_m_cst</th>\n",
              "      <th>last_price</th>\n",
              "      <th>sq_m_cst</th>\n",
              "      <th>last_price</th>\n",
              "      <th>sq_m_cst</th>\n",
              "    </tr>\n",
              "    <tr>\n",
              "      <th>exposition_weekday</th>\n",
              "      <th></th>\n",
              "      <th></th>\n",
              "      <th></th>\n",
              "      <th></th>\n",
              "      <th></th>\n",
              "      <th></th>\n",
              "    </tr>\n",
              "  </thead>\n",
              "  <tbody>\n",
              "    <tr>\n",
              "      <th>0</th>\n",
              "      <td>4650.0</td>\n",
              "      <td>94</td>\n",
              "      <td>6520.436076</td>\n",
              "      <td>98.984992</td>\n",
              "      <td>3598</td>\n",
              "      <td>3598</td>\n",
              "    </tr>\n",
              "    <tr>\n",
              "      <th>1</th>\n",
              "      <td>4725.0</td>\n",
              "      <td>95</td>\n",
              "      <td>6391.141315</td>\n",
              "      <td>99.224568</td>\n",
              "      <td>4168</td>\n",
              "      <td>4168</td>\n",
              "    </tr>\n",
              "    <tr>\n",
              "      <th>2</th>\n",
              "      <td>4700.0</td>\n",
              "      <td>95</td>\n",
              "      <td>6631.784378</td>\n",
              "      <td>99.120324</td>\n",
              "      <td>3956</td>\n",
              "      <td>3956</td>\n",
              "    </tr>\n",
              "    <tr>\n",
              "      <th>3</th>\n",
              "      <td>4650.0</td>\n",
              "      <td>95</td>\n",
              "      <td>6704.371849</td>\n",
              "      <td>99.698880</td>\n",
              "      <td>4284</td>\n",
              "      <td>4284</td>\n",
              "    </tr>\n",
              "    <tr>\n",
              "      <th>4</th>\n",
              "      <td>4577.5</td>\n",
              "      <td>94</td>\n",
              "      <td>6367.259529</td>\n",
              "      <td>98.469408</td>\n",
              "      <td>3988</td>\n",
              "      <td>3988</td>\n",
              "    </tr>\n",
              "    <tr>\n",
              "      <th>5</th>\n",
              "      <td>4550.0</td>\n",
              "      <td>93</td>\n",
              "      <td>6983.119729</td>\n",
              "      <td>98.564289</td>\n",
              "      <td>1921</td>\n",
              "      <td>1921</td>\n",
              "    </tr>\n",
              "    <tr>\n",
              "      <th>6</th>\n",
              "      <td>4540.0</td>\n",
              "      <td>94</td>\n",
              "      <td>6238.956213</td>\n",
              "      <td>97.213609</td>\n",
              "      <td>1690</td>\n",
              "      <td>1690</td>\n",
              "    </tr>\n",
              "  </tbody>\n",
              "</table>\n",
              "</div>"
            ],
            "text/plain": [
              "                       median                  mean                 count  \\\n",
              "                   last_price sq_m_cst   last_price   sq_m_cst last_price   \n",
              "exposition_weekday                                                          \n",
              "0                      4650.0       94  6520.436076  98.984992       3598   \n",
              "1                      4725.0       95  6391.141315  99.224568       4168   \n",
              "2                      4700.0       95  6631.784378  99.120324       3956   \n",
              "3                      4650.0       95  6704.371849  99.698880       4284   \n",
              "4                      4577.5       94  6367.259529  98.469408       3988   \n",
              "5                      4550.0       93  6983.119729  98.564289       1921   \n",
              "6                      4540.0       94  6238.956213  97.213609       1690   \n",
              "\n",
              "                             \n",
              "                   sq_m_cst  \n",
              "exposition_weekday           \n",
              "0                      3598  \n",
              "1                      4168  \n",
              "2                      3956  \n",
              "3                      4284  \n",
              "4                      3988  \n",
              "5                      1921  \n",
              "6                      1690  "
            ]
          },
          "execution_count": 50,
          "metadata": {},
          "output_type": "execute_result"
        },
        {
          "data": {
            "application/javascript": [
              "\n",
              "            setTimeout(function() {\n",
              "                var nbb_cell_id = 50;\n",
              "                var nbb_unformatted_code = \"df.pivot_table(\\n    index=\\\"exposition_weekday\\\",\\n    values=[\\\"last_price\\\", \\\"sq_m_cst\\\"],\\n    aggfunc=[\\\"median\\\", \\\"mean\\\", \\\"count\\\"],\\n)\";\n",
              "                var nbb_formatted_code = \"df.pivot_table(\\n    index=\\\"exposition_weekday\\\",\\n    values=[\\\"last_price\\\", \\\"sq_m_cst\\\"],\\n    aggfunc=[\\\"median\\\", \\\"mean\\\", \\\"count\\\"],\\n)\";\n",
              "                var nbb_cells = Jupyter.notebook.get_cells();\n",
              "                for (var i = 0; i < nbb_cells.length; ++i) {\n",
              "                    if (nbb_cells[i].input_prompt_number == nbb_cell_id) {\n",
              "                        if (nbb_cells[i].get_text() == nbb_unformatted_code) {\n",
              "                             nbb_cells[i].set_text(nbb_formatted_code);\n",
              "                        }\n",
              "                        break;\n",
              "                    }\n",
              "                }\n",
              "            }, 500);\n",
              "            "
            ],
            "text/plain": [
              "<IPython.core.display.Javascript object>"
            ]
          },
          "metadata": {},
          "output_type": "display_data"
        }
      ],
      "source": [
        "df.pivot_table(\n",
        "    index=\"exposition_weekday\",\n",
        "    values=[\"last_price\", \"sq_m_cst\"],\n",
        "    aggfunc=[\"median\", \"mean\", \"count\"],\n",
        ")"
      ]
    },
    {
      "cell_type": "code",
      "execution_count": null,
      "id": "fd04c33a",
      "metadata": {
        "id": "fd04c33a",
        "outputId": "23389947-b2c4-48d1-ba47-fca1848fb252"
      },
      "outputs": [
        {
          "data": {
            "text/html": [
              "<div>\n",
              "<style scoped>\n",
              "    .dataframe tbody tr th:only-of-type {\n",
              "        vertical-align: middle;\n",
              "    }\n",
              "\n",
              "    .dataframe tbody tr th {\n",
              "        vertical-align: top;\n",
              "    }\n",
              "\n",
              "    .dataframe thead tr th {\n",
              "        text-align: left;\n",
              "    }\n",
              "\n",
              "    .dataframe thead tr:last-of-type th {\n",
              "        text-align: right;\n",
              "    }\n",
              "</style>\n",
              "<table border=\"1\" class=\"dataframe\">\n",
              "  <thead>\n",
              "    <tr>\n",
              "      <th></th>\n",
              "      <th colspan=\"2\" halign=\"left\">median</th>\n",
              "      <th colspan=\"2\" halign=\"left\">mean</th>\n",
              "      <th colspan=\"2\" halign=\"left\">count</th>\n",
              "    </tr>\n",
              "    <tr>\n",
              "      <th></th>\n",
              "      <th>last_price</th>\n",
              "      <th>sq_m_cst</th>\n",
              "      <th>last_price</th>\n",
              "      <th>sq_m_cst</th>\n",
              "      <th>last_price</th>\n",
              "      <th>sq_m_cst</th>\n",
              "    </tr>\n",
              "    <tr>\n",
              "      <th>exposition_mnth</th>\n",
              "      <th></th>\n",
              "      <th></th>\n",
              "      <th></th>\n",
              "      <th></th>\n",
              "      <th></th>\n",
              "      <th></th>\n",
              "    </tr>\n",
              "  </thead>\n",
              "  <tbody>\n",
              "    <tr>\n",
              "      <th>1</th>\n",
              "      <td>4600.0</td>\n",
              "      <td>95</td>\n",
              "      <td>6667.880936</td>\n",
              "      <td>99.291639</td>\n",
              "      <td>1495</td>\n",
              "      <td>1495</td>\n",
              "    </tr>\n",
              "    <tr>\n",
              "      <th>2</th>\n",
              "      <td>4650.0</td>\n",
              "      <td>95</td>\n",
              "      <td>6467.971179</td>\n",
              "      <td>98.293895</td>\n",
              "      <td>2637</td>\n",
              "      <td>2637</td>\n",
              "    </tr>\n",
              "    <tr>\n",
              "      <th>3</th>\n",
              "      <td>4650.0</td>\n",
              "      <td>95</td>\n",
              "      <td>6356.256977</td>\n",
              "      <td>98.450000</td>\n",
              "      <td>2580</td>\n",
              "      <td>2580</td>\n",
              "    </tr>\n",
              "    <tr>\n",
              "      <th>4</th>\n",
              "      <td>4800.0</td>\n",
              "      <td>96</td>\n",
              "      <td>6739.193562</td>\n",
              "      <td>101.508259</td>\n",
              "      <td>2361</td>\n",
              "      <td>2361</td>\n",
              "    </tr>\n",
              "    <tr>\n",
              "      <th>5</th>\n",
              "      <td>4500.0</td>\n",
              "      <td>92</td>\n",
              "      <td>6597.770570</td>\n",
              "      <td>98.035601</td>\n",
              "      <td>1264</td>\n",
              "      <td>1264</td>\n",
              "    </tr>\n",
              "    <tr>\n",
              "      <th>6</th>\n",
              "      <td>4400.0</td>\n",
              "      <td>92</td>\n",
              "      <td>6315.964041</td>\n",
              "      <td>97.299658</td>\n",
              "      <td>1752</td>\n",
              "      <td>1752</td>\n",
              "    </tr>\n",
              "    <tr>\n",
              "      <th>7</th>\n",
              "      <td>4650.0</td>\n",
              "      <td>95</td>\n",
              "      <td>6649.749852</td>\n",
              "      <td>99.189093</td>\n",
              "      <td>1687</td>\n",
              "      <td>1687</td>\n",
              "    </tr>\n",
              "    <tr>\n",
              "      <th>8</th>\n",
              "      <td>4570.0</td>\n",
              "      <td>96</td>\n",
              "      <td>6343.168868</td>\n",
              "      <td>99.594486</td>\n",
              "      <td>1741</td>\n",
              "      <td>1741</td>\n",
              "    </tr>\n",
              "    <tr>\n",
              "      <th>9</th>\n",
              "      <td>4700.0</td>\n",
              "      <td>95</td>\n",
              "      <td>6835.411854</td>\n",
              "      <td>100.012665</td>\n",
              "      <td>1974</td>\n",
              "      <td>1974</td>\n",
              "    </tr>\n",
              "    <tr>\n",
              "      <th>10</th>\n",
              "      <td>4572.5</td>\n",
              "      <td>94</td>\n",
              "      <td>6238.719905</td>\n",
              "      <td>97.391469</td>\n",
              "      <td>2110</td>\n",
              "      <td>2110</td>\n",
              "    </tr>\n",
              "    <tr>\n",
              "      <th>11</th>\n",
              "      <td>4700.0</td>\n",
              "      <td>95</td>\n",
              "      <td>6450.297080</td>\n",
              "      <td>98.743970</td>\n",
              "      <td>2363</td>\n",
              "      <td>2363</td>\n",
              "    </tr>\n",
              "    <tr>\n",
              "      <th>12</th>\n",
              "      <td>4700.0</td>\n",
              "      <td>94</td>\n",
              "      <td>7011.714199</td>\n",
              "      <td>99.089580</td>\n",
              "      <td>1641</td>\n",
              "      <td>1641</td>\n",
              "    </tr>\n",
              "  </tbody>\n",
              "</table>\n",
              "</div>"
            ],
            "text/plain": [
              "                    median                  mean                  count  \\\n",
              "                last_price sq_m_cst   last_price    sq_m_cst last_price   \n",
              "exposition_mnth                                                           \n",
              "1                   4600.0       95  6667.880936   99.291639       1495   \n",
              "2                   4650.0       95  6467.971179   98.293895       2637   \n",
              "3                   4650.0       95  6356.256977   98.450000       2580   \n",
              "4                   4800.0       96  6739.193562  101.508259       2361   \n",
              "5                   4500.0       92  6597.770570   98.035601       1264   \n",
              "6                   4400.0       92  6315.964041   97.299658       1752   \n",
              "7                   4650.0       95  6649.749852   99.189093       1687   \n",
              "8                   4570.0       96  6343.168868   99.594486       1741   \n",
              "9                   4700.0       95  6835.411854  100.012665       1974   \n",
              "10                  4572.5       94  6238.719905   97.391469       2110   \n",
              "11                  4700.0       95  6450.297080   98.743970       2363   \n",
              "12                  4700.0       94  7011.714199   99.089580       1641   \n",
              "\n",
              "                          \n",
              "                sq_m_cst  \n",
              "exposition_mnth           \n",
              "1                   1495  \n",
              "2                   2637  \n",
              "3                   2580  \n",
              "4                   2361  \n",
              "5                   1264  \n",
              "6                   1752  \n",
              "7                   1687  \n",
              "8                   1741  \n",
              "9                   1974  \n",
              "10                  2110  \n",
              "11                  2363  \n",
              "12                  1641  "
            ]
          },
          "execution_count": 51,
          "metadata": {},
          "output_type": "execute_result"
        },
        {
          "data": {
            "application/javascript": [
              "\n",
              "            setTimeout(function() {\n",
              "                var nbb_cell_id = 51;\n",
              "                var nbb_unformatted_code = \"df.pivot_table(\\n    index=\\\"exposition_mnth\\\",\\n    values=[\\\"last_price\\\", \\\"sq_m_cst\\\"],\\n    aggfunc=[\\\"median\\\", \\\"mean\\\", \\\"count\\\"],\\n)\";\n",
              "                var nbb_formatted_code = \"df.pivot_table(\\n    index=\\\"exposition_mnth\\\",\\n    values=[\\\"last_price\\\", \\\"sq_m_cst\\\"],\\n    aggfunc=[\\\"median\\\", \\\"mean\\\", \\\"count\\\"],\\n)\";\n",
              "                var nbb_cells = Jupyter.notebook.get_cells();\n",
              "                for (var i = 0; i < nbb_cells.length; ++i) {\n",
              "                    if (nbb_cells[i].input_prompt_number == nbb_cell_id) {\n",
              "                        if (nbb_cells[i].get_text() == nbb_unformatted_code) {\n",
              "                             nbb_cells[i].set_text(nbb_formatted_code);\n",
              "                        }\n",
              "                        break;\n",
              "                    }\n",
              "                }\n",
              "            }, 500);\n",
              "            "
            ],
            "text/plain": [
              "<IPython.core.display.Javascript object>"
            ]
          },
          "metadata": {},
          "output_type": "display_data"
        }
      ],
      "source": [
        "df.pivot_table(\n",
        "    index=\"exposition_mnth\",\n",
        "    values=[\"last_price\", \"sq_m_cst\"],\n",
        "    aggfunc=[\"median\", \"mean\", \"count\"],\n",
        ")"
      ]
    },
    {
      "cell_type": "code",
      "execution_count": null,
      "id": "72736240",
      "metadata": {
        "id": "72736240",
        "outputId": "ea1ab113-01d6-4e51-8c42-68ae87f05c84"
      },
      "outputs": [
        {
          "data": {
            "text/html": [
              "<div>\n",
              "<style scoped>\n",
              "    .dataframe tbody tr th:only-of-type {\n",
              "        vertical-align: middle;\n",
              "    }\n",
              "\n",
              "    .dataframe tbody tr th {\n",
              "        vertical-align: top;\n",
              "    }\n",
              "\n",
              "    .dataframe thead tr th {\n",
              "        text-align: left;\n",
              "    }\n",
              "\n",
              "    .dataframe thead tr:last-of-type th {\n",
              "        text-align: right;\n",
              "    }\n",
              "</style>\n",
              "<table border=\"1\" class=\"dataframe\">\n",
              "  <thead>\n",
              "    <tr>\n",
              "      <th></th>\n",
              "      <th colspan=\"2\" halign=\"left\">median</th>\n",
              "      <th colspan=\"2\" halign=\"left\">mean</th>\n",
              "      <th colspan=\"2\" halign=\"left\">count</th>\n",
              "    </tr>\n",
              "    <tr>\n",
              "      <th></th>\n",
              "      <th>last_price</th>\n",
              "      <th>sq_m_cst</th>\n",
              "      <th>last_price</th>\n",
              "      <th>sq_m_cst</th>\n",
              "      <th>last_price</th>\n",
              "      <th>sq_m_cst</th>\n",
              "    </tr>\n",
              "    <tr>\n",
              "      <th>exposition_year</th>\n",
              "      <th></th>\n",
              "      <th></th>\n",
              "      <th></th>\n",
              "      <th></th>\n",
              "      <th></th>\n",
              "      <th></th>\n",
              "    </tr>\n",
              "  </thead>\n",
              "  <tbody>\n",
              "    <tr>\n",
              "      <th>2014</th>\n",
              "      <td>7700.0</td>\n",
              "      <td>107</td>\n",
              "      <td>12087.102190</td>\n",
              "      <td>124.343066</td>\n",
              "      <td>137</td>\n",
              "      <td>137</td>\n",
              "    </tr>\n",
              "    <tr>\n",
              "      <th>2015</th>\n",
              "      <td>5312.5</td>\n",
              "      <td>93</td>\n",
              "      <td>8575.575169</td>\n",
              "      <td>104.051520</td>\n",
              "      <td>1184</td>\n",
              "      <td>1184</td>\n",
              "    </tr>\n",
              "    <tr>\n",
              "      <th>2016</th>\n",
              "      <td>4550.0</td>\n",
              "      <td>91</td>\n",
              "      <td>6827.591386</td>\n",
              "      <td>97.845458</td>\n",
              "      <td>2763</td>\n",
              "      <td>2763</td>\n",
              "    </tr>\n",
              "    <tr>\n",
              "      <th>2017</th>\n",
              "      <td>4500.0</td>\n",
              "      <td>92</td>\n",
              "      <td>6583.327453</td>\n",
              "      <td>97.158030</td>\n",
              "      <td>8163</td>\n",
              "      <td>8163</td>\n",
              "    </tr>\n",
              "    <tr>\n",
              "      <th>2018</th>\n",
              "      <td>4550.0</td>\n",
              "      <td>95</td>\n",
              "      <td>5953.759868</td>\n",
              "      <td>97.282785</td>\n",
              "      <td>8487</td>\n",
              "      <td>8487</td>\n",
              "    </tr>\n",
              "    <tr>\n",
              "      <th>2019</th>\n",
              "      <td>5050.0</td>\n",
              "      <td>103</td>\n",
              "      <td>6779.311390</td>\n",
              "      <td>106.567746</td>\n",
              "      <td>2871</td>\n",
              "      <td>2871</td>\n",
              "    </tr>\n",
              "  </tbody>\n",
              "</table>\n",
              "</div>"
            ],
            "text/plain": [
              "                    median                   mean                  count  \\\n",
              "                last_price sq_m_cst    last_price    sq_m_cst last_price   \n",
              "exposition_year                                                            \n",
              "2014                7700.0      107  12087.102190  124.343066        137   \n",
              "2015                5312.5       93   8575.575169  104.051520       1184   \n",
              "2016                4550.0       91   6827.591386   97.845458       2763   \n",
              "2017                4500.0       92   6583.327453   97.158030       8163   \n",
              "2018                4550.0       95   5953.759868   97.282785       8487   \n",
              "2019                5050.0      103   6779.311390  106.567746       2871   \n",
              "\n",
              "                          \n",
              "                sq_m_cst  \n",
              "exposition_year           \n",
              "2014                 137  \n",
              "2015                1184  \n",
              "2016                2763  \n",
              "2017                8163  \n",
              "2018                8487  \n",
              "2019                2871  "
            ]
          },
          "execution_count": 52,
          "metadata": {},
          "output_type": "execute_result"
        },
        {
          "data": {
            "application/javascript": [
              "\n",
              "            setTimeout(function() {\n",
              "                var nbb_cell_id = 52;\n",
              "                var nbb_unformatted_code = \"df.pivot_table(\\n    index=\\\"exposition_year\\\",\\n    values=[\\\"last_price\\\", \\\"sq_m_cst\\\"],\\n    aggfunc=[\\\"median\\\", \\\"mean\\\", \\\"count\\\"],\\n)\";\n",
              "                var nbb_formatted_code = \"df.pivot_table(\\n    index=\\\"exposition_year\\\",\\n    values=[\\\"last_price\\\", \\\"sq_m_cst\\\"],\\n    aggfunc=[\\\"median\\\", \\\"mean\\\", \\\"count\\\"],\\n)\";\n",
              "                var nbb_cells = Jupyter.notebook.get_cells();\n",
              "                for (var i = 0; i < nbb_cells.length; ++i) {\n",
              "                    if (nbb_cells[i].input_prompt_number == nbb_cell_id) {\n",
              "                        if (nbb_cells[i].get_text() == nbb_unformatted_code) {\n",
              "                             nbb_cells[i].set_text(nbb_formatted_code);\n",
              "                        }\n",
              "                        break;\n",
              "                    }\n",
              "                }\n",
              "            }, 500);\n",
              "            "
            ],
            "text/plain": [
              "<IPython.core.display.Javascript object>"
            ]
          },
          "metadata": {},
          "output_type": "display_data"
        }
      ],
      "source": [
        "df.pivot_table(\n",
        "    index=\"exposition_year\",\n",
        "    values=[\"last_price\", \"sq_m_cst\"],\n",
        "    aggfunc=[\"median\", \"mean\", \"count\"],\n",
        ")"
      ]
    },
    {
      "cell_type": "markdown",
      "id": "f6fcd8a2",
      "metadata": {
        "id": "f6fcd8a2"
      },
      "source": [
        "Первое и последнее объявление в датафрейме:"
      ]
    },
    {
      "cell_type": "code",
      "execution_count": null,
      "id": "3abf66cf",
      "metadata": {
        "id": "3abf66cf",
        "outputId": "d10f5868-1884-44ef-9266-3b25bc8cc504"
      },
      "outputs": [
        {
          "data": {
            "text/plain": [
              "Timestamp('2014-11-27 00:00:00')"
            ]
          },
          "execution_count": 53,
          "metadata": {},
          "output_type": "execute_result"
        },
        {
          "data": {
            "application/javascript": [
              "\n",
              "            setTimeout(function() {\n",
              "                var nbb_cell_id = 53;\n",
              "                var nbb_unformatted_code = \"df.first_day_exposition.min()\";\n",
              "                var nbb_formatted_code = \"df.first_day_exposition.min()\";\n",
              "                var nbb_cells = Jupyter.notebook.get_cells();\n",
              "                for (var i = 0; i < nbb_cells.length; ++i) {\n",
              "                    if (nbb_cells[i].input_prompt_number == nbb_cell_id) {\n",
              "                        if (nbb_cells[i].get_text() == nbb_unformatted_code) {\n",
              "                             nbb_cells[i].set_text(nbb_formatted_code);\n",
              "                        }\n",
              "                        break;\n",
              "                    }\n",
              "                }\n",
              "            }, 500);\n",
              "            "
            ],
            "text/plain": [
              "<IPython.core.display.Javascript object>"
            ]
          },
          "metadata": {},
          "output_type": "display_data"
        }
      ],
      "source": [
        "df.first_day_exposition.min()"
      ]
    },
    {
      "cell_type": "code",
      "execution_count": null,
      "id": "aba0b60c",
      "metadata": {
        "scrolled": true,
        "id": "aba0b60c",
        "outputId": "85666d6c-b7fc-4c38-d12c-46dd9613e525"
      },
      "outputs": [
        {
          "data": {
            "text/plain": [
              "Timestamp('2019-05-03 00:00:00')"
            ]
          },
          "execution_count": 54,
          "metadata": {},
          "output_type": "execute_result"
        },
        {
          "data": {
            "application/javascript": [
              "\n",
              "            setTimeout(function() {\n",
              "                var nbb_cell_id = 54;\n",
              "                var nbb_unformatted_code = \"df.first_day_exposition.max()\";\n",
              "                var nbb_formatted_code = \"df.first_day_exposition.max()\";\n",
              "                var nbb_cells = Jupyter.notebook.get_cells();\n",
              "                for (var i = 0; i < nbb_cells.length; ++i) {\n",
              "                    if (nbb_cells[i].input_prompt_number == nbb_cell_id) {\n",
              "                        if (nbb_cells[i].get_text() == nbb_unformatted_code) {\n",
              "                             nbb_cells[i].set_text(nbb_formatted_code);\n",
              "                        }\n",
              "                        break;\n",
              "                    }\n",
              "                }\n",
              "            }, 500);\n",
              "            "
            ],
            "text/plain": [
              "<IPython.core.display.Javascript object>"
            ]
          },
          "metadata": {},
          "output_type": "display_data"
        }
      ],
      "source": [
        "df.first_day_exposition.max()"
      ]
    },
    {
      "cell_type": "markdown",
      "id": "5951da33",
      "metadata": {
        "id": "5951da33"
      },
      "source": [
        "Из полученных таблиц видно, наиболее часто и наиболее дорогие объявления появляются на рынке в четверг. Это соответствует действительности и объясняется тем, что осмотром объектов людям удобнее заниматься в выходные. В этой связи, лучше за день или два договориться о встрече, а следовательно, именно четверг является наиболее благоприятным днем для размещения объявлений (любых).\n",
        "\n",
        "Так же видно, что присутствует сезонность - пик активности рынка (количество объявлений) приходится на конец зимы, к лету он спадает, а осенью растет вновь, но к Новому году спадает. Изменение цены повторяет описанную динамику с задержкой в один месяц.\n",
        "\n",
        "Анализ распределения значений по годам будем проводить, не рассматривая 2014 и 2019 года, в связи с тем, что полной картины за эти года нет, а те данные, что есть искажены сезонными изменениями.\n",
        "\n",
        "В период 2015 и 2016 годов наблюдается снижение медианных значений стоимости, а с 2017 года - рост. При этом, среднее значение стоимости объектов снижалось вплоть до 2018 года. Учитывая, что количество объявлений в год постоянно увеличивается, такое распределение говори о том, что на рынке существует тенденция к продаже большого количества дешевого жилья, а дорого жилья становиться (в относительном плане) меньше. Эта же тенденция может наблюдаться и в изменении уровня жизни в целом. "
      ]
    },
    {
      "cell_type": "markdown",
      "id": "37b91237",
      "metadata": {
        "id": "37b91237"
      },
      "source": [
        "**Промежуточные выводы**\n",
        "\n",
        "Варьирование рассмотренных параметров приводит к смещению среднего и медианного значений выборки. Так, на стоимость объекта в первую очередь влияют: его площадь и удаленность от центра. Число комнат и этаж расположения так же оказывают вклад, но в меньшей степени. \n",
        "\n",
        "Наиболее выгодный день для размещения объявления - четверг в конце зимы или начале осени.\n",
        "\n",
        "С течением времени на рынке усиливается превалирование дешевого жилья над дорогим."
      ]
    },
    {
      "cell_type": "markdown",
      "id": "623c207b",
      "metadata": {
        "id": "623c207b"
      },
      "source": [
        "## Исследование стоимости объектов в разных населенных пунктах"
      ]
    },
    {
      "cell_type": "markdown",
      "id": "5f7832b1",
      "metadata": {
        "id": "5f7832b1"
      },
      "source": [
        "Посчитаем среднюю цену квадратного метра в Санкт-Петербурге, населённых пунктах из топ-10, топ-30 и остальных"
      ]
    },
    {
      "cell_type": "code",
      "execution_count": null,
      "id": "cb47f7cc",
      "metadata": {
        "scrolled": false,
        "id": "cb47f7cc",
        "outputId": "5ece217b-3da3-45db-beae-56f9862ba2b1"
      },
      "outputs": [
        {
          "data": {
            "text/html": [
              "<div>\n",
              "<style scoped>\n",
              "    .dataframe tbody tr th:only-of-type {\n",
              "        vertical-align: middle;\n",
              "    }\n",
              "\n",
              "    .dataframe tbody tr th {\n",
              "        vertical-align: top;\n",
              "    }\n",
              "\n",
              "    .dataframe thead tr th {\n",
              "        text-align: left;\n",
              "    }\n",
              "\n",
              "    .dataframe thead tr:last-of-type th {\n",
              "        text-align: right;\n",
              "    }\n",
              "</style>\n",
              "<table border=\"1\" class=\"dataframe\">\n",
              "  <thead>\n",
              "    <tr>\n",
              "      <th></th>\n",
              "      <th colspan=\"2\" halign=\"left\">mean</th>\n",
              "      <th colspan=\"2\" halign=\"left\">median</th>\n",
              "      <th colspan=\"2\" halign=\"left\">count</th>\n",
              "    </tr>\n",
              "    <tr>\n",
              "      <th></th>\n",
              "      <th>last_price</th>\n",
              "      <th>sq_m_cst</th>\n",
              "      <th>last_price</th>\n",
              "      <th>sq_m_cst</th>\n",
              "      <th>last_price</th>\n",
              "      <th>sq_m_cst</th>\n",
              "    </tr>\n",
              "    <tr>\n",
              "      <th>sity_cat</th>\n",
              "      <th></th>\n",
              "      <th></th>\n",
              "      <th></th>\n",
              "      <th></th>\n",
              "      <th></th>\n",
              "      <th></th>\n",
              "    </tr>\n",
              "  </thead>\n",
              "  <tbody>\n",
              "    <tr>\n",
              "      <th>cпб</th>\n",
              "      <td>8062.839207</td>\n",
              "      <td>114.357275</td>\n",
              "      <td>5500</td>\n",
              "      <td>104</td>\n",
              "      <td>15691</td>\n",
              "      <td>15691</td>\n",
              "    </tr>\n",
              "    <tr>\n",
              "      <th>обычный пригород</th>\n",
              "      <td>2885.632782</td>\n",
              "      <td>59.436692</td>\n",
              "      <td>2690</td>\n",
              "      <td>59</td>\n",
              "      <td>3325</td>\n",
              "      <td>3325</td>\n",
              "    </tr>\n",
              "    <tr>\n",
              "      <th>пригород топ-10</th>\n",
              "      <td>4410.549064</td>\n",
              "      <td>81.202389</td>\n",
              "      <td>3850</td>\n",
              "      <td>79</td>\n",
              "      <td>3098</td>\n",
              "      <td>3098</td>\n",
              "    </tr>\n",
              "    <tr>\n",
              "      <th>пригород топ-30</th>\n",
              "      <td>3108.044266</td>\n",
              "      <td>61.504359</td>\n",
              "      <td>2800</td>\n",
              "      <td>60</td>\n",
              "      <td>1491</td>\n",
              "      <td>1491</td>\n",
              "    </tr>\n",
              "  </tbody>\n",
              "</table>\n",
              "</div>"
            ],
            "text/plain": [
              "                         mean                 median               count  \\\n",
              "                   last_price    sq_m_cst last_price sq_m_cst last_price   \n",
              "sity_cat                                                                   \n",
              "cпб               8062.839207  114.357275       5500      104      15691   \n",
              "обычный пригород  2885.632782   59.436692       2690       59       3325   \n",
              "пригород топ-10   4410.549064   81.202389       3850       79       3098   \n",
              "пригород топ-30   3108.044266   61.504359       2800       60       1491   \n",
              "\n",
              "                           \n",
              "                 sq_m_cst  \n",
              "sity_cat                   \n",
              "cпб                 15691  \n",
              "обычный пригород     3325  \n",
              "пригород топ-10      3098  \n",
              "пригород топ-30      1491  "
            ]
          },
          "execution_count": 55,
          "metadata": {},
          "output_type": "execute_result"
        },
        {
          "data": {
            "application/javascript": [
              "\n",
              "            setTimeout(function() {\n",
              "                var nbb_cell_id = 55;\n",
              "                var nbb_unformatted_code = \"df.pivot_table(\\n    index=\\\"sity_cat\\\",\\n    values=[\\\"last_price\\\", \\\"sq_m_cst\\\"],\\n    aggfunc=[\\\"mean\\\", \\\"median\\\", \\\"count\\\"],\\n)\";\n",
              "                var nbb_formatted_code = \"df.pivot_table(\\n    index=\\\"sity_cat\\\",\\n    values=[\\\"last_price\\\", \\\"sq_m_cst\\\"],\\n    aggfunc=[\\\"mean\\\", \\\"median\\\", \\\"count\\\"],\\n)\";\n",
              "                var nbb_cells = Jupyter.notebook.get_cells();\n",
              "                for (var i = 0; i < nbb_cells.length; ++i) {\n",
              "                    if (nbb_cells[i].input_prompt_number == nbb_cell_id) {\n",
              "                        if (nbb_cells[i].get_text() == nbb_unformatted_code) {\n",
              "                             nbb_cells[i].set_text(nbb_formatted_code);\n",
              "                        }\n",
              "                        break;\n",
              "                    }\n",
              "                }\n",
              "            }, 500);\n",
              "            "
            ],
            "text/plain": [
              "<IPython.core.display.Javascript object>"
            ]
          },
          "metadata": {},
          "output_type": "display_data"
        }
      ],
      "source": [
        "df.pivot_table(\n",
        "    index=\"sity_cat\",\n",
        "    values=[\"last_price\", \"sq_m_cst\"],\n",
        "    aggfunc=[\"mean\", \"median\", \"count\"],\n",
        ")"
      ]
    },
    {
      "cell_type": "markdown",
      "id": "7a099752",
      "metadata": {
        "id": "7a099752"
      },
      "source": [
        "Из таблицы видно, что для категорий *обычный пригород* и *пригород топ-30* рассчитанные значения практически не изменяются. Такая категоризация излишняя.\n",
        "\n",
        "в Санкт-Петербурге средняя цена объекта на 45% выше, чем в пригороде из топ-10, а средняя цена квадратного метра - на 29%. Аналогичная картина с медианным значением.\n",
        "\n",
        "Найдем пригороды из категории *топ-10* с наибольшей и наименьшей стоимостью жилья."
      ]
    },
    {
      "cell_type": "code",
      "execution_count": null,
      "id": "08b83edb",
      "metadata": {
        "id": "08b83edb",
        "outputId": "0fdae67a-03c7-4162-f9e7-64bcb7360988"
      },
      "outputs": [
        {
          "data": {
            "text/html": [
              "<div>\n",
              "<style scoped>\n",
              "    .dataframe tbody tr th:only-of-type {\n",
              "        vertical-align: middle;\n",
              "    }\n",
              "\n",
              "    .dataframe tbody tr th {\n",
              "        vertical-align: top;\n",
              "    }\n",
              "\n",
              "    .dataframe thead th {\n",
              "        text-align: right;\n",
              "    }\n",
              "</style>\n",
              "<table border=\"1\" class=\"dataframe\">\n",
              "  <thead>\n",
              "    <tr style=\"text-align: right;\">\n",
              "      <th></th>\n",
              "      <th>last_price</th>\n",
              "      <th>locality_name</th>\n",
              "    </tr>\n",
              "  </thead>\n",
              "  <tbody>\n",
              "    <tr>\n",
              "      <th>12536</th>\n",
              "      <td>600</td>\n",
              "      <td>выборг</td>\n",
              "    </tr>\n",
              "    <tr>\n",
              "      <th>17298</th>\n",
              "      <td>690</td>\n",
              "      <td>выборг</td>\n",
              "    </tr>\n",
              "    <tr>\n",
              "      <th>9471</th>\n",
              "      <td>850</td>\n",
              "      <td>гатчина</td>\n",
              "    </tr>\n",
              "    <tr>\n",
              "      <th>20131</th>\n",
              "      <td>950</td>\n",
              "      <td>выборг</td>\n",
              "    </tr>\n",
              "    <tr>\n",
              "      <th>18098</th>\n",
              "      <td>965</td>\n",
              "      <td>всеволожск</td>\n",
              "    </tr>\n",
              "    <tr>\n",
              "      <th>...</th>\n",
              "      <td>...</td>\n",
              "      <td>...</td>\n",
              "    </tr>\n",
              "    <tr>\n",
              "      <th>4978</th>\n",
              "      <td>29000</td>\n",
              "      <td>пушкин</td>\n",
              "    </tr>\n",
              "    <tr>\n",
              "      <th>2414</th>\n",
              "      <td>29500</td>\n",
              "      <td>пушкин</td>\n",
              "    </tr>\n",
              "    <tr>\n",
              "      <th>5042</th>\n",
              "      <td>35000</td>\n",
              "      <td>пушкин</td>\n",
              "    </tr>\n",
              "    <tr>\n",
              "      <th>10569</th>\n",
              "      <td>36900</td>\n",
              "      <td>колпино</td>\n",
              "    </tr>\n",
              "    <tr>\n",
              "      <th>20314</th>\n",
              "      <td>42000</td>\n",
              "      <td>пушкин</td>\n",
              "    </tr>\n",
              "  </tbody>\n",
              "</table>\n",
              "<p>3098 rows × 2 columns</p>\n",
              "</div>"
            ],
            "text/plain": [
              "       last_price locality_name\n",
              "12536         600        выборг\n",
              "17298         690        выборг\n",
              "9471          850       гатчина\n",
              "20131         950        выборг\n",
              "18098         965    всеволожск\n",
              "...           ...           ...\n",
              "4978        29000        пушкин\n",
              "2414        29500        пушкин\n",
              "5042        35000        пушкин\n",
              "10569       36900       колпино\n",
              "20314       42000        пушкин\n",
              "\n",
              "[3098 rows x 2 columns]"
            ]
          },
          "execution_count": 56,
          "metadata": {},
          "output_type": "execute_result"
        },
        {
          "data": {
            "application/javascript": [
              "\n",
              "            setTimeout(function() {\n",
              "                var nbb_cell_id = 56;\n",
              "                var nbb_unformatted_code = \"df.query(\\\"sity_cat=='\\u043f\\u0440\\u0438\\u0433\\u043e\\u0440\\u043e\\u0434 \\u0442\\u043e\\u043f-10'\\\")[[\\\"last_price\\\", \\\"locality_name\\\"]].sort_values(\\n    by=\\\"last_price\\\"\\n)\";\n",
              "                var nbb_formatted_code = \"df.query(\\\"sity_cat=='\\u043f\\u0440\\u0438\\u0433\\u043e\\u0440\\u043e\\u0434 \\u0442\\u043e\\u043f-10'\\\")[[\\\"last_price\\\", \\\"locality_name\\\"]].sort_values(\\n    by=\\\"last_price\\\"\\n)\";\n",
              "                var nbb_cells = Jupyter.notebook.get_cells();\n",
              "                for (var i = 0; i < nbb_cells.length; ++i) {\n",
              "                    if (nbb_cells[i].input_prompt_number == nbb_cell_id) {\n",
              "                        if (nbb_cells[i].get_text() == nbb_unformatted_code) {\n",
              "                             nbb_cells[i].set_text(nbb_formatted_code);\n",
              "                        }\n",
              "                        break;\n",
              "                    }\n",
              "                }\n",
              "            }, 500);\n",
              "            "
            ],
            "text/plain": [
              "<IPython.core.display.Javascript object>"
            ]
          },
          "metadata": {},
          "output_type": "display_data"
        }
      ],
      "source": [
        "df.query(\"sity_cat=='пригород топ-10'\")[[\"last_price\", \"locality_name\"]].sort_values(\n",
        "    by=\"last_price\"\n",
        ")"
      ]
    },
    {
      "cell_type": "code",
      "execution_count": null,
      "id": "c45bdbf2",
      "metadata": {
        "id": "c45bdbf2",
        "outputId": "3790f8eb-9995-4c7f-89bc-959b5a8fdf70"
      },
      "outputs": [
        {
          "data": {
            "text/html": [
              "<div>\n",
              "<style scoped>\n",
              "    .dataframe tbody tr th:only-of-type {\n",
              "        vertical-align: middle;\n",
              "    }\n",
              "\n",
              "    .dataframe tbody tr th {\n",
              "        vertical-align: top;\n",
              "    }\n",
              "\n",
              "    .dataframe thead th {\n",
              "        text-align: right;\n",
              "    }\n",
              "</style>\n",
              "<table border=\"1\" class=\"dataframe\">\n",
              "  <thead>\n",
              "    <tr style=\"text-align: right;\">\n",
              "      <th></th>\n",
              "      <th>sq_m_cst</th>\n",
              "      <th>locality_name</th>\n",
              "    </tr>\n",
              "  </thead>\n",
              "  <tbody>\n",
              "    <tr>\n",
              "      <th>9471</th>\n",
              "      <td>10</td>\n",
              "      <td>гатчина</td>\n",
              "    </tr>\n",
              "    <tr>\n",
              "      <th>23477</th>\n",
              "      <td>10</td>\n",
              "      <td>гатчина</td>\n",
              "    </tr>\n",
              "    <tr>\n",
              "      <th>12536</th>\n",
              "      <td>18</td>\n",
              "      <td>выборг</td>\n",
              "    </tr>\n",
              "    <tr>\n",
              "      <th>13060</th>\n",
              "      <td>18</td>\n",
              "      <td>гатчина</td>\n",
              "    </tr>\n",
              "    <tr>\n",
              "      <th>5837</th>\n",
              "      <td>24</td>\n",
              "      <td>выборг</td>\n",
              "    </tr>\n",
              "    <tr>\n",
              "      <th>...</th>\n",
              "      <td>...</td>\n",
              "      <td>...</td>\n",
              "    </tr>\n",
              "    <tr>\n",
              "      <th>19852</th>\n",
              "      <td>204</td>\n",
              "      <td>пушкин</td>\n",
              "    </tr>\n",
              "    <tr>\n",
              "      <th>14900</th>\n",
              "      <td>206</td>\n",
              "      <td>пушкин</td>\n",
              "    </tr>\n",
              "    <tr>\n",
              "      <th>543</th>\n",
              "      <td>225</td>\n",
              "      <td>петергоф</td>\n",
              "    </tr>\n",
              "    <tr>\n",
              "      <th>2414</th>\n",
              "      <td>256</td>\n",
              "      <td>пушкин</td>\n",
              "    </tr>\n",
              "    <tr>\n",
              "      <th>21238</th>\n",
              "      <td>640</td>\n",
              "      <td>всеволожск</td>\n",
              "    </tr>\n",
              "  </tbody>\n",
              "</table>\n",
              "<p>3098 rows × 2 columns</p>\n",
              "</div>"
            ],
            "text/plain": [
              "       sq_m_cst locality_name\n",
              "9471         10       гатчина\n",
              "23477        10       гатчина\n",
              "12536        18        выборг\n",
              "13060        18       гатчина\n",
              "5837         24        выборг\n",
              "...         ...           ...\n",
              "19852       204        пушкин\n",
              "14900       206        пушкин\n",
              "543         225      петергоф\n",
              "2414        256        пушкин\n",
              "21238       640    всеволожск\n",
              "\n",
              "[3098 rows x 2 columns]"
            ]
          },
          "execution_count": 57,
          "metadata": {},
          "output_type": "execute_result"
        },
        {
          "data": {
            "application/javascript": [
              "\n",
              "            setTimeout(function() {\n",
              "                var nbb_cell_id = 57;\n",
              "                var nbb_unformatted_code = \"df.query(\\\"sity_cat=='\\u043f\\u0440\\u0438\\u0433\\u043e\\u0440\\u043e\\u0434 \\u0442\\u043e\\u043f-10'\\\")[[\\\"sq_m_cst\\\", \\\"locality_name\\\"]].sort_values(\\n    by=\\\"sq_m_cst\\\"\\n)\";\n",
              "                var nbb_formatted_code = \"df.query(\\\"sity_cat=='\\u043f\\u0440\\u0438\\u0433\\u043e\\u0440\\u043e\\u0434 \\u0442\\u043e\\u043f-10'\\\")[[\\\"sq_m_cst\\\", \\\"locality_name\\\"]].sort_values(\\n    by=\\\"sq_m_cst\\\"\\n)\";\n",
              "                var nbb_cells = Jupyter.notebook.get_cells();\n",
              "                for (var i = 0; i < nbb_cells.length; ++i) {\n",
              "                    if (nbb_cells[i].input_prompt_number == nbb_cell_id) {\n",
              "                        if (nbb_cells[i].get_text() == nbb_unformatted_code) {\n",
              "                             nbb_cells[i].set_text(nbb_formatted_code);\n",
              "                        }\n",
              "                        break;\n",
              "                    }\n",
              "                }\n",
              "            }, 500);\n",
              "            "
            ],
            "text/plain": [
              "<IPython.core.display.Javascript object>"
            ]
          },
          "metadata": {},
          "output_type": "display_data"
        }
      ],
      "source": [
        "df.query(\"sity_cat=='пригород топ-10'\")[[\"sq_m_cst\", \"locality_name\"]].sort_values(\n",
        "    by=\"sq_m_cst\"\n",
        ")"
      ]
    },
    {
      "cell_type": "markdown",
      "id": "0ade5ac6",
      "metadata": {
        "id": "0ade5ac6"
      },
      "source": [
        "Самое дорогой объект в пригороде находится в Пушкине, а самый дешевый - в Выборге. При этом самая высокая цена квадратного метра определена для объектов во Всеволожске, а самая низкая - в Гатчине."
      ]
    },
    {
      "cell_type": "markdown",
      "id": "82a95abf",
      "metadata": {
        "id": "82a95abf"
      },
      "source": [
        "**Промежуточный вывод**\n",
        "\n",
        "Самые дорогие объекты находятся в Санкт-Петербурге. В близлежащих городах существует большой разброс цен как на сами объекты, так и на квадратный метр. Такие явления могут объясняться разницей в объеме выборки данных, которая измеряется порядками."
      ]
    },
    {
      "cell_type": "markdown",
      "id": "e242085f",
      "metadata": {
        "id": "e242085f"
      },
      "source": [
        "## Анализ объектов в центре Санкт-Петербурге"
      ]
    },
    {
      "cell_type": "markdown",
      "id": "fef12eb6",
      "metadata": {
        "id": "fef12eb6"
      },
      "source": [
        "Рассмотрим более детально влияние на стоимость объектов в Санкт-Петербурге их удаление от центра города. Для этого выделим квартиры в Санкт-Петербурге в отдельный датафрейм, создадим столбец с расстоянием до центра в километрах с округлите до целых значений. После этого посчитаем среднюю цену для каждого километра и построим график. "
      ]
    },
    {
      "cell_type": "code",
      "execution_count": null,
      "id": "07fffb3f",
      "metadata": {
        "scrolled": false,
        "id": "07fffb3f",
        "outputId": "d2fca12f-0bb3-443e-8afa-ee4bae9e72b9"
      },
      "outputs": [
        {
          "name": "stderr",
          "output_type": "stream",
          "text": [
            "C:\\ProgramData\\Anaconda3\\envs\\praktikum_env_win_new\\lib\\site-packages\\ipykernel_launcher.py:3: SettingWithCopyWarning: \n",
            "A value is trying to be set on a copy of a slice from a DataFrame.\n",
            "Try using .loc[row_indexer,col_indexer] = value instead\n",
            "\n",
            "See the caveats in the documentation: https://pandas.pydata.org/pandas-docs/stable/user_guide/indexing.html#returning-a-view-versus-a-copy\n",
            "  This is separate from the ipykernel package so we can avoid doing imports until\n"
          ]
        },
        {
          "data": {
            "text/plain": [
              "<AxesSubplot:title={'center':'Стоимость объектов от удаления от центра'}, xlabel='Дистанция, км', ylabel='Стоимость, т.у.е.'>"
            ]
          },
          "execution_count": 58,
          "metadata": {},
          "output_type": "execute_result"
        },
        {
          "data": {
            "image/png": "[encoded data removed]",
            "text/plain": [
              "<Figure size 576x288 with 1 Axes>"
            ]
          },
          "metadata": {
            "needs_background": "light"
          },
          "output_type": "display_data"
        },
        {
          "data": {
            "application/javascript": [
              "\n",
              "            setTimeout(function() {\n",
              "                var nbb_cell_id = 58;\n",
              "                var nbb_unformatted_code = \"df_spb = df.loc[(df[\\\"sity_cat\\\"] == \\\"c\\u043f\\u0431\\\") & (df[\\\"city_centers_nearest\\\"].notna())]\\ndf_spb[\\\"city_centers_nearest_km\\\"] = (\\n    (df_spb[\\\"city_centers_nearest\\\"] / 1000).round().astype(int)\\n)\\ndf_spb.pivot_table(\\n    index=\\\"city_centers_nearest_km\\\",\\n    values=[\\\"last_price\\\"],\\n    aggfunc=[\\\"mean\\\"],\\n).plot(\\n    figsize=(8, 4),\\n    grid=True,\\n    ylim=(0, 35000),\\n    legend=False,\\n    title=\\\"\\u0421\\u0442\\u043e\\u0438\\u043c\\u043e\\u0441\\u0442\\u044c \\u043e\\u0431\\u044a\\u0435\\u043a\\u0442\\u043e\\u0432 \\u043e\\u0442 \\u0443\\u0434\\u0430\\u043b\\u0435\\u043d\\u0438\\u044f \\u043e\\u0442 \\u0446\\u0435\\u043d\\u0442\\u0440\\u0430\\\",\\n    xlabel=\\\"\\u0414\\u0438\\u0441\\u0442\\u0430\\u043d\\u0446\\u0438\\u044f, \\u043a\\u043c\\\",\\n    ylabel=\\\"\\u0421\\u0442\\u043e\\u0438\\u043c\\u043e\\u0441\\u0442\\u044c, \\u0442.\\u0443.\\u0435.\\\",\\n    style=\\\"x-\\\",\\n)\";\n",
              "                var nbb_formatted_code = \"df_spb = df.loc[(df[\\\"sity_cat\\\"] == \\\"c\\u043f\\u0431\\\") & (df[\\\"city_centers_nearest\\\"].notna())]\\ndf_spb[\\\"city_centers_nearest_km\\\"] = (\\n    (df_spb[\\\"city_centers_nearest\\\"] / 1000).round().astype(int)\\n)\\ndf_spb.pivot_table(\\n    index=\\\"city_centers_nearest_km\\\",\\n    values=[\\\"last_price\\\"],\\n    aggfunc=[\\\"mean\\\"],\\n).plot(\\n    figsize=(8, 4),\\n    grid=True,\\n    ylim=(0, 35000),\\n    legend=False,\\n    title=\\\"\\u0421\\u0442\\u043e\\u0438\\u043c\\u043e\\u0441\\u0442\\u044c \\u043e\\u0431\\u044a\\u0435\\u043a\\u0442\\u043e\\u0432 \\u043e\\u0442 \\u0443\\u0434\\u0430\\u043b\\u0435\\u043d\\u0438\\u044f \\u043e\\u0442 \\u0446\\u0435\\u043d\\u0442\\u0440\\u0430\\\",\\n    xlabel=\\\"\\u0414\\u0438\\u0441\\u0442\\u0430\\u043d\\u0446\\u0438\\u044f, \\u043a\\u043c\\\",\\n    ylabel=\\\"\\u0421\\u0442\\u043e\\u0438\\u043c\\u043e\\u0441\\u0442\\u044c, \\u0442.\\u0443.\\u0435.\\\",\\n    style=\\\"x-\\\",\\n)\";\n",
              "                var nbb_cells = Jupyter.notebook.get_cells();\n",
              "                for (var i = 0; i < nbb_cells.length; ++i) {\n",
              "                    if (nbb_cells[i].input_prompt_number == nbb_cell_id) {\n",
              "                        if (nbb_cells[i].get_text() == nbb_unformatted_code) {\n",
              "                             nbb_cells[i].set_text(nbb_formatted_code);\n",
              "                        }\n",
              "                        break;\n",
              "                    }\n",
              "                }\n",
              "            }, 500);\n",
              "            "
            ],
            "text/plain": [
              "<IPython.core.display.Javascript object>"
            ]
          },
          "metadata": {},
          "output_type": "display_data"
        }
      ],
      "source": [
        "df_spb = df.loc[(df[\"sity_cat\"] == \"cпб\") & (df[\"city_centers_nearest\"].notna())]\n",
        "df_spb[\"city_centers_nearest_km\"] = (\n",
        "    (df_spb[\"city_centers_nearest\"] / 1000).round().astype(int)\n",
        ")\n",
        "df_spb.pivot_table(\n",
        "    index=\"city_centers_nearest_km\",\n",
        "    values=[\"last_price\"],\n",
        "    aggfunc=[\"mean\"],\n",
        ").plot(\n",
        "    figsize=(8, 4),\n",
        "    grid=True,\n",
        "    ylim=(0, 35000),\n",
        "    legend=False,\n",
        "    title=\"Стоимость объектов от удаления от центра\",\n",
        "    xlabel=\"Дистанция, км\",\n",
        "    ylabel=\"Стоимость, т.у.е.\",\n",
        "    style=\"x-\",\n",
        ")"
      ]
    },
    {
      "cell_type": "markdown",
      "id": "3589c671",
      "metadata": {
        "id": "3589c671"
      },
      "source": [
        "По графику видно, что в самом центре стоимость объектов высокая, но за 3 километра стремительно снижается. Далее наблюдается рост стоимости до удаления на 6 километров и опять снижение. На удалении, равном 9 километрам виден излом характеристики, после которого зависимость стоимости объектов от удаления от центра значительно меньше (за исключением выбросов на 27 и 41 километре).\n",
        "\n",
        "Рассмотрим более подробно распределение влияния проанализированных выше параметров на сегмент объектов в радиусе 9 километров от центра. Выведем информацию по основным параметрам объекта."
      ]
    },
    {
      "cell_type": "code",
      "execution_count": null,
      "id": "156a1e46",
      "metadata": {
        "scrolled": true,
        "id": "156a1e46",
        "outputId": "db0ae0c2-4e8a-45b7-eb74-48bacde52d56"
      },
      "outputs": [
        {
          "data": {
            "text/html": [
              "<div>\n",
              "<style scoped>\n",
              "    .dataframe tbody tr th:only-of-type {\n",
              "        vertical-align: middle;\n",
              "    }\n",
              "\n",
              "    .dataframe tbody tr th {\n",
              "        vertical-align: top;\n",
              "    }\n",
              "\n",
              "    .dataframe thead th {\n",
              "        text-align: right;\n",
              "    }\n",
              "</style>\n",
              "<table border=\"1\" class=\"dataframe\">\n",
              "  <thead>\n",
              "    <tr style=\"text-align: right;\">\n",
              "      <th></th>\n",
              "      <th>last_price</th>\n",
              "      <th>sq_m_cst</th>\n",
              "      <th>total_area</th>\n",
              "      <th>living_area</th>\n",
              "      <th>kitchen_area</th>\n",
              "      <th>area_ratio_lvn_to_ttl</th>\n",
              "      <th>area_ratio_ktchn_to_ttl</th>\n",
              "      <th>rooms</th>\n",
              "      <th>ceiling_height</th>\n",
              "      <th>balcony</th>\n",
              "    </tr>\n",
              "  </thead>\n",
              "  <tbody>\n",
              "    <tr>\n",
              "      <th>count</th>\n",
              "      <td>4726.000000</td>\n",
              "      <td>4726.000000</td>\n",
              "      <td>4726.000000</td>\n",
              "      <td>4726.000000</td>\n",
              "      <td>4726.000000</td>\n",
              "      <td>4726.000000</td>\n",
              "      <td>4726.000000</td>\n",
              "      <td>4726.000000</td>\n",
              "      <td>3085.000000</td>\n",
              "      <td>4726.000000</td>\n",
              "    </tr>\n",
              "    <tr>\n",
              "      <th>mean</th>\n",
              "      <td>13243.538299</td>\n",
              "      <td>138.103893</td>\n",
              "      <td>86.318199</td>\n",
              "      <td>50.717858</td>\n",
              "      <td>13.874472</td>\n",
              "      <td>0.578917</td>\n",
              "      <td>0.175702</td>\n",
              "      <td>2.670969</td>\n",
              "      <td>3.086269</td>\n",
              "      <td>0.370715</td>\n",
              "    </tr>\n",
              "    <tr>\n",
              "      <th>std</th>\n",
              "      <td>22218.993432</td>\n",
              "      <td>83.767671</td>\n",
              "      <td>56.721525</td>\n",
              "      <td>35.899886</td>\n",
              "      <td>9.235337</td>\n",
              "      <td>0.108850</td>\n",
              "      <td>0.078266</td>\n",
              "      <td>1.392752</td>\n",
              "      <td>1.985859</td>\n",
              "      <td>0.810579</td>\n",
              "    </tr>\n",
              "    <tr>\n",
              "      <th>min</th>\n",
              "      <td>12.000000</td>\n",
              "      <td>0.000000</td>\n",
              "      <td>12.000000</td>\n",
              "      <td>2.000000</td>\n",
              "      <td>2.000000</td>\n",
              "      <td>0.020000</td>\n",
              "      <td>0.030000</td>\n",
              "      <td>0.000000</td>\n",
              "      <td>2.000000</td>\n",
              "      <td>0.000000</td>\n",
              "    </tr>\n",
              "    <tr>\n",
              "      <th>25%</th>\n",
              "      <td>5950.000000</td>\n",
              "      <td>98.000000</td>\n",
              "      <td>51.000000</td>\n",
              "      <td>29.000000</td>\n",
              "      <td>8.400000</td>\n",
              "      <td>0.520000</td>\n",
              "      <td>0.120000</td>\n",
              "      <td>2.000000</td>\n",
              "      <td>2.750000</td>\n",
              "      <td>0.000000</td>\n",
              "    </tr>\n",
              "    <tr>\n",
              "      <th>50%</th>\n",
              "      <td>8500.000000</td>\n",
              "      <td>120.000000</td>\n",
              "      <td>72.600000</td>\n",
              "      <td>42.250000</td>\n",
              "      <td>11.367500</td>\n",
              "      <td>0.580000</td>\n",
              "      <td>0.160000</td>\n",
              "      <td>3.000000</td>\n",
              "      <td>3.000000</td>\n",
              "      <td>0.000000</td>\n",
              "    </tr>\n",
              "    <tr>\n",
              "      <th>75%</th>\n",
              "      <td>13000.000000</td>\n",
              "      <td>149.000000</td>\n",
              "      <td>101.875000</td>\n",
              "      <td>61.000000</td>\n",
              "      <td>16.000000</td>\n",
              "      <td>0.650000</td>\n",
              "      <td>0.200000</td>\n",
              "      <td>3.000000</td>\n",
              "      <td>3.200000</td>\n",
              "      <td>0.000000</td>\n",
              "    </tr>\n",
              "    <tr>\n",
              "      <th>max</th>\n",
              "      <td>763000.000000</td>\n",
              "      <td>1907.000000</td>\n",
              "      <td>900.000000</td>\n",
              "      <td>409.700000</td>\n",
              "      <td>112.000000</td>\n",
              "      <td>0.980000</td>\n",
              "      <td>0.640000</td>\n",
              "      <td>19.000000</td>\n",
              "      <td>100.000000</td>\n",
              "      <td>5.000000</td>\n",
              "    </tr>\n",
              "  </tbody>\n",
              "</table>\n",
              "</div>"
            ],
            "text/plain": [
              "          last_price     sq_m_cst   total_area  living_area  kitchen_area  \\\n",
              "count    4726.000000  4726.000000  4726.000000  4726.000000   4726.000000   \n",
              "mean    13243.538299   138.103893    86.318199    50.717858     13.874472   \n",
              "std     22218.993432    83.767671    56.721525    35.899886      9.235337   \n",
              "min        12.000000     0.000000    12.000000     2.000000      2.000000   \n",
              "25%      5950.000000    98.000000    51.000000    29.000000      8.400000   \n",
              "50%      8500.000000   120.000000    72.600000    42.250000     11.367500   \n",
              "75%     13000.000000   149.000000   101.875000    61.000000     16.000000   \n",
              "max    763000.000000  1907.000000   900.000000   409.700000    112.000000   \n",
              "\n",
              "       area_ratio_lvn_to_ttl  area_ratio_ktchn_to_ttl        rooms  \\\n",
              "count            4726.000000              4726.000000  4726.000000   \n",
              "mean                0.578917                 0.175702     2.670969   \n",
              "std                 0.108850                 0.078266     1.392752   \n",
              "min                 0.020000                 0.030000     0.000000   \n",
              "25%                 0.520000                 0.120000     2.000000   \n",
              "50%                 0.580000                 0.160000     3.000000   \n",
              "75%                 0.650000                 0.200000     3.000000   \n",
              "max                 0.980000                 0.640000    19.000000   \n",
              "\n",
              "       ceiling_height      balcony  \n",
              "count     3085.000000  4726.000000  \n",
              "mean         3.086269     0.370715  \n",
              "std          1.985859     0.810579  \n",
              "min          2.000000     0.000000  \n",
              "25%          2.750000     0.000000  \n",
              "50%          3.000000     0.000000  \n",
              "75%          3.200000     0.000000  \n",
              "max        100.000000     5.000000  "
            ]
          },
          "execution_count": 59,
          "metadata": {},
          "output_type": "execute_result"
        },
        {
          "data": {
            "application/javascript": [
              "\n",
              "            setTimeout(function() {\n",
              "                var nbb_cell_id = 59;\n",
              "                var nbb_unformatted_code = \"df_centr = df_spb.query(\\\"city_centers_nearest_km <= 9\\\")\\ndf_centr[\\n    [\\n        \\\"last_price\\\",\\n        \\\"sq_m_cst\\\",\\n        \\\"total_area\\\",\\n        \\\"living_area\\\",\\n        \\\"kitchen_area\\\",\\n        \\\"area_ratio_lvn_to_ttl\\\",\\n        \\\"area_ratio_ktchn_to_ttl\\\",\\n        \\\"rooms\\\",\\n        \\\"ceiling_height\\\",\\n        \\\"balcony\\\",\\n    ]\\n].describe()\";\n",
              "                var nbb_formatted_code = \"df_centr = df_spb.query(\\\"city_centers_nearest_km <= 9\\\")\\ndf_centr[\\n    [\\n        \\\"last_price\\\",\\n        \\\"sq_m_cst\\\",\\n        \\\"total_area\\\",\\n        \\\"living_area\\\",\\n        \\\"kitchen_area\\\",\\n        \\\"area_ratio_lvn_to_ttl\\\",\\n        \\\"area_ratio_ktchn_to_ttl\\\",\\n        \\\"rooms\\\",\\n        \\\"ceiling_height\\\",\\n        \\\"balcony\\\",\\n    ]\\n].describe()\";\n",
              "                var nbb_cells = Jupyter.notebook.get_cells();\n",
              "                for (var i = 0; i < nbb_cells.length; ++i) {\n",
              "                    if (nbb_cells[i].input_prompt_number == nbb_cell_id) {\n",
              "                        if (nbb_cells[i].get_text() == nbb_unformatted_code) {\n",
              "                             nbb_cells[i].set_text(nbb_formatted_code);\n",
              "                        }\n",
              "                        break;\n",
              "                    }\n",
              "                }\n",
              "            }, 500);\n",
              "            "
            ],
            "text/plain": [
              "<IPython.core.display.Javascript object>"
            ]
          },
          "metadata": {},
          "output_type": "display_data"
        }
      ],
      "source": [
        "df_centr = df_spb.query(\"city_centers_nearest_km <= 9\")\n",
        "df_centr[\n",
        "    [\n",
        "        \"last_price\",\n",
        "        \"sq_m_cst\",\n",
        "        \"total_area\",\n",
        "        \"living_area\",\n",
        "        \"kitchen_area\",\n",
        "        \"area_ratio_lvn_to_ttl\",\n",
        "        \"area_ratio_ktchn_to_ttl\",\n",
        "        \"rooms\",\n",
        "        \"ceiling_height\",\n",
        "        \"balcony\",\n",
        "    ]\n",
        "].describe()"
      ]
    },
    {
      "cell_type": "code",
      "execution_count": null,
      "id": "a5beae12",
      "metadata": {
        "id": "a5beae12"
      },
      "outputs": [],
      "source": []
    },
    {
      "cell_type": "markdown",
      "id": "200d9a05",
      "metadata": {
        "id": "200d9a05"
      },
      "source": [
        "Сравнивая с аналогичными значениями по всему датафрейму видно, что в центре находится 20% всех объектов. При этом средняя цена выше почти в 2 раза, а стоимость квадратного метра - почти на треть. Абсолютная площадь объектов так же выше на треть, в то же время относительные коэффициенты оказываются более устойчивыми к таким срезам - изменение их параметров не превосходит 2%. Высота потолков в центре выше 12%, а вот балконов практически нет.\n",
        "\n",
        "Построим гистограммы, аналогичные тем, что строились ранее."
      ]
    },
    {
      "cell_type": "code",
      "execution_count": null,
      "id": "3d178f08",
      "metadata": {
        "scrolled": true,
        "id": "3d178f08",
        "outputId": "1d9c0675-0c55-4ae9-a4e4-f36da0f1eea6"
      },
      "outputs": [
        {
          "data": {
            "text/plain": [
              "Text(0.5, 0.98, 'Влияние количества комнат на стоимость')"
            ]
          },
          "execution_count": 60,
          "metadata": {},
          "output_type": "execute_result"
        },
        {
          "data": {
            "image/png": "[encoded data removed]",
            "text/plain": [
              "<Figure size 1152x288 with 2 Axes>"
            ]
          },
          "metadata": {
            "needs_background": "light"
          },
          "output_type": "display_data"
        },
        {
          "data": {
            "application/javascript": [
              "\n",
              "            setTimeout(function() {\n",
              "                var nbb_cell_id = 60;\n",
              "                var nbb_unformatted_code = \"hist_costs_in_range(\\\"rooms\\\", min=1, max=2, df=df_centr)\\nplt.suptitle(\\\"\\u0412\\u043b\\u0438\\u044f\\u043d\\u0438\\u0435 \\u043a\\u043e\\u043b\\u0438\\u0447\\u0435\\u0441\\u0442\\u0432\\u0430 \\u043a\\u043e\\u043c\\u043d\\u0430\\u0442 \\u043d\\u0430 \\u0441\\u0442\\u043e\\u0438\\u043c\\u043e\\u0441\\u0442\\u044c\\\")\";\n",
              "                var nbb_formatted_code = \"hist_costs_in_range(\\\"rooms\\\", min=1, max=2, df=df_centr)\\nplt.suptitle(\\\"\\u0412\\u043b\\u0438\\u044f\\u043d\\u0438\\u0435 \\u043a\\u043e\\u043b\\u0438\\u0447\\u0435\\u0441\\u0442\\u0432\\u0430 \\u043a\\u043e\\u043c\\u043d\\u0430\\u0442 \\u043d\\u0430 \\u0441\\u0442\\u043e\\u0438\\u043c\\u043e\\u0441\\u0442\\u044c\\\")\";\n",
              "                var nbb_cells = Jupyter.notebook.get_cells();\n",
              "                for (var i = 0; i < nbb_cells.length; ++i) {\n",
              "                    if (nbb_cells[i].input_prompt_number == nbb_cell_id) {\n",
              "                        if (nbb_cells[i].get_text() == nbb_unformatted_code) {\n",
              "                             nbb_cells[i].set_text(nbb_formatted_code);\n",
              "                        }\n",
              "                        break;\n",
              "                    }\n",
              "                }\n",
              "            }, 500);\n",
              "            "
            ],
            "text/plain": [
              "<IPython.core.display.Javascript object>"
            ]
          },
          "metadata": {},
          "output_type": "display_data"
        }
      ],
      "source": [
        "hist_costs_in_range(\"rooms\", min=1, max=2, df=df_centr)\n",
        "plt.suptitle(\"Влияние количества комнат на стоимость\")"
      ]
    },
    {
      "cell_type": "code",
      "execution_count": null,
      "id": "6e352d89",
      "metadata": {
        "id": "6e352d89",
        "outputId": "c2268255-e16e-4e96-99f6-18e21a8596b0"
      },
      "outputs": [
        {
          "data": {
            "text/plain": [
              "Text(0.5, 0.98, 'Влияние общей площади объекта на стоимость')"
            ]
          },
          "execution_count": 61,
          "metadata": {},
          "output_type": "execute_result"
        },
        {
          "data": {
            "image/png": "[encoded data removed]",
            "text/plain": [
              "<Figure size 1152x288 with 2 Axes>"
            ]
          },
          "metadata": {
            "needs_background": "light"
          },
          "output_type": "display_data"
        },
        {
          "data": {
            "application/javascript": [
              "\n",
              "            setTimeout(function() {\n",
              "                var nbb_cell_id = 61;\n",
              "                var nbb_unformatted_code = \"hist_costs_in_range(\\\"total_area\\\", 40, 70, df=df_centr)\\nplt.suptitle(\\\"\\u0412\\u043b\\u0438\\u044f\\u043d\\u0438\\u0435 \\u043e\\u0431\\u0449\\u0435\\u0439 \\u043f\\u043b\\u043e\\u0449\\u0430\\u0434\\u0438 \\u043e\\u0431\\u044a\\u0435\\u043a\\u0442\\u0430 \\u043d\\u0430 \\u0441\\u0442\\u043e\\u0438\\u043c\\u043e\\u0441\\u0442\\u044c\\\")\";\n",
              "                var nbb_formatted_code = \"hist_costs_in_range(\\\"total_area\\\", 40, 70, df=df_centr)\\nplt.suptitle(\\\"\\u0412\\u043b\\u0438\\u044f\\u043d\\u0438\\u0435 \\u043e\\u0431\\u0449\\u0435\\u0439 \\u043f\\u043b\\u043e\\u0449\\u0430\\u0434\\u0438 \\u043e\\u0431\\u044a\\u0435\\u043a\\u0442\\u0430 \\u043d\\u0430 \\u0441\\u0442\\u043e\\u0438\\u043c\\u043e\\u0441\\u0442\\u044c\\\")\";\n",
              "                var nbb_cells = Jupyter.notebook.get_cells();\n",
              "                for (var i = 0; i < nbb_cells.length; ++i) {\n",
              "                    if (nbb_cells[i].input_prompt_number == nbb_cell_id) {\n",
              "                        if (nbb_cells[i].get_text() == nbb_unformatted_code) {\n",
              "                             nbb_cells[i].set_text(nbb_formatted_code);\n",
              "                        }\n",
              "                        break;\n",
              "                    }\n",
              "                }\n",
              "            }, 500);\n",
              "            "
            ],
            "text/plain": [
              "<IPython.core.display.Javascript object>"
            ]
          },
          "metadata": {},
          "output_type": "display_data"
        }
      ],
      "source": [
        "hist_costs_in_range(\"total_area\", 40, 70, df=df_centr)\n",
        "plt.suptitle(\"Влияние общей площади объекта на стоимость\")"
      ]
    },
    {
      "cell_type": "code",
      "execution_count": null,
      "id": "c0882d63",
      "metadata": {
        "id": "c0882d63",
        "outputId": "726aeb1b-4fa5-4f0c-cb9a-1422d697e241"
      },
      "outputs": [
        {
          "data": {
            "text/plain": [
              "Text(0.5, 0.98, 'Влияние удаленности объекта от центра на стоимость')"
            ]
          },
          "execution_count": 62,
          "metadata": {},
          "output_type": "execute_result"
        },
        {
          "data": {
            "image/png": "[encoded data removed]",
            "text/plain": [
              "<Figure size 1152x288 with 2 Axes>"
            ]
          },
          "metadata": {
            "needs_background": "light"
          },
          "output_type": "display_data"
        },
        {
          "data": {
            "application/javascript": [
              "\n",
              "            setTimeout(function() {\n",
              "                var nbb_cell_id = 62;\n",
              "                var nbb_unformatted_code = \"hist_costs_in_range(\\\"city_centers_nearest\\\", 4000, 7500, df=df_centr)\\nplt.suptitle(\\\"\\u0412\\u043b\\u0438\\u044f\\u043d\\u0438\\u0435 \\u0443\\u0434\\u0430\\u043b\\u0435\\u043d\\u043d\\u043e\\u0441\\u0442\\u0438 \\u043e\\u0431\\u044a\\u0435\\u043a\\u0442\\u0430 \\u043e\\u0442 \\u0446\\u0435\\u043d\\u0442\\u0440\\u0430 \\u043d\\u0430 \\u0441\\u0442\\u043e\\u0438\\u043c\\u043e\\u0441\\u0442\\u044c\\\")\";\n",
              "                var nbb_formatted_code = \"hist_costs_in_range(\\\"city_centers_nearest\\\", 4000, 7500, df=df_centr)\\nplt.suptitle(\\\"\\u0412\\u043b\\u0438\\u044f\\u043d\\u0438\\u0435 \\u0443\\u0434\\u0430\\u043b\\u0435\\u043d\\u043d\\u043e\\u0441\\u0442\\u0438 \\u043e\\u0431\\u044a\\u0435\\u043a\\u0442\\u0430 \\u043e\\u0442 \\u0446\\u0435\\u043d\\u0442\\u0440\\u0430 \\u043d\\u0430 \\u0441\\u0442\\u043e\\u0438\\u043c\\u043e\\u0441\\u0442\\u044c\\\")\";\n",
              "                var nbb_cells = Jupyter.notebook.get_cells();\n",
              "                for (var i = 0; i < nbb_cells.length; ++i) {\n",
              "                    if (nbb_cells[i].input_prompt_number == nbb_cell_id) {\n",
              "                        if (nbb_cells[i].get_text() == nbb_unformatted_code) {\n",
              "                             nbb_cells[i].set_text(nbb_formatted_code);\n",
              "                        }\n",
              "                        break;\n",
              "                    }\n",
              "                }\n",
              "            }, 500);\n",
              "            "
            ],
            "text/plain": [
              "<IPython.core.display.Javascript object>"
            ]
          },
          "metadata": {},
          "output_type": "display_data"
        }
      ],
      "source": [
        "hist_costs_in_range(\"city_centers_nearest\", 4000, 7500, df=df_centr)\n",
        "plt.suptitle(\"Влияние удаленности объекта от центра на стоимость\")"
      ]
    },
    {
      "cell_type": "code",
      "execution_count": null,
      "id": "3f040496",
      "metadata": {
        "id": "3f040496",
        "outputId": "2859ca96-9f5a-40d3-9a99-84e7af877ea4"
      },
      "outputs": [
        {
          "data": {
            "image/png": "[encoded data removed]",
            "text/plain": [
              "<Figure size 1152x288 with 2 Axes>"
            ]
          },
          "metadata": {
            "needs_background": "light"
          },
          "output_type": "display_data"
        },
        {
          "data": {
            "application/javascript": [
              "\n",
              "            setTimeout(function() {\n",
              "                var nbb_cell_id = 63;\n",
              "                var nbb_unformatted_code = \"hist_cost_floor(df=df_centr)\";\n",
              "                var nbb_formatted_code = \"hist_cost_floor(df=df_centr)\";\n",
              "                var nbb_cells = Jupyter.notebook.get_cells();\n",
              "                for (var i = 0; i < nbb_cells.length; ++i) {\n",
              "                    if (nbb_cells[i].input_prompt_number == nbb_cell_id) {\n",
              "                        if (nbb_cells[i].get_text() == nbb_unformatted_code) {\n",
              "                             nbb_cells[i].set_text(nbb_formatted_code);\n",
              "                        }\n",
              "                        break;\n",
              "                    }\n",
              "                }\n",
              "            }, 500);\n",
              "            "
            ],
            "text/plain": [
              "<IPython.core.display.Javascript object>"
            ]
          },
          "metadata": {},
          "output_type": "display_data"
        }
      ],
      "source": [
        "hist_cost_floor(df=df_centr)"
      ]
    },
    {
      "cell_type": "markdown",
      "id": "c1c9fcde",
      "metadata": {
        "id": "c1c9fcde"
      },
      "source": [
        "По гистограммам видно, что влияние каждого параметра на объекты в центре выше, чем на объекты во всем датафрейме. Особенно это заметно на гистограммах количества комнат и площади объектов в различных отстояниях медианных значений друг от друга. \n",
        "\n",
        "Выведем информацию о времени размещения объектов в центре."
      ]
    },
    {
      "cell_type": "code",
      "execution_count": null,
      "id": "f532c9f9",
      "metadata": {
        "id": "f532c9f9",
        "outputId": "2c6b4304-d5a3-4fc7-f25b-b1ba5e1e3d87"
      },
      "outputs": [
        {
          "data": {
            "text/html": [
              "<div>\n",
              "<style scoped>\n",
              "    .dataframe tbody tr th:only-of-type {\n",
              "        vertical-align: middle;\n",
              "    }\n",
              "\n",
              "    .dataframe tbody tr th {\n",
              "        vertical-align: top;\n",
              "    }\n",
              "\n",
              "    .dataframe thead tr th {\n",
              "        text-align: left;\n",
              "    }\n",
              "\n",
              "    .dataframe thead tr:last-of-type th {\n",
              "        text-align: right;\n",
              "    }\n",
              "</style>\n",
              "<table border=\"1\" class=\"dataframe\">\n",
              "  <thead>\n",
              "    <tr>\n",
              "      <th></th>\n",
              "      <th colspan=\"2\" halign=\"left\">median</th>\n",
              "      <th colspan=\"2\" halign=\"left\">mean</th>\n",
              "      <th colspan=\"2\" halign=\"left\">count</th>\n",
              "    </tr>\n",
              "    <tr>\n",
              "      <th></th>\n",
              "      <th>last_price</th>\n",
              "      <th>sq_m_cst</th>\n",
              "      <th>last_price</th>\n",
              "      <th>sq_m_cst</th>\n",
              "      <th>last_price</th>\n",
              "      <th>sq_m_cst</th>\n",
              "    </tr>\n",
              "    <tr>\n",
              "      <th>exposition_weekday</th>\n",
              "      <th></th>\n",
              "      <th></th>\n",
              "      <th></th>\n",
              "      <th></th>\n",
              "      <th></th>\n",
              "      <th></th>\n",
              "    </tr>\n",
              "  </thead>\n",
              "  <tbody>\n",
              "    <tr>\n",
              "      <th>0</th>\n",
              "      <td>8650</td>\n",
              "      <td>120</td>\n",
              "      <td>13097.093535</td>\n",
              "      <td>138.345254</td>\n",
              "      <td>727</td>\n",
              "      <td>727</td>\n",
              "    </tr>\n",
              "    <tr>\n",
              "      <th>1</th>\n",
              "      <td>8200</td>\n",
              "      <td>118</td>\n",
              "      <td>12410.265931</td>\n",
              "      <td>137.050245</td>\n",
              "      <td>816</td>\n",
              "      <td>816</td>\n",
              "    </tr>\n",
              "    <tr>\n",
              "      <th>2</th>\n",
              "      <td>8550</td>\n",
              "      <td>121</td>\n",
              "      <td>13362.830212</td>\n",
              "      <td>137.267166</td>\n",
              "      <td>801</td>\n",
              "      <td>801</td>\n",
              "    </tr>\n",
              "    <tr>\n",
              "      <th>3</th>\n",
              "      <td>8500</td>\n",
              "      <td>119</td>\n",
              "      <td>13130.161053</td>\n",
              "      <td>137.887368</td>\n",
              "      <td>950</td>\n",
              "      <td>950</td>\n",
              "    </tr>\n",
              "    <tr>\n",
              "      <th>4</th>\n",
              "      <td>8400</td>\n",
              "      <td>119</td>\n",
              "      <td>12809.939470</td>\n",
              "      <td>136.418663</td>\n",
              "      <td>793</td>\n",
              "      <td>793</td>\n",
              "    </tr>\n",
              "    <tr>\n",
              "      <th>5</th>\n",
              "      <td>8000</td>\n",
              "      <td>122</td>\n",
              "      <td>16534.584046</td>\n",
              "      <td>146.410256</td>\n",
              "      <td>351</td>\n",
              "      <td>351</td>\n",
              "    </tr>\n",
              "    <tr>\n",
              "      <th>6</th>\n",
              "      <td>8725</td>\n",
              "      <td>124</td>\n",
              "      <td>13199.295139</td>\n",
              "      <td>138.038194</td>\n",
              "      <td>288</td>\n",
              "      <td>288</td>\n",
              "    </tr>\n",
              "  </tbody>\n",
              "</table>\n",
              "</div>"
            ],
            "text/plain": [
              "                       median                   mean                  count  \\\n",
              "                   last_price sq_m_cst    last_price    sq_m_cst last_price   \n",
              "exposition_weekday                                                            \n",
              "0                        8650      120  13097.093535  138.345254        727   \n",
              "1                        8200      118  12410.265931  137.050245        816   \n",
              "2                        8550      121  13362.830212  137.267166        801   \n",
              "3                        8500      119  13130.161053  137.887368        950   \n",
              "4                        8400      119  12809.939470  136.418663        793   \n",
              "5                        8000      122  16534.584046  146.410256        351   \n",
              "6                        8725      124  13199.295139  138.038194        288   \n",
              "\n",
              "                             \n",
              "                   sq_m_cst  \n",
              "exposition_weekday           \n",
              "0                       727  \n",
              "1                       816  \n",
              "2                       801  \n",
              "3                       950  \n",
              "4                       793  \n",
              "5                       351  \n",
              "6                       288  "
            ]
          },
          "execution_count": 64,
          "metadata": {},
          "output_type": "execute_result"
        },
        {
          "data": {
            "application/javascript": [
              "\n",
              "            setTimeout(function() {\n",
              "                var nbb_cell_id = 64;\n",
              "                var nbb_unformatted_code = \"df_centr.pivot_table(\\n    index=\\\"exposition_weekday\\\",\\n    values=[\\\"last_price\\\", \\\"sq_m_cst\\\"],\\n    aggfunc=[\\\"median\\\", \\\"mean\\\", \\\"count\\\"],\\n)\";\n",
              "                var nbb_formatted_code = \"df_centr.pivot_table(\\n    index=\\\"exposition_weekday\\\",\\n    values=[\\\"last_price\\\", \\\"sq_m_cst\\\"],\\n    aggfunc=[\\\"median\\\", \\\"mean\\\", \\\"count\\\"],\\n)\";\n",
              "                var nbb_cells = Jupyter.notebook.get_cells();\n",
              "                for (var i = 0; i < nbb_cells.length; ++i) {\n",
              "                    if (nbb_cells[i].input_prompt_number == nbb_cell_id) {\n",
              "                        if (nbb_cells[i].get_text() == nbb_unformatted_code) {\n",
              "                             nbb_cells[i].set_text(nbb_formatted_code);\n",
              "                        }\n",
              "                        break;\n",
              "                    }\n",
              "                }\n",
              "            }, 500);\n",
              "            "
            ],
            "text/plain": [
              "<IPython.core.display.Javascript object>"
            ]
          },
          "metadata": {},
          "output_type": "display_data"
        }
      ],
      "source": [
        "df_centr.pivot_table(\n",
        "    index=\"exposition_weekday\",\n",
        "    values=[\"last_price\", \"sq_m_cst\"],\n",
        "    aggfunc=[\"median\", \"mean\", \"count\"],\n",
        ")"
      ]
    },
    {
      "cell_type": "code",
      "execution_count": null,
      "id": "c5e54c8b",
      "metadata": {
        "id": "c5e54c8b",
        "outputId": "d9e14681-6dc7-485a-e806-dc45f2f9f8c3"
      },
      "outputs": [
        {
          "data": {
            "text/html": [
              "<div>\n",
              "<style scoped>\n",
              "    .dataframe tbody tr th:only-of-type {\n",
              "        vertical-align: middle;\n",
              "    }\n",
              "\n",
              "    .dataframe tbody tr th {\n",
              "        vertical-align: top;\n",
              "    }\n",
              "\n",
              "    .dataframe thead tr th {\n",
              "        text-align: left;\n",
              "    }\n",
              "\n",
              "    .dataframe thead tr:last-of-type th {\n",
              "        text-align: right;\n",
              "    }\n",
              "</style>\n",
              "<table border=\"1\" class=\"dataframe\">\n",
              "  <thead>\n",
              "    <tr>\n",
              "      <th></th>\n",
              "      <th colspan=\"2\" halign=\"left\">median</th>\n",
              "      <th colspan=\"2\" halign=\"left\">mean</th>\n",
              "      <th colspan=\"2\" halign=\"left\">count</th>\n",
              "    </tr>\n",
              "    <tr>\n",
              "      <th></th>\n",
              "      <th>last_price</th>\n",
              "      <th>sq_m_cst</th>\n",
              "      <th>last_price</th>\n",
              "      <th>sq_m_cst</th>\n",
              "      <th>last_price</th>\n",
              "      <th>sq_m_cst</th>\n",
              "    </tr>\n",
              "    <tr>\n",
              "      <th>exposition_mnth</th>\n",
              "      <th></th>\n",
              "      <th></th>\n",
              "      <th></th>\n",
              "      <th></th>\n",
              "      <th></th>\n",
              "      <th></th>\n",
              "    </tr>\n",
              "  </thead>\n",
              "  <tbody>\n",
              "    <tr>\n",
              "      <th>1</th>\n",
              "      <td>8470</td>\n",
              "      <td>120.0</td>\n",
              "      <td>13646.571429</td>\n",
              "      <td>138.368771</td>\n",
              "      <td>301</td>\n",
              "      <td>301</td>\n",
              "    </tr>\n",
              "    <tr>\n",
              "      <th>2</th>\n",
              "      <td>8442</td>\n",
              "      <td>118.0</td>\n",
              "      <td>13158.041339</td>\n",
              "      <td>136.687008</td>\n",
              "      <td>508</td>\n",
              "      <td>508</td>\n",
              "    </tr>\n",
              "    <tr>\n",
              "      <th>3</th>\n",
              "      <td>8400</td>\n",
              "      <td>126.0</td>\n",
              "      <td>12752.233918</td>\n",
              "      <td>138.840156</td>\n",
              "      <td>513</td>\n",
              "      <td>513</td>\n",
              "    </tr>\n",
              "    <tr>\n",
              "      <th>4</th>\n",
              "      <td>8150</td>\n",
              "      <td>118.5</td>\n",
              "      <td>13944.015556</td>\n",
              "      <td>145.540000</td>\n",
              "      <td>450</td>\n",
              "      <td>450</td>\n",
              "    </tr>\n",
              "    <tr>\n",
              "      <th>5</th>\n",
              "      <td>8300</td>\n",
              "      <td>122.0</td>\n",
              "      <td>12999.817204</td>\n",
              "      <td>132.799283</td>\n",
              "      <td>279</td>\n",
              "      <td>279</td>\n",
              "    </tr>\n",
              "    <tr>\n",
              "      <th>6</th>\n",
              "      <td>8262</td>\n",
              "      <td>115.0</td>\n",
              "      <td>12836.773224</td>\n",
              "      <td>137.614754</td>\n",
              "      <td>366</td>\n",
              "      <td>366</td>\n",
              "    </tr>\n",
              "    <tr>\n",
              "      <th>7</th>\n",
              "      <td>8751</td>\n",
              "      <td>118.0</td>\n",
              "      <td>13456.647849</td>\n",
              "      <td>138.575269</td>\n",
              "      <td>372</td>\n",
              "      <td>372</td>\n",
              "    </tr>\n",
              "    <tr>\n",
              "      <th>8</th>\n",
              "      <td>8524</td>\n",
              "      <td>124.0</td>\n",
              "      <td>12531.468750</td>\n",
              "      <td>139.190341</td>\n",
              "      <td>352</td>\n",
              "      <td>352</td>\n",
              "    </tr>\n",
              "    <tr>\n",
              "      <th>9</th>\n",
              "      <td>9000</td>\n",
              "      <td>121.0</td>\n",
              "      <td>14161.627160</td>\n",
              "      <td>137.883951</td>\n",
              "      <td>405</td>\n",
              "      <td>405</td>\n",
              "    </tr>\n",
              "    <tr>\n",
              "      <th>10</th>\n",
              "      <td>8313</td>\n",
              "      <td>119.0</td>\n",
              "      <td>11983.828358</td>\n",
              "      <td>133.820896</td>\n",
              "      <td>402</td>\n",
              "      <td>402</td>\n",
              "    </tr>\n",
              "    <tr>\n",
              "      <th>11</th>\n",
              "      <td>8900</td>\n",
              "      <td>119.0</td>\n",
              "      <td>12792.314286</td>\n",
              "      <td>135.547253</td>\n",
              "      <td>455</td>\n",
              "      <td>455</td>\n",
              "    </tr>\n",
              "    <tr>\n",
              "      <th>12</th>\n",
              "      <td>7700</td>\n",
              "      <td>119.0</td>\n",
              "      <td>15061.105263</td>\n",
              "      <td>141.173375</td>\n",
              "      <td>323</td>\n",
              "      <td>323</td>\n",
              "    </tr>\n",
              "  </tbody>\n",
              "</table>\n",
              "</div>"
            ],
            "text/plain": [
              "                    median                   mean                  count  \\\n",
              "                last_price sq_m_cst    last_price    sq_m_cst last_price   \n",
              "exposition_mnth                                                            \n",
              "1                     8470    120.0  13646.571429  138.368771        301   \n",
              "2                     8442    118.0  13158.041339  136.687008        508   \n",
              "3                     8400    126.0  12752.233918  138.840156        513   \n",
              "4                     8150    118.5  13944.015556  145.540000        450   \n",
              "5                     8300    122.0  12999.817204  132.799283        279   \n",
              "6                     8262    115.0  12836.773224  137.614754        366   \n",
              "7                     8751    118.0  13456.647849  138.575269        372   \n",
              "8                     8524    124.0  12531.468750  139.190341        352   \n",
              "9                     9000    121.0  14161.627160  137.883951        405   \n",
              "10                    8313    119.0  11983.828358  133.820896        402   \n",
              "11                    8900    119.0  12792.314286  135.547253        455   \n",
              "12                    7700    119.0  15061.105263  141.173375        323   \n",
              "\n",
              "                          \n",
              "                sq_m_cst  \n",
              "exposition_mnth           \n",
              "1                    301  \n",
              "2                    508  \n",
              "3                    513  \n",
              "4                    450  \n",
              "5                    279  \n",
              "6                    366  \n",
              "7                    372  \n",
              "8                    352  \n",
              "9                    405  \n",
              "10                   402  \n",
              "11                   455  \n",
              "12                   323  "
            ]
          },
          "execution_count": 65,
          "metadata": {},
          "output_type": "execute_result"
        },
        {
          "data": {
            "application/javascript": [
              "\n",
              "            setTimeout(function() {\n",
              "                var nbb_cell_id = 65;\n",
              "                var nbb_unformatted_code = \"df_centr.pivot_table(\\n    index=\\\"exposition_mnth\\\",\\n    values=[\\\"last_price\\\", \\\"sq_m_cst\\\"],\\n    aggfunc=[\\\"median\\\", \\\"mean\\\", \\\"count\\\"],\\n)\";\n",
              "                var nbb_formatted_code = \"df_centr.pivot_table(\\n    index=\\\"exposition_mnth\\\",\\n    values=[\\\"last_price\\\", \\\"sq_m_cst\\\"],\\n    aggfunc=[\\\"median\\\", \\\"mean\\\", \\\"count\\\"],\\n)\";\n",
              "                var nbb_cells = Jupyter.notebook.get_cells();\n",
              "                for (var i = 0; i < nbb_cells.length; ++i) {\n",
              "                    if (nbb_cells[i].input_prompt_number == nbb_cell_id) {\n",
              "                        if (nbb_cells[i].get_text() == nbb_unformatted_code) {\n",
              "                             nbb_cells[i].set_text(nbb_formatted_code);\n",
              "                        }\n",
              "                        break;\n",
              "                    }\n",
              "                }\n",
              "            }, 500);\n",
              "            "
            ],
            "text/plain": [
              "<IPython.core.display.Javascript object>"
            ]
          },
          "metadata": {},
          "output_type": "display_data"
        }
      ],
      "source": [
        "df_centr.pivot_table(\n",
        "    index=\"exposition_mnth\",\n",
        "    values=[\"last_price\", \"sq_m_cst\"],\n",
        "    aggfunc=[\"median\", \"mean\", \"count\"],\n",
        ")"
      ]
    },
    {
      "cell_type": "code",
      "execution_count": null,
      "id": "67c79cd4",
      "metadata": {
        "id": "67c79cd4",
        "outputId": "383179a4-a9b3-460b-b621-6ddf83085910"
      },
      "outputs": [
        {
          "data": {
            "text/html": [
              "<div>\n",
              "<style scoped>\n",
              "    .dataframe tbody tr th:only-of-type {\n",
              "        vertical-align: middle;\n",
              "    }\n",
              "\n",
              "    .dataframe tbody tr th {\n",
              "        vertical-align: top;\n",
              "    }\n",
              "\n",
              "    .dataframe thead tr th {\n",
              "        text-align: left;\n",
              "    }\n",
              "\n",
              "    .dataframe thead tr:last-of-type th {\n",
              "        text-align: right;\n",
              "    }\n",
              "</style>\n",
              "<table border=\"1\" class=\"dataframe\">\n",
              "  <thead>\n",
              "    <tr>\n",
              "      <th></th>\n",
              "      <th colspan=\"2\" halign=\"left\">median</th>\n",
              "      <th colspan=\"2\" halign=\"left\">mean</th>\n",
              "      <th colspan=\"2\" halign=\"left\">count</th>\n",
              "    </tr>\n",
              "    <tr>\n",
              "      <th></th>\n",
              "      <th>last_price</th>\n",
              "      <th>sq_m_cst</th>\n",
              "      <th>last_price</th>\n",
              "      <th>sq_m_cst</th>\n",
              "      <th>last_price</th>\n",
              "      <th>sq_m_cst</th>\n",
              "    </tr>\n",
              "    <tr>\n",
              "      <th>exposition_year</th>\n",
              "      <th></th>\n",
              "      <th></th>\n",
              "      <th></th>\n",
              "      <th></th>\n",
              "      <th></th>\n",
              "      <th></th>\n",
              "    </tr>\n",
              "  </thead>\n",
              "  <tbody>\n",
              "    <tr>\n",
              "      <th>2014</th>\n",
              "      <td>15550</td>\n",
              "      <td>141.5</td>\n",
              "      <td>21642.450000</td>\n",
              "      <td>177.075000</td>\n",
              "      <td>40</td>\n",
              "      <td>40</td>\n",
              "    </tr>\n",
              "    <tr>\n",
              "      <th>2015</th>\n",
              "      <td>9680</td>\n",
              "      <td>117.0</td>\n",
              "      <td>15634.854220</td>\n",
              "      <td>139.516624</td>\n",
              "      <td>391</td>\n",
              "      <td>391</td>\n",
              "    </tr>\n",
              "    <tr>\n",
              "      <th>2016</th>\n",
              "      <td>8750</td>\n",
              "      <td>115.5</td>\n",
              "      <td>14020.755486</td>\n",
              "      <td>138.241379</td>\n",
              "      <td>638</td>\n",
              "      <td>638</td>\n",
              "    </tr>\n",
              "    <tr>\n",
              "      <th>2017</th>\n",
              "      <td>8449</td>\n",
              "      <td>117.0</td>\n",
              "      <td>13754.281912</td>\n",
              "      <td>136.355112</td>\n",
              "      <td>1653</td>\n",
              "      <td>1653</td>\n",
              "    </tr>\n",
              "    <tr>\n",
              "      <th>2018</th>\n",
              "      <td>8150</td>\n",
              "      <td>121.0</td>\n",
              "      <td>11448.411565</td>\n",
              "      <td>134.589116</td>\n",
              "      <td>1470</td>\n",
              "      <td>1470</td>\n",
              "    </tr>\n",
              "    <tr>\n",
              "      <th>2019</th>\n",
              "      <td>8455</td>\n",
              "      <td>130.0</td>\n",
              "      <td>13295.507491</td>\n",
              "      <td>149.074906</td>\n",
              "      <td>534</td>\n",
              "      <td>534</td>\n",
              "    </tr>\n",
              "  </tbody>\n",
              "</table>\n",
              "</div>"
            ],
            "text/plain": [
              "                    median                   mean                  count  \\\n",
              "                last_price sq_m_cst    last_price    sq_m_cst last_price   \n",
              "exposition_year                                                            \n",
              "2014                 15550    141.5  21642.450000  177.075000         40   \n",
              "2015                  9680    117.0  15634.854220  139.516624        391   \n",
              "2016                  8750    115.5  14020.755486  138.241379        638   \n",
              "2017                  8449    117.0  13754.281912  136.355112       1653   \n",
              "2018                  8150    121.0  11448.411565  134.589116       1470   \n",
              "2019                  8455    130.0  13295.507491  149.074906        534   \n",
              "\n",
              "                          \n",
              "                sq_m_cst  \n",
              "exposition_year           \n",
              "2014                  40  \n",
              "2015                 391  \n",
              "2016                 638  \n",
              "2017                1653  \n",
              "2018                1470  \n",
              "2019                 534  "
            ]
          },
          "execution_count": 66,
          "metadata": {},
          "output_type": "execute_result"
        },
        {
          "data": {
            "application/javascript": [
              "\n",
              "            setTimeout(function() {\n",
              "                var nbb_cell_id = 66;\n",
              "                var nbb_unformatted_code = \"df_centr.pivot_table(\\n    index=\\\"exposition_year\\\",\\n    values=[\\\"last_price\\\", \\\"sq_m_cst\\\"],\\n    aggfunc=[\\\"median\\\", \\\"mean\\\", \\\"count\\\"],\\n)\";\n",
              "                var nbb_formatted_code = \"df_centr.pivot_table(\\n    index=\\\"exposition_year\\\",\\n    values=[\\\"last_price\\\", \\\"sq_m_cst\\\"],\\n    aggfunc=[\\\"median\\\", \\\"mean\\\", \\\"count\\\"],\\n)\";\n",
              "                var nbb_cells = Jupyter.notebook.get_cells();\n",
              "                for (var i = 0; i < nbb_cells.length; ++i) {\n",
              "                    if (nbb_cells[i].input_prompt_number == nbb_cell_id) {\n",
              "                        if (nbb_cells[i].get_text() == nbb_unformatted_code) {\n",
              "                             nbb_cells[i].set_text(nbb_formatted_code);\n",
              "                        }\n",
              "                        break;\n",
              "                    }\n",
              "                }\n",
              "            }, 500);\n",
              "            "
            ],
            "text/plain": [
              "<IPython.core.display.Javascript object>"
            ]
          },
          "metadata": {},
          "output_type": "display_data"
        }
      ],
      "source": [
        "df_centr.pivot_table(\n",
        "    index=\"exposition_year\",\n",
        "    values=[\"last_price\", \"sq_m_cst\"],\n",
        "    aggfunc=[\"median\", \"mean\", \"count\"],\n",
        ")"
      ]
    },
    {
      "cell_type": "markdown",
      "id": "bdf162e2",
      "metadata": {
        "id": "bdf162e2"
      },
      "source": [
        "По полученным таблицам можно сделать аналогичные выводы, что и ранее. Таким образом, время размещения объявления не зависит от удаленности объекта от центра города."
      ]
    },
    {
      "cell_type": "markdown",
      "id": "5b8061ab",
      "metadata": {
        "id": "5b8061ab"
      },
      "source": [
        "**Промежуточный вывод**\n",
        "\n",
        "В центре Санк-Петербурга размещают 20% объявлений всех объектов. При этом средняя цена выше почти в 2 раза, а стоимость квадратного метра - почти на треть. Абсолютная площадь объектов так же выше на треть, в то же время относительные коэффициенты оказываются более устойчивыми к таким срезам - изменение их параметров не превосходит 2%. Высота потолков в центре выше 12%, а вот балконов практически нет. \n",
        "Влияние каждого параметра на объекты в центре выше, чем на объекты во всем городе и области. Особенно это заметно на количестве комнат и площади объектов: медианные значения по категориям которых отличаются, в среднем, на 35%. "
      ]
    },
    {
      "cell_type": "markdown",
      "id": "5298540c",
      "metadata": {
        "id": "5298540c"
      },
      "source": [
        "# Вывод"
      ]
    },
    {
      "cell_type": "markdown",
      "id": "f226251b",
      "metadata": {
        "id": "f226251b"
      },
      "source": [
        "Проведено исследование архива объявлений о продаже квартир в Санкт-Петербурге и соседних населенных пунктах за несколько лет.\n",
        "\n",
        "В ходе предобработки данных исправлены наименований столбцов, исключены дубликаты, обработаны пропуски и исправлены типы данных. В результате указанных действий количество строк уменьшилось на 4%, но в таблице сохранены пропуски, которые не должны оказывать значительного влияния на точность и наглядность исследования. \n",
        "\n",
        "Установлены следующие параметры для определения рыночной стоимости объектов недвижимости.\n",
        "* Площадь и удаленность от центра - влияют в первую очередь на стоимость объекта. \n",
        "* Число комнат и этаж расположения - оказывают вклад, но в меньшей степени. \n",
        "* Район города - например, перечисленные параметры влияют на стоимость объектов в центре Санкт-Петербурга значительно выше, чем на объекты во всем датафрейме. \n",
        "* Относительные параметры, такие как стоимость квадратного метра, а также отношения жилой площади и площади кухни к общей площади - наиболее репрезентативны и устойчивы к внешним изменениям. \n",
        "\n",
        "Также установлено, что с течением времени на рынке усиливается превалирование дешевого жилья над дорогим.\n",
        "\n",
        "В центре Санк-Петербурга размещают 20% объявлений всех объектов. При этом средняя цена выше почти в 2 раза, а стоимость квадратного метра - почти на треть. Абсолютная площадь объектов так же выше на треть, в то же время относительные коэффициенты оказываются более устойчивыми к таким срезам - изменение их параметров не превосходит 2%. Высота потолков в центре выше 12%, а вот балконов практически нет. \n",
        "Влияние каждого параметра на объекты в центре выше, чем на объекты во всем городе и области. Особенно это заметно на количестве комнат и площади объектов: медианные значения по категориям которых отличаются, в среднем, на 35%. \n",
        "\n",
        "Полученные результаты могут быть использованы для построения автоматизированной системы, отслеживающей аномалии и мошенническую деятельность."
      ]
    }
  ],
  "metadata": {
    "ExecuteTimeLog": [
      {
        "duration": 401,
        "start_time": "2022-04-14T07:46:18.073Z"
      },
      {
        "duration": 0,
        "start_time": "2022-04-14T07:46:18.480Z"
      },
      {
        "duration": 0,
        "start_time": "2022-04-14T07:46:18.482Z"
      },
      {
        "duration": 0,
        "start_time": "2022-04-14T07:46:18.484Z"
      },
      {
        "duration": 0,
        "start_time": "2022-04-14T07:46:18.485Z"
      },
      {
        "duration": 0,
        "start_time": "2022-04-14T07:46:18.487Z"
      },
      {
        "duration": 0,
        "start_time": "2022-04-14T07:46:18.488Z"
      },
      {
        "duration": 0,
        "start_time": "2022-04-14T07:46:18.490Z"
      },
      {
        "duration": 0,
        "start_time": "2022-04-14T07:46:18.491Z"
      },
      {
        "duration": 0,
        "start_time": "2022-04-14T07:46:18.493Z"
      },
      {
        "duration": 0,
        "start_time": "2022-04-14T07:46:18.494Z"
      },
      {
        "duration": 0,
        "start_time": "2022-04-14T07:46:18.496Z"
      },
      {
        "duration": 0,
        "start_time": "2022-04-14T07:46:18.497Z"
      },
      {
        "duration": 0,
        "start_time": "2022-04-14T07:46:18.498Z"
      },
      {
        "duration": 0,
        "start_time": "2022-04-14T07:46:18.500Z"
      },
      {
        "duration": 0,
        "start_time": "2022-04-14T07:46:18.502Z"
      },
      {
        "duration": 0,
        "start_time": "2022-04-14T07:46:18.503Z"
      },
      {
        "duration": 0,
        "start_time": "2022-04-14T07:46:18.504Z"
      },
      {
        "duration": 0,
        "start_time": "2022-04-14T07:46:18.506Z"
      },
      {
        "duration": 0,
        "start_time": "2022-04-14T07:46:18.507Z"
      },
      {
        "duration": 0,
        "start_time": "2022-04-14T07:46:18.509Z"
      },
      {
        "duration": 0,
        "start_time": "2022-04-14T07:46:18.510Z"
      },
      {
        "duration": 0,
        "start_time": "2022-04-14T07:46:18.512Z"
      },
      {
        "duration": 0,
        "start_time": "2022-04-14T07:46:18.514Z"
      },
      {
        "duration": 0,
        "start_time": "2022-04-14T07:46:18.515Z"
      },
      {
        "duration": 0,
        "start_time": "2022-04-14T07:46:18.551Z"
      },
      {
        "duration": 0,
        "start_time": "2022-04-14T07:46:18.552Z"
      },
      {
        "duration": 0,
        "start_time": "2022-04-14T07:46:18.553Z"
      },
      {
        "duration": 0,
        "start_time": "2022-04-14T07:46:18.555Z"
      },
      {
        "duration": 0,
        "start_time": "2022-04-14T07:46:18.559Z"
      },
      {
        "duration": 0,
        "start_time": "2022-04-14T07:46:18.560Z"
      },
      {
        "duration": 0,
        "start_time": "2022-04-14T07:46:18.561Z"
      },
      {
        "duration": 0,
        "start_time": "2022-04-14T07:46:18.564Z"
      },
      {
        "duration": 0,
        "start_time": "2022-04-14T07:46:18.566Z"
      },
      {
        "duration": 0,
        "start_time": "2022-04-14T07:46:18.567Z"
      },
      {
        "duration": 0,
        "start_time": "2022-04-14T07:46:18.569Z"
      },
      {
        "duration": 0,
        "start_time": "2022-04-14T07:46:18.572Z"
      },
      {
        "duration": 0,
        "start_time": "2022-04-14T07:46:18.573Z"
      },
      {
        "duration": 0,
        "start_time": "2022-04-14T07:46:18.574Z"
      },
      {
        "duration": 0,
        "start_time": "2022-04-14T07:46:18.576Z"
      },
      {
        "duration": 0,
        "start_time": "2022-04-14T07:46:18.577Z"
      },
      {
        "duration": 0,
        "start_time": "2022-04-14T07:46:18.579Z"
      },
      {
        "duration": 0,
        "start_time": "2022-04-14T07:46:18.580Z"
      },
      {
        "duration": 0,
        "start_time": "2022-04-14T07:46:18.581Z"
      },
      {
        "duration": 0,
        "start_time": "2022-04-14T07:46:18.583Z"
      },
      {
        "duration": 0,
        "start_time": "2022-04-14T07:46:18.584Z"
      },
      {
        "duration": 0,
        "start_time": "2022-04-14T07:46:18.586Z"
      },
      {
        "duration": 0,
        "start_time": "2022-04-14T07:46:18.587Z"
      },
      {
        "duration": 0,
        "start_time": "2022-04-14T07:46:18.589Z"
      },
      {
        "duration": 0,
        "start_time": "2022-04-14T07:46:18.590Z"
      },
      {
        "duration": 0,
        "start_time": "2022-04-14T07:46:18.591Z"
      },
      {
        "duration": 0,
        "start_time": "2022-04-14T07:46:18.592Z"
      },
      {
        "duration": 0,
        "start_time": "2022-04-14T07:46:18.660Z"
      },
      {
        "duration": 0,
        "start_time": "2022-04-14T07:46:18.662Z"
      },
      {
        "duration": 0,
        "start_time": "2022-04-14T07:46:18.667Z"
      },
      {
        "duration": 0,
        "start_time": "2022-04-14T07:46:18.668Z"
      },
      {
        "duration": 0,
        "start_time": "2022-04-14T07:46:18.670Z"
      },
      {
        "duration": 0,
        "start_time": "2022-04-14T07:46:18.671Z"
      },
      {
        "duration": 0,
        "start_time": "2022-04-14T07:46:18.672Z"
      },
      {
        "duration": 0,
        "start_time": "2022-04-14T07:46:18.673Z"
      },
      {
        "duration": 0,
        "start_time": "2022-04-14T07:46:18.674Z"
      },
      {
        "duration": 0,
        "start_time": "2022-04-14T07:46:18.675Z"
      },
      {
        "duration": 0,
        "start_time": "2022-04-14T07:46:18.677Z"
      },
      {
        "duration": 0,
        "start_time": "2022-04-14T07:46:18.678Z"
      },
      {
        "duration": 0,
        "start_time": "2022-04-14T07:46:18.680Z"
      },
      {
        "duration": 1780,
        "start_time": "2022-04-14T19:14:58.152Z"
      },
      {
        "duration": 845,
        "start_time": "2022-04-14T19:15:04.486Z"
      },
      {
        "duration": 7780,
        "start_time": "2022-04-14T19:20:17.762Z"
      },
      {
        "duration": 146,
        "start_time": "2022-04-14T19:20:29.510Z"
      },
      {
        "duration": 3918,
        "start_time": "2022-04-14T19:20:40.546Z"
      },
      {
        "duration": 5209,
        "start_time": "2022-04-14T19:23:06.119Z"
      },
      {
        "duration": 434,
        "start_time": "2022-04-14T19:23:11.332Z"
      },
      {
        "duration": 133,
        "start_time": "2022-04-14T19:23:11.768Z"
      },
      {
        "duration": 14,
        "start_time": "2022-04-14T19:23:11.904Z"
      },
      {
        "duration": 145,
        "start_time": "2022-04-14T19:23:11.920Z"
      },
      {
        "duration": 124,
        "start_time": "2022-04-14T19:23:12.067Z"
      },
      {
        "duration": 149,
        "start_time": "2022-04-14T19:23:12.193Z"
      },
      {
        "duration": 113,
        "start_time": "2022-04-14T19:23:12.344Z"
      },
      {
        "duration": 26,
        "start_time": "2022-04-14T19:23:12.460Z"
      },
      {
        "duration": 111,
        "start_time": "2022-04-14T19:23:12.491Z"
      },
      {
        "duration": 119,
        "start_time": "2022-04-14T19:23:12.604Z"
      },
      {
        "duration": 515,
        "start_time": "2022-04-14T19:23:12.725Z"
      },
      {
        "duration": 121,
        "start_time": "2022-04-14T19:23:13.242Z"
      },
      {
        "duration": 134,
        "start_time": "2022-04-14T19:23:13.365Z"
      },
      {
        "duration": 117,
        "start_time": "2022-04-14T19:23:13.501Z"
      },
      {
        "duration": 138,
        "start_time": "2022-04-14T19:23:13.620Z"
      },
      {
        "duration": 177,
        "start_time": "2022-04-14T19:23:13.760Z"
      },
      {
        "duration": 20,
        "start_time": "2022-04-14T19:23:13.939Z"
      },
      {
        "duration": 153,
        "start_time": "2022-04-14T19:23:13.961Z"
      },
      {
        "duration": 30,
        "start_time": "2022-04-14T19:23:14.116Z"
      },
      {
        "duration": 170,
        "start_time": "2022-04-14T19:23:14.148Z"
      },
      {
        "duration": 138,
        "start_time": "2022-04-14T19:23:14.320Z"
      },
      {
        "duration": 114,
        "start_time": "2022-04-14T19:23:14.460Z"
      },
      {
        "duration": 129,
        "start_time": "2022-04-14T19:23:14.576Z"
      },
      {
        "duration": 107,
        "start_time": "2022-04-14T19:23:14.707Z"
      },
      {
        "duration": 145,
        "start_time": "2022-04-14T19:23:14.816Z"
      },
      {
        "duration": 9,
        "start_time": "2022-04-14T19:23:14.964Z"
      },
      {
        "duration": 18,
        "start_time": "2022-04-14T19:23:14.979Z"
      },
      {
        "duration": 1045,
        "start_time": "2022-04-14T19:23:14.999Z"
      },
      {
        "duration": 174,
        "start_time": "2022-04-14T19:23:16.046Z"
      },
      {
        "duration": 68,
        "start_time": "2022-04-14T19:23:16.223Z"
      },
      {
        "duration": 126,
        "start_time": "2022-04-14T19:23:16.294Z"
      },
      {
        "duration": 481,
        "start_time": "2022-04-14T19:23:16.423Z"
      },
      {
        "duration": 1369,
        "start_time": "2022-04-14T19:23:16.907Z"
      },
      {
        "duration": 2095,
        "start_time": "2022-04-14T19:23:18.279Z"
      },
      {
        "duration": 115,
        "start_time": "2022-04-14T19:23:20.377Z"
      },
      {
        "duration": 343,
        "start_time": "2022-04-14T19:23:20.494Z"
      },
      {
        "duration": 9,
        "start_time": "2022-04-14T19:23:20.839Z"
      },
      {
        "duration": 480,
        "start_time": "2022-04-14T19:23:20.850Z"
      },
      {
        "duration": 742,
        "start_time": "2022-04-14T19:23:21.333Z"
      },
      {
        "duration": 820,
        "start_time": "2022-04-14T19:23:22.078Z"
      },
      {
        "duration": 39,
        "start_time": "2022-04-14T19:23:22.900Z"
      },
      {
        "duration": 1332,
        "start_time": "2022-04-14T19:23:22.941Z"
      },
      {
        "duration": 1279,
        "start_time": "2022-04-14T19:23:24.276Z"
      },
      {
        "duration": 137,
        "start_time": "2022-04-14T19:23:25.557Z"
      },
      {
        "duration": 1090,
        "start_time": "2022-04-14T19:23:25.696Z"
      },
      {
        "duration": 40,
        "start_time": "2022-04-14T19:23:26.794Z"
      },
      {
        "duration": 1588,
        "start_time": "2022-04-14T19:23:26.837Z"
      },
      {
        "duration": 152,
        "start_time": "2022-04-14T19:23:28.427Z"
      },
      {
        "duration": 145,
        "start_time": "2022-04-14T19:23:28.581Z"
      },
      {
        "duration": 141,
        "start_time": "2022-04-14T19:23:28.728Z"
      },
      {
        "duration": 124,
        "start_time": "2022-04-14T19:23:28.871Z"
      },
      {
        "duration": 108,
        "start_time": "2022-04-14T19:23:28.997Z"
      },
      {
        "duration": 168,
        "start_time": "2022-04-14T19:23:29.107Z"
      },
      {
        "duration": 127,
        "start_time": "2022-04-14T19:23:29.277Z"
      },
      {
        "duration": 131,
        "start_time": "2022-04-14T19:23:29.406Z"
      },
      {
        "duration": 355,
        "start_time": "2022-04-14T19:23:29.539Z"
      },
      {
        "duration": 66,
        "start_time": "2022-04-14T19:23:29.897Z"
      },
      {
        "duration": 1141,
        "start_time": "2022-04-14T19:23:29.965Z"
      },
      {
        "duration": 1378,
        "start_time": "2022-04-14T19:23:31.109Z"
      },
      {
        "duration": 1254,
        "start_time": "2022-04-14T19:23:32.493Z"
      },
      {
        "duration": 1267,
        "start_time": "2022-04-14T19:23:33.750Z"
      },
      {
        "duration": 350,
        "start_time": "2022-04-14T19:23:35.019Z"
      },
      {
        "duration": 173,
        "start_time": "2022-04-14T19:23:35.371Z"
      },
      {
        "duration": 159,
        "start_time": "2022-04-14T19:23:35.546Z"
      },
      {
        "duration": 27025,
        "start_time": "2022-04-15T06:25:11.556Z"
      },
      {
        "duration": 274,
        "start_time": "2022-04-15T06:25:38.583Z"
      },
      {
        "duration": 96,
        "start_time": "2022-04-15T06:25:38.858Z"
      },
      {
        "duration": 10,
        "start_time": "2022-04-15T06:25:38.956Z"
      },
      {
        "duration": 113,
        "start_time": "2022-04-15T06:25:38.968Z"
      },
      {
        "duration": 98,
        "start_time": "2022-04-15T06:25:39.082Z"
      },
      {
        "duration": 112,
        "start_time": "2022-04-15T06:25:39.181Z"
      },
      {
        "duration": 96,
        "start_time": "2022-04-15T06:25:39.295Z"
      },
      {
        "duration": 18,
        "start_time": "2022-04-15T06:25:39.393Z"
      },
      {
        "duration": 91,
        "start_time": "2022-04-15T06:25:39.414Z"
      },
      {
        "duration": 108,
        "start_time": "2022-04-15T06:25:39.507Z"
      },
      {
        "duration": 304,
        "start_time": "2022-04-15T06:25:39.616Z"
      },
      {
        "duration": 92,
        "start_time": "2022-04-15T06:25:39.922Z"
      },
      {
        "duration": 98,
        "start_time": "2022-04-15T06:25:40.016Z"
      },
      {
        "duration": 105,
        "start_time": "2022-04-15T06:25:40.116Z"
      },
      {
        "duration": 87,
        "start_time": "2022-04-15T06:25:40.223Z"
      },
      {
        "duration": 113,
        "start_time": "2022-04-15T06:25:40.312Z"
      },
      {
        "duration": 15,
        "start_time": "2022-04-15T06:25:40.427Z"
      },
      {
        "duration": 93,
        "start_time": "2022-04-15T06:25:40.444Z"
      },
      {
        "duration": 21,
        "start_time": "2022-04-15T06:25:40.539Z"
      },
      {
        "duration": 84,
        "start_time": "2022-04-15T06:25:40.561Z"
      },
      {
        "duration": 106,
        "start_time": "2022-04-15T06:25:40.647Z"
      },
      {
        "duration": 90,
        "start_time": "2022-04-15T06:25:40.755Z"
      },
      {
        "duration": 93,
        "start_time": "2022-04-15T06:25:40.847Z"
      },
      {
        "duration": 85,
        "start_time": "2022-04-15T06:25:40.941Z"
      },
      {
        "duration": 95,
        "start_time": "2022-04-15T06:25:41.028Z"
      },
      {
        "duration": 7,
        "start_time": "2022-04-15T06:25:41.125Z"
      },
      {
        "duration": 14,
        "start_time": "2022-04-15T06:25:41.136Z"
      },
      {
        "duration": 661,
        "start_time": "2022-04-15T06:25:41.151Z"
      },
      {
        "duration": 108,
        "start_time": "2022-04-15T06:25:41.814Z"
      },
      {
        "duration": 53,
        "start_time": "2022-04-15T06:25:41.924Z"
      },
      {
        "duration": 94,
        "start_time": "2022-04-15T06:25:41.979Z"
      },
      {
        "duration": 331,
        "start_time": "2022-04-15T06:25:42.075Z"
      },
      {
        "duration": 948,
        "start_time": "2022-04-15T06:25:42.408Z"
      },
      {
        "duration": 1539,
        "start_time": "2022-04-15T06:25:43.358Z"
      },
      {
        "duration": 91,
        "start_time": "2022-04-15T06:25:44.899Z"
      },
      {
        "duration": 248,
        "start_time": "2022-04-15T06:25:44.992Z"
      },
      {
        "duration": 6,
        "start_time": "2022-04-15T06:25:45.242Z"
      },
      {
        "duration": 321,
        "start_time": "2022-04-15T06:25:45.249Z"
      },
      {
        "duration": 513,
        "start_time": "2022-04-15T06:25:45.572Z"
      },
      {
        "duration": 630,
        "start_time": "2022-04-15T06:25:46.086Z"
      },
      {
        "duration": 31,
        "start_time": "2022-04-15T06:25:46.718Z"
      },
      {
        "duration": 867,
        "start_time": "2022-04-15T06:25:46.750Z"
      },
      {
        "duration": 806,
        "start_time": "2022-04-15T06:25:47.619Z"
      },
      {
        "duration": 89,
        "start_time": "2022-04-15T06:25:48.427Z"
      },
      {
        "duration": 822,
        "start_time": "2022-04-15T06:25:48.518Z"
      },
      {
        "duration": 25,
        "start_time": "2022-04-15T06:25:49.342Z"
      },
      {
        "duration": 1029,
        "start_time": "2022-04-15T06:25:49.369Z"
      },
      {
        "duration": 157,
        "start_time": "2022-04-15T06:25:50.400Z"
      },
      {
        "duration": 133,
        "start_time": "2022-04-15T06:25:50.559Z"
      },
      {
        "duration": 133,
        "start_time": "2022-04-15T06:25:50.693Z"
      },
      {
        "duration": 103,
        "start_time": "2022-04-15T06:25:50.828Z"
      },
      {
        "duration": 97,
        "start_time": "2022-04-15T06:25:50.933Z"
      },
      {
        "duration": 126,
        "start_time": "2022-04-15T06:25:51.032Z"
      },
      {
        "duration": 94,
        "start_time": "2022-04-15T06:25:51.160Z"
      },
      {
        "duration": 160,
        "start_time": "2022-04-15T06:25:51.256Z"
      },
      {
        "duration": 245,
        "start_time": "2022-04-15T06:25:51.418Z"
      },
      {
        "duration": 46,
        "start_time": "2022-04-15T06:25:51.665Z"
      },
      {
        "duration": 797,
        "start_time": "2022-04-15T06:25:51.712Z"
      },
      {
        "duration": 822,
        "start_time": "2022-04-15T06:25:52.510Z"
      },
      {
        "duration": 933,
        "start_time": "2022-04-15T06:25:53.334Z"
      },
      {
        "duration": 926,
        "start_time": "2022-04-15T06:25:54.269Z"
      },
      {
        "duration": 118,
        "start_time": "2022-04-15T06:25:55.197Z"
      },
      {
        "duration": 133,
        "start_time": "2022-04-15T06:25:55.317Z"
      },
      {
        "duration": 118,
        "start_time": "2022-04-15T06:25:55.451Z"
      },
      {
        "duration": 402,
        "start_time": "2022-04-15T06:39:22.895Z"
      },
      {
        "duration": 461,
        "start_time": "2022-04-15T06:43:51.622Z"
      },
      {
        "duration": 301,
        "start_time": "2022-04-15T06:44:10.897Z"
      },
      {
        "duration": 90,
        "start_time": "2022-04-15T06:44:29.809Z"
      }
    ],
    "kernelspec": {
      "display_name": "Python 3 (ipykernel)",
      "language": "python",
      "name": "python3"
    },
    "language_info": {
      "codemirror_mode": {
        "name": "ipython",
        "version": 3
      },
      "file_extension": ".py",
      "mimetype": "text/x-python",
      "name": "python",
      "nbconvert_exporter": "python",
      "pygments_lexer": "ipython3",
      "version": "3.7.8"
    },
    "toc": {
      "base_numbering": 1,
      "nav_menu": {},
      "number_sections": true,
      "sideBar": true,
      "skip_h1_title": false,
      "title_cell": "Table of Contents",
      "title_sidebar": "Contents",
      "toc_cell": false,
      "toc_position": {
        "height": "calc(100% - 180px)",
        "left": "10px",
        "top": "150px",
        "width": "304.475px"
      },
      "toc_section_display": true,
      "toc_window_display": true
    },
    "colab": {
      "name": "Proj_pract_03_realty_v2_0.ipynb",
      "provenance": [],
      "toc_visible": true,
      "include_colab_link": true
    }
  },
  "nbformat": 4,
  "nbformat_minor": 5
}