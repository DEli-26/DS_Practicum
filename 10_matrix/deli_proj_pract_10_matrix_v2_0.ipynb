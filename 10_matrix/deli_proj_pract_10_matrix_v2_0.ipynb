{
  "cells": [
    {
      "cell_type": "markdown",
      "metadata": {
        "id": "view-in-github",
        "colab_type": "text"
      },
      "source": [
        "<a href=\"https://colab.research.google.com/github/DEli-26/DS_Practicum/blob/main/10_matrix/deli_proj_pract_10_matrix_v2_0.ipynb\" target=\"_parent\"><img src=\"https://colab.research.google.com/assets/colab-badge.svg\" alt=\"Open In Colab\"/></a>"
      ]
    },
    {
      "cell_type": "markdown",
      "id": "2307e87b",
      "metadata": {
        "id": "2307e87b"
      },
      "source": [
        "<font size=6><b>**Я.Практикум. Проект №10**</b></font>\n",
        "    \n",
        "<font size=6><b>**Защита персональных данных клиентов**</b></font>\n",
        "\n",
        "***"
      ]
    },
    {
      "cell_type": "markdown",
      "id": "f87c90a9",
      "metadata": {
        "id": "f87c90a9"
      },
      "source": [
        "# Постановка задачи\n",
        "**Заказчик:**  \n",
        "Страховая компания «Хоть потоп».\n",
        "\n",
        "**Цель:**  \n",
        "Защитить данные клиентов, чтобы при преобразовании качество моделей машинного обучения не ухудшилось. Подбирать наилучшую модель не требуется.\n",
        "\n",
        "**Задачи:** \n",
        "1. Получить и проанализировать данные;\n",
        "1. Разработать метод преобразования данных, усложняющий восстановление персональной информации;\n",
        "1. Обосновать корректность метода.\n",
        "\n",
        "**Исходные данные:**  \n",
        "Датафрейм с персональной информацией клиентов.\n",
        "Признаки: пол, возраст и зарплата застрахованного, количество членов его семьи.\n",
        "Целевой признак: количество страховых выплат клиенту за последние 5 лет."
      ]
    },
    {
      "cell_type": "markdown",
      "id": "e041bef9",
      "metadata": {
        "id": "e041bef9"
      },
      "source": [
        "# Подготовка окружения\n",
        "\n",
        "Загрузим библиотеки, необходимые для выполнения проекта"
      ]
    },
    {
      "cell_type": "code",
      "execution_count": 1,
      "id": "12a402ca",
      "metadata": {
        "id": "12a402ca"
      },
      "outputs": [],
      "source": [
        "import pandas as pd\n",
        "import numpy as np\n",
        "import matplotlib.pyplot as plt\n",
        "from sklearn.linear_model import LinearRegression\n",
        "from sklearn.metrics import r2_score\n",
        "\n",
        "# Темная тема графиков\n",
        "plt.style.use('dark_background')"
      ]
    },
    {
      "cell_type": "markdown",
      "id": "bd5d94a9",
      "metadata": {
        "id": "bd5d94a9"
      },
      "source": [
        "Загрузим сами данные."
      ]
    },
    {
      "cell_type": "code",
      "source": [
        "! gdown XXX"
      ],
      "metadata": {
        "colab": {
          "base_uri": "https://localhost:8080/"
        },
        "id": "9C4D8t5Eb2Wm",
        "outputId": "a5b4d2c0-8510-48ab-ea7f-69e4cf52d8b2"
      },
      "id": "9C4D8t5Eb2Wm",
      "execution_count": 2,
      "outputs": [
        {
          "output_type": "stream",
          "name": "stdout",
          "text": [
            "Downloading...\n",
            "From: https://drive.google.com/uc?id=XXX\n",
            "To: /content/insurance.csv\n",
            "\r  0% 0.00/95.7k [00:00<?, ?B/s]\r100% 95.7k/95.7k [00:00<00:00, 59.1MB/s]\n"
          ]
        }
      ]
    },
    {
      "cell_type": "code",
      "execution_count": 3,
      "id": "6744c11f",
      "metadata": {
        "id": "6744c11f"
      },
      "outputs": [],
      "source": [
        "df = pd.read_csv(\"/content/insurance.csv\")"
      ]
    },
    {
      "cell_type": "markdown",
      "id": "376cfc07",
      "metadata": {
        "id": "376cfc07"
      },
      "source": [
        "# Exploratory Data Analysis"
      ]
    },
    {
      "cell_type": "markdown",
      "id": "6196f9ac",
      "metadata": {
        "id": "6196f9ac"
      },
      "source": [
        "Вызовем первые 5 строк, общую информацию о таблице."
      ]
    },
    {
      "cell_type": "code",
      "execution_count": 4,
      "id": "43eb24f3",
      "metadata": {
        "colab": {
          "base_uri": "https://localhost:8080/",
          "height": 206
        },
        "id": "43eb24f3",
        "outputId": "f8efb7f0-2cae-4358-f4f9-b5cb055d704d"
      },
      "outputs": [
        {
          "output_type": "execute_result",
          "data": {
            "text/plain": [
              "   Пол  Возраст  Зарплата  Члены семьи  Страховые выплаты\n",
              "0    1     41.0   49600.0            1                  0\n",
              "1    0     46.0   38000.0            1                  1\n",
              "2    0     29.0   21000.0            0                  0\n",
              "3    0     21.0   41700.0            2                  0\n",
              "4    1     28.0   26100.0            0                  0"
            ],
            "text/html": [
              "\n",
              "  <div id=\"df-72cda66d-27fc-4aa5-893f-7ccbad266d1b\">\n",
              "    <div class=\"colab-df-container\">\n",
              "      <div>\n",
              "<style scoped>\n",
              "    .dataframe tbody tr th:only-of-type {\n",
              "        vertical-align: middle;\n",
              "    }\n",
              "\n",
              "    .dataframe tbody tr th {\n",
              "        vertical-align: top;\n",
              "    }\n",
              "\n",
              "    .dataframe thead th {\n",
              "        text-align: right;\n",
              "    }\n",
              "</style>\n",
              "<table border=\"1\" class=\"dataframe\">\n",
              "  <thead>\n",
              "    <tr style=\"text-align: right;\">\n",
              "      <th></th>\n",
              "      <th>Пол</th>\n",
              "      <th>Возраст</th>\n",
              "      <th>Зарплата</th>\n",
              "      <th>Члены семьи</th>\n",
              "      <th>Страховые выплаты</th>\n",
              "    </tr>\n",
              "  </thead>\n",
              "  <tbody>\n",
              "    <tr>\n",
              "      <th>0</th>\n",
              "      <td>1</td>\n",
              "      <td>41.0</td>\n",
              "      <td>49600.0</td>\n",
              "      <td>1</td>\n",
              "      <td>0</td>\n",
              "    </tr>\n",
              "    <tr>\n",
              "      <th>1</th>\n",
              "      <td>0</td>\n",
              "      <td>46.0</td>\n",
              "      <td>38000.0</td>\n",
              "      <td>1</td>\n",
              "      <td>1</td>\n",
              "    </tr>\n",
              "    <tr>\n",
              "      <th>2</th>\n",
              "      <td>0</td>\n",
              "      <td>29.0</td>\n",
              "      <td>21000.0</td>\n",
              "      <td>0</td>\n",
              "      <td>0</td>\n",
              "    </tr>\n",
              "    <tr>\n",
              "      <th>3</th>\n",
              "      <td>0</td>\n",
              "      <td>21.0</td>\n",
              "      <td>41700.0</td>\n",
              "      <td>2</td>\n",
              "      <td>0</td>\n",
              "    </tr>\n",
              "    <tr>\n",
              "      <th>4</th>\n",
              "      <td>1</td>\n",
              "      <td>28.0</td>\n",
              "      <td>26100.0</td>\n",
              "      <td>0</td>\n",
              "      <td>0</td>\n",
              "    </tr>\n",
              "  </tbody>\n",
              "</table>\n",
              "</div>\n",
              "      <button class=\"colab-df-convert\" onclick=\"convertToInteractive('df-72cda66d-27fc-4aa5-893f-7ccbad266d1b')\"\n",
              "              title=\"Convert this dataframe to an interactive table.\"\n",
              "              style=\"display:none;\">\n",
              "        \n",
              "  <svg xmlns=\"http://www.w3.org/2000/svg\" height=\"24px\"viewBox=\"0 0 24 24\"\n",
              "       width=\"24px\">\n",
              "    <path d=\"M0 0h24v24H0V0z\" fill=\"none\"/>\n",
              "    <path d=\"M18.56 5.44l.94 2.06.94-2.06 2.06-.94-2.06-.94-.94-2.06-.94 2.06-2.06.94zm-11 1L8.5 8.5l.94-2.06 2.06-.94-2.06-.94L8.5 2.5l-.94 2.06-2.06.94zm10 10l.94 2.06.94-2.06 2.06-.94-2.06-.94-.94-2.06-.94 2.06-2.06.94z\"/><path d=\"M17.41 7.96l-1.37-1.37c-.4-.4-.92-.59-1.43-.59-.52 0-1.04.2-1.43.59L10.3 9.45l-7.72 7.72c-.78.78-.78 2.05 0 2.83L4 21.41c.39.39.9.59 1.41.59.51 0 1.02-.2 1.41-.59l7.78-7.78 2.81-2.81c.8-.78.8-2.07 0-2.86zM5.41 20L4 18.59l7.72-7.72 1.47 1.35L5.41 20z\"/>\n",
              "  </svg>\n",
              "      </button>\n",
              "      \n",
              "  <style>\n",
              "    .colab-df-container {\n",
              "      display:flex;\n",
              "      flex-wrap:wrap;\n",
              "      gap: 12px;\n",
              "    }\n",
              "\n",
              "    .colab-df-convert {\n",
              "      background-color: #E8F0FE;\n",
              "      border: none;\n",
              "      border-radius: 50%;\n",
              "      cursor: pointer;\n",
              "      display: none;\n",
              "      fill: #1967D2;\n",
              "      height: 32px;\n",
              "      padding: 0 0 0 0;\n",
              "      width: 32px;\n",
              "    }\n",
              "\n",
              "    .colab-df-convert:hover {\n",
              "      background-color: #E2EBFA;\n",
              "      box-shadow: 0px 1px 2px rgba(60, 64, 67, 0.3), 0px 1px 3px 1px rgba(60, 64, 67, 0.15);\n",
              "      fill: #174EA6;\n",
              "    }\n",
              "\n",
              "    [theme=dark] .colab-df-convert {\n",
              "      background-color: #3B4455;\n",
              "      fill: #D2E3FC;\n",
              "    }\n",
              "\n",
              "    [theme=dark] .colab-df-convert:hover {\n",
              "      background-color: #434B5C;\n",
              "      box-shadow: 0px 1px 3px 1px rgba(0, 0, 0, 0.15);\n",
              "      filter: drop-shadow(0px 1px 2px rgba(0, 0, 0, 0.3));\n",
              "      fill: #FFFFFF;\n",
              "    }\n",
              "  </style>\n",
              "\n",
              "      <script>\n",
              "        const buttonEl =\n",
              "          document.querySelector('#df-72cda66d-27fc-4aa5-893f-7ccbad266d1b button.colab-df-convert');\n",
              "        buttonEl.style.display =\n",
              "          google.colab.kernel.accessAllowed ? 'block' : 'none';\n",
              "\n",
              "        async function convertToInteractive(key) {\n",
              "          const element = document.querySelector('#df-72cda66d-27fc-4aa5-893f-7ccbad266d1b');\n",
              "          const dataTable =\n",
              "            await google.colab.kernel.invokeFunction('convertToInteractive',\n",
              "                                                     [key], {});\n",
              "          if (!dataTable) return;\n",
              "\n",
              "          const docLinkHtml = 'Like what you see? Visit the ' +\n",
              "            '<a target=\"_blank\" href=https://colab.research.google.com/notebooks/data_table.ipynb>data table notebook</a>'\n",
              "            + ' to learn more about interactive tables.';\n",
              "          element.innerHTML = '';\n",
              "          dataTable['output_type'] = 'display_data';\n",
              "          await google.colab.output.renderOutput(dataTable, element);\n",
              "          const docLink = document.createElement('div');\n",
              "          docLink.innerHTML = docLinkHtml;\n",
              "          element.appendChild(docLink);\n",
              "        }\n",
              "      </script>\n",
              "    </div>\n",
              "  </div>\n",
              "  "
            ]
          },
          "metadata": {},
          "execution_count": 4
        }
      ],
      "source": [
        "df.head()"
      ]
    },
    {
      "cell_type": "code",
      "execution_count": 5,
      "id": "960a49b0",
      "metadata": {
        "colab": {
          "base_uri": "https://localhost:8080/"
        },
        "id": "960a49b0",
        "outputId": "eb5c7431-1b10-4a4b-f69f-738dc4618eaf"
      },
      "outputs": [
        {
          "output_type": "stream",
          "name": "stdout",
          "text": [
            "<class 'pandas.core.frame.DataFrame'>\n",
            "RangeIndex: 5000 entries, 0 to 4999\n",
            "Data columns (total 5 columns):\n",
            " #   Column             Non-Null Count  Dtype  \n",
            "---  ------             --------------  -----  \n",
            " 0   Пол                5000 non-null   int64  \n",
            " 1   Возраст            5000 non-null   float64\n",
            " 2   Зарплата           5000 non-null   float64\n",
            " 3   Члены семьи        5000 non-null   int64  \n",
            " 4   Страховые выплаты  5000 non-null   int64  \n",
            "dtypes: float64(2), int64(3)\n",
            "memory usage: 195.4 KB\n"
          ]
        }
      ],
      "source": [
        "df.info()"
      ]
    },
    {
      "cell_type": "markdown",
      "id": "d3d4928b",
      "metadata": {
        "id": "d3d4928b"
      },
      "source": [
        "Загруженный датафрейм содержит 5000 объектов с персональной информацией клиентов и содержит следующие проблемы:  \n",
        "- признаки называются Кириллицей;\n",
        "- тип хранения данных в столбцах `Возраст` и `Зарплата` может быть заменен на `int` без потери точности модели машинного обучения, но для уменьшения времени ее работы.\n",
        "\n",
        "Согласно заданию, признаки следующие: пол, возраст и зарплата застрахованного, количество членов его семьи, а целевой признак -  количество страховых выплат.\n",
        "Определим указанные признаки в соответствующие переменные и переименуем их для дальнейшего удобства работы.\n",
        "А также исправим тип хранения данных."
      ]
    },
    {
      "cell_type": "code",
      "execution_count": 6,
      "id": "004b24ab",
      "metadata": {
        "scrolled": true,
        "colab": {
          "base_uri": "https://localhost:8080/",
          "height": 206
        },
        "id": "004b24ab",
        "outputId": "7adbb709-a282-4074-83b1-c4e972b5946f"
      },
      "outputs": [
        {
          "output_type": "execute_result",
          "data": {
            "text/plain": [
              "   gender  age  income  family_size  ins_payments\n",
              "0       1   41   49600            1             0\n",
              "1       0   46   38000            1             1\n",
              "2       0   29   21000            0             0\n",
              "3       0   21   41700            2             0\n",
              "4       1   28   26100            0             0"
            ],
            "text/html": [
              "\n",
              "  <div id=\"df-a9e98290-eeda-4772-b2f3-0b1d7348d31d\">\n",
              "    <div class=\"colab-df-container\">\n",
              "      <div>\n",
              "<style scoped>\n",
              "    .dataframe tbody tr th:only-of-type {\n",
              "        vertical-align: middle;\n",
              "    }\n",
              "\n",
              "    .dataframe tbody tr th {\n",
              "        vertical-align: top;\n",
              "    }\n",
              "\n",
              "    .dataframe thead th {\n",
              "        text-align: right;\n",
              "    }\n",
              "</style>\n",
              "<table border=\"1\" class=\"dataframe\">\n",
              "  <thead>\n",
              "    <tr style=\"text-align: right;\">\n",
              "      <th></th>\n",
              "      <th>gender</th>\n",
              "      <th>age</th>\n",
              "      <th>income</th>\n",
              "      <th>family_size</th>\n",
              "      <th>ins_payments</th>\n",
              "    </tr>\n",
              "  </thead>\n",
              "  <tbody>\n",
              "    <tr>\n",
              "      <th>0</th>\n",
              "      <td>1</td>\n",
              "      <td>41</td>\n",
              "      <td>49600</td>\n",
              "      <td>1</td>\n",
              "      <td>0</td>\n",
              "    </tr>\n",
              "    <tr>\n",
              "      <th>1</th>\n",
              "      <td>0</td>\n",
              "      <td>46</td>\n",
              "      <td>38000</td>\n",
              "      <td>1</td>\n",
              "      <td>1</td>\n",
              "    </tr>\n",
              "    <tr>\n",
              "      <th>2</th>\n",
              "      <td>0</td>\n",
              "      <td>29</td>\n",
              "      <td>21000</td>\n",
              "      <td>0</td>\n",
              "      <td>0</td>\n",
              "    </tr>\n",
              "    <tr>\n",
              "      <th>3</th>\n",
              "      <td>0</td>\n",
              "      <td>21</td>\n",
              "      <td>41700</td>\n",
              "      <td>2</td>\n",
              "      <td>0</td>\n",
              "    </tr>\n",
              "    <tr>\n",
              "      <th>4</th>\n",
              "      <td>1</td>\n",
              "      <td>28</td>\n",
              "      <td>26100</td>\n",
              "      <td>0</td>\n",
              "      <td>0</td>\n",
              "    </tr>\n",
              "  </tbody>\n",
              "</table>\n",
              "</div>\n",
              "      <button class=\"colab-df-convert\" onclick=\"convertToInteractive('df-a9e98290-eeda-4772-b2f3-0b1d7348d31d')\"\n",
              "              title=\"Convert this dataframe to an interactive table.\"\n",
              "              style=\"display:none;\">\n",
              "        \n",
              "  <svg xmlns=\"http://www.w3.org/2000/svg\" height=\"24px\"viewBox=\"0 0 24 24\"\n",
              "       width=\"24px\">\n",
              "    <path d=\"M0 0h24v24H0V0z\" fill=\"none\"/>\n",
              "    <path d=\"M18.56 5.44l.94 2.06.94-2.06 2.06-.94-2.06-.94-.94-2.06-.94 2.06-2.06.94zm-11 1L8.5 8.5l.94-2.06 2.06-.94-2.06-.94L8.5 2.5l-.94 2.06-2.06.94zm10 10l.94 2.06.94-2.06 2.06-.94-2.06-.94-.94-2.06-.94 2.06-2.06.94z\"/><path d=\"M17.41 7.96l-1.37-1.37c-.4-.4-.92-.59-1.43-.59-.52 0-1.04.2-1.43.59L10.3 9.45l-7.72 7.72c-.78.78-.78 2.05 0 2.83L4 21.41c.39.39.9.59 1.41.59.51 0 1.02-.2 1.41-.59l7.78-7.78 2.81-2.81c.8-.78.8-2.07 0-2.86zM5.41 20L4 18.59l7.72-7.72 1.47 1.35L5.41 20z\"/>\n",
              "  </svg>\n",
              "      </button>\n",
              "      \n",
              "  <style>\n",
              "    .colab-df-container {\n",
              "      display:flex;\n",
              "      flex-wrap:wrap;\n",
              "      gap: 12px;\n",
              "    }\n",
              "\n",
              "    .colab-df-convert {\n",
              "      background-color: #E8F0FE;\n",
              "      border: none;\n",
              "      border-radius: 50%;\n",
              "      cursor: pointer;\n",
              "      display: none;\n",
              "      fill: #1967D2;\n",
              "      height: 32px;\n",
              "      padding: 0 0 0 0;\n",
              "      width: 32px;\n",
              "    }\n",
              "\n",
              "    .colab-df-convert:hover {\n",
              "      background-color: #E2EBFA;\n",
              "      box-shadow: 0px 1px 2px rgba(60, 64, 67, 0.3), 0px 1px 3px 1px rgba(60, 64, 67, 0.15);\n",
              "      fill: #174EA6;\n",
              "    }\n",
              "\n",
              "    [theme=dark] .colab-df-convert {\n",
              "      background-color: #3B4455;\n",
              "      fill: #D2E3FC;\n",
              "    }\n",
              "\n",
              "    [theme=dark] .colab-df-convert:hover {\n",
              "      background-color: #434B5C;\n",
              "      box-shadow: 0px 1px 3px 1px rgba(0, 0, 0, 0.15);\n",
              "      filter: drop-shadow(0px 1px 2px rgba(0, 0, 0, 0.3));\n",
              "      fill: #FFFFFF;\n",
              "    }\n",
              "  </style>\n",
              "\n",
              "      <script>\n",
              "        const buttonEl =\n",
              "          document.querySelector('#df-a9e98290-eeda-4772-b2f3-0b1d7348d31d button.colab-df-convert');\n",
              "        buttonEl.style.display =\n",
              "          google.colab.kernel.accessAllowed ? 'block' : 'none';\n",
              "\n",
              "        async function convertToInteractive(key) {\n",
              "          const element = document.querySelector('#df-a9e98290-eeda-4772-b2f3-0b1d7348d31d');\n",
              "          const dataTable =\n",
              "            await google.colab.kernel.invokeFunction('convertToInteractive',\n",
              "                                                     [key], {});\n",
              "          if (!dataTable) return;\n",
              "\n",
              "          const docLinkHtml = 'Like what you see? Visit the ' +\n",
              "            '<a target=\"_blank\" href=https://colab.research.google.com/notebooks/data_table.ipynb>data table notebook</a>'\n",
              "            + ' to learn more about interactive tables.';\n",
              "          element.innerHTML = '';\n",
              "          dataTable['output_type'] = 'display_data';\n",
              "          await google.colab.output.renderOutput(dataTable, element);\n",
              "          const docLink = document.createElement('div');\n",
              "          docLink.innerHTML = docLinkHtml;\n",
              "          element.appendChild(docLink);\n",
              "        }\n",
              "      </script>\n",
              "    </div>\n",
              "  </div>\n",
              "  "
            ]
          },
          "metadata": {},
          "execution_count": 6
        }
      ],
      "source": [
        "X = ['gender', 'age', 'income', 'family_size']\n",
        "y = ['ins_payments']\n",
        "\n",
        "df.columns = X + y\n",
        "\n",
        "df['age'] = df['age'].astype('int')\n",
        "df['income'] = df['income'].astype('int')\n",
        "\n",
        "df.head()"
      ]
    },
    {
      "cell_type": "markdown",
      "id": "518542f4",
      "metadata": {
        "id": "518542f4"
      },
      "source": [
        "Проверим количество дубликатов в таблице."
      ]
    },
    {
      "cell_type": "code",
      "execution_count": 7,
      "id": "84345777",
      "metadata": {
        "colab": {
          "base_uri": "https://localhost:8080/"
        },
        "id": "84345777",
        "outputId": "8b5d644e-c2f9-4933-a28e-eac3f5fb4633"
      },
      "outputs": [
        {
          "output_type": "execute_result",
          "data": {
            "text/plain": [
              "0.0306"
            ]
          },
          "metadata": {},
          "execution_count": 7
        }
      ],
      "source": [
        "df.duplicated().sum() / len(df)"
      ]
    },
    {
      "cell_type": "markdown",
      "id": "71279774",
      "metadata": {
        "id": "71279774"
      },
      "source": [
        "Полученное значение не превосходит 3%. \n",
        "Удалим дубликаты соответсвующей функцией."
      ]
    },
    {
      "cell_type": "code",
      "execution_count": 8,
      "id": "3d2f9e11",
      "metadata": {
        "id": "3d2f9e11"
      },
      "outputs": [],
      "source": [
        "df = df.drop_duplicates().reset_index(drop=True)"
      ]
    },
    {
      "cell_type": "markdown",
      "id": "86703b12",
      "metadata": {
        "id": "86703b12"
      },
      "source": [
        "Проанализируем распределение признаков, построив гистограммы."
      ]
    },
    {
      "cell_type": "code",
      "execution_count": 9,
      "id": "bdba97fd",
      "metadata": {
        "scrolled": true,
        "colab": {
          "base_uri": "https://localhost:8080/",
          "height": 281
        },
        "id": "bdba97fd",
        "outputId": "2231d22e-8f38-4997-b01a-82e5c3cf9d9f"
      },
      "outputs": [
        {
          "output_type": "display_data",
          "data": {
            "text/plain": [
              "<Figure size 1440x288 with 5 Axes>"
            ],
            "image/png": "[encoded data removed]"
          },
          "metadata": {}
        }
      ],
      "source": [
        "df.hist(layout=(1, 5), figsize=(20, 4), bins=10)\n",
        "plt.show()"
      ]
    },
    {
      "cell_type": "markdown",
      "id": "7d6bdd43",
      "metadata": {
        "id": "7d6bdd43"
      },
      "source": [
        "По полученным графикам видно следующее:\n",
        "- распределение пользователей по половому признаку примерно одинаковое;\n",
        "- распределение возраста пользователей относится к Пуассоновому типу и не содержит аномально больших выбросов;\n",
        "- доход пользователей \"имеет\" нормальное распределение со средним значением около 40 000 у.е., а в рассматриваемой выборке отсутствуют выбросы;\n",
        "- распределение размера семьи так же не содержит аномальных значений;\n",
        "- распределение целевого признака показывает наличие существенного дисбаланса классов с существенным \"перевесом\" нулевых значений.  \n",
        "Последнее должно учитываться с учетом потребностей заказчика при разработке модели машинного обучения и выборе метрик ее качества, что выходит за рамки настоящего проекта."
      ]
    },
    {
      "cell_type": "markdown",
      "id": "55de51da",
      "metadata": {
        "id": "55de51da"
      },
      "source": [
        "# Умножение матриц"
      ]
    },
    {
      "cell_type": "markdown",
      "id": "b288c3df",
      "metadata": {
        "id": "b288c3df"
      },
      "source": [
        "По условиям задачи требуется ответить на вопрос:\n",
        "\n",
        "*Признаки умножают на обратимую матрицу. Изменится ли качество линейной регрессии?*\n",
        "\n",
        "Для ответа на него рассмотрим, как связаны параметры линейной регрессии в исходной задаче и в преобразованной.\n",
        "Так, предсказания находятся из формулы:\n",
        "\n",
        "$$\n",
        "a = Xw,\n",
        "$$\n",
        "где $a$ - вектор предсказаний, $X$ - матрица признаков с нулевым столбцом, отвечающим за смещение нуля, $w$ - вектор весов модели.  \n",
        "\n",
        "В этом случае задача обучения модели линейной регрессии сводится к нахождению такого вектора $w$, для которого средняя квадратичная ошибка $MSE$ между предсказаниями и целевыми признаками обучающей выборки $y$ имеет наименьшее значение:\n",
        "\n",
        "$$\n",
        "w = \\arg\\min_w MSE(Xw, y).      (1)\n",
        "$$\n",
        "\n",
        "Не сложно показать, что условие (1) достигается при выполнении следующего равенства:\n",
        "\n",
        "$$\n",
        "w = (X^T X)^{-1} X^T y.       (2)\n",
        "$$\n",
        "\n",
        "В случае, если признаки $Х$ умножить на обратимую матрицу $P$, равенство (2) примет вид:\n",
        "\n",
        "$$\n",
        "w_{P} = ((X P)^T X P)^{-1} (X P)^T y;\n",
        "$$\n",
        "$$\n",
        "w_{P} = (P^T X^T X P)^{-1} P^T X^T y;\n",
        "$$\n",
        "$$\n",
        "w_{P} = P^{-1} (X^T X)^{-1} (P^T)^{-1} P^T X^T y. (3)\n",
        "$$\n",
        "\n",
        "Учитывая, что $(P^T)^{-1} P^T = E$ и подставляя (2) в (3) получим:\n",
        "\n",
        "$$\n",
        "w_{P} = P^{-1} w\n",
        "$$\n",
        "\n",
        "Согласно приведенному выражению, умножение признаков на матрицу $P$ приведет к соответствующему умножению вектора весов на обратную матрицу $(P)^{-1}$.\n",
        "При этом, такое преобразование не влияет на метрику линейной регрессии поумлочанию - среднюю квадратичную ошибку, так как в этом случае она вычисляется согласно выражению:\n",
        "\n",
        "$$\n",
        "MSE(X P (P)^{-1}w, y) = MSE(X w, y).\n",
        "$$"
      ]
    },
    {
      "cell_type": "markdown",
      "id": "b6d81659",
      "metadata": {
        "id": "b6d81659"
      },
      "source": [
        "# Алгоритм преобразования"
      ]
    },
    {
      "cell_type": "markdown",
      "id": "153ab010",
      "metadata": {
        "id": "153ab010"
      },
      "source": [
        "В качестве алгоритма преобразования используем умножение на квадратную обратимую матрицу, элементы которой случайные."
      ]
    },
    {
      "cell_type": "code",
      "execution_count": 10,
      "id": "7624c62d",
      "metadata": {
        "scrolled": true,
        "id": "7624c62d"
      },
      "outputs": [],
      "source": [
        "mux_rnd = np.random.default_rng(26).random((len(X), len(X)))\n",
        "test = np.linalg.inv(mux_rnd)"
      ]
    },
    {
      "cell_type": "markdown",
      "id": "6c12ed09",
      "metadata": {
        "id": "6c12ed09"
      },
      "source": [
        "Ошибки нет, значит матрица обратима.\n",
        "\n",
        "Произведем умножение признаков и обучение модели линейной регрессии для оригинальных значений и модифицированных.\n",
        "В качестве метрики качества используем коэффициент детерминации R2, который является вариацией средней квадратичной ошибки."
      ]
    },
    {
      "cell_type": "code",
      "execution_count": 11,
      "id": "4000c90f",
      "metadata": {
        "id": "4000c90f"
      },
      "outputs": [],
      "source": [
        "def fit_r2(X):\n",
        "    model.fit(X, df[y])\n",
        "    t = model.predict(X)\n",
        "    return r2_score(df[y], t)"
      ]
    },
    {
      "cell_type": "code",
      "execution_count": 12,
      "id": "b00cb239",
      "metadata": {
        "colab": {
          "base_uri": "https://localhost:8080/"
        },
        "id": "b00cb239",
        "outputId": "cacf6c64-1e22-400d-cb3e-ea60d147ecb7"
      },
      "outputs": [
        {
          "output_type": "execute_result",
          "data": {
            "text/plain": [
              "(0.4302010046633359, 0.43020100466332534)"
            ]
          },
          "metadata": {},
          "execution_count": 12
        }
      ],
      "source": [
        "X_muxed = df[X] @ mux_rnd\n",
        "\n",
        "model = LinearRegression()\n",
        "\n",
        "fit_r2(df[X]), fit_r2(X_muxed)"
      ]
    },
    {
      "cell_type": "markdown",
      "id": "6b9ef579",
      "metadata": {
        "id": "6b9ef579"
      },
      "source": [
        "Полученные значения коэффициентов совпадают с точностью менее 0,01%, что обуславливается аппаратными ограничениями вычислительных методов, а не снижением качества обучения модели линейной регрессии.  "
      ]
    },
    {
      "cell_type": "markdown",
      "id": "a86fa66e",
      "metadata": {
        "id": "a86fa66e"
      },
      "source": [
        "# Заключение\n",
        "Проведен анализ датафрейма с персональной информацией клиентов компании «Хоть потоп».\n",
        "В результате анализа исправлены наименования столбцов, типы хранения данных и удалены дубликаты.\n",
        "Кроме того, показан существенный дисбаланса классов с \"перевесом\" нулевых значений целевого признака, что должно учитываться с учетом потребностей заказчика при разработке модели машинного обучения.\n",
        "\n",
        "Аналитически показано отсутсвие влияния умножения матрицы с признаками на обратимую матрицу на метрику линейной регрессии - среднюю квадратичную ошибку.\n",
        "На основе указанного доказательства предложен метод преобразования данных в виде умножения на квадратную обратимую матрицу, элементы которой случайные.\n",
        "Корректность метода подтверждена моделированием, результаты которого идентичны для модели с модифицированными значениями признаков и нет."
      ]
    }
  ],
  "metadata": {
    "ExecuteTimeLog": [
      {
        "duration": 1711,
        "start_time": "2022-07-06T19:03:39.799Z"
      },
      {
        "duration": 88,
        "start_time": "2022-07-06T19:03:41.516Z"
      },
      {
        "duration": 19,
        "start_time": "2022-07-06T19:03:41.606Z"
      },
      {
        "duration": 12,
        "start_time": "2022-07-06T19:03:41.628Z"
      },
      {
        "duration": 11,
        "start_time": "2022-07-06T19:03:41.641Z"
      },
      {
        "duration": 11,
        "start_time": "2022-07-06T19:03:41.653Z"
      },
      {
        "duration": 8,
        "start_time": "2022-07-06T19:03:41.666Z"
      },
      {
        "duration": 651,
        "start_time": "2022-07-06T19:03:41.675Z"
      },
      {
        "duration": 7,
        "start_time": "2022-07-06T19:03:42.328Z"
      },
      {
        "duration": 182,
        "start_time": "2022-07-06T19:03:42.340Z"
      },
      {
        "duration": 79,
        "start_time": "2022-07-06T19:03:42.524Z"
      }
    ],
    "kernelspec": {
      "display_name": "Python 3 (ipykernel)",
      "language": "python",
      "name": "python3"
    },
    "language_info": {
      "codemirror_mode": {
        "name": "ipython",
        "version": 3
      },
      "file_extension": ".py",
      "mimetype": "text/x-python",
      "name": "python",
      "nbconvert_exporter": "python",
      "pygments_lexer": "ipython3",
      "version": "3.7.8"
    },
    "toc": {
      "base_numbering": 1,
      "nav_menu": {},
      "number_sections": true,
      "sideBar": true,
      "skip_h1_title": false,
      "title_cell": "Table of Contents",
      "title_sidebar": "Contents",
      "toc_cell": false,
      "toc_position": {
        "height": "calc(100% - 180px)",
        "left": "10px",
        "top": "150px",
        "width": "307.2px"
      },
      "toc_section_display": true,
      "toc_window_display": true
    },
    "colab": {
      "name": "deli_proj_pract_10_matrix_v2_0.ipynb",
      "provenance": [],
      "collapsed_sections": [],
      "toc_visible": true,
      "include_colab_link": true
    }
  },
  "nbformat": 4,
  "nbformat_minor": 5
}
