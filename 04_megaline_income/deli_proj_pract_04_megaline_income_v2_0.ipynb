{
  "cells": [
    {
      "cell_type": "markdown",
      "metadata": {
        "id": "view-in-github",
        "colab_type": "text"
      },
      "source": [
        "<a href=\"https://colab.research.google.com/github/DEli-26/DS_Practicum/blob/main/04_megaline_income/deli_proj_pract_04_megaline_income_v2_0.ipynb\" target=\"_parent\"><img src=\"https://colab.research.google.com/assets/colab-badge.svg\" alt=\"Open In Colab\"/></a>"
      ]
    },
    {
      "cell_type": "markdown",
      "id": "61299a66",
      "metadata": {
        "id": "61299a66"
      },
      "source": [
        "<font size=6><b>**Проект Я.Практикум №4**</b></font>\n",
        "\n",
        "<font size=6><b>**Мегалайн. Доход**</b></font>\n",
        "\n",
        "***"
      ]
    },
    {
      "cell_type": "markdown",
      "id": "ad9801b8",
      "metadata": {
        "id": "ad9801b8"
      },
      "source": [
        "# Постановка задачи"
      ]
    },
    {
      "cell_type": "markdown",
      "id": "c9c15c48",
      "metadata": {
        "id": "c9c15c48"
      },
      "source": [
        "**Заказчик:** Коммерческий департамент компании «Мегалайн» — федерального оператора сотовой связи. \n",
        "\n",
        "**Цель:** определить, какой тариф приносит больше денег - «Смарт» или «Ультра», что позволит скорректировать рекламный бюджет.\n",
        "\n",
        "**Задачи:** \n",
        "1. выполнить предварительный анализ тарифов на небольшой выборке клиентов;\n",
        "1. проанализировать поведение клиентов и сделать вывод — какой тариф лучше.\n",
        "\n",
        "**Исходные данные:** данные 500 пользователей «Мегалайна»: кто они, откуда, каким тарифом пользуются, сколько звонков и сообщений каждый отправил за 2018 год. \n",
        "\n",
        "Описание тарифов\n",
        "\n",
        "|                              | Тариф «Смарт» | Тариф «Ультра» |\n",
        "| :----------------------      | ------------- | -------------- |\n",
        "| Ежемесячная плата, руб       | 550           | 1950           |\n",
        "| **Включено в тариф:**\n",
        "| Минут разговора, шт.     | 500 | 3000 |\n",
        "| Сообщений, шт.           | 50 | 1000 |\n",
        "| Интернет-трафик, Гб | 15 | 30 |\n",
        "| **Стоимость услуг сверх тарифного пакета:**\n",
        "| 1 минута разговора, руб. | 3 | 1 |\n",
        "| 1 сообщение, руб. | 3 | 1 |\n",
        "| 1 Гб интернет-трафика | 200 | 150 |\n",
        "\n",
        "Примечание:\n",
        "«Мегалайн» всегда округляет в большую сторону секунды разговора до минут, а мегабайты — до гигабайт. Каждый звонок округляется отдельно: даже если он длился всего 1 секунду, будет засчитан как 1 минута.\n",
        "Для веб-трафика отдельные сессии не считаются. Вместо этого общая сумма за месяц округляется в бо́льшую сторону. Если абонент использует 1025 мегабайт в этом месяце, с него возьмут плату за 2 гигабайта."
      ]
    },
    {
      "cell_type": "markdown",
      "id": "88c7359f",
      "metadata": {
        "id": "88c7359f"
      },
      "source": [
        "# Обзор данных"
      ]
    },
    {
      "cell_type": "markdown",
      "id": "999ff209",
      "metadata": {
        "id": "999ff209"
      },
      "source": [
        "## Загрузка библиотек и данных"
      ]
    },
    {
      "cell_type": "markdown",
      "id": "60c2141c",
      "metadata": {
        "id": "60c2141c"
      },
      "source": [
        "Загрузим библиотеки, необходимые для выполнения проекта"
      ]
    },
    {
      "cell_type": "code",
      "execution_count": null,
      "id": "103f4b15",
      "metadata": {
        "id": "103f4b15",
        "outputId": "c5e1e6c2-4efd-44ab-9a2c-078b51b0a1fd"
      },
      "outputs": [
        {
          "name": "stdout",
          "output_type": "stream",
          "text": [
            "Requirement already satisfied: nb_black in /opt/conda/lib/python3.9/site-packages (1.0.7)\n",
            "Requirement already satisfied: black>='19.3' in /opt/conda/lib/python3.9/site-packages (from nb_black) (22.3.0)\n",
            "Requirement already satisfied: ipython in /opt/conda/lib/python3.9/site-packages (from nb_black) (7.25.0)\n",
            "Requirement already satisfied: mypy-extensions>=0.4.3 in /opt/conda/lib/python3.9/site-packages (from black>='19.3'->nb_black) (0.4.3)\n",
            "Requirement already satisfied: typing-extensions>=3.10.0.0 in /opt/conda/lib/python3.9/site-packages (from black>='19.3'->nb_black) (4.1.1)\n",
            "Requirement already satisfied: pathspec>=0.9.0 in /opt/conda/lib/python3.9/site-packages (from black>='19.3'->nb_black) (0.9.0)\n",
            "Requirement already satisfied: tomli>=1.1.0 in /opt/conda/lib/python3.9/site-packages (from black>='19.3'->nb_black) (2.0.1)\n",
            "Requirement already satisfied: platformdirs>=2 in /opt/conda/lib/python3.9/site-packages (from black>='19.3'->nb_black) (2.5.2)\n",
            "Requirement already satisfied: click>=8.0.0 in /opt/conda/lib/python3.9/site-packages (from black>='19.3'->nb_black) (8.0.4)\n",
            "Requirement already satisfied: traitlets>=4.2 in /opt/conda/lib/python3.9/site-packages (from ipython->nb_black) (5.0.5)\n",
            "Requirement already satisfied: matplotlib-inline in /opt/conda/lib/python3.9/site-packages (from ipython->nb_black) (0.1.2)\n",
            "Requirement already satisfied: setuptools>=18.5 in /opt/conda/lib/python3.9/site-packages (from ipython->nb_black) (49.6.0.post20210108)\n",
            "Requirement already satisfied: pickleshare in /opt/conda/lib/python3.9/site-packages (from ipython->nb_black) (0.7.5)\n",
            "Requirement already satisfied: pexpect>4.3 in /opt/conda/lib/python3.9/site-packages (from ipython->nb_black) (4.8.0)\n",
            "Requirement already satisfied: prompt-toolkit!=3.0.0,!=3.0.1,<3.1.0,>=2.0.0 in /opt/conda/lib/python3.9/site-packages (from ipython->nb_black) (3.0.19)\n",
            "Requirement already satisfied: decorator in /opt/conda/lib/python3.9/site-packages (from ipython->nb_black) (5.0.9)\n",
            "Requirement already satisfied: backcall in /opt/conda/lib/python3.9/site-packages (from ipython->nb_black) (0.2.0)\n",
            "Requirement already satisfied: pygments in /opt/conda/lib/python3.9/site-packages (from ipython->nb_black) (2.9.0)\n",
            "Requirement already satisfied: jedi>=0.16 in /opt/conda/lib/python3.9/site-packages (from ipython->nb_black) (0.18.0)\n",
            "Requirement already satisfied: parso<0.9.0,>=0.8.0 in /opt/conda/lib/python3.9/site-packages (from jedi>=0.16->ipython->nb_black) (0.8.2)\n",
            "Requirement already satisfied: ptyprocess>=0.5 in /opt/conda/lib/python3.9/site-packages (from pexpect>4.3->ipython->nb_black) (0.7.0)\n",
            "Requirement already satisfied: wcwidth in /opt/conda/lib/python3.9/site-packages (from prompt-toolkit!=3.0.0,!=3.0.1,<3.1.0,>=2.0.0->ipython->nb_black) (0.2.5)\n",
            "Requirement already satisfied: ipython-genutils in /opt/conda/lib/python3.9/site-packages (from traitlets>=4.2->ipython->nb_black) (0.2.0)\n"
          ]
        },
        {
          "data": {
            "application/javascript": [
              "\n",
              "            setTimeout(function() {\n",
              "                var nbb_cell_id = 1;\n",
              "                var nbb_unformatted_code = \"!pip install nb_black\\n\\n%load_ext nb_black\\nimport pandas as pd\\nimport seaborn as sns\\nimport matplotlib.pyplot as plt\\nimport random\\nimport numpy as np\\nimport math\\nfrom scipy import stats as st\\n\\n# \\u043e\\u0442\\u043e\\u0431\\u0440\\u0430\\u0436\\u0435\\u043d\\u0438\\u0435 \\u0442\\u0430\\u0431\\u043b\\u0438\\u0446 \\u0431\\u0435\\u0437 \\u043e\\u0433\\u0440\\u0430\\u043d\\u0438\\u0447\\u0435\\u043d\\u0438\\u044f \\u043d\\u0430 \\u043a\\u043e\\u043b\\u0438\\u0447\\u0435\\u0441\\u0442\\u0432\\u043e \\u0441\\u0442\\u043e\\u043b\\u0431\\u0446\\u043e\\u0432:\\npd.set_option(\\\"display.max_columns\\\", None)\";\n",
              "                var nbb_formatted_code = \"!pip install nb_black\\n\\n%load_ext nb_black\\nimport pandas as pd\\nimport seaborn as sns\\nimport matplotlib.pyplot as plt\\nimport random\\nimport numpy as np\\nimport math\\nfrom scipy import stats as st\\n\\n# \\u043e\\u0442\\u043e\\u0431\\u0440\\u0430\\u0436\\u0435\\u043d\\u0438\\u0435 \\u0442\\u0430\\u0431\\u043b\\u0438\\u0446 \\u0431\\u0435\\u0437 \\u043e\\u0433\\u0440\\u0430\\u043d\\u0438\\u0447\\u0435\\u043d\\u0438\\u044f \\u043d\\u0430 \\u043a\\u043e\\u043b\\u0438\\u0447\\u0435\\u0441\\u0442\\u0432\\u043e \\u0441\\u0442\\u043e\\u043b\\u0431\\u0446\\u043e\\u0432:\\npd.set_option(\\\"display.max_columns\\\", None)\";\n",
              "                var nbb_cells = Jupyter.notebook.get_cells();\n",
              "                for (var i = 0; i < nbb_cells.length; ++i) {\n",
              "                    if (nbb_cells[i].input_prompt_number == nbb_cell_id) {\n",
              "                        if (nbb_cells[i].get_text() == nbb_unformatted_code) {\n",
              "                             nbb_cells[i].set_text(nbb_formatted_code);\n",
              "                        }\n",
              "                        break;\n",
              "                    }\n",
              "                }\n",
              "            }, 500);\n",
              "            "
            ],
            "text/plain": [
              "<IPython.core.display.Javascript object>"
            ]
          },
          "metadata": {},
          "output_type": "display_data"
        }
      ],
      "source": [
        "!pip install nb_black\n",
        "\n",
        "%load_ext nb_black\n",
        "import pandas as pd\n",
        "import seaborn as sns\n",
        "import matplotlib.pyplot as plt\n",
        "import random\n",
        "import numpy as np\n",
        "import math\n",
        "from scipy import stats as st\n",
        "\n",
        "# отображение таблиц без ограничения на количество столбцов:\n",
        "pd.set_option(\"display.max_columns\", None)"
      ]
    },
    {
      "cell_type": "markdown",
      "id": "fd0a6aa5",
      "metadata": {
        "id": "fd0a6aa5"
      },
      "source": [
        "Исходные данные находятся в 5 файлах."
      ]
    },
    {
      "cell_type": "markdown",
      "source": [
        "-- Здесь был код загрузки данных из Google Drive --"
      ],
      "metadata": {
        "id": "nAGA_R4jfY1_"
      },
      "id": "nAGA_R4jfY1_"
    },
    {
      "cell_type": "markdown",
      "id": "c8e40f5d",
      "metadata": {
        "id": "c8e40f5d"
      },
      "source": [
        "## Таблица calls"
      ]
    },
    {
      "cell_type": "markdown",
      "id": "d44c7d78",
      "metadata": {
        "id": "d44c7d78"
      },
      "source": [
        "Откроем первые 5 строк, а также общую информацию."
      ]
    },
    {
      "cell_type": "code",
      "execution_count": null,
      "id": "aa919534",
      "metadata": {
        "id": "aa919534",
        "outputId": "d81316a2-5376-41f6-c678-b8e432246679"
      },
      "outputs": [
        {
          "data": {
            "text/html": [
              "<div>\n",
              "<style scoped>\n",
              "    .dataframe tbody tr th:only-of-type {\n",
              "        vertical-align: middle;\n",
              "    }\n",
              "\n",
              "    .dataframe tbody tr th {\n",
              "        vertical-align: top;\n",
              "    }\n",
              "\n",
              "    .dataframe thead th {\n",
              "        text-align: right;\n",
              "    }\n",
              "</style>\n",
              "<table border=\"1\" class=\"dataframe\">\n",
              "  <thead>\n",
              "    <tr style=\"text-align: right;\">\n",
              "      <th></th>\n",
              "      <th>id</th>\n",
              "      <th>call_date</th>\n",
              "      <th>duration</th>\n",
              "      <th>user_id</th>\n",
              "    </tr>\n",
              "  </thead>\n",
              "  <tbody>\n",
              "    <tr>\n",
              "      <th>0</th>\n",
              "      <td>1000_0</td>\n",
              "      <td>2018-07-25</td>\n",
              "      <td>0.00</td>\n",
              "      <td>1000</td>\n",
              "    </tr>\n",
              "    <tr>\n",
              "      <th>1</th>\n",
              "      <td>1000_1</td>\n",
              "      <td>2018-08-17</td>\n",
              "      <td>0.00</td>\n",
              "      <td>1000</td>\n",
              "    </tr>\n",
              "    <tr>\n",
              "      <th>2</th>\n",
              "      <td>1000_2</td>\n",
              "      <td>2018-06-11</td>\n",
              "      <td>2.85</td>\n",
              "      <td>1000</td>\n",
              "    </tr>\n",
              "    <tr>\n",
              "      <th>3</th>\n",
              "      <td>1000_3</td>\n",
              "      <td>2018-09-21</td>\n",
              "      <td>13.80</td>\n",
              "      <td>1000</td>\n",
              "    </tr>\n",
              "    <tr>\n",
              "      <th>4</th>\n",
              "      <td>1000_4</td>\n",
              "      <td>2018-12-15</td>\n",
              "      <td>5.18</td>\n",
              "      <td>1000</td>\n",
              "    </tr>\n",
              "  </tbody>\n",
              "</table>\n",
              "</div>"
            ],
            "text/plain": [
              "       id   call_date  duration  user_id\n",
              "0  1000_0  2018-07-25      0.00     1000\n",
              "1  1000_1  2018-08-17      0.00     1000\n",
              "2  1000_2  2018-06-11      2.85     1000\n",
              "3  1000_3  2018-09-21     13.80     1000\n",
              "4  1000_4  2018-12-15      5.18     1000"
            ]
          },
          "execution_count": 3,
          "metadata": {},
          "output_type": "execute_result"
        },
        {
          "data": {
            "application/javascript": [
              "\n",
              "            setTimeout(function() {\n",
              "                var nbb_cell_id = 3;\n",
              "                var nbb_unformatted_code = \"calls.head()\";\n",
              "                var nbb_formatted_code = \"calls.head()\";\n",
              "                var nbb_cells = Jupyter.notebook.get_cells();\n",
              "                for (var i = 0; i < nbb_cells.length; ++i) {\n",
              "                    if (nbb_cells[i].input_prompt_number == nbb_cell_id) {\n",
              "                        if (nbb_cells[i].get_text() == nbb_unformatted_code) {\n",
              "                             nbb_cells[i].set_text(nbb_formatted_code);\n",
              "                        }\n",
              "                        break;\n",
              "                    }\n",
              "                }\n",
              "            }, 500);\n",
              "            "
            ],
            "text/plain": [
              "<IPython.core.display.Javascript object>"
            ]
          },
          "metadata": {},
          "output_type": "display_data"
        }
      ],
      "source": [
        "calls.head()"
      ]
    },
    {
      "cell_type": "code",
      "execution_count": null,
      "id": "7b198d43",
      "metadata": {
        "id": "7b198d43",
        "outputId": "5b2d64be-9fcd-4350-a122-6b22b23da688"
      },
      "outputs": [
        {
          "name": "stdout",
          "output_type": "stream",
          "text": [
            "<class 'pandas.core.frame.DataFrame'>\n",
            "RangeIndex: 202607 entries, 0 to 202606\n",
            "Data columns (total 4 columns):\n",
            " #   Column     Non-Null Count   Dtype  \n",
            "---  ------     --------------   -----  \n",
            " 0   id         202607 non-null  object \n",
            " 1   call_date  202607 non-null  object \n",
            " 2   duration   202607 non-null  float64\n",
            " 3   user_id    202607 non-null  int64  \n",
            "dtypes: float64(1), int64(1), object(2)\n",
            "memory usage: 6.2+ MB\n"
          ]
        },
        {
          "data": {
            "application/javascript": [
              "\n",
              "            setTimeout(function() {\n",
              "                var nbb_cell_id = 4;\n",
              "                var nbb_unformatted_code = \"calls.info()\";\n",
              "                var nbb_formatted_code = \"calls.info()\";\n",
              "                var nbb_cells = Jupyter.notebook.get_cells();\n",
              "                for (var i = 0; i < nbb_cells.length; ++i) {\n",
              "                    if (nbb_cells[i].input_prompt_number == nbb_cell_id) {\n",
              "                        if (nbb_cells[i].get_text() == nbb_unformatted_code) {\n",
              "                             nbb_cells[i].set_text(nbb_formatted_code);\n",
              "                        }\n",
              "                        break;\n",
              "                    }\n",
              "                }\n",
              "            }, 500);\n",
              "            "
            ],
            "text/plain": [
              "<IPython.core.display.Javascript object>"
            ]
          },
          "metadata": {},
          "output_type": "display_data"
        }
      ],
      "source": [
        "calls.info()"
      ]
    },
    {
      "cell_type": "markdown",
      "id": "a939b66c",
      "metadata": {
        "id": "a939b66c"
      },
      "source": [
        "**Описание данных в таблице calls (информация о звонках):**\n",
        "* id — уникальный номер звонка\n",
        "* call_date — дата звонка\n",
        "* duration — длительность звонка в минутах\n",
        "* user_id — идентификатор пользователя, сделавшего звонок"
      ]
    },
    {
      "cell_type": "markdown",
      "id": "6b68aed7",
      "metadata": {
        "id": "6b68aed7"
      },
      "source": [
        "## Таблица internet"
      ]
    },
    {
      "cell_type": "markdown",
      "id": "fda043cc",
      "metadata": {
        "id": "fda043cc"
      },
      "source": [
        "Откроем первые 5 строк, а также общую информацию."
      ]
    },
    {
      "cell_type": "code",
      "execution_count": null,
      "id": "c0115305",
      "metadata": {
        "id": "c0115305",
        "outputId": "edabaeab-25f0-43ca-9472-29e4a0b8095a"
      },
      "outputs": [
        {
          "data": {
            "text/html": [
              "<div>\n",
              "<style scoped>\n",
              "    .dataframe tbody tr th:only-of-type {\n",
              "        vertical-align: middle;\n",
              "    }\n",
              "\n",
              "    .dataframe tbody tr th {\n",
              "        vertical-align: top;\n",
              "    }\n",
              "\n",
              "    .dataframe thead th {\n",
              "        text-align: right;\n",
              "    }\n",
              "</style>\n",
              "<table border=\"1\" class=\"dataframe\">\n",
              "  <thead>\n",
              "    <tr style=\"text-align: right;\">\n",
              "      <th></th>\n",
              "      <th>Unnamed: 0</th>\n",
              "      <th>id</th>\n",
              "      <th>mb_used</th>\n",
              "      <th>session_date</th>\n",
              "      <th>user_id</th>\n",
              "    </tr>\n",
              "  </thead>\n",
              "  <tbody>\n",
              "    <tr>\n",
              "      <th>0</th>\n",
              "      <td>0</td>\n",
              "      <td>1000_0</td>\n",
              "      <td>112.95</td>\n",
              "      <td>2018-11-25</td>\n",
              "      <td>1000</td>\n",
              "    </tr>\n",
              "    <tr>\n",
              "      <th>1</th>\n",
              "      <td>1</td>\n",
              "      <td>1000_1</td>\n",
              "      <td>1052.81</td>\n",
              "      <td>2018-09-07</td>\n",
              "      <td>1000</td>\n",
              "    </tr>\n",
              "    <tr>\n",
              "      <th>2</th>\n",
              "      <td>2</td>\n",
              "      <td>1000_2</td>\n",
              "      <td>1197.26</td>\n",
              "      <td>2018-06-25</td>\n",
              "      <td>1000</td>\n",
              "    </tr>\n",
              "    <tr>\n",
              "      <th>3</th>\n",
              "      <td>3</td>\n",
              "      <td>1000_3</td>\n",
              "      <td>550.27</td>\n",
              "      <td>2018-08-22</td>\n",
              "      <td>1000</td>\n",
              "    </tr>\n",
              "    <tr>\n",
              "      <th>4</th>\n",
              "      <td>4</td>\n",
              "      <td>1000_4</td>\n",
              "      <td>302.56</td>\n",
              "      <td>2018-09-24</td>\n",
              "      <td>1000</td>\n",
              "    </tr>\n",
              "  </tbody>\n",
              "</table>\n",
              "</div>"
            ],
            "text/plain": [
              "   Unnamed: 0      id  mb_used session_date  user_id\n",
              "0           0  1000_0   112.95   2018-11-25     1000\n",
              "1           1  1000_1  1052.81   2018-09-07     1000\n",
              "2           2  1000_2  1197.26   2018-06-25     1000\n",
              "3           3  1000_3   550.27   2018-08-22     1000\n",
              "4           4  1000_4   302.56   2018-09-24     1000"
            ]
          },
          "execution_count": 5,
          "metadata": {},
          "output_type": "execute_result"
        },
        {
          "data": {
            "application/javascript": [
              "\n",
              "            setTimeout(function() {\n",
              "                var nbb_cell_id = 5;\n",
              "                var nbb_unformatted_code = \"internet.head()\";\n",
              "                var nbb_formatted_code = \"internet.head()\";\n",
              "                var nbb_cells = Jupyter.notebook.get_cells();\n",
              "                for (var i = 0; i < nbb_cells.length; ++i) {\n",
              "                    if (nbb_cells[i].input_prompt_number == nbb_cell_id) {\n",
              "                        if (nbb_cells[i].get_text() == nbb_unformatted_code) {\n",
              "                             nbb_cells[i].set_text(nbb_formatted_code);\n",
              "                        }\n",
              "                        break;\n",
              "                    }\n",
              "                }\n",
              "            }, 500);\n",
              "            "
            ],
            "text/plain": [
              "<IPython.core.display.Javascript object>"
            ]
          },
          "metadata": {},
          "output_type": "display_data"
        }
      ],
      "source": [
        "internet.head()"
      ]
    },
    {
      "cell_type": "code",
      "execution_count": null,
      "id": "fa1a5fc5",
      "metadata": {
        "id": "fa1a5fc5",
        "outputId": "0486dc93-f6b4-4884-fad1-163c0e7531e3"
      },
      "outputs": [
        {
          "name": "stdout",
          "output_type": "stream",
          "text": [
            "<class 'pandas.core.frame.DataFrame'>\n",
            "RangeIndex: 149396 entries, 0 to 149395\n",
            "Data columns (total 5 columns):\n",
            " #   Column        Non-Null Count   Dtype  \n",
            "---  ------        --------------   -----  \n",
            " 0   Unnamed: 0    149396 non-null  int64  \n",
            " 1   id            149396 non-null  object \n",
            " 2   mb_used       149396 non-null  float64\n",
            " 3   session_date  149396 non-null  object \n",
            " 4   user_id       149396 non-null  int64  \n",
            "dtypes: float64(1), int64(2), object(2)\n",
            "memory usage: 5.7+ MB\n"
          ]
        },
        {
          "data": {
            "application/javascript": [
              "\n",
              "            setTimeout(function() {\n",
              "                var nbb_cell_id = 6;\n",
              "                var nbb_unformatted_code = \"internet.info()\";\n",
              "                var nbb_formatted_code = \"internet.info()\";\n",
              "                var nbb_cells = Jupyter.notebook.get_cells();\n",
              "                for (var i = 0; i < nbb_cells.length; ++i) {\n",
              "                    if (nbb_cells[i].input_prompt_number == nbb_cell_id) {\n",
              "                        if (nbb_cells[i].get_text() == nbb_unformatted_code) {\n",
              "                             nbb_cells[i].set_text(nbb_formatted_code);\n",
              "                        }\n",
              "                        break;\n",
              "                    }\n",
              "                }\n",
              "            }, 500);\n",
              "            "
            ],
            "text/plain": [
              "<IPython.core.display.Javascript object>"
            ]
          },
          "metadata": {},
          "output_type": "display_data"
        }
      ],
      "source": [
        "internet.info()"
      ]
    },
    {
      "cell_type": "markdown",
      "id": "5ce0d697",
      "metadata": {
        "id": "5ce0d697"
      },
      "source": [
        "**Описание данных в таблице internet (информация об интернет-сессиях):**\n",
        "* id — уникальный номер сессии\n",
        "* mb_used — объём потраченного за сессию интернет-трафика (в мегабайтах)\n",
        "* session_date — дата интернет-сессии\n",
        "* user_id — идентификатор пользователя"
      ]
    },
    {
      "cell_type": "markdown",
      "id": "aa49166c",
      "metadata": {
        "id": "aa49166c"
      },
      "source": [
        "## Таблица messages"
      ]
    },
    {
      "cell_type": "markdown",
      "id": "2ba6b63a",
      "metadata": {
        "id": "2ba6b63a"
      },
      "source": [
        "Откроем первые 5 строк, а также общую информацию."
      ]
    },
    {
      "cell_type": "code",
      "execution_count": null,
      "id": "9fc312ec",
      "metadata": {
        "id": "9fc312ec",
        "outputId": "1596b24b-4c7a-4b95-cc6a-514599824c60"
      },
      "outputs": [
        {
          "data": {
            "text/html": [
              "<div>\n",
              "<style scoped>\n",
              "    .dataframe tbody tr th:only-of-type {\n",
              "        vertical-align: middle;\n",
              "    }\n",
              "\n",
              "    .dataframe tbody tr th {\n",
              "        vertical-align: top;\n",
              "    }\n",
              "\n",
              "    .dataframe thead th {\n",
              "        text-align: right;\n",
              "    }\n",
              "</style>\n",
              "<table border=\"1\" class=\"dataframe\">\n",
              "  <thead>\n",
              "    <tr style=\"text-align: right;\">\n",
              "      <th></th>\n",
              "      <th>id</th>\n",
              "      <th>message_date</th>\n",
              "      <th>user_id</th>\n",
              "    </tr>\n",
              "  </thead>\n",
              "  <tbody>\n",
              "    <tr>\n",
              "      <th>0</th>\n",
              "      <td>1000_0</td>\n",
              "      <td>2018-06-27</td>\n",
              "      <td>1000</td>\n",
              "    </tr>\n",
              "    <tr>\n",
              "      <th>1</th>\n",
              "      <td>1000_1</td>\n",
              "      <td>2018-10-08</td>\n",
              "      <td>1000</td>\n",
              "    </tr>\n",
              "    <tr>\n",
              "      <th>2</th>\n",
              "      <td>1000_2</td>\n",
              "      <td>2018-08-04</td>\n",
              "      <td>1000</td>\n",
              "    </tr>\n",
              "    <tr>\n",
              "      <th>3</th>\n",
              "      <td>1000_3</td>\n",
              "      <td>2018-06-16</td>\n",
              "      <td>1000</td>\n",
              "    </tr>\n",
              "    <tr>\n",
              "      <th>4</th>\n",
              "      <td>1000_4</td>\n",
              "      <td>2018-12-05</td>\n",
              "      <td>1000</td>\n",
              "    </tr>\n",
              "  </tbody>\n",
              "</table>\n",
              "</div>"
            ],
            "text/plain": [
              "       id message_date  user_id\n",
              "0  1000_0   2018-06-27     1000\n",
              "1  1000_1   2018-10-08     1000\n",
              "2  1000_2   2018-08-04     1000\n",
              "3  1000_3   2018-06-16     1000\n",
              "4  1000_4   2018-12-05     1000"
            ]
          },
          "execution_count": 7,
          "metadata": {},
          "output_type": "execute_result"
        },
        {
          "data": {
            "application/javascript": [
              "\n",
              "            setTimeout(function() {\n",
              "                var nbb_cell_id = 7;\n",
              "                var nbb_unformatted_code = \"messages.head()\";\n",
              "                var nbb_formatted_code = \"messages.head()\";\n",
              "                var nbb_cells = Jupyter.notebook.get_cells();\n",
              "                for (var i = 0; i < nbb_cells.length; ++i) {\n",
              "                    if (nbb_cells[i].input_prompt_number == nbb_cell_id) {\n",
              "                        if (nbb_cells[i].get_text() == nbb_unformatted_code) {\n",
              "                             nbb_cells[i].set_text(nbb_formatted_code);\n",
              "                        }\n",
              "                        break;\n",
              "                    }\n",
              "                }\n",
              "            }, 500);\n",
              "            "
            ],
            "text/plain": [
              "<IPython.core.display.Javascript object>"
            ]
          },
          "metadata": {},
          "output_type": "display_data"
        }
      ],
      "source": [
        "messages.head()"
      ]
    },
    {
      "cell_type": "code",
      "execution_count": null,
      "id": "e5540dba",
      "metadata": {
        "id": "e5540dba",
        "outputId": "8b11b59f-5cfa-4106-9df1-79ac654e5623"
      },
      "outputs": [
        {
          "name": "stdout",
          "output_type": "stream",
          "text": [
            "<class 'pandas.core.frame.DataFrame'>\n",
            "RangeIndex: 123036 entries, 0 to 123035\n",
            "Data columns (total 3 columns):\n",
            " #   Column        Non-Null Count   Dtype \n",
            "---  ------        --------------   ----- \n",
            " 0   id            123036 non-null  object\n",
            " 1   message_date  123036 non-null  object\n",
            " 2   user_id       123036 non-null  int64 \n",
            "dtypes: int64(1), object(2)\n",
            "memory usage: 2.8+ MB\n"
          ]
        },
        {
          "data": {
            "application/javascript": [
              "\n",
              "            setTimeout(function() {\n",
              "                var nbb_cell_id = 8;\n",
              "                var nbb_unformatted_code = \"messages.info()\";\n",
              "                var nbb_formatted_code = \"messages.info()\";\n",
              "                var nbb_cells = Jupyter.notebook.get_cells();\n",
              "                for (var i = 0; i < nbb_cells.length; ++i) {\n",
              "                    if (nbb_cells[i].input_prompt_number == nbb_cell_id) {\n",
              "                        if (nbb_cells[i].get_text() == nbb_unformatted_code) {\n",
              "                             nbb_cells[i].set_text(nbb_formatted_code);\n",
              "                        }\n",
              "                        break;\n",
              "                    }\n",
              "                }\n",
              "            }, 500);\n",
              "            "
            ],
            "text/plain": [
              "<IPython.core.display.Javascript object>"
            ]
          },
          "metadata": {},
          "output_type": "display_data"
        }
      ],
      "source": [
        "messages.info()"
      ]
    },
    {
      "cell_type": "markdown",
      "id": "b133c764",
      "metadata": {
        "id": "b133c764"
      },
      "source": [
        "**Описание данных в таблице messages (информация о сообщениях):**\n",
        "* id — уникальный номер сообщения\n",
        "* message_date — дата сообщения\n",
        "* user_id — идентификатор пользователя, отправившего сообщение"
      ]
    },
    {
      "cell_type": "markdown",
      "id": "71564d52",
      "metadata": {
        "id": "71564d52"
      },
      "source": [
        "## Таблица tariffs"
      ]
    },
    {
      "cell_type": "markdown",
      "id": "892c61fe",
      "metadata": {
        "id": "892c61fe"
      },
      "source": [
        "Откроем первые 5 строк, а также общую информацию."
      ]
    },
    {
      "cell_type": "code",
      "execution_count": null,
      "id": "137ca105",
      "metadata": {
        "id": "137ca105",
        "outputId": "962cf384-8291-402b-a97b-adb95c7b9068"
      },
      "outputs": [
        {
          "data": {
            "text/html": [
              "<div>\n",
              "<style scoped>\n",
              "    .dataframe tbody tr th:only-of-type {\n",
              "        vertical-align: middle;\n",
              "    }\n",
              "\n",
              "    .dataframe tbody tr th {\n",
              "        vertical-align: top;\n",
              "    }\n",
              "\n",
              "    .dataframe thead th {\n",
              "        text-align: right;\n",
              "    }\n",
              "</style>\n",
              "<table border=\"1\" class=\"dataframe\">\n",
              "  <thead>\n",
              "    <tr style=\"text-align: right;\">\n",
              "      <th></th>\n",
              "      <th>messages_included</th>\n",
              "      <th>mb_per_month_included</th>\n",
              "      <th>minutes_included</th>\n",
              "      <th>rub_monthly_fee</th>\n",
              "      <th>rub_per_gb</th>\n",
              "      <th>rub_per_message</th>\n",
              "      <th>rub_per_minute</th>\n",
              "      <th>tariff_name</th>\n",
              "    </tr>\n",
              "  </thead>\n",
              "  <tbody>\n",
              "    <tr>\n",
              "      <th>0</th>\n",
              "      <td>50</td>\n",
              "      <td>15360</td>\n",
              "      <td>500</td>\n",
              "      <td>550</td>\n",
              "      <td>200</td>\n",
              "      <td>3</td>\n",
              "      <td>3</td>\n",
              "      <td>smart</td>\n",
              "    </tr>\n",
              "    <tr>\n",
              "      <th>1</th>\n",
              "      <td>1000</td>\n",
              "      <td>30720</td>\n",
              "      <td>3000</td>\n",
              "      <td>1950</td>\n",
              "      <td>150</td>\n",
              "      <td>1</td>\n",
              "      <td>1</td>\n",
              "      <td>ultra</td>\n",
              "    </tr>\n",
              "  </tbody>\n",
              "</table>\n",
              "</div>"
            ],
            "text/plain": [
              "   messages_included  mb_per_month_included  minutes_included  \\\n",
              "0                 50                  15360               500   \n",
              "1               1000                  30720              3000   \n",
              "\n",
              "   rub_monthly_fee  rub_per_gb  rub_per_message  rub_per_minute tariff_name  \n",
              "0              550         200                3               3       smart  \n",
              "1             1950         150                1               1       ultra  "
            ]
          },
          "execution_count": 9,
          "metadata": {},
          "output_type": "execute_result"
        },
        {
          "data": {
            "application/javascript": [
              "\n",
              "            setTimeout(function() {\n",
              "                var nbb_cell_id = 9;\n",
              "                var nbb_unformatted_code = \"tariffs.head()\";\n",
              "                var nbb_formatted_code = \"tariffs.head()\";\n",
              "                var nbb_cells = Jupyter.notebook.get_cells();\n",
              "                for (var i = 0; i < nbb_cells.length; ++i) {\n",
              "                    if (nbb_cells[i].input_prompt_number == nbb_cell_id) {\n",
              "                        if (nbb_cells[i].get_text() == nbb_unformatted_code) {\n",
              "                             nbb_cells[i].set_text(nbb_formatted_code);\n",
              "                        }\n",
              "                        break;\n",
              "                    }\n",
              "                }\n",
              "            }, 500);\n",
              "            "
            ],
            "text/plain": [
              "<IPython.core.display.Javascript object>"
            ]
          },
          "metadata": {},
          "output_type": "display_data"
        }
      ],
      "source": [
        "tariffs.head()"
      ]
    },
    {
      "cell_type": "code",
      "execution_count": null,
      "id": "f2d33d05",
      "metadata": {
        "id": "f2d33d05",
        "outputId": "1de610a7-ac8d-4e37-ff25-ed0312705bec"
      },
      "outputs": [
        {
          "data": {
            "text/plain": [
              "0.0537109375"
            ]
          },
          "execution_count": 10,
          "metadata": {},
          "output_type": "execute_result"
        },
        {
          "data": {
            "application/javascript": [
              "\n",
              "            setTimeout(function() {\n",
              "                var nbb_cell_id = 10;\n",
              "                var nbb_unformatted_code = \"math.ceil(50 + 5) / 1024\";\n",
              "                var nbb_formatted_code = \"math.ceil(50 + 5) / 1024\";\n",
              "                var nbb_cells = Jupyter.notebook.get_cells();\n",
              "                for (var i = 0; i < nbb_cells.length; ++i) {\n",
              "                    if (nbb_cells[i].input_prompt_number == nbb_cell_id) {\n",
              "                        if (nbb_cells[i].get_text() == nbb_unformatted_code) {\n",
              "                             nbb_cells[i].set_text(nbb_formatted_code);\n",
              "                        }\n",
              "                        break;\n",
              "                    }\n",
              "                }\n",
              "            }, 500);\n",
              "            "
            ],
            "text/plain": [
              "<IPython.core.display.Javascript object>"
            ]
          },
          "metadata": {},
          "output_type": "display_data"
        }
      ],
      "source": [
        "math.ceil(50 + 5) / 1024"
      ]
    },
    {
      "cell_type": "code",
      "execution_count": null,
      "id": "73fc4f20",
      "metadata": {
        "id": "73fc4f20",
        "outputId": "4062fa12-ff00-4afb-e500-c0edb0031426"
      },
      "outputs": [
        {
          "name": "stdout",
          "output_type": "stream",
          "text": [
            "<class 'pandas.core.frame.DataFrame'>\n",
            "RangeIndex: 2 entries, 0 to 1\n",
            "Data columns (total 8 columns):\n",
            " #   Column                 Non-Null Count  Dtype \n",
            "---  ------                 --------------  ----- \n",
            " 0   messages_included      2 non-null      int64 \n",
            " 1   mb_per_month_included  2 non-null      int64 \n",
            " 2   minutes_included       2 non-null      int64 \n",
            " 3   rub_monthly_fee        2 non-null      int64 \n",
            " 4   rub_per_gb             2 non-null      int64 \n",
            " 5   rub_per_message        2 non-null      int64 \n",
            " 6   rub_per_minute         2 non-null      int64 \n",
            " 7   tariff_name            2 non-null      object\n",
            "dtypes: int64(7), object(1)\n",
            "memory usage: 256.0+ bytes\n"
          ]
        },
        {
          "data": {
            "application/javascript": [
              "\n",
              "            setTimeout(function() {\n",
              "                var nbb_cell_id = 11;\n",
              "                var nbb_unformatted_code = \"tariffs.info()\";\n",
              "                var nbb_formatted_code = \"tariffs.info()\";\n",
              "                var nbb_cells = Jupyter.notebook.get_cells();\n",
              "                for (var i = 0; i < nbb_cells.length; ++i) {\n",
              "                    if (nbb_cells[i].input_prompt_number == nbb_cell_id) {\n",
              "                        if (nbb_cells[i].get_text() == nbb_unformatted_code) {\n",
              "                             nbb_cells[i].set_text(nbb_formatted_code);\n",
              "                        }\n",
              "                        break;\n",
              "                    }\n",
              "                }\n",
              "            }, 500);\n",
              "            "
            ],
            "text/plain": [
              "<IPython.core.display.Javascript object>"
            ]
          },
          "metadata": {},
          "output_type": "display_data"
        }
      ],
      "source": [
        "tariffs.info()"
      ]
    },
    {
      "cell_type": "markdown",
      "id": "075b060c",
      "metadata": {
        "id": "075b060c"
      },
      "source": [
        "**Описание данных в таблице tariffs (информация о тарифах):**\n",
        "* tariff_name — название тарифа\n",
        "* rub_monthly_fee — ежемесячная абонентская плата в рублях\n",
        "* minutes_included — количество минут разговора в месяц, включённых в абонентскую плату\n",
        "* messages_included — количество сообщений в месяц, включённых в абонентскую плату\n",
        "* mb_per_month_included — объём интернет-трафика, включённого в абонентскую плату (в мегабайтах)\n",
        "* rub_per_minute — стоимость минуты разговора сверх тарифного пакета (например, если в тарифе 100 минут разговора в месяц, то со 101 минуты будет взиматься плата)\n",
        "* rub_per_message — стоимость отправки сообщения сверх тарифного пакета\n",
        "* rub_per_gb — стоимость дополнительного гигабайта интернет-трафика сверх тарифного пакета (1 гигабайт = 1024 мегабайта)"
      ]
    },
    {
      "cell_type": "markdown",
      "id": "d2a2190d",
      "metadata": {
        "id": "d2a2190d"
      },
      "source": [
        "## Таблица users"
      ]
    },
    {
      "cell_type": "markdown",
      "id": "b3a37c2c",
      "metadata": {
        "id": "b3a37c2c"
      },
      "source": [
        "Откроем первые 5 строк, а также общую информацию."
      ]
    },
    {
      "cell_type": "code",
      "execution_count": null,
      "id": "b9d5e9ee",
      "metadata": {
        "id": "b9d5e9ee",
        "outputId": "77257801-ac82-4712-fd40-cc60a2ebc4b4"
      },
      "outputs": [
        {
          "data": {
            "text/html": [
              "<div>\n",
              "<style scoped>\n",
              "    .dataframe tbody tr th:only-of-type {\n",
              "        vertical-align: middle;\n",
              "    }\n",
              "\n",
              "    .dataframe tbody tr th {\n",
              "        vertical-align: top;\n",
              "    }\n",
              "\n",
              "    .dataframe thead th {\n",
              "        text-align: right;\n",
              "    }\n",
              "</style>\n",
              "<table border=\"1\" class=\"dataframe\">\n",
              "  <thead>\n",
              "    <tr style=\"text-align: right;\">\n",
              "      <th></th>\n",
              "      <th>user_id</th>\n",
              "      <th>age</th>\n",
              "      <th>churn_date</th>\n",
              "      <th>city</th>\n",
              "      <th>first_name</th>\n",
              "      <th>last_name</th>\n",
              "      <th>reg_date</th>\n",
              "      <th>tariff</th>\n",
              "    </tr>\n",
              "  </thead>\n",
              "  <tbody>\n",
              "    <tr>\n",
              "      <th>0</th>\n",
              "      <td>1000</td>\n",
              "      <td>52</td>\n",
              "      <td>NaN</td>\n",
              "      <td>Краснодар</td>\n",
              "      <td>Рафаил</td>\n",
              "      <td>Верещагин</td>\n",
              "      <td>2018-05-25</td>\n",
              "      <td>ultra</td>\n",
              "    </tr>\n",
              "    <tr>\n",
              "      <th>1</th>\n",
              "      <td>1001</td>\n",
              "      <td>41</td>\n",
              "      <td>NaN</td>\n",
              "      <td>Москва</td>\n",
              "      <td>Иван</td>\n",
              "      <td>Ежов</td>\n",
              "      <td>2018-11-01</td>\n",
              "      <td>smart</td>\n",
              "    </tr>\n",
              "    <tr>\n",
              "      <th>2</th>\n",
              "      <td>1002</td>\n",
              "      <td>59</td>\n",
              "      <td>NaN</td>\n",
              "      <td>Стерлитамак</td>\n",
              "      <td>Евгений</td>\n",
              "      <td>Абрамович</td>\n",
              "      <td>2018-06-17</td>\n",
              "      <td>smart</td>\n",
              "    </tr>\n",
              "    <tr>\n",
              "      <th>3</th>\n",
              "      <td>1003</td>\n",
              "      <td>23</td>\n",
              "      <td>NaN</td>\n",
              "      <td>Москва</td>\n",
              "      <td>Белла</td>\n",
              "      <td>Белякова</td>\n",
              "      <td>2018-08-17</td>\n",
              "      <td>ultra</td>\n",
              "    </tr>\n",
              "    <tr>\n",
              "      <th>4</th>\n",
              "      <td>1004</td>\n",
              "      <td>68</td>\n",
              "      <td>NaN</td>\n",
              "      <td>Новокузнецк</td>\n",
              "      <td>Татьяна</td>\n",
              "      <td>Авдеенко</td>\n",
              "      <td>2018-05-14</td>\n",
              "      <td>ultra</td>\n",
              "    </tr>\n",
              "  </tbody>\n",
              "</table>\n",
              "</div>"
            ],
            "text/plain": [
              "   user_id  age churn_date         city first_name  last_name    reg_date  \\\n",
              "0     1000   52        NaN    Краснодар     Рафаил  Верещагин  2018-05-25   \n",
              "1     1001   41        NaN       Москва       Иван       Ежов  2018-11-01   \n",
              "2     1002   59        NaN  Стерлитамак    Евгений  Абрамович  2018-06-17   \n",
              "3     1003   23        NaN       Москва      Белла   Белякова  2018-08-17   \n",
              "4     1004   68        NaN  Новокузнецк    Татьяна   Авдеенко  2018-05-14   \n",
              "\n",
              "  tariff  \n",
              "0  ultra  \n",
              "1  smart  \n",
              "2  smart  \n",
              "3  ultra  \n",
              "4  ultra  "
            ]
          },
          "execution_count": 12,
          "metadata": {},
          "output_type": "execute_result"
        },
        {
          "data": {
            "application/javascript": [
              "\n",
              "            setTimeout(function() {\n",
              "                var nbb_cell_id = 12;\n",
              "                var nbb_unformatted_code = \"users.head()\";\n",
              "                var nbb_formatted_code = \"users.head()\";\n",
              "                var nbb_cells = Jupyter.notebook.get_cells();\n",
              "                for (var i = 0; i < nbb_cells.length; ++i) {\n",
              "                    if (nbb_cells[i].input_prompt_number == nbb_cell_id) {\n",
              "                        if (nbb_cells[i].get_text() == nbb_unformatted_code) {\n",
              "                             nbb_cells[i].set_text(nbb_formatted_code);\n",
              "                        }\n",
              "                        break;\n",
              "                    }\n",
              "                }\n",
              "            }, 500);\n",
              "            "
            ],
            "text/plain": [
              "<IPython.core.display.Javascript object>"
            ]
          },
          "metadata": {},
          "output_type": "display_data"
        }
      ],
      "source": [
        "users.head()"
      ]
    },
    {
      "cell_type": "code",
      "execution_count": null,
      "id": "5a99aa10",
      "metadata": {
        "id": "5a99aa10",
        "outputId": "fcd2df6b-acaa-43c5-e7cf-740f41efdff7"
      },
      "outputs": [
        {
          "name": "stdout",
          "output_type": "stream",
          "text": [
            "<class 'pandas.core.frame.DataFrame'>\n",
            "RangeIndex: 500 entries, 0 to 499\n",
            "Data columns (total 8 columns):\n",
            " #   Column      Non-Null Count  Dtype \n",
            "---  ------      --------------  ----- \n",
            " 0   user_id     500 non-null    int64 \n",
            " 1   age         500 non-null    int64 \n",
            " 2   churn_date  38 non-null     object\n",
            " 3   city        500 non-null    object\n",
            " 4   first_name  500 non-null    object\n",
            " 5   last_name   500 non-null    object\n",
            " 6   reg_date    500 non-null    object\n",
            " 7   tariff      500 non-null    object\n",
            "dtypes: int64(2), object(6)\n",
            "memory usage: 31.4+ KB\n"
          ]
        },
        {
          "data": {
            "application/javascript": [
              "\n",
              "            setTimeout(function() {\n",
              "                var nbb_cell_id = 13;\n",
              "                var nbb_unformatted_code = \"users.info()\";\n",
              "                var nbb_formatted_code = \"users.info()\";\n",
              "                var nbb_cells = Jupyter.notebook.get_cells();\n",
              "                for (var i = 0; i < nbb_cells.length; ++i) {\n",
              "                    if (nbb_cells[i].input_prompt_number == nbb_cell_id) {\n",
              "                        if (nbb_cells[i].get_text() == nbb_unformatted_code) {\n",
              "                             nbb_cells[i].set_text(nbb_formatted_code);\n",
              "                        }\n",
              "                        break;\n",
              "                    }\n",
              "                }\n",
              "            }, 500);\n",
              "            "
            ],
            "text/plain": [
              "<IPython.core.display.Javascript object>"
            ]
          },
          "metadata": {},
          "output_type": "display_data"
        }
      ],
      "source": [
        "users.info()"
      ]
    },
    {
      "cell_type": "markdown",
      "id": "329d604d",
      "metadata": {
        "id": "329d604d"
      },
      "source": [
        "**Описание данных в таблице users (информация о пользователях):**\n",
        "* user_id — уникальный идентификатор пользователя\n",
        "* first_name — имя пользователя\n",
        "* last_name — фамилия пользователя\n",
        "* age — возраст пользователя (годы)\n",
        "* reg_date — дата подключения тарифа (день, месяц, год)\n",
        "* churn_date — дата прекращения пользования тарифом (если значение пропущено, то тариф ещё действовал на момент выгрузки данных)\n",
        "* city — город проживания пользователя\n",
        "* tariff — название тарифного плана"
      ]
    },
    {
      "cell_type": "markdown",
      "id": "08caf3cb",
      "metadata": {
        "id": "08caf3cb"
      },
      "source": [
        "## Заключение по обзору данных"
      ]
    },
    {
      "cell_type": "markdown",
      "id": "92efeedd",
      "metadata": {
        "id": "92efeedd"
      },
      "source": [
        "Весь датасет разделен на 5 файлов, в которых содержатся таблицы с информацией соответственно о пользователях, о звонках, о сообщениях, об интернет-сессиях и о тарифах. \n",
        "\n",
        "В данных встречаются следующие ошибки:\n",
        "\n",
        "* неправильный тип для хранения дат в таблицах `calls`, `internet`, `messages`, `users`;\n",
        "* лишний столбец `Unnamed: 0` в таблице `internet`;\n",
        "\n",
        "Пропуски в столбце `churn_date` таблицы `users` не являются ошибкой, а означают действительность тарифа на момент выгрузки данных.\n",
        "\n",
        "Звонки с нулевой продолжительностью в таблице `calls` так же не ошибка: нулями обозначены пропущенные звонки, поэтому их не будем удалять.\n",
        "\n",
        "В каждой таблице есть столбец с уникальным идентификатором пользователя, а значит, они могут быть объединены в один dataframe. \n",
        "\n",
        "Чтобы двигаться дальше, нужно устранить перечисленные ошибки и провести группировку данных."
      ]
    },
    {
      "cell_type": "markdown",
      "id": "eccdc4cb",
      "metadata": {
        "id": "eccdc4cb"
      },
      "source": [
        "# Предобработка данных"
      ]
    },
    {
      "cell_type": "markdown",
      "id": "a4bba6d4",
      "metadata": {
        "id": "a4bba6d4"
      },
      "source": [
        "## Исправление ошибок в данных"
      ]
    },
    {
      "cell_type": "markdown",
      "id": "02113188",
      "metadata": {
        "id": "02113188"
      },
      "source": [
        "Тип данных исправим при помощи метода `to_datetime`. "
      ]
    },
    {
      "cell_type": "code",
      "execution_count": null,
      "id": "7f93bf54",
      "metadata": {
        "id": "7f93bf54",
        "outputId": "c95a0d02-823b-4b3b-e7c0-1022588447f1"
      },
      "outputs": [
        {
          "data": {
            "application/javascript": [
              "\n",
              "            setTimeout(function() {\n",
              "                var nbb_cell_id = 14;\n",
              "                var nbb_unformatted_code = \"calls[\\\"call_date\\\"] = pd.to_datetime(calls[\\\"call_date\\\"], format=\\\"%Y-%m-%dT%H:%M:%S\\\")\\ninternet[\\\"session_date\\\"] = pd.to_datetime(\\n    internet[\\\"session_date\\\"], format=\\\"%Y-%m-%dT%H:%M:%S\\\"\\n)\\nmessages[\\\"message_date\\\"] = pd.to_datetime(\\n    messages[\\\"message_date\\\"], format=\\\"%Y-%m-%dT%H:%M:%S\\\"\\n)\\nusers[\\\"churn_date\\\"] = pd.to_datetime(users[\\\"churn_date\\\"], format=\\\"%Y-%m-%dT%H:%M:%S\\\")\\nusers[\\\"reg_date\\\"] = pd.to_datetime(users[\\\"reg_date\\\"], format=\\\"%Y-%m-%dT%H:%M:%S\\\")\";\n",
              "                var nbb_formatted_code = \"calls[\\\"call_date\\\"] = pd.to_datetime(calls[\\\"call_date\\\"], format=\\\"%Y-%m-%dT%H:%M:%S\\\")\\ninternet[\\\"session_date\\\"] = pd.to_datetime(\\n    internet[\\\"session_date\\\"], format=\\\"%Y-%m-%dT%H:%M:%S\\\"\\n)\\nmessages[\\\"message_date\\\"] = pd.to_datetime(\\n    messages[\\\"message_date\\\"], format=\\\"%Y-%m-%dT%H:%M:%S\\\"\\n)\\nusers[\\\"churn_date\\\"] = pd.to_datetime(users[\\\"churn_date\\\"], format=\\\"%Y-%m-%dT%H:%M:%S\\\")\\nusers[\\\"reg_date\\\"] = pd.to_datetime(users[\\\"reg_date\\\"], format=\\\"%Y-%m-%dT%H:%M:%S\\\")\";\n",
              "                var nbb_cells = Jupyter.notebook.get_cells();\n",
              "                for (var i = 0; i < nbb_cells.length; ++i) {\n",
              "                    if (nbb_cells[i].input_prompt_number == nbb_cell_id) {\n",
              "                        if (nbb_cells[i].get_text() == nbb_unformatted_code) {\n",
              "                             nbb_cells[i].set_text(nbb_formatted_code);\n",
              "                        }\n",
              "                        break;\n",
              "                    }\n",
              "                }\n",
              "            }, 500);\n",
              "            "
            ],
            "text/plain": [
              "<IPython.core.display.Javascript object>"
            ]
          },
          "metadata": {},
          "output_type": "display_data"
        }
      ],
      "source": [
        "calls[\"call_date\"] = pd.to_datetime(calls[\"call_date\"], format=\"%Y-%m-%dT%H:%M:%S\")\n",
        "internet[\"session_date\"] = pd.to_datetime(\n",
        "    internet[\"session_date\"], format=\"%Y-%m-%dT%H:%M:%S\"\n",
        ")\n",
        "messages[\"message_date\"] = pd.to_datetime(\n",
        "    messages[\"message_date\"], format=\"%Y-%m-%dT%H:%M:%S\"\n",
        ")\n",
        "users[\"churn_date\"] = pd.to_datetime(users[\"churn_date\"], format=\"%Y-%m-%dT%H:%M:%S\")\n",
        "users[\"reg_date\"] = pd.to_datetime(users[\"reg_date\"], format=\"%Y-%m-%dT%H:%M:%S\")"
      ]
    },
    {
      "cell_type": "markdown",
      "id": "b615c47f",
      "metadata": {
        "id": "b615c47f"
      },
      "source": [
        "Лишний столбец в таблице `internet` удалим при помощи метода `drop` и проверим результат."
      ]
    },
    {
      "cell_type": "code",
      "execution_count": null,
      "id": "6c6e21a4",
      "metadata": {
        "scrolled": true,
        "id": "6c6e21a4",
        "outputId": "fba720d1-f9ad-441d-9135-a5a97e640e3e"
      },
      "outputs": [
        {
          "data": {
            "text/html": [
              "<div>\n",
              "<style scoped>\n",
              "    .dataframe tbody tr th:only-of-type {\n",
              "        vertical-align: middle;\n",
              "    }\n",
              "\n",
              "    .dataframe tbody tr th {\n",
              "        vertical-align: top;\n",
              "    }\n",
              "\n",
              "    .dataframe thead th {\n",
              "        text-align: right;\n",
              "    }\n",
              "</style>\n",
              "<table border=\"1\" class=\"dataframe\">\n",
              "  <thead>\n",
              "    <tr style=\"text-align: right;\">\n",
              "      <th></th>\n",
              "      <th>id</th>\n",
              "      <th>mb_used</th>\n",
              "      <th>session_date</th>\n",
              "      <th>user_id</th>\n",
              "    </tr>\n",
              "  </thead>\n",
              "  <tbody>\n",
              "    <tr>\n",
              "      <th>0</th>\n",
              "      <td>1000_0</td>\n",
              "      <td>112.95</td>\n",
              "      <td>2018-11-25</td>\n",
              "      <td>1000</td>\n",
              "    </tr>\n",
              "    <tr>\n",
              "      <th>1</th>\n",
              "      <td>1000_1</td>\n",
              "      <td>1052.81</td>\n",
              "      <td>2018-09-07</td>\n",
              "      <td>1000</td>\n",
              "    </tr>\n",
              "    <tr>\n",
              "      <th>2</th>\n",
              "      <td>1000_2</td>\n",
              "      <td>1197.26</td>\n",
              "      <td>2018-06-25</td>\n",
              "      <td>1000</td>\n",
              "    </tr>\n",
              "    <tr>\n",
              "      <th>3</th>\n",
              "      <td>1000_3</td>\n",
              "      <td>550.27</td>\n",
              "      <td>2018-08-22</td>\n",
              "      <td>1000</td>\n",
              "    </tr>\n",
              "    <tr>\n",
              "      <th>4</th>\n",
              "      <td>1000_4</td>\n",
              "      <td>302.56</td>\n",
              "      <td>2018-09-24</td>\n",
              "      <td>1000</td>\n",
              "    </tr>\n",
              "  </tbody>\n",
              "</table>\n",
              "</div>"
            ],
            "text/plain": [
              "       id  mb_used session_date  user_id\n",
              "0  1000_0   112.95   2018-11-25     1000\n",
              "1  1000_1  1052.81   2018-09-07     1000\n",
              "2  1000_2  1197.26   2018-06-25     1000\n",
              "3  1000_3   550.27   2018-08-22     1000\n",
              "4  1000_4   302.56   2018-09-24     1000"
            ]
          },
          "execution_count": 15,
          "metadata": {},
          "output_type": "execute_result"
        },
        {
          "data": {
            "application/javascript": [
              "\n",
              "            setTimeout(function() {\n",
              "                var nbb_cell_id = 15;\n",
              "                var nbb_unformatted_code = \"internet = internet.drop(labels=\\\"Unnamed: 0\\\", axis=1)\\ninternet.head()\";\n",
              "                var nbb_formatted_code = \"internet = internet.drop(labels=\\\"Unnamed: 0\\\", axis=1)\\ninternet.head()\";\n",
              "                var nbb_cells = Jupyter.notebook.get_cells();\n",
              "                for (var i = 0; i < nbb_cells.length; ++i) {\n",
              "                    if (nbb_cells[i].input_prompt_number == nbb_cell_id) {\n",
              "                        if (nbb_cells[i].get_text() == nbb_unformatted_code) {\n",
              "                             nbb_cells[i].set_text(nbb_formatted_code);\n",
              "                        }\n",
              "                        break;\n",
              "                    }\n",
              "                }\n",
              "            }, 500);\n",
              "            "
            ],
            "text/plain": [
              "<IPython.core.display.Javascript object>"
            ]
          },
          "metadata": {},
          "output_type": "display_data"
        }
      ],
      "source": [
        "internet = internet.drop(labels=\"Unnamed: 0\", axis=1)\n",
        "internet.head()"
      ]
    },
    {
      "cell_type": "markdown",
      "id": "f8e3e5d6",
      "metadata": {
        "id": "f8e3e5d6"
      },
      "source": [
        "## Группирование данных"
      ]
    },
    {
      "cell_type": "markdown",
      "id": "1a374b85",
      "metadata": {
        "id": "1a374b85"
      },
      "source": [
        "Перед группировкой данных обработаем информацию о длительности звонков. Согласно исходным данным, каждый звонок округляется отдельно в большую сторону. Для этого применим метод `np.ceil()`:"
      ]
    },
    {
      "cell_type": "code",
      "execution_count": null,
      "id": "e0a4dd60",
      "metadata": {
        "id": "e0a4dd60",
        "outputId": "093a5247-04c3-4fb8-b52d-c2ca94f967a0"
      },
      "outputs": [
        {
          "data": {
            "text/html": [
              "<div>\n",
              "<style scoped>\n",
              "    .dataframe tbody tr th:only-of-type {\n",
              "        vertical-align: middle;\n",
              "    }\n",
              "\n",
              "    .dataframe tbody tr th {\n",
              "        vertical-align: top;\n",
              "    }\n",
              "\n",
              "    .dataframe thead th {\n",
              "        text-align: right;\n",
              "    }\n",
              "</style>\n",
              "<table border=\"1\" class=\"dataframe\">\n",
              "  <thead>\n",
              "    <tr style=\"text-align: right;\">\n",
              "      <th></th>\n",
              "      <th>id</th>\n",
              "      <th>call_date</th>\n",
              "      <th>duration</th>\n",
              "      <th>user_id</th>\n",
              "    </tr>\n",
              "  </thead>\n",
              "  <tbody>\n",
              "    <tr>\n",
              "      <th>0</th>\n",
              "      <td>1000_0</td>\n",
              "      <td>2018-07-25</td>\n",
              "      <td>0</td>\n",
              "      <td>1000</td>\n",
              "    </tr>\n",
              "    <tr>\n",
              "      <th>1</th>\n",
              "      <td>1000_1</td>\n",
              "      <td>2018-08-17</td>\n",
              "      <td>0</td>\n",
              "      <td>1000</td>\n",
              "    </tr>\n",
              "    <tr>\n",
              "      <th>2</th>\n",
              "      <td>1000_2</td>\n",
              "      <td>2018-06-11</td>\n",
              "      <td>3</td>\n",
              "      <td>1000</td>\n",
              "    </tr>\n",
              "    <tr>\n",
              "      <th>3</th>\n",
              "      <td>1000_3</td>\n",
              "      <td>2018-09-21</td>\n",
              "      <td>14</td>\n",
              "      <td>1000</td>\n",
              "    </tr>\n",
              "    <tr>\n",
              "      <th>4</th>\n",
              "      <td>1000_4</td>\n",
              "      <td>2018-12-15</td>\n",
              "      <td>6</td>\n",
              "      <td>1000</td>\n",
              "    </tr>\n",
              "  </tbody>\n",
              "</table>\n",
              "</div>"
            ],
            "text/plain": [
              "       id  call_date  duration  user_id\n",
              "0  1000_0 2018-07-25         0     1000\n",
              "1  1000_1 2018-08-17         0     1000\n",
              "2  1000_2 2018-06-11         3     1000\n",
              "3  1000_3 2018-09-21        14     1000\n",
              "4  1000_4 2018-12-15         6     1000"
            ]
          },
          "execution_count": 16,
          "metadata": {},
          "output_type": "execute_result"
        },
        {
          "data": {
            "application/javascript": [
              "\n",
              "            setTimeout(function() {\n",
              "                var nbb_cell_id = 16;\n",
              "                var nbb_unformatted_code = \"calls[\\\"duration\\\"] = np.ceil(calls[\\\"duration\\\"]).astype(int)\\ncalls.head()\";\n",
              "                var nbb_formatted_code = \"calls[\\\"duration\\\"] = np.ceil(calls[\\\"duration\\\"]).astype(int)\\ncalls.head()\";\n",
              "                var nbb_cells = Jupyter.notebook.get_cells();\n",
              "                for (var i = 0; i < nbb_cells.length; ++i) {\n",
              "                    if (nbb_cells[i].input_prompt_number == nbb_cell_id) {\n",
              "                        if (nbb_cells[i].get_text() == nbb_unformatted_code) {\n",
              "                             nbb_cells[i].set_text(nbb_formatted_code);\n",
              "                        }\n",
              "                        break;\n",
              "                    }\n",
              "                }\n",
              "            }, 500);\n",
              "            "
            ],
            "text/plain": [
              "<IPython.core.display.Javascript object>"
            ]
          },
          "metadata": {},
          "output_type": "display_data"
        }
      ],
      "source": [
        "calls[\"duration\"] = np.ceil(calls[\"duration\"]).astype(int)\n",
        "calls.head()"
      ]
    },
    {
      "cell_type": "markdown",
      "id": "22e05044",
      "metadata": {
        "id": "22e05044"
      },
      "source": [
        "Группировка всех пяти таблиц представляется не рациональной и избыточной. Вместо этого посчитаем при помощи метода `pivot_table` отдельно для каждого пользователя по месяцам:\n",
        "* количество сделанных звонков и израсходованных минут разговора;\n",
        "* количество отправленных сообщений;\n",
        "* объем израсходованного интернет-трафика.\n",
        "\n",
        "Запишем полученные результаты в отдельные таблицы и объединим их методом `merge` по столбцам `user_id` и `month` в одну таблицу. После добавим в эту же таблицу название тарифов пользователей.\n",
        "\n",
        "Получившиеся в ходе объединения пропуски означают, что пользователи не использовали тот или иной сервис, заполнение их нулями позволит лучше проанализировать данные об использовании тарифов за счет увеличения количества используемых данных."
      ]
    },
    {
      "cell_type": "code",
      "execution_count": null,
      "id": "c8a2be62",
      "metadata": {
        "scrolled": true,
        "id": "c8a2be62",
        "outputId": "21929e07-fa0f-4db9-c1d4-1d456d08acda"
      },
      "outputs": [
        {
          "name": "stderr",
          "output_type": "stream",
          "text": [
            "/opt/conda/lib/python3.9/site-packages/pandas/core/reshape/merge.py:648: UserWarning: merging between different levels can give an unintended result (2 levels on the left,1 on the right)\n",
            "  warnings.warn(msg, UserWarning)\n"
          ]
        },
        {
          "data": {
            "text/html": [
              "<div>\n",
              "<style scoped>\n",
              "    .dataframe tbody tr th:only-of-type {\n",
              "        vertical-align: middle;\n",
              "    }\n",
              "\n",
              "    .dataframe tbody tr th {\n",
              "        vertical-align: top;\n",
              "    }\n",
              "\n",
              "    .dataframe thead th {\n",
              "        text-align: right;\n",
              "    }\n",
              "</style>\n",
              "<table border=\"1\" class=\"dataframe\">\n",
              "  <thead>\n",
              "    <tr style=\"text-align: right;\">\n",
              "      <th></th>\n",
              "      <th>user_id</th>\n",
              "      <th>month</th>\n",
              "      <th>calls_duration_sum</th>\n",
              "      <th>calls_count</th>\n",
              "      <th>mb_used_sum</th>\n",
              "      <th>message_count</th>\n",
              "      <th>tariff</th>\n",
              "    </tr>\n",
              "  </thead>\n",
              "  <tbody>\n",
              "    <tr>\n",
              "      <th>3206</th>\n",
              "      <td>1497</td>\n",
              "      <td>11</td>\n",
              "      <td>371</td>\n",
              "      <td>64</td>\n",
              "      <td>14156.08</td>\n",
              "      <td>14</td>\n",
              "      <td>smart</td>\n",
              "    </tr>\n",
              "    <tr>\n",
              "      <th>3207</th>\n",
              "      <td>1497</td>\n",
              "      <td>12</td>\n",
              "      <td>545</td>\n",
              "      <td>71</td>\n",
              "      <td>19918.60</td>\n",
              "      <td>17</td>\n",
              "      <td>smart</td>\n",
              "    </tr>\n",
              "    <tr>\n",
              "      <th>3208</th>\n",
              "      <td>1498</td>\n",
              "      <td>7</td>\n",
              "      <td>175</td>\n",
              "      <td>23</td>\n",
              "      <td>7476.24</td>\n",
              "      <td>20</td>\n",
              "      <td>smart</td>\n",
              "    </tr>\n",
              "    <tr>\n",
              "      <th>3209</th>\n",
              "      <td>1498</td>\n",
              "      <td>8</td>\n",
              "      <td>400</td>\n",
              "      <td>57</td>\n",
              "      <td>24235.21</td>\n",
              "      <td>62</td>\n",
              "      <td>smart</td>\n",
              "    </tr>\n",
              "    <tr>\n",
              "      <th>3210</th>\n",
              "      <td>1498</td>\n",
              "      <td>9</td>\n",
              "      <td>471</td>\n",
              "      <td>59</td>\n",
              "      <td>22134.41</td>\n",
              "      <td>44</td>\n",
              "      <td>smart</td>\n",
              "    </tr>\n",
              "    <tr>\n",
              "      <th>3211</th>\n",
              "      <td>1498</td>\n",
              "      <td>10</td>\n",
              "      <td>247</td>\n",
              "      <td>41</td>\n",
              "      <td>20579.36</td>\n",
              "      <td>42</td>\n",
              "      <td>smart</td>\n",
              "    </tr>\n",
              "    <tr>\n",
              "      <th>3212</th>\n",
              "      <td>1499</td>\n",
              "      <td>9</td>\n",
              "      <td>70</td>\n",
              "      <td>9</td>\n",
              "      <td>1845.75</td>\n",
              "      <td>11</td>\n",
              "      <td>smart</td>\n",
              "    </tr>\n",
              "    <tr>\n",
              "      <th>3213</th>\n",
              "      <td>1499</td>\n",
              "      <td>10</td>\n",
              "      <td>449</td>\n",
              "      <td>68</td>\n",
              "      <td>17788.51</td>\n",
              "      <td>48</td>\n",
              "      <td>smart</td>\n",
              "    </tr>\n",
              "    <tr>\n",
              "      <th>3214</th>\n",
              "      <td>1499</td>\n",
              "      <td>11</td>\n",
              "      <td>612</td>\n",
              "      <td>74</td>\n",
              "      <td>17963.31</td>\n",
              "      <td>59</td>\n",
              "      <td>smart</td>\n",
              "    </tr>\n",
              "    <tr>\n",
              "      <th>3215</th>\n",
              "      <td>1499</td>\n",
              "      <td>12</td>\n",
              "      <td>492</td>\n",
              "      <td>69</td>\n",
              "      <td>13055.58</td>\n",
              "      <td>66</td>\n",
              "      <td>smart</td>\n",
              "    </tr>\n",
              "  </tbody>\n",
              "</table>\n",
              "</div>"
            ],
            "text/plain": [
              "      user_id  month  calls_duration_sum  calls_count  mb_used_sum  \\\n",
              "3206     1497     11                 371           64     14156.08   \n",
              "3207     1497     12                 545           71     19918.60   \n",
              "3208     1498      7                 175           23      7476.24   \n",
              "3209     1498      8                 400           57     24235.21   \n",
              "3210     1498      9                 471           59     22134.41   \n",
              "3211     1498     10                 247           41     20579.36   \n",
              "3212     1499      9                  70            9      1845.75   \n",
              "3213     1499     10                 449           68     17788.51   \n",
              "3214     1499     11                 612           74     17963.31   \n",
              "3215     1499     12                 492           69     13055.58   \n",
              "\n",
              "      message_count tariff  \n",
              "3206             14  smart  \n",
              "3207             17  smart  \n",
              "3208             20  smart  \n",
              "3209             62  smart  \n",
              "3210             44  smart  \n",
              "3211             42  smart  \n",
              "3212             11  smart  \n",
              "3213             48  smart  \n",
              "3214             59  smart  \n",
              "3215             66  smart  "
            ]
          },
          "execution_count": 17,
          "metadata": {},
          "output_type": "execute_result"
        },
        {
          "data": {
            "application/javascript": [
              "\n",
              "            setTimeout(function() {\n",
              "                var nbb_cell_id = 17;\n",
              "                var nbb_unformatted_code = \"calls[\\\"month\\\"] = pd.DatetimeIndex(calls[\\\"call_date\\\"]).month\\ncalls_id_month = calls.pivot_table(\\n    index=[\\\"user_id\\\", \\\"month\\\"],\\n    values=\\\"duration\\\",\\n    aggfunc=[\\\"sum\\\", \\\"count\\\"],\\n)\\n\\ninternet[\\\"month\\\"] = pd.DatetimeIndex(internet[\\\"session_date\\\"]).month\\ninternet_id_month = internet.pivot_table(\\n    index=[\\\"user_id\\\", \\\"month\\\"],\\n    values=\\\"mb_used\\\",\\n    aggfunc=[\\\"sum\\\"],\\n)\\n\\nmessages[\\\"month\\\"] = pd.DatetimeIndex(messages[\\\"message_date\\\"]).month\\nmessages_id_month = messages.pivot_table(\\n    index=[\\\"user_id\\\", \\\"month\\\"],\\n    values=\\\"message_date\\\",\\n    aggfunc=[\\\"count\\\"],\\n)\\n\\ndf = (\\n    calls_id_month.merge(\\n        internet_id_month, on=[\\\"user_id\\\", \\\"month\\\"], how=\\\"outer\\\", sort=True\\n    )\\n    .merge(messages_id_month, on=[\\\"user_id\\\", \\\"month\\\"], how=\\\"outer\\\")\\n    .reset_index()\\n    .set_index(\\\"user_id\\\")\\n    .merge(\\n        users[[\\\"user_id\\\", \\\"tariff\\\"]],\\n        left_on=[\\\"user_id\\\"],\\n        right_on=[\\\"user_id\\\"],\\n        how=\\\"right\\\",\\n    )\\n).fillna(0)\\n\\ndf.columns = [\\n    \\\"user_id\\\",\\n    \\\"month\\\",\\n    \\\"calls_duration_sum\\\",\\n    \\\"calls_count\\\",\\n    \\\"mb_used_sum\\\",\\n    \\\"message_count\\\",\\n    \\\"tariff\\\",\\n]\\n\\ndf[[\\\"user_id\\\", \\\"month\\\", \\\"calls_duration_sum\\\", \\\"calls_count\\\", \\\"message_count\\\",]] = df[\\n    [\\n        \\\"user_id\\\",\\n        \\\"month\\\",\\n        \\\"calls_duration_sum\\\",\\n        \\\"calls_count\\\",\\n        \\\"message_count\\\",\\n    ]\\n].astype(int)\\n\\ndf.tail(10)\";\n",
              "                var nbb_formatted_code = \"calls[\\\"month\\\"] = pd.DatetimeIndex(calls[\\\"call_date\\\"]).month\\ncalls_id_month = calls.pivot_table(\\n    index=[\\\"user_id\\\", \\\"month\\\"],\\n    values=\\\"duration\\\",\\n    aggfunc=[\\\"sum\\\", \\\"count\\\"],\\n)\\n\\ninternet[\\\"month\\\"] = pd.DatetimeIndex(internet[\\\"session_date\\\"]).month\\ninternet_id_month = internet.pivot_table(\\n    index=[\\\"user_id\\\", \\\"month\\\"],\\n    values=\\\"mb_used\\\",\\n    aggfunc=[\\\"sum\\\"],\\n)\\n\\nmessages[\\\"month\\\"] = pd.DatetimeIndex(messages[\\\"message_date\\\"]).month\\nmessages_id_month = messages.pivot_table(\\n    index=[\\\"user_id\\\", \\\"month\\\"],\\n    values=\\\"message_date\\\",\\n    aggfunc=[\\\"count\\\"],\\n)\\n\\ndf = (\\n    calls_id_month.merge(\\n        internet_id_month, on=[\\\"user_id\\\", \\\"month\\\"], how=\\\"outer\\\", sort=True\\n    )\\n    .merge(messages_id_month, on=[\\\"user_id\\\", \\\"month\\\"], how=\\\"outer\\\")\\n    .reset_index()\\n    .set_index(\\\"user_id\\\")\\n    .merge(\\n        users[[\\\"user_id\\\", \\\"tariff\\\"]],\\n        left_on=[\\\"user_id\\\"],\\n        right_on=[\\\"user_id\\\"],\\n        how=\\\"right\\\",\\n    )\\n).fillna(0)\\n\\ndf.columns = [\\n    \\\"user_id\\\",\\n    \\\"month\\\",\\n    \\\"calls_duration_sum\\\",\\n    \\\"calls_count\\\",\\n    \\\"mb_used_sum\\\",\\n    \\\"message_count\\\",\\n    \\\"tariff\\\",\\n]\\n\\ndf[[\\\"user_id\\\", \\\"month\\\", \\\"calls_duration_sum\\\", \\\"calls_count\\\", \\\"message_count\\\",]] = df[\\n    [\\n        \\\"user_id\\\",\\n        \\\"month\\\",\\n        \\\"calls_duration_sum\\\",\\n        \\\"calls_count\\\",\\n        \\\"message_count\\\",\\n    ]\\n].astype(int)\\n\\ndf.tail(10)\";\n",
              "                var nbb_cells = Jupyter.notebook.get_cells();\n",
              "                for (var i = 0; i < nbb_cells.length; ++i) {\n",
              "                    if (nbb_cells[i].input_prompt_number == nbb_cell_id) {\n",
              "                        if (nbb_cells[i].get_text() == nbb_unformatted_code) {\n",
              "                             nbb_cells[i].set_text(nbb_formatted_code);\n",
              "                        }\n",
              "                        break;\n",
              "                    }\n",
              "                }\n",
              "            }, 500);\n",
              "            "
            ],
            "text/plain": [
              "<IPython.core.display.Javascript object>"
            ]
          },
          "metadata": {},
          "output_type": "display_data"
        }
      ],
      "source": [
        "calls[\"month\"] = pd.DatetimeIndex(calls[\"call_date\"]).month\n",
        "calls_id_month = calls.pivot_table(\n",
        "    index=[\"user_id\", \"month\"],\n",
        "    values=\"duration\",\n",
        "    aggfunc=[\"sum\", \"count\"],\n",
        ")\n",
        "\n",
        "internet[\"month\"] = pd.DatetimeIndex(internet[\"session_date\"]).month\n",
        "internet_id_month = internet.pivot_table(\n",
        "    index=[\"user_id\", \"month\"],\n",
        "    values=\"mb_used\",\n",
        "    aggfunc=[\"sum\"],\n",
        ")\n",
        "\n",
        "messages[\"month\"] = pd.DatetimeIndex(messages[\"message_date\"]).month\n",
        "messages_id_month = messages.pivot_table(\n",
        "    index=[\"user_id\", \"month\"],\n",
        "    values=\"message_date\",\n",
        "    aggfunc=[\"count\"],\n",
        ")\n",
        "\n",
        "df = (\n",
        "    calls_id_month.merge(\n",
        "        internet_id_month, on=[\"user_id\", \"month\"], how=\"outer\", sort=True\n",
        "    )\n",
        "    .merge(messages_id_month, on=[\"user_id\", \"month\"], how=\"outer\")\n",
        "    .reset_index()\n",
        "    .set_index(\"user_id\")\n",
        "    .merge(\n",
        "        users[[\"user_id\", \"tariff\"]],\n",
        "        left_on=[\"user_id\"],\n",
        "        right_on=[\"user_id\"],\n",
        "        how=\"right\",\n",
        "    )\n",
        ").fillna(0)\n",
        "\n",
        "df.columns = [\n",
        "    \"user_id\",\n",
        "    \"month\",\n",
        "    \"calls_duration_sum\",\n",
        "    \"calls_count\",\n",
        "    \"mb_used_sum\",\n",
        "    \"message_count\",\n",
        "    \"tariff\",\n",
        "]\n",
        "\n",
        "df[[\"user_id\", \"month\", \"calls_duration_sum\", \"calls_count\", \"message_count\",]] = df[\n",
        "    [\n",
        "        \"user_id\",\n",
        "        \"month\",\n",
        "        \"calls_duration_sum\",\n",
        "        \"calls_count\",\n",
        "        \"message_count\",\n",
        "    ]\n",
        "].astype(int)\n",
        "\n",
        "df.tail(10)"
      ]
    },
    {
      "cell_type": "code",
      "execution_count": null,
      "id": "26ab8ac5",
      "metadata": {
        "scrolled": true,
        "id": "26ab8ac5",
        "outputId": "fc6b1f79-262a-4d67-a261-a50082f83959"
      },
      "outputs": [
        {
          "name": "stdout",
          "output_type": "stream",
          "text": [
            "<class 'pandas.core.frame.DataFrame'>\n",
            "Int64Index: 3216 entries, 0 to 3215\n",
            "Data columns (total 7 columns):\n",
            " #   Column              Non-Null Count  Dtype  \n",
            "---  ------              --------------  -----  \n",
            " 0   user_id             3216 non-null   int64  \n",
            " 1   month               3216 non-null   int64  \n",
            " 2   calls_duration_sum  3216 non-null   int64  \n",
            " 3   calls_count         3216 non-null   int64  \n",
            " 4   mb_used_sum         3216 non-null   float64\n",
            " 5   message_count       3216 non-null   int64  \n",
            " 6   tariff              3216 non-null   object \n",
            "dtypes: float64(1), int64(5), object(1)\n",
            "memory usage: 201.0+ KB\n"
          ]
        },
        {
          "data": {
            "application/javascript": [
              "\n",
              "            setTimeout(function() {\n",
              "                var nbb_cell_id = 18;\n",
              "                var nbb_unformatted_code = \"df.info()\";\n",
              "                var nbb_formatted_code = \"df.info()\";\n",
              "                var nbb_cells = Jupyter.notebook.get_cells();\n",
              "                for (var i = 0; i < nbb_cells.length; ++i) {\n",
              "                    if (nbb_cells[i].input_prompt_number == nbb_cell_id) {\n",
              "                        if (nbb_cells[i].get_text() == nbb_unformatted_code) {\n",
              "                             nbb_cells[i].set_text(nbb_formatted_code);\n",
              "                        }\n",
              "                        break;\n",
              "                    }\n",
              "                }\n",
              "            }, 500);\n",
              "            "
            ],
            "text/plain": [
              "<IPython.core.display.Javascript object>"
            ]
          },
          "metadata": {},
          "output_type": "display_data"
        }
      ],
      "source": [
        "df.info()"
      ]
    },
    {
      "cell_type": "markdown",
      "id": "2d82dbe6",
      "metadata": {
        "id": "2d82dbe6"
      },
      "source": [
        "<div style=\"border-left: 7px solid blue\">\n",
        "Проверим количество пользователей в объединенной таблице. Их значение должно быть равно значению в исходных данных.\n",
        "</div>"
      ]
    },
    {
      "cell_type": "code",
      "execution_count": null,
      "id": "9f7e9175",
      "metadata": {
        "id": "9f7e9175",
        "outputId": "1f6d1971-0f0b-4cb9-ee5f-84120661f51c"
      },
      "outputs": [
        {
          "data": {
            "text/plain": [
              "500"
            ]
          },
          "execution_count": 19,
          "metadata": {},
          "output_type": "execute_result"
        },
        {
          "data": {
            "application/javascript": [
              "\n",
              "            setTimeout(function() {\n",
              "                var nbb_cell_id = 19;\n",
              "                var nbb_unformatted_code = \"df[\\\"user_id\\\"].nunique()\";\n",
              "                var nbb_formatted_code = \"df[\\\"user_id\\\"].nunique()\";\n",
              "                var nbb_cells = Jupyter.notebook.get_cells();\n",
              "                for (var i = 0; i < nbb_cells.length; ++i) {\n",
              "                    if (nbb_cells[i].input_prompt_number == nbb_cell_id) {\n",
              "                        if (nbb_cells[i].get_text() == nbb_unformatted_code) {\n",
              "                             nbb_cells[i].set_text(nbb_formatted_code);\n",
              "                        }\n",
              "                        break;\n",
              "                    }\n",
              "                }\n",
              "            }, 500);\n",
              "            "
            ],
            "text/plain": [
              "<IPython.core.display.Javascript object>"
            ]
          },
          "metadata": {},
          "output_type": "display_data"
        }
      ],
      "source": [
        "df[\"user_id\"].nunique()"
      ]
    },
    {
      "cell_type": "markdown",
      "id": "709c0cf4",
      "metadata": {
        "id": "709c0cf4"
      },
      "source": [
        "Проверим наличие нулей в столбце `month`, так как их проявление означает, что пользователи зарегистрированы, но не осуществляют никакой активности."
      ]
    },
    {
      "cell_type": "code",
      "execution_count": null,
      "id": "69987712",
      "metadata": {
        "id": "69987712",
        "outputId": "1815a07b-6fac-4dac-8d91-cff3e9a5ccfa"
      },
      "outputs": [
        {
          "data": {
            "text/html": [
              "<div>\n",
              "<style scoped>\n",
              "    .dataframe tbody tr th:only-of-type {\n",
              "        vertical-align: middle;\n",
              "    }\n",
              "\n",
              "    .dataframe tbody tr th {\n",
              "        vertical-align: top;\n",
              "    }\n",
              "\n",
              "    .dataframe thead th {\n",
              "        text-align: right;\n",
              "    }\n",
              "</style>\n",
              "<table border=\"1\" class=\"dataframe\">\n",
              "  <thead>\n",
              "    <tr style=\"text-align: right;\">\n",
              "      <th></th>\n",
              "      <th>user_id</th>\n",
              "      <th>month</th>\n",
              "      <th>calls_duration_sum</th>\n",
              "      <th>calls_count</th>\n",
              "      <th>mb_used_sum</th>\n",
              "      <th>message_count</th>\n",
              "      <th>tariff</th>\n",
              "    </tr>\n",
              "  </thead>\n",
              "  <tbody>\n",
              "    <tr>\n",
              "      <th>827</th>\n",
              "      <td>1128</td>\n",
              "      <td>0</td>\n",
              "      <td>0</td>\n",
              "      <td>0</td>\n",
              "      <td>0.0</td>\n",
              "      <td>0</td>\n",
              "      <td>ultra</td>\n",
              "    </tr>\n",
              "    <tr>\n",
              "      <th>2335</th>\n",
              "      <td>1371</td>\n",
              "      <td>0</td>\n",
              "      <td>0</td>\n",
              "      <td>0</td>\n",
              "      <td>0.0</td>\n",
              "      <td>0</td>\n",
              "      <td>smart</td>\n",
              "    </tr>\n",
              "  </tbody>\n",
              "</table>\n",
              "</div>"
            ],
            "text/plain": [
              "      user_id  month  calls_duration_sum  calls_count  mb_used_sum  \\\n",
              "827      1128      0                   0            0          0.0   \n",
              "2335     1371      0                   0            0          0.0   \n",
              "\n",
              "      message_count tariff  \n",
              "827               0  ultra  \n",
              "2335              0  smart  "
            ]
          },
          "execution_count": 20,
          "metadata": {},
          "output_type": "execute_result"
        },
        {
          "data": {
            "application/javascript": [
              "\n",
              "            setTimeout(function() {\n",
              "                var nbb_cell_id = 20;\n",
              "                var nbb_unformatted_code = \"month_zero = df[df[\\\"month\\\"] == 0]\\nmonth_zero\";\n",
              "                var nbb_formatted_code = \"month_zero = df[df[\\\"month\\\"] == 0]\\nmonth_zero\";\n",
              "                var nbb_cells = Jupyter.notebook.get_cells();\n",
              "                for (var i = 0; i < nbb_cells.length; ++i) {\n",
              "                    if (nbb_cells[i].input_prompt_number == nbb_cell_id) {\n",
              "                        if (nbb_cells[i].get_text() == nbb_unformatted_code) {\n",
              "                             nbb_cells[i].set_text(nbb_formatted_code);\n",
              "                        }\n",
              "                        break;\n",
              "                    }\n",
              "                }\n",
              "            }, 500);\n",
              "            "
            ],
            "text/plain": [
              "<IPython.core.display.Javascript object>"
            ]
          },
          "metadata": {},
          "output_type": "display_data"
        }
      ],
      "source": [
        "month_zero = df[df[\"month\"] == 0]\n",
        "month_zero"
      ]
    },
    {
      "cell_type": "markdown",
      "id": "bb01e4e4",
      "metadata": {
        "id": "bb01e4e4"
      },
      "source": [
        "Нулевых значения всего два. Причем для обоих отсутствует всякая информация об активности. Проверим всю информацию о тех же пользователях в таблице `users`:"
      ]
    },
    {
      "cell_type": "code",
      "execution_count": null,
      "id": "7f59613a",
      "metadata": {
        "id": "7f59613a",
        "outputId": "ec67fdd5-46f5-4cf1-81d4-2ababf0dded6"
      },
      "outputs": [
        {
          "data": {
            "text/html": [
              "<div>\n",
              "<style scoped>\n",
              "    .dataframe tbody tr th:only-of-type {\n",
              "        vertical-align: middle;\n",
              "    }\n",
              "\n",
              "    .dataframe tbody tr th {\n",
              "        vertical-align: top;\n",
              "    }\n",
              "\n",
              "    .dataframe thead th {\n",
              "        text-align: right;\n",
              "    }\n",
              "</style>\n",
              "<table border=\"1\" class=\"dataframe\">\n",
              "  <thead>\n",
              "    <tr style=\"text-align: right;\">\n",
              "      <th></th>\n",
              "      <th>user_id</th>\n",
              "      <th>age</th>\n",
              "      <th>churn_date</th>\n",
              "      <th>city</th>\n",
              "      <th>first_name</th>\n",
              "      <th>last_name</th>\n",
              "      <th>reg_date</th>\n",
              "      <th>tariff</th>\n",
              "    </tr>\n",
              "  </thead>\n",
              "  <tbody>\n",
              "    <tr>\n",
              "      <th>128</th>\n",
              "      <td>1128</td>\n",
              "      <td>51</td>\n",
              "      <td>2018-12-23</td>\n",
              "      <td>Волжский</td>\n",
              "      <td>Ксения</td>\n",
              "      <td>Агаева</td>\n",
              "      <td>2018-12-15</td>\n",
              "      <td>ultra</td>\n",
              "    </tr>\n",
              "    <tr>\n",
              "      <th>371</th>\n",
              "      <td>1371</td>\n",
              "      <td>50</td>\n",
              "      <td>2018-12-30</td>\n",
              "      <td>Омск</td>\n",
              "      <td>Ириней</td>\n",
              "      <td>Трофимов</td>\n",
              "      <td>2018-12-25</td>\n",
              "      <td>smart</td>\n",
              "    </tr>\n",
              "  </tbody>\n",
              "</table>\n",
              "</div>"
            ],
            "text/plain": [
              "     user_id  age churn_date      city first_name last_name   reg_date tariff\n",
              "128     1128   51 2018-12-23  Волжский     Ксения    Агаева 2018-12-15  ultra\n",
              "371     1371   50 2018-12-30      Омск     Ириней  Трофимов 2018-12-25  smart"
            ]
          },
          "execution_count": 21,
          "metadata": {},
          "output_type": "execute_result"
        },
        {
          "data": {
            "application/javascript": [
              "\n",
              "            setTimeout(function() {\n",
              "                var nbb_cell_id = 21;\n",
              "                var nbb_unformatted_code = \"users[users[\\\"user_id\\\"].isin(month_zero[\\\"user_id\\\"].tolist())]\";\n",
              "                var nbb_formatted_code = \"users[users[\\\"user_id\\\"].isin(month_zero[\\\"user_id\\\"].tolist())]\";\n",
              "                var nbb_cells = Jupyter.notebook.get_cells();\n",
              "                for (var i = 0; i < nbb_cells.length; ++i) {\n",
              "                    if (nbb_cells[i].input_prompt_number == nbb_cell_id) {\n",
              "                        if (nbb_cells[i].get_text() == nbb_unformatted_code) {\n",
              "                             nbb_cells[i].set_text(nbb_formatted_code);\n",
              "                        }\n",
              "                        break;\n",
              "                    }\n",
              "                }\n",
              "            }, 500);\n",
              "            "
            ],
            "text/plain": [
              "<IPython.core.display.Javascript object>"
            ]
          },
          "metadata": {},
          "output_type": "display_data"
        }
      ],
      "source": [
        "users[users[\"user_id\"].isin(month_zero[\"user_id\"].tolist())]"
      ]
    },
    {
      "cell_type": "markdown",
      "id": "e2871369",
      "metadata": {
        "id": "e2871369"
      },
      "source": [
        "Из таблицы видно, что пользователи с id 1128 и 1371 зарегистрировались в декабре и тут же сменили тарифный план. В результате, в системе не сохранились данные об их активности. Таким образом, информацию об этих пользователях можно удалить из обобщенной таблицы."
      ]
    },
    {
      "cell_type": "code",
      "execution_count": null,
      "id": "ac175035",
      "metadata": {
        "scrolled": true,
        "id": "ac175035",
        "outputId": "2fc53520-28da-4ec4-ad2b-a81d7c6186f7"
      },
      "outputs": [
        {
          "name": "stdout",
          "output_type": "stream",
          "text": [
            "<class 'pandas.core.frame.DataFrame'>\n",
            "RangeIndex: 3214 entries, 0 to 3213\n",
            "Data columns (total 7 columns):\n",
            " #   Column              Non-Null Count  Dtype  \n",
            "---  ------              --------------  -----  \n",
            " 0   user_id             3214 non-null   int64  \n",
            " 1   month               3214 non-null   int64  \n",
            " 2   calls_duration_sum  3214 non-null   int64  \n",
            " 3   calls_count         3214 non-null   int64  \n",
            " 4   mb_used_sum         3214 non-null   float64\n",
            " 5   message_count       3214 non-null   int64  \n",
            " 6   tariff              3214 non-null   object \n",
            "dtypes: float64(1), int64(5), object(1)\n",
            "memory usage: 175.9+ KB\n"
          ]
        },
        {
          "data": {
            "application/javascript": [
              "\n",
              "            setTimeout(function() {\n",
              "                var nbb_cell_id = 22;\n",
              "                var nbb_unformatted_code = \"df = df.drop(month_zero.index.tolist()).reset_index(drop=True)\\ndf.info()\";\n",
              "                var nbb_formatted_code = \"df = df.drop(month_zero.index.tolist()).reset_index(drop=True)\\ndf.info()\";\n",
              "                var nbb_cells = Jupyter.notebook.get_cells();\n",
              "                for (var i = 0; i < nbb_cells.length; ++i) {\n",
              "                    if (nbb_cells[i].input_prompt_number == nbb_cell_id) {\n",
              "                        if (nbb_cells[i].get_text() == nbb_unformatted_code) {\n",
              "                             nbb_cells[i].set_text(nbb_formatted_code);\n",
              "                        }\n",
              "                        break;\n",
              "                    }\n",
              "                }\n",
              "            }, 500);\n",
              "            "
            ],
            "text/plain": [
              "<IPython.core.display.Javascript object>"
            ]
          },
          "metadata": {},
          "output_type": "display_data"
        }
      ],
      "source": [
        "df = df.drop(month_zero.index.tolist()).reset_index(drop=True)\n",
        "df.info()"
      ]
    },
    {
      "cell_type": "markdown",
      "id": "d4157656",
      "metadata": {
        "id": "d4157656"
      },
      "source": [
        "## Расчет помесячной выручки"
      ]
    },
    {
      "cell_type": "markdown",
      "id": "808cf5df",
      "metadata": {
        "id": "808cf5df"
      },
      "source": [
        "Определим помесячную выручку с каждого пользователя. Для этого создадим функцию `income`, которая:\n",
        "* обрабатывает строки таблицы `df`; \n",
        "* вычитает бесплатный лимит из суммарного количества звонков, сообщений и интернет-трафика; \n",
        "* остаток умножает на значение из тарифного плана; \n",
        "* прибавляет абонентскую плату, соответствующую тарифному плану."
      ]
    },
    {
      "cell_type": "code",
      "execution_count": null,
      "id": "16a7b78d",
      "metadata": {
        "id": "16a7b78d",
        "outputId": "3d20591a-459f-4242-e2e2-4dd514aadf48"
      },
      "outputs": [
        {
          "data": {
            "application/javascript": [
              "\n",
              "            setTimeout(function() {\n",
              "                var nbb_cell_id = 23;\n",
              "                var nbb_unformatted_code = \"def income(row):\\n    # \\u041e\\u0431\\u043d\\u0443\\u043b\\u0435\\u043d\\u0438\\u0435 \\u0440\\u0430\\u0441\\u0447\\u0435\\u0442\\u043d\\u044b\\u0445 \\u043f\\u0435\\u0440\\u0435\\u043c\\u0435\\u043d\\u043d\\u044b\\u0445\\n    inc1 = 0\\n    inc2 = 0\\n    inc3 = 0\\n    inc4 = 0\\n\\n    # \\u041e\\u0431\\u044a\\u044f\\u0432\\u043b\\u044f\\u0435\\u043c \\u043f\\u0435\\u0440\\u0435\\u043c\\u0435\\u043d\\u043d\\u044b\\u0435 \\u0442\\u0435\\u043a\\u0443\\u0449\\u0435\\u0433\\u043e \\u043c\\u0430\\u0441\\u0441\\u0438\\u0432\\u0430\\n    cll_dur = row[\\\"calls_duration_sum\\\"]\\n    mb = row[\\\"mb_used_sum\\\"]\\n    mss = row[\\\"message_count\\\"]\\n    uid = row[\\\"user_id\\\"]\\n    trff = row[\\\"tariff\\\"]\\n    # \\u0418 \\u043f\\u0435\\u0440\\u0435\\u043c\\u0435\\u043d\\u043d\\u044b\\u0435 \\u0438\\u0437 \\u0434\\u0440\\u0443\\u0433\\u0438\\u0445 \\u0442\\u0430\\u0431\\u043b\\u0438\\u0446\\n    min_incl = tariffs.loc[\\n        tariffs[\\\"tariff_name\\\"] == trff,\\n        \\\"minutes_included\\\",\\n    ].reset_index(drop=True)[0]\\n    min_extra = tariffs.loc[\\n        tariffs[\\\"tariff_name\\\"] == trff,\\n        \\\"rub_per_minute\\\",\\n    ].reset_index(drop=True)[0]\\n    mb_incl = tariffs.loc[\\n        tariffs[\\\"tariff_name\\\"] == trff,\\n        \\\"mb_per_month_included\\\",\\n    ].reset_index(drop=True)[0]\\n    mb_extra = tariffs.loc[tariffs[\\\"tariff_name\\\"] == trff, \\\"rub_per_gb\\\",].reset_index(\\n        drop=True\\n    )[0]\\n    mss_incl = tariffs.loc[\\n        tariffs[\\\"tariff_name\\\"] == trff,\\n        \\\"messages_included\\\",\\n    ].reset_index(drop=True)[0]\\n    mss_extra = tariffs.loc[\\n        tariffs[\\\"tariff_name\\\"] == trff,\\n        \\\"rub_per_message\\\",\\n    ].reset_index(drop=True)[0]\\n\\n    # \\u0412\\u044b\\u0447\\u0438\\u0441\\u043b\\u044f\\u0435\\u043c \\u0440\\u0430\\u0441\\u0447\\u0435\\u0442\\u043d\\u044b\\u0435 \\u043f\\u0435\\u0440\\u0435\\u043c\\u0435\\u043d\\u043d\\u044b\\u0435\\n    inc1 = tariffs.loc[tariffs[\\\"tariff_name\\\"] == trff, \\\"rub_monthly_fee\\\",].reset_index(\\n        drop=True\\n    )[0]\\n\\n    if cll_dur > min_incl:\\n        inc2 = (cll_dur - min_incl) * min_extra\\n\\n    if mb > mb_incl:\\n        inc3 = np.ceil((mb - mb_incl) / 1024) * mb_extra\\n\\n    if mss > mss_incl:\\n        inc4 = (mss - mss_incl) * mss_extra\\n\\n    return inc1 + inc2 + inc3 + inc4\";\n",
              "                var nbb_formatted_code = \"def income(row):\\n    # \\u041e\\u0431\\u043d\\u0443\\u043b\\u0435\\u043d\\u0438\\u0435 \\u0440\\u0430\\u0441\\u0447\\u0435\\u0442\\u043d\\u044b\\u0445 \\u043f\\u0435\\u0440\\u0435\\u043c\\u0435\\u043d\\u043d\\u044b\\u0445\\n    inc1 = 0\\n    inc2 = 0\\n    inc3 = 0\\n    inc4 = 0\\n\\n    # \\u041e\\u0431\\u044a\\u044f\\u0432\\u043b\\u044f\\u0435\\u043c \\u043f\\u0435\\u0440\\u0435\\u043c\\u0435\\u043d\\u043d\\u044b\\u0435 \\u0442\\u0435\\u043a\\u0443\\u0449\\u0435\\u0433\\u043e \\u043c\\u0430\\u0441\\u0441\\u0438\\u0432\\u0430\\n    cll_dur = row[\\\"calls_duration_sum\\\"]\\n    mb = row[\\\"mb_used_sum\\\"]\\n    mss = row[\\\"message_count\\\"]\\n    uid = row[\\\"user_id\\\"]\\n    trff = row[\\\"tariff\\\"]\\n    # \\u0418 \\u043f\\u0435\\u0440\\u0435\\u043c\\u0435\\u043d\\u043d\\u044b\\u0435 \\u0438\\u0437 \\u0434\\u0440\\u0443\\u0433\\u0438\\u0445 \\u0442\\u0430\\u0431\\u043b\\u0438\\u0446\\n    min_incl = tariffs.loc[\\n        tariffs[\\\"tariff_name\\\"] == trff,\\n        \\\"minutes_included\\\",\\n    ].reset_index(drop=True)[0]\\n    min_extra = tariffs.loc[\\n        tariffs[\\\"tariff_name\\\"] == trff,\\n        \\\"rub_per_minute\\\",\\n    ].reset_index(drop=True)[0]\\n    mb_incl = tariffs.loc[\\n        tariffs[\\\"tariff_name\\\"] == trff,\\n        \\\"mb_per_month_included\\\",\\n    ].reset_index(drop=True)[0]\\n    mb_extra = tariffs.loc[tariffs[\\\"tariff_name\\\"] == trff, \\\"rub_per_gb\\\",].reset_index(\\n        drop=True\\n    )[0]\\n    mss_incl = tariffs.loc[\\n        tariffs[\\\"tariff_name\\\"] == trff,\\n        \\\"messages_included\\\",\\n    ].reset_index(drop=True)[0]\\n    mss_extra = tariffs.loc[\\n        tariffs[\\\"tariff_name\\\"] == trff,\\n        \\\"rub_per_message\\\",\\n    ].reset_index(drop=True)[0]\\n\\n    # \\u0412\\u044b\\u0447\\u0438\\u0441\\u043b\\u044f\\u0435\\u043c \\u0440\\u0430\\u0441\\u0447\\u0435\\u0442\\u043d\\u044b\\u0435 \\u043f\\u0435\\u0440\\u0435\\u043c\\u0435\\u043d\\u043d\\u044b\\u0435\\n    inc1 = tariffs.loc[tariffs[\\\"tariff_name\\\"] == trff, \\\"rub_monthly_fee\\\",].reset_index(\\n        drop=True\\n    )[0]\\n\\n    if cll_dur > min_incl:\\n        inc2 = (cll_dur - min_incl) * min_extra\\n\\n    if mb > mb_incl:\\n        inc3 = np.ceil((mb - mb_incl) / 1024) * mb_extra\\n\\n    if mss > mss_incl:\\n        inc4 = (mss - mss_incl) * mss_extra\\n\\n    return inc1 + inc2 + inc3 + inc4\";\n",
              "                var nbb_cells = Jupyter.notebook.get_cells();\n",
              "                for (var i = 0; i < nbb_cells.length; ++i) {\n",
              "                    if (nbb_cells[i].input_prompt_number == nbb_cell_id) {\n",
              "                        if (nbb_cells[i].get_text() == nbb_unformatted_code) {\n",
              "                             nbb_cells[i].set_text(nbb_formatted_code);\n",
              "                        }\n",
              "                        break;\n",
              "                    }\n",
              "                }\n",
              "            }, 500);\n",
              "            "
            ],
            "text/plain": [
              "<IPython.core.display.Javascript object>"
            ]
          },
          "metadata": {},
          "output_type": "display_data"
        }
      ],
      "source": [
        "def income(row):\n",
        "    # Обнуление расчетных переменных\n",
        "    inc1 = 0\n",
        "    inc2 = 0\n",
        "    inc3 = 0\n",
        "    inc4 = 0\n",
        "\n",
        "    # Объявляем переменные текущего массива\n",
        "    cll_dur = row[\"calls_duration_sum\"]\n",
        "    mb = row[\"mb_used_sum\"]\n",
        "    mss = row[\"message_count\"]\n",
        "    uid = row[\"user_id\"]\n",
        "    trff = row[\"tariff\"]\n",
        "    # И переменные из других таблиц\n",
        "    min_incl = tariffs.loc[\n",
        "        tariffs[\"tariff_name\"] == trff,\n",
        "        \"minutes_included\",\n",
        "    ].reset_index(drop=True)[0]\n",
        "    min_extra = tariffs.loc[\n",
        "        tariffs[\"tariff_name\"] == trff,\n",
        "        \"rub_per_minute\",\n",
        "    ].reset_index(drop=True)[0]\n",
        "    mb_incl = tariffs.loc[\n",
        "        tariffs[\"tariff_name\"] == trff,\n",
        "        \"mb_per_month_included\",\n",
        "    ].reset_index(drop=True)[0]\n",
        "    mb_extra = tariffs.loc[tariffs[\"tariff_name\"] == trff, \"rub_per_gb\",].reset_index(\n",
        "        drop=True\n",
        "    )[0]\n",
        "    mss_incl = tariffs.loc[\n",
        "        tariffs[\"tariff_name\"] == trff,\n",
        "        \"messages_included\",\n",
        "    ].reset_index(drop=True)[0]\n",
        "    mss_extra = tariffs.loc[\n",
        "        tariffs[\"tariff_name\"] == trff,\n",
        "        \"rub_per_message\",\n",
        "    ].reset_index(drop=True)[0]\n",
        "\n",
        "    # Вычисляем расчетные переменные\n",
        "    inc1 = tariffs.loc[tariffs[\"tariff_name\"] == trff, \"rub_monthly_fee\",].reset_index(\n",
        "        drop=True\n",
        "    )[0]\n",
        "\n",
        "    if cll_dur > min_incl:\n",
        "        inc2 = (cll_dur - min_incl) * min_extra\n",
        "\n",
        "    if mb > mb_incl:\n",
        "        inc3 = np.ceil((mb - mb_incl) / 1024) * mb_extra\n",
        "\n",
        "    if mss > mss_incl:\n",
        "        inc4 = (mss - mss_incl) * mss_extra\n",
        "\n",
        "    return inc1 + inc2 + inc3 + inc4"
      ]
    },
    {
      "cell_type": "code",
      "execution_count": null,
      "id": "b875b27f",
      "metadata": {
        "id": "b875b27f",
        "outputId": "58fe62ab-df23-4042-c312-e28477431871"
      },
      "outputs": [
        {
          "data": {
            "text/html": [
              "<div>\n",
              "<style scoped>\n",
              "    .dataframe tbody tr th:only-of-type {\n",
              "        vertical-align: middle;\n",
              "    }\n",
              "\n",
              "    .dataframe tbody tr th {\n",
              "        vertical-align: top;\n",
              "    }\n",
              "\n",
              "    .dataframe thead th {\n",
              "        text-align: right;\n",
              "    }\n",
              "</style>\n",
              "<table border=\"1\" class=\"dataframe\">\n",
              "  <thead>\n",
              "    <tr style=\"text-align: right;\">\n",
              "      <th></th>\n",
              "      <th>user_id</th>\n",
              "      <th>month</th>\n",
              "      <th>calls_duration_sum</th>\n",
              "      <th>calls_count</th>\n",
              "      <th>mb_used_sum</th>\n",
              "      <th>message_count</th>\n",
              "      <th>tariff</th>\n",
              "      <th>income</th>\n",
              "    </tr>\n",
              "  </thead>\n",
              "  <tbody>\n",
              "    <tr>\n",
              "      <th>3209</th>\n",
              "      <td>1498</td>\n",
              "      <td>10</td>\n",
              "      <td>247</td>\n",
              "      <td>41</td>\n",
              "      <td>20579.36</td>\n",
              "      <td>42</td>\n",
              "      <td>smart</td>\n",
              "      <td>1750</td>\n",
              "    </tr>\n",
              "    <tr>\n",
              "      <th>3210</th>\n",
              "      <td>1499</td>\n",
              "      <td>9</td>\n",
              "      <td>70</td>\n",
              "      <td>9</td>\n",
              "      <td>1845.75</td>\n",
              "      <td>11</td>\n",
              "      <td>smart</td>\n",
              "      <td>550</td>\n",
              "    </tr>\n",
              "    <tr>\n",
              "      <th>3211</th>\n",
              "      <td>1499</td>\n",
              "      <td>10</td>\n",
              "      <td>449</td>\n",
              "      <td>68</td>\n",
              "      <td>17788.51</td>\n",
              "      <td>48</td>\n",
              "      <td>smart</td>\n",
              "      <td>1150</td>\n",
              "    </tr>\n",
              "    <tr>\n",
              "      <th>3212</th>\n",
              "      <td>1499</td>\n",
              "      <td>11</td>\n",
              "      <td>612</td>\n",
              "      <td>74</td>\n",
              "      <td>17963.31</td>\n",
              "      <td>59</td>\n",
              "      <td>smart</td>\n",
              "      <td>1513</td>\n",
              "    </tr>\n",
              "    <tr>\n",
              "      <th>3213</th>\n",
              "      <td>1499</td>\n",
              "      <td>12</td>\n",
              "      <td>492</td>\n",
              "      <td>69</td>\n",
              "      <td>13055.58</td>\n",
              "      <td>66</td>\n",
              "      <td>smart</td>\n",
              "      <td>598</td>\n",
              "    </tr>\n",
              "  </tbody>\n",
              "</table>\n",
              "</div>"
            ],
            "text/plain": [
              "      user_id  month  calls_duration_sum  calls_count  mb_used_sum  \\\n",
              "3209     1498     10                 247           41     20579.36   \n",
              "3210     1499      9                  70            9      1845.75   \n",
              "3211     1499     10                 449           68     17788.51   \n",
              "3212     1499     11                 612           74     17963.31   \n",
              "3213     1499     12                 492           69     13055.58   \n",
              "\n",
              "      message_count tariff  income  \n",
              "3209             42  smart    1750  \n",
              "3210             11  smart     550  \n",
              "3211             48  smart    1150  \n",
              "3212             59  smart    1513  \n",
              "3213             66  smart     598  "
            ]
          },
          "execution_count": 24,
          "metadata": {},
          "output_type": "execute_result"
        },
        {
          "data": {
            "application/javascript": [
              "\n",
              "            setTimeout(function() {\n",
              "                var nbb_cell_id = 24;\n",
              "                var nbb_unformatted_code = \"df[\\\"income\\\"] = df.apply(income, axis=1).astype(int)\\ndf.tail()\";\n",
              "                var nbb_formatted_code = \"df[\\\"income\\\"] = df.apply(income, axis=1).astype(int)\\ndf.tail()\";\n",
              "                var nbb_cells = Jupyter.notebook.get_cells();\n",
              "                for (var i = 0; i < nbb_cells.length; ++i) {\n",
              "                    if (nbb_cells[i].input_prompt_number == nbb_cell_id) {\n",
              "                        if (nbb_cells[i].get_text() == nbb_unformatted_code) {\n",
              "                             nbb_cells[i].set_text(nbb_formatted_code);\n",
              "                        }\n",
              "                        break;\n",
              "                    }\n",
              "                }\n",
              "            }, 500);\n",
              "            "
            ],
            "text/plain": [
              "<IPython.core.display.Javascript object>"
            ]
          },
          "metadata": {},
          "output_type": "display_data"
        }
      ],
      "source": [
        "df[\"income\"] = df.apply(income, axis=1).astype(int)\n",
        "df.tail()"
      ]
    },
    {
      "cell_type": "markdown",
      "id": "3900ce01",
      "metadata": {
        "id": "3900ce01"
      },
      "source": [
        "Полученный вид таблицы соответствует ожиданиям"
      ]
    },
    {
      "cell_type": "markdown",
      "id": "559809d1",
      "metadata": {
        "id": "559809d1"
      },
      "source": [
        "## Заключение по предобработке данных"
      ]
    },
    {
      "cell_type": "markdown",
      "id": "29c95450",
      "metadata": {
        "id": "29c95450"
      },
      "source": [
        "В ходе предобработки данных:\n",
        "\n",
        "* исправлен тип хранения временных данных;\n",
        "* удален лишний столбец в таблице `internet`;\n",
        "* произведена группировка ключевых показателей в одну таблицу;\n",
        "* выполнен расчет помесячной выручки.\n",
        "\n",
        "Можно переходить к построению графиков, их анализу и формулированию гипотез."
      ]
    },
    {
      "cell_type": "markdown",
      "id": "c96aa2ce",
      "metadata": {
        "id": "c96aa2ce"
      },
      "source": [
        "# Анализ данных"
      ]
    },
    {
      "cell_type": "markdown",
      "id": "ac130079",
      "metadata": {
        "id": "ac130079"
      },
      "source": [
        "## Анализ поведения клиентов"
      ]
    },
    {
      "cell_type": "markdown",
      "id": "7ef1c9d2",
      "metadata": {
        "id": "7ef1c9d2"
      },
      "source": [
        "Проанализируем поведение клиентов оператора, исходя из выборки. Для этого построим гистограммы распределения медианных значений минут разговора, сообщений и объема интернет-трафика, а также гистограммы тех же величин в абсолютном выражении по месяцам.\n",
        "\n",
        "Медианное значение используется как более устойчивое по сравнению со средним к наличию выбросов в данных."
      ]
    },
    {
      "cell_type": "markdown",
      "id": "acc93fbd",
      "metadata": {
        "id": "acc93fbd"
      },
      "source": [
        "<div style=\"border-left: 7px solid blue\">\n",
        "    Не смотря на то, что при расчете стоимости обоих тарифов используются округленные значения минут разговора и объема интернет-трафика здесь и далее будем использовать их абсолютные значения. Это позволит более точно оценить пользователскую активность и выработать критерии для корректировки тарифных планов (при необходимости). \n",
        "</div>"
      ]
    },
    {
      "cell_type": "code",
      "execution_count": null,
      "id": "acd76644",
      "metadata": {
        "id": "acd76644",
        "outputId": "74b77bc6-ba2c-4e49-f162-6a3dde831643"
      },
      "outputs": [
        {
          "data": {
            "application/javascript": [
              "\n",
              "            setTimeout(function() {\n",
              "                var nbb_cell_id = 25;\n",
              "                var nbb_unformatted_code = \"hist_dict_tariff = {\\n    0: [[\\\"smart\\\", \\\"ultra\\\"], \\\"\\u041e\\u0431\\u0430 \\u0442\\u0430\\u0440\\u0438\\u0444\\u0430\\\", \\\"_\\\", \\\"_\\\", \\\"_\\\", \\\"_\\\", \\\"tomato\\\", 0.75],\\n    1: [[\\\"smart\\\"], \\\"\\u0422\\u0430\\u0440\\u0438\\u0444 Smart\\\", 500, 15360, 50, 550, \\\"limegreen\\\", 0.75],\\n    2: [[\\\"ultra\\\"], \\\"\\u0422\\u0430\\u0440\\u0438\\u0444 Ultra\\\", 3000, 30720, 1000, 1950, \\\"slateblue\\\", 0.75],\\n}\\nhist_dict_column = {\\n    0: [\\\"calls_duration_sum\\\", \\\"\\u041a\\u043e\\u043b\\u0438\\u0447\\u0435\\u0441\\u0442\\u0432\\u043e \\u043c\\u0438\\u043d\\u0443\\u0442\\\", \\\"\\u041a\\u043e\\u043b\\u0438\\u0447\\u0435\\u0441\\u0442\\u0432\\u043e, \\u043c\\u0438\\u043d.\\\"],\\n    1: [\\\"mb_used_sum\\\", \\\"\\u041e\\u0431\\u044a\\u0435\\u043c \\u0438\\u043d\\u0442\\u0435\\u0440\\u043d\\u0435\\u0442-\\u0442\\u0440\\u0430\\u0444\\u0438\\u043a\\u0430\\\", \\\"\\u041e\\u0431\\u044a\\u0435\\u043c, \\u041c\\u0431\\\"],\\n    2: [\\\"message_count\\\", \\\"\\u041a\\u043e\\u043b\\u0438\\u0447\\u0435\\u0441\\u0442\\u0432\\u043e \\u0441\\u043e\\u043e\\u0431\\u0449\\u0435\\u043d\\u0438\\u0439\\\", \\\"\\u041a\\u043e\\u043b\\u0438\\u0447\\u0435\\u0441\\u0442\\u0432\\u043e, \\u0448\\u0442.\\\"],\\n    3: [\\\"income\\\", \\\"\\u0412\\u044b\\u0440\\u0443\\u0447\\u043a\\u0430 \\u043e\\u0442 \\u0442\\u0430\\u0440\\u0438\\u0444\\u0430\\\", \\\"\\u0412\\u044b\\u0440\\u0443\\u0447\\u043a\\u0430, \\u0440\\u0443\\u0431.\\\"],\\n}\";\n",
              "                var nbb_formatted_code = \"hist_dict_tariff = {\\n    0: [[\\\"smart\\\", \\\"ultra\\\"], \\\"\\u041e\\u0431\\u0430 \\u0442\\u0430\\u0440\\u0438\\u0444\\u0430\\\", \\\"_\\\", \\\"_\\\", \\\"_\\\", \\\"_\\\", \\\"tomato\\\", 0.75],\\n    1: [[\\\"smart\\\"], \\\"\\u0422\\u0430\\u0440\\u0438\\u0444 Smart\\\", 500, 15360, 50, 550, \\\"limegreen\\\", 0.75],\\n    2: [[\\\"ultra\\\"], \\\"\\u0422\\u0430\\u0440\\u0438\\u0444 Ultra\\\", 3000, 30720, 1000, 1950, \\\"slateblue\\\", 0.75],\\n}\\nhist_dict_column = {\\n    0: [\\\"calls_duration_sum\\\", \\\"\\u041a\\u043e\\u043b\\u0438\\u0447\\u0435\\u0441\\u0442\\u0432\\u043e \\u043c\\u0438\\u043d\\u0443\\u0442\\\", \\\"\\u041a\\u043e\\u043b\\u0438\\u0447\\u0435\\u0441\\u0442\\u0432\\u043e, \\u043c\\u0438\\u043d.\\\"],\\n    1: [\\\"mb_used_sum\\\", \\\"\\u041e\\u0431\\u044a\\u0435\\u043c \\u0438\\u043d\\u0442\\u0435\\u0440\\u043d\\u0435\\u0442-\\u0442\\u0440\\u0430\\u0444\\u0438\\u043a\\u0430\\\", \\\"\\u041e\\u0431\\u044a\\u0435\\u043c, \\u041c\\u0431\\\"],\\n    2: [\\\"message_count\\\", \\\"\\u041a\\u043e\\u043b\\u0438\\u0447\\u0435\\u0441\\u0442\\u0432\\u043e \\u0441\\u043e\\u043e\\u0431\\u0449\\u0435\\u043d\\u0438\\u0439\\\", \\\"\\u041a\\u043e\\u043b\\u0438\\u0447\\u0435\\u0441\\u0442\\u0432\\u043e, \\u0448\\u0442.\\\"],\\n    3: [\\\"income\\\", \\\"\\u0412\\u044b\\u0440\\u0443\\u0447\\u043a\\u0430 \\u043e\\u0442 \\u0442\\u0430\\u0440\\u0438\\u0444\\u0430\\\", \\\"\\u0412\\u044b\\u0440\\u0443\\u0447\\u043a\\u0430, \\u0440\\u0443\\u0431.\\\"],\\n}\";\n",
              "                var nbb_cells = Jupyter.notebook.get_cells();\n",
              "                for (var i = 0; i < nbb_cells.length; ++i) {\n",
              "                    if (nbb_cells[i].input_prompt_number == nbb_cell_id) {\n",
              "                        if (nbb_cells[i].get_text() == nbb_unformatted_code) {\n",
              "                             nbb_cells[i].set_text(nbb_formatted_code);\n",
              "                        }\n",
              "                        break;\n",
              "                    }\n",
              "                }\n",
              "            }, 500);\n",
              "            "
            ],
            "text/plain": [
              "<IPython.core.display.Javascript object>"
            ]
          },
          "metadata": {},
          "output_type": "display_data"
        }
      ],
      "source": [
        "hist_dict_tariff = {\n",
        "    0: [[\"smart\", \"ultra\"], \"Оба тарифа\", \"_\", \"_\", \"_\", \"_\", \"tomato\", 0.75],\n",
        "    1: [[\"smart\"], \"Тариф Smart\", 500, 15360, 50, 550, \"limegreen\", 0.75],\n",
        "    2: [[\"ultra\"], \"Тариф Ultra\", 3000, 30720, 1000, 1950, \"slateblue\", 0.75],\n",
        "}\n",
        "hist_dict_column = {\n",
        "    0: [\"calls_duration_sum\", \"Количество минут\", \"Количество, мин.\"],\n",
        "    1: [\"mb_used_sum\", \"Объем интернет-трафика\", \"Объем, Мб\"],\n",
        "    2: [\"message_count\", \"Количество сообщений\", \"Количество, шт.\"],\n",
        "    3: [\"income\", \"Выручка от тарифа\", \"Выручка, руб.\"],\n",
        "}"
      ]
    },
    {
      "cell_type": "code",
      "execution_count": null,
      "id": "e88b424e",
      "metadata": {
        "id": "e88b424e",
        "outputId": "1f2acd6f-5cd1-4380-e402-2e0e379d9ea7"
      },
      "outputs": [
        {
          "data": {
            "application/javascript": [
              "\n",
              "            setTimeout(function() {\n",
              "                var nbb_cell_id = 26;\n",
              "                var nbb_unformatted_code = \"def hist_by_tariff(agg=\\\"median\\\", kxlim=[1, 1, 1], ind=[\\\"user_id\\\"]):\\n    _, axs = plt.subplots(1, 3, figsize=(18, 5))\\n\\n    for j in range(3):\\n        for i in range(3):\\n            a = df.loc[df[\\\"tariff\\\"].isin(hist_dict_tariff[j][0])].pivot_table(\\n                index=ind, values=hist_dict_column[i][0], aggfunc=agg\\n            )\\n\\n            axs[i].hist(\\n                a,\\n                alpha=hist_dict_tariff[j][7],\\n                bins=12,\\n                label=(hist_dict_tariff[j][1]),\\n                color=hist_dict_tariff[j][6],\\n                range=(0, a[hist_dict_column[i][0]].max() / kxlim[i]),\\n            )\\n            axs[i].set_title(hist_dict_column[i][1])\\n            axs[i].set_xlabel(hist_dict_column[i][2])\\n            axs[i].set_ylabel(\\\"\\u041a\\u043e\\u043b\\u0438\\u0447\\u0435\\u0441\\u0442\\u0432\\u043e \\u0437\\u043d\\u0430\\u0447\\u0435\\u043d\\u0438\\u0439\\\")\\n            axs[i].grid(True)\\n            axs[i].axvline(\\n                a[hist_dict_column[i][0]].mean(),\\n                color=hist_dict_tariff[j][6],\\n                linewidth=3,\\n                linestyle=\\\"--\\\",\\n            )\\n            axs[i].legend()\";\n",
              "                var nbb_formatted_code = \"def hist_by_tariff(agg=\\\"median\\\", kxlim=[1, 1, 1], ind=[\\\"user_id\\\"]):\\n    _, axs = plt.subplots(1, 3, figsize=(18, 5))\\n\\n    for j in range(3):\\n        for i in range(3):\\n            a = df.loc[df[\\\"tariff\\\"].isin(hist_dict_tariff[j][0])].pivot_table(\\n                index=ind, values=hist_dict_column[i][0], aggfunc=agg\\n            )\\n\\n            axs[i].hist(\\n                a,\\n                alpha=hist_dict_tariff[j][7],\\n                bins=12,\\n                label=(hist_dict_tariff[j][1]),\\n                color=hist_dict_tariff[j][6],\\n                range=(0, a[hist_dict_column[i][0]].max() / kxlim[i]),\\n            )\\n            axs[i].set_title(hist_dict_column[i][1])\\n            axs[i].set_xlabel(hist_dict_column[i][2])\\n            axs[i].set_ylabel(\\\"\\u041a\\u043e\\u043b\\u0438\\u0447\\u0435\\u0441\\u0442\\u0432\\u043e \\u0437\\u043d\\u0430\\u0447\\u0435\\u043d\\u0438\\u0439\\\")\\n            axs[i].grid(True)\\n            axs[i].axvline(\\n                a[hist_dict_column[i][0]].mean(),\\n                color=hist_dict_tariff[j][6],\\n                linewidth=3,\\n                linestyle=\\\"--\\\",\\n            )\\n            axs[i].legend()\";\n",
              "                var nbb_cells = Jupyter.notebook.get_cells();\n",
              "                for (var i = 0; i < nbb_cells.length; ++i) {\n",
              "                    if (nbb_cells[i].input_prompt_number == nbb_cell_id) {\n",
              "                        if (nbb_cells[i].get_text() == nbb_unformatted_code) {\n",
              "                             nbb_cells[i].set_text(nbb_formatted_code);\n",
              "                        }\n",
              "                        break;\n",
              "                    }\n",
              "                }\n",
              "            }, 500);\n",
              "            "
            ],
            "text/plain": [
              "<IPython.core.display.Javascript object>"
            ]
          },
          "metadata": {},
          "output_type": "display_data"
        }
      ],
      "source": [
        "def hist_by_tariff(agg=\"median\", kxlim=[1, 1, 1], ind=[\"user_id\"]):\n",
        "    _, axs = plt.subplots(1, 3, figsize=(18, 5))\n",
        "\n",
        "    for j in range(3):\n",
        "        for i in range(3):\n",
        "            a = df.loc[df[\"tariff\"].isin(hist_dict_tariff[j][0])].pivot_table(\n",
        "                index=ind, values=hist_dict_column[i][0], aggfunc=agg\n",
        "            )\n",
        "\n",
        "            axs[i].hist(\n",
        "                a,\n",
        "                alpha=hist_dict_tariff[j][7],\n",
        "                bins=12,\n",
        "                label=(hist_dict_tariff[j][1]),\n",
        "                color=hist_dict_tariff[j][6],\n",
        "                range=(0, a[hist_dict_column[i][0]].max() / kxlim[i]),\n",
        "            )\n",
        "            axs[i].set_title(hist_dict_column[i][1])\n",
        "            axs[i].set_xlabel(hist_dict_column[i][2])\n",
        "            axs[i].set_ylabel(\"Количество значений\")\n",
        "            axs[i].grid(True)\n",
        "            axs[i].axvline(\n",
        "                a[hist_dict_column[i][0]].mean(),\n",
        "                color=hist_dict_tariff[j][6],\n",
        "                linewidth=3,\n",
        "                linestyle=\"--\",\n",
        "            )\n",
        "            axs[i].legend()"
      ]
    },
    {
      "cell_type": "code",
      "execution_count": null,
      "id": "312a0ab7",
      "metadata": {
        "id": "312a0ab7",
        "outputId": "917f212e-e6cb-4560-e6e1-fc1c4f33a506"
      },
      "outputs": [
        {
          "data": {
            "application/javascript": [
              "\n",
              "            setTimeout(function() {\n",
              "                var nbb_cell_id = 27;\n",
              "                var nbb_unformatted_code = \"def bar_by_tariff(agg=\\\"median\\\", lim=1):\\n    _, axs = plt.subplots(1, 4, figsize=(24, 6))\\n    k = 0  # \\u0437\\u0430\\u0434\\u0430\\u0435\\u0442 \\u0441\\u043c\\u0435\\u0449\\u0435\\u043d\\u0438\\u0435 \\u0434\\u0432\\u0443\\u0445 \\u0441\\u0442\\u043e\\u043b\\u0431\\u0446\\u043e\\u0432\\n    for j in range(1, 3):\\n        for i in range(4):\\n            axs[i].bar(\\n                x=np.arange(len(df[\\\"month\\\"].unique())) + 0.8 + k,\\n                height=(\\n                    df.pivot_table(\\n                        index=[\\\"month\\\"],\\n                        values=hist_dict_column[i][0],\\n                        columns=\\\"tariff\\\",\\n                        aggfunc=agg,\\n                    )[hist_dict_tariff[j][0][0]].tolist()\\n                ),\\n                width=0.4,\\n                alpha=hist_dict_tariff[j][7],\\n                label=(hist_dict_tariff[j][1]),\\n                color=hist_dict_tariff[j][6],\\n            )\\n            axs[i].set_title(hist_dict_column[i][1])\\n            axs[i].set_xlabel(\\\"\\u041c\\u0435\\u0441\\u044f\\u0446\\u044b\\\")\\n            axs[i].set_ylabel(hist_dict_column[i][2])\\n            axs[i].axhline(\\n                hist_dict_tariff[j][2 + i] * lim,\\n                color=hist_dict_tariff[j][6],\\n                linewidth=5,\\n                linestyle=\\\"--\\\",\\n            )\\n            axs[i].grid(True)\\n            axs[i].legend()\\n        k = 0.4\";\n",
              "                var nbb_formatted_code = \"def bar_by_tariff(agg=\\\"median\\\", lim=1):\\n    _, axs = plt.subplots(1, 4, figsize=(24, 6))\\n    k = 0  # \\u0437\\u0430\\u0434\\u0430\\u0435\\u0442 \\u0441\\u043c\\u0435\\u0449\\u0435\\u043d\\u0438\\u0435 \\u0434\\u0432\\u0443\\u0445 \\u0441\\u0442\\u043e\\u043b\\u0431\\u0446\\u043e\\u0432\\n    for j in range(1, 3):\\n        for i in range(4):\\n            axs[i].bar(\\n                x=np.arange(len(df[\\\"month\\\"].unique())) + 0.8 + k,\\n                height=(\\n                    df.pivot_table(\\n                        index=[\\\"month\\\"],\\n                        values=hist_dict_column[i][0],\\n                        columns=\\\"tariff\\\",\\n                        aggfunc=agg,\\n                    )[hist_dict_tariff[j][0][0]].tolist()\\n                ),\\n                width=0.4,\\n                alpha=hist_dict_tariff[j][7],\\n                label=(hist_dict_tariff[j][1]),\\n                color=hist_dict_tariff[j][6],\\n            )\\n            axs[i].set_title(hist_dict_column[i][1])\\n            axs[i].set_xlabel(\\\"\\u041c\\u0435\\u0441\\u044f\\u0446\\u044b\\\")\\n            axs[i].set_ylabel(hist_dict_column[i][2])\\n            axs[i].axhline(\\n                hist_dict_tariff[j][2 + i] * lim,\\n                color=hist_dict_tariff[j][6],\\n                linewidth=5,\\n                linestyle=\\\"--\\\",\\n            )\\n            axs[i].grid(True)\\n            axs[i].legend()\\n        k = 0.4\";\n",
              "                var nbb_cells = Jupyter.notebook.get_cells();\n",
              "                for (var i = 0; i < nbb_cells.length; ++i) {\n",
              "                    if (nbb_cells[i].input_prompt_number == nbb_cell_id) {\n",
              "                        if (nbb_cells[i].get_text() == nbb_unformatted_code) {\n",
              "                             nbb_cells[i].set_text(nbb_formatted_code);\n",
              "                        }\n",
              "                        break;\n",
              "                    }\n",
              "                }\n",
              "            }, 500);\n",
              "            "
            ],
            "text/plain": [
              "<IPython.core.display.Javascript object>"
            ]
          },
          "metadata": {},
          "output_type": "display_data"
        }
      ],
      "source": [
        "def bar_by_tariff(agg=\"median\", lim=1):\n",
        "    _, axs = plt.subplots(1, 4, figsize=(24, 6))\n",
        "    k = 0  # задает смещение двух столбцов\n",
        "    for j in range(1, 3):\n",
        "        for i in range(4):\n",
        "            axs[i].bar(\n",
        "                x=np.arange(len(df[\"month\"].unique())) + 0.8 + k,\n",
        "                height=(\n",
        "                    df.pivot_table(\n",
        "                        index=[\"month\"],\n",
        "                        values=hist_dict_column[i][0],\n",
        "                        columns=\"tariff\",\n",
        "                        aggfunc=agg,\n",
        "                    )[hist_dict_tariff[j][0][0]].tolist()\n",
        "                ),\n",
        "                width=0.4,\n",
        "                alpha=hist_dict_tariff[j][7],\n",
        "                label=(hist_dict_tariff[j][1]),\n",
        "                color=hist_dict_tariff[j][6],\n",
        "            )\n",
        "            axs[i].set_title(hist_dict_column[i][1])\n",
        "            axs[i].set_xlabel(\"Месяцы\")\n",
        "            axs[i].set_ylabel(hist_dict_column[i][2])\n",
        "            axs[i].axhline(\n",
        "                hist_dict_tariff[j][2 + i] * lim,\n",
        "                color=hist_dict_tariff[j][6],\n",
        "                linewidth=5,\n",
        "                linestyle=\"--\",\n",
        "            )\n",
        "            axs[i].grid(True)\n",
        "            axs[i].legend()\n",
        "        k = 0.4"
      ]
    },
    {
      "cell_type": "code",
      "execution_count": null,
      "id": "3874f1bb",
      "metadata": {
        "scrolled": false,
        "id": "3874f1bb",
        "outputId": "72753274-f96d-410c-f218-b2fe19c87675"
      },
      "outputs": [
        {
          "data": {
            "image/png": "[encoded data removed]",
            "text/plain": [
              "<Figure size 1296x360 with 3 Axes>"
            ]
          },
          "metadata": {
            "needs_background": "light"
          },
          "output_type": "display_data"
        },
        {
          "data": {
            "application/javascript": [
              "\n",
              "            setTimeout(function() {\n",
              "                var nbb_cell_id = 28;\n",
              "                var nbb_unformatted_code = \"hist_by_tariff()\\nplt.suptitle(\\\"\\u0413\\u0438\\u0441\\u0442\\u043e\\u0433\\u0440\\u0430\\u043c\\u043c\\u044b \\u0440\\u0430\\u0441\\u043f\\u0440\\u0435\\u0434\\u0435\\u043b\\u0435\\u043d\\u0438\\u044f \\u043f\\u043e\\u043b\\u044c\\u0437\\u043e\\u0432\\u0430\\u0442\\u0435\\u043b\\u044c\\u0441\\u043a\\u043e\\u0439 \\u0430\\u043a\\u0442\\u0438\\u0432\\u043d\\u043e\\u0441\\u0442\\u0438\\\")\\nplt.show()\";\n",
              "                var nbb_formatted_code = \"hist_by_tariff()\\nplt.suptitle(\\\"\\u0413\\u0438\\u0441\\u0442\\u043e\\u0433\\u0440\\u0430\\u043c\\u043c\\u044b \\u0440\\u0430\\u0441\\u043f\\u0440\\u0435\\u0434\\u0435\\u043b\\u0435\\u043d\\u0438\\u044f \\u043f\\u043e\\u043b\\u044c\\u0437\\u043e\\u0432\\u0430\\u0442\\u0435\\u043b\\u044c\\u0441\\u043a\\u043e\\u0439 \\u0430\\u043a\\u0442\\u0438\\u0432\\u043d\\u043e\\u0441\\u0442\\u0438\\\")\\nplt.show()\";\n",
              "                var nbb_cells = Jupyter.notebook.get_cells();\n",
              "                for (var i = 0; i < nbb_cells.length; ++i) {\n",
              "                    if (nbb_cells[i].input_prompt_number == nbb_cell_id) {\n",
              "                        if (nbb_cells[i].get_text() == nbb_unformatted_code) {\n",
              "                             nbb_cells[i].set_text(nbb_formatted_code);\n",
              "                        }\n",
              "                        break;\n",
              "                    }\n",
              "                }\n",
              "            }, 500);\n",
              "            "
            ],
            "text/plain": [
              "<IPython.core.display.Javascript object>"
            ]
          },
          "metadata": {},
          "output_type": "display_data"
        }
      ],
      "source": [
        "hist_by_tariff()\n",
        "plt.suptitle(\"Гистограммы распределения пользовательской активности\")\n",
        "plt.show()"
      ]
    },
    {
      "cell_type": "markdown",
      "id": "168f3334",
      "metadata": {
        "id": "168f3334"
      },
      "source": [
        "Штриховые линии на гистограммах распределения соответствуют среднему значению.\n",
        "\n",
        "По гистограммам распределения видно, что количество пользователей тарифа Smart превалирует над количеством пользователей тарифа Ultra. В результате чего, средние значения показателей первой группы близки к аналогичным показателям всей выборки.\n",
        "\n",
        "Распределения активности пользователей тарифа Smart по количеству минут разговора и объему трафика близко к нормальному со смещенным средним, а по количеству сообщений - близко к распределению Пуассона. Активность пользователей тарифа Ultra равномерно распределена, что не позволяет достоверно определить ее характер. "
      ]
    },
    {
      "cell_type": "code",
      "execution_count": null,
      "id": "16b8e4b1",
      "metadata": {
        "scrolled": false,
        "id": "16b8e4b1",
        "outputId": "7ec41c1e-dc48-438e-9fbc-b36d483f5a35"
      },
      "outputs": [
        {
          "data": {
            "image/png": "[encoded data removed]",
            "text/plain": [
              "<Figure size 1728x432 with 4 Axes>"
            ]
          },
          "metadata": {
            "needs_background": "light"
          },
          "output_type": "display_data"
        },
        {
          "data": {
            "application/javascript": [
              "\n",
              "            setTimeout(function() {\n",
              "                var nbb_cell_id = 29;\n",
              "                var nbb_unformatted_code = \"bar_by_tariff()\\nplt.suptitle(\\\"\\u0413\\u0438\\u0441\\u0442\\u043e\\u0433\\u0440\\u0430\\u043c\\u043c\\u044b \\u0430\\u0431\\u0441\\u043e\\u043b\\u044e\\u0442\\u043d\\u044b\\u0445 \\u0437\\u043d\\u0430\\u0447\\u0435\\u043d\\u0438\\u0439 \\u043f\\u043e\\u043b\\u044c\\u0437\\u043e\\u0432\\u0430\\u0442\\u0435\\u043b\\u044c\\u0441\\u043a\\u043e\\u0439 \\u0430\\u043a\\u0442\\u0438\\u0432\\u043d\\u043e\\u0441\\u0442\\u0438\\\")\\nplt.show()\";\n",
              "                var nbb_formatted_code = \"bar_by_tariff()\\nplt.suptitle(\\\"\\u0413\\u0438\\u0441\\u0442\\u043e\\u0433\\u0440\\u0430\\u043c\\u043c\\u044b \\u0430\\u0431\\u0441\\u043e\\u043b\\u044e\\u0442\\u043d\\u044b\\u0445 \\u0437\\u043d\\u0430\\u0447\\u0435\\u043d\\u0438\\u0439 \\u043f\\u043e\\u043b\\u044c\\u0437\\u043e\\u0432\\u0430\\u0442\\u0435\\u043b\\u044c\\u0441\\u043a\\u043e\\u0439 \\u0430\\u043a\\u0442\\u0438\\u0432\\u043d\\u043e\\u0441\\u0442\\u0438\\\")\\nplt.show()\";\n",
              "                var nbb_cells = Jupyter.notebook.get_cells();\n",
              "                for (var i = 0; i < nbb_cells.length; ++i) {\n",
              "                    if (nbb_cells[i].input_prompt_number == nbb_cell_id) {\n",
              "                        if (nbb_cells[i].get_text() == nbb_unformatted_code) {\n",
              "                             nbb_cells[i].set_text(nbb_formatted_code);\n",
              "                        }\n",
              "                        break;\n",
              "                    }\n",
              "                }\n",
              "            }, 500);\n",
              "            "
            ],
            "text/plain": [
              "<IPython.core.display.Javascript object>"
            ]
          },
          "metadata": {},
          "output_type": "display_data"
        }
      ],
      "source": [
        "bar_by_tariff()\n",
        "plt.suptitle(\"Гистограммы абсолютных значений пользовательской активности\")\n",
        "plt.show()"
      ]
    },
    {
      "cell_type": "markdown",
      "id": "e638f552",
      "metadata": {
        "id": "e638f552"
      },
      "source": [
        "Штриховые линии на гистограммах абсолютных значений соответствуют тарифным лимитам.\n",
        "\n",
        "По гистограммам абсолютных значений длительности разговоров можно сделать вывод, что пользователи обоих тарифов укладываются в тарифный лимит. Однако пользователи Smart делают это на пределе возможностей, а Ultra - незначительно превосходят лимит первых.\n",
        "\n",
        "Пользователи тарифа Smart, начиная с мая, регулярно превышают лимит по интернет-трафику. В то же время, аналогично минутам разговора, пользователи Ultra недобирают свой лимит, незначительно превышая пороговое значение первой группы.\n",
        "\n",
        "Смс-сообщения пользователями обоих тарифов используются не активно, а их количество гарантированно не превышает порогового значения тарифа Smart.\n",
        "\n",
        "По гистограммам абсолютных значений выручки видно, что пользователи тарифа Ultra, в основном, платят только абонентскую плату. В то время, как пользователи Smart регулярно переплачивают из-за перерасхода интернет-трафика, но эта переплата меньше абонентской платы Ultra."
      ]
    },
    {
      "cell_type": "markdown",
      "id": "d43ecea8",
      "metadata": {
        "id": "d43ecea8"
      },
      "source": [
        "Построим гистограммы среднего, СКО и дисперсии при помощи созданной функции `bar_by_tariff`."
      ]
    },
    {
      "cell_type": "code",
      "execution_count": null,
      "id": "2fecdb6f",
      "metadata": {
        "id": "2fecdb6f",
        "outputId": "d198d9a7-665b-4f02-8920-c2bbef4cf8ca"
      },
      "outputs": [
        {
          "data": {
            "image/png": "[encoded data removed]",
            "text/plain": [
              "<Figure size 1728x432 with 4 Axes>"
            ]
          },
          "metadata": {
            "needs_background": "light"
          },
          "output_type": "display_data"
        },
        {
          "data": {
            "application/javascript": [
              "\n",
              "            setTimeout(function() {\n",
              "                var nbb_cell_id = 30;\n",
              "                var nbb_unformatted_code = \"bar_by_tariff(\\\"mean\\\", lim=0)\\nplt.suptitle(\\\"\\u0413\\u0438\\u0441\\u0442\\u043e\\u0433\\u0440\\u0430\\u043c\\u043c\\u044b \\u0430\\u0431\\u0441\\u043e\\u043b\\u044e\\u0442\\u043d\\u044b\\u0445 \\u0441\\u0440\\u0435\\u0434\\u043d\\u0435\\u0433\\u043e \\u043f\\u043e \\u043c\\u0435\\u0441\\u044f\\u0446\\u0430\\u043c\\\")\\nplt.show()\";\n",
              "                var nbb_formatted_code = \"bar_by_tariff(\\\"mean\\\", lim=0)\\nplt.suptitle(\\\"\\u0413\\u0438\\u0441\\u0442\\u043e\\u0433\\u0440\\u0430\\u043c\\u043c\\u044b \\u0430\\u0431\\u0441\\u043e\\u043b\\u044e\\u0442\\u043d\\u044b\\u0445 \\u0441\\u0440\\u0435\\u0434\\u043d\\u0435\\u0433\\u043e \\u043f\\u043e \\u043c\\u0435\\u0441\\u044f\\u0446\\u0430\\u043c\\\")\\nplt.show()\";\n",
              "                var nbb_cells = Jupyter.notebook.get_cells();\n",
              "                for (var i = 0; i < nbb_cells.length; ++i) {\n",
              "                    if (nbb_cells[i].input_prompt_number == nbb_cell_id) {\n",
              "                        if (nbb_cells[i].get_text() == nbb_unformatted_code) {\n",
              "                             nbb_cells[i].set_text(nbb_formatted_code);\n",
              "                        }\n",
              "                        break;\n",
              "                    }\n",
              "                }\n",
              "            }, 500);\n",
              "            "
            ],
            "text/plain": [
              "<IPython.core.display.Javascript object>"
            ]
          },
          "metadata": {},
          "output_type": "display_data"
        }
      ],
      "source": [
        "bar_by_tariff(\"mean\", lim=0)\n",
        "plt.suptitle(\"Гистограммы абсолютных среднего по месяцам\")\n",
        "plt.show()"
      ]
    },
    {
      "cell_type": "code",
      "execution_count": null,
      "id": "a707913a",
      "metadata": {
        "scrolled": true,
        "id": "a707913a",
        "outputId": "a86f6cce-f0e9-411f-ad64-bb5d7d3c87b3"
      },
      "outputs": [
        {
          "data": {
            "image/png": "[encoded data removed]",
            "text/plain": [
              "<Figure size 1728x432 with 4 Axes>"
            ]
          },
          "metadata": {
            "needs_background": "light"
          },
          "output_type": "display_data"
        },
        {
          "data": {
            "application/javascript": [
              "\n",
              "            setTimeout(function() {\n",
              "                var nbb_cell_id = 31;\n",
              "                var nbb_unformatted_code = \"bar_by_tariff(\\\"std\\\", lim=0)\\nplt.suptitle(\\\"\\u0413\\u0438\\u0441\\u0442\\u043e\\u0433\\u0440\\u0430\\u043c\\u043c\\u044b \\u0430\\u0431\\u0441\\u043e\\u043b\\u044e\\u0442\\u043d\\u044b\\u0445 \\u0437\\u043d\\u0430\\u0447\\u0435\\u043d\\u0438\\u0439 \\u0421\\u041a\\u041e \\u043f\\u043e \\u043c\\u0435\\u0441\\u044f\\u0446\\u0430\\u043c\\\")\\nplt.show()\";\n",
              "                var nbb_formatted_code = \"bar_by_tariff(\\\"std\\\", lim=0)\\nplt.suptitle(\\\"\\u0413\\u0438\\u0441\\u0442\\u043e\\u0433\\u0440\\u0430\\u043c\\u043c\\u044b \\u0430\\u0431\\u0441\\u043e\\u043b\\u044e\\u0442\\u043d\\u044b\\u0445 \\u0437\\u043d\\u0430\\u0447\\u0435\\u043d\\u0438\\u0439 \\u0421\\u041a\\u041e \\u043f\\u043e \\u043c\\u0435\\u0441\\u044f\\u0446\\u0430\\u043c\\\")\\nplt.show()\";\n",
              "                var nbb_cells = Jupyter.notebook.get_cells();\n",
              "                for (var i = 0; i < nbb_cells.length; ++i) {\n",
              "                    if (nbb_cells[i].input_prompt_number == nbb_cell_id) {\n",
              "                        if (nbb_cells[i].get_text() == nbb_unformatted_code) {\n",
              "                             nbb_cells[i].set_text(nbb_formatted_code);\n",
              "                        }\n",
              "                        break;\n",
              "                    }\n",
              "                }\n",
              "            }, 500);\n",
              "            "
            ],
            "text/plain": [
              "<IPython.core.display.Javascript object>"
            ]
          },
          "metadata": {},
          "output_type": "display_data"
        }
      ],
      "source": [
        "bar_by_tariff(\"std\", lim=0)\n",
        "plt.suptitle(\"Гистограммы абсолютных значений СКО по месяцам\")\n",
        "plt.show()"
      ]
    },
    {
      "cell_type": "code",
      "execution_count": null,
      "id": "243c2f89",
      "metadata": {
        "id": "243c2f89",
        "outputId": "24f527eb-abca-4169-bfc6-d14d150d34af"
      },
      "outputs": [
        {
          "data": {
            "image/png": "[encoded data removed]",
            "text/plain": [
              "<Figure size 1728x432 with 4 Axes>"
            ]
          },
          "metadata": {
            "needs_background": "light"
          },
          "output_type": "display_data"
        },
        {
          "data": {
            "application/javascript": [
              "\n",
              "            setTimeout(function() {\n",
              "                var nbb_cell_id = 32;\n",
              "                var nbb_unformatted_code = \"bar_by_tariff(\\\"var\\\", lim=0)\\nplt.suptitle(\\\"\\u0413\\u0438\\u0441\\u0442\\u043e\\u0433\\u0440\\u0430\\u043c\\u043c\\u044b \\u0430\\u0431\\u0441\\u043e\\u043b\\u044e\\u0442\\u043d\\u044b\\u0445 \\u0437\\u043d\\u0430\\u0447\\u0435\\u043d\\u0438\\u0439 \\u0434\\u0438\\u0441\\u043f\\u0435\\u0440\\u0441\\u0438\\u0438 \\u043f\\u043e \\u043c\\u0435\\u0441\\u044f\\u0446\\u0430\\u043c\\\")\\nplt.show()\";\n",
              "                var nbb_formatted_code = \"bar_by_tariff(\\\"var\\\", lim=0)\\nplt.suptitle(\\\"\\u0413\\u0438\\u0441\\u0442\\u043e\\u0433\\u0440\\u0430\\u043c\\u043c\\u044b \\u0430\\u0431\\u0441\\u043e\\u043b\\u044e\\u0442\\u043d\\u044b\\u0445 \\u0437\\u043d\\u0430\\u0447\\u0435\\u043d\\u0438\\u0439 \\u0434\\u0438\\u0441\\u043f\\u0435\\u0440\\u0441\\u0438\\u0438 \\u043f\\u043e \\u043c\\u0435\\u0441\\u044f\\u0446\\u0430\\u043c\\\")\\nplt.show()\";\n",
              "                var nbb_cells = Jupyter.notebook.get_cells();\n",
              "                for (var i = 0; i < nbb_cells.length; ++i) {\n",
              "                    if (nbb_cells[i].input_prompt_number == nbb_cell_id) {\n",
              "                        if (nbb_cells[i].get_text() == nbb_unformatted_code) {\n",
              "                             nbb_cells[i].set_text(nbb_formatted_code);\n",
              "                        }\n",
              "                        break;\n",
              "                    }\n",
              "                }\n",
              "            }, 500);\n",
              "            "
            ],
            "text/plain": [
              "<IPython.core.display.Javascript object>"
            ]
          },
          "metadata": {},
          "output_type": "display_data"
        }
      ],
      "source": [
        "bar_by_tariff(\"var\", lim=0)\n",
        "plt.suptitle(\"Гистограммы абсолютных значений дисперсии по месяцам\")\n",
        "plt.show()"
      ]
    },
    {
      "cell_type": "markdown",
      "id": "f4fe3f8d",
      "metadata": {
        "id": "f4fe3f8d"
      },
      "source": [
        "По гистограммам среднего, СКО и дисперсии видно, что исследуемые характеристики обладают большим разбросом данных. Так, СКО в помесячном рассмотрении находится на уровне среднего значения и, зачастую, может его превышать."
      ]
    },
    {
      "cell_type": "markdown",
      "id": "52467776",
      "metadata": {
        "id": "52467776"
      },
      "source": [
        "## Проверка гипотезы №1"
      ]
    },
    {
      "cell_type": "markdown",
      "id": "3ef598fb",
      "metadata": {
        "id": "3ef598fb"
      },
      "source": [
        "Проведем проверку следующих основной и альтернативной гипотез:\n",
        "* Н0: средняя выручка пользователей тарифов «Ультра» и «Смарт» равны;\n",
        "* Н1: средняя выручка пользователей тарифов «Ультра» и «Смарт» различаются."
      ]
    },
    {
      "cell_type": "code",
      "execution_count": null,
      "id": "7221e9d5",
      "metadata": {
        "id": "7221e9d5",
        "outputId": "674e957d-1181-43a2-eed6-70513e0e92c5"
      },
      "outputs": [
        {
          "data": {
            "text/plain": [
              "4.2606313931076085e-250"
            ]
          },
          "execution_count": 33,
          "metadata": {},
          "output_type": "execute_result"
        },
        {
          "data": {
            "application/javascript": [
              "\n",
              "            setTimeout(function() {\n",
              "                var nbb_cell_id = 33;\n",
              "                var nbb_unformatted_code = \"result_hyp_n1 = st.ttest_ind(\\n    df.loc[df[\\\"tariff\\\"] == \\\"smart\\\"][\\\"income\\\"],\\n    df.loc[df[\\\"tariff\\\"] == \\\"ultra\\\"][\\\"income\\\"],\\n    equal_var=False,  # \\u0412\\u044b\\u0431\\u043e\\u0440\\u043a\\u0438 \\u0440\\u0430\\u0437\\u043d\\u043e\\u0433\\u043e \\u0440\\u0430\\u0437\\u043c\\u0435\\u0440\\u0430 \\u0441 \\u0440\\u0430\\u0437\\u043d\\u043e\\u0439 \\u0434\\u0438\\u0441\\u043f\\u0435\\u0440\\u0441\\u0438\\u0435\\u0439\\n)\\n\\nresult_hyp_n1.pvalue\";\n",
              "                var nbb_formatted_code = \"result_hyp_n1 = st.ttest_ind(\\n    df.loc[df[\\\"tariff\\\"] == \\\"smart\\\"][\\\"income\\\"],\\n    df.loc[df[\\\"tariff\\\"] == \\\"ultra\\\"][\\\"income\\\"],\\n    equal_var=False,  # \\u0412\\u044b\\u0431\\u043e\\u0440\\u043a\\u0438 \\u0440\\u0430\\u0437\\u043d\\u043e\\u0433\\u043e \\u0440\\u0430\\u0437\\u043c\\u0435\\u0440\\u0430 \\u0441 \\u0440\\u0430\\u0437\\u043d\\u043e\\u0439 \\u0434\\u0438\\u0441\\u043f\\u0435\\u0440\\u0441\\u0438\\u0435\\u0439\\n)\\n\\nresult_hyp_n1.pvalue\";\n",
              "                var nbb_cells = Jupyter.notebook.get_cells();\n",
              "                for (var i = 0; i < nbb_cells.length; ++i) {\n",
              "                    if (nbb_cells[i].input_prompt_number == nbb_cell_id) {\n",
              "                        if (nbb_cells[i].get_text() == nbb_unformatted_code) {\n",
              "                             nbb_cells[i].set_text(nbb_formatted_code);\n",
              "                        }\n",
              "                        break;\n",
              "                    }\n",
              "                }\n",
              "            }, 500);\n",
              "            "
            ],
            "text/plain": [
              "<IPython.core.display.Javascript object>"
            ]
          },
          "metadata": {},
          "output_type": "display_data"
        }
      ],
      "source": [
        "result_hyp_n1 = st.ttest_ind(\n",
        "    df.loc[df[\"tariff\"] == \"smart\"][\"income\"],\n",
        "    df.loc[df[\"tariff\"] == \"ultra\"][\"income\"],\n",
        "    equal_var=False,  # Выборки разного размера с разной дисперсией\n",
        ")\n",
        "\n",
        "result_hyp_n1.pvalue"
      ]
    },
    {
      "cell_type": "markdown",
      "id": "2ae73248",
      "metadata": {
        "id": "2ae73248"
      },
      "source": [
        "Вероятность чрезвычайно мала, а значит, при любом значимом значении уровня значимости (альфа) гипотеза Н0 отвергается. Следовательно, принимаем альтернативную гипотезу."
      ]
    },
    {
      "cell_type": "markdown",
      "id": "03bdfb9d",
      "metadata": {
        "id": "03bdfb9d"
      },
      "source": [
        "Посчитаем общую выручку от тарифов за год."
      ]
    },
    {
      "cell_type": "code",
      "execution_count": null,
      "id": "c0acbf09",
      "metadata": {
        "id": "c0acbf09",
        "outputId": "01dcd8cd-d895-45a0-e214-a0a4902a8464"
      },
      "outputs": [
        {
          "data": {
            "text/html": [
              "<div>\n",
              "<style scoped>\n",
              "    .dataframe tbody tr th:only-of-type {\n",
              "        vertical-align: middle;\n",
              "    }\n",
              "\n",
              "    .dataframe tbody tr th {\n",
              "        vertical-align: top;\n",
              "    }\n",
              "\n",
              "    .dataframe thead th {\n",
              "        text-align: right;\n",
              "    }\n",
              "</style>\n",
              "<table border=\"1\" class=\"dataframe\">\n",
              "  <thead>\n",
              "    <tr style=\"text-align: right;\">\n",
              "      <th></th>\n",
              "      <th>mean</th>\n",
              "      <th>sum</th>\n",
              "    </tr>\n",
              "    <tr>\n",
              "      <th>tariff</th>\n",
              "      <th></th>\n",
              "      <th></th>\n",
              "    </tr>\n",
              "  </thead>\n",
              "  <tbody>\n",
              "    <tr>\n",
              "      <th>smart</th>\n",
              "      <td>1289.973531</td>\n",
              "      <td>2875351.0</td>\n",
              "    </tr>\n",
              "    <tr>\n",
              "      <th>ultra</th>\n",
              "      <td>2070.152284</td>\n",
              "      <td>2039100.0</td>\n",
              "    </tr>\n",
              "  </tbody>\n",
              "</table>\n",
              "</div>"
            ],
            "text/plain": [
              "               mean        sum\n",
              "tariff                        \n",
              "smart   1289.973531  2875351.0\n",
              "ultra   2070.152284  2039100.0"
            ]
          },
          "execution_count": 34,
          "metadata": {},
          "output_type": "execute_result"
        },
        {
          "data": {
            "application/javascript": [
              "\n",
              "            setTimeout(function() {\n",
              "                var nbb_cell_id = 34;\n",
              "                var nbb_unformatted_code = \"df.pivot_table(index=\\\"tariff\\\", values=\\\"income\\\", aggfunc={\\\"sum\\\", \\\"mean\\\"})\";\n",
              "                var nbb_formatted_code = \"df.pivot_table(index=\\\"tariff\\\", values=\\\"income\\\", aggfunc={\\\"sum\\\", \\\"mean\\\"})\";\n",
              "                var nbb_cells = Jupyter.notebook.get_cells();\n",
              "                for (var i = 0; i < nbb_cells.length; ++i) {\n",
              "                    if (nbb_cells[i].input_prompt_number == nbb_cell_id) {\n",
              "                        if (nbb_cells[i].get_text() == nbb_unformatted_code) {\n",
              "                             nbb_cells[i].set_text(nbb_formatted_code);\n",
              "                        }\n",
              "                        break;\n",
              "                    }\n",
              "                }\n",
              "            }, 500);\n",
              "            "
            ],
            "text/plain": [
              "<IPython.core.display.Javascript object>"
            ]
          },
          "metadata": {},
          "output_type": "display_data"
        }
      ],
      "source": [
        "df.pivot_table(index=\"tariff\", values=\"income\", aggfunc={\"sum\", \"mean\"})"
      ]
    },
    {
      "cell_type": "code",
      "execution_count": null,
      "id": "12d9ae77",
      "metadata": {
        "id": "12d9ae77",
        "outputId": "773dfc5d-bafb-45c1-8cee-3eb74803487e"
      },
      "outputs": [
        {
          "data": {
            "text/plain": [
              "0.5853658536585366"
            ]
          },
          "execution_count": 35,
          "metadata": {},
          "output_type": "execute_result"
        },
        {
          "data": {
            "application/javascript": [
              "\n",
              "            setTimeout(function() {\n",
              "                var nbb_cell_id = 35;\n",
              "                var nbb_unformatted_code = \"288 / (288 + 204)\";\n",
              "                var nbb_formatted_code = \"288 / (288 + 204)\";\n",
              "                var nbb_cells = Jupyter.notebook.get_cells();\n",
              "                for (var i = 0; i < nbb_cells.length; ++i) {\n",
              "                    if (nbb_cells[i].input_prompt_number == nbb_cell_id) {\n",
              "                        if (nbb_cells[i].get_text() == nbb_unformatted_code) {\n",
              "                             nbb_cells[i].set_text(nbb_formatted_code);\n",
              "                        }\n",
              "                        break;\n",
              "                    }\n",
              "                }\n",
              "            }, 500);\n",
              "            "
            ],
            "text/plain": [
              "<IPython.core.display.Javascript object>"
            ]
          },
          "metadata": {},
          "output_type": "display_data"
        }
      ],
      "source": [
        "288 / (288 + 204)"
      ]
    },
    {
      "cell_type": "markdown",
      "id": "20fc71b3",
      "metadata": {
        "id": "20fc71b3"
      },
      "source": [
        "По полученным значениям видно, что выручка от тарифа Smart выше и составляет около 58,5% от общей выручки."
      ]
    },
    {
      "cell_type": "markdown",
      "id": "2a12d997",
      "metadata": {
        "id": "2a12d997"
      },
      "source": [
        "## Проверка гипотезы №2"
      ]
    },
    {
      "cell_type": "markdown",
      "id": "7363d6a4",
      "metadata": {
        "id": "7363d6a4"
      },
      "source": [
        "Проведем проверку следующих основной и альтернативной гипотез:\n",
        "* H0: средняя выручка пользователей из Москвы равна выручке пользователей из других регионов.\n",
        "* H1: средняя выручка пользователей из Москвы отличается от выручки пользователей из других регионов.\n",
        "\n",
        "Для проверки гипотезы добавим в таблицу столбец со значением города."
      ]
    },
    {
      "cell_type": "code",
      "execution_count": null,
      "id": "af3f4c98",
      "metadata": {
        "id": "af3f4c98",
        "outputId": "300f3dea-b150-4598-cd2a-d10c63c93564"
      },
      "outputs": [
        {
          "data": {
            "text/html": [
              "<div>\n",
              "<style scoped>\n",
              "    .dataframe tbody tr th:only-of-type {\n",
              "        vertical-align: middle;\n",
              "    }\n",
              "\n",
              "    .dataframe tbody tr th {\n",
              "        vertical-align: top;\n",
              "    }\n",
              "\n",
              "    .dataframe thead th {\n",
              "        text-align: right;\n",
              "    }\n",
              "</style>\n",
              "<table border=\"1\" class=\"dataframe\">\n",
              "  <thead>\n",
              "    <tr style=\"text-align: right;\">\n",
              "      <th></th>\n",
              "      <th>user_id</th>\n",
              "      <th>city</th>\n",
              "      <th>month</th>\n",
              "      <th>calls_duration_sum</th>\n",
              "      <th>calls_count</th>\n",
              "      <th>mb_used_sum</th>\n",
              "      <th>message_count</th>\n",
              "      <th>tariff</th>\n",
              "      <th>income</th>\n",
              "    </tr>\n",
              "  </thead>\n",
              "  <tbody>\n",
              "    <tr>\n",
              "      <th>0</th>\n",
              "      <td>1000</td>\n",
              "      <td>Краснодар</td>\n",
              "      <td>5</td>\n",
              "      <td>159</td>\n",
              "      <td>22</td>\n",
              "      <td>2253.49</td>\n",
              "      <td>22</td>\n",
              "      <td>ultra</td>\n",
              "      <td>1950</td>\n",
              "    </tr>\n",
              "    <tr>\n",
              "      <th>1</th>\n",
              "      <td>1000</td>\n",
              "      <td>Краснодар</td>\n",
              "      <td>6</td>\n",
              "      <td>172</td>\n",
              "      <td>43</td>\n",
              "      <td>23233.77</td>\n",
              "      <td>60</td>\n",
              "      <td>ultra</td>\n",
              "      <td>1950</td>\n",
              "    </tr>\n",
              "    <tr>\n",
              "      <th>2</th>\n",
              "      <td>1000</td>\n",
              "      <td>Краснодар</td>\n",
              "      <td>7</td>\n",
              "      <td>340</td>\n",
              "      <td>47</td>\n",
              "      <td>14003.64</td>\n",
              "      <td>75</td>\n",
              "      <td>ultra</td>\n",
              "      <td>1950</td>\n",
              "    </tr>\n",
              "    <tr>\n",
              "      <th>3</th>\n",
              "      <td>1000</td>\n",
              "      <td>Краснодар</td>\n",
              "      <td>8</td>\n",
              "      <td>408</td>\n",
              "      <td>52</td>\n",
              "      <td>14055.93</td>\n",
              "      <td>81</td>\n",
              "      <td>ultra</td>\n",
              "      <td>1950</td>\n",
              "    </tr>\n",
              "    <tr>\n",
              "      <th>4</th>\n",
              "      <td>1000</td>\n",
              "      <td>Краснодар</td>\n",
              "      <td>9</td>\n",
              "      <td>466</td>\n",
              "      <td>58</td>\n",
              "      <td>14568.91</td>\n",
              "      <td>57</td>\n",
              "      <td>ultra</td>\n",
              "      <td>1950</td>\n",
              "    </tr>\n",
              "  </tbody>\n",
              "</table>\n",
              "</div>"
            ],
            "text/plain": [
              "   user_id       city  month  calls_duration_sum  calls_count  mb_used_sum  \\\n",
              "0     1000  Краснодар      5                 159           22      2253.49   \n",
              "1     1000  Краснодар      6                 172           43     23233.77   \n",
              "2     1000  Краснодар      7                 340           47     14003.64   \n",
              "3     1000  Краснодар      8                 408           52     14055.93   \n",
              "4     1000  Краснодар      9                 466           58     14568.91   \n",
              "\n",
              "   message_count tariff  income  \n",
              "0             22  ultra    1950  \n",
              "1             60  ultra    1950  \n",
              "2             75  ultra    1950  \n",
              "3             81  ultra    1950  \n",
              "4             57  ultra    1950  "
            ]
          },
          "execution_count": 36,
          "metadata": {},
          "output_type": "execute_result"
        },
        {
          "data": {
            "application/javascript": [
              "\n",
              "            setTimeout(function() {\n",
              "                var nbb_cell_id = 36;\n",
              "                var nbb_unformatted_code = \"df = users[[\\\"user_id\\\", \\\"city\\\"]].merge(df, on=\\\"user_id\\\", how=\\\"right\\\")\\ndf.head(5)\";\n",
              "                var nbb_formatted_code = \"df = users[[\\\"user_id\\\", \\\"city\\\"]].merge(df, on=\\\"user_id\\\", how=\\\"right\\\")\\ndf.head(5)\";\n",
              "                var nbb_cells = Jupyter.notebook.get_cells();\n",
              "                for (var i = 0; i < nbb_cells.length; ++i) {\n",
              "                    if (nbb_cells[i].input_prompt_number == nbb_cell_id) {\n",
              "                        if (nbb_cells[i].get_text() == nbb_unformatted_code) {\n",
              "                             nbb_cells[i].set_text(nbb_formatted_code);\n",
              "                        }\n",
              "                        break;\n",
              "                    }\n",
              "                }\n",
              "            }, 500);\n",
              "            "
            ],
            "text/plain": [
              "<IPython.core.display.Javascript object>"
            ]
          },
          "metadata": {},
          "output_type": "display_data"
        }
      ],
      "source": [
        "df = users[[\"user_id\", \"city\"]].merge(df, on=\"user_id\", how=\"right\")\n",
        "df.head(5)"
      ]
    },
    {
      "cell_type": "code",
      "execution_count": null,
      "id": "a135648e",
      "metadata": {
        "id": "a135648e",
        "outputId": "8e93fe44-cca1-4991-9698-0a91832c5ddd"
      },
      "outputs": [
        {
          "data": {
            "text/plain": [
              "0.5257376663729298"
            ]
          },
          "execution_count": 37,
          "metadata": {},
          "output_type": "execute_result"
        },
        {
          "data": {
            "application/javascript": [
              "\n",
              "            setTimeout(function() {\n",
              "                var nbb_cell_id = 37;\n",
              "                var nbb_unformatted_code = \"result_hyp_n2 = st.ttest_ind(\\n    df.loc[df[\\\"city\\\"] == \\\"\\u041c\\u043e\\u0441\\u043a\\u0432\\u0430\\\"][\\\"income\\\"],\\n    df.loc[df[\\\"city\\\"] != \\\"\\u041c\\u043e\\u0441\\u043a\\u0432\\u0430\\\"][\\\"income\\\"],\\n    equal_var=False,  # \\u0412\\u044b\\u0431\\u043e\\u0440\\u043a\\u0438 \\u0440\\u0430\\u0437\\u043d\\u043e\\u0433\\u043e \\u0440\\u0430\\u0437\\u043c\\u0435\\u0440\\u0430 \\u0441 \\u0440\\u0430\\u0437\\u043d\\u043e\\u0439 \\u0434\\u0438\\u0441\\u043f\\u0435\\u0440\\u0441\\u0438\\u0435\\u0439\\n)\\n\\nresult_hyp_n2.pvalue\";\n",
              "                var nbb_formatted_code = \"result_hyp_n2 = st.ttest_ind(\\n    df.loc[df[\\\"city\\\"] == \\\"\\u041c\\u043e\\u0441\\u043a\\u0432\\u0430\\\"][\\\"income\\\"],\\n    df.loc[df[\\\"city\\\"] != \\\"\\u041c\\u043e\\u0441\\u043a\\u0432\\u0430\\\"][\\\"income\\\"],\\n    equal_var=False,  # \\u0412\\u044b\\u0431\\u043e\\u0440\\u043a\\u0438 \\u0440\\u0430\\u0437\\u043d\\u043e\\u0433\\u043e \\u0440\\u0430\\u0437\\u043c\\u0435\\u0440\\u0430 \\u0441 \\u0440\\u0430\\u0437\\u043d\\u043e\\u0439 \\u0434\\u0438\\u0441\\u043f\\u0435\\u0440\\u0441\\u0438\\u0435\\u0439\\n)\\n\\nresult_hyp_n2.pvalue\";\n",
              "                var nbb_cells = Jupyter.notebook.get_cells();\n",
              "                for (var i = 0; i < nbb_cells.length; ++i) {\n",
              "                    if (nbb_cells[i].input_prompt_number == nbb_cell_id) {\n",
              "                        if (nbb_cells[i].get_text() == nbb_unformatted_code) {\n",
              "                             nbb_cells[i].set_text(nbb_formatted_code);\n",
              "                        }\n",
              "                        break;\n",
              "                    }\n",
              "                }\n",
              "            }, 500);\n",
              "            "
            ],
            "text/plain": [
              "<IPython.core.display.Javascript object>"
            ]
          },
          "metadata": {},
          "output_type": "display_data"
        }
      ],
      "source": [
        "result_hyp_n2 = st.ttest_ind(\n",
        "    df.loc[df[\"city\"] == \"Москва\"][\"income\"],\n",
        "    df.loc[df[\"city\"] != \"Москва\"][\"income\"],\n",
        "    equal_var=False,  # Выборки разного размера с разной дисперсией\n",
        ")\n",
        "\n",
        "result_hyp_n2.pvalue"
      ]
    },
    {
      "cell_type": "markdown",
      "id": "e9459fed",
      "metadata": {
        "id": "e9459fed"
      },
      "source": [
        "Вероятность более 50%, а значит, при любом разумном значении уровня значимости (альфа) оснований отвергать гипотезу Н0 нет.\n",
        "\n",
        "Определим распределение количество пользователей по тарифам."
      ]
    },
    {
      "cell_type": "code",
      "execution_count": null,
      "id": "db80ab08",
      "metadata": {
        "id": "db80ab08",
        "outputId": "44b1dc33-d88a-41dc-f878-87a87172b0aa"
      },
      "outputs": [
        {
          "data": {
            "text/html": [
              "<div>\n",
              "<style scoped>\n",
              "    .dataframe tbody tr th:only-of-type {\n",
              "        vertical-align: middle;\n",
              "    }\n",
              "\n",
              "    .dataframe tbody tr th {\n",
              "        vertical-align: top;\n",
              "    }\n",
              "\n",
              "    .dataframe thead th {\n",
              "        text-align: right;\n",
              "    }\n",
              "</style>\n",
              "<table border=\"1\" class=\"dataframe\">\n",
              "  <thead>\n",
              "    <tr style=\"text-align: right;\">\n",
              "      <th></th>\n",
              "      <th>nunique</th>\n",
              "    </tr>\n",
              "    <tr>\n",
              "      <th>tariff</th>\n",
              "      <th></th>\n",
              "    </tr>\n",
              "  </thead>\n",
              "  <tbody>\n",
              "    <tr>\n",
              "      <th>smart</th>\n",
              "      <td>350</td>\n",
              "    </tr>\n",
              "    <tr>\n",
              "      <th>ultra</th>\n",
              "      <td>148</td>\n",
              "    </tr>\n",
              "  </tbody>\n",
              "</table>\n",
              "</div>"
            ],
            "text/plain": [
              "        nunique\n",
              "tariff         \n",
              "smart       350\n",
              "ultra       148"
            ]
          },
          "execution_count": 38,
          "metadata": {},
          "output_type": "execute_result"
        },
        {
          "data": {
            "application/javascript": [
              "\n",
              "            setTimeout(function() {\n",
              "                var nbb_cell_id = 38;\n",
              "                var nbb_unformatted_code = \"df.pivot_table(index=\\\"tariff\\\", values=\\\"user_id\\\", aggfunc={\\\"nunique\\\"})\";\n",
              "                var nbb_formatted_code = \"df.pivot_table(index=\\\"tariff\\\", values=\\\"user_id\\\", aggfunc={\\\"nunique\\\"})\";\n",
              "                var nbb_cells = Jupyter.notebook.get_cells();\n",
              "                for (var i = 0; i < nbb_cells.length; ++i) {\n",
              "                    if (nbb_cells[i].input_prompt_number == nbb_cell_id) {\n",
              "                        if (nbb_cells[i].get_text() == nbb_unformatted_code) {\n",
              "                             nbb_cells[i].set_text(nbb_formatted_code);\n",
              "                        }\n",
              "                        break;\n",
              "                    }\n",
              "                }\n",
              "            }, 500);\n",
              "            "
            ],
            "text/plain": [
              "<IPython.core.display.Javascript object>"
            ]
          },
          "metadata": {},
          "output_type": "display_data"
        }
      ],
      "source": [
        "df.pivot_table(index=\"tariff\", values=\"user_id\", aggfunc={\"nunique\"})"
      ]
    },
    {
      "cell_type": "code",
      "execution_count": null,
      "id": "9e27ee5f",
      "metadata": {
        "id": "9e27ee5f",
        "outputId": "989a7e27-9d7c-4fa1-90b2-955f24d5e246"
      },
      "outputs": [
        {
          "data": {
            "text/plain": [
              "2.364864864864865"
            ]
          },
          "execution_count": 39,
          "metadata": {},
          "output_type": "execute_result"
        },
        {
          "data": {
            "application/javascript": [
              "\n",
              "            setTimeout(function() {\n",
              "                var nbb_cell_id = 39;\n",
              "                var nbb_unformatted_code = \"350 / 148\";\n",
              "                var nbb_formatted_code = \"350 / 148\";\n",
              "                var nbb_cells = Jupyter.notebook.get_cells();\n",
              "                for (var i = 0; i < nbb_cells.length; ++i) {\n",
              "                    if (nbb_cells[i].input_prompt_number == nbb_cell_id) {\n",
              "                        if (nbb_cells[i].get_text() == nbb_unformatted_code) {\n",
              "                             nbb_cells[i].set_text(nbb_formatted_code);\n",
              "                        }\n",
              "                        break;\n",
              "                    }\n",
              "                }\n",
              "            }, 500);\n",
              "            "
            ],
            "text/plain": [
              "<IPython.core.display.Javascript object>"
            ]
          },
          "metadata": {},
          "output_type": "display_data"
        }
      ],
      "source": [
        "350 / 148"
      ]
    },
    {
      "cell_type": "markdown",
      "id": "5856e761",
      "metadata": {
        "id": "5856e761"
      },
      "source": [
        "Пользователей Smart в 2,4 раза больше пользователей Ultra."
      ]
    },
    {
      "cell_type": "markdown",
      "id": "c769c065",
      "metadata": {
        "id": "c769c065"
      },
      "source": [
        "Проверим распределение пользователей по городам."
      ]
    },
    {
      "cell_type": "code",
      "execution_count": null,
      "id": "497eb0e1",
      "metadata": {
        "id": "497eb0e1",
        "outputId": "430aaf07-4513-4beb-ed13-7520180bb170"
      },
      "outputs": [
        {
          "data": {
            "text/html": [
              "<div>\n",
              "<style scoped>\n",
              "    .dataframe tbody tr th:only-of-type {\n",
              "        vertical-align: middle;\n",
              "    }\n",
              "\n",
              "    .dataframe tbody tr th {\n",
              "        vertical-align: top;\n",
              "    }\n",
              "\n",
              "    .dataframe thead th {\n",
              "        text-align: right;\n",
              "    }\n",
              "</style>\n",
              "<table border=\"1\" class=\"dataframe\">\n",
              "  <thead>\n",
              "    <tr style=\"text-align: right;\">\n",
              "      <th></th>\n",
              "      <th></th>\n",
              "      <th>nunique</th>\n",
              "    </tr>\n",
              "    <tr>\n",
              "      <th>tariff</th>\n",
              "      <th>city</th>\n",
              "      <th></th>\n",
              "    </tr>\n",
              "  </thead>\n",
              "  <tbody>\n",
              "    <tr>\n",
              "      <th>smart</th>\n",
              "      <th>Москва</th>\n",
              "      <td>67</td>\n",
              "    </tr>\n",
              "    <tr>\n",
              "      <th>ultra</th>\n",
              "      <th>Москва</th>\n",
              "      <td>32</td>\n",
              "    </tr>\n",
              "    <tr>\n",
              "      <th rowspan=\"6\" valign=\"top\">smart</th>\n",
              "      <th>Санкт-Петербург</th>\n",
              "      <td>30</td>\n",
              "    </tr>\n",
              "    <tr>\n",
              "      <th>Казань</th>\n",
              "      <td>13</td>\n",
              "    </tr>\n",
              "    <tr>\n",
              "      <th>Новосибирск</th>\n",
              "      <td>11</td>\n",
              "    </tr>\n",
              "    <tr>\n",
              "      <th>Ульяновск</th>\n",
              "      <td>10</td>\n",
              "    </tr>\n",
              "    <tr>\n",
              "      <th>Екатеринбург</th>\n",
              "      <td>9</td>\n",
              "    </tr>\n",
              "    <tr>\n",
              "      <th>Омск</th>\n",
              "      <td>9</td>\n",
              "    </tr>\n",
              "    <tr>\n",
              "      <th>ultra</th>\n",
              "      <th>Санкт-Петербург</th>\n",
              "      <td>9</td>\n",
              "    </tr>\n",
              "    <tr>\n",
              "      <th rowspan=\"3\" valign=\"top\">smart</th>\n",
              "      <th>Набережные Челны</th>\n",
              "      <td>7</td>\n",
              "    </tr>\n",
              "    <tr>\n",
              "      <th>Самара</th>\n",
              "      <td>7</td>\n",
              "    </tr>\n",
              "    <tr>\n",
              "      <th>Улан-Удэ</th>\n",
              "      <td>7</td>\n",
              "    </tr>\n",
              "    <tr>\n",
              "      <th>ultra</th>\n",
              "      <th>Уфа</th>\n",
              "      <td>6</td>\n",
              "    </tr>\n",
              "    <tr>\n",
              "      <th rowspan=\"2\" valign=\"top\">smart</th>\n",
              "      <th>Вологда</th>\n",
              "      <td>6</td>\n",
              "    </tr>\n",
              "    <tr>\n",
              "      <th>Уфа</th>\n",
              "      <td>6</td>\n",
              "    </tr>\n",
              "  </tbody>\n",
              "</table>\n",
              "</div>"
            ],
            "text/plain": [
              "                         nunique\n",
              "tariff city                     \n",
              "smart  Москва                 67\n",
              "ultra  Москва                 32\n",
              "smart  Санкт-Петербург        30\n",
              "       Казань                 13\n",
              "       Новосибирск            11\n",
              "       Ульяновск              10\n",
              "       Екатеринбург            9\n",
              "       Омск                    9\n",
              "ultra  Санкт-Петербург         9\n",
              "smart  Набережные Челны        7\n",
              "       Самара                  7\n",
              "       Улан-Удэ                7\n",
              "ultra  Уфа                     6\n",
              "smart  Вологда                 6\n",
              "       Уфа                     6"
            ]
          },
          "execution_count": 40,
          "metadata": {},
          "output_type": "execute_result"
        },
        {
          "data": {
            "application/javascript": [
              "\n",
              "            setTimeout(function() {\n",
              "                var nbb_cell_id = 40;\n",
              "                var nbb_unformatted_code = \"df.pivot_table(\\n    index=[\\\"tariff\\\", \\\"city\\\"], values=\\\"user_id\\\", aggfunc={\\\"nunique\\\"}\\n).sort_values(by=\\\"nunique\\\", ascending=False).head(15)\";\n",
              "                var nbb_formatted_code = \"df.pivot_table(\\n    index=[\\\"tariff\\\", \\\"city\\\"], values=\\\"user_id\\\", aggfunc={\\\"nunique\\\"}\\n).sort_values(by=\\\"nunique\\\", ascending=False).head(15)\";\n",
              "                var nbb_cells = Jupyter.notebook.get_cells();\n",
              "                for (var i = 0; i < nbb_cells.length; ++i) {\n",
              "                    if (nbb_cells[i].input_prompt_number == nbb_cell_id) {\n",
              "                        if (nbb_cells[i].get_text() == nbb_unformatted_code) {\n",
              "                             nbb_cells[i].set_text(nbb_formatted_code);\n",
              "                        }\n",
              "                        break;\n",
              "                    }\n",
              "                }\n",
              "            }, 500);\n",
              "            "
            ],
            "text/plain": [
              "<IPython.core.display.Javascript object>"
            ]
          },
          "metadata": {},
          "output_type": "display_data"
        }
      ],
      "source": [
        "df.pivot_table(\n",
        "    index=[\"tariff\", \"city\"], values=\"user_id\", aggfunc={\"nunique\"}\n",
        ").sort_values(by=\"nunique\", ascending=False).head(15)"
      ]
    },
    {
      "cell_type": "markdown",
      "id": "b8f554dd",
      "metadata": {
        "id": "b8f554dd"
      },
      "source": [
        "Количество пользователей из Москвы составляет около 20% от их общего числа."
      ]
    },
    {
      "cell_type": "markdown",
      "id": "f5cf023f",
      "metadata": {
        "id": "f5cf023f"
      },
      "source": [
        "# Вывод"
      ]
    },
    {
      "cell_type": "markdown",
      "id": "48e13962",
      "metadata": {
        "id": "48e13962"
      },
      "source": [
        "Выполнен предварительный анализ тарифов на небольшой выборке клиентов и проанализировано их поведение.\n",
        "\n",
        "Основные выводы по проведенному анализу следующие.\n",
        "\n",
        "1. Количество пользователей тарифа Smart в 2,4 раза больше пользователей Ultra.\n",
        "\n",
        "1. Пользователи обоих тарифов укладываются в тарифный лимит по минутам разговоров и сообщениям. Однако пользователи Smart делают это на пределе возможностей, а Ultra - незначительно превосходят лимит первых. Пользователи тарифа Smart зачастую превышают лимит по интернет-трафику. В то же время, пользователи Ultra недобирают свой лимит, незначительно превышая пороговое значение первой группы.\n",
        "\n",
        "1. Смс-сообщения пользователями обоих тарифов используются не активно.\n",
        "\n",
        "1. Пользователи тарифа Ultra, в основном, платят только абонентскую плату. В то время, как пользователи Smart регулярно переплачивают из-за перерасхода интернет-трафика, но эта переплата меньше абонентской платы Ultra.\n",
        "\n",
        "1. Исследуемые характеристики обладают большим разбросом данных. Так, СКО в помесячном рассмотрении находится на уровне среднего значения и, зачастую, может его превышать.\n",
        "\n",
        "\n",
        "Тариф Smart приносит около 58,5% выручки от суммарной выручки обоих тарифов за год, следовательно он является наиболее выгодным для компании.\n",
        "Учитывая полученный результат, можно утверждать, что между двумя тарифами существует большой разрыв пользовательской активности. В этой связи представляется целесообразным разработка промежуточного тарифа, абонентская плата которого будет соизмерима со средней выручкой от тарифа Smart - 1289 руб."
      ]
    }
  ],
  "metadata": {
    "ExecuteTimeLog": [
      {
        "duration": 11132,
        "start_time": "2022-04-25T21:16:17.722Z"
      },
      {
        "duration": 1122,
        "start_time": "2022-04-25T21:16:28.858Z"
      },
      {
        "duration": 110,
        "start_time": "2022-04-25T21:16:29.983Z"
      },
      {
        "duration": 91,
        "start_time": "2022-04-25T21:16:30.097Z"
      },
      {
        "duration": 77,
        "start_time": "2022-04-25T21:16:30.192Z"
      },
      {
        "duration": 84,
        "start_time": "2022-04-25T21:16:30.272Z"
      },
      {
        "duration": 61,
        "start_time": "2022-04-25T21:16:30.359Z"
      },
      {
        "duration": 86,
        "start_time": "2022-04-25T21:16:30.423Z"
      },
      {
        "duration": 70,
        "start_time": "2022-04-25T21:16:30.513Z"
      },
      {
        "duration": 61,
        "start_time": "2022-04-25T21:16:30.589Z"
      },
      {
        "duration": 80,
        "start_time": "2022-04-25T21:16:30.653Z"
      },
      {
        "duration": 80,
        "start_time": "2022-04-25T21:16:30.735Z"
      },
      {
        "duration": 88,
        "start_time": "2022-04-25T21:16:30.817Z"
      },
      {
        "duration": 125,
        "start_time": "2022-04-25T21:16:30.907Z"
      },
      {
        "duration": 74,
        "start_time": "2022-04-25T21:16:31.035Z"
      },
      {
        "duration": 71,
        "start_time": "2022-04-25T21:16:31.112Z"
      },
      {
        "duration": 289,
        "start_time": "2022-04-25T21:16:31.186Z"
      },
      {
        "duration": 77,
        "start_time": "2022-04-25T21:16:31.478Z"
      },
      {
        "duration": 80,
        "start_time": "2022-04-25T21:16:31.558Z"
      },
      {
        "duration": 74,
        "start_time": "2022-04-25T21:16:31.640Z"
      },
      {
        "duration": 76,
        "start_time": "2022-04-25T21:16:31.716Z"
      },
      {
        "duration": 32,
        "start_time": "2022-04-25T21:16:31.794Z"
      },
      {
        "duration": 16661,
        "start_time": "2022-04-25T21:16:31.829Z"
      },
      {
        "duration": 18,
        "start_time": "2022-04-25T21:16:48.492Z"
      },
      {
        "duration": 86,
        "start_time": "2022-04-25T21:16:48.513Z"
      },
      {
        "duration": 27,
        "start_time": "2022-04-25T21:16:48.602Z"
      },
      {
        "duration": 1807,
        "start_time": "2022-04-25T21:16:48.632Z"
      },
      {
        "duration": 1938,
        "start_time": "2022-04-25T21:16:50.444Z"
      },
      {
        "duration": 1755,
        "start_time": "2022-04-25T21:16:52.385Z"
      },
      {
        "duration": 1799,
        "start_time": "2022-04-25T21:16:54.143Z"
      },
      {
        "duration": 2311,
        "start_time": "2022-04-25T21:16:55.944Z"
      },
      {
        "duration": 18,
        "start_time": "2022-04-25T21:16:58.257Z"
      },
      {
        "duration": 132,
        "start_time": "2022-04-25T21:16:58.277Z"
      },
      {
        "duration": 54,
        "start_time": "2022-04-25T21:16:58.412Z"
      },
      {
        "duration": 75,
        "start_time": "2022-04-25T21:16:58.468Z"
      },
      {
        "duration": 18,
        "start_time": "2022-04-25T21:16:58.545Z"
      },
      {
        "duration": 83,
        "start_time": "2022-04-25T21:16:58.565Z"
      },
      {
        "duration": 60,
        "start_time": "2022-04-25T21:16:58.650Z"
      },
      {
        "duration": 92,
        "start_time": "2022-04-25T21:16:58.712Z"
      },
      {
        "duration": 1659,
        "start_time": "2022-04-25T21:17:01.856Z"
      },
      {
        "duration": 1713,
        "start_time": "2022-04-25T21:17:30.687Z"
      },
      {
        "duration": 2120,
        "start_time": "2022-04-25T21:17:59.327Z"
      },
      {
        "duration": 1866,
        "start_time": "2022-04-25T21:18:09.288Z"
      },
      {
        "duration": 44,
        "start_time": "2022-04-26T18:26:58.688Z"
      },
      {
        "duration": 8332,
        "start_time": "2022-04-26T18:27:08.684Z"
      },
      {
        "duration": 1054,
        "start_time": "2022-04-26T18:27:17.018Z"
      },
      {
        "duration": 100,
        "start_time": "2022-04-26T18:27:18.074Z"
      },
      {
        "duration": 114,
        "start_time": "2022-04-26T18:27:18.176Z"
      },
      {
        "duration": 111,
        "start_time": "2022-04-26T18:27:18.291Z"
      },
      {
        "duration": 118,
        "start_time": "2022-04-26T18:27:18.403Z"
      },
      {
        "duration": 104,
        "start_time": "2022-04-26T18:27:18.522Z"
      },
      {
        "duration": 106,
        "start_time": "2022-04-26T18:27:18.628Z"
      },
      {
        "duration": 96,
        "start_time": "2022-04-26T18:27:18.735Z"
      },
      {
        "duration": 107,
        "start_time": "2022-04-26T18:27:18.834Z"
      },
      {
        "duration": 107,
        "start_time": "2022-04-26T18:27:18.942Z"
      },
      {
        "duration": 118,
        "start_time": "2022-04-26T18:27:19.051Z"
      },
      {
        "duration": 99,
        "start_time": "2022-04-26T18:27:19.170Z"
      },
      {
        "duration": 75,
        "start_time": "2022-04-26T18:27:19.270Z"
      },
      {
        "duration": 108,
        "start_time": "2022-04-26T18:27:19.346Z"
      },
      {
        "duration": 109,
        "start_time": "2022-04-26T18:27:19.456Z"
      },
      {
        "duration": 272,
        "start_time": "2022-04-26T18:27:19.567Z"
      },
      {
        "duration": 104,
        "start_time": "2022-04-26T18:27:19.840Z"
      },
      {
        "duration": 107,
        "start_time": "2022-04-26T18:27:19.945Z"
      },
      {
        "duration": 102,
        "start_time": "2022-04-26T18:27:20.054Z"
      },
      {
        "duration": 107,
        "start_time": "2022-04-26T18:27:20.158Z"
      },
      {
        "duration": 103,
        "start_time": "2022-04-26T18:27:20.266Z"
      },
      {
        "duration": 18,
        "start_time": "2022-04-26T18:27:20.370Z"
      },
      {
        "duration": 5767,
        "start_time": "2022-04-26T18:27:20.390Z"
      },
      {
        "duration": 9,
        "start_time": "2022-04-26T18:27:26.159Z"
      },
      {
        "duration": 103,
        "start_time": "2022-04-26T18:27:26.170Z"
      },
      {
        "duration": 14,
        "start_time": "2022-04-26T18:27:26.275Z"
      },
      {
        "duration": 1051,
        "start_time": "2022-04-26T18:27:26.292Z"
      },
      {
        "duration": 1159,
        "start_time": "2022-04-26T18:27:27.345Z"
      },
      {
        "duration": 1042,
        "start_time": "2022-04-26T18:27:28.505Z"
      },
      {
        "duration": 984,
        "start_time": "2022-04-26T18:27:29.549Z"
      },
      {
        "duration": 1350,
        "start_time": "2022-04-26T18:27:30.535Z"
      },
      {
        "duration": 17,
        "start_time": "2022-04-26T18:27:31.886Z"
      },
      {
        "duration": 112,
        "start_time": "2022-04-26T18:27:31.905Z"
      },
      {
        "duration": 96,
        "start_time": "2022-04-26T18:27:32.018Z"
      },
      {
        "duration": 235,
        "start_time": "2022-04-26T18:27:32.116Z"
      },
      {
        "duration": 10,
        "start_time": "2022-04-26T18:27:32.353Z"
      },
      {
        "duration": 113,
        "start_time": "2022-04-26T18:27:32.365Z"
      },
      {
        "duration": 103,
        "start_time": "2022-04-26T18:27:32.480Z"
      },
      {
        "duration": 114,
        "start_time": "2022-04-26T18:27:32.584Z"
      },
      {
        "duration": 907,
        "start_time": "2022-04-26T18:29:50.379Z"
      },
      {
        "duration": 3367,
        "start_time": "2022-04-26T19:12:18.344Z"
      },
      {
        "duration": 942,
        "start_time": "2022-04-26T19:12:21.713Z"
      },
      {
        "duration": 96,
        "start_time": "2022-04-26T19:12:22.657Z"
      },
      {
        "duration": 124,
        "start_time": "2022-04-26T19:12:22.754Z"
      },
      {
        "duration": 106,
        "start_time": "2022-04-26T19:12:22.880Z"
      },
      {
        "duration": 126,
        "start_time": "2022-04-26T19:12:22.988Z"
      },
      {
        "duration": 104,
        "start_time": "2022-04-26T19:12:23.116Z"
      },
      {
        "duration": 106,
        "start_time": "2022-04-26T19:12:23.222Z"
      },
      {
        "duration": 107,
        "start_time": "2022-04-26T19:12:23.330Z"
      },
      {
        "duration": 99,
        "start_time": "2022-04-26T19:12:23.439Z"
      },
      {
        "duration": 104,
        "start_time": "2022-04-26T19:12:23.540Z"
      },
      {
        "duration": 108,
        "start_time": "2022-04-26T19:12:23.645Z"
      },
      {
        "duration": 100,
        "start_time": "2022-04-26T19:12:23.755Z"
      },
      {
        "duration": 71,
        "start_time": "2022-04-26T19:12:23.858Z"
      },
      {
        "duration": 109,
        "start_time": "2022-04-26T19:12:23.930Z"
      },
      {
        "duration": 100,
        "start_time": "2022-04-26T19:12:24.041Z"
      },
      {
        "duration": 182,
        "start_time": "2022-04-26T19:12:24.142Z"
      },
      {
        "duration": 103,
        "start_time": "2022-04-26T19:12:24.326Z"
      },
      {
        "duration": 101,
        "start_time": "2022-04-26T19:12:24.430Z"
      },
      {
        "duration": 112,
        "start_time": "2022-04-26T19:12:24.533Z"
      },
      {
        "duration": 103,
        "start_time": "2022-04-26T19:12:24.647Z"
      },
      {
        "duration": 103,
        "start_time": "2022-04-26T19:12:24.752Z"
      },
      {
        "duration": 19,
        "start_time": "2022-04-26T19:12:24.857Z"
      },
      {
        "duration": 6899,
        "start_time": "2022-04-26T19:12:24.877Z"
      },
      {
        "duration": 9,
        "start_time": "2022-04-26T19:12:31.777Z"
      },
      {
        "duration": 120,
        "start_time": "2022-04-26T19:12:31.788Z"
      },
      {
        "duration": 13,
        "start_time": "2022-04-26T19:12:31.910Z"
      },
      {
        "duration": 951,
        "start_time": "2022-04-26T19:12:31.924Z"
      },
      {
        "duration": 1149,
        "start_time": "2022-04-26T19:12:32.877Z"
      },
      {
        "duration": 1018,
        "start_time": "2022-04-26T19:12:34.028Z"
      },
      {
        "duration": 1203,
        "start_time": "2022-04-26T19:12:35.047Z"
      },
      {
        "duration": 1172,
        "start_time": "2022-04-26T19:12:36.251Z"
      },
      {
        "duration": 11,
        "start_time": "2022-04-26T19:12:37.424Z"
      },
      {
        "duration": 116,
        "start_time": "2022-04-26T19:12:37.436Z"
      },
      {
        "duration": 98,
        "start_time": "2022-04-26T19:12:37.553Z"
      },
      {
        "duration": 115,
        "start_time": "2022-04-26T19:12:37.653Z"
      },
      {
        "duration": 11,
        "start_time": "2022-04-26T19:12:37.769Z"
      },
      {
        "duration": 103,
        "start_time": "2022-04-26T19:12:37.781Z"
      },
      {
        "duration": 98,
        "start_time": "2022-04-26T19:12:37.886Z"
      },
      {
        "duration": 114,
        "start_time": "2022-04-26T19:12:37.985Z"
      },
      {
        "duration": 134,
        "start_time": "2022-04-27T12:32:38.776Z"
      }
    ],
    "kernelspec": {
      "display_name": "Python 3 (ipykernel)",
      "language": "python",
      "name": "python3"
    },
    "language_info": {
      "codemirror_mode": {
        "name": "ipython",
        "version": 3
      },
      "file_extension": ".py",
      "mimetype": "text/x-python",
      "name": "python",
      "nbconvert_exporter": "python",
      "pygments_lexer": "ipython3",
      "version": "3.7.8"
    },
    "toc": {
      "base_numbering": 1,
      "nav_menu": {},
      "number_sections": true,
      "sideBar": true,
      "skip_h1_title": false,
      "title_cell": "Table of Contents",
      "title_sidebar": "Contents",
      "toc_cell": false,
      "toc_position": {
        "height": "calc(100% - 180px)",
        "left": "10px",
        "top": "150px",
        "width": "310px"
      },
      "toc_section_display": true,
      "toc_window_display": true
    },
    "colab": {
      "name": "deli_proj_pract_04_megaline_income_v2_0.ipynb",
      "provenance": [],
      "collapsed_sections": [],
      "toc_visible": true,
      "include_colab_link": true
    }
  },
  "nbformat": 4,
  "nbformat_minor": 5
}