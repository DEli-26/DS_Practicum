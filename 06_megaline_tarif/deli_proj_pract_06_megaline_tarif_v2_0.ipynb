{
  "cells": [
    {
      "cell_type": "markdown",
      "metadata": {
        "id": "view-in-github",
        "colab_type": "text"
      },
      "source": [
        "<a href=\"https://colab.research.google.com/github/DEli-26/DS_Practicum/blob/main/06_megaline_tarif/deli_proj_pract_06_megaline_tarif_v2_0.ipynb\" target=\"_parent\"><img src=\"https://colab.research.google.com/assets/colab-badge.svg\" alt=\"Open In Colab\"/></a>"
      ]
    },
    {
      "cell_type": "markdown",
      "id": "315fe50d",
      "metadata": {
        "id": "315fe50d"
      },
      "source": [
        "<font size=6><b>**Я.Практикум: Проект №6**</b></font>\n",
        "    \n",
        "<font size=6><b>**Мегалайн. Тариф**</b></font>\n",
        "\n",
        "***\n",
        "\n",
        "# Постановка задачи\n",
        "\n",
        "**Заказчик:** Оператор мобильной связи «Мегалайн».\n",
        "\n",
        "**Цель:** построить модель для задачи классификации, способную проанализировать поведение клиентов и предложить пользователям новый тариф: «Смарт» или «Ультра». Accuracy модели должно быть не менее 0,75.\n",
        "\n",
        "**Задачи:** \n",
        "1. получить данные и изучить их структуру;\n",
        "1. разделить данные на обучающую, валидационную и тестовую выборки;\n",
        "1. подобрать модель с лучшей достоверностью;\n",
        "1. проверить модель на тестовой выборке;\n",
        "1. проверить модель на адекватность.\n",
        "\n",
        "**Исходные данные:** прошедшие предобработку данные о поведении клиентов, которые уже перешли на тарифы «Смарт» и «Ультра». \n",
        "Каждый объект — это информация о поведении одного пользователя за месяц. \n",
        "\n",
        "# Обзор данных\n",
        "\n",
        "Загрузим библиотеки, необходимые для выполнения проекта"
      ]
    },
    {
      "cell_type": "code",
      "execution_count": null,
      "id": "a528325e",
      "metadata": {
        "id": "a528325e"
      },
      "outputs": [],
      "source": [
        "import pandas as pd\n",
        "import numpy as np\n",
        "import matplotlib.pyplot as plt\n",
        "from sklearn.model_selection import train_test_split\n",
        "from sklearn.model_selection import GridSearchCV\n",
        "from sklearn.model_selection import RandomizedSearchCV\n",
        "from sklearn.tree import DecisionTreeClassifier\n",
        "from sklearn.ensemble import RandomForestClassifier\n",
        "from sklearn.linear_model import LogisticRegression\n",
        "from sklearn.dummy import DummyClassifier\n",
        "\n",
        "# Темная тема графиков\n",
        "plt.style.use('dark_background')\n",
        "\n",
        "# Отключаем предупреждения\n",
        "import warnings\n",
        "\n",
        "warnings.filterwarnings(\"ignore\")"
      ]
    },
    {
      "cell_type": "markdown",
      "source": [
        "-- Здесь был код загрузки данных с Google Drive --"
      ],
      "metadata": {
        "id": "_pkZx-KLvh6i"
      },
      "id": "_pkZx-KLvh6i"
    },
    {
      "cell_type": "markdown",
      "id": "10146d94",
      "metadata": {
        "id": "10146d94"
      },
      "source": [
        "Откроем первые 5 строк, а также общую информацию о таблице."
      ]
    },
    {
      "cell_type": "code",
      "execution_count": null,
      "id": "eff55b6e",
      "metadata": {
        "id": "eff55b6e",
        "outputId": "98c0f12f-97d7-44cb-a43d-1b4067e7e6af"
      },
      "outputs": [
        {
          "data": {
            "text/html": [
              "<div>\n",
              "<style scoped>\n",
              "    .dataframe tbody tr th:only-of-type {\n",
              "        vertical-align: middle;\n",
              "    }\n",
              "\n",
              "    .dataframe tbody tr th {\n",
              "        vertical-align: top;\n",
              "    }\n",
              "\n",
              "    .dataframe thead th {\n",
              "        text-align: right;\n",
              "    }\n",
              "</style>\n",
              "<table border=\"1\" class=\"dataframe\">\n",
              "  <thead>\n",
              "    <tr style=\"text-align: right;\">\n",
              "      <th></th>\n",
              "      <th>calls</th>\n",
              "      <th>minutes</th>\n",
              "      <th>messages</th>\n",
              "      <th>mb_used</th>\n",
              "      <th>is_ultra</th>\n",
              "    </tr>\n",
              "  </thead>\n",
              "  <tbody>\n",
              "    <tr>\n",
              "      <th>0</th>\n",
              "      <td>40.0</td>\n",
              "      <td>311.90</td>\n",
              "      <td>83.0</td>\n",
              "      <td>19915.42</td>\n",
              "      <td>0</td>\n",
              "    </tr>\n",
              "    <tr>\n",
              "      <th>1</th>\n",
              "      <td>85.0</td>\n",
              "      <td>516.75</td>\n",
              "      <td>56.0</td>\n",
              "      <td>22696.96</td>\n",
              "      <td>0</td>\n",
              "    </tr>\n",
              "    <tr>\n",
              "      <th>2</th>\n",
              "      <td>77.0</td>\n",
              "      <td>467.66</td>\n",
              "      <td>86.0</td>\n",
              "      <td>21060.45</td>\n",
              "      <td>0</td>\n",
              "    </tr>\n",
              "    <tr>\n",
              "      <th>3</th>\n",
              "      <td>106.0</td>\n",
              "      <td>745.53</td>\n",
              "      <td>81.0</td>\n",
              "      <td>8437.39</td>\n",
              "      <td>1</td>\n",
              "    </tr>\n",
              "    <tr>\n",
              "      <th>4</th>\n",
              "      <td>66.0</td>\n",
              "      <td>418.74</td>\n",
              "      <td>1.0</td>\n",
              "      <td>14502.75</td>\n",
              "      <td>0</td>\n",
              "    </tr>\n",
              "  </tbody>\n",
              "</table>\n",
              "</div>"
            ],
            "text/plain": [
              "   calls  minutes  messages   mb_used  is_ultra\n",
              "0   40.0   311.90      83.0  19915.42         0\n",
              "1   85.0   516.75      56.0  22696.96         0\n",
              "2   77.0   467.66      86.0  21060.45         0\n",
              "3  106.0   745.53      81.0   8437.39         1\n",
              "4   66.0   418.74       1.0  14502.75         0"
            ]
          },
          "execution_count": 3,
          "metadata": {},
          "output_type": "execute_result"
        }
      ],
      "source": [
        "df.head()"
      ]
    },
    {
      "cell_type": "code",
      "execution_count": null,
      "id": "b96b960f",
      "metadata": {
        "id": "b96b960f",
        "outputId": "21162754-4ff9-4c85-8827-63c807b6643d"
      },
      "outputs": [
        {
          "name": "stdout",
          "output_type": "stream",
          "text": [
            "<class 'pandas.core.frame.DataFrame'>\n",
            "RangeIndex: 3214 entries, 0 to 3213\n",
            "Data columns (total 5 columns):\n",
            " #   Column    Non-Null Count  Dtype  \n",
            "---  ------    --------------  -----  \n",
            " 0   calls     3214 non-null   float64\n",
            " 1   minutes   3214 non-null   float64\n",
            " 2   messages  3214 non-null   float64\n",
            " 3   mb_used   3214 non-null   float64\n",
            " 4   is_ultra  3214 non-null   int64  \n",
            "dtypes: float64(4), int64(1)\n",
            "memory usage: 125.7 KB\n"
          ]
        }
      ],
      "source": [
        "df.info()"
      ]
    },
    {
      "cell_type": "code",
      "execution_count": null,
      "id": "a6b2f079",
      "metadata": {
        "id": "a6b2f079",
        "outputId": "a3e4878e-4ccf-42ee-e598-58f6295d2af5"
      },
      "outputs": [
        {
          "data": {
            "text/plain": [
              "0"
            ]
          },
          "execution_count": 5,
          "metadata": {},
          "output_type": "execute_result"
        }
      ],
      "source": [
        "df.duplicated().sum()"
      ]
    },
    {
      "cell_type": "markdown",
      "id": "4a0b5104",
      "metadata": {
        "id": "4a0b5104"
      },
      "source": [
        "Таблица содержит следующие столбцы:\n",
        "* сalls — количество звонков,\n",
        "* minutes — суммарная длительность звонков в минутах,\n",
        "* messages — количество sms-сообщений,\n",
        "* mb_used — израсходованный интернет-трафик в Мб,\n",
        "* is_ultra — каким тарифом пользовался в течение месяца («Ультра» — 1, «Смарт» — 0).\n",
        "\n",
        "В исследуемой таблице содержится информация о количестве звонков за месяц, израсходованных пользователями минут, сообщений и интернет-трафика, а также о типе тарифа.\n",
        "Пропуски и явные дубликаты отсутствуют. Тип данных соответствует их описанию.\n",
        "\n",
        "Таким образом, можно переходить к разбиению таблицы на выборки и обучению моделей на их основе."
      ]
    },
    {
      "cell_type": "markdown",
      "id": "89e6b6c4",
      "metadata": {
        "id": "89e6b6c4"
      },
      "source": [
        "# Разделение исходных данных "
      ]
    },
    {
      "cell_type": "markdown",
      "id": "b8c38d42",
      "metadata": {
        "id": "b8c38d42"
      },
      "source": [
        "Оценим количество целевых показателей в исходной таблице."
      ]
    },
    {
      "cell_type": "code",
      "execution_count": null,
      "id": "0d56eedb",
      "metadata": {
        "scrolled": false,
        "id": "0d56eedb",
        "outputId": "307bdbbd-585b-4e9a-ec6f-7b857e949573"
      },
      "outputs": [
        {
          "data": {
            "text/plain": [
              "0    0.693528\n",
              "1    0.306472\n",
              "Name: is_ultra, dtype: float64"
            ]
          },
          "execution_count": 6,
          "metadata": {},
          "output_type": "execute_result"
        }
      ],
      "source": [
        "df['is_ultra'].value_counts(normalize=True)"
      ]
    },
    {
      "cell_type": "markdown",
      "id": "bfa4dd50",
      "metadata": {
        "id": "bfa4dd50"
      },
      "source": [
        "По полученным значениям хорошо видно, что данные в столбце с ключевым показателем несбалансированы. Значение \"0\" встречается в 69% случаев, а \"1\" - в 31%. В этой связи возможно недообучение моделей для анализа критерия со значением \"1\".\n",
        "\n",
        "Разделим таблицу на обучающую, валидационную и тестовую выборки в пропорциях 3:1:1 соответственно. Учитывая несбалансированность данных, используем опцию `stratify` для колонки `is_ultra`."
      ]
    },
    {
      "cell_type": "markdown",
      "id": "3c489ce7",
      "metadata": {
        "id": "3c489ce7"
      },
      "source": [
        "<div class=\"alert alert-block alert-info\">\n",
        "<b>Комментарий студента:</b> \n",
        "Внес правки здесь по результатам ознакомления с любезно предоставленными тобой ссылками.\n",
        "</div>"
      ]
    },
    {
      "cell_type": "code",
      "execution_count": null,
      "id": "815e270c",
      "metadata": {
        "id": "815e270c"
      },
      "outputs": [],
      "source": [
        "df_train, df_valid_test = train_test_split(df,\n",
        "                                           test_size=.4,\n",
        "                                           random_state=26,\n",
        "                                           stratify=df['is_ultra'])\n",
        "df_valid, df_test = train_test_split(df_valid_test,\n",
        "                                     test_size=.5,\n",
        "                                     random_state=26,\n",
        "                                     stratify=df_valid_test['is_ultra'])"
      ]
    },
    {
      "cell_type": "code",
      "execution_count": null,
      "id": "2ecf0ee4",
      "metadata": {
        "id": "2ecf0ee4",
        "outputId": "d7db32a9-c047-40c7-cf8c-fd60dd881fb8"
      },
      "outputs": [
        {
          "data": {
            "text/plain": [
              "1928"
            ]
          },
          "execution_count": 8,
          "metadata": {},
          "output_type": "execute_result"
        }
      ],
      "source": [
        "len(df_train)"
      ]
    },
    {
      "cell_type": "code",
      "execution_count": null,
      "id": "0454931f",
      "metadata": {
        "id": "0454931f",
        "outputId": "be482d52-eed9-455e-fbaa-2d7c6aa961c9"
      },
      "outputs": [
        {
          "data": {
            "text/plain": [
              "643"
            ]
          },
          "execution_count": 9,
          "metadata": {},
          "output_type": "execute_result"
        }
      ],
      "source": [
        "len(df_valid)"
      ]
    },
    {
      "cell_type": "code",
      "execution_count": null,
      "id": "f71ac0c4",
      "metadata": {
        "id": "f71ac0c4",
        "outputId": "80dc2d35-c69d-4861-8284-bfe5d93f5d08"
      },
      "outputs": [
        {
          "data": {
            "text/plain": [
              "643"
            ]
          },
          "execution_count": 10,
          "metadata": {},
          "output_type": "execute_result"
        }
      ],
      "source": [
        "len(df_test)"
      ]
    },
    {
      "cell_type": "markdown",
      "id": "8e997e2b",
      "metadata": {
        "id": "8e997e2b"
      },
      "source": [
        "Разделение прошло успешно, данные не потерялись. Выделим из полученной таблицы целевые признаки - тарифы и отделим их от остальных данных. Для этого создадим функцию `separate_target_features`."
      ]
    },
    {
      "cell_type": "code",
      "execution_count": null,
      "id": "45a7112e",
      "metadata": {
        "id": "45a7112e"
      },
      "outputs": [],
      "source": [
        "def separate_target_features(data):\n",
        "    return data['is_ultra'], data.drop('is_ultra', axis=1)"
      ]
    },
    {
      "cell_type": "code",
      "execution_count": null,
      "id": "a11663f2",
      "metadata": {
        "id": "a11663f2"
      },
      "outputs": [],
      "source": [
        "df_train_target, df_train_features = separate_target_features(df_train)\n",
        "df_valid_target, df_valid_features = separate_target_features(df_valid)\n",
        "df_test_target, df_test_features = separate_target_features(df_test)"
      ]
    },
    {
      "cell_type": "code",
      "execution_count": null,
      "id": "09e56f15",
      "metadata": {
        "id": "09e56f15",
        "outputId": "e70889c0-9a65-45e2-a075-9c1a5f9821d3"
      },
      "outputs": [
        {
          "data": {
            "text/plain": [
              "1764    1\n",
              "1559    1\n",
              "2655    1\n",
              "1007    0\n",
              "2677    0\n",
              "Name: is_ultra, dtype: int64"
            ]
          },
          "execution_count": 13,
          "metadata": {},
          "output_type": "execute_result"
        }
      ],
      "source": [
        "df_train_target.head()"
      ]
    },
    {
      "cell_type": "code",
      "execution_count": null,
      "id": "265a5d3d",
      "metadata": {
        "id": "265a5d3d",
        "outputId": "5a96d61e-be98-49db-da76-b1db7a2f7f3b"
      },
      "outputs": [
        {
          "data": {
            "text/html": [
              "<div>\n",
              "<style scoped>\n",
              "    .dataframe tbody tr th:only-of-type {\n",
              "        vertical-align: middle;\n",
              "    }\n",
              "\n",
              "    .dataframe tbody tr th {\n",
              "        vertical-align: top;\n",
              "    }\n",
              "\n",
              "    .dataframe thead th {\n",
              "        text-align: right;\n",
              "    }\n",
              "</style>\n",
              "<table border=\"1\" class=\"dataframe\">\n",
              "  <thead>\n",
              "    <tr style=\"text-align: right;\">\n",
              "      <th></th>\n",
              "      <th>calls</th>\n",
              "      <th>minutes</th>\n",
              "      <th>messages</th>\n",
              "      <th>mb_used</th>\n",
              "    </tr>\n",
              "  </thead>\n",
              "  <tbody>\n",
              "    <tr>\n",
              "      <th>1764</th>\n",
              "      <td>6.0</td>\n",
              "      <td>29.77</td>\n",
              "      <td>0.0</td>\n",
              "      <td>365.09</td>\n",
              "    </tr>\n",
              "    <tr>\n",
              "      <th>1559</th>\n",
              "      <td>106.0</td>\n",
              "      <td>781.37</td>\n",
              "      <td>26.0</td>\n",
              "      <td>37962.31</td>\n",
              "    </tr>\n",
              "    <tr>\n",
              "      <th>2655</th>\n",
              "      <td>106.0</td>\n",
              "      <td>735.90</td>\n",
              "      <td>55.0</td>\n",
              "      <td>32050.45</td>\n",
              "    </tr>\n",
              "    <tr>\n",
              "      <th>1007</th>\n",
              "      <td>73.0</td>\n",
              "      <td>550.58</td>\n",
              "      <td>25.0</td>\n",
              "      <td>18322.63</td>\n",
              "    </tr>\n",
              "    <tr>\n",
              "      <th>2677</th>\n",
              "      <td>25.0</td>\n",
              "      <td>193.57</td>\n",
              "      <td>0.0</td>\n",
              "      <td>5529.38</td>\n",
              "    </tr>\n",
              "  </tbody>\n",
              "</table>\n",
              "</div>"
            ],
            "text/plain": [
              "      calls  minutes  messages   mb_used\n",
              "1764    6.0    29.77       0.0    365.09\n",
              "1559  106.0   781.37      26.0  37962.31\n",
              "2655  106.0   735.90      55.0  32050.45\n",
              "1007   73.0   550.58      25.0  18322.63\n",
              "2677   25.0   193.57       0.0   5529.38"
            ]
          },
          "execution_count": 14,
          "metadata": {},
          "output_type": "execute_result"
        }
      ],
      "source": [
        "df_train_features.head()"
      ]
    },
    {
      "cell_type": "code",
      "execution_count": null,
      "id": "d191148f",
      "metadata": {
        "scrolled": true,
        "id": "d191148f",
        "outputId": "a49352fb-f2f5-4942-8866-39f9613312cf"
      },
      "outputs": [
        {
          "data": {
            "text/plain": [
              "0    0.693465\n",
              "1    0.306535\n",
              "Name: is_ultra, dtype: float64"
            ]
          },
          "execution_count": 15,
          "metadata": {},
          "output_type": "execute_result"
        }
      ],
      "source": [
        "df_train_target.value_counts(normalize=True)"
      ]
    },
    {
      "cell_type": "markdown",
      "id": "6cd35c51",
      "metadata": {
        "id": "6cd35c51"
      },
      "source": [
        "Исходная таблица разделена на 6, по две для каждого типа выборки: обучающей, валидационной и тестовой.\n",
        "Можно переходить к выбору и обучению моделей."
      ]
    },
    {
      "cell_type": "markdown",
      "id": "879eabdb",
      "metadata": {
        "id": "879eabdb"
      },
      "source": [
        "# Выбор моделей"
      ]
    },
    {
      "cell_type": "markdown",
      "id": "1112ddeb",
      "metadata": {
        "id": "1112ddeb"
      },
      "source": [
        "Решаемая задача - сводится к определению классификационной модели. Рассмотрим следующие типы моделей:\n",
        "* дерево решений;\n",
        "* случайный лес;\n",
        "* логистическая регрессия.\n",
        "\n",
        "Определим перечисленные модели, обучим их на обучающих выборках и подберем гиперпараметры, обеспечивающие максимизацию достоверности (accuracy). \n",
        "Последнюю задачу решим при помощи функции RandomizedSearchCV."
      ]
    },
    {
      "cell_type": "code",
      "execution_count": null,
      "id": "5c2b59d0",
      "metadata": {
        "scrolled": false,
        "id": "5c2b59d0"
      },
      "outputs": [],
      "source": [
        "#Пространство параметров дерева решений\n",
        "max_depth = [int(x) for x in np.linspace(2, 15, num=14)]\n",
        "max_features = ['log2', 'sqrt', None]\n",
        "min_samples_split = [int(x) for x in np.linspace(2, 15, num=14)]\n",
        "min_samples_leaf = [int(x) for x in np.linspace(2, 10, num=9)]\n",
        "space_tree = {\n",
        "    'max_features': max_features,\n",
        "    'max_depth': max_depth,\n",
        "    'min_samples_split': min_samples_split,\n",
        "    'min_samples_leaf': min_samples_leaf\n",
        "}\n",
        "\n",
        "#Пространство параметров случайного леса\n",
        "n_estimators = [int(x) for x in np.linspace(start=10, stop=100, num=19)]\n",
        "space_rf = {\n",
        "    'n_estimators': n_estimators,\n",
        "    'max_features': max_features,\n",
        "    'max_depth': max_depth,\n",
        "    'min_samples_split': min_samples_split,\n",
        "    'min_samples_leaf': min_samples_leaf\n",
        "}\n",
        "\n",
        "#Пространство параметров логистической регрессии\n",
        "solver = ['newton-cg', 'lbfgs', 'liblinear', 'sag', 'saga']\n",
        "penalty = ['l1', 'l2', 'elasticnet', 'none']\n",
        "max_iter = [int(x) for x in np.linspace(start=10, stop=150, num=15)]\n",
        "space_logreg = {'solver': solver, 'penalty': penalty, 'max_iter': max_iter}"
      ]
    },
    {
      "cell_type": "code",
      "execution_count": null,
      "id": "d64e2578",
      "metadata": {
        "id": "d64e2578",
        "outputId": "72f7cd7b-a4e7-47cb-ea3e-19639fb2fdb3"
      },
      "outputs": [
        {
          "name": "stdout",
          "output_type": "stream",
          "text": [
            "Лучшая модель дерева решения определена со следующими параметрами: {'min_samples_split': 14, 'min_samples_leaf': 9, 'max_features': None, 'max_depth': 6}\n",
            "Достоверность модели дерева решения на валидационной выборке составила 0.812\n"
          ]
        }
      ],
      "source": [
        "model_tree = RandomizedSearchCV(\n",
        "    estimator=DecisionTreeClassifier(random_state=26),\n",
        "    param_distributions=space_tree,\n",
        "    cv=5,\n",
        "    n_iter=200,\n",
        "    random_state=26)\n",
        "model_tree.fit(df_train_features, df_train_target)\n",
        "print('Лучшая модель дерева решения определена со следующими параметрами:',\n",
        "      model_tree.best_params_)\n",
        "print('Достоверность модели дерева решения на валидационной выборке составила',\n",
        "      round(model_tree.score(df_valid_features, df_valid_target), 3))"
      ]
    },
    {
      "cell_type": "code",
      "execution_count": null,
      "id": "d4b33cbe",
      "metadata": {
        "id": "d4b33cbe",
        "outputId": "5858f63e-94e7-4128-c45b-5ce36cadc3e9"
      },
      "outputs": [
        {
          "name": "stdout",
          "output_type": "stream",
          "text": [
            "Лучшая модель случайного леса определена со следующими параметрами: {'n_estimators': 85, 'min_samples_split': 15, 'min_samples_leaf': 4, 'max_features': None, 'max_depth': 10}\n",
            "Достоверность модели случайного леса на валидационной выборке составила 0.818\n"
          ]
        }
      ],
      "source": [
        "model_rf = RandomizedSearchCV(estimator=RandomForestClassifier(random_state=26,\n",
        "                                                               n_jobs=-1),\n",
        "                              param_distributions=space_rf,\n",
        "                              n_jobs=-1,\n",
        "                              cv=5,\n",
        "                              n_iter=200,\n",
        "                              random_state=26)\n",
        "model_rf.fit(df_train_features, df_train_target)\n",
        "print('Лучшая модель случайного леса определена со следующими параметрами:',\n",
        "      model_rf.best_params_)\n",
        "print(\n",
        "    'Достоверность модели случайного леса на валидационной выборке составила',\n",
        "    round(model_rf.score(df_valid_features, df_valid_target), 3))"
      ]
    },
    {
      "cell_type": "code",
      "execution_count": null,
      "id": "a910d85f",
      "metadata": {
        "id": "a910d85f",
        "outputId": "5ebf22c9-b01d-4d18-d266-3b8bef882cd9"
      },
      "outputs": [
        {
          "name": "stdout",
          "output_type": "stream",
          "text": [
            "Лучшая модель логистической регрессии определена со следующими параметрами: {'solver': 'newton-cg', 'penalty': 'l2', 'max_iter': 40}\n",
            "Достоверность модели логистической регрессии на валидационной выборке составила 0.76\n"
          ]
        }
      ],
      "source": [
        "model_logreg = RandomizedSearchCV(estimator=LogisticRegression(random_state=26,\n",
        "                                                               n_jobs=-1),\n",
        "                                  param_distributions=space_logreg,\n",
        "                                  n_jobs=-1,\n",
        "                                  cv=5,\n",
        "                                  n_iter=200,\n",
        "                                  random_state=26)\n",
        "model_logreg.fit(df_train_features, df_train_target)\n",
        "print(\n",
        "    'Лучшая модель логистической регрессии определена со следующими параметрами:',\n",
        "    model_logreg.best_params_)\n",
        "print(\n",
        "    'Достоверность модели логистической регрессии на валидационной выборке составила',\n",
        "    round(model_logreg.score(df_valid_features, df_valid_target), 3))"
      ]
    },
    {
      "cell_type": "markdown",
      "id": "ef481c80",
      "metadata": {
        "id": "ef481c80"
      },
      "source": [
        "По полученным результатам видно, что при валидации все модели удовлетворяют заданному критерию достоверности - 0.75.\n",
        "При этом достоверность модели логистической регрессии находится на границе допустимого значения, а значит, при тестовой проверке может перестать ему удовлетворять.\n",
        "\n",
        "Модель случайного леса обладает лучшей достоверностью, в связи с чем, будем считать ее основной. На следующем шаге проведем ее проверку на тестовой выборке. "
      ]
    },
    {
      "cell_type": "markdown",
      "id": "d8361f1d",
      "metadata": {
        "id": "d8361f1d"
      },
      "source": [
        "# Проверка модели"
      ]
    },
    {
      "cell_type": "markdown",
      "id": "5f30910b",
      "metadata": {
        "id": "5f30910b"
      },
      "source": [
        "Проверим достоверность модели случайного леса на тестовой выборке."
      ]
    },
    {
      "cell_type": "code",
      "execution_count": null,
      "id": "e67367a2",
      "metadata": {
        "id": "e67367a2",
        "outputId": "e00c92f3-595c-4b7f-9272-a79bc02bebcb"
      },
      "outputs": [
        {
          "data": {
            "text/plain": [
              "0.8227060653188181"
            ]
          },
          "execution_count": 20,
          "metadata": {},
          "output_type": "execute_result"
        }
      ],
      "source": [
        "model_rf.score(df_test_features, df_test_target)"
      ]
    },
    {
      "cell_type": "markdown",
      "id": "d1752123",
      "metadata": {
        "id": "d1752123"
      },
      "source": [
        "Полученное значение на 0,4% лучше полученного на валидационной выборке, что объясняется несбалансированностью исходных данных для обучения модели."
      ]
    },
    {
      "cell_type": "markdown",
      "id": "2b8cc1f2",
      "metadata": {
        "id": "2b8cc1f2"
      },
      "source": [
        "# Проверка эффективности модели"
      ]
    },
    {
      "cell_type": "markdown",
      "id": "cfb614b3",
      "metadata": {
        "id": "cfb614b3"
      },
      "source": [
        "Проверим адекватность полученного значения достоверности модели. \n",
        "Для этого при помощи функции `DummyClassifier` найдем аналогичное значение для модели, принимающей на вход наиболее часто встречающееся значение в обучающей выборке `df_train_target` - \"0\"."
      ]
    },
    {
      "cell_type": "code",
      "execution_count": null,
      "id": "8d92a721",
      "metadata": {
        "id": "8d92a721",
        "outputId": "5625b51d-4461-4a6f-9c55-e4c45ef7ddb3"
      },
      "outputs": [
        {
          "data": {
            "text/plain": [
              "0.6934647302904564"
            ]
          },
          "execution_count": 21,
          "metadata": {},
          "output_type": "execute_result"
        }
      ],
      "source": [
        "DummyClassifier(strategy=\"most_frequent\").fit(df_train_features, df_train_target).score(df_train_features, df_train_target)"
      ]
    },
    {
      "cell_type": "markdown",
      "id": "fb467186",
      "metadata": {
        "id": "fb467186"
      },
      "source": [
        "Полученное значение означает, что в случае предложения всем пользователям тарифа \"Смарт\", то вероятность успеха составит 69,3%.\n",
        "Применение разработанной модели позволит предлагать еще и тариф \"Ультра\" и, тем самым, увеличить указанный показатель на 12,9%."
      ]
    },
    {
      "cell_type": "markdown",
      "id": "1af5b936",
      "metadata": {
        "id": "1af5b936"
      },
      "source": [
        "# Выводы"
      ]
    },
    {
      "cell_type": "markdown",
      "id": "f749a795",
      "metadata": {
        "id": "f749a795"
      },
      "source": [
        "В результате выполненной работы получены данные о поведении клиентов тарифов «Смарт» и «Ультра», изучена их структура и проведено разделение на обучающую, валидационную и тестовую выборки.\n",
        "\n",
        "Лучшее значения показателя достоверности (accuracy) на валидационной выборке составило 81,8% и получено на модели случайного леса.\n",
        "\n",
        "Проверка указанной модели на тестовой выборке показала увеличение достоверности до уровня 82,2% что объясняется несбалансированностью исходных данных для обучения модели и удовлетворяет предъявленному требованию - 75%. \n",
        "\n",
        "Таким образом, полученная модель способна проанализировать поведение клиентов и предложить им новый тариф: «Смарт» или «Ультра».\n",
        "Эффективность модели заключается в увеличении на 12,9% вероятности успешного предложения тарифа по сравнению со случаем предложения тарифа \"Смарт\" всем пользователям без исключения."
      ]
    }
  ],
  "metadata": {
    "ExecuteTimeLog": [
      {
        "duration": 1801,
        "start_time": "2022-05-07T06:40:55.858Z"
      },
      {
        "duration": 142,
        "start_time": "2022-05-07T06:40:57.662Z"
      },
      {
        "duration": 27,
        "start_time": "2022-05-07T06:40:57.806Z"
      },
      {
        "duration": 17,
        "start_time": "2022-05-07T06:40:57.837Z"
      },
      {
        "duration": 41,
        "start_time": "2022-05-07T06:40:57.856Z"
      },
      {
        "duration": 9,
        "start_time": "2022-05-07T06:40:57.900Z"
      },
      {
        "duration": 16,
        "start_time": "2022-05-07T06:40:57.911Z"
      },
      {
        "duration": 12,
        "start_time": "2022-05-07T06:40:57.930Z"
      },
      {
        "duration": 9,
        "start_time": "2022-05-07T06:40:57.944Z"
      },
      {
        "duration": 8,
        "start_time": "2022-05-07T06:40:57.957Z"
      },
      {
        "duration": 30,
        "start_time": "2022-05-07T06:40:57.967Z"
      },
      {
        "duration": 9,
        "start_time": "2022-05-07T06:40:57.999Z"
      },
      {
        "duration": 15,
        "start_time": "2022-05-07T06:40:58.010Z"
      },
      {
        "duration": 8,
        "start_time": "2022-05-07T06:40:58.027Z"
      },
      {
        "duration": 6038,
        "start_time": "2022-05-07T06:40:58.037Z"
      },
      {
        "duration": 23,
        "start_time": "2022-05-07T06:41:04.077Z"
      }
    ],
    "kernelspec": {
      "display_name": "Python 3 (ipykernel)",
      "language": "python",
      "name": "python3"
    },
    "language_info": {
      "codemirror_mode": {
        "name": "ipython",
        "version": 3
      },
      "file_extension": ".py",
      "mimetype": "text/x-python",
      "name": "python",
      "nbconvert_exporter": "python",
      "pygments_lexer": "ipython3",
      "version": "3.7.8"
    },
    "toc": {
      "base_numbering": 1,
      "nav_menu": {},
      "number_sections": true,
      "sideBar": true,
      "skip_h1_title": false,
      "title_cell": "Table of Contents",
      "title_sidebar": "Contents",
      "toc_cell": false,
      "toc_position": {
        "height": "calc(100% - 180px)",
        "left": "10px",
        "top": "150px",
        "width": "307.2px"
      },
      "toc_section_display": true,
      "toc_window_display": true
    },
    "colab": {
      "name": "deli_proj_pract_06_megaline_tarif_v2_0.ipynb",
      "provenance": [],
      "collapsed_sections": [],
      "toc_visible": true,
      "include_colab_link": true
    }
  },
  "nbformat": 4,
  "nbformat_minor": 5
}