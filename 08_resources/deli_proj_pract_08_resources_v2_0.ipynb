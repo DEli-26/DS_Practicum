{
  "cells": [
    {
      "cell_type": "markdown",
      "metadata": {
        "id": "view-in-github",
        "colab_type": "text"
      },
      "source": [
        "<a href=\"https://colab.research.google.com/github/DEli-26/DS_Practicum/blob/main/08_resources/deli_proj_pract_08_resources_v2_0.ipynb\" target=\"_parent\"><img src=\"https://colab.research.google.com/assets/colab-badge.svg\" alt=\"Open In Colab\"/></a>"
      ]
    },
    {
      "cell_type": "markdown",
      "id": "03342cbe",
      "metadata": {
        "id": "03342cbe"
      },
      "source": [
        "<font size=6><b>**Я.Практикум. Проект №8**</b></font>\n",
        "    \n",
        "<font size=6><b>**Выбор локации для скважины**</b></font>\n",
        "\n",
        "***"
      ]
    },
    {
      "cell_type": "markdown",
      "id": "ed155b38",
      "metadata": {
        "id": "ed155b38"
      },
      "source": [
        "# Постановка задачи\n",
        "**Заказчик:** \n",
        "Добывающая компания «ГлавРосГосНефть».\n",
        "\n",
        "**Цель:** \n",
        "Провести расчет прибыли и определить наиболее подходящую локацию для новой скважины.\n",
        "\n",
        "**Задачи:** \n",
        "1. провести EDA;\n",
        "1. построить три модели для каждого региона, определяющие в каком из них добыча принесет наибольшую прибыль;\n",
        "1. выбрать скважины с самыми высокими значениями оценок;\n",
        "1. определить возможную прибыль и риски техникой Bootstrap.\n",
        "\n",
        "**Исходные данные:** \n",
        "Пробы нефти в трёх регионах и характеристики для каждой скважины в регионе. \n",
        "Для обучения модели подходит только линейная регрессия (остальные — недостаточно предсказуемые).\n",
        "При разведке региона исследуют 500 точек, из которых с помощью машинного обучения выбирают 200 лучших для разработки.\n",
        "Бюджет на разработку скважин в регионе — 10 млрд рублей.\n",
        "При нынешних ценах один баррель сырья приносит 450 рублей дохода. \n",
        "Доход с каждой единицы продукта составляет 450 тыс. рублей, поскольку объём указан в тысячах баррелей.\n",
        "После оценки рисков нужно оставить лишь те регионы, в которых вероятность убытков меньше 2.5%. \n",
        "Среди них выбирают регион с наибольшей средней прибылью.\n",
        "Данные синтетические: детали контрактов и характеристики месторождений не разглашаются."
      ]
    },
    {
      "cell_type": "markdown",
      "id": "8d4a3011",
      "metadata": {
        "id": "8d4a3011"
      },
      "source": [
        "# Exploratory Data Analysis"
      ]
    },
    {
      "cell_type": "markdown",
      "id": "5c76d774",
      "metadata": {
        "id": "5c76d774"
      },
      "source": [
        "## Подготовка окружения"
      ]
    },
    {
      "cell_type": "markdown",
      "id": "797d3482",
      "metadata": {
        "id": "797d3482"
      },
      "source": [
        "Загрузим библиотеки, необходимые для выполнения проекта"
      ]
    },
    {
      "cell_type": "code",
      "execution_count": 1,
      "id": "0f859a91",
      "metadata": {
        "colab": {
          "base_uri": "https://localhost:8080/"
        },
        "id": "0f859a91",
        "outputId": "a82fd0a5-26a3-4b73-8417-4962c8ca221d"
      },
      "outputs": [
        {
          "output_type": "stream",
          "name": "stdout",
          "text": [
            "Looking in indexes: https://pypi.org/simple, https://us-python.pkg.dev/colab-wheels/public/simple/\n",
            "Collecting phik\n",
            "  Downloading phik-0.12.2-cp37-cp37m-manylinux_2_17_x86_64.manylinux2014_x86_64.whl (690 kB)\n",
            "\u001b[K     |████████████████████████████████| 690 kB 8.5 MB/s \n",
            "\u001b[?25hRequirement already satisfied: matplotlib>=2.2.3 in /usr/local/lib/python3.7/dist-packages (from phik) (3.2.2)\n",
            "Requirement already satisfied: numpy>=1.18.0 in /usr/local/lib/python3.7/dist-packages (from phik) (1.21.6)\n",
            "Requirement already satisfied: joblib>=0.14.1 in /usr/local/lib/python3.7/dist-packages (from phik) (1.1.0)\n",
            "Requirement already satisfied: scipy>=1.5.2 in /usr/local/lib/python3.7/dist-packages (from phik) (1.7.3)\n",
            "Requirement already satisfied: pandas>=0.25.1 in /usr/local/lib/python3.7/dist-packages (from phik) (1.3.5)\n",
            "Requirement already satisfied: python-dateutil>=2.1 in /usr/local/lib/python3.7/dist-packages (from matplotlib>=2.2.3->phik) (2.8.2)\n",
            "Requirement already satisfied: kiwisolver>=1.0.1 in /usr/local/lib/python3.7/dist-packages (from matplotlib>=2.2.3->phik) (1.4.4)\n",
            "Requirement already satisfied: cycler>=0.10 in /usr/local/lib/python3.7/dist-packages (from matplotlib>=2.2.3->phik) (0.11.0)\n",
            "Requirement already satisfied: pyparsing!=2.0.4,!=2.1.2,!=2.1.6,>=2.0.1 in /usr/local/lib/python3.7/dist-packages (from matplotlib>=2.2.3->phik) (3.0.9)\n",
            "Requirement already satisfied: typing-extensions in /usr/local/lib/python3.7/dist-packages (from kiwisolver>=1.0.1->matplotlib>=2.2.3->phik) (4.1.1)\n",
            "Requirement already satisfied: pytz>=2017.3 in /usr/local/lib/python3.7/dist-packages (from pandas>=0.25.1->phik) (2022.2.1)\n",
            "Requirement already satisfied: six>=1.5 in /usr/local/lib/python3.7/dist-packages (from python-dateutil>=2.1->matplotlib>=2.2.3->phik) (1.15.0)\n",
            "Installing collected packages: phik\n",
            "Successfully installed phik-0.12.2\n"
          ]
        }
      ],
      "source": [
        "import pandas as pd\n",
        "import numpy as np\n",
        "import matplotlib.pyplot as plt\n",
        "import seaborn as sns\n",
        "from sklearn.model_selection import train_test_split\n",
        "from sklearn.metrics import mean_squared_error\n",
        "from sklearn.preprocessing import MinMaxScaler\n",
        "from sklearn.linear_model import LinearRegression\n",
        "\n",
        "try:\n",
        "    import phik\n",
        "except: \n",
        "    ! pip install phik\n",
        "    import phik\n",
        "\n",
        "# Темная тема графиков\n",
        "plt.style.use('dark_background')"
      ]
    },
    {
      "cell_type": "markdown",
      "id": "079024e1",
      "metadata": {
        "id": "079024e1"
      },
      "source": [
        "## Загрузка данных"
      ]
    },
    {
      "cell_type": "markdown",
      "id": "26675001",
      "metadata": {
        "id": "26675001"
      },
      "source": [
        "Загрузим сами данные."
      ]
    },
    {
      "cell_type": "code",
      "source": [
        "! gdown --id XXX ",  
        "! gdown --id XXX ",  
        "! gdown --id XXX "
      ],
      "metadata": {
        "colab": {
          "base_uri": "https://localhost:8080/"
        },
        "id": "0KvPmJXnTUXS",
        "outputId": "9b50122e-9056-444e-fd14-d139a4f7c8c5"
      },
      "id": "0KvPmJXnTUXS",
      "execution_count": 2,
      "outputs": [
        {
          "output_type": "stream",
          "name": "stdout",
          "text": [
            "/usr/local/lib/python3.7/dist-packages/gdown/cli.py:131: FutureWarning: Option `--id` was deprecated in version 4.3.1 and will be removed in 5.0. You don't need to pass it anymore to use a file ID.\n",
            "  category=FutureWarning,\n",
            "Downloading...\n",
            "From: https://drive.google.com/uc?id=XXX\n",
            "To: /content/geo_data_0.csv\n",
            "100% 8.21M/8.21M [00:00<00:00, 35.5MB/s]\n",
            "/usr/local/lib/python3.7/dist-packages/gdown/cli.py:131: FutureWarning: Option `--id` was deprecated in version 4.3.1 and will be removed in 5.0. You don't need to pass it anymore to use a file ID.\n",
            "  category=FutureWarning,\n",
            "Downloading...\n",
            "From: https://drive.google.com/uc?id=XXX\n",
            "To: /content/geo_data_1.csv\n",
            "100% 8.03M/8.03M [00:00<00:00, 68.2MB/s]\n",
            "/usr/local/lib/python3.7/dist-packages/gdown/cli.py:131: FutureWarning: Option `--id` was deprecated in version 4.3.1 and will be removed in 5.0. You don't need to pass it anymore to use a file ID.\n",
            "  category=FutureWarning,\n",
            "Downloading...\n",
            "From: https://drive.google.com/uc?id=XXX\n",
            "To: /content/geo_data_2.csv\n",
            "100% 8.19M/8.19M [00:00<00:00, 88.1MB/s]\n"
          ]
        }
      ]
    },
    {
      "cell_type": "code",
      "execution_count": 3,
      "id": "0c57164c",
      "metadata": {
        "id": "0c57164c"
      },
      "outputs": [],
      "source": [
        "df_0 = pd.read_csv('/content/geo_data_0.csv')\n",
        "df_1 = pd.read_csv('/content/geo_data_1.csv')\n",
        "df_2 = pd.read_csv('/content/geo_data_2.csv')"
      ]
    },
    {
      "cell_type": "markdown",
      "id": "adde4088",
      "metadata": {
        "id": "adde4088"
      },
      "source": [
        "Вызовем первые 5 строк и общую информацию о таблицах."
      ]
    },
    {
      "cell_type": "code",
      "execution_count": 4,
      "id": "c37c7c44",
      "metadata": {
        "colab": {
          "base_uri": "https://localhost:8080/",
          "height": 206
        },
        "id": "c37c7c44",
        "outputId": "a62c6e0e-f4b6-4d88-f2e1-a919787206e2"
      },
      "outputs": [
        {
          "output_type": "execute_result",
          "data": {
            "text/plain": [
              "      id        f0        f1        f2     product\n",
              "0  txEyH  0.705745 -0.497823  1.221170  105.280062\n",
              "1  2acmU  1.334711 -0.340164  4.365080   73.037750\n",
              "2  409Wp  1.022732  0.151990  1.419926   85.265647\n",
              "3  iJLyR -0.032172  0.139033  2.978566  168.620776\n",
              "4  Xdl7t  1.988431  0.155413  4.751769  154.036647"
            ],
            "text/html": [
              "\n",
              "  <div id=\"df-656061a1-0388-4be3-8b8b-8094c31758ae\">\n",
              "    <div class=\"colab-df-container\">\n",
              "      <div>\n",
              "<style scoped>\n",
              "    .dataframe tbody tr th:only-of-type {\n",
              "        vertical-align: middle;\n",
              "    }\n",
              "\n",
              "    .dataframe tbody tr th {\n",
              "        vertical-align: top;\n",
              "    }\n",
              "\n",
              "    .dataframe thead th {\n",
              "        text-align: right;\n",
              "    }\n",
              "</style>\n",
              "<table border=\"1\" class=\"dataframe\">\n",
              "  <thead>\n",
              "    <tr style=\"text-align: right;\">\n",
              "      <th></th>\n",
              "      <th>id</th>\n",
              "      <th>f0</th>\n",
              "      <th>f1</th>\n",
              "      <th>f2</th>\n",
              "      <th>product</th>\n",
              "    </tr>\n",
              "  </thead>\n",
              "  <tbody>\n",
              "    <tr>\n",
              "      <th>0</th>\n",
              "      <td>txEyH</td>\n",
              "      <td>0.705745</td>\n",
              "      <td>-0.497823</td>\n",
              "      <td>1.221170</td>\n",
              "      <td>105.280062</td>\n",
              "    </tr>\n",
              "    <tr>\n",
              "      <th>1</th>\n",
              "      <td>2acmU</td>\n",
              "      <td>1.334711</td>\n",
              "      <td>-0.340164</td>\n",
              "      <td>4.365080</td>\n",
              "      <td>73.037750</td>\n",
              "    </tr>\n",
              "    <tr>\n",
              "      <th>2</th>\n",
              "      <td>409Wp</td>\n",
              "      <td>1.022732</td>\n",
              "      <td>0.151990</td>\n",
              "      <td>1.419926</td>\n",
              "      <td>85.265647</td>\n",
              "    </tr>\n",
              "    <tr>\n",
              "      <th>3</th>\n",
              "      <td>iJLyR</td>\n",
              "      <td>-0.032172</td>\n",
              "      <td>0.139033</td>\n",
              "      <td>2.978566</td>\n",
              "      <td>168.620776</td>\n",
              "    </tr>\n",
              "    <tr>\n",
              "      <th>4</th>\n",
              "      <td>Xdl7t</td>\n",
              "      <td>1.988431</td>\n",
              "      <td>0.155413</td>\n",
              "      <td>4.751769</td>\n",
              "      <td>154.036647</td>\n",
              "    </tr>\n",
              "  </tbody>\n",
              "</table>\n",
              "</div>\n",
              "      <button class=\"colab-df-convert\" onclick=\"convertToInteractive('df-656061a1-0388-4be3-8b8b-8094c31758ae')\"\n",
              "              title=\"Convert this dataframe to an interactive table.\"\n",
              "              style=\"display:none;\">\n",
              "        \n",
              "  <svg xmlns=\"http://www.w3.org/2000/svg\" height=\"24px\"viewBox=\"0 0 24 24\"\n",
              "       width=\"24px\">\n",
              "    <path d=\"M0 0h24v24H0V0z\" fill=\"none\"/>\n",
              "    <path d=\"M18.56 5.44l.94 2.06.94-2.06 2.06-.94-2.06-.94-.94-2.06-.94 2.06-2.06.94zm-11 1L8.5 8.5l.94-2.06 2.06-.94-2.06-.94L8.5 2.5l-.94 2.06-2.06.94zm10 10l.94 2.06.94-2.06 2.06-.94-2.06-.94-.94-2.06-.94 2.06-2.06.94z\"/><path d=\"M17.41 7.96l-1.37-1.37c-.4-.4-.92-.59-1.43-.59-.52 0-1.04.2-1.43.59L10.3 9.45l-7.72 7.72c-.78.78-.78 2.05 0 2.83L4 21.41c.39.39.9.59 1.41.59.51 0 1.02-.2 1.41-.59l7.78-7.78 2.81-2.81c.8-.78.8-2.07 0-2.86zM5.41 20L4 18.59l7.72-7.72 1.47 1.35L5.41 20z\"/>\n",
              "  </svg>\n",
              "      </button>\n",
              "      \n",
              "  <style>\n",
              "    .colab-df-container {\n",
              "      display:flex;\n",
              "      flex-wrap:wrap;\n",
              "      gap: 12px;\n",
              "    }\n",
              "\n",
              "    .colab-df-convert {\n",
              "      background-color: #E8F0FE;\n",
              "      border: none;\n",
              "      border-radius: 50%;\n",
              "      cursor: pointer;\n",
              "      display: none;\n",
              "      fill: #1967D2;\n",
              "      height: 32px;\n",
              "      padding: 0 0 0 0;\n",
              "      width: 32px;\n",
              "    }\n",
              "\n",
              "    .colab-df-convert:hover {\n",
              "      background-color: #E2EBFA;\n",
              "      box-shadow: 0px 1px 2px rgba(60, 64, 67, 0.3), 0px 1px 3px 1px rgba(60, 64, 67, 0.15);\n",
              "      fill: #174EA6;\n",
              "    }\n",
              "\n",
              "    [theme=dark] .colab-df-convert {\n",
              "      background-color: #3B4455;\n",
              "      fill: #D2E3FC;\n",
              "    }\n",
              "\n",
              "    [theme=dark] .colab-df-convert:hover {\n",
              "      background-color: #434B5C;\n",
              "      box-shadow: 0px 1px 3px 1px rgba(0, 0, 0, 0.15);\n",
              "      filter: drop-shadow(0px 1px 2px rgba(0, 0, 0, 0.3));\n",
              "      fill: #FFFFFF;\n",
              "    }\n",
              "  </style>\n",
              "\n",
              "      <script>\n",
              "        const buttonEl =\n",
              "          document.querySelector('#df-656061a1-0388-4be3-8b8b-8094c31758ae button.colab-df-convert');\n",
              "        buttonEl.style.display =\n",
              "          google.colab.kernel.accessAllowed ? 'block' : 'none';\n",
              "\n",
              "        async function convertToInteractive(key) {\n",
              "          const element = document.querySelector('#df-656061a1-0388-4be3-8b8b-8094c31758ae');\n",
              "          const dataTable =\n",
              "            await google.colab.kernel.invokeFunction('convertToInteractive',\n",
              "                                                     [key], {});\n",
              "          if (!dataTable) return;\n",
              "\n",
              "          const docLinkHtml = 'Like what you see? Visit the ' +\n",
              "            '<a target=\"_blank\" href=https://colab.research.google.com/notebooks/data_table.ipynb>data table notebook</a>'\n",
              "            + ' to learn more about interactive tables.';\n",
              "          element.innerHTML = '';\n",
              "          dataTable['output_type'] = 'display_data';\n",
              "          await google.colab.output.renderOutput(dataTable, element);\n",
              "          const docLink = document.createElement('div');\n",
              "          docLink.innerHTML = docLinkHtml;\n",
              "          element.appendChild(docLink);\n",
              "        }\n",
              "      </script>\n",
              "    </div>\n",
              "  </div>\n",
              "  "
            ]
          },
          "metadata": {},
          "execution_count": 4
        }
      ],
      "source": [
        "df_0.head()"
      ]
    },
    {
      "cell_type": "code",
      "execution_count": 5,
      "id": "30c0d29b",
      "metadata": {
        "colab": {
          "base_uri": "https://localhost:8080/",
          "height": 206
        },
        "id": "30c0d29b",
        "outputId": "23d56cac-f857-4d13-bffd-4b8bbfbb5444"
      },
      "outputs": [
        {
          "output_type": "execute_result",
          "data": {
            "text/plain": [
              "      id         f0         f1        f2     product\n",
              "0  kBEdx -15.001348  -8.276000 -0.005876    3.179103\n",
              "1  62mP7  14.272088  -3.475083  0.999183   26.953261\n",
              "2  vyE1P   6.263187  -5.948386  5.001160  134.766305\n",
              "3  KcrkZ -13.081196 -11.506057  4.999415  137.945408\n",
              "4  AHL4O  12.702195  -8.147433  5.004363  134.766305"
            ],
            "text/html": [
              "\n",
              "  <div id=\"df-f90cf1f4-46cc-416f-922f-ddc7a0872ba1\">\n",
              "    <div class=\"colab-df-container\">\n",
              "      <div>\n",
              "<style scoped>\n",
              "    .dataframe tbody tr th:only-of-type {\n",
              "        vertical-align: middle;\n",
              "    }\n",
              "\n",
              "    .dataframe tbody tr th {\n",
              "        vertical-align: top;\n",
              "    }\n",
              "\n",
              "    .dataframe thead th {\n",
              "        text-align: right;\n",
              "    }\n",
              "</style>\n",
              "<table border=\"1\" class=\"dataframe\">\n",
              "  <thead>\n",
              "    <tr style=\"text-align: right;\">\n",
              "      <th></th>\n",
              "      <th>id</th>\n",
              "      <th>f0</th>\n",
              "      <th>f1</th>\n",
              "      <th>f2</th>\n",
              "      <th>product</th>\n",
              "    </tr>\n",
              "  </thead>\n",
              "  <tbody>\n",
              "    <tr>\n",
              "      <th>0</th>\n",
              "      <td>kBEdx</td>\n",
              "      <td>-15.001348</td>\n",
              "      <td>-8.276000</td>\n",
              "      <td>-0.005876</td>\n",
              "      <td>3.179103</td>\n",
              "    </tr>\n",
              "    <tr>\n",
              "      <th>1</th>\n",
              "      <td>62mP7</td>\n",
              "      <td>14.272088</td>\n",
              "      <td>-3.475083</td>\n",
              "      <td>0.999183</td>\n",
              "      <td>26.953261</td>\n",
              "    </tr>\n",
              "    <tr>\n",
              "      <th>2</th>\n",
              "      <td>vyE1P</td>\n",
              "      <td>6.263187</td>\n",
              "      <td>-5.948386</td>\n",
              "      <td>5.001160</td>\n",
              "      <td>134.766305</td>\n",
              "    </tr>\n",
              "    <tr>\n",
              "      <th>3</th>\n",
              "      <td>KcrkZ</td>\n",
              "      <td>-13.081196</td>\n",
              "      <td>-11.506057</td>\n",
              "      <td>4.999415</td>\n",
              "      <td>137.945408</td>\n",
              "    </tr>\n",
              "    <tr>\n",
              "      <th>4</th>\n",
              "      <td>AHL4O</td>\n",
              "      <td>12.702195</td>\n",
              "      <td>-8.147433</td>\n",
              "      <td>5.004363</td>\n",
              "      <td>134.766305</td>\n",
              "    </tr>\n",
              "  </tbody>\n",
              "</table>\n",
              "</div>\n",
              "      <button class=\"colab-df-convert\" onclick=\"convertToInteractive('df-f90cf1f4-46cc-416f-922f-ddc7a0872ba1')\"\n",
              "              title=\"Convert this dataframe to an interactive table.\"\n",
              "              style=\"display:none;\">\n",
              "        \n",
              "  <svg xmlns=\"http://www.w3.org/2000/svg\" height=\"24px\"viewBox=\"0 0 24 24\"\n",
              "       width=\"24px\">\n",
              "    <path d=\"M0 0h24v24H0V0z\" fill=\"none\"/>\n",
              "    <path d=\"M18.56 5.44l.94 2.06.94-2.06 2.06-.94-2.06-.94-.94-2.06-.94 2.06-2.06.94zm-11 1L8.5 8.5l.94-2.06 2.06-.94-2.06-.94L8.5 2.5l-.94 2.06-2.06.94zm10 10l.94 2.06.94-2.06 2.06-.94-2.06-.94-.94-2.06-.94 2.06-2.06.94z\"/><path d=\"M17.41 7.96l-1.37-1.37c-.4-.4-.92-.59-1.43-.59-.52 0-1.04.2-1.43.59L10.3 9.45l-7.72 7.72c-.78.78-.78 2.05 0 2.83L4 21.41c.39.39.9.59 1.41.59.51 0 1.02-.2 1.41-.59l7.78-7.78 2.81-2.81c.8-.78.8-2.07 0-2.86zM5.41 20L4 18.59l7.72-7.72 1.47 1.35L5.41 20z\"/>\n",
              "  </svg>\n",
              "      </button>\n",
              "      \n",
              "  <style>\n",
              "    .colab-df-container {\n",
              "      display:flex;\n",
              "      flex-wrap:wrap;\n",
              "      gap: 12px;\n",
              "    }\n",
              "\n",
              "    .colab-df-convert {\n",
              "      background-color: #E8F0FE;\n",
              "      border: none;\n",
              "      border-radius: 50%;\n",
              "      cursor: pointer;\n",
              "      display: none;\n",
              "      fill: #1967D2;\n",
              "      height: 32px;\n",
              "      padding: 0 0 0 0;\n",
              "      width: 32px;\n",
              "    }\n",
              "\n",
              "    .colab-df-convert:hover {\n",
              "      background-color: #E2EBFA;\n",
              "      box-shadow: 0px 1px 2px rgba(60, 64, 67, 0.3), 0px 1px 3px 1px rgba(60, 64, 67, 0.15);\n",
              "      fill: #174EA6;\n",
              "    }\n",
              "\n",
              "    [theme=dark] .colab-df-convert {\n",
              "      background-color: #3B4455;\n",
              "      fill: #D2E3FC;\n",
              "    }\n",
              "\n",
              "    [theme=dark] .colab-df-convert:hover {\n",
              "      background-color: #434B5C;\n",
              "      box-shadow: 0px 1px 3px 1px rgba(0, 0, 0, 0.15);\n",
              "      filter: drop-shadow(0px 1px 2px rgba(0, 0, 0, 0.3));\n",
              "      fill: #FFFFFF;\n",
              "    }\n",
              "  </style>\n",
              "\n",
              "      <script>\n",
              "        const buttonEl =\n",
              "          document.querySelector('#df-f90cf1f4-46cc-416f-922f-ddc7a0872ba1 button.colab-df-convert');\n",
              "        buttonEl.style.display =\n",
              "          google.colab.kernel.accessAllowed ? 'block' : 'none';\n",
              "\n",
              "        async function convertToInteractive(key) {\n",
              "          const element = document.querySelector('#df-f90cf1f4-46cc-416f-922f-ddc7a0872ba1');\n",
              "          const dataTable =\n",
              "            await google.colab.kernel.invokeFunction('convertToInteractive',\n",
              "                                                     [key], {});\n",
              "          if (!dataTable) return;\n",
              "\n",
              "          const docLinkHtml = 'Like what you see? Visit the ' +\n",
              "            '<a target=\"_blank\" href=https://colab.research.google.com/notebooks/data_table.ipynb>data table notebook</a>'\n",
              "            + ' to learn more about interactive tables.';\n",
              "          element.innerHTML = '';\n",
              "          dataTable['output_type'] = 'display_data';\n",
              "          await google.colab.output.renderOutput(dataTable, element);\n",
              "          const docLink = document.createElement('div');\n",
              "          docLink.innerHTML = docLinkHtml;\n",
              "          element.appendChild(docLink);\n",
              "        }\n",
              "      </script>\n",
              "    </div>\n",
              "  </div>\n",
              "  "
            ]
          },
          "metadata": {},
          "execution_count": 5
        }
      ],
      "source": [
        "df_1.head()"
      ]
    },
    {
      "cell_type": "code",
      "execution_count": 6,
      "id": "be01b9e8",
      "metadata": {
        "colab": {
          "base_uri": "https://localhost:8080/",
          "height": 206
        },
        "id": "be01b9e8",
        "outputId": "531fb64c-7a21-4e0a-ae79-a2daa8effe52"
      },
      "outputs": [
        {
          "output_type": "execute_result",
          "data": {
            "text/plain": [
              "      id        f0        f1        f2     product\n",
              "0  fwXo0 -1.146987  0.963328 -0.828965   27.758673\n",
              "1  WJtFt  0.262778  0.269839 -2.530187   56.069697\n",
              "2  ovLUW  0.194587  0.289035 -5.586433   62.871910\n",
              "3  q6cA6  2.236060 -0.553760  0.930038  114.572842\n",
              "4  WPMUX -0.515993  1.716266  5.899011  149.600746"
            ],
            "text/html": [
              "\n",
              "  <div id=\"df-7508ff23-788b-4bfc-ad5c-ece76f618f84\">\n",
              "    <div class=\"colab-df-container\">\n",
              "      <div>\n",
              "<style scoped>\n",
              "    .dataframe tbody tr th:only-of-type {\n",
              "        vertical-align: middle;\n",
              "    }\n",
              "\n",
              "    .dataframe tbody tr th {\n",
              "        vertical-align: top;\n",
              "    }\n",
              "\n",
              "    .dataframe thead th {\n",
              "        text-align: right;\n",
              "    }\n",
              "</style>\n",
              "<table border=\"1\" class=\"dataframe\">\n",
              "  <thead>\n",
              "    <tr style=\"text-align: right;\">\n",
              "      <th></th>\n",
              "      <th>id</th>\n",
              "      <th>f0</th>\n",
              "      <th>f1</th>\n",
              "      <th>f2</th>\n",
              "      <th>product</th>\n",
              "    </tr>\n",
              "  </thead>\n",
              "  <tbody>\n",
              "    <tr>\n",
              "      <th>0</th>\n",
              "      <td>fwXo0</td>\n",
              "      <td>-1.146987</td>\n",
              "      <td>0.963328</td>\n",
              "      <td>-0.828965</td>\n",
              "      <td>27.758673</td>\n",
              "    </tr>\n",
              "    <tr>\n",
              "      <th>1</th>\n",
              "      <td>WJtFt</td>\n",
              "      <td>0.262778</td>\n",
              "      <td>0.269839</td>\n",
              "      <td>-2.530187</td>\n",
              "      <td>56.069697</td>\n",
              "    </tr>\n",
              "    <tr>\n",
              "      <th>2</th>\n",
              "      <td>ovLUW</td>\n",
              "      <td>0.194587</td>\n",
              "      <td>0.289035</td>\n",
              "      <td>-5.586433</td>\n",
              "      <td>62.871910</td>\n",
              "    </tr>\n",
              "    <tr>\n",
              "      <th>3</th>\n",
              "      <td>q6cA6</td>\n",
              "      <td>2.236060</td>\n",
              "      <td>-0.553760</td>\n",
              "      <td>0.930038</td>\n",
              "      <td>114.572842</td>\n",
              "    </tr>\n",
              "    <tr>\n",
              "      <th>4</th>\n",
              "      <td>WPMUX</td>\n",
              "      <td>-0.515993</td>\n",
              "      <td>1.716266</td>\n",
              "      <td>5.899011</td>\n",
              "      <td>149.600746</td>\n",
              "    </tr>\n",
              "  </tbody>\n",
              "</table>\n",
              "</div>\n",
              "      <button class=\"colab-df-convert\" onclick=\"convertToInteractive('df-7508ff23-788b-4bfc-ad5c-ece76f618f84')\"\n",
              "              title=\"Convert this dataframe to an interactive table.\"\n",
              "              style=\"display:none;\">\n",
              "        \n",
              "  <svg xmlns=\"http://www.w3.org/2000/svg\" height=\"24px\"viewBox=\"0 0 24 24\"\n",
              "       width=\"24px\">\n",
              "    <path d=\"M0 0h24v24H0V0z\" fill=\"none\"/>\n",
              "    <path d=\"M18.56 5.44l.94 2.06.94-2.06 2.06-.94-2.06-.94-.94-2.06-.94 2.06-2.06.94zm-11 1L8.5 8.5l.94-2.06 2.06-.94-2.06-.94L8.5 2.5l-.94 2.06-2.06.94zm10 10l.94 2.06.94-2.06 2.06-.94-2.06-.94-.94-2.06-.94 2.06-2.06.94z\"/><path d=\"M17.41 7.96l-1.37-1.37c-.4-.4-.92-.59-1.43-.59-.52 0-1.04.2-1.43.59L10.3 9.45l-7.72 7.72c-.78.78-.78 2.05 0 2.83L4 21.41c.39.39.9.59 1.41.59.51 0 1.02-.2 1.41-.59l7.78-7.78 2.81-2.81c.8-.78.8-2.07 0-2.86zM5.41 20L4 18.59l7.72-7.72 1.47 1.35L5.41 20z\"/>\n",
              "  </svg>\n",
              "      </button>\n",
              "      \n",
              "  <style>\n",
              "    .colab-df-container {\n",
              "      display:flex;\n",
              "      flex-wrap:wrap;\n",
              "      gap: 12px;\n",
              "    }\n",
              "\n",
              "    .colab-df-convert {\n",
              "      background-color: #E8F0FE;\n",
              "      border: none;\n",
              "      border-radius: 50%;\n",
              "      cursor: pointer;\n",
              "      display: none;\n",
              "      fill: #1967D2;\n",
              "      height: 32px;\n",
              "      padding: 0 0 0 0;\n",
              "      width: 32px;\n",
              "    }\n",
              "\n",
              "    .colab-df-convert:hover {\n",
              "      background-color: #E2EBFA;\n",
              "      box-shadow: 0px 1px 2px rgba(60, 64, 67, 0.3), 0px 1px 3px 1px rgba(60, 64, 67, 0.15);\n",
              "      fill: #174EA6;\n",
              "    }\n",
              "\n",
              "    [theme=dark] .colab-df-convert {\n",
              "      background-color: #3B4455;\n",
              "      fill: #D2E3FC;\n",
              "    }\n",
              "\n",
              "    [theme=dark] .colab-df-convert:hover {\n",
              "      background-color: #434B5C;\n",
              "      box-shadow: 0px 1px 3px 1px rgba(0, 0, 0, 0.15);\n",
              "      filter: drop-shadow(0px 1px 2px rgba(0, 0, 0, 0.3));\n",
              "      fill: #FFFFFF;\n",
              "    }\n",
              "  </style>\n",
              "\n",
              "      <script>\n",
              "        const buttonEl =\n",
              "          document.querySelector('#df-7508ff23-788b-4bfc-ad5c-ece76f618f84 button.colab-df-convert');\n",
              "        buttonEl.style.display =\n",
              "          google.colab.kernel.accessAllowed ? 'block' : 'none';\n",
              "\n",
              "        async function convertToInteractive(key) {\n",
              "          const element = document.querySelector('#df-7508ff23-788b-4bfc-ad5c-ece76f618f84');\n",
              "          const dataTable =\n",
              "            await google.colab.kernel.invokeFunction('convertToInteractive',\n",
              "                                                     [key], {});\n",
              "          if (!dataTable) return;\n",
              "\n",
              "          const docLinkHtml = 'Like what you see? Visit the ' +\n",
              "            '<a target=\"_blank\" href=https://colab.research.google.com/notebooks/data_table.ipynb>data table notebook</a>'\n",
              "            + ' to learn more about interactive tables.';\n",
              "          element.innerHTML = '';\n",
              "          dataTable['output_type'] = 'display_data';\n",
              "          await google.colab.output.renderOutput(dataTable, element);\n",
              "          const docLink = document.createElement('div');\n",
              "          docLink.innerHTML = docLinkHtml;\n",
              "          element.appendChild(docLink);\n",
              "        }\n",
              "      </script>\n",
              "    </div>\n",
              "  </div>\n",
              "  "
            ]
          },
          "metadata": {},
          "execution_count": 6
        }
      ],
      "source": [
        "df_2.head()"
      ]
    },
    {
      "cell_type": "code",
      "execution_count": 7,
      "id": "d41e9d1d",
      "metadata": {
        "colab": {
          "base_uri": "https://localhost:8080/"
        },
        "id": "d41e9d1d",
        "outputId": "99aca510-f53d-445f-ca6a-7d279125b4b2"
      },
      "outputs": [
        {
          "output_type": "stream",
          "name": "stdout",
          "text": [
            "<class 'pandas.core.frame.DataFrame'>\n",
            "RangeIndex: 100000 entries, 0 to 99999\n",
            "Data columns (total 5 columns):\n",
            " #   Column   Non-Null Count   Dtype  \n",
            "---  ------   --------------   -----  \n",
            " 0   id       100000 non-null  object \n",
            " 1   f0       100000 non-null  float64\n",
            " 2   f1       100000 non-null  float64\n",
            " 3   f2       100000 non-null  float64\n",
            " 4   product  100000 non-null  float64\n",
            "dtypes: float64(4), object(1)\n",
            "memory usage: 3.8+ MB\n"
          ]
        }
      ],
      "source": [
        "df_0.info()"
      ]
    },
    {
      "cell_type": "code",
      "execution_count": 8,
      "id": "eb5e6b08",
      "metadata": {
        "colab": {
          "base_uri": "https://localhost:8080/"
        },
        "id": "eb5e6b08",
        "outputId": "84aa3969-c9b9-40be-9ab7-9e5d0a80ba48"
      },
      "outputs": [
        {
          "output_type": "stream",
          "name": "stdout",
          "text": [
            "<class 'pandas.core.frame.DataFrame'>\n",
            "RangeIndex: 100000 entries, 0 to 99999\n",
            "Data columns (total 5 columns):\n",
            " #   Column   Non-Null Count   Dtype  \n",
            "---  ------   --------------   -----  \n",
            " 0   id       100000 non-null  object \n",
            " 1   f0       100000 non-null  float64\n",
            " 2   f1       100000 non-null  float64\n",
            " 3   f2       100000 non-null  float64\n",
            " 4   product  100000 non-null  float64\n",
            "dtypes: float64(4), object(1)\n",
            "memory usage: 3.8+ MB\n"
          ]
        }
      ],
      "source": [
        "df_1.info()"
      ]
    },
    {
      "cell_type": "code",
      "execution_count": 9,
      "id": "a57f9d40",
      "metadata": {
        "colab": {
          "base_uri": "https://localhost:8080/"
        },
        "id": "a57f9d40",
        "outputId": "8c1f7394-96a5-45e3-dec8-e61803b46cd4"
      },
      "outputs": [
        {
          "output_type": "stream",
          "name": "stdout",
          "text": [
            "<class 'pandas.core.frame.DataFrame'>\n",
            "RangeIndex: 100000 entries, 0 to 99999\n",
            "Data columns (total 5 columns):\n",
            " #   Column   Non-Null Count   Dtype  \n",
            "---  ------   --------------   -----  \n",
            " 0   id       100000 non-null  object \n",
            " 1   f0       100000 non-null  float64\n",
            " 2   f1       100000 non-null  float64\n",
            " 3   f2       100000 non-null  float64\n",
            " 4   product  100000 non-null  float64\n",
            "dtypes: float64(4), object(1)\n",
            "memory usage: 3.8+ MB\n"
          ]
        }
      ],
      "source": [
        "df_2.info()"
      ]
    },
    {
      "cell_type": "markdown",
      "id": "6aebe457",
      "metadata": {
        "id": "6aebe457"
      },
      "source": [
        "В загруженных данных содержаться следующие столбцы:\n",
        "\n",
        "* id — уникальный идентификатор скважины;\n",
        "* f0, f1, f2 — три признака точек (неважно, что они означают, но сами признаки значимы);\n",
        "* product — объём запасов в скважине (тыс. баррелей).\n",
        "\n",
        "В каждой таблице содержаться по 100 000 объектов."
      ]
    },
    {
      "cell_type": "markdown",
      "id": "0eec6163",
      "metadata": {
        "id": "0eec6163"
      },
      "source": [
        "Проверим наличие полных дубликатов в таблицах."
      ]
    },
    {
      "cell_type": "code",
      "execution_count": 10,
      "id": "fc4db4d9",
      "metadata": {
        "colab": {
          "base_uri": "https://localhost:8080/"
        },
        "id": "fc4db4d9",
        "outputId": "acc30986-a428-45ce-9cc4-4585b24119e1"
      },
      "outputs": [
        {
          "output_type": "execute_result",
          "data": {
            "text/plain": [
              "(0, 0, 0)"
            ]
          },
          "metadata": {},
          "execution_count": 10
        }
      ],
      "source": [
        "df_0.duplicated().sum(), df_1.duplicated().sum(), df_2.duplicated().sum()"
      ]
    },
    {
      "cell_type": "markdown",
      "id": "d88a57cb",
      "metadata": {
        "id": "d88a57cb"
      },
      "source": [
        "Полные дубликаты отсутствуют.\n",
        "\n",
        "Cтолбец 'id' не пригодится для решения поставленных задач, а значит, его можно удалить"
      ]
    },
    {
      "cell_type": "code",
      "execution_count": 11,
      "id": "49338cde",
      "metadata": {
        "id": "49338cde"
      },
      "outputs": [],
      "source": [
        "df_0 = df_0.drop(columns=['id'])\n",
        "df_1 = df_1.drop(columns=['id'])\n",
        "df_2 = df_2.drop(columns=['id'])"
      ]
    },
    {
      "cell_type": "markdown",
      "id": "e90588d1",
      "metadata": {
        "id": "e90588d1"
      },
      "source": [
        "<div class=\"alert alert-success\">\n",
        "<b> ✔️ Комментарий ревьювера:</b> Данные загружены успешно! Хорошо что проверил наличие пропусков и дубликатов.\n",
        "\n",
        "</div>"
      ]
    },
    {
      "cell_type": "markdown",
      "id": "2fc8cdac",
      "metadata": {
        "id": "2fc8cdac"
      },
      "source": [
        "## Распределения значений в таблицах"
      ]
    },
    {
      "cell_type": "markdown",
      "id": "37649a6d",
      "metadata": {
        "id": "37649a6d"
      },
      "source": [
        "Построим гистограммы распределения значений в каждом столбце таблицы."
      ]
    },
    {
      "cell_type": "code",
      "execution_count": 12,
      "id": "26acc9cb",
      "metadata": {
        "id": "26acc9cb"
      },
      "outputs": [],
      "source": [
        "features = ['f0', 'f1', 'f2', 'product']\n",
        "def hists(df, n):\n",
        "    _, axs = plt.subplots(1, len(features), figsize=(24, 4))\n",
        "\n",
        "    for i in range(len(features)):\n",
        "        axs[i].hist(df[features[i]], bins=51)\n",
        "        axs[i].set_xlabel(f'Признак {features[i]}')\n",
        "        axs[i].set_ylabel(\"Количество значений\")\n",
        "        axs[i].grid(True)\n",
        "    plt.suptitle(f'Гистограммы распределения признаков в регионе №{n}')\n",
        "    plt.show()"
      ]
    },
    {
      "cell_type": "markdown",
      "id": "10099c54",
      "metadata": {
        "id": "10099c54"
      },
      "source": [
        "<div class=\"alert alert-success\">\n",
        "<b> ✔️ Комментарий ревьювера:</b> Здорово, что используешь функцию для вывода гистограмм, это уменьшает вероятность ошибки.\n",
        "</div>"
      ]
    },
    {
      "cell_type": "code",
      "execution_count": 13,
      "id": "c6e49372",
      "metadata": {
        "colab": {
          "base_uri": "https://localhost:8080/",
          "height": 842
        },
        "id": "c6e49372",
        "outputId": "48060aee-478c-4515-a40f-35576e77a8c4"
      },
      "outputs": [
        {
          "output_type": "display_data",
          "data": {
            "text/plain": [
              "<Figure size 1728x288 with 4 Axes>"
            ],
            "image/png": "[encoded data removed]"
          },
          "metadata": {}
        },
        {
          "output_type": "display_data",
          "data": {
            "text/plain": [
              "<Figure size 1728x288 with 4 Axes>"
            ],
            "image/png": "[encoded data removed]"
          },
          "metadata": {}
        },
        {
          "output_type": "display_data",
          "data": {
            "text/plain": [
              "<Figure size 1728x288 with 4 Axes>"
            ],
            "image/png": "[encoded data removed]"
          },
          "metadata": {}
        }
      ],
      "source": [
        "hists(df_0, 1)\n",
        "hists(df_1, 2)\n",
        "hists(df_2, 3)"
      ]
    },
    {
      "cell_type": "markdown",
      "id": "0d1a5e89",
      "metadata": {
        "id": "0d1a5e89"
      },
      "source": [
        "По построенным гистограммам хорошо видно, что рассматриваемые признаки имеют различные диапазоны значений от региона к региону.\n",
        "При этом, в регионе №3 распределения признаков ближе всех остальных к нормальным.\n",
        "Признаки 'f0' и 'f1' в регионе №1, а также признак 'f0' в регионе №2 имеют скопления у наиболее часто встречающихся значений. \n",
        "А признаки 'f2' и 'product' носят дискретный характер и распределены равномерно.\n",
        "Полученные распределения могут быть обусловлены, как инструментальными особенностями получения данных, так и различной физической природой признаков для каждого региона.\n",
        "\n",
        "Несмотря на полученные различия распределений признаков, целевой признак 'product' лежит в одном диапазоне значений.\n",
        "\n",
        "Учитывая, что диапазон значений каждого признака различный, а модель линейной регрессии чувствительна к ним, целесообразно выполнить нормировку при помощи метода 'MinMaxScaler'."
      ]
    },
    {
      "cell_type": "code",
      "execution_count": 14,
      "id": "1dd7cd17",
      "metadata": {
        "scrolled": true,
        "id": "1dd7cd17"
      },
      "outputs": [],
      "source": [
        "def scaler_mms(df):\n",
        "    scaler_mms = MinMaxScaler()\n",
        "    scaler_mms.fit(df[['f0', 'f1', 'f2']])\n",
        "    df[['f0', 'f1', 'f2']] = scaler_mms.transform(df[['f0', 'f1', 'f2']])"
      ]
    },
    {
      "cell_type": "code",
      "execution_count": 15,
      "id": "9930f8ab",
      "metadata": {
        "id": "9930f8ab"
      },
      "outputs": [],
      "source": [
        "scaler_mms(df_0)\n",
        "scaler_mms(df_1)\n",
        "scaler_mms(df_2)"
      ]
    },
    {
      "cell_type": "code",
      "execution_count": 16,
      "id": "9a1d0c3a",
      "metadata": {
        "scrolled": false,
        "colab": {
          "base_uri": "https://localhost:8080/",
          "height": 842
        },
        "id": "9a1d0c3a",
        "outputId": "50aa2fb4-6a23-4b18-ba15-f909926e8292"
      },
      "outputs": [
        {
          "output_type": "display_data",
          "data": {
            "text/plain": [
              "<Figure size 1728x288 with 4 Axes>"
            ],
            "image/png": "[encoded data removed]"
          },
          "metadata": {}
        },
        {
          "output_type": "display_data",
          "data": {
            "text/plain": [
              "<Figure size 1728x288 with 4 Axes>"
            ],
            "image/png": "[encoded data removed]"
          },
          "metadata": {}
        },
        {
          "output_type": "display_data",
          "data": {
            "text/plain": [
              "<Figure size 1728x288 with 4 Axes>"
            ],
            "image/png": "[encoded data removed]"
          },
          "metadata": {}
        }
      ],
      "source": [
        "hists(df_0, 1)\n",
        "hists(df_1, 2)\n",
        "hists(df_2, 3)"
      ]
    },
    {
      "cell_type": "markdown",
      "id": "322312b9",
      "metadata": {
        "id": "322312b9"
      },
      "source": [
        "По гистограммам видно, что нормировка выполнена успешно."
      ]
    },
    {
      "cell_type": "markdown",
      "id": "5a9d0dc0",
      "metadata": {
        "id": "5a9d0dc0"
      },
      "source": [
        "## Определение взаимосвязей признаков "
      ]
    },
    {
      "cell_type": "markdown",
      "id": "2163a45d",
      "metadata": {
        "id": "2163a45d"
      },
      "source": [
        "Определим наличие взаимосвязей между данными в разных столбцах. Для этого используем библиотеку phik, которая определяет нелинейные взаимосвязи."
      ]
    },
    {
      "cell_type": "code",
      "execution_count": 17,
      "id": "a4f0ec40",
      "metadata": {
        "colab": {
          "base_uri": "https://localhost:8080/",
          "height": 324
        },
        "id": "a4f0ec40",
        "outputId": "54b3aeef-5307-4239-d51f-82b58767698d"
      },
      "outputs": [
        {
          "output_type": "display_data",
          "data": {
            "text/plain": [
              "<Figure size 432x360 with 2 Axes>"
            ],
            "image/png": "[encoded data removed]"
          },
          "metadata": {}
        }
      ],
      "source": [
        "plt.figure(figsize=(6, 5))\n",
        "sns.heatmap(pd.concat([\n",
        "    df_0.phik_matrix(interval_cols=features, dropna=False)[['product']],\n",
        "    df_1.phik_matrix(interval_cols=features, dropna=False)[['product']],\n",
        "    df_2.phik_matrix(interval_cols=features, dropna=False)[['product']],\n",
        "],\n",
        "                      axis=1),\n",
        "            annot=True)\n",
        "plt.show()"
      ]
    },
    {
      "cell_type": "markdown",
      "id": "2c8c70ea",
      "metadata": {
        "id": "2c8c70ea"
      },
      "source": [
        "Для первого и третьего регионов взаимосвязи признаков практические не отличаются. \n",
        "Однако для второго региона коэффициент корреляции признака 'f2' и целевого признака 'product' равен 0,98, что означает их практически полное повторение. \n",
        "По всей видимости, это может быть вызвано обнаруженной ранее дискретностью величин.\n",
        "Использование признака 'f2' для построения модели не целесообразно, так как он содержит в себе ответы, что повлечет за собой переобучение.\n",
        "При сборе последующих данных такая взаимосвязь может быть нарушена, что повлечет за собой неверные предсказания модели."
      ]
    },
    {
      "cell_type": "markdown",
      "id": "57fc9aa2",
      "metadata": {
        "id": "57fc9aa2"
      },
      "source": [
        "## Заключение по EDA"
      ]
    },
    {
      "cell_type": "markdown",
      "id": "cfb632bd",
      "metadata": {
        "id": "cfb632bd"
      },
      "source": [
        "Загружены данные о пробах нефти в трех регионах - по одной таблице для каждого региона. \n",
        "В каждой таблице содержаться значения для 100 000 скважин.\n",
        "\n",
        "Распределение величин признаков для каждого региона уникальное. \n",
        "При этом наблюдается скопление у определенных значений и дискретность некоторых из них.\n",
        "Для каждого региона диапазон значений признаков так же уникальный. \n",
        "В этой связи, для повышения точности предсказания линейной регрессией, выполнено нормирование значений к диапазону [0, 1].\n",
        "\n",
        "Рассмотрены взаимосвязи признаков. \n",
        "Коэффициент корреляции признака 'f2' и целевого признака 'product' равен 0,98, что может вызвать переобучение при использовании модели линейной регрессии."
      ]
    },
    {
      "cell_type": "markdown",
      "id": "51ad5645",
      "metadata": {
        "id": "51ad5645"
      },
      "source": [
        "# Моделирование"
      ]
    },
    {
      "cell_type": "markdown",
      "id": "4662306a",
      "metadata": {
        "id": "4662306a"
      },
      "source": [
        "## Подготовка выборок"
      ]
    },
    {
      "cell_type": "markdown",
      "id": "7959677a",
      "metadata": {
        "id": "7959677a"
      },
      "source": [
        "Перед разбиением выборок сохраним признаки в отдельные переменные."
      ]
    },
    {
      "cell_type": "code",
      "execution_count": 18,
      "id": "8a4f6196",
      "metadata": {
        "id": "8a4f6196"
      },
      "outputs": [],
      "source": [
        "X = ['f0', 'f1', 'f2']\n",
        "y = ['product']"
      ]
    },
    {
      "cell_type": "markdown",
      "id": "e9bf5614",
      "metadata": {
        "id": "e9bf5614"
      },
      "source": [
        "Разобьем исходные таблицы на обучающие и валидационные выборки."
      ]
    },
    {
      "cell_type": "code",
      "execution_count": 19,
      "id": "a8e2004f",
      "metadata": {
        "id": "a8e2004f"
      },
      "outputs": [],
      "source": [
        "df_0_train, df_0_valid, df_1_train, df_1_valid, df_2_train, df_2_valid = train_test_split(\n",
        "    df_0, df_1, df_2, test_size=.25, random_state=26)"
      ]
    },
    {
      "cell_type": "markdown",
      "id": "1e42ad49",
      "metadata": {
        "id": "1e42ad49"
      },
      "source": [
        "Проверим результат разбиения анализом размеров таблиц."
      ]
    },
    {
      "cell_type": "code",
      "execution_count": 20,
      "id": "9e82ce22",
      "metadata": {
        "colab": {
          "base_uri": "https://localhost:8080/"
        },
        "id": "9e82ce22",
        "outputId": "04b84a8d-1abb-4128-c96a-74e23f51505c"
      },
      "outputs": [
        {
          "output_type": "execute_result",
          "data": {
            "text/plain": [
              "((100000, 4), (75000, 4), (25000, 4))"
            ]
          },
          "metadata": {},
          "execution_count": 20
        }
      ],
      "source": [
        "df_0.shape, df_0_train.shape, df_0_valid.shape"
      ]
    },
    {
      "cell_type": "markdown",
      "id": "5fce4327",
      "metadata": {
        "id": "5fce4327"
      },
      "source": [
        "Разбиение выполнено успешно."
      ]
    },
    {
      "cell_type": "markdown",
      "id": "0ac37c30",
      "metadata": {
        "id": "0ac37c30"
      },
      "source": [
        "## Обучение моделей"
      ]
    },
    {
      "cell_type": "markdown",
      "id": "a185103f",
      "metadata": {
        "id": "a185103f"
      },
      "source": [
        "Создадим функцию, которая обучает модели на тестовой выборке, предсказывает и возвращает значения по валидационной выборке, а также рассчитывает RMSE."
      ]
    },
    {
      "cell_type": "code",
      "execution_count": 21,
      "id": "40de2ea1",
      "metadata": {
        "id": "40de2ea1"
      },
      "outputs": [],
      "source": [
        "def modeling(df_train, df_valid, features, n):\n",
        "    model = LinearRegression()\n",
        "    model.fit(df_train[features], df_train[y])\n",
        "    predictions = model.predict(df_valid[features])\n",
        "    rmse = mean_squared_error(df_valid[y], predictions, squared=False)\n",
        "    print(f'Средний запас предсказанного сырья для региона №{n}: {round(predictions.mean(), 1)}; RMSE модели: {round(rmse, 1)}')\n",
        "    return predictions"
      ]
    },
    {
      "cell_type": "code",
      "execution_count": 22,
      "id": "ac1294cc",
      "metadata": {
        "colab": {
          "base_uri": "https://localhost:8080/"
        },
        "id": "ac1294cc",
        "outputId": "f53ed7d6-9b04-4563-a88b-d009575dde8c"
      },
      "outputs": [
        {
          "output_type": "stream",
          "name": "stdout",
          "text": [
            "Средний запас предсказанного сырья для региона №1: 92.4; RMSE модели: 37.8\n",
            "Средний запас предсказанного сырья для региона №2: 68.8; RMSE модели: 0.9\n",
            "Средний запас предсказанного сырья для региона №3: 94.8; RMSE модели: 40.3\n"
          ]
        }
      ],
      "source": [
        "df_0_valid['product_pred'] = modeling(df_0_train, df_0_valid, X, 1) \n",
        "df_1_valid['product_pred'] = modeling(df_1_train, df_1_valid, X, 2)\n",
        "df_2_valid['product_pred'] = modeling(df_2_train, df_2_valid, X, 3)"
      ]
    },
    {
      "cell_type": "markdown",
      "id": "3675ba23",
      "metadata": {
        "id": "3675ba23"
      },
      "source": [
        "В среднем, больше всего сырья в регионе №3. \n",
        "Наименьшее значение корня из среднеквадратической ошибки (RMSE) получено для 2го региона, что объясняется высоким коэффициентом корреляции, полученным ранее."
      ]
    },
    {
      "cell_type": "markdown",
      "id": "8714fb73",
      "metadata": {
        "id": "8714fb73"
      },
      "source": [
        "## Заключение по моделированию"
      ]
    },
    {
      "cell_type": "markdown",
      "id": "f8cd9ce2",
      "metadata": {
        "id": "f8cd9ce2"
      },
      "source": [
        "Исходные данные разделены на обучающие и валидационные выборки в пропорции 3:1 соответственно.\n",
        "Разработаны модели линейной регрессии для каждого региона и определен по ним запас сырья.\n",
        "\n",
        "Получено, что во втором регионе запасов меньше всего - в среднем 68,8 тыс. баррелей. \n",
        "При этом корень из среднеквадратической ошибки (RMSE) составляет 0,9 тыс. баррелей.\n",
        "Такой результат обусловлен высокой корреляцией признака 'f2' с целевым признаком.\n",
        "\n",
        "Средний запас предсказанного сырья для регионов №1 и №3 составляет 92,4 и 94,8 тыс. бареллей соответственно с RMSE 37,8 и 40,8 тыс. баррелей."
      ]
    },
    {
      "cell_type": "markdown",
      "id": "b2d8da62",
      "metadata": {
        "id": "b2d8da62"
      },
      "source": [
        "# Расчет прибыли"
      ]
    },
    {
      "cell_type": "markdown",
      "id": "3faccfbc",
      "metadata": {
        "id": "3faccfbc"
      },
      "source": [
        "## Подготовка данных"
      ]
    },
    {
      "cell_type": "markdown",
      "id": "4ddfb44b",
      "metadata": {
        "id": "4ddfb44b"
      },
      "source": [
        "Сохраним в отдельных переменных ключевые значения для расчётов."
      ]
    },
    {
      "cell_type": "code",
      "execution_count": 23,
      "id": "936d12a2",
      "metadata": {
        "id": "936d12a2"
      },
      "outputs": [],
      "source": [
        "COUNT_INVESTIGATED = 500  # количество исследуемых месторождений\n",
        "COUNT_BEST = 200          # количество разрабатываемых месторождений\n",
        "BUDGET = 10e9             # бюджет\n",
        "INCOME_PER_PROD = 450e3   # доход с одной тысячи баррелей продукта\n",
        "PROB_LOSS_MAX = 2.5       # допустимый процент вероятности убытков"
      ]
    },
    {
      "cell_type": "markdown",
      "id": "69e11a00",
      "metadata": {
        "id": "69e11a00"
      },
      "source": [
        "Рассчитаем достаточный объем продукта для безубыточной разработки новой скважины. "
      ]
    },
    {
      "cell_type": "code",
      "execution_count": 24,
      "id": "3732589c",
      "metadata": {
        "colab": {
          "base_uri": "https://localhost:8080/"
        },
        "id": "3732589c",
        "outputId": "49a8868b-4741-45c8-c56a-8e0f614d065d"
      },
      "outputs": [
        {
          "output_type": "execute_result",
          "data": {
            "text/plain": [
              "111.11111111111111"
            ]
          },
          "metadata": {},
          "execution_count": 24
        }
      ],
      "source": [
        "BUDGET / INCOME_PER_PROD / COUNT_BEST"
      ]
    },
    {
      "cell_type": "markdown",
      "id": "337addaa",
      "metadata": {
        "id": "337addaa"
      },
      "source": [
        "Полученное значение примерно на 15% больше среднего запаса предсказанного сырья для региона №3.\n",
        "Таким образом, риск получения убытка значителен.\n",
        "Для оценки его уровня рассчитаем максимальную прибыль и применим технику bootstrap. "
      ]
    },
    {
      "cell_type": "markdown",
      "id": "ec6ab800",
      "metadata": {
        "id": "ec6ab800"
      },
      "source": [
        "## Расчет максимальной прибыли"
      ]
    },
    {
      "cell_type": "markdown",
      "id": "493aa9c7",
      "metadata": {
        "id": "493aa9c7"
      },
      "source": [
        "Расчет максимальной прибыли выполним при помощи функции, которая выбирает 200 скважин с максимальными значениями предсказаний.\n",
        "Затем суммирует действительное значение объема сырья, соответствующее этим предсказаниям, и вычисляет саму прибыль (в млрд. руб.)."
      ]
    },
    {
      "cell_type": "code",
      "execution_count": 25,
      "id": "a280957f",
      "metadata": {
        "id": "a280957f"
      },
      "outputs": [],
      "source": [
        "def income_calc(df):\n",
        "    prod_pred_sum = df.sort_values(by=['product_pred'], ascending=False).head(count_best)['product'].sum()\n",
        "    income = income_per_prod * prod_pred_sum - budget\n",
        "    return income/1e9"
      ]
    },
    {
      "cell_type": "code",
      "execution_count": 26,
      "id": "7fb04747",
      "metadata": {
        "colab": {
          "base_uri": "https://localhost:8080/"
        },
        "id": "7fb04747",
        "outputId": "0aa5d7f2-6975-4a37-b624-02dd4db9c6f2"
      },
      "outputs": [
        {
          "output_type": "execute_result",
          "data": {
            "text/plain": [
              "(2.9936217007944586, 2.4150866966815108, 2.49966450993807)"
            ]
          },
          "metadata": {},
          "execution_count": 26
        }
      ],
      "source": [
        "income_calc(df_0_valid), income_calc(df_1_valid), income_calc(df_2_valid)"
      ]
    },
    {
      "cell_type": "markdown",
      "id": "0a50fc42",
      "metadata": {
        "id": "0a50fc42"
      },
      "source": [
        "Максимальная прибыль может быть получена для 1го региона и составляет почти 3 млрд. руб.\n",
        "Для региона №3 аналогичный показатель составляет 2,5 млрд. руб., а для региона №2 уже 2,1 млрд. руб.\n",
        "\n",
        "Следует отметить, что полученные значения соответствуют разработке скважин с максимальными запасами продукта.\n",
        "Однако такое событие крайне маловероятно.\n",
        "В связи с чем необходимо применить технику Bootstrap, которая, в соответствии с законом больших чисел, поможет определить диапазон реальной прибыли и количественно оценить риск получения убытков."
      ]
    },
    {
      "cell_type": "markdown",
      "id": "8f5350f2",
      "metadata": {
        "id": "8f5350f2"
      },
      "source": [
        "## Расчет рисков и прибыли для каждого региона"
      ]
    },
    {
      "cell_type": "markdown",
      "id": "6c5e5cb0",
      "metadata": {
        "id": "6c5e5cb0"
      },
      "source": [
        "Применим технику Bootstrap с 1000 выборок, чтобы найти среднюю прибыль, 95%-й доверительный интервал и риск убытков. Для этого создадим соответствующую функцию."
      ]
    },
    {
      "cell_type": "code",
      "execution_count": 27,
      "id": "92306ae9",
      "metadata": {
        "id": "92306ae9"
      },
      "outputs": [],
      "source": [
        "def bootstrep(df, n):\n",
        "    values = []\n",
        "    state = np.random.RandomState(26)\n",
        "    \n",
        "    for i in range(1000):\n",
        "        df_sample = df.sample(n=count_investigated, replace=True, random_state=state)\n",
        "        values.append(income_calc(df_sample))\n",
        "        \n",
        "    values = pd.Series(values)\n",
        "\n",
        "    income_mean = round(values.mean(), 2)\n",
        "    conf_interval = round(values.quantile(.025), 3), round(values.quantile(.975), 3)\n",
        "    prob_loss = round(values[values < 0].count() / len(values) * 100, 2)\n",
        "    plt.hist(values, bins=20)\n",
        "    plt.xlabel(xlabel='Прибыль, млрд. руб.')\n",
        "    plt.ylabel('Количество значений')\n",
        "    plt.title(f'Распределение прибыли для региона №{n}')\n",
        "    plt.show()\n",
        "    print(f'Средняя прибыль: {income_mean} млрд. руб., 95%-й интервал: {conf_interval} млрд. руб., а риск убытков: {prob_loss}%')\n",
        "    if prob_loss > prob_loss_max:\n",
        "        print('Риск убытков БОЛЬШЕ порогового значения!!!')"
      ]
    },
    {
      "cell_type": "code",
      "execution_count": 28,
      "id": "861f6237",
      "metadata": {
        "colab": {
          "base_uri": "https://localhost:8080/",
          "height": 942
        },
        "id": "861f6237",
        "outputId": "6930bd38-77d3-462b-c3d7-7eef499d0b4c"
      },
      "outputs": [
        {
          "output_type": "display_data",
          "data": {
            "text/plain": [
              "<Figure size 432x288 with 1 Axes>"
            ],
            "image/png": "[encoded data removed]"
          },
          "metadata": {}
        },
        {
          "output_type": "stream",
          "name": "stdout",
          "text": [
            "Средняя прибыль: 0.38 млрд. руб., 95%-й интервал: (-0.161, 0.897) млрд. руб., а риск убытков: 8.5%\n",
            "Риск убытков БОЛЬШЕ порогового значения!!!\n"
          ]
        },
        {
          "output_type": "display_data",
          "data": {
            "text/plain": [
              "<Figure size 432x288 with 1 Axes>"
            ],
            "image/png": "[encoded data removed]"
          },
          "metadata": {}
        },
        {
          "output_type": "stream",
          "name": "stdout",
          "text": [
            "Средняя прибыль: 0.43 млрд. руб., 95%-й интервал: (0.037, 0.812) млрд. руб., а риск убытков: 1.7%\n"
          ]
        },
        {
          "output_type": "display_data",
          "data": {
            "text/plain": [
              "<Figure size 432x288 with 1 Axes>"
            ],
            "image/png": "[encoded data removed]"
          },
          "metadata": {}
        },
        {
          "output_type": "stream",
          "name": "stdout",
          "text": [
            "Средняя прибыль: 0.34 млрд. руб., 95%-й интервал: (-0.193, 0.89) млрд. руб., а риск убытков: 10.6%\n",
            "Риск убытков БОЛЬШЕ порогового значения!!!\n"
          ]
        }
      ],
      "source": [
        "bootstrep(df_0_valid, 1)\n",
        "bootstrep(df_1_valid, 2)\n",
        "bootstrep(df_2_valid, 3)"
      ]
    },
    {
      "cell_type": "markdown",
      "id": "3a2ca080",
      "metadata": {
        "id": "3a2ca080"
      },
      "source": [
        "## Заключение по расчету прибыли\n"
      ]
    },
    {
      "cell_type": "markdown",
      "id": "4a850434",
      "metadata": {
        "id": "4a850434"
      },
      "source": [
        "Разработаны функции для расчета прибыли и рисков. \n",
        "\n",
        "Согласно произведенным расчетам получено, что для безубыточной разработки 200 скважин, их средний запас продукта должен быть не менее 111.1 тыс. баррелей. \n",
        "Учитывая, что средний запас продукта в регионе меньше указанного значения, это создает существенную вероятность для получения убытков.\n",
        "\n",
        "Для определения диапазона реальной прибыли и количественной оценки риска получения убытков применена техника Bootstrap.\n",
        "Полученные значения сведены в таблицу.\n",
        "\n",
        "|Параметр|Регион №1|Регион №2|Регион №3|\n",
        "|--------|---------|---------|---------|\n",
        "|Диапазон прибыли (95%), млрд. руб.|[-0,16, 0,9]|[0,04, 0,81]|[-0,19, 0,89]|\n",
        "|Средняя прибыль, млрд. руб.|0,38|0,43|0,34|\n",
        "|Риск убытков, %|8,5|1,7|10,6|\n",
        "\n",
        "Из представленных значений хорошо видно, что при разработке региона №2 прибыль, в среднем, имеет максимальное значение.\n",
        "В то же время, риск убытков в этом регионе минимальный.\n",
        "Такие результаты обусловлены точными предсказаниями модели линейной регрессии."
      ]
    },
    {
      "cell_type": "markdown",
      "id": "48fe2f13",
      "metadata": {
        "id": "48fe2f13"
      },
      "source": [
        "# Выводы\n",
        "В ходе выполненной работы рассмотрены данные о пробах нефти в трех регионах - по одной таблице для каждого региона. \n",
        "Исследованы распределение величин признаков для каждого региона и взаимосвязи признаков. \n",
        "Получен коэффициент корреляции признака 'f2' и целевого признака 'product', равный 0,98.\n",
        "\n",
        "Разработаны модели линейной регрессии для каждого региона и определен по ним запас сырья.\n",
        "Средний запас предсказанного сырья для регионов №1 и №3 составляет 92,4 и 94,8 тыс. баррелей соответственно.\n",
        "Во втором регионе запасов меньше всего - в среднем 68,8 тыс. баррелей. \n",
        "Однако для безубыточной разработки 200 скважин, их средний запас продукта должен быть не менее 111.1 тыс. баррелей.\n",
        "Таким образом, существенным является риск получения убытков.\n",
        "\n",
        "Для определения диапазона реальной прибыли и количественной оценки риска получения убытков применена техника Bootstrap на выборке из 1000 значений прибыли.\n",
        "Согласно проведенным расчетам, при разработке региона №2 прибыль, в среднем, имеет максимальное значение и составляет 0,43 млрд. руб.\n",
        "При этом 95%-й интервал прибыли лежит в диапазоне от 0,04 до 0,81 млрд. руб., а риск получения убытков не превосходит 1,7%. \n",
        "Для регионов №1 и №3, несмотря на большие запасы продукта, получены значения риска получения убытков 8,5% и 10,6% соответственно, что больше установленного порога в 2,5%\n",
        "\n",
        "Такие результаты обусловлены точными предсказаниями модели для региона №2, что проявляется в значении RMSE, равном 0,9 тыс. баррелей.\n",
        "Последний, в свою очередь, обусловлен высоким коэффициентом корреляции между признаками 'f2' и 'product'.\n",
        "\n",
        "Учитывая изложенное, наиболее перспективным регионом для разработки новых скважин является регион №2."
      ]
    },
    {
      "cell_type": "code",
      "source": [],
      "metadata": {
        "id": "BCT5amMyyKnf"
      },
      "id": "BCT5amMyyKnf",
      "execution_count": null,
      "outputs": []
    }
  ],
  "metadata": {
    "ExecuteTimeLog": [
      {
        "duration": 777,
        "start_time": "2022-06-03T09:59:09.332Z"
      },
      {
        "duration": 0,
        "start_time": "2022-06-03T09:59:10.111Z"
      },
      {
        "duration": 0,
        "start_time": "2022-06-03T09:59:10.113Z"
      },
      {
        "duration": 0,
        "start_time": "2022-06-03T09:59:10.114Z"
      },
      {
        "duration": 0,
        "start_time": "2022-06-03T09:59:10.115Z"
      },
      {
        "duration": 0,
        "start_time": "2022-06-03T09:59:10.117Z"
      },
      {
        "duration": 0,
        "start_time": "2022-06-03T09:59:10.126Z"
      },
      {
        "duration": 0,
        "start_time": "2022-06-03T09:59:10.128Z"
      },
      {
        "duration": 0,
        "start_time": "2022-06-03T09:59:10.129Z"
      },
      {
        "duration": 0,
        "start_time": "2022-06-03T09:59:10.130Z"
      },
      {
        "duration": 0,
        "start_time": "2022-06-03T09:59:10.131Z"
      },
      {
        "duration": 0,
        "start_time": "2022-06-03T09:59:10.133Z"
      },
      {
        "duration": 0,
        "start_time": "2022-06-03T09:59:10.134Z"
      },
      {
        "duration": 0,
        "start_time": "2022-06-03T09:59:10.135Z"
      },
      {
        "duration": 0,
        "start_time": "2022-06-03T09:59:10.136Z"
      },
      {
        "duration": 0,
        "start_time": "2022-06-03T09:59:10.138Z"
      },
      {
        "duration": 0,
        "start_time": "2022-06-03T09:59:10.139Z"
      },
      {
        "duration": 0,
        "start_time": "2022-06-03T09:59:10.140Z"
      },
      {
        "duration": 0,
        "start_time": "2022-06-03T09:59:10.142Z"
      },
      {
        "duration": 0,
        "start_time": "2022-06-03T09:59:10.143Z"
      },
      {
        "duration": 0,
        "start_time": "2022-06-03T09:59:10.145Z"
      },
      {
        "duration": 0,
        "start_time": "2022-06-03T09:59:10.146Z"
      },
      {
        "duration": 0,
        "start_time": "2022-06-03T09:59:10.148Z"
      },
      {
        "duration": 0,
        "start_time": "2022-06-03T09:59:10.149Z"
      },
      {
        "duration": 0,
        "start_time": "2022-06-03T09:59:10.150Z"
      },
      {
        "duration": 0,
        "start_time": "2022-06-03T09:59:10.150Z"
      },
      {
        "duration": 0,
        "start_time": "2022-06-03T09:59:10.151Z"
      },
      {
        "duration": 809,
        "start_time": "2022-06-03T10:10:31.553Z"
      },
      {
        "duration": 436,
        "start_time": "2022-06-03T10:10:32.365Z"
      },
      {
        "duration": 16,
        "start_time": "2022-06-03T10:10:32.804Z"
      },
      {
        "duration": 9,
        "start_time": "2022-06-03T10:10:32.827Z"
      },
      {
        "duration": 16,
        "start_time": "2022-06-03T10:10:32.838Z"
      },
      {
        "duration": 17,
        "start_time": "2022-06-03T10:10:32.943Z"
      },
      {
        "duration": 16,
        "start_time": "2022-06-03T10:10:33.119Z"
      },
      {
        "duration": 16,
        "start_time": "2022-06-03T10:10:33.352Z"
      },
      {
        "duration": 137,
        "start_time": "2022-06-03T10:10:33.816Z"
      },
      {
        "duration": 12,
        "start_time": "2022-06-03T10:10:34.119Z"
      },
      {
        "duration": 5,
        "start_time": "2022-06-03T10:10:34.600Z"
      },
      {
        "duration": 2359,
        "start_time": "2022-06-03T10:10:34.769Z"
      },
      {
        "duration": 3,
        "start_time": "2022-06-03T10:10:37.130Z"
      },
      {
        "duration": 44,
        "start_time": "2022-06-03T10:10:37.134Z"
      },
      {
        "duration": 2219,
        "start_time": "2022-06-03T10:10:37.180Z"
      },
      {
        "duration": 60,
        "start_time": "2022-06-03T10:10:39.401Z"
      },
      {
        "duration": 0,
        "start_time": "2022-06-03T10:10:39.462Z"
      },
      {
        "duration": 0,
        "start_time": "2022-06-03T10:10:39.463Z"
      },
      {
        "duration": 0,
        "start_time": "2022-06-03T10:10:39.464Z"
      },
      {
        "duration": 0,
        "start_time": "2022-06-03T10:10:39.465Z"
      },
      {
        "duration": 0,
        "start_time": "2022-06-03T10:10:39.466Z"
      },
      {
        "duration": 3,
        "start_time": "2022-06-03T10:10:40.256Z"
      },
      {
        "duration": 5,
        "start_time": "2022-06-03T10:10:40.575Z"
      },
      {
        "duration": 3,
        "start_time": "2022-06-03T10:10:41.256Z"
      },
      {
        "duration": 10,
        "start_time": "2022-06-03T10:10:41.415Z"
      },
      {
        "duration": 6,
        "start_time": "2022-06-03T10:10:42.080Z"
      },
      {
        "duration": 10,
        "start_time": "2022-06-03T10:10:42.248Z"
      },
      {
        "duration": 831,
        "start_time": "2022-06-03T13:01:45.082Z"
      },
      {
        "duration": 0,
        "start_time": "2022-06-03T13:01:45.916Z"
      },
      {
        "duration": 0,
        "start_time": "2022-06-03T13:01:45.917Z"
      },
      {
        "duration": 0,
        "start_time": "2022-06-03T13:01:45.918Z"
      },
      {
        "duration": 0,
        "start_time": "2022-06-03T13:01:45.926Z"
      },
      {
        "duration": 0,
        "start_time": "2022-06-03T13:01:45.927Z"
      },
      {
        "duration": 0,
        "start_time": "2022-06-03T13:01:45.928Z"
      },
      {
        "duration": 0,
        "start_time": "2022-06-03T13:01:45.929Z"
      },
      {
        "duration": 0,
        "start_time": "2022-06-03T13:01:45.930Z"
      },
      {
        "duration": 0,
        "start_time": "2022-06-03T13:01:45.931Z"
      },
      {
        "duration": 0,
        "start_time": "2022-06-03T13:01:45.932Z"
      },
      {
        "duration": 0,
        "start_time": "2022-06-03T13:01:45.933Z"
      },
      {
        "duration": 0,
        "start_time": "2022-06-03T13:01:45.934Z"
      },
      {
        "duration": 0,
        "start_time": "2022-06-03T13:01:45.935Z"
      },
      {
        "duration": 0,
        "start_time": "2022-06-03T13:01:45.936Z"
      },
      {
        "duration": 0,
        "start_time": "2022-06-03T13:01:45.937Z"
      },
      {
        "duration": 0,
        "start_time": "2022-06-03T13:01:45.938Z"
      },
      {
        "duration": 0,
        "start_time": "2022-06-03T13:01:45.939Z"
      },
      {
        "duration": 0,
        "start_time": "2022-06-03T13:01:45.940Z"
      },
      {
        "duration": 0,
        "start_time": "2022-06-03T13:01:45.941Z"
      },
      {
        "duration": 0,
        "start_time": "2022-06-03T13:01:45.942Z"
      },
      {
        "duration": 0,
        "start_time": "2022-06-03T13:01:45.943Z"
      },
      {
        "duration": 0,
        "start_time": "2022-06-03T13:01:45.944Z"
      },
      {
        "duration": 0,
        "start_time": "2022-06-03T13:01:45.945Z"
      },
      {
        "duration": 0,
        "start_time": "2022-06-03T13:01:45.946Z"
      },
      {
        "duration": 0,
        "start_time": "2022-06-03T13:01:45.947Z"
      },
      {
        "duration": 0,
        "start_time": "2022-06-03T13:01:45.948Z"
      },
      {
        "duration": 4,
        "start_time": "2022-06-03T13:02:39.054Z"
      },
      {
        "duration": 4,
        "start_time": "2022-06-03T13:02:43.499Z"
      },
      {
        "duration": 42,
        "start_time": "2022-06-03T13:02:50.143Z"
      },
      {
        "duration": 56,
        "start_time": "2022-06-03T13:03:44.389Z"
      },
      {
        "duration": 3616,
        "start_time": "2022-06-03T13:04:15.398Z"
      },
      {
        "duration": 3300,
        "start_time": "2022-06-03T13:07:51.665Z"
      },
      {
        "duration": 732,
        "start_time": "2022-06-03T13:07:54.967Z"
      },
      {
        "duration": 16,
        "start_time": "2022-06-03T13:07:55.701Z"
      },
      {
        "duration": 24,
        "start_time": "2022-06-03T13:07:55.720Z"
      },
      {
        "duration": 28,
        "start_time": "2022-06-03T13:07:55.746Z"
      },
      {
        "duration": 27,
        "start_time": "2022-06-03T13:07:55.775Z"
      },
      {
        "duration": 23,
        "start_time": "2022-06-03T13:07:55.804Z"
      },
      {
        "duration": 25,
        "start_time": "2022-06-03T13:07:55.828Z"
      },
      {
        "duration": 129,
        "start_time": "2022-06-03T13:07:55.854Z"
      },
      {
        "duration": 11,
        "start_time": "2022-06-03T13:07:55.986Z"
      },
      {
        "duration": 30,
        "start_time": "2022-06-03T13:07:55.999Z"
      },
      {
        "duration": 2967,
        "start_time": "2022-06-03T13:07:56.031Z"
      },
      {
        "duration": 3,
        "start_time": "2022-06-03T13:07:59.000Z"
      },
      {
        "duration": 45,
        "start_time": "2022-06-03T13:07:59.005Z"
      },
      {
        "duration": 2076,
        "start_time": "2022-06-03T13:07:59.051Z"
      },
      {
        "duration": 1170,
        "start_time": "2022-06-03T13:08:01.128Z"
      },
      {
        "duration": 3,
        "start_time": "2022-06-03T13:08:02.300Z"
      },
      {
        "duration": 36,
        "start_time": "2022-06-03T13:08:02.304Z"
      },
      {
        "duration": 4,
        "start_time": "2022-06-03T13:08:02.342Z"
      },
      {
        "duration": 7,
        "start_time": "2022-06-03T13:08:02.348Z"
      },
      {
        "duration": 383,
        "start_time": "2022-06-03T13:08:02.356Z"
      },
      {
        "duration": 87,
        "start_time": "2022-06-03T13:08:02.742Z"
      },
      {
        "duration": 124,
        "start_time": "2022-06-03T13:08:02.831Z"
      },
      {
        "duration": 40,
        "start_time": "2022-06-03T13:08:02.957Z"
      },
      {
        "duration": 51,
        "start_time": "2022-06-03T13:08:02.998Z"
      },
      {
        "duration": 19,
        "start_time": "2022-06-03T13:08:03.050Z"
      },
      {
        "duration": 2475,
        "start_time": "2022-06-03T13:08:03.070Z"
      },
      {
        "duration": 4646,
        "start_time": "2022-06-04T09:52:30.080Z"
      },
      {
        "duration": 410,
        "start_time": "2022-06-04T09:52:34.728Z"
      },
      {
        "duration": 16,
        "start_time": "2022-06-04T09:52:35.139Z"
      },
      {
        "duration": 14,
        "start_time": "2022-06-04T09:52:35.164Z"
      },
      {
        "duration": 18,
        "start_time": "2022-06-04T09:52:35.181Z"
      },
      {
        "duration": 16,
        "start_time": "2022-06-04T09:52:35.201Z"
      },
      {
        "duration": 12,
        "start_time": "2022-06-04T09:52:35.219Z"
      },
      {
        "duration": 48,
        "start_time": "2022-06-04T09:52:35.233Z"
      },
      {
        "duration": 133,
        "start_time": "2022-06-04T09:52:35.283Z"
      },
      {
        "duration": 10,
        "start_time": "2022-06-04T09:52:35.417Z"
      },
      {
        "duration": 11,
        "start_time": "2022-06-04T09:52:35.429Z"
      },
      {
        "duration": 2503,
        "start_time": "2022-06-04T09:52:35.442Z"
      },
      {
        "duration": 3,
        "start_time": "2022-06-04T09:52:37.947Z"
      },
      {
        "duration": 55,
        "start_time": "2022-06-04T09:52:37.953Z"
      },
      {
        "duration": 2498,
        "start_time": "2022-06-04T09:52:38.010Z"
      },
      {
        "duration": 1507,
        "start_time": "2022-06-04T09:52:40.510Z"
      },
      {
        "duration": 3,
        "start_time": "2022-06-04T09:52:42.018Z"
      },
      {
        "duration": 27,
        "start_time": "2022-06-04T09:52:42.022Z"
      },
      {
        "duration": 5,
        "start_time": "2022-06-04T09:52:42.051Z"
      },
      {
        "duration": 37,
        "start_time": "2022-06-04T09:52:42.058Z"
      },
      {
        "duration": 374,
        "start_time": "2022-06-04T09:52:42.097Z"
      },
      {
        "duration": 11,
        "start_time": "2022-06-04T09:52:42.474Z"
      },
      {
        "duration": 101,
        "start_time": "2022-06-04T09:52:42.488Z"
      },
      {
        "duration": 10,
        "start_time": "2022-06-04T09:52:42.591Z"
      },
      {
        "duration": 20,
        "start_time": "2022-06-04T09:52:42.602Z"
      },
      {
        "duration": 5,
        "start_time": "2022-06-04T09:52:42.623Z"
      },
      {
        "duration": 2871,
        "start_time": "2022-06-04T09:52:42.629Z"
      },
      {
        "duration": 6,
        "start_time": "2022-06-04T09:59:51.374Z"
      },
      {
        "duration": 3129,
        "start_time": "2022-06-04T09:59:52.694Z"
      },
      {
        "duration": 6,
        "start_time": "2022-06-04T10:00:06.123Z"
      },
      {
        "duration": 3573,
        "start_time": "2022-06-04T10:00:06.715Z"
      },
      {
        "duration": 5,
        "start_time": "2022-06-04T10:00:17.974Z"
      },
      {
        "duration": 2702,
        "start_time": "2022-06-04T10:00:18.528Z"
      },
      {
        "duration": 3696,
        "start_time": "2022-06-04T10:00:27.822Z"
      },
      {
        "duration": 427,
        "start_time": "2022-06-04T10:00:31.520Z"
      },
      {
        "duration": 18,
        "start_time": "2022-06-04T10:00:31.949Z"
      },
      {
        "duration": 17,
        "start_time": "2022-06-04T10:00:31.970Z"
      },
      {
        "duration": 16,
        "start_time": "2022-06-04T10:00:31.989Z"
      },
      {
        "duration": 38,
        "start_time": "2022-06-04T10:00:32.007Z"
      },
      {
        "duration": 21,
        "start_time": "2022-06-04T10:00:32.047Z"
      },
      {
        "duration": 14,
        "start_time": "2022-06-04T10:00:32.069Z"
      },
      {
        "duration": 147,
        "start_time": "2022-06-04T10:00:32.085Z"
      },
      {
        "duration": 12,
        "start_time": "2022-06-04T10:00:32.234Z"
      },
      {
        "duration": 26,
        "start_time": "2022-06-04T10:00:32.248Z"
      },
      {
        "duration": 2617,
        "start_time": "2022-06-04T10:00:32.275Z"
      },
      {
        "duration": 4,
        "start_time": "2022-06-04T10:00:34.894Z"
      },
      {
        "duration": 39,
        "start_time": "2022-06-04T10:00:34.899Z"
      },
      {
        "duration": 2247,
        "start_time": "2022-06-04T10:00:34.939Z"
      },
      {
        "duration": 1160,
        "start_time": "2022-06-04T10:00:37.188Z"
      },
      {
        "duration": 4,
        "start_time": "2022-06-04T10:00:38.350Z"
      },
      {
        "duration": 36,
        "start_time": "2022-06-04T10:00:38.356Z"
      },
      {
        "duration": 5,
        "start_time": "2022-06-04T10:00:38.393Z"
      },
      {
        "duration": 8,
        "start_time": "2022-06-04T10:00:38.400Z"
      },
      {
        "duration": 269,
        "start_time": "2022-06-04T10:00:38.410Z"
      },
      {
        "duration": 86,
        "start_time": "2022-06-04T10:00:38.681Z"
      },
      {
        "duration": 97,
        "start_time": "2022-06-04T10:00:38.772Z"
      },
      {
        "duration": 27,
        "start_time": "2022-06-04T10:00:38.871Z"
      },
      {
        "duration": 45,
        "start_time": "2022-06-04T10:00:38.901Z"
      },
      {
        "duration": 9,
        "start_time": "2022-06-04T10:00:38.948Z"
      },
      {
        "duration": 2786,
        "start_time": "2022-06-04T10:00:38.959Z"
      },
      {
        "duration": 6,
        "start_time": "2022-06-04T10:01:45.678Z"
      },
      {
        "duration": 2708,
        "start_time": "2022-06-04T10:01:46.570Z"
      },
      {
        "duration": 5,
        "start_time": "2022-06-04T10:03:39.738Z"
      },
      {
        "duration": 3446,
        "start_time": "2022-06-04T10:03:40.535Z"
      },
      {
        "duration": 5,
        "start_time": "2022-06-04T10:03:53.090Z"
      },
      {
        "duration": 3490,
        "start_time": "2022-06-04T10:03:53.574Z"
      },
      {
        "duration": 5,
        "start_time": "2022-06-04T10:04:10.882Z"
      },
      {
        "duration": 2620,
        "start_time": "2022-06-04T10:04:11.302Z"
      }
    ],
    "kernelspec": {
      "display_name": "Python 3 (ipykernel)",
      "language": "python",
      "name": "python3"
    },
    "language_info": {
      "codemirror_mode": {
        "name": "ipython",
        "version": 3
      },
      "file_extension": ".py",
      "mimetype": "text/x-python",
      "name": "python",
      "nbconvert_exporter": "python",
      "pygments_lexer": "ipython3",
      "version": "3.7.8"
    },
    "toc": {
      "base_numbering": 1,
      "nav_menu": {},
      "number_sections": true,
      "sideBar": true,
      "skip_h1_title": false,
      "title_cell": "Table of Contents",
      "title_sidebar": "Contents",
      "toc_cell": false,
      "toc_position": {
        "height": "calc(100% - 180px)",
        "left": "10px",
        "top": "150px",
        "width": "260.95px"
      },
      "toc_section_display": true,
      "toc_window_display": true
    },
    "colab": {
      "name": "deli_proj_pract_08_resources_v2_0.ipynb",
      "provenance": [],
      "collapsed_sections": [],
      "toc_visible": true,
      "include_colab_link": true
    }
  },
  "nbformat": 4,
  "nbformat_minor": 5
}
